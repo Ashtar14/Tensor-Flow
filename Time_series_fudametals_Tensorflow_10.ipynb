{
  "nbformat": 4,
  "nbformat_minor": 0,
  "metadata": {
    "colab": {
      "provenance": [],
      "collapsed_sections": [
        "H634IcQ37G0i",
        "i5t3eYVp7azj",
        "bsvgy2tw9ptE",
        "HjAC9T0KAvrU"
      ]
    },
    "kernelspec": {
      "name": "python3",
      "display_name": "Python 3"
    },
    "language_info": {
      "name": "python"
    },
    "accelerator": "GPU",
    "gpuClass": "standard"
  },
  "cells": [
    {
      "cell_type": "markdown",
      "source": [
        "# Time series forcasting with tensorflow + milestone project 3\n",
        "This isnt financial advice\n",
        "\n",
        "Lets write some tensorflow code to predict the price of bitcoin"
      ],
      "metadata": {
        "id": "Tyq-V_RIbkXk"
      }
    },
    {
      "cell_type": "markdown",
      "source": [
        "# Factors affecting time series prediction problems\n",
        "1. How well we understand the factors that contributes to it.\n",
        "2. How much data is available\n",
        "3. How much similar the future is to past\n",
        "4. wether the forcast can affect the thing we are trying to forcast"
      ],
      "metadata": {
        "id": "k2TobXVcWK41"
      }
    },
    {
      "cell_type": "code",
      "source": [
        "## Get the data\n",
        "!wget https://raw.githubusercontent.com/mrdbourke/tensorflow-deep-learning/main/extras/BTC_USD_2013-10-01_2021-05-18-CoinDesk.csv"
      ],
      "metadata": {
        "colab": {
          "base_uri": "https://localhost:8080/"
        },
        "id": "R4Z_qXHCcOdw",
        "outputId": "f10f88e6-91a9-4942-c100-682e98179895"
      },
      "execution_count": 1,
      "outputs": [
        {
          "output_type": "stream",
          "name": "stdout",
          "text": [
            "--2022-12-02 21:41:42--  https://raw.githubusercontent.com/mrdbourke/tensorflow-deep-learning/main/extras/BTC_USD_2013-10-01_2021-05-18-CoinDesk.csv\n",
            "Resolving raw.githubusercontent.com (raw.githubusercontent.com)... 185.199.108.133, 185.199.109.133, 185.199.110.133, ...\n",
            "Connecting to raw.githubusercontent.com (raw.githubusercontent.com)|185.199.108.133|:443... connected.\n",
            "HTTP request sent, awaiting response... 200 OK\n",
            "Length: 178509 (174K) [text/plain]\n",
            "Saving to: ‘BTC_USD_2013-10-01_2021-05-18-CoinDesk.csv’\n",
            "\n",
            "\r          BTC_USD_2   0%[                    ]       0  --.-KB/s               \rBTC_USD_2013-10-01_ 100%[===================>] 174.33K  --.-KB/s    in 0.002s  \n",
            "\n",
            "2022-12-02 21:41:42 (70.9 MB/s) - ‘BTC_USD_2013-10-01_2021-05-18-CoinDesk.csv’ saved [178509/178509]\n",
            "\n"
          ]
        }
      ]
    },
    {
      "cell_type": "markdown",
      "source": [
        "We are going to use the historic data of bitcoin to try and predict the price of bitcoin in future"
      ],
      "metadata": {
        "id": "zOkY_CIBgyph"
      }
    },
    {
      "cell_type": "markdown",
      "source": [
        "## Importing time series data"
      ],
      "metadata": {
        "id": "a42UNmuGhLn_"
      }
    },
    {
      "cell_type": "code",
      "source": [
        "# Import using pandas\n",
        "import pandas as pd\n",
        "df = pd.read_csv(\"/content/BTC_USD_2013-10-01_2021-05-18-CoinDesk.csv\",\n",
        "                 parse_dates = [\"Date\"],\n",
        "                 index_col=[\"Date\"])\n",
        "df.head()"
      ],
      "metadata": {
        "colab": {
          "base_uri": "https://localhost:8080/",
          "height": 237
        },
        "id": "aWoQ0NbEhZ3I",
        "outputId": "aad75aa8-43e7-4d12-98f6-ac162cd5cba4"
      },
      "execution_count": 2,
      "outputs": [
        {
          "output_type": "execute_result",
          "data": {
            "text/plain": [
              "           Currency  Closing Price (USD)  24h Open (USD)  24h High (USD)  \\\n",
              "Date                                                                       \n",
              "2013-10-01      BTC            123.65499       124.30466       124.75166   \n",
              "2013-10-02      BTC            125.45500       123.65499       125.75850   \n",
              "2013-10-03      BTC            108.58483       125.45500       125.66566   \n",
              "2013-10-04      BTC            118.67466       108.58483       118.67500   \n",
              "2013-10-05      BTC            121.33866       118.67466       121.93633   \n",
              "\n",
              "            24h Low (USD)  \n",
              "Date                       \n",
              "2013-10-01      122.56349  \n",
              "2013-10-02      123.63383  \n",
              "2013-10-03       83.32833  \n",
              "2013-10-04      107.05816  \n",
              "2013-10-05      118.00566  "
            ],
            "text/html": [
              "\n",
              "  <div id=\"df-51dd1892-d36a-4860-bdc9-d374ce4c559a\">\n",
              "    <div class=\"colab-df-container\">\n",
              "      <div>\n",
              "<style scoped>\n",
              "    .dataframe tbody tr th:only-of-type {\n",
              "        vertical-align: middle;\n",
              "    }\n",
              "\n",
              "    .dataframe tbody tr th {\n",
              "        vertical-align: top;\n",
              "    }\n",
              "\n",
              "    .dataframe thead th {\n",
              "        text-align: right;\n",
              "    }\n",
              "</style>\n",
              "<table border=\"1\" class=\"dataframe\">\n",
              "  <thead>\n",
              "    <tr style=\"text-align: right;\">\n",
              "      <th></th>\n",
              "      <th>Currency</th>\n",
              "      <th>Closing Price (USD)</th>\n",
              "      <th>24h Open (USD)</th>\n",
              "      <th>24h High (USD)</th>\n",
              "      <th>24h Low (USD)</th>\n",
              "    </tr>\n",
              "    <tr>\n",
              "      <th>Date</th>\n",
              "      <th></th>\n",
              "      <th></th>\n",
              "      <th></th>\n",
              "      <th></th>\n",
              "      <th></th>\n",
              "    </tr>\n",
              "  </thead>\n",
              "  <tbody>\n",
              "    <tr>\n",
              "      <th>2013-10-01</th>\n",
              "      <td>BTC</td>\n",
              "      <td>123.65499</td>\n",
              "      <td>124.30466</td>\n",
              "      <td>124.75166</td>\n",
              "      <td>122.56349</td>\n",
              "    </tr>\n",
              "    <tr>\n",
              "      <th>2013-10-02</th>\n",
              "      <td>BTC</td>\n",
              "      <td>125.45500</td>\n",
              "      <td>123.65499</td>\n",
              "      <td>125.75850</td>\n",
              "      <td>123.63383</td>\n",
              "    </tr>\n",
              "    <tr>\n",
              "      <th>2013-10-03</th>\n",
              "      <td>BTC</td>\n",
              "      <td>108.58483</td>\n",
              "      <td>125.45500</td>\n",
              "      <td>125.66566</td>\n",
              "      <td>83.32833</td>\n",
              "    </tr>\n",
              "    <tr>\n",
              "      <th>2013-10-04</th>\n",
              "      <td>BTC</td>\n",
              "      <td>118.67466</td>\n",
              "      <td>108.58483</td>\n",
              "      <td>118.67500</td>\n",
              "      <td>107.05816</td>\n",
              "    </tr>\n",
              "    <tr>\n",
              "      <th>2013-10-05</th>\n",
              "      <td>BTC</td>\n",
              "      <td>121.33866</td>\n",
              "      <td>118.67466</td>\n",
              "      <td>121.93633</td>\n",
              "      <td>118.00566</td>\n",
              "    </tr>\n",
              "  </tbody>\n",
              "</table>\n",
              "</div>\n",
              "      <button class=\"colab-df-convert\" onclick=\"convertToInteractive('df-51dd1892-d36a-4860-bdc9-d374ce4c559a')\"\n",
              "              title=\"Convert this dataframe to an interactive table.\"\n",
              "              style=\"display:none;\">\n",
              "        \n",
              "  <svg xmlns=\"http://www.w3.org/2000/svg\" height=\"24px\"viewBox=\"0 0 24 24\"\n",
              "       width=\"24px\">\n",
              "    <path d=\"M0 0h24v24H0V0z\" fill=\"none\"/>\n",
              "    <path d=\"M18.56 5.44l.94 2.06.94-2.06 2.06-.94-2.06-.94-.94-2.06-.94 2.06-2.06.94zm-11 1L8.5 8.5l.94-2.06 2.06-.94-2.06-.94L8.5 2.5l-.94 2.06-2.06.94zm10 10l.94 2.06.94-2.06 2.06-.94-2.06-.94-.94-2.06-.94 2.06-2.06.94z\"/><path d=\"M17.41 7.96l-1.37-1.37c-.4-.4-.92-.59-1.43-.59-.52 0-1.04.2-1.43.59L10.3 9.45l-7.72 7.72c-.78.78-.78 2.05 0 2.83L4 21.41c.39.39.9.59 1.41.59.51 0 1.02-.2 1.41-.59l7.78-7.78 2.81-2.81c.8-.78.8-2.07 0-2.86zM5.41 20L4 18.59l7.72-7.72 1.47 1.35L5.41 20z\"/>\n",
              "  </svg>\n",
              "      </button>\n",
              "      \n",
              "  <style>\n",
              "    .colab-df-container {\n",
              "      display:flex;\n",
              "      flex-wrap:wrap;\n",
              "      gap: 12px;\n",
              "    }\n",
              "\n",
              "    .colab-df-convert {\n",
              "      background-color: #E8F0FE;\n",
              "      border: none;\n",
              "      border-radius: 50%;\n",
              "      cursor: pointer;\n",
              "      display: none;\n",
              "      fill: #1967D2;\n",
              "      height: 32px;\n",
              "      padding: 0 0 0 0;\n",
              "      width: 32px;\n",
              "    }\n",
              "\n",
              "    .colab-df-convert:hover {\n",
              "      background-color: #E2EBFA;\n",
              "      box-shadow: 0px 1px 2px rgba(60, 64, 67, 0.3), 0px 1px 3px 1px rgba(60, 64, 67, 0.15);\n",
              "      fill: #174EA6;\n",
              "    }\n",
              "\n",
              "    [theme=dark] .colab-df-convert {\n",
              "      background-color: #3B4455;\n",
              "      fill: #D2E3FC;\n",
              "    }\n",
              "\n",
              "    [theme=dark] .colab-df-convert:hover {\n",
              "      background-color: #434B5C;\n",
              "      box-shadow: 0px 1px 3px 1px rgba(0, 0, 0, 0.15);\n",
              "      filter: drop-shadow(0px 1px 2px rgba(0, 0, 0, 0.3));\n",
              "      fill: #FFFFFF;\n",
              "    }\n",
              "  </style>\n",
              "\n",
              "      <script>\n",
              "        const buttonEl =\n",
              "          document.querySelector('#df-51dd1892-d36a-4860-bdc9-d374ce4c559a button.colab-df-convert');\n",
              "        buttonEl.style.display =\n",
              "          google.colab.kernel.accessAllowed ? 'block' : 'none';\n",
              "\n",
              "        async function convertToInteractive(key) {\n",
              "          const element = document.querySelector('#df-51dd1892-d36a-4860-bdc9-d374ce4c559a');\n",
              "          const dataTable =\n",
              "            await google.colab.kernel.invokeFunction('convertToInteractive',\n",
              "                                                     [key], {});\n",
              "          if (!dataTable) return;\n",
              "\n",
              "          const docLinkHtml = 'Like what you see? Visit the ' +\n",
              "            '<a target=\"_blank\" href=https://colab.research.google.com/notebooks/data_table.ipynb>data table notebook</a>'\n",
              "            + ' to learn more about interactive tables.';\n",
              "          element.innerHTML = '';\n",
              "          dataTable['output_type'] = 'display_data';\n",
              "          await google.colab.output.renderOutput(dataTable, element);\n",
              "          const docLink = document.createElement('div');\n",
              "          docLink.innerHTML = docLinkHtml;\n",
              "          element.appendChild(docLink);\n",
              "        }\n",
              "      </script>\n",
              "    </div>\n",
              "  </div>\n",
              "  "
            ]
          },
          "metadata": {},
          "execution_count": 2
        }
      ]
    },
    {
      "cell_type": "code",
      "source": [
        "df.info()"
      ],
      "metadata": {
        "colab": {
          "base_uri": "https://localhost:8080/"
        },
        "id": "zxhP99MpiKYq",
        "outputId": "c8d6c350-3666-4158-a03b-dd66f756edb9"
      },
      "execution_count": 3,
      "outputs": [
        {
          "output_type": "stream",
          "name": "stdout",
          "text": [
            "<class 'pandas.core.frame.DataFrame'>\n",
            "DatetimeIndex: 2787 entries, 2013-10-01 to 2021-05-18\n",
            "Data columns (total 5 columns):\n",
            " #   Column               Non-Null Count  Dtype  \n",
            "---  ------               --------------  -----  \n",
            " 0   Currency             2787 non-null   object \n",
            " 1   Closing Price (USD)  2787 non-null   float64\n",
            " 2   24h Open (USD)       2787 non-null   float64\n",
            " 3   24h High (USD)       2787 non-null   float64\n",
            " 4   24h Low (USD)        2787 non-null   float64\n",
            "dtypes: float64(4), object(1)\n",
            "memory usage: 130.6+ KB\n"
          ]
        }
      ]
    },
    {
      "cell_type": "code",
      "source": [
        "# How many samples do we have\n",
        "len(df)"
      ],
      "metadata": {
        "colab": {
          "base_uri": "https://localhost:8080/"
        },
        "id": "rOaGNzvNiQhI",
        "outputId": "318c331b-58a6-4e93-e1e3-6b622529457d"
      },
      "execution_count": 4,
      "outputs": [
        {
          "output_type": "execute_result",
          "data": {
            "text/plain": [
              "2787"
            ]
          },
          "metadata": {},
          "execution_count": 4
        }
      ]
    },
    {
      "cell_type": "markdown",
      "source": [
        "We have collected the historical price of bitcoin for the last 8 years but the are only 2787 samples but a neural network model like milions of sample\n",
        "\n",
        "**Note** The **Sesonality** of a time series dataset is reffered as the number of samples per year So for our Bitcoin data it has a sesonality of 365 as we collect one sample per day"
      ],
      "metadata": {
        "id": "PnNpybE5ihq4"
      }
    },
    {
      "cell_type": "code",
      "source": [
        "# Only want closing price for each day\n",
        "bitcoin_prices = pd.DataFrame(df[\"Closing Price (USD)\"]).rename(columns={\"Closing Price (USD)\": \"Price\"})\n",
        "bitcoin_prices.head()"
      ],
      "metadata": {
        "colab": {
          "base_uri": "https://localhost:8080/",
          "height": 237
        },
        "id": "185VFqmBi6Ch",
        "outputId": "22f800eb-5c09-46fb-c6d1-f0cc39173fc0"
      },
      "execution_count": 5,
      "outputs": [
        {
          "output_type": "execute_result",
          "data": {
            "text/plain": [
              "                Price\n",
              "Date                 \n",
              "2013-10-01  123.65499\n",
              "2013-10-02  125.45500\n",
              "2013-10-03  108.58483\n",
              "2013-10-04  118.67466\n",
              "2013-10-05  121.33866"
            ],
            "text/html": [
              "\n",
              "  <div id=\"df-be6c416f-c2b8-41f8-aa8e-961fd4d4a839\">\n",
              "    <div class=\"colab-df-container\">\n",
              "      <div>\n",
              "<style scoped>\n",
              "    .dataframe tbody tr th:only-of-type {\n",
              "        vertical-align: middle;\n",
              "    }\n",
              "\n",
              "    .dataframe tbody tr th {\n",
              "        vertical-align: top;\n",
              "    }\n",
              "\n",
              "    .dataframe thead th {\n",
              "        text-align: right;\n",
              "    }\n",
              "</style>\n",
              "<table border=\"1\" class=\"dataframe\">\n",
              "  <thead>\n",
              "    <tr style=\"text-align: right;\">\n",
              "      <th></th>\n",
              "      <th>Price</th>\n",
              "    </tr>\n",
              "    <tr>\n",
              "      <th>Date</th>\n",
              "      <th></th>\n",
              "    </tr>\n",
              "  </thead>\n",
              "  <tbody>\n",
              "    <tr>\n",
              "      <th>2013-10-01</th>\n",
              "      <td>123.65499</td>\n",
              "    </tr>\n",
              "    <tr>\n",
              "      <th>2013-10-02</th>\n",
              "      <td>125.45500</td>\n",
              "    </tr>\n",
              "    <tr>\n",
              "      <th>2013-10-03</th>\n",
              "      <td>108.58483</td>\n",
              "    </tr>\n",
              "    <tr>\n",
              "      <th>2013-10-04</th>\n",
              "      <td>118.67466</td>\n",
              "    </tr>\n",
              "    <tr>\n",
              "      <th>2013-10-05</th>\n",
              "      <td>121.33866</td>\n",
              "    </tr>\n",
              "  </tbody>\n",
              "</table>\n",
              "</div>\n",
              "      <button class=\"colab-df-convert\" onclick=\"convertToInteractive('df-be6c416f-c2b8-41f8-aa8e-961fd4d4a839')\"\n",
              "              title=\"Convert this dataframe to an interactive table.\"\n",
              "              style=\"display:none;\">\n",
              "        \n",
              "  <svg xmlns=\"http://www.w3.org/2000/svg\" height=\"24px\"viewBox=\"0 0 24 24\"\n",
              "       width=\"24px\">\n",
              "    <path d=\"M0 0h24v24H0V0z\" fill=\"none\"/>\n",
              "    <path d=\"M18.56 5.44l.94 2.06.94-2.06 2.06-.94-2.06-.94-.94-2.06-.94 2.06-2.06.94zm-11 1L8.5 8.5l.94-2.06 2.06-.94-2.06-.94L8.5 2.5l-.94 2.06-2.06.94zm10 10l.94 2.06.94-2.06 2.06-.94-2.06-.94-.94-2.06-.94 2.06-2.06.94z\"/><path d=\"M17.41 7.96l-1.37-1.37c-.4-.4-.92-.59-1.43-.59-.52 0-1.04.2-1.43.59L10.3 9.45l-7.72 7.72c-.78.78-.78 2.05 0 2.83L4 21.41c.39.39.9.59 1.41.59.51 0 1.02-.2 1.41-.59l7.78-7.78 2.81-2.81c.8-.78.8-2.07 0-2.86zM5.41 20L4 18.59l7.72-7.72 1.47 1.35L5.41 20z\"/>\n",
              "  </svg>\n",
              "      </button>\n",
              "      \n",
              "  <style>\n",
              "    .colab-df-container {\n",
              "      display:flex;\n",
              "      flex-wrap:wrap;\n",
              "      gap: 12px;\n",
              "    }\n",
              "\n",
              "    .colab-df-convert {\n",
              "      background-color: #E8F0FE;\n",
              "      border: none;\n",
              "      border-radius: 50%;\n",
              "      cursor: pointer;\n",
              "      display: none;\n",
              "      fill: #1967D2;\n",
              "      height: 32px;\n",
              "      padding: 0 0 0 0;\n",
              "      width: 32px;\n",
              "    }\n",
              "\n",
              "    .colab-df-convert:hover {\n",
              "      background-color: #E2EBFA;\n",
              "      box-shadow: 0px 1px 2px rgba(60, 64, 67, 0.3), 0px 1px 3px 1px rgba(60, 64, 67, 0.15);\n",
              "      fill: #174EA6;\n",
              "    }\n",
              "\n",
              "    [theme=dark] .colab-df-convert {\n",
              "      background-color: #3B4455;\n",
              "      fill: #D2E3FC;\n",
              "    }\n",
              "\n",
              "    [theme=dark] .colab-df-convert:hover {\n",
              "      background-color: #434B5C;\n",
              "      box-shadow: 0px 1px 3px 1px rgba(0, 0, 0, 0.15);\n",
              "      filter: drop-shadow(0px 1px 2px rgba(0, 0, 0, 0.3));\n",
              "      fill: #FFFFFF;\n",
              "    }\n",
              "  </style>\n",
              "\n",
              "      <script>\n",
              "        const buttonEl =\n",
              "          document.querySelector('#df-be6c416f-c2b8-41f8-aa8e-961fd4d4a839 button.colab-df-convert');\n",
              "        buttonEl.style.display =\n",
              "          google.colab.kernel.accessAllowed ? 'block' : 'none';\n",
              "\n",
              "        async function convertToInteractive(key) {\n",
              "          const element = document.querySelector('#df-be6c416f-c2b8-41f8-aa8e-961fd4d4a839');\n",
              "          const dataTable =\n",
              "            await google.colab.kernel.invokeFunction('convertToInteractive',\n",
              "                                                     [key], {});\n",
              "          if (!dataTable) return;\n",
              "\n",
              "          const docLinkHtml = 'Like what you see? Visit the ' +\n",
              "            '<a target=\"_blank\" href=https://colab.research.google.com/notebooks/data_table.ipynb>data table notebook</a>'\n",
              "            + ' to learn more about interactive tables.';\n",
              "          element.innerHTML = '';\n",
              "          dataTable['output_type'] = 'display_data';\n",
              "          await google.colab.output.renderOutput(dataTable, element);\n",
              "          const docLink = document.createElement('div');\n",
              "          docLink.innerHTML = docLinkHtml;\n",
              "          element.appendChild(docLink);\n",
              "        }\n",
              "      </script>\n",
              "    </div>\n",
              "  </div>\n",
              "  "
            ]
          },
          "metadata": {},
          "execution_count": 5
        }
      ]
    },
    {
      "cell_type": "code",
      "source": [
        "import matplotlib.pyplot as plt\n",
        "bitcoin_prices.plot(figsize=(10,7))\n",
        "plt.ylabel(\"BTC Price\")\n",
        "plt.title(\"Price of Bitcoin from 1 oct 2013 to 18 may 2021\",fontsize=16)\n",
        "plt.legend(fontsize=14);"
      ],
      "metadata": {
        "colab": {
          "base_uri": "https://localhost:8080/",
          "height": 460
        },
        "id": "Xs4RbL5lngVj",
        "outputId": "d7835d45-93a8-4a9f-b5f3-698a8901a8b1"
      },
      "execution_count": 6,
      "outputs": [
        {
          "output_type": "display_data",
          "data": {
            "text/plain": [
              "<Figure size 720x504 with 1 Axes>"
            ],
            "image/png": "[encoded data removed]"
          },
          "metadata": {
            "needs_background": "light"
          }
        }
      ]
    },
    {
      "cell_type": "code",
      "source": [
        "import csv\n",
        "from datetime import datetime\n",
        "\n",
        "timesteps = []\n",
        "btc_price = []\n",
        "\n",
        "with open(\"/content/BTC_USD_2013-10-01_2021-05-18-CoinDesk.csv\",\"r\") as f:\n",
        "  csv_reader = csv.reader(f,delimiter=\",\")\n",
        "  next(csv_reader) # Skips frist line (This gets rid of the columns title)\n",
        "  for line in csv_reader:\n",
        "    timesteps.append(datetime.strptime(line[1],\"%Y-%m-%d\")) # Gets the date as dates not strings\n",
        "    btc_price.append(float(line[2])) # get the closing price as float\n",
        "# view the first 10 of each \n",
        "timesteps[:10],btc_price[:10]\n"
      ],
      "metadata": {
        "colab": {
          "base_uri": "https://localhost:8080/"
        },
        "id": "Z6fMC4h_oIrK",
        "outputId": "0874ec95-d39a-4a22-dce8-e74676c71464"
      },
      "execution_count": 7,
      "outputs": [
        {
          "output_type": "execute_result",
          "data": {
            "text/plain": [
              "([datetime.datetime(2013, 10, 1, 0, 0),\n",
              "  datetime.datetime(2013, 10, 2, 0, 0),\n",
              "  datetime.datetime(2013, 10, 3, 0, 0),\n",
              "  datetime.datetime(2013, 10, 4, 0, 0),\n",
              "  datetime.datetime(2013, 10, 5, 0, 0),\n",
              "  datetime.datetime(2013, 10, 6, 0, 0),\n",
              "  datetime.datetime(2013, 10, 7, 0, 0),\n",
              "  datetime.datetime(2013, 10, 8, 0, 0),\n",
              "  datetime.datetime(2013, 10, 9, 0, 0),\n",
              "  datetime.datetime(2013, 10, 10, 0, 0)],\n",
              " [123.65499,\n",
              "  125.455,\n",
              "  108.58483,\n",
              "  118.67466,\n",
              "  121.33866,\n",
              "  120.65533,\n",
              "  121.795,\n",
              "  123.033,\n",
              "  124.049,\n",
              "  125.96116])"
            ]
          },
          "metadata": {},
          "execution_count": 7
        }
      ]
    },
    {
      "cell_type": "code",
      "source": [
        "# Plot from csv\n",
        "plt.figure(figsize=(10,7))\n",
        "plt.plot(timesteps,btc_price)\n",
        "plt.ylabel(\"BTC Price\")\n",
        "plt.title(\"Price of Bitcoin from 1 oct 2013 to 18 may 2021\",fontsize=16)\n",
        "plt.xlabel(\"Date\")"
      ],
      "metadata": {
        "colab": {
          "base_uri": "https://localhost:8080/",
          "height": 478
        },
        "id": "V7_6rBEx3Hbr",
        "outputId": "2d9aa5ff-99b7-4cc2-e964-fd9c0ea31acc"
      },
      "execution_count": 8,
      "outputs": [
        {
          "output_type": "execute_result",
          "data": {
            "text/plain": [
              "Text(0.5, 0, 'Date')"
            ]
          },
          "metadata": {},
          "execution_count": 8
        },
        {
          "output_type": "display_data",
          "data": {
            "text/plain": [
              "<Figure size 720x504 with 1 Axes>"
            ],
            "image/png": "[encoded data removed]"
          },
          "metadata": {
            "needs_background": "light"
          }
        }
      ]
    },
    {
      "cell_type": "markdown",
      "source": [
        "## Format Data part 1 : Create training and test sets "
      ],
      "metadata": {
        "id": "kip755Wi4Hu6"
      }
    },
    {
      "cell_type": "markdown",
      "source": [
        "### The wrong way"
      ],
      "metadata": {
        "id": "bCrYSkPs4tQA"
      }
    },
    {
      "cell_type": "code",
      "source": [
        "# Get bitcoin data array \n",
        "timesteps = bitcoin_prices.index.to_numpy()\n",
        "prices = bitcoin_prices[\"Price\"].to_numpy()\n",
        "timesteps[:10],prices[:10]"
      ],
      "metadata": {
        "colab": {
          "base_uri": "https://localhost:8080/"
        },
        "id": "jGs4TitY4xUo",
        "outputId": "33db1832-ab2b-4426-d856-9d85e5ffc184"
      },
      "execution_count": 9,
      "outputs": [
        {
          "output_type": "execute_result",
          "data": {
            "text/plain": [
              "(array(['2013-10-01T00:00:00.000000000', '2013-10-02T00:00:00.000000000',\n",
              "        '2013-10-03T00:00:00.000000000', '2013-10-04T00:00:00.000000000',\n",
              "        '2013-10-05T00:00:00.000000000', '2013-10-06T00:00:00.000000000',\n",
              "        '2013-10-07T00:00:00.000000000', '2013-10-08T00:00:00.000000000',\n",
              "        '2013-10-09T00:00:00.000000000', '2013-10-10T00:00:00.000000000'],\n",
              "       dtype='datetime64[ns]'),\n",
              " array([123.65499, 125.455  , 108.58483, 118.67466, 121.33866, 120.65533,\n",
              "        121.795  , 123.033  , 124.049  , 125.96116]))"
            ]
          },
          "metadata": {},
          "execution_count": 9
        }
      ]
    },
    {
      "cell_type": "code",
      "source": [
        "# Wrong way to make train test sets fpr time series\n",
        "\n",
        "from sklearn.model_selection import train_test_split\n",
        "x_train,x_test,y_train,y_test = train_test_split(timesteps,\n",
        "                                                 prices,\n",
        "                                                 test_size=0.2,\n",
        "                                                 random_state=42)\n",
        "\n",
        "x_train.shape,x_test.shape,y_train.shape,y_train.shape"
      ],
      "metadata": {
        "colab": {
          "base_uri": "https://localhost:8080/"
        },
        "id": "0faMkLNn5QqC",
        "outputId": "e07312a6-98ee-4a73-b79e-ed3a0d2e956a"
      },
      "execution_count": 10,
      "outputs": [
        {
          "output_type": "execute_result",
          "data": {
            "text/plain": [
              "((2229,), (558,), (2229,), (2229,))"
            ]
          },
          "metadata": {},
          "execution_count": 10
        }
      ]
    },
    {
      "cell_type": "code",
      "source": [
        "# Lets plot wrong train and test splits\n",
        "plt.figure(figsize=(10,7))\n",
        "plt.scatter(x_train,y_train,s=5,label=\"Train_data\")\n",
        "plt.scatter(x_test,y_test,s=5,label=\"Test data\")\n",
        "plt.xlabel(\"Date\")\n",
        "plt.ylabel(\"BTC Price\")\n",
        "plt.legend(fontsize=14)\n",
        "plt.show();"
      ],
      "metadata": {
        "colab": {
          "base_uri": "https://localhost:8080/",
          "height": 442
        },
        "id": "Qc4H2Mag58Az",
        "outputId": "3281fa62-c325-4b95-b869-cc2c97baf3d8"
      },
      "execution_count": 11,
      "outputs": [
        {
          "output_type": "display_data",
          "data": {
            "text/plain": [
              "<Figure size 720x504 with 1 Axes>"
            ],
            "image/png": "[encoded data removed]"
          },
          "metadata": {
            "needs_background": "light"
          }
        }
      ]
    },
    {
      "cell_type": "markdown",
      "source": [
        "Notice the mixed dots 😆 Thats why its wrong  "
      ],
      "metadata": {
        "id": "AbCNRXzt6vfM"
      }
    },
    {
      "cell_type": "markdown",
      "source": [
        "##  Create the train and test sets the right way "
      ],
      "metadata": {
        "id": "H634IcQ37G0i"
      }
    },
    {
      "cell_type": "markdown",
      "source": [
        "### Time series split"
      ],
      "metadata": {
        "id": "i5t3eYVp7azj"
      }
    },
    {
      "cell_type": "code",
      "source": [
        "split_size = int(0.8*len(prices))\n",
        "# Create train data splits\n",
        "x_train,y_train = timesteps[:split_size],prices[:split_size]\n",
        "# Create test data splits (everything beyond the split size )\n",
        "x_test,y_test = timesteps[split_size:],prices[split_size:]\n",
        "len(x_train),len(y_train),len(x_train),len(y_train)"
      ],
      "metadata": {
        "colab": {
          "base_uri": "https://localhost:8080/"
        },
        "id": "S-oO_GKN7_QS",
        "outputId": "882c11f6-8455-40a8-e4f7-7b45f59defce"
      },
      "execution_count": 12,
      "outputs": [
        {
          "output_type": "execute_result",
          "data": {
            "text/plain": [
              "(2229, 2229, 2229, 2229)"
            ]
          },
          "metadata": {},
          "execution_count": 12
        }
      ]
    },
    {
      "cell_type": "code",
      "source": [
        "# Lets plot wrong train and test splits\n",
        "plt.figure(figsize=(10,7))\n",
        "plt.scatter(x_train,y_train,s=5,label=\"Train_data\")\n",
        "plt.scatter(x_test,y_test,s=5,label=\"Test data\")\n",
        "plt.xlabel(\"Date\")\n",
        "plt.ylabel(\"BTC Price\")\n",
        "plt.legend(fontsize=14)\n",
        "plt.show();"
      ],
      "metadata": {
        "colab": {
          "base_uri": "https://localhost:8080/",
          "height": 442
        },
        "id": "xrHJ-OGD82gs",
        "outputId": "00f711a2-20ec-4263-a69d-4640c4ff7790"
      },
      "execution_count": 13,
      "outputs": [
        {
          "output_type": "display_data",
          "data": {
            "text/plain": [
              "<Figure size 720x504 with 1 Axes>"
            ],
            "image/png": "[encoded data removed]"
          },
          "metadata": {
            "needs_background": "light"
          }
        }
      ]
    },
    {
      "cell_type": "markdown",
      "source": [
        "Now thats the right thing"
      ],
      "metadata": {
        "id": "1xijs_M09I-i"
      }
    },
    {
      "cell_type": "markdown",
      "source": [
        "## Create a ploting fuction"
      ],
      "metadata": {
        "id": "bsvgy2tw9ptE"
      }
    },
    {
      "cell_type": "code",
      "source": [
        "# Create a function to plot time series data\n",
        "def plot_time_series(timesteps, values, format='.', start=0, end=None, label=None):\n",
        "  \"\"\"\n",
        "  Plots a timesteps (a series of points in time) against values (a series of values across timesteps).\n",
        "  \n",
        "  Parameters\n",
        "  ---------\n",
        "  timesteps : array of timesteps\n",
        "  values : array of values across time\n",
        "  format : style of plot, default \".\"\n",
        "  start : where to start the plot (setting a value will index from start of timesteps & values)\n",
        "  end : where to end the plot (setting a value will index from end of timesteps & values)\n",
        "  label : label to show on plot of values\n",
        "  \"\"\"\n",
        "  # Plot the series\n",
        "  plt.plot(timesteps[start:end], values[start:end], format, label=label)\n",
        "  plt.xlabel(\"Time\")\n",
        "  plt.ylabel(\"BTC Price\")\n",
        "  if label:\n",
        "    plt.legend(fontsize=14) # make label bigger\n",
        "  plt.grid(True)"
      ],
      "metadata": {
        "id": "pJOJ0wcY9wn8"
      },
      "execution_count": 14,
      "outputs": []
    },
    {
      "cell_type": "code",
      "source": [
        "# Test out plotting function\n",
        "plt.figure(figsize=(10,7))\n",
        "plot_time_series(timesteps=x_train,values=y_train,label=\"Train Data\")\n",
        "plot_time_series(timesteps=x_test,values=y_test,label=\"Test Data\")"
      ],
      "metadata": {
        "colab": {
          "base_uri": "https://localhost:8080/",
          "height": 442
        },
        "id": "9a701n95_JsW",
        "outputId": "749d11f5-bb9a-4f9c-dc8a-030434167c60"
      },
      "execution_count": 15,
      "outputs": [
        {
          "output_type": "display_data",
          "data": {
            "text/plain": [
              "<Figure size 720x504 with 1 Axes>"
            ],
            "image/png": "[encoded data removed]"
          },
          "metadata": {
            "needs_background": "light"
          }
        }
      ]
    },
    {
      "cell_type": "markdown",
      "source": [
        "## Modeling experiments\n",
        "lets run a series of modelling experiments"
      ],
      "metadata": {
        "id": "HjAC9T0KAvrU"
      }
    },
    {
      "cell_type": "markdown",
      "source": [
        "# Lets build a naive model (model 0)\n",
        "The formula is $$\\hat{y}_{t} = y_{t-1}$$\n",
        "\n",
        "The prediction at timestemp t is the same as previous"
      ],
      "metadata": {
        "id": "YBUSgSaHgT9Y"
      }
    },
    {
      "cell_type": "code",
      "source": [
        "# Create a naive forecast\n",
        "naive_forecast = y_test[:-1]\n",
        "naive_forecast[:10] ,naive_forecast[-10:]\n"
      ],
      "metadata": {
        "colab": {
          "base_uri": "https://localhost:8080/"
        },
        "id": "QJ3t4mW7jd6V",
        "outputId": "090f66cc-a9b9-49c2-b2c0-828e2275e05f"
      },
      "execution_count": 16,
      "outputs": [
        {
          "output_type": "execute_result",
          "data": {
            "text/plain": [
              "(array([9226.48582088, 8794.35864452, 8798.04205463, 9081.18687849,\n",
              "        8711.53433917, 8760.89271814, 8749.52059102, 8656.97092235,\n",
              "        8500.64355816, 8469.2608989 ]),\n",
              " array([57107.12067189, 58788.20967893, 58102.19142623, 55715.54665129,\n",
              "        56573.5554719 , 52147.82118698, 49764.1320816 , 50032.69313676,\n",
              "        47885.62525472, 45604.61575361]))"
            ]
          },
          "metadata": {},
          "execution_count": 16
        }
      ]
    },
    {
      "cell_type": "code",
      "source": [
        "y_test[-10:]"
      ],
      "metadata": {
        "colab": {
          "base_uri": "https://localhost:8080/"
        },
        "id": "T_4al9kZkhrB",
        "outputId": "15a8d992-0eb7-4f5d-b80f-4dc2b283d785"
      },
      "execution_count": 17,
      "outputs": [
        {
          "output_type": "execute_result",
          "data": {
            "text/plain": [
              "array([58788.20967893, 58102.19142623, 55715.54665129, 56573.5554719 ,\n",
              "       52147.82118698, 49764.1320816 , 50032.69313676, 47885.62525472,\n",
              "       45604.61575361, 43144.47129086])"
            ]
          },
          "metadata": {},
          "execution_count": 17
        }
      ]
    },
    {
      "cell_type": "code",
      "source": [
        "# Plot naive forcast\n",
        "plt.figure(figsize=(10,7))\n",
        "plot_time_series(timesteps=x_train,values=y_train,label=\"Train data\")\n",
        "plot_time_series(timesteps=x_test,values=y_test,label=\"Test data\")\n",
        "plot_time_series(timesteps=x_test[1:],values=naive_forecast,format=\"-\",label=\"Naive Forcast\")"
      ],
      "metadata": {
        "colab": {
          "base_uri": "https://localhost:8080/",
          "height": 442
        },
        "id": "9aG1rHeUklKK",
        "outputId": "2afd7811-bf19-4ec3-8b91-c175bb96a9fb"
      },
      "execution_count": 18,
      "outputs": [
        {
          "output_type": "display_data",
          "data": {
            "text/plain": [
              "<Figure size 720x504 with 1 Axes>"
            ],
            "image/png": "[encoded data removed]"
          },
          "metadata": {
            "needs_background": "light"
          }
        }
      ]
    },
    {
      "cell_type": "markdown",
      "source": [
        "from numpy import number\n",
        "## Evaluating a time series model\n",
        "\n",
        "lets look at some evaluation metrics for time series forecasting\n",
        "\n",
        "we are working on a regression model like thing we are predicting a number\n",
        "\n",
        "so a few comman regression metrics are\n",
        "\n",
        "* MAE\n",
        "* MSE\n",
        "* RMSE\n",
        "* MASE\n",
        "*sMASE"
      ],
      "metadata": {
        "id": "5BA19aDqlwHN"
      }
    },
    {
      "cell_type": "code",
      "source": [
        "import tensorflow as tf"
      ],
      "metadata": {
        "id": "34yCrLSest9H"
      },
      "execution_count": 19,
      "outputs": []
    },
    {
      "cell_type": "code",
      "source": [
        "# Mase implementation\n",
        "def mean_absolute_scaled_error(y_true,y_pred):\n",
        "  \"\"\"\n",
        "  Implement MASE\n",
        "  \"\"\"\n",
        "  mae = tf.reduce_mean(tf.abs(y_true-y_pred))\n",
        "\n",
        "  mae_naive_no_season = tf.reduce_mean(tf.abs(y_true[1:]-y_true[:-1]))\n",
        "  return (mae/mae_naive_no_season)"
      ],
      "metadata": {
        "id": "mHgEeIKQo4ex"
      },
      "execution_count": 20,
      "outputs": []
    },
    {
      "cell_type": "code",
      "source": [
        "mean_absolute_scaled_error(y_test[1:],naive_forecast)"
      ],
      "metadata": {
        "colab": {
          "base_uri": "https://localhost:8080/"
        },
        "id": "Ig6XICLatBwt",
        "outputId": "c3cba499-8113-4f73-bcaf-f0664c899e03"
      },
      "execution_count": 21,
      "outputs": [
        {
          "output_type": "execute_result",
          "data": {
            "text/plain": [
              "<tf.Tensor: shape=(), dtype=float64, numpy=0.9995699939182624>"
            ]
          },
          "metadata": {},
          "execution_count": 21
        }
      ]
    },
    {
      "cell_type": "code",
      "source": [
        "def evaluate_preds(y_true, y_pred):\n",
        "  # Make sure float32 (for metric calculations)\n",
        "  y_true = tf.cast(y_true, dtype=tf.float32)\n",
        "  y_pred = tf.cast(y_pred, dtype=tf.float32)\n",
        "\n",
        "  # Calculate various metrics\n",
        "  mae = tf.keras.metrics.mean_absolute_error(y_true, y_pred)\n",
        "  mse = tf.keras.metrics.mean_squared_error(y_true, y_pred) # puts and emphasis on outliers (all errors get squared)\n",
        "  rmse = tf.sqrt(mse)\n",
        "  mape = tf.keras.metrics.mean_absolute_percentage_error(y_true, y_pred)\n",
        "  mase = mean_absolute_scaled_error(y_true, y_pred)\n",
        "  \n",
        "  return {\"mae\": mae.numpy(),\n",
        "          \"mse\": mse.numpy(),\n",
        "          \"rmse\": rmse.numpy(),\n",
        "          \"mape\": mape.numpy(),\n",
        "          \"mase\": mase.numpy()}"
      ],
      "metadata": {
        "id": "-pUOZVRftQ8t"
      },
      "execution_count": 22,
      "outputs": []
    },
    {
      "cell_type": "code",
      "source": [
        "naive_results = evaluate_preds(y_true=y_test[1:],y_pred=naive_forecast)\n",
        "naive_results"
      ],
      "metadata": {
        "colab": {
          "base_uri": "https://localhost:8080/"
        },
        "id": "K_w2-GDqt7R9",
        "outputId": "1b06c6c4-64e4-4c20-e188-aa1599052bb9"
      },
      "execution_count": 23,
      "outputs": [
        {
          "output_type": "execute_result",
          "data": {
            "text/plain": [
              "{'mae': 567.9802,\n",
              " 'mse': 1147547.0,\n",
              " 'rmse': 1071.2362,\n",
              " 'mape': 2.516525,\n",
              " 'mase': 0.99957}"
            ]
          },
          "metadata": {},
          "execution_count": 23
        }
      ]
    },
    {
      "cell_type": "code",
      "source": [
        "tf.reduce_mean(y_test)"
      ],
      "metadata": {
        "colab": {
          "base_uri": "https://localhost:8080/"
        },
        "id": "BX9Ai4AxvRR1",
        "outputId": "12b3313a-d50b-4e45-c801-f8851d8e0ad6"
      },
      "execution_count": 24,
      "outputs": [
        {
          "output_type": "execute_result",
          "data": {
            "text/plain": [
              "<tf.Tensor: shape=(), dtype=float64, numpy=20056.632963737222>"
            ]
          },
          "metadata": {},
          "execution_count": 24
        }
      ]
    },
    {
      "cell_type": "code",
      "source": [
        "tf.reduce_min(y_test)"
      ],
      "metadata": {
        "colab": {
          "base_uri": "https://localhost:8080/"
        },
        "id": "YhUIZHobv7SW",
        "outputId": "37521b2d-b3b9-403f-cb04-1a1058310474"
      },
      "execution_count": 25,
      "outputs": [
        {
          "output_type": "execute_result",
          "data": {
            "text/plain": [
              "<tf.Tensor: shape=(), dtype=float64, numpy=4944.7023359837>"
            ]
          },
          "metadata": {},
          "execution_count": 25
        }
      ]
    },
    {
      "cell_type": "code",
      "source": [
        "tf.reduce_max(y_test)"
      ],
      "metadata": {
        "colab": {
          "base_uri": "https://localhost:8080/"
        },
        "id": "GXvipHbDv-GN",
        "outputId": "ce8c3a1c-c503-47b7-a9b0-6b95d5efcb7b"
      },
      "execution_count": 26,
      "outputs": [
        {
          "output_type": "execute_result",
          "data": {
            "text/plain": [
              "<tf.Tensor: shape=(), dtype=float64, numpy=63346.7890351052>"
            ]
          },
          "metadata": {},
          "execution_count": 26
        }
      ]
    },
    {
      "cell_type": "markdown",
      "source": [
        "## Format Data part 2 : Windowing our data set "
      ],
      "metadata": {
        "id": "peJ53qnawAx_"
      }
    },
    {
      "cell_type": "markdown",
      "source": [
        "why do we window ?\n",
        "\n",
        "we window our time series dataset to turn our data into a supervised \n",
        "learning problem.\n"
      ],
      "metadata": {
        "id": "XV4nXULm0Y_2"
      }
    },
    {
      "cell_type": "code",
      "source": [
        "len(y_train)"
      ],
      "metadata": {
        "colab": {
          "base_uri": "https://localhost:8080/"
        },
        "id": "SEKiIDSx0oWH",
        "outputId": "070fdc57-251d-418d-91a1-bb07584ce7d0"
      },
      "execution_count": 27,
      "outputs": [
        {
          "output_type": "execute_result",
          "data": {
            "text/plain": [
              "2229"
            ]
          },
          "metadata": {},
          "execution_count": 27
        }
      ]
    },
    {
      "cell_type": "code",
      "source": [
        "btc_price[:7] ,btc_price[7]"
      ],
      "metadata": {
        "colab": {
          "base_uri": "https://localhost:8080/"
        },
        "id": "Iqaz57dc1WyJ",
        "outputId": "9e163710-6e7f-4935-c15b-f20668c0535c"
      },
      "execution_count": 28,
      "outputs": [
        {
          "output_type": "execute_result",
          "data": {
            "text/plain": [
              "([123.65499, 125.455, 108.58483, 118.67466, 121.33866, 120.65533, 121.795],\n",
              " 123.033)"
            ]
          },
          "metadata": {},
          "execution_count": 28
        }
      ]
    },
    {
      "cell_type": "code",
      "source": [
        "# lets setup global variables for window and horizon size \n",
        "HORIZON = 1 # predict next 1 day\n",
        "WINDOW_SIZE = 7 # use the past week of bitcoin data to make the prediction"
      ],
      "metadata": {
        "id": "raYialfu157x"
      },
      "execution_count": 29,
      "outputs": []
    },
    {
      "cell_type": "code",
      "source": [
        "# Create function to label windowed data\n",
        "def get_labelled_window(x,horizon=HORIZON):\n",
        "  '''\n",
        "  Create labels for windowed dataset\n",
        "  \n",
        "  E.g if horizon =1\n",
        "  Input: [0,1,2,3,4,5,6,7] ------> Output: ([0,1,2,3,4,5,6] , [7])\n",
        "  \n",
        "  '''\n",
        "  return (x[:,:-horizon],x[:,-horizon:])"
      ],
      "metadata": {
        "id": "JcvNgqjJ2X9Q"
      },
      "execution_count": 30,
      "outputs": []
    },
    {
      "cell_type": "code",
      "source": [
        "# Test out the window labelling function\n",
        "test_window, test_label = get_labelled_window (tf.expand_dims(tf.range(8)+1,axis=0))\n",
        "test_window, test_label"
      ],
      "metadata": {
        "colab": {
          "base_uri": "https://localhost:8080/"
        },
        "id": "EajjrAf24B3p",
        "outputId": "6bd7b2c1-771e-4787-81bf-4add1a523cd3"
      },
      "execution_count": 31,
      "outputs": [
        {
          "output_type": "execute_result",
          "data": {
            "text/plain": [
              "(<tf.Tensor: shape=(1, 7), dtype=int32, numpy=array([[1, 2, 3, 4, 5, 6, 7]], dtype=int32)>,\n",
              " <tf.Tensor: shape=(1, 1), dtype=int32, numpy=array([[8]], dtype=int32)>)"
            ]
          },
          "metadata": {},
          "execution_count": 31
        }
      ]
    },
    {
      "cell_type": "markdown",
      "source": [
        "we need to do the above preprocessing on the complete time series\n",
        "\n",
        "We can use numpy array indexing instead of for loops to speed things up"
      ],
      "metadata": {
        "id": "97_KfUBD-3Os"
      }
    },
    {
      "cell_type": "markdown",
      "source": [
        "Let's write a function which:\n",
        "\n",
        "* 1. Creates a window step of specific window size, for example: [[0, 1, 2, 3, 4, 5, 6, 7]]\n",
        "\n",
        "\n",
        "* 2. Uses NumPy indexing to create a 2D of multiple window steps, for example:\n",
        "\n",
        "        [[0, 1, 2, 3, 4, 5, 6, 7],\n",
        "        \n",
        "        [1, 2, 3, 4, 5, 6, 7, 8],\n",
        "         [2, 3, 4, 5, 6, 7, 8, 9]]\n",
        "\n",
        "* 3.Uses the 2D array of multuple window steps to index on a target series\n",
        "\n",
        "* 4.Uses the get_labelled_windows() function we created above to turn the window steps into windows with a specified horizon"
      ],
      "metadata": {
        "id": "5oX38i9q_Cj8"
      }
    },
    {
      "cell_type": "code",
      "source": [
        "import numpy as np\n",
        "# Create function to view NumPy arrays as windows \n",
        "def make_windows(x, window_size=7, horizon=1):\n",
        "  \"\"\"\n",
        "  Turns a 1D array into a 2D array of sequential windows of window_size.\n",
        "  \"\"\"\n",
        "  # 1. Create a window of specific window_size (add the horizon on the end for later labelling)\n",
        "  window_step = np.expand_dims(np.arange(window_size+horizon), axis=0)\n",
        "  # print(f\"Window step:\\n {window_step}\")\n",
        "\n",
        "  # 2. Create a 2D array of multiple window steps (minus 1 to account for 0 indexing)\n",
        "  window_indexes = window_step + np.expand_dims(np.arange(len(x)-(window_size+horizon-1)), axis=0).T # create 2D array of windows of size window_size\n",
        "  # print(f\"Window indexes:\\n {window_indexes[:3], window_indexes[-3:], window_indexes.shape}\")\n",
        "\n",
        "  # 3. Index on the target array (time series) with 2D array of multiple window steps\n",
        "  windowed_array = x[window_indexes]\n",
        "\n",
        "  # 4. Get the labelled windows\n",
        "  windows, labels = get_labelled_window(windowed_array, horizon=horizon)\n",
        "\n",
        "  return windows, labels"
      ],
      "metadata": {
        "id": "HJohBehdDtjX"
      },
      "execution_count": 32,
      "outputs": []
    },
    {
      "cell_type": "code",
      "source": [
        "full_windows, full_labels = make_windows(prices,window_size=WINDOW_SIZE,horizon=HORIZON)\n",
        "len(full_windows),len(full_labels)"
      ],
      "metadata": {
        "colab": {
          "base_uri": "https://localhost:8080/"
        },
        "id": "iYAnnFFbDSj4",
        "outputId": "c8e11944-fc6c-4df9-bf21-604350b110bd"
      },
      "execution_count": 33,
      "outputs": [
        {
          "output_type": "execute_result",
          "data": {
            "text/plain": [
              "(2780, 2780)"
            ]
          },
          "metadata": {},
          "execution_count": 33
        }
      ]
    },
    {
      "cell_type": "code",
      "source": [
        "# View the first 3\n",
        "for i in range (3):\n",
        "  print(f\"Windsows:{full_windows[i]}--> Label {full_labels[i]}\")"
      ],
      "metadata": {
        "colab": {
          "base_uri": "https://localhost:8080/"
        },
        "id": "mSbVnJt7D2eX",
        "outputId": "f05931a2-b86f-4183-b3de-a1115d78037b"
      },
      "execution_count": 34,
      "outputs": [
        {
          "output_type": "stream",
          "name": "stdout",
          "text": [
            "Windsows:[123.65499 125.455   108.58483 118.67466 121.33866 120.65533 121.795  ]--> Label [123.033]\n",
            "Windsows:[125.455   108.58483 118.67466 121.33866 120.65533 121.795   123.033  ]--> Label [124.049]\n",
            "Windsows:[108.58483 118.67466 121.33866 120.65533 121.795   123.033   124.049  ]--> Label [125.96116]\n"
          ]
        }
      ]
    },
    {
      "cell_type": "code",
      "source": [
        "np.expand_dims(np.arange(len(prices)-(7+1-1)),axis=0).T"
      ],
      "metadata": {
        "colab": {
          "base_uri": "https://localhost:8080/"
        },
        "id": "djXmK63wFxo6",
        "outputId": "21b31968-e9df-43f7-f720-34b239150624"
      },
      "execution_count": 35,
      "outputs": [
        {
          "output_type": "execute_result",
          "data": {
            "text/plain": [
              "array([[   0],\n",
              "       [   1],\n",
              "       [   2],\n",
              "       ...,\n",
              "       [2777],\n",
              "       [2778],\n",
              "       [2779]])"
            ]
          },
          "metadata": {},
          "execution_count": 35
        }
      ]
    },
    {
      "cell_type": "code",
      "source": [
        "np.expand_dims(np.arange(7+1),axis=0)"
      ],
      "metadata": {
        "colab": {
          "base_uri": "https://localhost:8080/"
        },
        "id": "3F-XgIHCEZF4",
        "outputId": "e63617e1-e2d8-4815-a2d3-4a9d8e2e0650"
      },
      "execution_count": 36,
      "outputs": [
        {
          "output_type": "execute_result",
          "data": {
            "text/plain": [
              "array([[0, 1, 2, 3, 4, 5, 6, 7]])"
            ]
          },
          "metadata": {},
          "execution_count": 36
        }
      ]
    },
    {
      "cell_type": "code",
      "source": [
        "len(prices)"
      ],
      "metadata": {
        "colab": {
          "base_uri": "https://localhost:8080/"
        },
        "id": "3wTdPhp8FXiY",
        "outputId": "1c858fb4-b794-41db-d232-0fa6a4afaeb0"
      },
      "execution_count": 37,
      "outputs": [
        {
          "output_type": "execute_result",
          "data": {
            "text/plain": [
              "2787"
            ]
          },
          "metadata": {},
          "execution_count": 37
        }
      ]
    },
    {
      "cell_type": "code",
      "source": [
        "f=tf.keras.preprocessing.timeseries_dataset_from_array(prices,sequence_length=7,targets=None ,batch_size=1)"
      ],
      "metadata": {
        "id": "p262RgygFehw"
      },
      "execution_count": 38,
      "outputs": []
    },
    {
      "cell_type": "code",
      "source": [
        "for i in f:\n",
        "  a=tf.squeeze(i)\n",
        "  print(tf.squeeze(i))\n",
        "  break"
      ],
      "metadata": {
        "colab": {
          "base_uri": "https://localhost:8080/"
        },
        "id": "x9AAHikQKKIi",
        "outputId": "379629d6-5463-4279-ae6c-f700390596d1"
      },
      "execution_count": 39,
      "outputs": [
        {
          "output_type": "stream",
          "name": "stdout",
          "text": [
            "tf.Tensor([123.65499 125.455   108.58483 118.67466 121.33866 120.65533 121.795  ], shape=(7,), dtype=float64)\n"
          ]
        }
      ]
    },
    {
      "cell_type": "code",
      "source": [
        "get_labelled_window(np.expand_dims(a,axis=0))"
      ],
      "metadata": {
        "colab": {
          "base_uri": "https://localhost:8080/"
        },
        "id": "TTbKNOJjKXdq",
        "outputId": "35b7d2dd-3bff-462b-b422-53639cb76b64"
      },
      "execution_count": 40,
      "outputs": [
        {
          "output_type": "execute_result",
          "data": {
            "text/plain": [
              "(array([[123.65499, 125.455  , 108.58483, 118.67466, 121.33866, 120.65533]]),\n",
              " array([[121.795]]))"
            ]
          },
          "metadata": {},
          "execution_count": 40
        }
      ]
    },
    {
      "cell_type": "markdown",
      "source": [
        "## Turning windows into training and test sets\n"
      ],
      "metadata": {
        "id": "cPL4d3XRK_cL"
      }
    },
    {
      "cell_type": "code",
      "source": [
        "# Make the train test splits\n",
        "def make_train_test_split(windows,labels,test_split=0.2):\n",
        "  \"\"\"\n",
        "  Split matching pairs of windows and labels into train and test splits\n",
        "  \"\"\"\n",
        "  split_size = int(len(windows) * (1-test_split)) # This will default to 80% train and 20% test\n",
        "  train_windows = windows[:split_size]\n",
        "  train_labels = labels[:split_size]\n",
        "  test_windows = windows[split_size:]\n",
        "  test_labels = labels[split_size:]\n",
        "  return(train_windows,test_windows,train_labels,test_labels)"
      ],
      "metadata": {
        "id": "ABYQdkHWOrE6"
      },
      "execution_count": 41,
      "outputs": []
    },
    {
      "cell_type": "code",
      "source": [
        "# Create train and test windows\n",
        "train_windows,test_windows,train_labels,test_labels = make_train_test_split(full_windows,full_labels)\n",
        "len(train_windows),len(test_windows),len(train_labels),len(test_labels)"
      ],
      "metadata": {
        "colab": {
          "base_uri": "https://localhost:8080/"
        },
        "id": "QPeSxf8bQKjv",
        "outputId": "34216801-3c2d-42bf-eca4-370fbd33f7df"
      },
      "execution_count": 42,
      "outputs": [
        {
          "output_type": "execute_result",
          "data": {
            "text/plain": [
              "(2224, 556, 2224, 556)"
            ]
          },
          "metadata": {},
          "execution_count": 42
        }
      ]
    },
    {
      "cell_type": "code",
      "source": [
        "train_windows[:5],train_labels[:5]"
      ],
      "metadata": {
        "colab": {
          "base_uri": "https://localhost:8080/"
        },
        "id": "MGYbx457Qww8",
        "outputId": "2daa67b4-1640-463e-ab0e-d36e6be51279"
      },
      "execution_count": 43,
      "outputs": [
        {
          "output_type": "execute_result",
          "data": {
            "text/plain": [
              "(array([[123.65499, 125.455  , 108.58483, 118.67466, 121.33866, 120.65533,\n",
              "         121.795  ],\n",
              "        [125.455  , 108.58483, 118.67466, 121.33866, 120.65533, 121.795  ,\n",
              "         123.033  ],\n",
              "        [108.58483, 118.67466, 121.33866, 120.65533, 121.795  , 123.033  ,\n",
              "         124.049  ],\n",
              "        [118.67466, 121.33866, 120.65533, 121.795  , 123.033  , 124.049  ,\n",
              "         125.96116],\n",
              "        [121.33866, 120.65533, 121.795  , 123.033  , 124.049  , 125.96116,\n",
              "         125.27966]]), array([[123.033  ],\n",
              "        [124.049  ],\n",
              "        [125.96116],\n",
              "        [125.27966],\n",
              "        [125.9275 ]]))"
            ]
          },
          "metadata": {},
          "execution_count": 43
        }
      ]
    },
    {
      "cell_type": "markdown",
      "source": [
        "## Make a Modeling check point\n",
        "\n",
        "Because our model's performance will fluctuate from experiment to experiment we are going to write a model checkpoint so we can compare appels to appels.\n",
        "\n",
        "More specifically we want to compare each of our models best performance against the other models best performance.\n",
        "\n",
        "for example if our model performs the best on epoch 55 (but we are training for 100 epochs), we want to load and evaluate the model saved on epoch 55\n",
        "\n",
        "We can create a modelling checkpoint callbacks by using tf keras callback model checkpoints"
      ],
      "metadata": {
        "id": "B5ttu7EAWmFs"
      }
    },
    {
      "cell_type": "code",
      "source": [
        "import os\n",
        "# Create a function to implement the model callback checkpoint with a specific filename\n",
        "def create_model_checkpoint(model_name,save_path=\"model_experiments\"):\n",
        "  return tf.keras.callbacks.ModelCheckpoint(filepath=os.path.join(save_path,model_name),\n",
        "                                            verbos=0,\n",
        "                                            save_best_only=True)\n",
        "\n"
      ],
      "metadata": {
        "id": "4yeomtxRXxKb"
      },
      "execution_count": 44,
      "outputs": []
    },
    {
      "cell_type": "markdown",
      "source": [
        "## Model 1: Dense model (window=7 horizon=1)\n",
        "\n",
        "our first deep model is going to be simple dense model\n",
        "* A single dense layer with 128 hidden units and ReLU\n",
        "* An output layer with linear or no activation\n",
        "* Adam optimizer and MAE loss fuction\n",
        "* Batch size of 128\n",
        "* 100 epochs\n",
        "\n",
        "Why these values ?\n",
        "\n",
        "These were picked out through experimentations\n",
        "\n",
        "**Hyperparameters** = values a machine learning practitioner can adjust themselves\n",
        "\n",
        "**Parameters** = values a model learns on its own"
      ],
      "metadata": {
        "id": "Q2RRTw2qaueN"
      }
    },
    {
      "cell_type": "code",
      "source": [
        "import tensorflow as tf \n",
        "from tensorflow.keras import layers\n",
        "\n",
        "# Set random seed for as reproducible results as possible\n",
        "tf.random.set_seed(42)\n",
        "# 1. Construct Model\n",
        "model_1 = tf.keras.Sequential([\n",
        "    layers.Dense(128,activation=\"relu\"),\n",
        "    layers.Dense(HORIZON, activation=\"linear\") # Linear activation is just like having no activation at all\n",
        "],name=\"model_1_dense\")# name our model so we can save it\n",
        "# 2. Compile\n",
        "model_1.compile(loss=\"mae\",\n",
        "                optimizer = tf.keras.optimizers.Adam(),\n",
        "                metrics = [\"mae\",\"mse\"])\n",
        "# 3. Fit the model\n",
        "model_1.fit(x = train_windows,\n",
        "            y = train_labels,\n",
        "            epochs=100,\n",
        "            verbose=1,\n",
        "            batch_size=128,\n",
        "            validation_data=(test_windows,test_labels),\n",
        "            callbacks=[create_model_checkpoint(model_name=model_1.name)])"
      ],
      "metadata": {
        "colab": {
          "base_uri": "https://localhost:8080/"
        },
        "id": "J6rtD5GpbJV9",
        "outputId": "29efcf06-4b58-40be-ce83-12504762584e"
      },
      "execution_count": 45,
      "outputs": [
        {
          "output_type": "stream",
          "name": "stdout",
          "text": [
            "Epoch 1/100\n",
            "18/18 [==============================] - 3s 49ms/step - loss: 780.3455 - mae: 780.3455 - mse: 2312725.7500 - val_loss: 2279.6528 - val_mae: 2279.6528 - val_mse: 12772731.0000\n",
            "Epoch 2/100\n",
            "18/18 [==============================] - 0s 26ms/step - loss: 247.6756 - mae: 247.6756 - mse: 285481.1875 - val_loss: 1005.9993 - val_mae: 1005.9993 - val_mse: 3441833.2500\n",
            "Epoch 3/100\n",
            "18/18 [==============================] - 1s 29ms/step - loss: 188.4116 - mae: 188.4116 - mse: 171891.6094 - val_loss: 923.2862 - val_mae: 923.2861 - val_mse: 2868220.7500\n",
            "Epoch 4/100\n",
            "18/18 [==============================] - 1s 31ms/step - loss: 169.4340 - mae: 169.4340 - mse: 151700.5781 - val_loss: 900.5872 - val_mae: 900.5872 - val_mse: 2683715.5000\n",
            "Epoch 5/100\n",
            "18/18 [==============================] - 0s 27ms/step - loss: 165.0894 - mae: 165.0894 - mse: 145490.7812 - val_loss: 895.2237 - val_mae: 895.2237 - val_mse: 2564574.5000\n",
            "Epoch 6/100\n",
            "18/18 [==============================] - 0s 26ms/step - loss: 158.5210 - mae: 158.5210 - mse: 133817.7344 - val_loss: 855.1984 - val_mae: 855.1984 - val_mse: 2481873.2500\n",
            "Epoch 7/100\n",
            "18/18 [==============================] - 0s 27ms/step - loss: 151.3566 - mae: 151.3566 - mse: 123446.9766 - val_loss: 840.9166 - val_mae: 840.9166 - val_mse: 2276451.5000\n",
            "Epoch 8/100\n",
            "18/18 [==============================] - 0s 26ms/step - loss: 145.2560 - mae: 145.2560 - mse: 117694.5000 - val_loss: 803.5956 - val_mae: 803.5956 - val_mse: 2140573.5000\n",
            "Epoch 9/100\n",
            "18/18 [==============================] - 0s 27ms/step - loss: 144.3546 - mae: 144.3546 - mse: 115269.3047 - val_loss: 799.5454 - val_mae: 799.5454 - val_mse: 2049207.7500\n",
            "Epoch 10/100\n",
            "18/18 [==============================] - 0s 27ms/step - loss: 141.2943 - mae: 141.2943 - mse: 112394.5938 - val_loss: 763.5010 - val_mae: 763.5010 - val_mse: 1933140.7500\n",
            "Epoch 11/100\n",
            "18/18 [==============================] - 0s 4ms/step - loss: 135.6595 - mae: 135.6595 - mse: 104118.2344 - val_loss: 771.3356 - val_mae: 771.3356 - val_mse: 1885849.7500\n",
            "Epoch 12/100\n",
            "18/18 [==============================] - 0s 4ms/step - loss: 134.1700 - mae: 134.1700 - mse: 101780.8672 - val_loss: 782.8079 - val_mae: 782.8079 - val_mse: 1881727.1250\n",
            "Epoch 13/100\n",
            "18/18 [==============================] - 0s 4ms/step - loss: 134.6015 - mae: 134.6015 - mse: 102345.2266 - val_loss: 784.4449 - val_mae: 784.4449 - val_mse: 1860996.1250\n",
            "Epoch 14/100\n",
            "18/18 [==============================] - 0s 27ms/step - loss: 130.6127 - mae: 130.6127 - mse: 96225.1328 - val_loss: 751.3234 - val_mae: 751.3233 - val_mse: 1749609.0000\n",
            "Epoch 15/100\n",
            "18/18 [==============================] - 0s 26ms/step - loss: 128.8347 - mae: 128.8347 - mse: 94306.9922 - val_loss: 696.5756 - val_mae: 696.5756 - val_mse: 1606352.3750\n",
            "Epoch 16/100\n",
            "18/18 [==============================] - 0s 4ms/step - loss: 124.7739 - mae: 124.7739 - mse: 90394.9375 - val_loss: 702.4698 - val_mae: 702.4698 - val_mse: 1592416.2500\n",
            "Epoch 17/100\n",
            "18/18 [==============================] - 0s 5ms/step - loss: 123.4474 - mae: 123.4474 - mse: 89247.7031 - val_loss: 704.9239 - val_mae: 704.9239 - val_mse: 1580782.7500\n",
            "Epoch 18/100\n",
            "18/18 [==============================] - 0s 26ms/step - loss: 122.2105 - mae: 122.2105 - mse: 87607.5938 - val_loss: 667.9724 - val_mae: 667.9724 - val_mse: 1498881.8750\n",
            "Epoch 19/100\n",
            "18/18 [==============================] - 0s 4ms/step - loss: 121.7263 - mae: 121.7263 - mse: 86632.2422 - val_loss: 718.8796 - val_mae: 718.8796 - val_mse: 1589299.3750\n",
            "Epoch 20/100\n",
            "18/18 [==============================] - 1s 39ms/step - loss: 119.2420 - mae: 119.2420 - mse: 84334.3203 - val_loss: 657.0666 - val_mae: 657.0666 - val_mse: 1447501.1250\n",
            "Epoch 21/100\n",
            "18/18 [==============================] - 0s 26ms/step - loss: 121.2275 - mae: 121.2275 - mse: 85743.3828 - val_loss: 637.0333 - val_mae: 637.0333 - val_mse: 1401774.2500\n",
            "Epoch 22/100\n",
            "18/18 [==============================] - 0s 5ms/step - loss: 119.9544 - mae: 119.9544 - mse: 84050.1094 - val_loss: 671.2488 - val_mae: 671.2488 - val_mse: 1447895.7500\n",
            "Epoch 23/100\n",
            "18/18 [==============================] - 0s 25ms/step - loss: 121.9248 - mae: 121.9248 - mse: 83746.1250 - val_loss: 633.3592 - val_mae: 633.3592 - val_mse: 1367377.8750\n",
            "Epoch 24/100\n",
            "18/18 [==============================] - 0s 26ms/step - loss: 116.3665 - mae: 116.3665 - mse: 81446.6562 - val_loss: 624.4852 - val_mae: 624.4852 - val_mse: 1348960.6250\n",
            "Epoch 25/100\n",
            "18/18 [==============================] - 1s 37ms/step - loss: 114.6816 - mae: 114.6816 - mse: 78912.8359 - val_loss: 619.7570 - val_mae: 619.7570 - val_mse: 1351089.7500\n",
            "Epoch 26/100\n",
            "18/18 [==============================] - 1s 47ms/step - loss: 116.4455 - mae: 116.4455 - mse: 79365.5938 - val_loss: 615.6364 - val_mae: 615.6364 - val_mse: 1321514.3750\n",
            "Epoch 27/100\n",
            "18/18 [==============================] - 0s 8ms/step - loss: 116.5868 - mae: 116.5868 - mse: 78672.9062 - val_loss: 615.9629 - val_mae: 615.9629 - val_mse: 1313077.5000\n",
            "Epoch 28/100\n",
            "18/18 [==============================] - 1s 51ms/step - loss: 113.4691 - mae: 113.4691 - mse: 77440.0938 - val_loss: 608.0921 - val_mae: 608.0921 - val_mse: 1309775.3750\n",
            "Epoch 29/100\n",
            "18/18 [==============================] - 0s 7ms/step - loss: 113.7598 - mae: 113.7598 - mse: 78506.9531 - val_loss: 621.9305 - val_mae: 621.9305 - val_mse: 1313324.6250\n",
            "Epoch 30/100\n",
            "18/18 [==============================] - 1s 44ms/step - loss: 116.8613 - mae: 116.8613 - mse: 79236.4609 - val_loss: 604.4056 - val_mae: 604.4056 - val_mse: 1283408.0000\n",
            "Epoch 31/100\n",
            "18/18 [==============================] - 0s 8ms/step - loss: 111.9375 - mae: 111.9375 - mse: 74849.0703 - val_loss: 609.3882 - val_mae: 609.3882 - val_mse: 1284506.2500\n",
            "Epoch 32/100\n",
            "18/18 [==============================] - 1s 49ms/step - loss: 112.4175 - mae: 112.4175 - mse: 77178.5859 - val_loss: 603.0588 - val_mae: 603.0588 - val_mse: 1273059.5000\n",
            "Epoch 33/100\n",
            "18/18 [==============================] - 0s 7ms/step - loss: 112.6697 - mae: 112.6697 - mse: 75787.9766 - val_loss: 645.6973 - val_mae: 645.6973 - val_mse: 1353255.7500\n",
            "Epoch 34/100\n",
            "18/18 [==============================] - 0s 7ms/step - loss: 111.9867 - mae: 111.9867 - mse: 77245.7266 - val_loss: 604.7634 - val_mae: 604.7634 - val_mse: 1289360.3750\n",
            "Epoch 35/100\n",
            "18/18 [==============================] - 1s 66ms/step - loss: 110.9451 - mae: 110.9451 - mse: 75301.7812 - val_loss: 593.4648 - val_mae: 593.4648 - val_mse: 1250491.3750\n",
            "Epoch 36/100\n",
            "18/18 [==============================] - 0s 6ms/step - loss: 114.4816 - mae: 114.4816 - mse: 76138.5391 - val_loss: 608.0074 - val_mae: 608.0074 - val_mse: 1269272.3750\n",
            "Epoch 37/100\n",
            "18/18 [==============================] - 0s 7ms/step - loss: 110.2016 - mae: 110.2016 - mse: 74635.3047 - val_loss: 597.2308 - val_mae: 597.2308 - val_mse: 1248474.0000\n",
            "Epoch 38/100\n",
            "18/18 [==============================] - 0s 6ms/step - loss: 112.2372 - mae: 112.2372 - mse: 75821.6953 - val_loss: 637.9798 - val_mae: 637.9798 - val_mse: 1366130.8750\n",
            "Epoch 39/100\n",
            "18/18 [==============================] - 1s 44ms/step - loss: 115.1289 - mae: 115.1289 - mse: 76339.6797 - val_loss: 587.4680 - val_mae: 587.4680 - val_mse: 1233512.3750\n",
            "Epoch 40/100\n",
            "18/18 [==============================] - 0s 9ms/step - loss: 110.0854 - mae: 110.0854 - mse: 73528.4766 - val_loss: 592.7117 - val_mae: 592.7117 - val_mse: 1251474.6250\n",
            "Epoch 41/100\n",
            "18/18 [==============================] - 0s 8ms/step - loss: 110.6344 - mae: 110.6344 - mse: 73528.7891 - val_loss: 593.8997 - val_mae: 593.8997 - val_mse: 1253678.5000\n",
            "Epoch 42/100\n",
            "18/18 [==============================] - 0s 7ms/step - loss: 113.5762 - mae: 113.5762 - mse: 77076.7031 - val_loss: 636.3674 - val_mae: 636.3674 - val_mse: 1317283.5000\n",
            "Epoch 43/100\n",
            "18/18 [==============================] - 0s 6ms/step - loss: 116.2285 - mae: 116.2285 - mse: 74712.2031 - val_loss: 662.9263 - val_mae: 662.9263 - val_mse: 1419201.7500\n",
            "Epoch 44/100\n",
            "18/18 [==============================] - 0s 8ms/step - loss: 120.0192 - mae: 120.0192 - mse: 80971.8750 - val_loss: 635.6360 - val_mae: 635.6360 - val_mse: 1345999.3750\n",
            "Epoch 45/100\n",
            "18/18 [==============================] - 0s 6ms/step - loss: 110.9675 - mae: 110.9675 - mse: 74941.2891 - val_loss: 601.9926 - val_mae: 601.9926 - val_mse: 1244816.7500\n",
            "Epoch 46/100\n",
            "18/18 [==============================] - 0s 9ms/step - loss: 111.6012 - mae: 111.6012 - mse: 74565.6016 - val_loss: 593.3531 - val_mae: 593.3531 - val_mse: 1248764.3750\n",
            "Epoch 47/100\n",
            "18/18 [==============================] - 0s 7ms/step - loss: 109.6161 - mae: 109.6161 - mse: 74190.7109 - val_loss: 637.0011 - val_mae: 637.0011 - val_mse: 1314970.2500\n",
            "Epoch 48/100\n",
            "18/18 [==============================] - 0s 9ms/step - loss: 109.1368 - mae: 109.1368 - mse: 72792.5547 - val_loss: 598.4197 - val_mae: 598.4197 - val_mse: 1234610.1250\n",
            "Epoch 49/100\n",
            "18/18 [==============================] - 1s 54ms/step - loss: 112.4355 - mae: 112.4355 - mse: 73980.3359 - val_loss: 579.7042 - val_mae: 579.7042 - val_mse: 1208301.8750\n",
            "Epoch 50/100\n",
            "18/18 [==============================] - 0s 8ms/step - loss: 110.2108 - mae: 110.2108 - mse: 72939.7109 - val_loss: 639.2327 - val_mae: 639.2327 - val_mse: 1347994.1250\n",
            "Epoch 51/100\n",
            "18/18 [==============================] - 0s 9ms/step - loss: 111.0958 - mae: 111.0958 - mse: 73281.9062 - val_loss: 597.3571 - val_mae: 597.3571 - val_mse: 1229791.1250\n",
            "Epoch 52/100\n",
            "18/18 [==============================] - 0s 9ms/step - loss: 110.7351 - mae: 110.7351 - mse: 74529.6328 - val_loss: 580.7227 - val_mae: 580.7227 - val_mse: 1215477.1250\n",
            "Epoch 53/100\n",
            "18/18 [==============================] - 0s 8ms/step - loss: 111.1785 - mae: 111.1785 - mse: 74149.4766 - val_loss: 648.3586 - val_mae: 648.3586 - val_mse: 1336951.1250\n",
            "Epoch 54/100\n",
            "18/18 [==============================] - 0s 10ms/step - loss: 114.0831 - mae: 114.0831 - mse: 74815.0781 - val_loss: 593.2006 - val_mae: 593.2006 - val_mse: 1220661.2500\n",
            "Epoch 55/100\n",
            "18/18 [==============================] - 1s 57ms/step - loss: 110.4910 - mae: 110.4910 - mse: 74711.2500 - val_loss: 579.5067 - val_mae: 579.5067 - val_mse: 1211580.3750\n",
            "Epoch 56/100\n",
            "18/18 [==============================] - 0s 9ms/step - loss: 108.0488 - mae: 108.0488 - mse: 71844.1562 - val_loss: 807.3853 - val_mae: 807.3853 - val_mse: 1859293.0000\n",
            "Epoch 57/100\n",
            "18/18 [==============================] - 0s 9ms/step - loss: 125.0614 - mae: 125.0614 - mse: 84025.2812 - val_loss: 674.1658 - val_mae: 674.1658 - val_mse: 1437687.2500\n",
            "Epoch 58/100\n",
            "18/18 [==============================] - 0s 8ms/step - loss: 115.4340 - mae: 115.4340 - mse: 73710.7500 - val_loss: 582.2697 - val_mae: 582.2697 - val_mse: 1202679.6250\n",
            "Epoch 59/100\n",
            "18/18 [==============================] - 0s 9ms/step - loss: 110.0881 - mae: 110.0881 - mse: 72845.1172 - val_loss: 606.7640 - val_mae: 606.7640 - val_mse: 1267544.0000\n",
            "Epoch 60/100\n",
            "18/18 [==============================] - 0s 7ms/step - loss: 108.7156 - mae: 108.7156 - mse: 72675.7734 - val_loss: 602.3099 - val_mae: 602.3099 - val_mse: 1234689.8750\n",
            "Epoch 61/100\n",
            "18/18 [==============================] - 1s 60ms/step - loss: 108.1525 - mae: 108.1525 - mse: 72252.1250 - val_loss: 573.9990 - val_mae: 573.9990 - val_mse: 1189583.5000\n",
            "Epoch 62/100\n",
            "18/18 [==============================] - 0s 11ms/step - loss: 107.3726 - mae: 107.3726 - mse: 70822.7891 - val_loss: 581.7015 - val_mae: 581.7015 - val_mse: 1214006.6250\n",
            "Epoch 63/100\n",
            "18/18 [==============================] - 0s 7ms/step - loss: 110.7667 - mae: 110.7667 - mse: 73178.4453 - val_loss: 637.5243 - val_mae: 637.5243 - val_mse: 1311201.6250\n",
            "Epoch 64/100\n",
            "18/18 [==============================] - 0s 10ms/step - loss: 110.1539 - mae: 110.1539 - mse: 72588.2188 - val_loss: 586.6598 - val_mae: 586.6598 - val_mse: 1207116.3750\n",
            "Epoch 65/100\n",
            "18/18 [==============================] - 1s 51ms/step - loss: 108.2325 - mae: 108.2325 - mse: 71962.0781 - val_loss: 573.5618 - val_mae: 573.5618 - val_mse: 1188986.2500\n",
            "Epoch 66/100\n",
            "18/18 [==============================] - 1s 85ms/step - loss: 108.6826 - mae: 108.6826 - mse: 71026.3516 - val_loss: 572.2206 - val_mae: 572.2206 - val_mse: 1187818.3750\n",
            "Epoch 67/100\n",
            "18/18 [==============================] - 0s 9ms/step - loss: 106.6371 - mae: 106.6371 - mse: 70166.2578 - val_loss: 646.6359 - val_mae: 646.6359 - val_mse: 1356393.0000\n",
            "Epoch 68/100\n",
            "18/18 [==============================] - 0s 7ms/step - loss: 114.1603 - mae: 114.1603 - mse: 71297.3203 - val_loss: 681.8572 - val_mae: 681.8572 - val_mse: 1455430.5000\n",
            "Epoch 69/100\n",
            "18/18 [==============================] - 0s 7ms/step - loss: 124.5514 - mae: 124.5514 - mse: 81238.9609 - val_loss: 655.9892 - val_mae: 655.9892 - val_mse: 1383324.7500\n",
            "Epoch 70/100\n",
            "18/18 [==============================] - 0s 7ms/step - loss: 125.0234 - mae: 125.0234 - mse: 83058.2109 - val_loss: 601.0039 - val_mae: 601.0039 - val_mse: 1256963.6250\n",
            "Epoch 71/100\n",
            "18/18 [==============================] - 0s 7ms/step - loss: 110.3652 - mae: 110.3652 - mse: 71691.4922 - val_loss: 595.3957 - val_mae: 595.3957 - val_mse: 1222771.6250\n",
            "Epoch 72/100\n",
            "18/18 [==============================] - 0s 9ms/step - loss: 107.9285 - mae: 107.9285 - mse: 71745.5391 - val_loss: 573.7084 - val_mae: 573.7084 - val_mse: 1192818.5000\n",
            "Epoch 73/100\n",
            "18/18 [==============================] - 0s 12ms/step - loss: 109.5085 - mae: 109.5085 - mse: 71691.1484 - val_loss: 580.4183 - val_mae: 580.4183 - val_mse: 1211317.6250\n",
            "Epoch 74/100\n",
            "18/18 [==============================] - 0s 12ms/step - loss: 108.7380 - mae: 108.7380 - mse: 72051.1094 - val_loss: 576.1216 - val_mae: 576.1216 - val_mse: 1199670.6250\n",
            "Epoch 75/100\n",
            "18/18 [==============================] - 0s 9ms/step - loss: 107.9404 - mae: 107.9404 - mse: 71043.1328 - val_loss: 591.1470 - val_mae: 591.1470 - val_mse: 1211107.3750\n",
            "Epoch 76/100\n",
            "18/18 [==============================] - 0s 7ms/step - loss: 109.4232 - mae: 109.4232 - mse: 72295.0312 - val_loss: 597.8611 - val_mae: 597.8611 - val_mse: 1243936.2500\n",
            "Epoch 77/100\n",
            "18/18 [==============================] - 1s 47ms/step - loss: 107.5879 - mae: 107.5879 - mse: 70333.8359 - val_loss: 571.9301 - val_mae: 571.9301 - val_mse: 1186830.0000\n",
            "Epoch 78/100\n",
            "18/18 [==============================] - 0s 11ms/step - loss: 108.1598 - mae: 108.1598 - mse: 70200.0781 - val_loss: 575.2387 - val_mae: 575.2387 - val_mse: 1195318.0000\n",
            "Epoch 79/100\n",
            "18/18 [==============================] - 0s 8ms/step - loss: 107.9175 - mae: 107.9175 - mse: 72451.5859 - val_loss: 617.3083 - val_mae: 617.3083 - val_mse: 1285512.5000\n",
            "Epoch 80/100\n",
            "18/18 [==============================] - 0s 10ms/step - loss: 108.9510 - mae: 108.9510 - mse: 72158.7812 - val_loss: 583.4841 - val_mae: 583.4841 - val_mse: 1194356.7500\n",
            "Epoch 81/100\n",
            "18/18 [==============================] - 1s 33ms/step - loss: 106.0505 - mae: 106.0505 - mse: 69690.9219 - val_loss: 570.0803 - val_mae: 570.0803 - val_mse: 1177237.8750\n",
            "Epoch 82/100\n",
            "18/18 [==============================] - 0s 4ms/step - loss: 115.6827 - mae: 115.6827 - mse: 76903.4922 - val_loss: 575.7388 - val_mae: 575.7388 - val_mse: 1194662.6250\n",
            "Epoch 83/100\n",
            "18/18 [==============================] - 0s 4ms/step - loss: 110.9379 - mae: 110.9379 - mse: 72968.2969 - val_loss: 659.6579 - val_mae: 659.6579 - val_mse: 1388829.8750\n",
            "Epoch 84/100\n",
            "18/18 [==============================] - 0s 4ms/step - loss: 111.4836 - mae: 111.4836 - mse: 73017.9375 - val_loss: 570.1957 - val_mae: 570.1957 - val_mse: 1177492.2500\n",
            "Epoch 85/100\n",
            "18/18 [==============================] - 0s 4ms/step - loss: 107.5949 - mae: 107.5949 - mse: 70728.2266 - val_loss: 601.5938 - val_mae: 601.5938 - val_mse: 1228450.6250\n",
            "Epoch 86/100\n",
            "18/18 [==============================] - 0s 4ms/step - loss: 108.9425 - mae: 108.9425 - mse: 70066.7500 - val_loss: 592.8101 - val_mae: 592.8101 - val_mse: 1209680.7500\n",
            "Epoch 87/100\n",
            "18/18 [==============================] - 0s 4ms/step - loss: 105.7717 - mae: 105.7717 - mse: 68382.3516 - val_loss: 603.6174 - val_mae: 603.6174 - val_mse: 1252409.5000\n",
            "Epoch 88/100\n",
            "18/18 [==============================] - 0s 27ms/step - loss: 107.9217 - mae: 107.9217 - mse: 71668.0469 - val_loss: 569.0499 - val_mae: 569.0499 - val_mse: 1174588.3750\n",
            "Epoch 89/100\n",
            "18/18 [==============================] - 0s 26ms/step - loss: 106.0344 - mae: 106.0344 - mse: 68979.1484 - val_loss: 568.9510 - val_mae: 568.9510 - val_mse: 1171743.5000\n",
            "Epoch 90/100\n",
            "18/18 [==============================] - 0s 5ms/step - loss: 105.4977 - mae: 105.4977 - mse: 67516.5000 - val_loss: 581.7678 - val_mae: 581.7678 - val_mse: 1190160.6250\n",
            "Epoch 91/100\n",
            "18/18 [==============================] - 0s 5ms/step - loss: 108.8468 - mae: 108.8468 - mse: 71112.3438 - val_loss: 573.6025 - val_mae: 573.6025 - val_mse: 1185216.2500\n",
            "Epoch 92/100\n",
            "18/18 [==============================] - 0s 4ms/step - loss: 110.8884 - mae: 110.8884 - mse: 73287.8125 - val_loss: 576.8243 - val_mae: 576.8243 - val_mse: 1181628.3750\n",
            "Epoch 93/100\n",
            "18/18 [==============================] - 0s 4ms/step - loss: 113.8781 - mae: 113.8781 - mse: 75236.4375 - val_loss: 608.3022 - val_mae: 608.3022 - val_mse: 1264206.1250\n",
            "Epoch 94/100\n",
            "18/18 [==============================] - 0s 4ms/step - loss: 110.5763 - mae: 110.5763 - mse: 72590.8672 - val_loss: 601.6041 - val_mae: 601.6041 - val_mse: 1229105.0000\n",
            "Epoch 95/100\n",
            "18/18 [==============================] - 0s 4ms/step - loss: 106.5906 - mae: 106.5906 - mse: 68612.3281 - val_loss: 570.3651 - val_mae: 570.3651 - val_mse: 1175759.3750\n",
            "Epoch 96/100\n",
            "18/18 [==============================] - 0s 4ms/step - loss: 116.9515 - mae: 116.9515 - mse: 75082.1172 - val_loss: 615.2584 - val_mae: 615.2584 - val_mse: 1277124.5000\n",
            "Epoch 97/100\n",
            "18/18 [==============================] - 0s 5ms/step - loss: 108.0739 - mae: 108.0739 - mse: 71321.4219 - val_loss: 580.3076 - val_mae: 580.3076 - val_mse: 1202622.2500\n",
            "Epoch 98/100\n",
            "18/18 [==============================] - 0s 5ms/step - loss: 108.7102 - mae: 108.7102 - mse: 70248.0703 - val_loss: 586.6510 - val_mae: 586.6510 - val_mse: 1200831.5000\n",
            "Epoch 99/100\n",
            "18/18 [==============================] - 0s 4ms/step - loss: 109.0488 - mae: 109.0488 - mse: 70913.1641 - val_loss: 570.0628 - val_mae: 570.0628 - val_mse: 1177064.5000\n",
            "Epoch 100/100\n",
            "18/18 [==============================] - 0s 4ms/step - loss: 106.1845 - mae: 106.1845 - mse: 68681.7266 - val_loss: 585.9758 - val_mae: 585.9758 - val_mse: 1197802.1250\n"
          ]
        },
        {
          "output_type": "execute_result",
          "data": {
            "text/plain": [
              "<keras.callbacks.History at 0x7f8e70256df0>"
            ]
          },
          "metadata": {},
          "execution_count": 45
        }
      ]
    },
    {
      "cell_type": "code",
      "source": [
        "# Evaluate model on test data\n",
        "model_1.evaluate(test_windows,test_labels)"
      ],
      "metadata": {
        "id": "2b00KNwKfRe4",
        "colab": {
          "base_uri": "https://localhost:8080/"
        },
        "outputId": "b3d752bc-5113-4c38-bae6-ed09f80decb1"
      },
      "execution_count": 46,
      "outputs": [
        {
          "output_type": "stream",
          "name": "stdout",
          "text": [
            "18/18 [==============================] - 0s 2ms/step - loss: 585.9758 - mae: 585.9758 - mse: 1197802.1250\n"
          ]
        },
        {
          "output_type": "execute_result",
          "data": {
            "text/plain": [
              "[585.9757690429688, 585.9757690429688, 1197802.125]"
            ]
          },
          "metadata": {},
          "execution_count": 46
        }
      ]
    },
    {
      "cell_type": "code",
      "source": [
        "# Load in the best performing model\n",
        "model_1 = tf.keras.models.load_model(\"model_experiments/model_1_dense/\")\n",
        "model_1.evaluate(test_windows,test_labels)"
      ],
      "metadata": {
        "id": "X2TdhAisgOTJ",
        "colab": {
          "base_uri": "https://localhost:8080/"
        },
        "outputId": "e5bf7ce6-dc1e-4cb3-ab3e-acbffda06f90"
      },
      "execution_count": 47,
      "outputs": [
        {
          "output_type": "stream",
          "name": "stdout",
          "text": [
            "18/18 [==============================] - 0s 2ms/step - loss: 568.9510 - mae: 568.9510 - mse: 1171743.6250\n"
          ]
        },
        {
          "output_type": "execute_result",
          "data": {
            "text/plain": [
              "[568.9510498046875, 568.9510498046875, 1171743.625]"
            ]
          },
          "metadata": {},
          "execution_count": 47
        }
      ]
    },
    {
      "cell_type": "markdown",
      "source": [
        "## Making forcast with a model (on the test set)\n",
        "\n",
        "It takes in a model  and does the following \n",
        "1. Takes some input data\n",
        "2. Passes the data to the models predict method\n",
        "3. Returns the predicted output"
      ],
      "metadata": {
        "id": "AkVBZz9ahC5f"
      }
    },
    {
      "cell_type": "code",
      "source": [
        "def make_preds(model,input_data):\n",
        "  \"\"\"\n",
        "  Uses model to make predictions on input data\n",
        "  \"\"\"\n",
        "  forcast = model.predict(input_data)\n",
        "  return(tf.squeeze(forcast))"
      ],
      "metadata": {
        "id": "6AtKoNnIiIGI"
      },
      "execution_count": 48,
      "outputs": []
    },
    {
      "cell_type": "code",
      "source": [
        "model_1_preds=make_preds(model_1,test_windows)\n",
        "len(model_1_preds),model_1_preds[:10]"
      ],
      "metadata": {
        "id": "6J9Q29o3clue",
        "colab": {
          "base_uri": "https://localhost:8080/"
        },
        "outputId": "4d4c225c-d615-4baf-86d1-4d19aca34d43"
      },
      "execution_count": 49,
      "outputs": [
        {
          "output_type": "stream",
          "name": "stdout",
          "text": [
            "18/18 [==============================] - 0s 1ms/step\n"
          ]
        },
        {
          "output_type": "execute_result",
          "data": {
            "text/plain": [
              "(556, <tf.Tensor: shape=(10,), dtype=float32, numpy=\n",
              " array([8861.71 , 8769.887, 9015.711, 8795.519, 8723.811, 8730.111,\n",
              "        8691.952, 8502.054, 8460.961, 8516.548], dtype=float32)>)"
            ]
          },
          "metadata": {},
          "execution_count": 49
        }
      ]
    },
    {
      "cell_type": "code",
      "source": [
        "# Evaluate preds\n",
        "model_1_results = evaluate_preds(y_true = tf.squeeze(test_labels),\n",
        "                                 y_pred = model_1_preds)\n",
        "model_1_results"
      ],
      "metadata": {
        "id": "sK5tImCzdQoK",
        "colab": {
          "base_uri": "https://localhost:8080/"
        },
        "outputId": "cc563571-7a1e-40e1-9a07-b5b7d1c4b12d"
      },
      "execution_count": 50,
      "outputs": [
        {
          "output_type": "execute_result",
          "data": {
            "text/plain": [
              "{'mae': 568.95105,\n",
              " 'mse': 1171743.8,\n",
              " 'rmse': 1082.4711,\n",
              " 'mape': 2.5448983,\n",
              " 'mase': 0.9994894}"
            ]
          },
          "metadata": {},
          "execution_count": 50
        }
      ]
    },
    {
      "cell_type": "code",
      "source": [
        "naive_results"
      ],
      "metadata": {
        "id": "ZIDh5wVedyVE",
        "colab": {
          "base_uri": "https://localhost:8080/"
        },
        "outputId": "8125a774-9aa5-4d18-e5c2-c414d6dd65f1"
      },
      "execution_count": 51,
      "outputs": [
        {
          "output_type": "execute_result",
          "data": {
            "text/plain": [
              "{'mae': 567.9802,\n",
              " 'mse': 1147547.0,\n",
              " 'rmse': 1071.2362,\n",
              " 'mape': 2.516525,\n",
              " 'mase': 0.99957}"
            ]
          },
          "metadata": {},
          "execution_count": 51
        }
      ]
    },
    {
      "cell_type": "code",
      "source": [
        "# Lets Plot our model 1 predictions\n",
        "offset = 300\n",
        "\n",
        "plt.figure(figsize=(10,7))\n",
        "\n",
        "# Account for the test_window offset and index into test_labels to ensure correct plotting \n",
        "plot_time_series(timesteps = x_test[-len(test_windows):],values = test_labels[:,0],start=offset , label=\"Test Data\")\n",
        "\n",
        "plot_time_series(timesteps = x_test[-len(test_windows):],values =model_1_preds,start=offset,format = \"-\",label = \"Model_1_preds\")"
      ],
      "metadata": {
        "colab": {
          "base_uri": "https://localhost:8080/",
          "height": 442
        },
        "id": "gO1oHD1dd7SB",
        "outputId": "f2fb0f76-652b-4b67-a3f3-88f707ff50a9"
      },
      "execution_count": 52,
      "outputs": [
        {
          "output_type": "display_data",
          "data": {
            "text/plain": [
              "<Figure size 720x504 with 1 Axes>"
            ],
            "image/png": "[encoded data removed]"
          },
          "metadata": {
            "needs_background": "light"
          }
        }
      ]
    },
    {
      "cell_type": "code",
      "source": [
        "input_data = prices[:-30]\n",
        "targets = prices[30:]\n",
        "Windows=tf.keras.preprocessing.timeseries_dataset_from_array(data=input_data,targets=targets,sequence_length=30,batch_size=None)"
      ],
      "metadata": {
        "id": "4_AmN_WPenBT"
      },
      "execution_count": 53,
      "outputs": []
    },
    {
      "cell_type": "code",
      "source": [
        "prices[:32]"
      ],
      "metadata": {
        "colab": {
          "base_uri": "https://localhost:8080/"
        },
        "id": "o4qE1onTkNNg",
        "outputId": "bd22324b-1d09-48a3-a49f-44eaa2ffd317"
      },
      "execution_count": 54,
      "outputs": [
        {
          "output_type": "execute_result",
          "data": {
            "text/plain": [
              "array([123.65499, 125.455  , 108.58483, 118.67466, 121.33866, 120.65533,\n",
              "       121.795  , 123.033  , 124.049  , 125.96116, 125.27966, 125.9275 ,\n",
              "       126.38333, 135.24199, 133.20333, 142.76333, 137.92333, 142.95166,\n",
              "       152.55183, 160.33883, 164.31499, 177.63333, 188.29716, 200.70166,\n",
              "       180.355  , 175.03166, 177.6965 , 187.15983, 192.75666, 197.4    ,\n",
              "       196.02499, 198.04883])"
            ]
          },
          "metadata": {},
          "execution_count": 54
        }
      ]
    },
    {
      "cell_type": "code",
      "source": [
        "windows = []\n",
        "labels = []\n",
        "for i,x in Windows:\n",
        "    windows.append(i)\n",
        "    labels.append(x)"
      ],
      "metadata": {
        "id": "QYYUDB2qggBL"
      },
      "execution_count": 55,
      "outputs": []
    },
    {
      "cell_type": "code",
      "source": [
        "windows[:10],labels[:10],len(windows),len(labels)"
      ],
      "metadata": {
        "colab": {
          "base_uri": "https://localhost:8080/"
        },
        "id": "PZUoJ7Tlgl8D",
        "outputId": "1f789293-effc-47c7-87f6-2d42d643eb55"
      },
      "execution_count": 56,
      "outputs": [
        {
          "output_type": "execute_result",
          "data": {
            "text/plain": [
              "([<tf.Tensor: shape=(30,), dtype=float64, numpy=\n",
              "  array([123.65499, 125.455  , 108.58483, 118.67466, 121.33866, 120.65533,\n",
              "         121.795  , 123.033  , 124.049  , 125.96116, 125.27966, 125.9275 ,\n",
              "         126.38333, 135.24199, 133.20333, 142.76333, 137.92333, 142.95166,\n",
              "         152.55183, 160.33883, 164.31499, 177.63333, 188.29716, 200.70166,\n",
              "         180.355  , 175.03166, 177.6965 , 187.15983, 192.75666, 197.4    ])>,\n",
              "  <tf.Tensor: shape=(30,), dtype=float64, numpy=\n",
              "  array([125.455  , 108.58483, 118.67466, 121.33866, 120.65533, 121.795  ,\n",
              "         123.033  , 124.049  , 125.96116, 125.27966, 125.9275 , 126.38333,\n",
              "         135.24199, 133.20333, 142.76333, 137.92333, 142.95166, 152.55183,\n",
              "         160.33883, 164.31499, 177.63333, 188.29716, 200.70166, 180.355  ,\n",
              "         175.03166, 177.6965 , 187.15983, 192.75666, 197.4    , 196.02499])>,\n",
              "  <tf.Tensor: shape=(30,), dtype=float64, numpy=\n",
              "  array([108.58483, 118.67466, 121.33866, 120.65533, 121.795  , 123.033  ,\n",
              "         124.049  , 125.96116, 125.27966, 125.9275 , 126.38333, 135.24199,\n",
              "         133.20333, 142.76333, 137.92333, 142.95166, 152.55183, 160.33883,\n",
              "         164.31499, 177.63333, 188.29716, 200.70166, 180.355  , 175.03166,\n",
              "         177.6965 , 187.15983, 192.75666, 197.4    , 196.02499, 198.04883])>,\n",
              "  <tf.Tensor: shape=(30,), dtype=float64, numpy=\n",
              "  array([118.67466, 121.33866, 120.65533, 121.795  , 123.033  , 124.049  ,\n",
              "         125.96116, 125.27966, 125.9275 , 126.38333, 135.24199, 133.20333,\n",
              "         142.76333, 137.92333, 142.95166, 152.55183, 160.33883, 164.31499,\n",
              "         177.63333, 188.29716, 200.70166, 180.355  , 175.03166, 177.6965 ,\n",
              "         187.15983, 192.75666, 197.4    , 196.02499, 198.04883, 198.93233])>,\n",
              "  <tf.Tensor: shape=(30,), dtype=float64, numpy=\n",
              "  array([121.33866, 120.65533, 121.795  , 123.033  , 124.049  , 125.96116,\n",
              "         125.27966, 125.9275 , 126.38333, 135.24199, 133.20333, 142.76333,\n",
              "         137.92333, 142.95166, 152.55183, 160.33883, 164.31499, 177.63333,\n",
              "         188.29716, 200.70166, 180.355  , 175.03166, 177.6965 , 187.15983,\n",
              "         192.75666, 197.4    , 196.02499, 198.04883, 198.93233, 200.543  ])>,\n",
              "  <tf.Tensor: shape=(30,), dtype=float64, numpy=\n",
              "  array([120.65533, 121.795  , 123.033  , 124.049  , 125.96116, 125.27966,\n",
              "         125.9275 , 126.38333, 135.24199, 133.20333, 142.76333, 137.92333,\n",
              "         142.95166, 152.55183, 160.33883, 164.31499, 177.63333, 188.29716,\n",
              "         200.70166, 180.355  , 175.03166, 177.6965 , 187.15983, 192.75666,\n",
              "         197.4    , 196.02499, 198.04883, 198.93233, 200.543  , 210.3075 ])>,\n",
              "  <tf.Tensor: shape=(30,), dtype=float64, numpy=\n",
              "  array([121.795  , 123.033  , 124.049  , 125.96116, 125.27966, 125.9275 ,\n",
              "         126.38333, 135.24199, 133.20333, 142.76333, 137.92333, 142.95166,\n",
              "         152.55183, 160.33883, 164.31499, 177.63333, 188.29716, 200.70166,\n",
              "         180.355  , 175.03166, 177.6965 , 187.15983, 192.75666, 197.4    ,\n",
              "         196.02499, 198.04883, 198.93233, 200.543  , 210.3075 , 225.02   ])>,\n",
              "  <tf.Tensor: shape=(30,), dtype=float64, numpy=\n",
              "  array([123.033  , 124.049  , 125.96116, 125.27966, 125.9275 , 126.38333,\n",
              "         135.24199, 133.20333, 142.76333, 137.92333, 142.95166, 152.55183,\n",
              "         160.33883, 164.31499, 177.63333, 188.29716, 200.70166, 180.355  ,\n",
              "         175.03166, 177.6965 , 187.15983, 192.75666, 197.4    , 196.02499,\n",
              "         198.04883, 198.93233, 200.543  , 210.3075 , 225.02   , 248.25333])>,\n",
              "  <tf.Tensor: shape=(30,), dtype=float64, numpy=\n",
              "  array([124.049  , 125.96116, 125.27966, 125.9275 , 126.38333, 135.24199,\n",
              "         133.20333, 142.76333, 137.92333, 142.95166, 152.55183, 160.33883,\n",
              "         164.31499, 177.63333, 188.29716, 200.70166, 180.355  , 175.03166,\n",
              "         177.6965 , 187.15983, 192.75666, 197.4    , 196.02499, 198.04883,\n",
              "         198.93233, 200.543  , 210.3075 , 225.02   , 248.25333, 262.32666])>,\n",
              "  <tf.Tensor: shape=(30,), dtype=float64, numpy=\n",
              "  array([125.96116, 125.27966, 125.9275 , 126.38333, 135.24199, 133.20333,\n",
              "         142.76333, 137.92333, 142.95166, 152.55183, 160.33883, 164.31499,\n",
              "         177.63333, 188.29716, 200.70166, 180.355  , 175.03166, 177.6965 ,\n",
              "         187.15983, 192.75666, 197.4    , 196.02499, 198.04883, 198.93233,\n",
              "         200.543  , 210.3075 , 225.02   , 248.25333, 262.32666, 294.48699])>],\n",
              " [<tf.Tensor: shape=(), dtype=float64, numpy=196.02499>,\n",
              "  <tf.Tensor: shape=(), dtype=float64, numpy=198.04883>,\n",
              "  <tf.Tensor: shape=(), dtype=float64, numpy=198.93233>,\n",
              "  <tf.Tensor: shape=(), dtype=float64, numpy=200.543>,\n",
              "  <tf.Tensor: shape=(), dtype=float64, numpy=210.3075>,\n",
              "  <tf.Tensor: shape=(), dtype=float64, numpy=225.02>,\n",
              "  <tf.Tensor: shape=(), dtype=float64, numpy=248.25333>,\n",
              "  <tf.Tensor: shape=(), dtype=float64, numpy=262.32666>,\n",
              "  <tf.Tensor: shape=(), dtype=float64, numpy=294.48699>,\n",
              "  <tf.Tensor: shape=(), dtype=float64, numpy=331.10325>],\n",
              " 2728,\n",
              " 2728)"
            ]
          },
          "metadata": {},
          "execution_count": 56
        }
      ]
    },
    {
      "cell_type": "code",
      "source": [
        "len(windows),len(labels)"
      ],
      "metadata": {
        "colab": {
          "base_uri": "https://localhost:8080/"
        },
        "id": "_gDOcWDR5pCE",
        "outputId": "7ac66b55-e875-4693-d6e2-1073334c7ae4"
      },
      "execution_count": 57,
      "outputs": [
        {
          "output_type": "execute_result",
          "data": {
            "text/plain": [
              "(2728, 2728)"
            ]
          },
          "metadata": {},
          "execution_count": 57
        }
      ]
    },
    {
      "cell_type": "code",
      "source": [
        "2728*0.8"
      ],
      "metadata": {
        "colab": {
          "base_uri": "https://localhost:8080/"
        },
        "id": "BI4p4qSI5xMJ",
        "outputId": "86820a33-6d79-418e-8823-aef37bc86b0e"
      },
      "execution_count": 58,
      "outputs": [
        {
          "output_type": "execute_result",
          "data": {
            "text/plain": [
              "2182.4"
            ]
          },
          "metadata": {},
          "execution_count": 58
        }
      ]
    },
    {
      "cell_type": "code",
      "source": [
        "train_windows = np.array(windows[:2183])\n",
        "train_labels = np.array(labels[:2183])\n",
        "test_windows = np.array(windows[2183:])\n",
        "test_labels = np.array(labels[2183:])"
      ],
      "metadata": {
        "id": "fDalH9kEjWgj"
      },
      "execution_count": 59,
      "outputs": []
    },
    {
      "cell_type": "code",
      "source": [
        "train_windows[:3],test_windows[:3]"
      ],
      "metadata": {
        "colab": {
          "base_uri": "https://localhost:8080/"
        },
        "id": "a0RbD9sNVlAk",
        "outputId": "cf3ef5b4-91f1-42c0-d8c1-6a0f5ba8701a"
      },
      "execution_count": 60,
      "outputs": [
        {
          "output_type": "execute_result",
          "data": {
            "text/plain": [
              "(array([[123.65499, 125.455  , 108.58483, 118.67466, 121.33866, 120.65533,\n",
              "         121.795  , 123.033  , 124.049  , 125.96116, 125.27966, 125.9275 ,\n",
              "         126.38333, 135.24199, 133.20333, 142.76333, 137.92333, 142.95166,\n",
              "         152.55183, 160.33883, 164.31499, 177.63333, 188.29716, 200.70166,\n",
              "         180.355  , 175.03166, 177.6965 , 187.15983, 192.75666, 197.4    ],\n",
              "        [125.455  , 108.58483, 118.67466, 121.33866, 120.65533, 121.795  ,\n",
              "         123.033  , 124.049  , 125.96116, 125.27966, 125.9275 , 126.38333,\n",
              "         135.24199, 133.20333, 142.76333, 137.92333, 142.95166, 152.55183,\n",
              "         160.33883, 164.31499, 177.63333, 188.29716, 200.70166, 180.355  ,\n",
              "         175.03166, 177.6965 , 187.15983, 192.75666, 197.4    , 196.02499],\n",
              "        [108.58483, 118.67466, 121.33866, 120.65533, 121.795  , 123.033  ,\n",
              "         124.049  , 125.96116, 125.27966, 125.9275 , 126.38333, 135.24199,\n",
              "         133.20333, 142.76333, 137.92333, 142.95166, 152.55183, 160.33883,\n",
              "         164.31499, 177.63333, 188.29716, 200.70166, 180.355  , 175.03166,\n",
              "         177.6965 , 187.15983, 192.75666, 197.4    , 196.02499, 198.04883]]),\n",
              " array([[10031.86670899,  9719.71869611,  8688.97352596,  8438.70855249,\n",
              "          8103.21089959,  8195.210697  ,  8146.414032  ,  8085.71329042,\n",
              "          8241.34147   ,  8333.68919042,  8273.46401766,  8203.8438328 ,\n",
              "          8163.9026381 ,  8137.14668904,  7853.69330483,  8236.2083793 ,\n",
              "          8201.63781819,  8572.38081243,  8582.1445177 ,  8320.1715814 ,\n",
              "          8328.60426039,  8282.17732583,  8337.81899854,  8162.44      ,\n",
              "          8003.82039479,  8058.05808111,  7970.2394756 ,  7943.34710706,\n",
              "          8200.3187634 ,  8200.24609949],\n",
              "        [ 9719.71869611,  8688.97352596,  8438.70855249,  8103.21089959,\n",
              "          8195.210697  ,  8146.414032  ,  8085.71329042,  8241.34147   ,\n",
              "          8333.68919042,  8273.46401766,  8203.8438328 ,  8163.9026381 ,\n",
              "          8137.14668904,  7853.69330483,  8236.2083793 ,  8201.63781819,\n",
              "          8572.38081243,  8582.1445177 ,  8320.1715814 ,  8328.60426039,\n",
              "          8282.17732583,  8337.81899854,  8162.44      ,  8003.82039479,\n",
              "          8058.05808111,  7970.2394756 ,  7943.34710706,  8200.3187634 ,\n",
              "          8200.24609949,  8073.40954388],\n",
              "        [ 8688.97352596,  8438.70855249,  8103.21089959,  8195.210697  ,\n",
              "          8146.414032  ,  8085.71329042,  8241.34147   ,  8333.68919042,\n",
              "          8273.46401766,  8203.8438328 ,  8163.9026381 ,  8137.14668904,\n",
              "          7853.69330483,  8236.2083793 ,  8201.63781819,  8572.38081243,\n",
              "          8582.1445177 ,  8320.1715814 ,  8328.60426039,  8282.17732583,\n",
              "          8337.81899854,  8162.44      ,  8003.82039479,  8058.05808111,\n",
              "          7970.2394756 ,  7943.34710706,  8200.3187634 ,  8200.24609949,\n",
              "          8073.40954388,  7420.41583649]]))"
            ]
          },
          "metadata": {},
          "execution_count": 60
        }
      ]
    },
    {
      "cell_type": "code",
      "source": [
        "len(train_windows),len(train_labels),len(test_windows),len(test_labels)"
      ],
      "metadata": {
        "colab": {
          "base_uri": "https://localhost:8080/"
        },
        "id": "CCckv1ksrXfF",
        "outputId": "9e41dab3-1a5e-4285-f862-8b8cbe06c40f"
      },
      "execution_count": 61,
      "outputs": [
        {
          "output_type": "execute_result",
          "data": {
            "text/plain": [
              "(2183, 2183, 545, 545)"
            ]
          },
          "metadata": {},
          "execution_count": 61
        }
      ]
    },
    {
      "cell_type": "markdown",
      "source": [
        "## Creating Dense Model_2"
      ],
      "metadata": {
        "id": "o29JeO13sG2p"
      }
    },
    {
      "cell_type": "code",
      "source": [
        "import tensorflow as tf \n",
        "from tensorflow.keras import layers\n",
        "\n",
        "# Set random seed for as reproducible results as possible\n",
        "tf.random.set_seed(42)\n",
        "# 1. Construct Model\n",
        "model_2 = tf.keras.Sequential([\n",
        "    layers.Dense(128,activation=\"relu\"),\n",
        "    layers.Dense(HORIZON, activation=\"linear\") # Linear activation is just like having no activation at all\n",
        "],name=\"model_2_dense\")# name our model so we can save it\n",
        "# 2. Compile\n",
        "model_2.compile(loss=\"mae\",\n",
        "                optimizer = tf.keras.optimizers.Adam(),\n",
        "                metrics = [\"mae\",\"mse\"])\n",
        "# 3. Fit the model\n",
        "model_2.fit(x = train_windows,\n",
        "            y = train_labels,\n",
        "            epochs=100,\n",
        "            verbose=1,\n",
        "            batch_size=128,\n",
        "            validation_data=(test_windows,test_labels),\n",
        "            callbacks=[create_model_checkpoint(model_name=model_2.name)])"
      ],
      "metadata": {
        "colab": {
          "base_uri": "https://localhost:8080/"
        },
        "id": "MJJ_AhDZsa94",
        "outputId": "8f893dbe-9a60-4f3e-ed2e-a1119f1519b2"
      },
      "execution_count": 62,
      "outputs": [
        {
          "output_type": "stream",
          "name": "stdout",
          "text": [
            "Epoch 1/100\n",
            "18/18 [==============================] - 1s 33ms/step - loss: 1045.5662 - mae: 1045.5662 - mse: 4253932.5000 - val_loss: 3442.8511 - val_mae: 3442.8511 - val_mse: 27193866.0000\n",
            "Epoch 2/100\n",
            "18/18 [==============================] - 0s 26ms/step - loss: 425.5170 - mae: 425.5170 - mse: 786516.3750 - val_loss: 1321.6090 - val_mae: 1321.6090 - val_mse: 4168320.2500\n",
            "Epoch 3/100\n",
            "18/18 [==============================] - 0s 5ms/step - loss: 269.2410 - mae: 269.2410 - mse: 347976.1875 - val_loss: 1359.9800 - val_mae: 1359.9800 - val_mse: 5218970.0000\n",
            "Epoch 4/100\n",
            "18/18 [==============================] - 0s 26ms/step - loss: 216.6969 - mae: 216.6969 - mse: 216993.7500 - val_loss: 947.8182 - val_mae: 947.8182 - val_mse: 2766874.0000\n",
            "Epoch 5/100\n",
            "18/18 [==============================] - 0s 28ms/step - loss: 193.8449 - mae: 193.8449 - mse: 185441.9688 - val_loss: 883.8165 - val_mae: 883.8165 - val_mse: 2574323.7500\n",
            "Epoch 6/100\n",
            "18/18 [==============================] - 0s 4ms/step - loss: 178.6324 - mae: 178.6324 - mse: 158586.6719 - val_loss: 904.9166 - val_mae: 904.9166 - val_mse: 2573574.7500\n",
            "Epoch 7/100\n",
            "18/18 [==============================] - 0s 4ms/step - loss: 175.8196 - mae: 175.8196 - mse: 152216.5938 - val_loss: 1217.0392 - val_mae: 1217.0392 - val_mse: 3794766.5000\n",
            "Epoch 8/100\n",
            "18/18 [==============================] - 0s 4ms/step - loss: 207.5236 - mae: 207.5236 - mse: 181373.8125 - val_loss: 1019.9330 - val_mae: 1019.9330 - val_mse: 2894413.0000\n",
            "Epoch 9/100\n",
            "18/18 [==============================] - 1s 38ms/step - loss: 193.1246 - mae: 193.1246 - mse: 164853.5000 - val_loss: 789.7564 - val_mae: 789.7564 - val_mse: 1953718.5000\n",
            "Epoch 10/100\n",
            "18/18 [==============================] - 0s 25ms/step - loss: 160.9473 - mae: 160.9473 - mse: 133200.3906 - val_loss: 786.3770 - val_mae: 786.3770 - val_mse: 2009444.5000\n",
            "Epoch 11/100\n",
            "18/18 [==============================] - 0s 4ms/step - loss: 160.8982 - mae: 160.8982 - mse: 131604.5312 - val_loss: 1066.9835 - val_mae: 1066.9835 - val_mse: 3167009.2500\n",
            "Epoch 12/100\n",
            "18/18 [==============================] - 0s 26ms/step - loss: 200.7420 - mae: 200.7420 - mse: 182595.7031 - val_loss: 761.1635 - val_mae: 761.1635 - val_mse: 1923984.2500\n",
            "Epoch 13/100\n",
            "18/18 [==============================] - 0s 26ms/step - loss: 154.2623 - mae: 154.2623 - mse: 124711.4922 - val_loss: 744.7907 - val_mae: 744.7907 - val_mse: 1838034.1250\n",
            "Epoch 14/100\n",
            "18/18 [==============================] - 0s 5ms/step - loss: 153.9118 - mae: 153.9118 - mse: 120169.7266 - val_loss: 999.3315 - val_mae: 999.3315 - val_mse: 2762462.0000\n",
            "Epoch 15/100\n",
            "18/18 [==============================] - 0s 27ms/step - loss: 179.1619 - mae: 179.1619 - mse: 153719.6094 - val_loss: 709.5451 - val_mae: 709.5451 - val_mse: 1665640.8750\n",
            "Epoch 16/100\n",
            "18/18 [==============================] - 0s 4ms/step - loss: 168.8286 - mae: 168.8286 - mse: 132721.9375 - val_loss: 1196.7494 - val_mae: 1196.7494 - val_mse: 3504024.5000\n",
            "Epoch 17/100\n",
            "18/18 [==============================] - 0s 4ms/step - loss: 178.5079 - mae: 178.5079 - mse: 139635.5312 - val_loss: 828.0620 - val_mae: 828.0620 - val_mse: 2043055.8750\n",
            "Epoch 18/100\n",
            "18/18 [==============================] - 0s 27ms/step - loss: 177.9769 - mae: 177.9769 - mse: 136494.6562 - val_loss: 684.1688 - val_mae: 684.1688 - val_mse: 1565334.1250\n",
            "Epoch 19/100\n",
            "18/18 [==============================] - 0s 26ms/step - loss: 151.1278 - mae: 151.1278 - mse: 118283.2578 - val_loss: 678.4597 - val_mae: 678.4597 - val_mse: 1516727.2500\n",
            "Epoch 20/100\n",
            "18/18 [==============================] - 0s 4ms/step - loss: 147.8323 - mae: 147.8323 - mse: 111098.1328 - val_loss: 828.2451 - val_mae: 828.2451 - val_mse: 2155160.5000\n",
            "Epoch 21/100\n",
            "18/18 [==============================] - 0s 5ms/step - loss: 155.6432 - mae: 155.6432 - mse: 122934.0234 - val_loss: 731.9025 - val_mae: 731.9025 - val_mse: 1739085.0000\n",
            "Epoch 22/100\n",
            "18/18 [==============================] - 0s 28ms/step - loss: 147.7973 - mae: 147.7973 - mse: 107179.2969 - val_loss: 673.3916 - val_mae: 673.3916 - val_mse: 1515796.2500\n",
            "Epoch 23/100\n",
            "18/18 [==============================] - 1s 54ms/step - loss: 140.0408 - mae: 140.0408 - mse: 105396.4922 - val_loss: 665.6050 - val_mae: 665.6050 - val_mse: 1509700.7500\n",
            "Epoch 24/100\n",
            "18/18 [==============================] - 0s 11ms/step - loss: 145.9284 - mae: 145.9284 - mse: 110935.2969 - val_loss: 835.2704 - val_mae: 835.2704 - val_mse: 2033145.3750\n",
            "Epoch 25/100\n",
            "18/18 [==============================] - 0s 7ms/step - loss: 200.6274 - mae: 200.6274 - mse: 165670.9219 - val_loss: 667.6213 - val_mae: 667.6213 - val_mse: 1487766.7500\n",
            "Epoch 26/100\n",
            "18/18 [==============================] - 1s 50ms/step - loss: 141.0635 - mae: 141.0635 - mse: 102154.3672 - val_loss: 664.3467 - val_mae: 664.3467 - val_mse: 1506080.7500\n",
            "Epoch 27/100\n",
            "18/18 [==============================] - 0s 7ms/step - loss: 165.8685 - mae: 165.8685 - mse: 128734.4609 - val_loss: 1234.0092 - val_mae: 1234.0092 - val_mse: 3761855.2500\n",
            "Epoch 28/100\n",
            "18/18 [==============================] - 0s 9ms/step - loss: 187.2766 - mae: 187.2766 - mse: 159892.3750 - val_loss: 715.4376 - val_mae: 715.4376 - val_mse: 1630440.5000\n",
            "Epoch 29/100\n",
            "18/18 [==============================] - 0s 12ms/step - loss: 169.9422 - mae: 169.9422 - mse: 129909.6484 - val_loss: 1195.6255 - val_mae: 1195.6255 - val_mse: 3447261.2500\n",
            "Epoch 30/100\n",
            "18/18 [==============================] - 0s 8ms/step - loss: 165.5963 - mae: 165.5963 - mse: 124026.5938 - val_loss: 789.0929 - val_mae: 789.0929 - val_mse: 1851676.6250\n",
            "Epoch 31/100\n",
            "18/18 [==============================] - 1s 52ms/step - loss: 148.5341 - mae: 148.5341 - mse: 110303.9453 - val_loss: 651.6118 - val_mae: 651.6118 - val_mse: 1479898.6250\n",
            "Epoch 32/100\n",
            "18/18 [==============================] - 0s 14ms/step - loss: 136.6594 - mae: 136.6594 - mse: 101594.8906 - val_loss: 1258.4572 - val_mae: 1258.4572 - val_mse: 3678586.0000\n",
            "Epoch 33/100\n",
            "18/18 [==============================] - 0s 8ms/step - loss: 229.6977 - mae: 229.6977 - mse: 202527.2812 - val_loss: 1167.8589 - val_mae: 1167.8589 - val_mse: 3299377.2500\n",
            "Epoch 34/100\n",
            "18/18 [==============================] - 0s 7ms/step - loss: 144.2476 - mae: 144.2476 - mse: 103374.3438 - val_loss: 1171.4641 - val_mae: 1171.4641 - val_mse: 3292567.7500\n",
            "Epoch 35/100\n",
            "18/18 [==============================] - 0s 8ms/step - loss: 178.8970 - mae: 178.8970 - mse: 135778.0156 - val_loss: 1067.2982 - val_mae: 1067.2982 - val_mse: 2897709.0000\n",
            "Epoch 36/100\n",
            "18/18 [==============================] - 1s 57ms/step - loss: 160.1979 - mae: 160.1979 - mse: 121602.3047 - val_loss: 625.4238 - val_mae: 625.4238 - val_mse: 1348855.7500\n",
            "Epoch 37/100\n",
            "18/18 [==============================] - 0s 9ms/step - loss: 135.5189 - mae: 135.5189 - mse: 95370.9531 - val_loss: 767.4929 - val_mae: 767.4929 - val_mse: 1793065.0000\n",
            "Epoch 38/100\n",
            "18/18 [==============================] - 1s 54ms/step - loss: 135.2123 - mae: 135.2123 - mse: 97568.3047 - val_loss: 617.7001 - val_mae: 617.7001 - val_mse: 1337922.0000\n",
            "Epoch 39/100\n",
            "18/18 [==============================] - 0s 11ms/step - loss: 133.6508 - mae: 133.6508 - mse: 94002.2266 - val_loss: 675.0980 - val_mae: 675.0980 - val_mse: 1488415.3750\n",
            "Epoch 40/100\n",
            "18/18 [==============================] - 0s 9ms/step - loss: 139.3519 - mae: 139.3519 - mse: 98717.0625 - val_loss: 658.7914 - val_mae: 658.7914 - val_mse: 1469780.8750\n",
            "Epoch 41/100\n",
            "18/18 [==============================] - 0s 7ms/step - loss: 147.3771 - mae: 147.3771 - mse: 110992.3438 - val_loss: 723.4359 - val_mae: 723.4359 - val_mse: 1727102.6250\n",
            "Epoch 42/100\n",
            "18/18 [==============================] - 0s 10ms/step - loss: 148.1602 - mae: 148.1602 - mse: 102498.7031 - val_loss: 626.9731 - val_mae: 626.9731 - val_mse: 1362248.2500\n",
            "Epoch 43/100\n",
            "18/18 [==============================] - 0s 8ms/step - loss: 134.8134 - mae: 134.8134 - mse: 97041.5156 - val_loss: 736.9667 - val_mae: 736.9667 - val_mse: 1673820.2500\n",
            "Epoch 44/100\n",
            "18/18 [==============================] - 0s 10ms/step - loss: 137.9881 - mae: 137.9881 - mse: 98101.7891 - val_loss: 719.9501 - val_mae: 719.9501 - val_mse: 1623771.8750\n",
            "Epoch 45/100\n",
            "18/18 [==============================] - 0s 13ms/step - loss: 148.5483 - mae: 148.5483 - mse: 108916.0625 - val_loss: 663.9484 - val_mae: 663.9484 - val_mse: 1465503.6250\n",
            "Epoch 46/100\n",
            "18/18 [==============================] - 0s 9ms/step - loss: 130.8917 - mae: 130.8917 - mse: 90726.5391 - val_loss: 652.0457 - val_mae: 652.0457 - val_mse: 1432064.2500\n",
            "Epoch 47/100\n",
            "18/18 [==============================] - 0s 12ms/step - loss: 129.4720 - mae: 129.4720 - mse: 90488.9922 - val_loss: 1146.9043 - val_mae: 1146.9043 - val_mse: 3117594.5000\n",
            "Epoch 48/100\n",
            "18/18 [==============================] - 0s 7ms/step - loss: 156.6948 - mae: 156.6948 - mse: 116421.3906 - val_loss: 1032.2251 - val_mae: 1032.2251 - val_mse: 2736403.7500\n",
            "Epoch 49/100\n",
            "18/18 [==============================] - 1s 67ms/step - loss: 152.1751 - mae: 152.1751 - mse: 114289.3984 - val_loss: 592.3189 - val_mae: 592.3189 - val_mse: 1268068.6250\n",
            "Epoch 50/100\n",
            "18/18 [==============================] - 0s 8ms/step - loss: 137.8226 - mae: 137.8226 - mse: 99199.0234 - val_loss: 921.5239 - val_mae: 921.5239 - val_mse: 2235626.0000\n",
            "Epoch 51/100\n",
            "18/18 [==============================] - 0s 9ms/step - loss: 149.2800 - mae: 149.2800 - mse: 108432.8047 - val_loss: 1614.2771 - val_mae: 1614.2771 - val_mse: 5432960.0000\n",
            "Epoch 52/100\n",
            "18/18 [==============================] - 0s 8ms/step - loss: 225.2255 - mae: 225.2255 - mse: 192966.5781 - val_loss: 781.0478 - val_mae: 781.0478 - val_mse: 1768963.8750\n",
            "Epoch 53/100\n",
            "18/18 [==============================] - 0s 7ms/step - loss: 152.4844 - mae: 152.4844 - mse: 112689.4375 - val_loss: 1024.5491 - val_mae: 1024.5491 - val_mse: 2599714.2500\n",
            "Epoch 54/100\n",
            "18/18 [==============================] - 1s 56ms/step - loss: 156.6293 - mae: 156.6293 - mse: 113919.1953 - val_loss: 573.8211 - val_mae: 573.8211 - val_mse: 1171864.2500\n",
            "Epoch 55/100\n",
            "18/18 [==============================] - 0s 8ms/step - loss: 148.6558 - mae: 148.6558 - mse: 99837.1875 - val_loss: 837.9486 - val_mae: 837.9486 - val_mse: 1937372.8750\n",
            "Epoch 56/100\n",
            "18/18 [==============================] - 0s 7ms/step - loss: 150.1555 - mae: 150.1555 - mse: 110060.3828 - val_loss: 577.3405 - val_mae: 577.3405 - val_mse: 1170016.7500\n",
            "Epoch 57/100\n",
            "18/18 [==============================] - 0s 7ms/step - loss: 133.5318 - mae: 133.5318 - mse: 93777.5703 - val_loss: 868.4731 - val_mae: 868.4731 - val_mse: 2043228.5000\n",
            "Epoch 58/100\n",
            "18/18 [==============================] - 0s 7ms/step - loss: 167.8705 - mae: 167.8705 - mse: 126897.7812 - val_loss: 994.9483 - val_mae: 994.9483 - val_mse: 2450452.5000\n",
            "Epoch 59/100\n",
            "18/18 [==============================] - 0s 8ms/step - loss: 145.8244 - mae: 145.8244 - mse: 96993.1328 - val_loss: 583.5826 - val_mae: 583.5826 - val_mse: 1168286.8750\n",
            "Epoch 60/100\n",
            "18/18 [==============================] - 0s 11ms/step - loss: 122.8370 - mae: 122.8370 - mse: 84440.4375 - val_loss: 743.4768 - val_mae: 743.4768 - val_mse: 1591178.0000\n",
            "Epoch 61/100\n",
            "18/18 [==============================] - 1s 74ms/step - loss: 129.3650 - mae: 129.3650 - mse: 87377.8516 - val_loss: 565.2103 - val_mae: 565.2103 - val_mse: 1142305.6250\n",
            "Epoch 62/100\n",
            "18/18 [==============================] - 0s 8ms/step - loss: 127.0965 - mae: 127.0965 - mse: 89398.9219 - val_loss: 708.1186 - val_mae: 708.1186 - val_mse: 1520994.8750\n",
            "Epoch 63/100\n",
            "18/18 [==============================] - 0s 8ms/step - loss: 135.2183 - mae: 135.2183 - mse: 93544.5703 - val_loss: 582.4678 - val_mae: 582.4678 - val_mse: 1201115.8750\n",
            "Epoch 64/100\n",
            "18/18 [==============================] - 0s 5ms/step - loss: 120.0872 - mae: 120.0872 - mse: 80987.0156 - val_loss: 574.2883 - val_mae: 574.2883 - val_mse: 1137419.1250\n",
            "Epoch 65/100\n",
            "18/18 [==============================] - 0s 5ms/step - loss: 129.2426 - mae: 129.2426 - mse: 89706.1328 - val_loss: 827.5886 - val_mae: 827.5886 - val_mse: 1859210.7500\n",
            "Epoch 66/100\n",
            "18/18 [==============================] - 1s 39ms/step - loss: 132.2097 - mae: 132.2097 - mse: 88434.9844 - val_loss: 560.2917 - val_mae: 560.2917 - val_mse: 1127812.2500\n",
            "Epoch 67/100\n",
            "18/18 [==============================] - 0s 27ms/step - loss: 126.6419 - mae: 126.6419 - mse: 85730.3359 - val_loss: 557.1428 - val_mae: 557.1428 - val_mse: 1106688.7500\n",
            "Epoch 68/100\n",
            "18/18 [==============================] - 0s 4ms/step - loss: 124.2974 - mae: 124.2974 - mse: 84009.9922 - val_loss: 624.7623 - val_mae: 624.7623 - val_mse: 1239381.3750\n",
            "Epoch 69/100\n",
            "18/18 [==============================] - 0s 5ms/step - loss: 122.9128 - mae: 122.9128 - mse: 83234.9766 - val_loss: 557.1702 - val_mae: 557.1702 - val_mse: 1117988.5000\n",
            "Epoch 70/100\n",
            "18/18 [==============================] - 0s 6ms/step - loss: 134.9577 - mae: 134.9577 - mse: 93305.4453 - val_loss: 854.5835 - val_mae: 854.5835 - val_mse: 1935236.0000\n",
            "Epoch 71/100\n",
            "18/18 [==============================] - 0s 4ms/step - loss: 153.2513 - mae: 153.2513 - mse: 105212.0703 - val_loss: 754.0333 - val_mae: 754.0333 - val_mse: 1632368.2500\n",
            "Epoch 72/100\n",
            "18/18 [==============================] - 0s 4ms/step - loss: 124.1270 - mae: 124.1270 - mse: 81900.1016 - val_loss: 615.2333 - val_mae: 615.2333 - val_mse: 1273637.1250\n",
            "Epoch 73/100\n",
            "18/18 [==============================] - 0s 5ms/step - loss: 120.0591 - mae: 120.0591 - mse: 80556.8516 - val_loss: 598.1015 - val_mae: 598.1015 - val_mse: 1169694.8750\n",
            "Epoch 74/100\n",
            "18/18 [==============================] - 0s 4ms/step - loss: 119.1856 - mae: 119.1856 - mse: 78226.8359 - val_loss: 561.0634 - val_mae: 561.0634 - val_mse: 1090229.5000\n",
            "Epoch 75/100\n",
            "18/18 [==============================] - 0s 4ms/step - loss: 118.5887 - mae: 118.5887 - mse: 78242.8750 - val_loss: 569.5092 - val_mae: 569.5092 - val_mse: 1105414.0000\n",
            "Epoch 76/100\n",
            "18/18 [==============================] - 0s 4ms/step - loss: 126.8755 - mae: 126.8755 - mse: 80909.2031 - val_loss: 560.5353 - val_mae: 560.5353 - val_mse: 1102211.7500\n",
            "Epoch 77/100\n",
            "18/18 [==============================] - 0s 5ms/step - loss: 119.9341 - mae: 119.9341 - mse: 78675.5391 - val_loss: 599.4346 - val_mae: 599.4346 - val_mse: 1233961.8750\n",
            "Epoch 78/100\n",
            "18/18 [==============================] - 0s 4ms/step - loss: 127.0203 - mae: 127.0203 - mse: 84378.8828 - val_loss: 830.1914 - val_mae: 830.1913 - val_mse: 1848016.1250\n",
            "Epoch 79/100\n",
            "18/18 [==============================] - 0s 4ms/step - loss: 131.5862 - mae: 131.5862 - mse: 86297.2891 - val_loss: 657.7959 - val_mae: 657.7959 - val_mse: 1307042.2500\n",
            "Epoch 80/100\n",
            "18/18 [==============================] - 0s 4ms/step - loss: 133.7203 - mae: 133.7203 - mse: 88573.8750 - val_loss: 936.9589 - val_mae: 936.9589 - val_mse: 2216220.5000\n",
            "Epoch 81/100\n",
            "18/18 [==============================] - 0s 4ms/step - loss: 131.0614 - mae: 131.0614 - mse: 88716.1719 - val_loss: 828.1270 - val_mae: 828.1270 - val_mse: 1844322.0000\n",
            "Epoch 82/100\n",
            "18/18 [==============================] - 0s 27ms/step - loss: 137.2280 - mae: 137.2280 - mse: 95009.4844 - val_loss: 552.5558 - val_mae: 552.5558 - val_mse: 1102916.3750\n",
            "Epoch 83/100\n",
            "18/18 [==============================] - 0s 26ms/step - loss: 130.4511 - mae: 130.4511 - mse: 85969.6094 - val_loss: 538.3868 - val_mae: 538.3868 - val_mse: 1053504.5000\n",
            "Epoch 84/100\n",
            "18/18 [==============================] - 0s 4ms/step - loss: 119.2360 - mae: 119.2360 - mse: 78527.1172 - val_loss: 540.7646 - val_mae: 540.7646 - val_mse: 1061091.7500\n",
            "Epoch 85/100\n",
            "18/18 [==============================] - 0s 5ms/step - loss: 119.4672 - mae: 119.4672 - mse: 79388.5547 - val_loss: 686.9470 - val_mae: 686.9470 - val_mse: 1428134.0000\n",
            "Epoch 86/100\n",
            "18/18 [==============================] - 0s 4ms/step - loss: 131.1943 - mae: 131.1943 - mse: 89300.1641 - val_loss: 695.7498 - val_mae: 695.7498 - val_mse: 1447956.7500\n",
            "Epoch 87/100\n",
            "18/18 [==============================] - 0s 4ms/step - loss: 127.7935 - mae: 127.7935 - mse: 84759.8203 - val_loss: 540.0372 - val_mae: 540.0372 - val_mse: 1065267.5000\n",
            "Epoch 88/100\n",
            "18/18 [==============================] - 0s 4ms/step - loss: 120.2830 - mae: 120.2830 - mse: 78850.0078 - val_loss: 560.3737 - val_mae: 560.3737 - val_mse: 1117223.0000\n",
            "Epoch 89/100\n",
            "18/18 [==============================] - 0s 4ms/step - loss: 116.5096 - mae: 116.5096 - mse: 77517.4922 - val_loss: 931.0510 - val_mae: 931.0510 - val_mse: 2185052.0000\n",
            "Epoch 90/100\n",
            "18/18 [==============================] - 0s 4ms/step - loss: 150.2682 - mae: 150.2682 - mse: 107335.2734 - val_loss: 631.4236 - val_mae: 631.4236 - val_mse: 1280557.5000\n",
            "Epoch 91/100\n",
            "18/18 [==============================] - 0s 5ms/step - loss: 144.4017 - mae: 144.4017 - mse: 99186.1094 - val_loss: 541.7731 - val_mae: 541.7731 - val_mse: 1029901.1250\n",
            "Epoch 92/100\n",
            "18/18 [==============================] - 0s 5ms/step - loss: 117.4135 - mae: 117.4135 - mse: 76290.2500 - val_loss: 564.7607 - val_mae: 564.7607 - val_mse: 1054015.7500\n",
            "Epoch 93/100\n",
            "18/18 [==============================] - 0s 5ms/step - loss: 124.2154 - mae: 124.2154 - mse: 83150.7969 - val_loss: 735.8350 - val_mae: 735.8350 - val_mse: 1541387.0000\n",
            "Epoch 94/100\n",
            "18/18 [==============================] - 0s 5ms/step - loss: 141.7605 - mae: 141.7605 - mse: 96982.0234 - val_loss: 668.8176 - val_mae: 668.8176 - val_mse: 1366657.0000\n",
            "Epoch 95/100\n",
            "18/18 [==============================] - 0s 4ms/step - loss: 125.8431 - mae: 125.8431 - mse: 83551.8828 - val_loss: 779.3115 - val_mae: 779.3115 - val_mse: 1664726.1250\n",
            "Epoch 96/100\n",
            "18/18 [==============================] - 0s 6ms/step - loss: 127.3719 - mae: 127.3719 - mse: 86032.3672 - val_loss: 559.0165 - val_mae: 559.0165 - val_mse: 1104255.7500\n",
            "Epoch 97/100\n",
            "18/18 [==============================] - 0s 5ms/step - loss: 142.0151 - mae: 142.0151 - mse: 102758.9453 - val_loss: 629.4230 - val_mae: 629.4230 - val_mse: 1267140.3750\n",
            "Epoch 98/100\n",
            "18/18 [==============================] - 0s 26ms/step - loss: 117.8673 - mae: 117.8673 - mse: 77859.3125 - val_loss: 536.1783 - val_mae: 536.1783 - val_mse: 1015495.7500\n",
            "Epoch 99/100\n",
            "18/18 [==============================] - 0s 5ms/step - loss: 118.9961 - mae: 118.9961 - mse: 77163.1953 - val_loss: 677.7618 - val_mae: 677.7618 - val_mse: 1384114.6250\n",
            "Epoch 100/100\n",
            "18/18 [==============================] - 0s 28ms/step - loss: 147.6764 - mae: 147.6764 - mse: 95445.6328 - val_loss: 529.1037 - val_mae: 529.1037 - val_mse: 1027048.1875\n"
          ]
        },
        {
          "output_type": "execute_result",
          "data": {
            "text/plain": [
              "<keras.callbacks.History at 0x7f8e1c0899a0>"
            ]
          },
          "metadata": {},
          "execution_count": 62
        }
      ]
    },
    {
      "cell_type": "code",
      "source": [
        "# Evaluate model_2 on test data\n",
        "smodel_2.evaluate(test_windows,test_labels)"
      ],
      "metadata": {
        "id": "WF6dd_rI6YLR",
        "colab": {
          "base_uri": "https://localhost:8080/"
        },
        "outputId": "362a8ab0-809f-4424-d48a-43661a579ef8"
      },
      "execution_count": 63,
      "outputs": [
        {
          "output_type": "stream",
          "name": "stdout",
          "text": [
            "18/18 [==============================] - 0s 2ms/step - loss: 529.1037 - mae: 529.1037 - mse: 1027048.0625\n"
          ]
        },
        {
          "output_type": "execute_result",
          "data": {
            "text/plain": [
              "[529.1036987304688, 529.1036987304688, 1027048.0625]"
            ]
          },
          "metadata": {},
          "execution_count": 63
        }
      ]
    },
    {
      "cell_type": "code",
      "source": [
        "model_2 = tf.keras.models.load_model(\"model_experiments/model_2_dense/\")\n",
        "model_2.evaluate(test_windows,test_labels)"
      ],
      "metadata": {
        "colab": {
          "base_uri": "https://localhost:8080/"
        },
        "id": "_nCbbGUwMx2K",
        "outputId": "fe00d2c2-9d8c-4f8f-c167-7829e786c413"
      },
      "execution_count": 64,
      "outputs": [
        {
          "output_type": "stream",
          "name": "stdout",
          "text": [
            "18/18 [==============================] - 0s 2ms/step - loss: 529.1037 - mae: 529.1037 - mse: 1027048.0625\n"
          ]
        },
        {
          "output_type": "execute_result",
          "data": {
            "text/plain": [
              "[529.1036987304688, 529.1036987304688, 1027048.0625]"
            ]
          },
          "metadata": {},
          "execution_count": 64
        }
      ]
    },
    {
      "cell_type": "code",
      "source": [
        "# Get the forcast predictions\n",
        "model_2_preds = make_preds(model_2,input_data=test_windows)"
      ],
      "metadata": {
        "colab": {
          "base_uri": "https://localhost:8080/"
        },
        "id": "VlF8-QsCNd2i",
        "outputId": "3171fb95-06c4-4b8c-c318-d469f657f613"
      },
      "execution_count": 65,
      "outputs": [
        {
          "output_type": "stream",
          "name": "stdout",
          "text": [
            "18/18 [==============================] - 0s 1ms/step\n"
          ]
        }
      ]
    },
    {
      "cell_type": "code",
      "source": [
        "test_labels.shape"
      ],
      "metadata": {
        "colab": {
          "base_uri": "https://localhost:8080/"
        },
        "id": "BVjGQ24QZRW6",
        "outputId": "0ca2705c-6d6c-4bd3-b983-0dd3dd923c43"
      },
      "execution_count": 66,
      "outputs": [
        {
          "output_type": "execute_result",
          "data": {
            "text/plain": [
              "(545,)"
            ]
          },
          "metadata": {},
          "execution_count": 66
        }
      ]
    },
    {
      "cell_type": "code",
      "source": [
        "model_2_results = evaluate_preds(y_true = tf.squeeze(test_labels),y_pred = model_2_preds)\n",
        "model_2_results"
      ],
      "metadata": {
        "colab": {
          "base_uri": "https://localhost:8080/"
        },
        "id": "7QijfKj_Y_2B",
        "outputId": "85e90a5a-d1e2-4023-e36e-3594d241b76c"
      },
      "execution_count": 67,
      "outputs": [
        {
          "output_type": "execute_result",
          "data": {
            "text/plain": [
              "{'mae': 529.1037,\n",
              " 'mse': 1027047.94,\n",
              " 'rmse': 1013.4337,\n",
              " 'mape': 2.7406445,\n",
              " 'mase': 1.0736358}"
            ]
          },
          "metadata": {},
          "execution_count": 67
        }
      ]
    },
    {
      "cell_type": "code",
      "source": [
        "naive_results"
      ],
      "metadata": {
        "colab": {
          "base_uri": "https://localhost:8080/"
        },
        "id": "Xyx_1aTmZl5g",
        "outputId": "b6486d46-ba2b-47dc-e589-949e71a22b31"
      },
      "execution_count": 68,
      "outputs": [
        {
          "output_type": "execute_result",
          "data": {
            "text/plain": [
              "{'mae': 567.9802,\n",
              " 'mse': 1147547.0,\n",
              " 'rmse': 1071.2362,\n",
              " 'mape': 2.516525,\n",
              " 'mase': 0.99957}"
            ]
          },
          "metadata": {},
          "execution_count": 68
        }
      ]
    },
    {
      "cell_type": "code",
      "source": [
        "offset = 300\n",
        "plt.figure(figsize=(10,7))\n",
        "# Account for test_window offset while ploting\n",
        "plot_time_series(timesteps = x_test[-len(test_windows):], values = test_labels[:],start = offset, label =\"Test Data\")\n",
        "plot_time_series(timesteps = x_test[-len(test_windows):], values=model_2_preds, start=offset, format=\"-\",label=\"model_2_preds\")"
      ],
      "metadata": {
        "id": "bUAWm6GXZsyB",
        "colab": {
          "base_uri": "https://localhost:8080/",
          "height": 442
        },
        "outputId": "b81cd126-cda6-433d-dd08-e966a5057d90"
      },
      "execution_count": 76,
      "outputs": [
        {
          "output_type": "display_data",
          "data": {
            "text/plain": [
              "<Figure size 720x504 with 1 Axes>"
            ],
            "image/png": "[encoded data removed]"
          },
          "metadata": {
            "needs_background": "light"
          }
        }
      ]
    },
    {
      "cell_type": "markdown",
      "source": [
        "## Creating model 3"
      ],
      "metadata": {
        "id": "sUeKnRbZ1uKc"
      }
    },
    {
      "cell_type": "code",
      "source": [
        "HORIZON = 7\n",
        "WINDOW_SIZE = 30\n",
        "\n",
        "full_windows, full_labels = make_windows(prices, window_size = WINDOW_SIZE,horizon = HORIZON)\n",
        "len(full_windows),len(full_labels)"
      ],
      "metadata": {
        "id": "mp5xZR9V6LqS",
        "outputId": "57031a81-8b59-44d2-b613-1ed6760ab02e",
        "colab": {
          "base_uri": "https://localhost:8080/"
        }
      },
      "execution_count": 77,
      "outputs": [
        {
          "output_type": "execute_result",
          "data": {
            "text/plain": [
              "(2751, 2751)"
            ]
          },
          "metadata": {},
          "execution_count": 77
        }
      ]
    },
    {
      "cell_type": "code",
      "source": [
        "train_windows , test_windows , train_labels , test_labels = make_train_test_split(windows = full_windows, labels=full_labels)\n",
        "len(train_windows), len(train_labels), len(test_windows), len(test_labels)"
      ],
      "metadata": {
        "id": "qVO8a5g36vSx",
        "outputId": "a4fc3712-0c7c-4c6b-8545-27491b108618",
        "colab": {
          "base_uri": "https://localhost:8080/"
        }
      },
      "execution_count": 78,
      "outputs": [
        {
          "output_type": "execute_result",
          "data": {
            "text/plain": [
              "(2200, 2200, 551, 551)"
            ]
          },
          "metadata": {},
          "execution_count": 78
        }
      ]
    },
    {
      "cell_type": "code",
      "source": [
        "# This model contains window size of 30 and horizon of 7\n",
        "import tensorflow as tf \n",
        "from tensorflow.keras import layers\n",
        "\n",
        "# Set random seed for as reproducible results as possible\n",
        "tf.random.set_seed(42)\n",
        "# 1. Construct Model\n",
        "model_3 = tf.keras.Sequential([\n",
        "    layers.Dense(128,activation=\"relu\"),\n",
        "    layers.Dense(HORIZON, activation=\"linear\") # Linear activation is just like having no activation at all\n",
        "],name=\"model_3_dense\")# name our model so we can save it\n",
        "# 2. Compile\n",
        "model_3.compile(loss=\"mae\",\n",
        "                optimizer = tf.keras.optimizers.Adam(),\n",
        "                metrics = [\"mae\",\"mse\"])\n",
        "# 3. Fit the model\n",
        "model_3.fit(x = train_windows,\n",
        "            y = train_labels,\n",
        "            epochs=100,\n",
        "            verbose=1,\n",
        "            batch_size=128,\n",
        "            validation_data=(test_windows,test_labels),\n",
        "            callbacks=[create_model_checkpoint(model_name=model_3.name)])"
      ],
      "metadata": {
        "id": "U8vGgmBX5py5",
        "outputId": "c0a0855d-568d-4d9f-817d-02849f94e4cc",
        "colab": {
          "base_uri": "https://localhost:8080/"
        }
      },
      "execution_count": 79,
      "outputs": [
        {
          "output_type": "stream",
          "name": "stdout",
          "text": [
            "Epoch 1/100\n",
            "18/18 [==============================] - 2s 72ms/step - loss: 1476.6752 - mae: 1476.6752 - mse: 10390733.0000 - val_loss: 3088.5613 - val_mae: 3088.5613 - val_mse: 24386346.0000\n",
            "Epoch 2/100\n",
            "18/18 [==============================] - 0s 27ms/step - loss: 552.8943 - mae: 552.8943 - mse: 1336176.8750 - val_loss: 2462.4548 - val_mae: 2462.4548 - val_mse: 17112268.0000\n",
            "Epoch 3/100\n",
            "18/18 [==============================] - 0s 26ms/step - loss: 435.1978 - mae: 435.1978 - mse: 893449.0000 - val_loss: 2283.1484 - val_mae: 2283.1484 - val_mse: 14950889.0000\n",
            "Epoch 4/100\n",
            "18/18 [==============================] - 0s 26ms/step - loss: 391.9787 - mae: 391.9787 - mse: 745983.8125 - val_loss: 1975.1218 - val_mae: 1975.1218 - val_mse: 11680637.0000\n",
            "Epoch 5/100\n",
            "18/18 [==============================] - 0s 5ms/step - loss: 357.9485 - mae: 357.9485 - mse: 627137.9375 - val_loss: 2000.1556 - val_mae: 2000.1556 - val_mse: 11665231.0000\n",
            "Epoch 6/100\n",
            "18/18 [==============================] - 1s 39ms/step - loss: 332.6704 - mae: 332.6704 - mse: 531746.6250 - val_loss: 1723.4186 - val_mae: 1723.4186 - val_mse: 9019992.0000\n",
            "Epoch 7/100\n",
            "18/18 [==============================] - 0s 27ms/step - loss: 309.9903 - mae: 309.9903 - mse: 470480.5312 - val_loss: 1591.9688 - val_mae: 1591.9688 - val_mse: 7895366.0000\n",
            "Epoch 8/100\n",
            "18/18 [==============================] - 0s 26ms/step - loss: 302.4123 - mae: 302.4123 - mse: 438359.1250 - val_loss: 1579.8518 - val_mae: 1579.8518 - val_mse: 7899042.0000\n",
            "Epoch 9/100\n",
            "18/18 [==============================] - 0s 4ms/step - loss: 293.9170 - mae: 293.9170 - mse: 418137.7188 - val_loss: 1602.9116 - val_mae: 1602.9116 - val_mse: 7739274.0000\n",
            "Epoch 10/100\n",
            "18/18 [==============================] - 0s 27ms/step - loss: 291.5431 - mae: 291.5431 - mse: 402053.9688 - val_loss: 1504.9114 - val_mae: 1504.9114 - val_mse: 7034896.5000\n",
            "Epoch 11/100\n",
            "18/18 [==============================] - 0s 26ms/step - loss: 282.3861 - mae: 282.3861 - mse: 387283.0625 - val_loss: 1474.9521 - val_mae: 1474.9521 - val_mse: 6938312.5000\n",
            "Epoch 12/100\n",
            "18/18 [==============================] - 0s 4ms/step - loss: 276.0491 - mae: 276.0491 - mse: 374895.8125 - val_loss: 1539.4847 - val_mae: 1539.4847 - val_mse: 7364822.5000\n",
            "Epoch 13/100\n",
            "18/18 [==============================] - 0s 27ms/step - loss: 272.3232 - mae: 272.3232 - mse: 365701.9375 - val_loss: 1459.5269 - val_mae: 1459.5269 - val_mse: 6738909.0000\n",
            "Epoch 14/100\n",
            "18/18 [==============================] - 0s 25ms/step - loss: 270.6817 - mae: 270.6817 - mse: 367210.9688 - val_loss: 1417.0792 - val_mae: 1417.0792 - val_mse: 6493178.5000\n",
            "Epoch 15/100\n",
            "18/18 [==============================] - 0s 5ms/step - loss: 263.8875 - mae: 263.8875 - mse: 351648.9062 - val_loss: 1541.0621 - val_mae: 1541.0621 - val_mse: 7139703.0000\n",
            "Epoch 16/100\n",
            "18/18 [==============================] - 0s 4ms/step - loss: 265.9065 - mae: 265.9065 - mse: 352247.7188 - val_loss: 1441.2795 - val_mae: 1441.2795 - val_mse: 6551795.5000\n",
            "Epoch 17/100\n",
            "18/18 [==============================] - 0s 4ms/step - loss: 262.9132 - mae: 262.9132 - mse: 348013.6875 - val_loss: 1505.8213 - val_mae: 1505.8213 - val_mse: 7021491.0000\n",
            "Epoch 18/100\n",
            "18/18 [==============================] - 0s 4ms/step - loss: 260.1363 - mae: 260.1363 - mse: 338809.7500 - val_loss: 1446.3213 - val_mae: 1446.3213 - val_mse: 6640532.0000\n",
            "Epoch 19/100\n",
            "18/18 [==============================] - 0s 4ms/step - loss: 258.2223 - mae: 258.2223 - mse: 337048.7188 - val_loss: 1522.3828 - val_mae: 1522.3828 - val_mse: 7158658.5000\n",
            "Epoch 20/100\n",
            "18/18 [==============================] - 0s 4ms/step - loss: 263.9978 - mae: 263.9978 - mse: 342797.9375 - val_loss: 1425.1411 - val_mae: 1425.1411 - val_mse: 6555956.0000\n",
            "Epoch 21/100\n",
            "18/18 [==============================] - 0s 4ms/step - loss: 255.4174 - mae: 255.4174 - mse: 328356.0625 - val_loss: 1460.1968 - val_mae: 1460.1968 - val_mse: 6717267.5000\n",
            "Epoch 22/100\n",
            "18/18 [==============================] - 0s 4ms/step - loss: 255.3434 - mae: 255.3434 - mse: 327904.4375 - val_loss: 1419.4122 - val_mae: 1419.4122 - val_mse: 6416547.0000\n",
            "Epoch 23/100\n",
            "18/18 [==============================] - 0s 26ms/step - loss: 258.0463 - mae: 258.0463 - mse: 330457.5625 - val_loss: 1384.9282 - val_mae: 1384.9282 - val_mse: 6376790.5000\n",
            "Epoch 24/100\n",
            "18/18 [==============================] - 0s 27ms/step - loss: 269.2109 - mae: 269.2109 - mse: 348474.7188 - val_loss: 1377.6122 - val_mae: 1377.6122 - val_mse: 6264392.5000\n",
            "Epoch 25/100\n",
            "18/18 [==============================] - 0s 4ms/step - loss: 253.5239 - mae: 253.5239 - mse: 322304.0625 - val_loss: 1452.3351 - val_mae: 1452.3351 - val_mse: 6649548.5000\n",
            "Epoch 26/100\n",
            "18/18 [==============================] - 0s 4ms/step - loss: 252.1648 - mae: 252.1648 - mse: 319006.6250 - val_loss: 1388.5122 - val_mae: 1388.5122 - val_mse: 6325646.5000\n",
            "Epoch 27/100\n",
            "18/18 [==============================] - 0s 5ms/step - loss: 251.8276 - mae: 251.8276 - mse: 322080.4375 - val_loss: 1451.5784 - val_mae: 1451.5784 - val_mse: 6515207.5000\n",
            "Epoch 28/100\n",
            "18/18 [==============================] - 0s 5ms/step - loss: 247.8791 - mae: 247.8791 - mse: 313790.8750 - val_loss: 1391.4445 - val_mae: 1391.4445 - val_mse: 6381010.5000\n",
            "Epoch 29/100\n",
            "18/18 [==============================] - 0s 4ms/step - loss: 246.0225 - mae: 246.0225 - mse: 310989.5000 - val_loss: 1382.1858 - val_mae: 1382.1858 - val_mse: 6307696.0000\n",
            "Epoch 30/100\n",
            "18/18 [==============================] - 0s 26ms/step - loss: 248.2236 - mae: 248.2236 - mse: 317049.2812 - val_loss: 1336.2773 - val_mae: 1336.2773 - val_mse: 6054735.5000\n",
            "Epoch 31/100\n",
            "18/18 [==============================] - 0s 25ms/step - loss: 242.1411 - mae: 242.1411 - mse: 303474.5312 - val_loss: 1334.8569 - val_mae: 1334.8569 - val_mse: 6053588.0000\n",
            "Epoch 32/100\n",
            "18/18 [==============================] - 0s 26ms/step - loss: 245.8559 - mae: 245.8559 - mse: 309413.2188 - val_loss: 1329.1195 - val_mae: 1329.1195 - val_mse: 5981315.0000\n",
            "Epoch 33/100\n",
            "18/18 [==============================] - 0s 6ms/step - loss: 246.9277 - mae: 246.9277 - mse: 310413.8438 - val_loss: 1372.8105 - val_mae: 1372.8105 - val_mse: 6171215.0000\n",
            "Epoch 34/100\n",
            "18/18 [==============================] - 0s 4ms/step - loss: 244.2540 - mae: 244.2540 - mse: 305681.9375 - val_loss: 1373.9778 - val_mae: 1373.9778 - val_mse: 6200631.5000\n",
            "Epoch 35/100\n",
            "18/18 [==============================] - 0s 4ms/step - loss: 244.3824 - mae: 244.3824 - mse: 305912.8125 - val_loss: 1349.5087 - val_mae: 1349.5087 - val_mse: 6108202.0000\n",
            "Epoch 36/100\n",
            "18/18 [==============================] - 0s 4ms/step - loss: 241.3231 - mae: 241.3231 - mse: 303293.1250 - val_loss: 1427.5961 - val_mae: 1427.5961 - val_mse: 6570097.5000\n",
            "Epoch 37/100\n",
            "18/18 [==============================] - 0s 4ms/step - loss: 257.3803 - mae: 257.3803 - mse: 322964.4688 - val_loss: 1363.9797 - val_mae: 1363.9797 - val_mse: 6108615.5000\n",
            "Epoch 38/100\n",
            "18/18 [==============================] - 0s 4ms/step - loss: 240.1044 - mae: 240.1044 - mse: 299731.3125 - val_loss: 1376.8528 - val_mae: 1376.8528 - val_mse: 6250287.0000\n",
            "Epoch 39/100\n",
            "18/18 [==============================] - 0s 4ms/step - loss: 245.4610 - mae: 245.4610 - mse: 302870.8125 - val_loss: 1412.0402 - val_mae: 1412.0402 - val_mse: 6445713.0000\n",
            "Epoch 40/100\n",
            "18/18 [==============================] - 0s 4ms/step - loss: 239.6820 - mae: 239.6820 - mse: 299266.2500 - val_loss: 1426.0742 - val_mae: 1426.0742 - val_mse: 6408169.5000\n",
            "Epoch 41/100\n",
            "18/18 [==============================] - 0s 5ms/step - loss: 239.1188 - mae: 239.1188 - mse: 295875.4688 - val_loss: 1442.6663 - val_mae: 1442.6663 - val_mse: 6566415.0000\n",
            "Epoch 42/100\n",
            "18/18 [==============================] - 0s 4ms/step - loss: 246.8635 - mae: 246.8635 - mse: 311109.9062 - val_loss: 1347.2452 - val_mae: 1347.2452 - val_mse: 6057585.5000\n",
            "Epoch 43/100\n",
            "18/18 [==============================] - 0s 4ms/step - loss: 239.3242 - mae: 239.3242 - mse: 295104.0000 - val_loss: 1365.7219 - val_mae: 1365.7219 - val_mse: 6103318.0000\n",
            "Epoch 44/100\n",
            "18/18 [==============================] - 0s 27ms/step - loss: 250.1504 - mae: 250.1504 - mse: 311073.4688 - val_loss: 1293.0472 - val_mae: 1293.0472 - val_mse: 5793364.5000\n",
            "Epoch 45/100\n",
            "18/18 [==============================] - 0s 4ms/step - loss: 243.7763 - mae: 243.7763 - mse: 300905.0000 - val_loss: 1505.8341 - val_mae: 1505.8341 - val_mse: 6827288.5000\n",
            "Epoch 46/100\n",
            "18/18 [==============================] - 0s 5ms/step - loss: 241.1997 - mae: 241.1997 - mse: 298801.0000 - val_loss: 1299.8013 - val_mae: 1299.8013 - val_mse: 5822393.5000\n",
            "Epoch 47/100\n",
            "18/18 [==============================] - 0s 4ms/step - loss: 236.0368 - mae: 236.0368 - mse: 294210.6875 - val_loss: 1339.0396 - val_mae: 1339.0396 - val_mse: 5972380.5000\n",
            "Epoch 48/100\n",
            "18/18 [==============================] - 0s 4ms/step - loss: 235.2749 - mae: 235.2749 - mse: 289513.3750 - val_loss: 1329.4685 - val_mae: 1329.4685 - val_mse: 5933925.5000\n",
            "Epoch 49/100\n",
            "18/18 [==============================] - 0s 5ms/step - loss: 238.4083 - mae: 238.4083 - mse: 292709.6562 - val_loss: 1326.4941 - val_mae: 1326.4941 - val_mse: 6016930.0000\n",
            "Epoch 50/100\n",
            "18/18 [==============================] - 0s 4ms/step - loss: 236.0985 - mae: 236.0985 - mse: 291910.3125 - val_loss: 1318.6080 - val_mae: 1318.6080 - val_mse: 5844584.0000\n",
            "Epoch 51/100\n",
            "18/18 [==============================] - 0s 4ms/step - loss: 247.4354 - mae: 247.4354 - mse: 298867.6562 - val_loss: 1389.7017 - val_mae: 1389.7017 - val_mse: 6310916.5000\n",
            "Epoch 52/100\n",
            "18/18 [==============================] - 0s 5ms/step - loss: 233.8826 - mae: 233.8826 - mse: 286212.8438 - val_loss: 1293.4277 - val_mae: 1293.4277 - val_mse: 5711541.0000\n",
            "Epoch 53/100\n",
            "18/18 [==============================] - 0s 25ms/step - loss: 232.7012 - mae: 232.7012 - mse: 286820.6875 - val_loss: 1284.7607 - val_mae: 1284.7607 - val_mse: 5749309.0000\n",
            "Epoch 54/100\n",
            "18/18 [==============================] - 0s 26ms/step - loss: 235.9017 - mae: 235.9017 - mse: 291542.7188 - val_loss: 1284.3806 - val_mae: 1284.3806 - val_mse: 5748808.5000\n",
            "Epoch 55/100\n",
            "18/18 [==============================] - 0s 4ms/step - loss: 232.9453 - mae: 232.9453 - mse: 282204.3750 - val_loss: 1312.6141 - val_mae: 1312.6141 - val_mse: 5854618.5000\n",
            "Epoch 56/100\n",
            "18/18 [==============================] - 0s 4ms/step - loss: 231.0590 - mae: 231.0590 - mse: 283601.1562 - val_loss: 1355.7415 - val_mae: 1355.7415 - val_mse: 5982999.0000\n",
            "Epoch 57/100\n",
            "18/18 [==============================] - 0s 4ms/step - loss: 235.9913 - mae: 235.9913 - mse: 289773.3750 - val_loss: 1363.5928 - val_mae: 1363.5928 - val_mse: 6065964.0000\n",
            "Epoch 58/100\n",
            "18/18 [==============================] - 0s 5ms/step - loss: 231.6387 - mae: 231.6387 - mse: 281294.2500 - val_loss: 1306.6425 - val_mae: 1306.6425 - val_mse: 5727832.5000\n",
            "Epoch 59/100\n",
            "18/18 [==============================] - 0s 4ms/step - loss: 230.8834 - mae: 230.8834 - mse: 281998.1250 - val_loss: 1288.3002 - val_mae: 1288.3002 - val_mse: 5697831.5000\n",
            "Epoch 60/100\n",
            "18/18 [==============================] - 0s 26ms/step - loss: 230.1366 - mae: 230.1366 - mse: 280421.1562 - val_loss: 1259.6017 - val_mae: 1259.6017 - val_mse: 5612471.0000\n",
            "Epoch 61/100\n",
            "18/18 [==============================] - 0s 5ms/step - loss: 230.5381 - mae: 230.5381 - mse: 282358.5312 - val_loss: 1406.2996 - val_mae: 1406.2996 - val_mse: 6253862.5000\n",
            "Epoch 62/100\n",
            "18/18 [==============================] - 0s 5ms/step - loss: 231.8386 - mae: 231.8386 - mse: 280512.9062 - val_loss: 1291.0713 - val_mae: 1291.0713 - val_mse: 5756396.5000\n",
            "Epoch 63/100\n",
            "18/18 [==============================] - 0s 4ms/step - loss: 233.6788 - mae: 233.6788 - mse: 285109.7500 - val_loss: 1368.6284 - val_mae: 1368.6284 - val_mse: 6087166.0000\n",
            "Epoch 64/100\n",
            "18/18 [==============================] - 0s 26ms/step - loss: 232.2232 - mae: 232.2232 - mse: 280256.0312 - val_loss: 1251.2312 - val_mae: 1251.2312 - val_mse: 5499588.5000\n",
            "Epoch 65/100\n",
            "18/18 [==============================] - 0s 5ms/step - loss: 232.8093 - mae: 232.8093 - mse: 286747.3438 - val_loss: 1346.9840 - val_mae: 1346.9840 - val_mse: 5905306.5000\n",
            "Epoch 66/100\n",
            "18/18 [==============================] - 0s 4ms/step - loss: 231.5086 - mae: 231.5086 - mse: 281108.9375 - val_loss: 1429.1592 - val_mae: 1429.1592 - val_mse: 6378788.0000\n",
            "Epoch 67/100\n",
            "18/18 [==============================] - 0s 4ms/step - loss: 234.4316 - mae: 234.4316 - mse: 283984.4062 - val_loss: 1291.2920 - val_mae: 1291.2920 - val_mse: 5649027.0000\n",
            "Epoch 68/100\n",
            "18/18 [==============================] - 0s 4ms/step - loss: 228.4419 - mae: 228.4419 - mse: 276119.7500 - val_loss: 1320.3304 - val_mae: 1320.3304 - val_mse: 5815860.5000\n",
            "Epoch 69/100\n",
            "18/18 [==============================] - 0s 5ms/step - loss: 227.7240 - mae: 227.7240 - mse: 270948.4375 - val_loss: 1519.1730 - val_mae: 1519.1730 - val_mse: 6928610.5000\n",
            "Epoch 70/100\n",
            "18/18 [==============================] - 0s 5ms/step - loss: 233.6939 - mae: 233.6939 - mse: 282986.3750 - val_loss: 1278.3643 - val_mae: 1278.3643 - val_mse: 5591982.0000\n",
            "Epoch 71/100\n",
            "18/18 [==============================] - 0s 5ms/step - loss: 227.1845 - mae: 227.1845 - mse: 277117.5938 - val_loss: 1261.8005 - val_mae: 1261.8005 - val_mse: 5517604.5000\n",
            "Epoch 72/100\n",
            "18/18 [==============================] - 0s 5ms/step - loss: 229.9134 - mae: 229.9134 - mse: 276164.3750 - val_loss: 1251.5463 - val_mae: 1251.5463 - val_mse: 5564067.0000\n",
            "Epoch 73/100\n",
            "18/18 [==============================] - 0s 5ms/step - loss: 227.0497 - mae: 227.0497 - mse: 275501.1562 - val_loss: 1270.7107 - val_mae: 1270.7107 - val_mse: 5572510.0000\n",
            "Epoch 74/100\n",
            "18/18 [==============================] - 0s 4ms/step - loss: 230.8764 - mae: 230.8764 - mse: 280781.9375 - val_loss: 1387.2860 - val_mae: 1387.2860 - val_mse: 6085277.5000\n",
            "Epoch 75/100\n",
            "18/18 [==============================] - 0s 5ms/step - loss: 228.8457 - mae: 228.8457 - mse: 274044.4062 - val_loss: 1356.4390 - val_mae: 1356.4390 - val_mse: 5924470.0000\n",
            "Epoch 76/100\n",
            "18/18 [==============================] - 0s 4ms/step - loss: 228.9847 - mae: 228.9847 - mse: 279526.8438 - val_loss: 1287.2343 - val_mae: 1287.2343 - val_mse: 5667253.0000\n",
            "Epoch 77/100\n",
            "18/18 [==============================] - 1s 41ms/step - loss: 225.3239 - mae: 225.3239 - mse: 272094.2500 - val_loss: 1237.5065 - val_mae: 1237.5065 - val_mse: 5405198.5000\n",
            "Epoch 78/100\n",
            "18/18 [==============================] - 0s 5ms/step - loss: 229.2194 - mae: 229.2194 - mse: 274318.4688 - val_loss: 1248.6913 - val_mae: 1248.6913 - val_mse: 5431387.0000\n",
            "Epoch 79/100\n",
            "18/18 [==============================] - 0s 4ms/step - loss: 227.7465 - mae: 227.7465 - mse: 270252.6562 - val_loss: 1286.5439 - val_mae: 1286.5439 - val_mse: 5594558.5000\n",
            "Epoch 80/100\n",
            "18/18 [==============================] - 0s 4ms/step - loss: 225.9967 - mae: 225.9967 - mse: 270396.1875 - val_loss: 1329.9921 - val_mae: 1329.9921 - val_mse: 5849621.5000\n",
            "Epoch 81/100\n",
            "18/18 [==============================] - 0s 4ms/step - loss: 228.1217 - mae: 228.1217 - mse: 277564.4375 - val_loss: 1262.6129 - val_mae: 1262.6129 - val_mse: 5568035.5000\n",
            "Epoch 82/100\n",
            "18/18 [==============================] - 0s 4ms/step - loss: 225.3166 - mae: 225.3166 - mse: 273099.7500 - val_loss: 1273.8380 - val_mae: 1273.8380 - val_mse: 5537962.0000\n",
            "Epoch 83/100\n",
            "18/18 [==============================] - 0s 4ms/step - loss: 225.2265 - mae: 225.2265 - mse: 271168.5312 - val_loss: 1279.3624 - val_mae: 1279.3624 - val_mse: 5627999.0000\n",
            "Epoch 84/100\n",
            "18/18 [==============================] - 0s 4ms/step - loss: 224.9336 - mae: 224.9336 - mse: 269869.2500 - val_loss: 1249.8485 - val_mae: 1249.8485 - val_mse: 5513098.0000\n",
            "Epoch 85/100\n",
            "18/18 [==============================] - 0s 5ms/step - loss: 226.8255 - mae: 226.8255 - mse: 273469.9062 - val_loss: 1248.8396 - val_mae: 1248.8396 - val_mse: 5451508.5000\n",
            "Epoch 86/100\n",
            "18/18 [==============================] - 0s 4ms/step - loss: 224.7192 - mae: 224.7192 - mse: 271943.3750 - val_loss: 1295.6708 - val_mae: 1295.6708 - val_mse: 5696024.0000\n",
            "Epoch 87/100\n",
            "18/18 [==============================] - 0s 4ms/step - loss: 227.7314 - mae: 227.7314 - mse: 270321.6250 - val_loss: 1312.5576 - val_mae: 1312.5576 - val_mse: 5685570.5000\n",
            "Epoch 88/100\n",
            "18/18 [==============================] - 0s 6ms/step - loss: 226.0089 - mae: 226.0089 - mse: 271724.3125 - val_loss: 1531.1237 - val_mae: 1531.1237 - val_mse: 6729364.0000\n",
            "Epoch 89/100\n",
            "18/18 [==============================] - 0s 5ms/step - loss: 232.9869 - mae: 232.9869 - mse: 273172.6562 - val_loss: 1280.1622 - val_mae: 1280.1622 - val_mse: 5573279.5000\n",
            "Epoch 90/100\n",
            "18/18 [==============================] - 0s 5ms/step - loss: 231.6928 - mae: 231.6928 - mse: 278982.4062 - val_loss: 1342.9247 - val_mae: 1342.9247 - val_mse: 5812115.5000\n",
            "Epoch 91/100\n",
            "18/18 [==============================] - 0s 5ms/step - loss: 226.7606 - mae: 226.7606 - mse: 271052.1562 - val_loss: 1259.4495 - val_mae: 1259.4495 - val_mse: 5500164.5000\n",
            "Epoch 92/100\n",
            "18/18 [==============================] - 0s 4ms/step - loss: 225.4304 - mae: 225.4304 - mse: 269325.5000 - val_loss: 1244.5864 - val_mae: 1244.5864 - val_mse: 5482781.0000\n",
            "Epoch 93/100\n",
            "18/18 [==============================] - 0s 4ms/step - loss: 232.3920 - mae: 232.3920 - mse: 274117.9375 - val_loss: 1305.4161 - val_mae: 1305.4161 - val_mse: 5619282.0000\n",
            "Epoch 94/100\n",
            "18/18 [==============================] - 0s 4ms/step - loss: 227.1455 - mae: 227.1455 - mse: 268565.8438 - val_loss: 1278.3680 - val_mae: 1278.3680 - val_mse: 5547782.5000\n",
            "Epoch 95/100\n",
            "18/18 [==============================] - 0s 4ms/step - loss: 226.4553 - mae: 226.4553 - mse: 269101.6250 - val_loss: 1282.0594 - val_mae: 1282.0594 - val_mse: 5621683.5000\n",
            "Epoch 96/100\n",
            "18/18 [==============================] - 0s 6ms/step - loss: 229.8147 - mae: 229.8147 - mse: 273974.4375 - val_loss: 1359.4149 - val_mae: 1359.4149 - val_mse: 5903700.0000\n",
            "Epoch 97/100\n",
            "18/18 [==============================] - 0s 4ms/step - loss: 226.3261 - mae: 226.3261 - mse: 267818.1250 - val_loss: 1261.2341 - val_mae: 1261.2341 - val_mse: 5482404.0000\n",
            "Epoch 98/100\n",
            "18/18 [==============================] - 0s 4ms/step - loss: 227.1718 - mae: 227.1718 - mse: 273941.6875 - val_loss: 1369.7389 - val_mae: 1369.7389 - val_mse: 5913570.0000\n",
            "Epoch 99/100\n",
            "18/18 [==============================] - 0s 4ms/step - loss: 228.8833 - mae: 228.8833 - mse: 273331.1562 - val_loss: 1241.8301 - val_mae: 1241.8301 - val_mse: 5379831.0000\n",
            "Epoch 100/100\n",
            "18/18 [==============================] - 0s 5ms/step - loss: 223.2735 - mae: 223.2735 - mse: 266898.3125 - val_loss: 1300.1522 - val_mae: 1300.1522 - val_mse: 5599956.0000\n"
          ]
        },
        {
          "output_type": "execute_result",
          "data": {
            "text/plain": [
              "<keras.callbacks.History at 0x7f8df3f68040>"
            ]
          },
          "metadata": {},
          "execution_count": 79
        }
      ]
    },
    {
      "cell_type": "code",
      "source": [],
      "metadata": {
        "id": "ORsrW-sZ78ZH"
      },
      "execution_count": null,
      "outputs": []
    }
  ]
}