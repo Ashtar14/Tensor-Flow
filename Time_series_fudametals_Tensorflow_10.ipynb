{
  "nbformat": 4,
  "nbformat_minor": 0,
  "metadata": {
    "colab": {
      "provenance": []
    },
    "kernelspec": {
      "name": "python3",
      "display_name": "Python 3"
    },
    "language_info": {
      "name": "python"
    },
    "accelerator": "GPU",
    "gpuClass": "standard"
  },
  "cells": [
    {
      "cell_type": "markdown",
      "source": [
        "# Time series forcasting with tensorflow + milestone project 3\n",
        "This isnt financial advice\n",
        "\n",
        "Lets write some tensorflow code to predict the price of bitcoin"
      ],
      "metadata": {
        "id": "Tyq-V_RIbkXk"
      }
    },
    {
      "cell_type": "markdown",
      "source": [
        "# Factors affecting time series prediction problems\n",
        "1. How well we understand the factors that contributes to it.\n",
        "2. How much data is available\n",
        "3. How much similar the future is to past\n",
        "4. wether the forcast can affect the thing we are trying to forcast"
      ],
      "metadata": {
        "id": "k2TobXVcWK41"
      }
    },
    {
      "cell_type": "code",
      "source": [
        "## Get the data\n",
        "!wget https://raw.githubusercontent.com/mrdbourke/tensorflow-deep-learning/main/extras/BTC_USD_2013-10-01_2021-05-18-CoinDesk.csv"
      ],
      "metadata": {
        "colab": {
          "base_uri": "https://localhost:8080/"
        },
        "id": "R4Z_qXHCcOdw",
        "outputId": "e28c89f4-5590-469c-f623-6a5b1d9c01ad"
      },
      "execution_count": 1,
      "outputs": [
        {
          "output_type": "stream",
          "name": "stdout",
          "text": [
            "--2022-12-09 20:39:38--  https://raw.githubusercontent.com/mrdbourke/tensorflow-deep-learning/main/extras/BTC_USD_2013-10-01_2021-05-18-CoinDesk.csv\n",
            "Resolving raw.githubusercontent.com (raw.githubusercontent.com)... 185.199.108.133, 185.199.109.133, 185.199.110.133, ...\n",
            "Connecting to raw.githubusercontent.com (raw.githubusercontent.com)|185.199.108.133|:443... connected.\n",
            "HTTP request sent, awaiting response... 200 OK\n",
            "Length: 178509 (174K) [text/plain]\n",
            "Saving to: ‘BTC_USD_2013-10-01_2021-05-18-CoinDesk.csv’\n",
            "\n",
            "BTC_USD_2013-10-01_ 100%[===================>] 174.33K  --.-KB/s    in 0.03s   \n",
            "\n",
            "2022-12-09 20:39:38 (5.91 MB/s) - ‘BTC_USD_2013-10-01_2021-05-18-CoinDesk.csv’ saved [178509/178509]\n",
            "\n"
          ]
        }
      ]
    },
    {
      "cell_type": "markdown",
      "source": [
        "We are going to use the historic data of bitcoin to try and predict the price of bitcoin in future"
      ],
      "metadata": {
        "id": "zOkY_CIBgyph"
      }
    },
    {
      "cell_type": "markdown",
      "source": [
        "## Importing time series data"
      ],
      "metadata": {
        "id": "a42UNmuGhLn_"
      }
    },
    {
      "cell_type": "code",
      "source": [
        "# Import using pandas\n",
        "import pandas as pd\n",
        "df = pd.read_csv(\"/content/BTC_USD_2013-10-01_2021-05-18-CoinDesk.csv\",\n",
        "                 parse_dates = [\"Date\"],\n",
        "                 index_col=[\"Date\"])\n",
        "df.head()"
      ],
      "metadata": {
        "colab": {
          "base_uri": "https://localhost:8080/",
          "height": 237
        },
        "id": "aWoQ0NbEhZ3I",
        "outputId": "c674b4e8-d0f2-47fe-cfb1-55c6be243c21"
      },
      "execution_count": 2,
      "outputs": [
        {
          "output_type": "execute_result",
          "data": {
            "text/plain": [
              "           Currency  Closing Price (USD)  24h Open (USD)  24h High (USD)  \\\n",
              "Date                                                                       \n",
              "2013-10-01      BTC            123.65499       124.30466       124.75166   \n",
              "2013-10-02      BTC            125.45500       123.65499       125.75850   \n",
              "2013-10-03      BTC            108.58483       125.45500       125.66566   \n",
              "2013-10-04      BTC            118.67466       108.58483       118.67500   \n",
              "2013-10-05      BTC            121.33866       118.67466       121.93633   \n",
              "\n",
              "            24h Low (USD)  \n",
              "Date                       \n",
              "2013-10-01      122.56349  \n",
              "2013-10-02      123.63383  \n",
              "2013-10-03       83.32833  \n",
              "2013-10-04      107.05816  \n",
              "2013-10-05      118.00566  "
            ],
            "text/html": [
              "\n",
              "  <div id=\"df-fe396a6e-ad73-48d8-8519-01b5c439d626\">\n",
              "    <div class=\"colab-df-container\">\n",
              "      <div>\n",
              "<style scoped>\n",
              "    .dataframe tbody tr th:only-of-type {\n",
              "        vertical-align: middle;\n",
              "    }\n",
              "\n",
              "    .dataframe tbody tr th {\n",
              "        vertical-align: top;\n",
              "    }\n",
              "\n",
              "    .dataframe thead th {\n",
              "        text-align: right;\n",
              "    }\n",
              "</style>\n",
              "<table border=\"1\" class=\"dataframe\">\n",
              "  <thead>\n",
              "    <tr style=\"text-align: right;\">\n",
              "      <th></th>\n",
              "      <th>Currency</th>\n",
              "      <th>Closing Price (USD)</th>\n",
              "      <th>24h Open (USD)</th>\n",
              "      <th>24h High (USD)</th>\n",
              "      <th>24h Low (USD)</th>\n",
              "    </tr>\n",
              "    <tr>\n",
              "      <th>Date</th>\n",
              "      <th></th>\n",
              "      <th></th>\n",
              "      <th></th>\n",
              "      <th></th>\n",
              "      <th></th>\n",
              "    </tr>\n",
              "  </thead>\n",
              "  <tbody>\n",
              "    <tr>\n",
              "      <th>2013-10-01</th>\n",
              "      <td>BTC</td>\n",
              "      <td>123.65499</td>\n",
              "      <td>124.30466</td>\n",
              "      <td>124.75166</td>\n",
              "      <td>122.56349</td>\n",
              "    </tr>\n",
              "    <tr>\n",
              "      <th>2013-10-02</th>\n",
              "      <td>BTC</td>\n",
              "      <td>125.45500</td>\n",
              "      <td>123.65499</td>\n",
              "      <td>125.75850</td>\n",
              "      <td>123.63383</td>\n",
              "    </tr>\n",
              "    <tr>\n",
              "      <th>2013-10-03</th>\n",
              "      <td>BTC</td>\n",
              "      <td>108.58483</td>\n",
              "      <td>125.45500</td>\n",
              "      <td>125.66566</td>\n",
              "      <td>83.32833</td>\n",
              "    </tr>\n",
              "    <tr>\n",
              "      <th>2013-10-04</th>\n",
              "      <td>BTC</td>\n",
              "      <td>118.67466</td>\n",
              "      <td>108.58483</td>\n",
              "      <td>118.67500</td>\n",
              "      <td>107.05816</td>\n",
              "    </tr>\n",
              "    <tr>\n",
              "      <th>2013-10-05</th>\n",
              "      <td>BTC</td>\n",
              "      <td>121.33866</td>\n",
              "      <td>118.67466</td>\n",
              "      <td>121.93633</td>\n",
              "      <td>118.00566</td>\n",
              "    </tr>\n",
              "  </tbody>\n",
              "</table>\n",
              "</div>\n",
              "      <button class=\"colab-df-convert\" onclick=\"convertToInteractive('df-fe396a6e-ad73-48d8-8519-01b5c439d626')\"\n",
              "              title=\"Convert this dataframe to an interactive table.\"\n",
              "              style=\"display:none;\">\n",
              "        \n",
              "  <svg xmlns=\"http://www.w3.org/2000/svg\" height=\"24px\"viewBox=\"0 0 24 24\"\n",
              "       width=\"24px\">\n",
              "    <path d=\"M0 0h24v24H0V0z\" fill=\"none\"/>\n",
              "    <path d=\"M18.56 5.44l.94 2.06.94-2.06 2.06-.94-2.06-.94-.94-2.06-.94 2.06-2.06.94zm-11 1L8.5 8.5l.94-2.06 2.06-.94-2.06-.94L8.5 2.5l-.94 2.06-2.06.94zm10 10l.94 2.06.94-2.06 2.06-.94-2.06-.94-.94-2.06-.94 2.06-2.06.94z\"/><path d=\"M17.41 7.96l-1.37-1.37c-.4-.4-.92-.59-1.43-.59-.52 0-1.04.2-1.43.59L10.3 9.45l-7.72 7.72c-.78.78-.78 2.05 0 2.83L4 21.41c.39.39.9.59 1.41.59.51 0 1.02-.2 1.41-.59l7.78-7.78 2.81-2.81c.8-.78.8-2.07 0-2.86zM5.41 20L4 18.59l7.72-7.72 1.47 1.35L5.41 20z\"/>\n",
              "  </svg>\n",
              "      </button>\n",
              "      \n",
              "  <style>\n",
              "    .colab-df-container {\n",
              "      display:flex;\n",
              "      flex-wrap:wrap;\n",
              "      gap: 12px;\n",
              "    }\n",
              "\n",
              "    .colab-df-convert {\n",
              "      background-color: #E8F0FE;\n",
              "      border: none;\n",
              "      border-radius: 50%;\n",
              "      cursor: pointer;\n",
              "      display: none;\n",
              "      fill: #1967D2;\n",
              "      height: 32px;\n",
              "      padding: 0 0 0 0;\n",
              "      width: 32px;\n",
              "    }\n",
              "\n",
              "    .colab-df-convert:hover {\n",
              "      background-color: #E2EBFA;\n",
              "      box-shadow: 0px 1px 2px rgba(60, 64, 67, 0.3), 0px 1px 3px 1px rgba(60, 64, 67, 0.15);\n",
              "      fill: #174EA6;\n",
              "    }\n",
              "\n",
              "    [theme=dark] .colab-df-convert {\n",
              "      background-color: #3B4455;\n",
              "      fill: #D2E3FC;\n",
              "    }\n",
              "\n",
              "    [theme=dark] .colab-df-convert:hover {\n",
              "      background-color: #434B5C;\n",
              "      box-shadow: 0px 1px 3px 1px rgba(0, 0, 0, 0.15);\n",
              "      filter: drop-shadow(0px 1px 2px rgba(0, 0, 0, 0.3));\n",
              "      fill: #FFFFFF;\n",
              "    }\n",
              "  </style>\n",
              "\n",
              "      <script>\n",
              "        const buttonEl =\n",
              "          document.querySelector('#df-fe396a6e-ad73-48d8-8519-01b5c439d626 button.colab-df-convert');\n",
              "        buttonEl.style.display =\n",
              "          google.colab.kernel.accessAllowed ? 'block' : 'none';\n",
              "\n",
              "        async function convertToInteractive(key) {\n",
              "          const element = document.querySelector('#df-fe396a6e-ad73-48d8-8519-01b5c439d626');\n",
              "          const dataTable =\n",
              "            await google.colab.kernel.invokeFunction('convertToInteractive',\n",
              "                                                     [key], {});\n",
              "          if (!dataTable) return;\n",
              "\n",
              "          const docLinkHtml = 'Like what you see? Visit the ' +\n",
              "            '<a target=\"_blank\" href=https://colab.research.google.com/notebooks/data_table.ipynb>data table notebook</a>'\n",
              "            + ' to learn more about interactive tables.';\n",
              "          element.innerHTML = '';\n",
              "          dataTable['output_type'] = 'display_data';\n",
              "          await google.colab.output.renderOutput(dataTable, element);\n",
              "          const docLink = document.createElement('div');\n",
              "          docLink.innerHTML = docLinkHtml;\n",
              "          element.appendChild(docLink);\n",
              "        }\n",
              "      </script>\n",
              "    </div>\n",
              "  </div>\n",
              "  "
            ]
          },
          "metadata": {},
          "execution_count": 2
        }
      ]
    },
    {
      "cell_type": "code",
      "source": [
        "df.info()"
      ],
      "metadata": {
        "colab": {
          "base_uri": "https://localhost:8080/"
        },
        "id": "zxhP99MpiKYq",
        "outputId": "6d0568cd-e8da-4bbc-835d-cbd1f7c6dac2"
      },
      "execution_count": 3,
      "outputs": [
        {
          "output_type": "stream",
          "name": "stdout",
          "text": [
            "<class 'pandas.core.frame.DataFrame'>\n",
            "DatetimeIndex: 2787 entries, 2013-10-01 to 2021-05-18\n",
            "Data columns (total 5 columns):\n",
            " #   Column               Non-Null Count  Dtype  \n",
            "---  ------               --------------  -----  \n",
            " 0   Currency             2787 non-null   object \n",
            " 1   Closing Price (USD)  2787 non-null   float64\n",
            " 2   24h Open (USD)       2787 non-null   float64\n",
            " 3   24h High (USD)       2787 non-null   float64\n",
            " 4   24h Low (USD)        2787 non-null   float64\n",
            "dtypes: float64(4), object(1)\n",
            "memory usage: 130.6+ KB\n"
          ]
        }
      ]
    },
    {
      "cell_type": "code",
      "source": [
        "# How many samples do we have\n",
        "len(df)"
      ],
      "metadata": {
        "colab": {
          "base_uri": "https://localhost:8080/"
        },
        "id": "rOaGNzvNiQhI",
        "outputId": "ab4216d5-4519-43a6-d90b-99b03e94f4d9"
      },
      "execution_count": 4,
      "outputs": [
        {
          "output_type": "execute_result",
          "data": {
            "text/plain": [
              "2787"
            ]
          },
          "metadata": {},
          "execution_count": 4
        }
      ]
    },
    {
      "cell_type": "markdown",
      "source": [
        "We have collected the historical price of bitcoin for the last 8 years but the are only 2787 samples but a neural network model like milions of sample\n",
        "\n",
        "**Note** The **Sesonality** of a time series dataset is reffered as the number of samples per year So for our Bitcoin data it has a sesonality of 365 as we collect one sample per day"
      ],
      "metadata": {
        "id": "PnNpybE5ihq4"
      }
    },
    {
      "cell_type": "code",
      "source": [
        "# Only want closing price for each day\n",
        "bitcoin_prices = pd.DataFrame(df[\"Closing Price (USD)\"]).rename(columns={\"Closing Price (USD)\": \"Price\"})\n",
        "bitcoin_prices.head()"
      ],
      "metadata": {
        "colab": {
          "base_uri": "https://localhost:8080/",
          "height": 237
        },
        "id": "185VFqmBi6Ch",
        "outputId": "451a1de3-4a4b-4144-88c3-2ad54f51a571"
      },
      "execution_count": 5,
      "outputs": [
        {
          "output_type": "execute_result",
          "data": {
            "text/plain": [
              "                Price\n",
              "Date                 \n",
              "2013-10-01  123.65499\n",
              "2013-10-02  125.45500\n",
              "2013-10-03  108.58483\n",
              "2013-10-04  118.67466\n",
              "2013-10-05  121.33866"
            ],
            "text/html": [
              "\n",
              "  <div id=\"df-a8f0d2d3-c6e8-4372-964f-2e73c1a8cc42\">\n",
              "    <div class=\"colab-df-container\">\n",
              "      <div>\n",
              "<style scoped>\n",
              "    .dataframe tbody tr th:only-of-type {\n",
              "        vertical-align: middle;\n",
              "    }\n",
              "\n",
              "    .dataframe tbody tr th {\n",
              "        vertical-align: top;\n",
              "    }\n",
              "\n",
              "    .dataframe thead th {\n",
              "        text-align: right;\n",
              "    }\n",
              "</style>\n",
              "<table border=\"1\" class=\"dataframe\">\n",
              "  <thead>\n",
              "    <tr style=\"text-align: right;\">\n",
              "      <th></th>\n",
              "      <th>Price</th>\n",
              "    </tr>\n",
              "    <tr>\n",
              "      <th>Date</th>\n",
              "      <th></th>\n",
              "    </tr>\n",
              "  </thead>\n",
              "  <tbody>\n",
              "    <tr>\n",
              "      <th>2013-10-01</th>\n",
              "      <td>123.65499</td>\n",
              "    </tr>\n",
              "    <tr>\n",
              "      <th>2013-10-02</th>\n",
              "      <td>125.45500</td>\n",
              "    </tr>\n",
              "    <tr>\n",
              "      <th>2013-10-03</th>\n",
              "      <td>108.58483</td>\n",
              "    </tr>\n",
              "    <tr>\n",
              "      <th>2013-10-04</th>\n",
              "      <td>118.67466</td>\n",
              "    </tr>\n",
              "    <tr>\n",
              "      <th>2013-10-05</th>\n",
              "      <td>121.33866</td>\n",
              "    </tr>\n",
              "  </tbody>\n",
              "</table>\n",
              "</div>\n",
              "      <button class=\"colab-df-convert\" onclick=\"convertToInteractive('df-a8f0d2d3-c6e8-4372-964f-2e73c1a8cc42')\"\n",
              "              title=\"Convert this dataframe to an interactive table.\"\n",
              "              style=\"display:none;\">\n",
              "        \n",
              "  <svg xmlns=\"http://www.w3.org/2000/svg\" height=\"24px\"viewBox=\"0 0 24 24\"\n",
              "       width=\"24px\">\n",
              "    <path d=\"M0 0h24v24H0V0z\" fill=\"none\"/>\n",
              "    <path d=\"M18.56 5.44l.94 2.06.94-2.06 2.06-.94-2.06-.94-.94-2.06-.94 2.06-2.06.94zm-11 1L8.5 8.5l.94-2.06 2.06-.94-2.06-.94L8.5 2.5l-.94 2.06-2.06.94zm10 10l.94 2.06.94-2.06 2.06-.94-2.06-.94-.94-2.06-.94 2.06-2.06.94z\"/><path d=\"M17.41 7.96l-1.37-1.37c-.4-.4-.92-.59-1.43-.59-.52 0-1.04.2-1.43.59L10.3 9.45l-7.72 7.72c-.78.78-.78 2.05 0 2.83L4 21.41c.39.39.9.59 1.41.59.51 0 1.02-.2 1.41-.59l7.78-7.78 2.81-2.81c.8-.78.8-2.07 0-2.86zM5.41 20L4 18.59l7.72-7.72 1.47 1.35L5.41 20z\"/>\n",
              "  </svg>\n",
              "      </button>\n",
              "      \n",
              "  <style>\n",
              "    .colab-df-container {\n",
              "      display:flex;\n",
              "      flex-wrap:wrap;\n",
              "      gap: 12px;\n",
              "    }\n",
              "\n",
              "    .colab-df-convert {\n",
              "      background-color: #E8F0FE;\n",
              "      border: none;\n",
              "      border-radius: 50%;\n",
              "      cursor: pointer;\n",
              "      display: none;\n",
              "      fill: #1967D2;\n",
              "      height: 32px;\n",
              "      padding: 0 0 0 0;\n",
              "      width: 32px;\n",
              "    }\n",
              "\n",
              "    .colab-df-convert:hover {\n",
              "      background-color: #E2EBFA;\n",
              "      box-shadow: 0px 1px 2px rgba(60, 64, 67, 0.3), 0px 1px 3px 1px rgba(60, 64, 67, 0.15);\n",
              "      fill: #174EA6;\n",
              "    }\n",
              "\n",
              "    [theme=dark] .colab-df-convert {\n",
              "      background-color: #3B4455;\n",
              "      fill: #D2E3FC;\n",
              "    }\n",
              "\n",
              "    [theme=dark] .colab-df-convert:hover {\n",
              "      background-color: #434B5C;\n",
              "      box-shadow: 0px 1px 3px 1px rgba(0, 0, 0, 0.15);\n",
              "      filter: drop-shadow(0px 1px 2px rgba(0, 0, 0, 0.3));\n",
              "      fill: #FFFFFF;\n",
              "    }\n",
              "  </style>\n",
              "\n",
              "      <script>\n",
              "        const buttonEl =\n",
              "          document.querySelector('#df-a8f0d2d3-c6e8-4372-964f-2e73c1a8cc42 button.colab-df-convert');\n",
              "        buttonEl.style.display =\n",
              "          google.colab.kernel.accessAllowed ? 'block' : 'none';\n",
              "\n",
              "        async function convertToInteractive(key) {\n",
              "          const element = document.querySelector('#df-a8f0d2d3-c6e8-4372-964f-2e73c1a8cc42');\n",
              "          const dataTable =\n",
              "            await google.colab.kernel.invokeFunction('convertToInteractive',\n",
              "                                                     [key], {});\n",
              "          if (!dataTable) return;\n",
              "\n",
              "          const docLinkHtml = 'Like what you see? Visit the ' +\n",
              "            '<a target=\"_blank\" href=https://colab.research.google.com/notebooks/data_table.ipynb>data table notebook</a>'\n",
              "            + ' to learn more about interactive tables.';\n",
              "          element.innerHTML = '';\n",
              "          dataTable['output_type'] = 'display_data';\n",
              "          await google.colab.output.renderOutput(dataTable, element);\n",
              "          const docLink = document.createElement('div');\n",
              "          docLink.innerHTML = docLinkHtml;\n",
              "          element.appendChild(docLink);\n",
              "        }\n",
              "      </script>\n",
              "    </div>\n",
              "  </div>\n",
              "  "
            ]
          },
          "metadata": {},
          "execution_count": 5
        }
      ]
    },
    {
      "cell_type": "code",
      "source": [
        "import matplotlib.pyplot as plt\n",
        "bitcoin_prices.plot(figsize=(10,7))\n",
        "plt.ylabel(\"BTC Price\")\n",
        "plt.title(\"Price of Bitcoin from 1 oct 2013 to 18 may 2021\",fontsize=16)\n",
        "plt.legend(fontsize=14);"
      ],
      "metadata": {
        "colab": {
          "base_uri": "https://localhost:8080/",
          "height": 460
        },
        "id": "Xs4RbL5lngVj",
        "outputId": "bd6938e7-a1c2-4950-a045-f2c9dac3229c"
      },
      "execution_count": 6,
      "outputs": [
        {
          "output_type": "display_data",
          "data": {
            "text/plain": [
              "<Figure size 720x504 with 1 Axes>"
            ],
            "image/png": "[encoded data removed]"
          },
          "metadata": {
            "needs_background": "light"
          }
        }
      ]
    },
    {
      "cell_type": "code",
      "source": [
        "import csv\n",
        "from datetime import datetime\n",
        "\n",
        "timesteps = []\n",
        "btc_price = []\n",
        "\n",
        "with open(\"/content/BTC_USD_2013-10-01_2021-05-18-CoinDesk.csv\",\"r\") as f:\n",
        "  csv_reader = csv.reader(f,delimiter=\",\")\n",
        "  next(csv_reader) # Skips frist line (This gets rid of the columns title)\n",
        "  for line in csv_reader:\n",
        "    timesteps.append(datetime.strptime(line[1],\"%Y-%m-%d\")) # Gets the date as dates not strings\n",
        "    btc_price.append(float(line[2])) # get the closing price as float\n",
        "# view the first 10 of each \n",
        "timesteps[:10],btc_price[:10]\n"
      ],
      "metadata": {
        "colab": {
          "base_uri": "https://localhost:8080/"
        },
        "id": "Z6fMC4h_oIrK",
        "outputId": "f3416a8b-8cfe-477d-cc3b-e4cebb0cd819"
      },
      "execution_count": 7,
      "outputs": [
        {
          "output_type": "execute_result",
          "data": {
            "text/plain": [
              "([datetime.datetime(2013, 10, 1, 0, 0),\n",
              "  datetime.datetime(2013, 10, 2, 0, 0),\n",
              "  datetime.datetime(2013, 10, 3, 0, 0),\n",
              "  datetime.datetime(2013, 10, 4, 0, 0),\n",
              "  datetime.datetime(2013, 10, 5, 0, 0),\n",
              "  datetime.datetime(2013, 10, 6, 0, 0),\n",
              "  datetime.datetime(2013, 10, 7, 0, 0),\n",
              "  datetime.datetime(2013, 10, 8, 0, 0),\n",
              "  datetime.datetime(2013, 10, 9, 0, 0),\n",
              "  datetime.datetime(2013, 10, 10, 0, 0)],\n",
              " [123.65499,\n",
              "  125.455,\n",
              "  108.58483,\n",
              "  118.67466,\n",
              "  121.33866,\n",
              "  120.65533,\n",
              "  121.795,\n",
              "  123.033,\n",
              "  124.049,\n",
              "  125.96116])"
            ]
          },
          "metadata": {},
          "execution_count": 7
        }
      ]
    },
    {
      "cell_type": "code",
      "source": [
        "# Plot from csv\n",
        "plt.figure(figsize=(10,7))\n",
        "plt.plot(timesteps,btc_price)\n",
        "plt.ylabel(\"BTC Price\")\n",
        "plt.title(\"Price of Bitcoin from 1 oct 2013 to 18 may 2021\",fontsize=16)\n",
        "plt.xlabel(\"Date\")"
      ],
      "metadata": {
        "colab": {
          "base_uri": "https://localhost:8080/",
          "height": 478
        },
        "id": "V7_6rBEx3Hbr",
        "outputId": "a4ffb338-cb1a-43aa-eeca-a9e3fdecb2fd"
      },
      "execution_count": 8,
      "outputs": [
        {
          "output_type": "execute_result",
          "data": {
            "text/plain": [
              "Text(0.5, 0, 'Date')"
            ]
          },
          "metadata": {},
          "execution_count": 8
        },
        {
          "output_type": "display_data",
          "data": {
            "text/plain": [
              "<Figure size 720x504 with 1 Axes>"
            ],
            "image/png": "[encoded data removed]"
          },
          "metadata": {
            "needs_background": "light"
          }
        }
      ]
    },
    {
      "cell_type": "markdown",
      "source": [
        "## Format Data part 1 : Create training and test sets "
      ],
      "metadata": {
        "id": "kip755Wi4Hu6"
      }
    },
    {
      "cell_type": "markdown",
      "source": [
        "### The wrong way"
      ],
      "metadata": {
        "id": "bCrYSkPs4tQA"
      }
    },
    {
      "cell_type": "code",
      "source": [
        "# Get bitcoin data array \n",
        "timesteps = bitcoin_prices.index.to_numpy()\n",
        "prices = bitcoin_prices[\"Price\"].to_numpy()\n",
        "timesteps[:10],prices[:10]"
      ],
      "metadata": {
        "colab": {
          "base_uri": "https://localhost:8080/"
        },
        "id": "jGs4TitY4xUo",
        "outputId": "763c0e93-a9ea-4883-91fd-9f949f751cd8"
      },
      "execution_count": 9,
      "outputs": [
        {
          "output_type": "execute_result",
          "data": {
            "text/plain": [
              "(array(['2013-10-01T00:00:00.000000000', '2013-10-02T00:00:00.000000000',\n",
              "        '2013-10-03T00:00:00.000000000', '2013-10-04T00:00:00.000000000',\n",
              "        '2013-10-05T00:00:00.000000000', '2013-10-06T00:00:00.000000000',\n",
              "        '2013-10-07T00:00:00.000000000', '2013-10-08T00:00:00.000000000',\n",
              "        '2013-10-09T00:00:00.000000000', '2013-10-10T00:00:00.000000000'],\n",
              "       dtype='datetime64[ns]'),\n",
              " array([123.65499, 125.455  , 108.58483, 118.67466, 121.33866, 120.65533,\n",
              "        121.795  , 123.033  , 124.049  , 125.96116]))"
            ]
          },
          "metadata": {},
          "execution_count": 9
        }
      ]
    },
    {
      "cell_type": "code",
      "source": [
        "# Wrong way to make train test sets fpr time series\n",
        "\n",
        "from sklearn.model_selection import train_test_split\n",
        "x_train,x_test,y_train,y_test = train_test_split(timesteps,\n",
        "                                                 prices,\n",
        "                                                 test_size=0.2,\n",
        "                                                 random_state=42)\n",
        "\n",
        "x_train.shape,x_test.shape,y_train.shape,y_train.shape"
      ],
      "metadata": {
        "colab": {
          "base_uri": "https://localhost:8080/"
        },
        "id": "0faMkLNn5QqC",
        "outputId": "1727b770-2866-4e41-b44b-09848f6eadba"
      },
      "execution_count": 10,
      "outputs": [
        {
          "output_type": "execute_result",
          "data": {
            "text/plain": [
              "((2229,), (558,), (2229,), (2229,))"
            ]
          },
          "metadata": {},
          "execution_count": 10
        }
      ]
    },
    {
      "cell_type": "code",
      "source": [
        "# Lets plot wrong train and test splits\n",
        "plt.figure(figsize=(10,7))\n",
        "plt.scatter(x_train,y_train,s=5,label=\"Train_data\")\n",
        "plt.scatter(x_test,y_test,s=5,label=\"Test data\")\n",
        "plt.xlabel(\"Date\")\n",
        "plt.ylabel(\"BTC Price\")\n",
        "plt.legend(fontsize=14)\n",
        "plt.show();"
      ],
      "metadata": {
        "colab": {
          "base_uri": "https://localhost:8080/",
          "height": 442
        },
        "id": "Qc4H2Mag58Az",
        "outputId": "72e349c2-7e94-4dc8-de77-b85a2d33919d"
      },
      "execution_count": 11,
      "outputs": [
        {
          "output_type": "display_data",
          "data": {
            "text/plain": [
              "<Figure size 720x504 with 1 Axes>"
            ],
            "image/png": "[encoded data removed]"
          },
          "metadata": {
            "needs_background": "light"
          }
        }
      ]
    },
    {
      "cell_type": "markdown",
      "source": [
        "Notice the mixed dots 😆 Thats why its wrong  "
      ],
      "metadata": {
        "id": "AbCNRXzt6vfM"
      }
    },
    {
      "cell_type": "markdown",
      "source": [
        "##  Create the train and test sets the right way "
      ],
      "metadata": {
        "id": "H634IcQ37G0i"
      }
    },
    {
      "cell_type": "markdown",
      "source": [
        "### Time series split"
      ],
      "metadata": {
        "id": "i5t3eYVp7azj"
      }
    },
    {
      "cell_type": "code",
      "source": [
        "split_size = int(0.8*len(prices))\n",
        "# Create train data splits\n",
        "x_train,y_train = timesteps[:split_size],prices[:split_size]\n",
        "# Create test data splits (everything beyond the split size )\n",
        "x_test,y_test = timesteps[split_size:],prices[split_size:]\n",
        "len(x_train),len(y_train),len(x_train),len(y_train)"
      ],
      "metadata": {
        "colab": {
          "base_uri": "https://localhost:8080/"
        },
        "id": "S-oO_GKN7_QS",
        "outputId": "00e75833-53a4-48f6-b391-1a7995a63e49"
      },
      "execution_count": 12,
      "outputs": [
        {
          "output_type": "execute_result",
          "data": {
            "text/plain": [
              "(2229, 2229, 2229, 2229)"
            ]
          },
          "metadata": {},
          "execution_count": 12
        }
      ]
    },
    {
      "cell_type": "code",
      "source": [
        "# Lets plot wrong train and test splits\n",
        "plt.figure(figsize=(10,7))\n",
        "plt.scatter(x_train,y_train,s=5,label=\"Train_data\")\n",
        "plt.scatter(x_test,y_test,s=5,label=\"Test data\")\n",
        "plt.xlabel(\"Date\")\n",
        "plt.ylabel(\"BTC Price\")\n",
        "plt.legend(fontsize=14)\n",
        "plt.show();"
      ],
      "metadata": {
        "colab": {
          "base_uri": "https://localhost:8080/",
          "height": 0
        },
        "id": "xrHJ-OGD82gs",
        "outputId": "014056e0-226c-4d0d-c669-3f53bd0119db"
      },
      "execution_count": 13,
      "outputs": [
        {
          "output_type": "display_data",
          "data": {
            "text/plain": [
              "<Figure size 720x504 with 1 Axes>"
            ],
            "image/png": "[encoded data removed]"
          },
          "metadata": {
            "needs_background": "light"
          }
        }
      ]
    },
    {
      "cell_type": "markdown",
      "source": [
        "Now thats the right thing"
      ],
      "metadata": {
        "id": "1xijs_M09I-i"
      }
    },
    {
      "cell_type": "markdown",
      "source": [
        "## Create a ploting fuction"
      ],
      "metadata": {
        "id": "bsvgy2tw9ptE"
      }
    },
    {
      "cell_type": "code",
      "source": [
        "# Create a function to plot time series data\n",
        "def plot_time_series(timesteps, values, format='.', start=0, end=None, label=None):\n",
        "  \"\"\"\n",
        "  Plots a timesteps (a series of points in time) against values (a series of values across timesteps).\n",
        "  \n",
        "  Parameters\n",
        "  ---------\n",
        "  timesteps : array of timesteps\n",
        "  values : array of values across time\n",
        "  format : style of plot, default \".\"\n",
        "  start : where to start the plot (setting a value will index from start of timesteps & values)\n",
        "  end : where to end the plot (setting a value will index from end of timesteps & values)\n",
        "  label : label to show on plot of values\n",
        "  \"\"\"\n",
        "  # Plot the series\n",
        "  plt.plot(timesteps[start:end], values[start:end], format, label=label)\n",
        "  plt.xlabel(\"Time\")\n",
        "  plt.ylabel(\"BTC Price\")\n",
        "  if label:\n",
        "    plt.legend(fontsize=14) # make label bigger\n",
        "  plt.grid(True)"
      ],
      "metadata": {
        "id": "pJOJ0wcY9wn8"
      },
      "execution_count": 14,
      "outputs": []
    },
    {
      "cell_type": "code",
      "source": [
        "# Test out plotting function\n",
        "plt.figure(figsize=(10,7))\n",
        "plot_time_series(timesteps=x_train,values=y_train,label=\"Train Data\")\n",
        "plot_time_series(timesteps=x_test,values=y_test,label=\"Test Data\")"
      ],
      "metadata": {
        "colab": {
          "base_uri": "https://localhost:8080/",
          "height": 0
        },
        "id": "9a701n95_JsW",
        "outputId": "f8db1048-0daa-408c-e627-12bcfd5399fd"
      },
      "execution_count": 15,
      "outputs": [
        {
          "output_type": "display_data",
          "data": {
            "text/plain": [
              "<Figure size 720x504 with 1 Axes>"
            ],
            "image/png": "[encoded data removed]"
          },
          "metadata": {
            "needs_background": "light"
          }
        }
      ]
    },
    {
      "cell_type": "markdown",
      "source": [
        "## Modeling experiments\n",
        "lets run a series of modelling experiments"
      ],
      "metadata": {
        "id": "HjAC9T0KAvrU"
      }
    },
    {
      "cell_type": "markdown",
      "source": [
        "# Lets build a naive model (model 0)\n",
        "The formula is $$\\hat{y}_{t} = y_{t-1}$$\n",
        "\n",
        "The prediction at timestemp t is the same as previous"
      ],
      "metadata": {
        "id": "YBUSgSaHgT9Y"
      }
    },
    {
      "cell_type": "code",
      "source": [
        "# Create a naive forecast\n",
        "naive_forecast = y_test[:-1]\n",
        "naive_forecast[:10] ,naive_forecast[-10:]\n"
      ],
      "metadata": {
        "colab": {
          "base_uri": "https://localhost:8080/"
        },
        "id": "QJ3t4mW7jd6V",
        "outputId": "4be5d123-4718-4856-c976-b23572639a29"
      },
      "execution_count": 16,
      "outputs": [
        {
          "output_type": "execute_result",
          "data": {
            "text/plain": [
              "(array([9226.48582088, 8794.35864452, 8798.04205463, 9081.18687849,\n",
              "        8711.53433917, 8760.89271814, 8749.52059102, 8656.97092235,\n",
              "        8500.64355816, 8469.2608989 ]),\n",
              " array([57107.12067189, 58788.20967893, 58102.19142623, 55715.54665129,\n",
              "        56573.5554719 , 52147.82118698, 49764.1320816 , 50032.69313676,\n",
              "        47885.62525472, 45604.61575361]))"
            ]
          },
          "metadata": {},
          "execution_count": 16
        }
      ]
    },
    {
      "cell_type": "code",
      "source": [
        "y_test[-10:]"
      ],
      "metadata": {
        "colab": {
          "base_uri": "https://localhost:8080/"
        },
        "id": "T_4al9kZkhrB",
        "outputId": "5711cd63-5f65-4ac0-d36a-41c2372eff58"
      },
      "execution_count": 17,
      "outputs": [
        {
          "output_type": "execute_result",
          "data": {
            "text/plain": [
              "array([58788.20967893, 58102.19142623, 55715.54665129, 56573.5554719 ,\n",
              "       52147.82118698, 49764.1320816 , 50032.69313676, 47885.62525472,\n",
              "       45604.61575361, 43144.47129086])"
            ]
          },
          "metadata": {},
          "execution_count": 17
        }
      ]
    },
    {
      "cell_type": "code",
      "source": [
        "# Plot naive forcast\n",
        "plt.figure(figsize=(10,7))\n",
        "plot_time_series(timesteps=x_train,values=y_train,label=\"Train data\")\n",
        "plot_time_series(timesteps=x_test,values=y_test,label=\"Test data\")\n",
        "plot_time_series(timesteps=x_test[1:],values=naive_forecast,format=\"-\",label=\"Naive Forcast\")"
      ],
      "metadata": {
        "colab": {
          "base_uri": "https://localhost:8080/",
          "height": 442
        },
        "id": "9aG1rHeUklKK",
        "outputId": "bc65a500-b964-4232-f845-dd35b468e8a5"
      },
      "execution_count": 18,
      "outputs": [
        {
          "output_type": "display_data",
          "data": {
            "text/plain": [
              "<Figure size 720x504 with 1 Axes>"
            ],
            "image/png": "[encoded data removed]"
          },
          "metadata": {
            "needs_background": "light"
          }
        }
      ]
    },
    {
      "cell_type": "markdown",
      "source": [
        "from numpy import number\n",
        "## Evaluating a time series model\n",
        "\n",
        "lets look at some evaluation metrics for time series forecasting\n",
        "\n",
        "we are working on a regression model like thing we are predicting a number\n",
        "\n",
        "so a few comman regression metrics are\n",
        "\n",
        "* MAE\n",
        "* MSE\n",
        "* RMSE\n",
        "* MASE\n",
        "*sMASE"
      ],
      "metadata": {
        "id": "5BA19aDqlwHN"
      }
    },
    {
      "cell_type": "code",
      "source": [
        "import tensorflow as tf"
      ],
      "metadata": {
        "id": "34yCrLSest9H"
      },
      "execution_count": 19,
      "outputs": []
    },
    {
      "cell_type": "code",
      "source": [
        "# Mase implementation\n",
        "def mean_absolute_scaled_error(y_true,y_pred):\n",
        "  \"\"\"\n",
        "  Implement MASE\n",
        "  \"\"\"\n",
        "  mae = tf.reduce_mean(tf.abs(y_true-y_pred))\n",
        "\n",
        "  mae_naive_no_season = tf.reduce_mean(tf.abs(y_true[1:]-y_true[:-1]))\n",
        "  return (mae/mae_naive_no_season)"
      ],
      "metadata": {
        "id": "mHgEeIKQo4ex"
      },
      "execution_count": 20,
      "outputs": []
    },
    {
      "cell_type": "code",
      "source": [
        "mean_absolute_scaled_error(y_test[1:],naive_forecast)"
      ],
      "metadata": {
        "colab": {
          "base_uri": "https://localhost:8080/"
        },
        "id": "Ig6XICLatBwt",
        "outputId": "695d1dbf-9731-41d0-e6e5-afadf0b7281f"
      },
      "execution_count": 21,
      "outputs": [
        {
          "output_type": "execute_result",
          "data": {
            "text/plain": [
              "<tf.Tensor: shape=(), dtype=float64, numpy=0.9995699939182624>"
            ]
          },
          "metadata": {},
          "execution_count": 21
        }
      ]
    },
    {
      "cell_type": "code",
      "source": [
        "def evaluate_preds(y_true, y_pred):\n",
        "  # Make sure float32 (for metric calculations)\n",
        "  y_true = tf.cast(y_true, dtype=tf.float32)\n",
        "  y_pred = tf.cast(y_pred, dtype=tf.float32)\n",
        "\n",
        "  # Calculate various metrics\n",
        "  mae = tf.keras.metrics.mean_absolute_error(y_true, y_pred)\n",
        "  mse = tf.keras.metrics.mean_squared_error(y_true, y_pred) # puts and emphasis on outliers (all errors get squared)\n",
        "  rmse = tf.sqrt(mse)\n",
        "  mape = tf.keras.metrics.mean_absolute_percentage_error(y_true, y_pred)\n",
        "  mase = mean_absolute_scaled_error(y_true, y_pred)\n",
        "  \n",
        "  return {\"mae\": mae.numpy(),\n",
        "          \"mse\": mse.numpy(),\n",
        "          \"rmse\": rmse.numpy(),\n",
        "          \"mape\": mape.numpy(),\n",
        "          \"mase\": mase.numpy()}"
      ],
      "metadata": {
        "id": "-pUOZVRftQ8t"
      },
      "execution_count": 22,
      "outputs": []
    },
    {
      "cell_type": "code",
      "source": [
        "naive_results = evaluate_preds(y_true=y_test[1:],y_pred=naive_forecast)\n",
        "naive_results"
      ],
      "metadata": {
        "colab": {
          "base_uri": "https://localhost:8080/"
        },
        "id": "K_w2-GDqt7R9",
        "outputId": "cdbbfd6c-0b84-4c14-e6ca-9c18cde7d600"
      },
      "execution_count": 23,
      "outputs": [
        {
          "output_type": "execute_result",
          "data": {
            "text/plain": [
              "{'mae': 567.9802,\n",
              " 'mse': 1147547.0,\n",
              " 'rmse': 1071.2362,\n",
              " 'mape': 2.5165248,\n",
              " 'mase': 0.99957}"
            ]
          },
          "metadata": {},
          "execution_count": 23
        }
      ]
    },
    {
      "cell_type": "code",
      "source": [
        "tf.reduce_mean(y_test)"
      ],
      "metadata": {
        "colab": {
          "base_uri": "https://localhost:8080/"
        },
        "id": "BX9Ai4AxvRR1",
        "outputId": "8673325f-8c11-4468-d981-08575cbf8080"
      },
      "execution_count": 24,
      "outputs": [
        {
          "output_type": "execute_result",
          "data": {
            "text/plain": [
              "<tf.Tensor: shape=(), dtype=float64, numpy=20056.632963737226>"
            ]
          },
          "metadata": {},
          "execution_count": 24
        }
      ]
    },
    {
      "cell_type": "code",
      "source": [
        "tf.reduce_min(y_test)"
      ],
      "metadata": {
        "colab": {
          "base_uri": "https://localhost:8080/"
        },
        "id": "YhUIZHobv7SW",
        "outputId": "df2b89f6-7945-4c48-a34f-6222d5948a30"
      },
      "execution_count": 25,
      "outputs": [
        {
          "output_type": "execute_result",
          "data": {
            "text/plain": [
              "<tf.Tensor: shape=(), dtype=float64, numpy=4944.7023359837>"
            ]
          },
          "metadata": {},
          "execution_count": 25
        }
      ]
    },
    {
      "cell_type": "code",
      "source": [
        "tf.reduce_max(y_test)"
      ],
      "metadata": {
        "colab": {
          "base_uri": "https://localhost:8080/"
        },
        "id": "GXvipHbDv-GN",
        "outputId": "e57e5dbf-02fd-47ba-9f04-54bc7b0af4de"
      },
      "execution_count": 26,
      "outputs": [
        {
          "output_type": "execute_result",
          "data": {
            "text/plain": [
              "<tf.Tensor: shape=(), dtype=float64, numpy=63346.7890351052>"
            ]
          },
          "metadata": {},
          "execution_count": 26
        }
      ]
    },
    {
      "cell_type": "markdown",
      "source": [
        "## Format Data part 2 : Windowing our data set "
      ],
      "metadata": {
        "id": "peJ53qnawAx_"
      }
    },
    {
      "cell_type": "markdown",
      "source": [
        "why do we window ?\n",
        "\n",
        "we window our time series dataset to turn our data into a supervised \n",
        "learning problem.\n"
      ],
      "metadata": {
        "id": "XV4nXULm0Y_2"
      }
    },
    {
      "cell_type": "code",
      "source": [
        "len(y_train)"
      ],
      "metadata": {
        "colab": {
          "base_uri": "https://localhost:8080/"
        },
        "id": "SEKiIDSx0oWH",
        "outputId": "7cffd897-8bc9-4256-8d18-65e7e0b70d1e"
      },
      "execution_count": 27,
      "outputs": [
        {
          "output_type": "execute_result",
          "data": {
            "text/plain": [
              "2229"
            ]
          },
          "metadata": {},
          "execution_count": 27
        }
      ]
    },
    {
      "cell_type": "code",
      "source": [
        "btc_price[:7] ,btc_price[7]"
      ],
      "metadata": {
        "colab": {
          "base_uri": "https://localhost:8080/"
        },
        "id": "Iqaz57dc1WyJ",
        "outputId": "0f855ea2-2a25-4c85-f486-1b9131a93c12"
      },
      "execution_count": 28,
      "outputs": [
        {
          "output_type": "execute_result",
          "data": {
            "text/plain": [
              "([123.65499, 125.455, 108.58483, 118.67466, 121.33866, 120.65533, 121.795],\n",
              " 123.033)"
            ]
          },
          "metadata": {},
          "execution_count": 28
        }
      ]
    },
    {
      "cell_type": "code",
      "source": [
        "# lets setup global variables for window and horizon size \n",
        "HORIZON = 1 # predict next 1 day\n",
        "WINDOW_SIZE = 7 # use the past week of bitcoin data to make the prediction"
      ],
      "metadata": {
        "id": "raYialfu157x"
      },
      "execution_count": 29,
      "outputs": []
    },
    {
      "cell_type": "code",
      "source": [
        "# Create function to label windowed data\n",
        "def get_labelled_window(x,horizon=HORIZON):\n",
        "  '''\n",
        "  Create labels for windowed dataset\n",
        "  \n",
        "  E.g if horizon =1\n",
        "  Input: [0,1,2,3,4,5,6,7] ------> Output: ([0,1,2,3,4,5,6] , [7])\n",
        "  \n",
        "  '''\n",
        "  return (x[:,:-horizon],x[:,-horizon:])"
      ],
      "metadata": {
        "id": "JcvNgqjJ2X9Q"
      },
      "execution_count": 30,
      "outputs": []
    },
    {
      "cell_type": "code",
      "source": [
        "# Test out the window labelling function\n",
        "test_window, test_label = get_labelled_window (tf.expand_dims(tf.range(8)+1,axis=0))\n",
        "test_window, test_label"
      ],
      "metadata": {
        "colab": {
          "base_uri": "https://localhost:8080/"
        },
        "id": "EajjrAf24B3p",
        "outputId": "da911bd7-6499-44a0-9424-22911ced472f"
      },
      "execution_count": 31,
      "outputs": [
        {
          "output_type": "execute_result",
          "data": {
            "text/plain": [
              "(<tf.Tensor: shape=(1, 7), dtype=int32, numpy=array([[1, 2, 3, 4, 5, 6, 7]], dtype=int32)>,\n",
              " <tf.Tensor: shape=(1, 1), dtype=int32, numpy=array([[8]], dtype=int32)>)"
            ]
          },
          "metadata": {},
          "execution_count": 31
        }
      ]
    },
    {
      "cell_type": "markdown",
      "source": [
        "we need to do the above preprocessing on the complete time series\n",
        "\n",
        "We can use numpy array indexing instead of for loops to speed things up"
      ],
      "metadata": {
        "id": "97_KfUBD-3Os"
      }
    },
    {
      "cell_type": "markdown",
      "source": [
        "Let's write a function which:\n",
        "\n",
        "* 1. Creates a window step of specific window size, for example: [[0, 1, 2, 3, 4, 5, 6, 7]]\n",
        "\n",
        "\n",
        "* 2. Uses NumPy indexing to create a 2D of multiple window steps, for example:\n",
        "\n",
        "        [[0, 1, 2, 3, 4, 5, 6, 7],\n",
        "        \n",
        "        [1, 2, 3, 4, 5, 6, 7, 8],\n",
        "         [2, 3, 4, 5, 6, 7, 8, 9]]\n",
        "\n",
        "* 3.Uses the 2D array of multuple window steps to index on a target series\n",
        "\n",
        "* 4.Uses the get_labelled_windows() function we created above to turn the window steps into windows with a specified horizon"
      ],
      "metadata": {
        "id": "5oX38i9q_Cj8"
      }
    },
    {
      "cell_type": "code",
      "source": [
        "import numpy as np\n",
        "# Create function to view NumPy arrays as windows \n",
        "def make_windows(x, window_size=7, horizon=1):\n",
        "  \"\"\"\n",
        "  Turns a 1D array into a 2D array of sequential windows of window_size.\n",
        "  \"\"\"\n",
        "  # 1. Create a window of specific window_size (add the horizon on the end for later labelling)\n",
        "  window_step = np.expand_dims(np.arange(window_size+horizon), axis=0)\n",
        "  # print(f\"Window step:\\n {window_step}\")\n",
        "\n",
        "  # 2. Create a 2D array of multiple window steps (minus 1 to account for 0 indexing)\n",
        "  window_indexes = window_step + np.expand_dims(np.arange(len(x)-(window_size+horizon-1)), axis=0).T # create 2D array of windows of size window_size\n",
        "  # print(f\"Window indexes:\\n {window_indexes[:3], window_indexes[-3:], window_indexes.shape}\")\n",
        "\n",
        "  # 3. Index on the target array (time series) with 2D array of multiple window steps\n",
        "  windowed_array = x[window_indexes]\n",
        "\n",
        "  # 4. Get the labelled windows\n",
        "  windows, labels = get_labelled_window(windowed_array, horizon=horizon)\n",
        "\n",
        "  return windows, labels"
      ],
      "metadata": {
        "id": "HJohBehdDtjX"
      },
      "execution_count": 32,
      "outputs": []
    },
    {
      "cell_type": "code",
      "source": [
        "full_windows, full_labels = make_windows(prices,window_size=WINDOW_SIZE,horizon=HORIZON)\n",
        "len(full_windows),len(full_labels)"
      ],
      "metadata": {
        "colab": {
          "base_uri": "https://localhost:8080/"
        },
        "id": "iYAnnFFbDSj4",
        "outputId": "78beed08-718f-4421-9bc6-591d2e5a6310"
      },
      "execution_count": 33,
      "outputs": [
        {
          "output_type": "execute_result",
          "data": {
            "text/plain": [
              "(2780, 2780)"
            ]
          },
          "metadata": {},
          "execution_count": 33
        }
      ]
    },
    {
      "cell_type": "code",
      "source": [
        "# View the first 3\n",
        "for i in range (3):\n",
        "  print(f\"Windsows:{full_windows[i]}--> Label {full_labels[i]}\")"
      ],
      "metadata": {
        "colab": {
          "base_uri": "https://localhost:8080/"
        },
        "id": "mSbVnJt7D2eX",
        "outputId": "381a2669-f848-44f4-f5ce-a760df89db66"
      },
      "execution_count": 34,
      "outputs": [
        {
          "output_type": "stream",
          "name": "stdout",
          "text": [
            "Windsows:[123.65499 125.455   108.58483 118.67466 121.33866 120.65533 121.795  ]--> Label [123.033]\n",
            "Windsows:[125.455   108.58483 118.67466 121.33866 120.65533 121.795   123.033  ]--> Label [124.049]\n",
            "Windsows:[108.58483 118.67466 121.33866 120.65533 121.795   123.033   124.049  ]--> Label [125.96116]\n"
          ]
        }
      ]
    },
    {
      "cell_type": "code",
      "source": [
        "np.expand_dims(np.arange(len(prices)-(7+1-1)),axis=0).T"
      ],
      "metadata": {
        "colab": {
          "base_uri": "https://localhost:8080/"
        },
        "id": "djXmK63wFxo6",
        "outputId": "bfb9c79f-9813-4e09-a66a-6943fff9f06f"
      },
      "execution_count": 35,
      "outputs": [
        {
          "output_type": "execute_result",
          "data": {
            "text/plain": [
              "array([[   0],\n",
              "       [   1],\n",
              "       [   2],\n",
              "       ...,\n",
              "       [2777],\n",
              "       [2778],\n",
              "       [2779]])"
            ]
          },
          "metadata": {},
          "execution_count": 35
        }
      ]
    },
    {
      "cell_type": "code",
      "source": [
        "np.expand_dims(np.arange(7+1),axis=0)"
      ],
      "metadata": {
        "colab": {
          "base_uri": "https://localhost:8080/"
        },
        "id": "3F-XgIHCEZF4",
        "outputId": "62396542-cfcf-4adc-fff0-1e9e52d95ff3"
      },
      "execution_count": 36,
      "outputs": [
        {
          "output_type": "execute_result",
          "data": {
            "text/plain": [
              "array([[0, 1, 2, 3, 4, 5, 6, 7]])"
            ]
          },
          "metadata": {},
          "execution_count": 36
        }
      ]
    },
    {
      "cell_type": "code",
      "source": [
        "len(prices)"
      ],
      "metadata": {
        "colab": {
          "base_uri": "https://localhost:8080/"
        },
        "id": "3wTdPhp8FXiY",
        "outputId": "792eeb66-c383-48f4-f155-6067bf02db29"
      },
      "execution_count": 37,
      "outputs": [
        {
          "output_type": "execute_result",
          "data": {
            "text/plain": [
              "2787"
            ]
          },
          "metadata": {},
          "execution_count": 37
        }
      ]
    },
    {
      "cell_type": "code",
      "source": [
        "f=tf.keras.preprocessing.timeseries_dataset_from_array(prices,sequence_length=7,targets=None ,batch_size=1)"
      ],
      "metadata": {
        "id": "p262RgygFehw"
      },
      "execution_count": 38,
      "outputs": []
    },
    {
      "cell_type": "code",
      "source": [
        "for i in f:\n",
        "  a=tf.squeeze(i)\n",
        "  print(tf.squeeze(i))\n",
        "  break"
      ],
      "metadata": {
        "colab": {
          "base_uri": "https://localhost:8080/"
        },
        "id": "x9AAHikQKKIi",
        "outputId": "bb9e68c4-9705-4b20-b2d8-eed2c0fae2cb"
      },
      "execution_count": 39,
      "outputs": [
        {
          "output_type": "stream",
          "name": "stdout",
          "text": [
            "tf.Tensor([123.65499 125.455   108.58483 118.67466 121.33866 120.65533 121.795  ], shape=(7,), dtype=float64)\n"
          ]
        }
      ]
    },
    {
      "cell_type": "code",
      "source": [
        "get_labelled_window(np.expand_dims(a,axis=0))"
      ],
      "metadata": {
        "colab": {
          "base_uri": "https://localhost:8080/"
        },
        "id": "TTbKNOJjKXdq",
        "outputId": "cd4ac3e2-bed0-41f6-97af-577ce0c22cbd"
      },
      "execution_count": 40,
      "outputs": [
        {
          "output_type": "execute_result",
          "data": {
            "text/plain": [
              "(array([[123.65499, 125.455  , 108.58483, 118.67466, 121.33866, 120.65533]]),\n",
              " array([[121.795]]))"
            ]
          },
          "metadata": {},
          "execution_count": 40
        }
      ]
    },
    {
      "cell_type": "markdown",
      "source": [
        "## Turning windows into training and test sets\n"
      ],
      "metadata": {
        "id": "cPL4d3XRK_cL"
      }
    },
    {
      "cell_type": "code",
      "source": [
        "# Make the train test splits\n",
        "def make_train_test_split(windows,labels,test_split=0.2):\n",
        "  \"\"\"\n",
        "  Split matching pairs of windows and labels into train and test splits\n",
        "  \"\"\"\n",
        "  split_size = int(len(windows) * (1-test_split)) # This will default to 80% train and 20% test\n",
        "  train_windows = windows[:split_size]\n",
        "  train_labels = labels[:split_size]\n",
        "  test_windows = windows[split_size:]\n",
        "  test_labels = labels[split_size:]\n",
        "  return(train_windows,test_windows,train_labels,test_labels)"
      ],
      "metadata": {
        "id": "ABYQdkHWOrE6"
      },
      "execution_count": 41,
      "outputs": []
    },
    {
      "cell_type": "code",
      "source": [
        "# Create train and test windows\n",
        "train_windows,test_windows,train_labels,test_labels = make_train_test_split(full_windows,full_labels)\n",
        "len(train_windows),len(test_windows),len(train_labels),len(test_labels)"
      ],
      "metadata": {
        "colab": {
          "base_uri": "https://localhost:8080/"
        },
        "id": "QPeSxf8bQKjv",
        "outputId": "23fb0a29-1a23-4ef9-dd38-202b80b0669d"
      },
      "execution_count": 42,
      "outputs": [
        {
          "output_type": "execute_result",
          "data": {
            "text/plain": [
              "(2224, 556, 2224, 556)"
            ]
          },
          "metadata": {},
          "execution_count": 42
        }
      ]
    },
    {
      "cell_type": "code",
      "source": [
        "train_windows[:5],train_labels[:5]"
      ],
      "metadata": {
        "colab": {
          "base_uri": "https://localhost:8080/"
        },
        "id": "MGYbx457Qww8",
        "outputId": "31557183-302f-406c-902b-4ce6491f8241"
      },
      "execution_count": 43,
      "outputs": [
        {
          "output_type": "execute_result",
          "data": {
            "text/plain": [
              "(array([[123.65499, 125.455  , 108.58483, 118.67466, 121.33866, 120.65533,\n",
              "         121.795  ],\n",
              "        [125.455  , 108.58483, 118.67466, 121.33866, 120.65533, 121.795  ,\n",
              "         123.033  ],\n",
              "        [108.58483, 118.67466, 121.33866, 120.65533, 121.795  , 123.033  ,\n",
              "         124.049  ],\n",
              "        [118.67466, 121.33866, 120.65533, 121.795  , 123.033  , 124.049  ,\n",
              "         125.96116],\n",
              "        [121.33866, 120.65533, 121.795  , 123.033  , 124.049  , 125.96116,\n",
              "         125.27966]]), array([[123.033  ],\n",
              "        [124.049  ],\n",
              "        [125.96116],\n",
              "        [125.27966],\n",
              "        [125.9275 ]]))"
            ]
          },
          "metadata": {},
          "execution_count": 43
        }
      ]
    },
    {
      "cell_type": "markdown",
      "source": [
        "## Make a Modeling check point\n",
        "\n",
        "Because our model's performance will fluctuate from experiment to experiment we are going to write a model checkpoint so we can compare appels to appels.\n",
        "\n",
        "More specifically we want to compare each of our models best performance against the other models best performance.\n",
        "\n",
        "for example if our model performs the best on epoch 55 (but we are training for 100 epochs), we want to load and evaluate the model saved on epoch 55\n",
        "\n",
        "We can create a modelling checkpoint callbacks by using tf keras callback model checkpoints"
      ],
      "metadata": {
        "id": "B5ttu7EAWmFs"
      }
    },
    {
      "cell_type": "code",
      "source": [
        "import os\n",
        "# Create a function to implement the model callback checkpoint with a specific filename\n",
        "def create_model_checkpoint(model_name,save_path=\"model_experiments\"):\n",
        "  return tf.keras.callbacks.ModelCheckpoint(filepath=os.path.join(save_path,model_name),\n",
        "                                            verbos=0,\n",
        "                                            save_best_only=True)\n",
        "\n"
      ],
      "metadata": {
        "id": "4yeomtxRXxKb"
      },
      "execution_count": 44,
      "outputs": []
    },
    {
      "cell_type": "markdown",
      "source": [
        "## Model 1: Dense model (window=7 horizon=1)\n",
        "\n",
        "our first deep model is going to be simple dense model\n",
        "* A single dense layer with 128 hidden units and ReLU\n",
        "* An output layer with linear or no activation\n",
        "* Adam optimizer and MAE loss fuction\n",
        "* Batch size of 128\n",
        "* 100 epochs\n",
        "\n",
        "Why these values ?\n",
        "\n",
        "These were picked out through experimentations\n",
        "\n",
        "**Hyperparameters** = values a machine learning practitioner can adjust themselves\n",
        "\n",
        "**Parameters** = values a model learns on its own"
      ],
      "metadata": {
        "id": "Q2RRTw2qaueN"
      }
    },
    {
      "cell_type": "code",
      "source": [
        "import tensorflow as tf \n",
        "from tensorflow.keras import layers\n",
        "\n",
        "# Set random seed for as reproducible results as possible\n",
        "tf.random.set_seed(42)\n",
        "# 1. Construct Model\n",
        "model_1 = tf.keras.Sequential([\n",
        "    layers.Dense(128,activation=\"relu\"),\n",
        "    layers.Dense(HORIZON, activation=\"linear\") # Linear activation is just like having no activation at all\n",
        "],name=\"model_1_dense\")# name our model so we can save it\n",
        "# 2. Compile\n",
        "model_1.compile(loss=\"mae\",\n",
        "                optimizer = tf.keras.optimizers.Adam(),\n",
        "                metrics = [\"mae\",\"mse\"])\n",
        "# 3. Fit the model\n",
        "model_1.fit(x = train_windows,\n",
        "            y = train_labels,\n",
        "            epochs=100,\n",
        "            verbose=1,\n",
        "            batch_size=128,\n",
        "            validation_data=(test_windows,test_labels),\n",
        "            callbacks=[create_model_checkpoint(model_name=model_1.name)])"
      ],
      "metadata": {
        "colab": {
          "base_uri": "https://localhost:8080/"
        },
        "id": "J6rtD5GpbJV9",
        "outputId": "122dedb6-a166-4b57-f6a2-3155c0004b1b"
      },
      "execution_count": 45,
      "outputs": [
        {
          "output_type": "stream",
          "name": "stdout",
          "text": [
            "Epoch 1/100\n",
            "18/18 [==============================] - 3s 115ms/step - loss: 780.3469 - mae: 780.3469 - mse: 2312739.0000 - val_loss: 2279.5828 - val_mae: 2279.5828 - val_mse: 12772094.0000\n",
            "Epoch 2/100\n",
            "18/18 [==============================] - 1s 65ms/step - loss: 247.6765 - mae: 247.6765 - mse: 285480.9375 - val_loss: 1005.9865 - val_mae: 1005.9865 - val_mse: 3441759.2500\n",
            "Epoch 3/100\n",
            "18/18 [==============================] - 1s 65ms/step - loss: 188.4107 - mae: 188.4107 - mse: 171890.0156 - val_loss: 923.2861 - val_mae: 923.2861 - val_mse: 2868195.5000\n",
            "Epoch 4/100\n",
            "18/18 [==============================] - 1s 61ms/step - loss: 169.4334 - mae: 169.4334 - mse: 151699.4688 - val_loss: 900.5931 - val_mae: 900.5931 - val_mse: 2683713.5000\n",
            "Epoch 5/100\n",
            "18/18 [==============================] - 1s 78ms/step - loss: 165.0900 - mae: 165.0900 - mse: 145490.8750 - val_loss: 895.2404 - val_mae: 895.2404 - val_mse: 2564606.0000\n",
            "Epoch 6/100\n",
            "18/18 [==============================] - 1s 63ms/step - loss: 158.5206 - mae: 158.5206 - mse: 133816.7969 - val_loss: 855.1868 - val_mae: 855.1868 - val_mse: 2481815.5000\n",
            "Epoch 7/100\n",
            "18/18 [==============================] - 1s 63ms/step - loss: 151.3568 - mae: 151.3568 - mse: 123446.7891 - val_loss: 840.9289 - val_mae: 840.9289 - val_mse: 2276476.2500\n",
            "Epoch 8/100\n",
            "18/18 [==============================] - 1s 81ms/step - loss: 145.2560 - mae: 145.2560 - mse: 117694.1719 - val_loss: 803.6005 - val_mae: 803.6005 - val_mse: 2140566.5000\n",
            "Epoch 9/100\n",
            "18/18 [==============================] - 1s 77ms/step - loss: 144.3546 - mae: 144.3546 - mse: 115269.0703 - val_loss: 799.5592 - val_mae: 799.5592 - val_mse: 2049233.5000\n",
            "Epoch 10/100\n",
            "18/18 [==============================] - 1s 62ms/step - loss: 141.2944 - mae: 141.2944 - mse: 112394.2031 - val_loss: 763.5060 - val_mae: 763.5060 - val_mse: 1933137.0000\n",
            "Epoch 11/100\n",
            "18/18 [==============================] - 0s 8ms/step - loss: 135.6591 - mae: 135.6591 - mse: 104117.5703 - val_loss: 771.3523 - val_mae: 771.3523 - val_mse: 1885888.0000\n",
            "Epoch 12/100\n",
            "18/18 [==============================] - 0s 6ms/step - loss: 134.1702 - mae: 134.1702 - mse: 101780.5156 - val_loss: 782.8324 - val_mae: 782.8324 - val_mse: 1881791.2500\n",
            "Epoch 13/100\n",
            "18/18 [==============================] - 0s 6ms/step - loss: 134.6014 - mae: 134.6014 - mse: 102344.3672 - val_loss: 784.4727 - val_mae: 784.4727 - val_mse: 1861070.1250\n",
            "Epoch 14/100\n",
            "18/18 [==============================] - 1s 66ms/step - loss: 130.6125 - mae: 130.6125 - mse: 96224.3672 - val_loss: 751.3470 - val_mae: 751.3470 - val_mse: 1749667.8750\n",
            "Epoch 15/100\n",
            "18/18 [==============================] - 1s 69ms/step - loss: 128.8352 - mae: 128.8352 - mse: 94306.8281 - val_loss: 696.5835 - val_mae: 696.5835 - val_mse: 1606358.3750\n",
            "Epoch 16/100\n",
            "18/18 [==============================] - 0s 13ms/step - loss: 124.8667 - mae: 124.8667 - mse: 90498.6250 - val_loss: 707.2986 - val_mae: 707.2986 - val_mse: 1602363.7500\n",
            "Epoch 17/100\n",
            "18/18 [==============================] - 0s 9ms/step - loss: 123.6096 - mae: 123.6096 - mse: 89226.7422 - val_loss: 714.2289 - val_mae: 714.2289 - val_mse: 1601815.2500\n",
            "Epoch 18/100\n",
            "18/18 [==============================] - 1s 74ms/step - loss: 122.3023 - mae: 122.3023 - mse: 87726.4922 - val_loss: 669.1413 - val_mae: 669.1413 - val_mse: 1498631.8750\n",
            "Epoch 19/100\n",
            "18/18 [==============================] - 0s 6ms/step - loss: 121.4931 - mae: 121.4931 - mse: 86447.8828 - val_loss: 721.5450 - val_mae: 721.5450 - val_mse: 1595831.0000\n",
            "Epoch 20/100\n",
            "18/18 [==============================] - 1s 87ms/step - loss: 119.2384 - mae: 119.2384 - mse: 84250.7656 - val_loss: 658.0785 - val_mae: 658.0785 - val_mse: 1448095.1250\n",
            "Epoch 21/100\n",
            "18/18 [==============================] - 1s 75ms/step - loss: 121.5293 - mae: 121.5293 - mse: 85926.5547 - val_loss: 638.3384 - val_mae: 638.3384 - val_mse: 1397796.6250\n",
            "Epoch 22/100\n",
            "18/18 [==============================] - 0s 11ms/step - loss: 119.3422 - mae: 119.3422 - mse: 83495.2109 - val_loss: 678.8879 - val_mae: 678.8879 - val_mse: 1465750.1250\n",
            "Epoch 23/100\n",
            "18/18 [==============================] - 0s 10ms/step - loss: 122.8203 - mae: 122.8203 - mse: 84656.3750 - val_loss: 651.8511 - val_mae: 651.8511 - val_mse: 1401080.7500\n",
            "Epoch 24/100\n",
            "18/18 [==============================] - 1s 78ms/step - loss: 117.0774 - mae: 117.0774 - mse: 81069.2109 - val_loss: 623.5612 - val_mae: 623.5612 - val_mse: 1362704.8750\n",
            "Epoch 25/100\n",
            "18/18 [==============================] - 1s 69ms/step - loss: 115.1816 - mae: 115.1816 - mse: 79065.0469 - val_loss: 618.5575 - val_mae: 618.5575 - val_mse: 1342634.3750\n",
            "Epoch 26/100\n",
            "18/18 [==============================] - 1s 44ms/step - loss: 115.0673 - mae: 115.0673 - mse: 78886.6172 - val_loss: 616.4917 - val_mae: 616.4917 - val_mse: 1321326.7500\n",
            "Epoch 27/100\n",
            "18/18 [==============================] - 0s 4ms/step - loss: 116.6431 - mae: 116.6431 - mse: 79058.1094 - val_loss: 619.0472 - val_mae: 619.0472 - val_mse: 1316206.7500\n",
            "Epoch 28/100\n",
            "18/18 [==============================] - 1s 32ms/step - loss: 114.0328 - mae: 114.0328 - mse: 77953.4688 - val_loss: 610.3881 - val_mae: 610.3881 - val_mse: 1316937.5000\n",
            "Epoch 29/100\n",
            "18/18 [==============================] - 0s 4ms/step - loss: 113.4892 - mae: 113.4892 - mse: 78513.1094 - val_loss: 617.2402 - val_mae: 617.2402 - val_mse: 1304227.6250\n",
            "Epoch 30/100\n",
            "18/18 [==============================] - 1s 32ms/step - loss: 116.4094 - mae: 116.4094 - mse: 78943.1484 - val_loss: 603.6488 - val_mae: 603.6488 - val_mse: 1283177.7500\n",
            "Epoch 31/100\n",
            "18/18 [==============================] - 0s 3ms/step - loss: 112.3454 - mae: 112.3454 - mse: 74879.3281 - val_loss: 623.4432 - val_mae: 623.4432 - val_mse: 1311036.6250\n",
            "Epoch 32/100\n",
            "18/18 [==============================] - 1s 32ms/step - loss: 113.2056 - mae: 113.2056 - mse: 77898.5000 - val_loss: 600.0259 - val_mae: 600.0259 - val_mse: 1271945.1250\n",
            "Epoch 33/100\n",
            "18/18 [==============================] - 0s 4ms/step - loss: 112.9529 - mae: 112.9529 - mse: 76235.4219 - val_loss: 653.0601 - val_mae: 653.0601 - val_mse: 1369884.8750\n",
            "Epoch 34/100\n",
            "18/18 [==============================] - 1s 31ms/step - loss: 112.1156 - mae: 112.1156 - mse: 77267.7656 - val_loss: 594.7912 - val_mae: 594.7912 - val_mse: 1263628.1250\n",
            "Epoch 35/100\n",
            "18/18 [==============================] - 1s 31ms/step - loss: 110.7447 - mae: 110.7447 - mse: 75067.1484 - val_loss: 592.7401 - val_mae: 592.7401 - val_mse: 1250752.7500\n",
            "Epoch 36/100\n",
            "18/18 [==============================] - 1s 32ms/step - loss: 116.3301 - mae: 116.3301 - mse: 77425.8125 - val_loss: 592.4696 - val_mae: 592.4696 - val_mse: 1246067.8750\n",
            "Epoch 37/100\n",
            "18/18 [==============================] - 0s 6ms/step - loss: 110.7676 - mae: 110.7676 - mse: 75596.7344 - val_loss: 618.5347 - val_mae: 618.5347 - val_mse: 1286741.0000\n",
            "Epoch 38/100\n",
            "18/18 [==============================] - 0s 3ms/step - loss: 112.5934 - mae: 112.5934 - mse: 75636.7422 - val_loss: 613.9558 - val_mae: 613.9558 - val_mse: 1306248.5000\n",
            "Epoch 39/100\n",
            "18/18 [==============================] - 1s 30ms/step - loss: 110.1321 - mae: 110.1321 - mse: 74271.8125 - val_loss: 586.6888 - val_mae: 586.6888 - val_mse: 1231217.1250\n",
            "Epoch 40/100\n",
            "18/18 [==============================] - 0s 3ms/step - loss: 109.4753 - mae: 109.4753 - mse: 73257.0078 - val_loss: 593.9153 - val_mae: 593.9153 - val_mse: 1256532.0000\n",
            "Epoch 41/100\n",
            "18/18 [==============================] - 1s 31ms/step - loss: 110.1777 - mae: 110.1777 - mse: 73581.0234 - val_loss: 586.4464 - val_mae: 586.4464 - val_mse: 1229670.5000\n",
            "Epoch 42/100\n",
            "18/18 [==============================] - 0s 4ms/step - loss: 111.5192 - mae: 111.5192 - mse: 76049.7578 - val_loss: 649.3647 - val_mae: 649.3647 - val_mse: 1345896.0000\n",
            "Epoch 43/100\n",
            "18/18 [==============================] - 0s 4ms/step - loss: 115.8939 - mae: 115.8939 - mse: 74405.6172 - val_loss: 686.8293 - val_mae: 686.8293 - val_mse: 1486392.8750\n",
            "Epoch 44/100\n",
            "18/18 [==============================] - 0s 3ms/step - loss: 123.0945 - mae: 123.0945 - mse: 83366.2891 - val_loss: 661.1306 - val_mae: 661.1306 - val_mse: 1411200.2500\n",
            "Epoch 45/100\n",
            "18/18 [==============================] - 0s 3ms/step - loss: 113.8169 - mae: 113.8169 - mse: 77100.1797 - val_loss: 626.8174 - val_mae: 626.8174 - val_mse: 1293825.8750\n",
            "Epoch 46/100\n",
            "18/18 [==============================] - 0s 3ms/step - loss: 114.0971 - mae: 114.0971 - mse: 76079.4453 - val_loss: 588.7769 - val_mae: 588.7769 - val_mse: 1238327.0000\n",
            "Epoch 47/100\n",
            "18/18 [==============================] - 0s 4ms/step - loss: 108.9936 - mae: 108.9936 - mse: 73660.3203 - val_loss: 636.0581 - val_mae: 636.0581 - val_mse: 1312959.5000\n",
            "Epoch 48/100\n",
            "18/18 [==============================] - 0s 4ms/step - loss: 109.2967 - mae: 109.2967 - mse: 73079.0703 - val_loss: 604.1586 - val_mae: 604.1586 - val_mse: 1245050.1250\n",
            "Epoch 49/100\n",
            "18/18 [==============================] - 0s 4ms/step - loss: 111.7787 - mae: 111.7787 - mse: 73888.8984 - val_loss: 591.5095 - val_mae: 591.5095 - val_mse: 1222480.7500\n",
            "Epoch 50/100\n",
            "18/18 [==============================] - 0s 3ms/step - loss: 111.7319 - mae: 111.7319 - mse: 73875.1484 - val_loss: 636.4678 - val_mae: 636.4678 - val_mse: 1341627.1250\n",
            "Epoch 51/100\n",
            "18/18 [==============================] - 0s 4ms/step - loss: 110.7497 - mae: 110.7497 - mse: 73830.8984 - val_loss: 589.2878 - val_mae: 589.2878 - val_mse: 1216413.8750\n",
            "Epoch 52/100\n",
            "18/18 [==============================] - 0s 3ms/step - loss: 111.5193 - mae: 111.5193 - mse: 75446.7109 - val_loss: 609.5289 - val_mae: 609.5289 - val_mse: 1277468.8750\n",
            "Epoch 53/100\n",
            "18/18 [==============================] - 1s 30ms/step - loss: 113.9868 - mae: 113.9868 - mse: 75752.9688 - val_loss: 584.7472 - val_mae: 584.7472 - val_mse: 1209497.5000\n",
            "Epoch 54/100\n",
            "18/18 [==============================] - 1s 31ms/step - loss: 110.1075 - mae: 110.1075 - mse: 72728.5703 - val_loss: 578.7415 - val_mae: 578.7415 - val_mse: 1200865.0000\n",
            "Epoch 55/100\n",
            "18/18 [==============================] - 0s 3ms/step - loss: 110.6423 - mae: 110.6423 - mse: 75084.4219 - val_loss: 581.5332 - val_mae: 581.5332 - val_mse: 1218268.6250\n",
            "Epoch 56/100\n",
            "18/18 [==============================] - 0s 3ms/step - loss: 107.6537 - mae: 107.6537 - mse: 71568.1172 - val_loss: 759.0189 - val_mae: 759.0189 - val_mse: 1698484.5000\n",
            "Epoch 57/100\n",
            "18/18 [==============================] - 0s 4ms/step - loss: 119.2012 - mae: 119.2012 - mse: 79652.9609 - val_loss: 603.5953 - val_mae: 603.5953 - val_mse: 1262626.8750\n",
            "Epoch 58/100\n",
            "18/18 [==============================] - 0s 4ms/step - loss: 116.4418 - mae: 116.4418 - mse: 75122.9062 - val_loss: 583.7297 - val_mae: 583.7297 - val_mse: 1206719.2500\n",
            "Epoch 59/100\n",
            "18/18 [==============================] - 0s 4ms/step - loss: 109.9014 - mae: 109.9014 - mse: 72680.9688 - val_loss: 592.8416 - val_mae: 592.8416 - val_mse: 1240090.2500\n",
            "Epoch 60/100\n",
            "18/18 [==============================] - 0s 3ms/step - loss: 107.7859 - mae: 107.7859 - mse: 72220.4922 - val_loss: 593.4968 - val_mae: 593.4968 - val_mse: 1220786.6250\n",
            "Epoch 61/100\n",
            "18/18 [==============================] - 1s 47ms/step - loss: 107.6960 - mae: 107.6960 - mse: 72155.8672 - val_loss: 575.5124 - val_mae: 575.5124 - val_mse: 1194018.6250\n",
            "Epoch 62/100\n",
            "18/18 [==============================] - 0s 4ms/step - loss: 107.1258 - mae: 107.1258 - mse: 70836.3594 - val_loss: 580.2645 - val_mae: 580.2645 - val_mse: 1213138.3750\n",
            "Epoch 63/100\n",
            "18/18 [==============================] - 0s 4ms/step - loss: 111.8451 - mae: 111.8451 - mse: 73612.9453 - val_loss: 654.6142 - val_mae: 654.6142 - val_mse: 1348994.1250\n",
            "Epoch 64/100\n",
            "18/18 [==============================] - 0s 4ms/step - loss: 110.3121 - mae: 110.3121 - mse: 72546.6641 - val_loss: 610.7811 - val_mae: 610.7811 - val_mse: 1251885.5000\n",
            "Epoch 65/100\n",
            "18/18 [==============================] - 1s 33ms/step - loss: 109.7098 - mae: 109.7098 - mse: 72575.0859 - val_loss: 573.9961 - val_mae: 573.9961 - val_mse: 1190387.6250\n",
            "Epoch 66/100\n",
            "18/18 [==============================] - 1s 33ms/step - loss: 106.8139 - mae: 106.8139 - mse: 70554.2734 - val_loss: 572.9989 - val_mae: 572.9989 - val_mse: 1187547.2500\n",
            "Epoch 67/100\n",
            "18/18 [==============================] - 0s 4ms/step - loss: 106.1394 - mae: 106.1394 - mse: 70026.4375 - val_loss: 602.1524 - val_mae: 602.1524 - val_mse: 1255793.2500\n",
            "Epoch 68/100\n",
            "18/18 [==============================] - 0s 3ms/step - loss: 112.9245 - mae: 112.9245 - mse: 70779.4219 - val_loss: 687.6375 - val_mae: 687.6375 - val_mse: 1476285.7500\n",
            "Epoch 69/100\n",
            "18/18 [==============================] - 0s 3ms/step - loss: 126.9916 - mae: 126.9916 - mse: 82712.0078 - val_loss: 664.9471 - val_mae: 664.9471 - val_mse: 1413699.8750\n",
            "Epoch 70/100\n",
            "18/18 [==============================] - 0s 4ms/step - loss: 124.8735 - mae: 124.8735 - mse: 83039.0469 - val_loss: 619.6683 - val_mae: 619.6683 - val_mse: 1298640.1250\n",
            "Epoch 71/100\n",
            "18/18 [==============================] - 0s 3ms/step - loss: 109.8522 - mae: 109.8522 - mse: 71643.4844 - val_loss: 582.3639 - val_mae: 582.3639 - val_mse: 1201057.1250\n",
            "Epoch 72/100\n",
            "18/18 [==============================] - 0s 4ms/step - loss: 107.6717 - mae: 107.6717 - mse: 71406.7734 - val_loss: 573.4947 - val_mae: 573.4947 - val_mse: 1192645.6250\n",
            "Epoch 73/100\n",
            "18/18 [==============================] - 0s 4ms/step - loss: 109.6036 - mae: 109.6036 - mse: 71761.6094 - val_loss: 583.9044 - val_mae: 583.9044 - val_mse: 1218967.0000\n",
            "Epoch 74/100\n",
            "18/18 [==============================] - 1s 32ms/step - loss: 107.7049 - mae: 107.7049 - mse: 71542.5938 - val_loss: 572.9933 - val_mae: 572.9933 - val_mse: 1189806.0000\n",
            "Epoch 75/100\n",
            "18/18 [==============================] - 0s 4ms/step - loss: 108.1179 - mae: 108.1179 - mse: 70535.7812 - val_loss: 583.9375 - val_mae: 583.9375 - val_mse: 1199157.1250\n",
            "Epoch 76/100\n",
            "18/18 [==============================] - 0s 4ms/step - loss: 109.5447 - mae: 109.5447 - mse: 71991.1406 - val_loss: 592.8234 - val_mae: 592.8234 - val_mse: 1234671.6250\n",
            "Epoch 77/100\n",
            "18/18 [==============================] - 0s 4ms/step - loss: 108.3639 - mae: 108.3639 - mse: 70784.8203 - val_loss: 575.4260 - val_mae: 575.4260 - val_mse: 1197659.5000\n",
            "Epoch 78/100\n",
            "18/18 [==============================] - 0s 4ms/step - loss: 108.0055 - mae: 108.0055 - mse: 70093.0156 - val_loss: 574.3940 - val_mae: 574.3940 - val_mse: 1193026.1250\n",
            "Epoch 79/100\n",
            "18/18 [==============================] - 0s 4ms/step - loss: 107.3223 - mae: 107.3223 - mse: 71654.6328 - val_loss: 597.2479 - val_mae: 597.2479 - val_mse: 1242042.3750\n",
            "Epoch 80/100\n",
            "18/18 [==============================] - 0s 4ms/step - loss: 108.1452 - mae: 108.1452 - mse: 71775.7188 - val_loss: 586.6866 - val_mae: 586.6866 - val_mse: 1199789.1250\n",
            "Epoch 81/100\n",
            "18/18 [==============================] - 0s 4ms/step - loss: 106.1153 - mae: 106.1153 - mse: 69995.2266 - val_loss: 575.1766 - val_mae: 575.1766 - val_mse: 1195805.6250\n",
            "Epoch 82/100\n",
            "18/18 [==============================] - 0s 4ms/step - loss: 116.6343 - mae: 116.6343 - mse: 77928.7266 - val_loss: 575.4341 - val_mae: 575.4341 - val_mse: 1192046.7500\n",
            "Epoch 83/100\n",
            "18/18 [==============================] - 0s 4ms/step - loss: 110.8731 - mae: 110.8731 - mse: 72825.0547 - val_loss: 654.5366 - val_mae: 654.5366 - val_mse: 1375390.8750\n",
            "Epoch 84/100\n",
            "18/18 [==============================] - 1s 33ms/step - loss: 111.9106 - mae: 111.9106 - mse: 73183.8438 - val_loss: 572.3372 - val_mae: 572.3372 - val_mse: 1176463.3750\n",
            "Epoch 85/100\n",
            "18/18 [==============================] - 0s 3ms/step - loss: 106.6154 - mae: 106.6154 - mse: 70752.4453 - val_loss: 574.2833 - val_mae: 574.2833 - val_mse: 1178177.2500\n",
            "Epoch 86/100\n",
            "18/18 [==============================] - 0s 3ms/step - loss: 108.4299 - mae: 108.4299 - mse: 70129.7266 - val_loss: 583.3531 - val_mae: 583.3531 - val_mse: 1191900.5000\n",
            "Epoch 87/100\n",
            "18/18 [==============================] - 0s 4ms/step - loss: 105.7481 - mae: 105.7481 - mse: 68589.9531 - val_loss: 593.0121 - val_mae: 593.0121 - val_mse: 1230071.5000\n",
            "Epoch 88/100\n",
            "18/18 [==============================] - 1s 32ms/step - loss: 107.2604 - mae: 107.2604 - mse: 70897.3438 - val_loss: 571.7657 - val_mae: 571.7657 - val_mse: 1182082.5000\n",
            "Epoch 89/100\n",
            "18/18 [==============================] - 1s 31ms/step - loss: 106.7823 - mae: 106.7823 - mse: 69118.5469 - val_loss: 568.6370 - val_mae: 568.6370 - val_mse: 1174329.6250\n",
            "Epoch 90/100\n",
            "18/18 [==============================] - 0s 3ms/step - loss: 105.8682 - mae: 105.8682 - mse: 67370.6797 - val_loss: 602.9691 - val_mae: 602.9691 - val_mse: 1230767.3750\n",
            "Epoch 91/100\n",
            "18/18 [==============================] - 0s 3ms/step - loss: 110.6365 - mae: 110.6365 - mse: 72148.0469 - val_loss: 605.6945 - val_mae: 605.6945 - val_mse: 1257883.5000\n",
            "Epoch 92/100\n",
            "18/18 [==============================] - 0s 4ms/step - loss: 109.4669 - mae: 109.4669 - mse: 72193.7656 - val_loss: 572.4369 - val_mae: 572.4369 - val_mse: 1183753.2500\n",
            "Epoch 93/100\n",
            "18/18 [==============================] - 0s 4ms/step - loss: 113.0063 - mae: 113.0063 - mse: 73147.9688 - val_loss: 617.3000 - val_mae: 617.3000 - val_mse: 1284325.8750\n",
            "Epoch 94/100\n",
            "18/18 [==============================] - 0s 3ms/step - loss: 112.4903 - mae: 112.4903 - mse: 73928.3203 - val_loss: 599.9803 - val_mae: 599.9803 - val_mse: 1225950.6250\n",
            "Epoch 95/100\n",
            "18/18 [==============================] - 0s 3ms/step - loss: 106.0053 - mae: 106.0053 - mse: 68764.8672 - val_loss: 570.6212 - val_mae: 570.6212 - val_mse: 1175398.6250\n",
            "Epoch 96/100\n",
            "18/18 [==============================] - 0s 3ms/step - loss: 109.5910 - mae: 109.5910 - mse: 70458.2422 - val_loss: 676.3395 - val_mae: 676.3395 - val_mse: 1426408.1250\n",
            "Epoch 97/100\n",
            "18/18 [==============================] - 0s 3ms/step - loss: 110.2213 - mae: 110.2213 - mse: 72762.1328 - val_loss: 574.2988 - val_mae: 574.2988 - val_mse: 1177002.0000\n",
            "Epoch 98/100\n",
            "18/18 [==============================] - 0s 4ms/step - loss: 106.7290 - mae: 106.7290 - mse: 69964.2500 - val_loss: 576.7733 - val_mae: 576.7733 - val_mse: 1192501.2500\n",
            "Epoch 99/100\n",
            "18/18 [==============================] - 1s 35ms/step - loss: 106.9889 - mae: 106.9889 - mse: 70740.2031 - val_loss: 568.5499 - val_mae: 568.5499 - val_mse: 1172587.8750\n",
            "Epoch 100/100\n",
            "18/18 [==============================] - 0s 3ms/step - loss: 117.7622 - mae: 117.7622 - mse: 73195.7734 - val_loss: 662.5323 - val_mae: 662.5323 - val_mse: 1358191.6250\n"
          ]
        },
        {
          "output_type": "execute_result",
          "data": {
            "text/plain": [
              "<keras.callbacks.History at 0x7f5ef68847f0>"
            ]
          },
          "metadata": {},
          "execution_count": 45
        }
      ]
    },
    {
      "cell_type": "code",
      "source": [
        "# Evaluate model on test data\n",
        "model_1.evaluate(test_windows,test_labels)"
      ],
      "metadata": {
        "id": "2b00KNwKfRe4",
        "colab": {
          "base_uri": "https://localhost:8080/"
        },
        "outputId": "e0ad066e-85d3-4c71-e23d-a919d3ee4cf4"
      },
      "execution_count": 46,
      "outputs": [
        {
          "output_type": "stream",
          "name": "stdout",
          "text": [
            "18/18 [==============================] - 0s 2ms/step - loss: 662.5322 - mae: 662.5322 - mse: 1358191.6250\n"
          ]
        },
        {
          "output_type": "execute_result",
          "data": {
            "text/plain": [
              "[662.5322265625, 662.5322265625, 1358191.625]"
            ]
          },
          "metadata": {},
          "execution_count": 46
        }
      ]
    },
    {
      "cell_type": "code",
      "source": [
        "# Load in the best performing model\n",
        "model_1 = tf.keras.models.load_model(\"model_experiments/model_1_dense/\")\n",
        "model_1.evaluate(test_windows,test_labels)"
      ],
      "metadata": {
        "id": "X2TdhAisgOTJ",
        "colab": {
          "base_uri": "https://localhost:8080/"
        },
        "outputId": "61617636-93d8-4bbd-9f33-e153eeb974cb"
      },
      "execution_count": 47,
      "outputs": [
        {
          "output_type": "stream",
          "name": "stdout",
          "text": [
            "18/18 [==============================] - 0s 2ms/step - loss: 568.5499 - mae: 568.5499 - mse: 1172587.7500\n"
          ]
        },
        {
          "output_type": "execute_result",
          "data": {
            "text/plain": [
              "[568.5498657226562, 568.5498657226562, 1172587.75]"
            ]
          },
          "metadata": {},
          "execution_count": 47
        }
      ]
    },
    {
      "cell_type": "markdown",
      "source": [
        "## Making forcast with a model (on the test set)\n",
        "\n",
        "It takes in a model  and does the following \n",
        "1. Takes some input data\n",
        "2. Passes the data to the models predict method\n",
        "3. Returns the predicted output"
      ],
      "metadata": {
        "id": "AkVBZz9ahC5f"
      }
    },
    {
      "cell_type": "code",
      "source": [
        "def make_preds(model,input_data):\n",
        "  \"\"\"\n",
        "  Uses model to make predictions on input data\n",
        "  \"\"\"\n",
        "  forcast = model.predict(input_data)\n",
        "  return(tf.squeeze(forcast))"
      ],
      "metadata": {
        "id": "6AtKoNnIiIGI"
      },
      "execution_count": 48,
      "outputs": []
    },
    {
      "cell_type": "code",
      "source": [
        "model_1_preds=make_preds(model_1,test_windows)\n",
        "len(model_1_preds),model_1_preds[:10]"
      ],
      "metadata": {
        "id": "6J9Q29o3clue",
        "colab": {
          "base_uri": "https://localhost:8080/"
        },
        "outputId": "7d0c3d2b-a599-4251-9743-4aedc22bae3e"
      },
      "execution_count": 49,
      "outputs": [
        {
          "output_type": "stream",
          "name": "stdout",
          "text": [
            "18/18 [==============================] - 0s 1ms/step\n"
          ]
        },
        {
          "output_type": "execute_result",
          "data": {
            "text/plain": [
              "(556, <tf.Tensor: shape=(10,), dtype=float32, numpy=\n",
              " array([8874.493, 8789.944, 9040.986, 8804.829, 8741.21 , 8749.837,\n",
              "        8705.865, 8513.171, 8478.415, 8536.302], dtype=float32)>)"
            ]
          },
          "metadata": {},
          "execution_count": 49
        }
      ]
    },
    {
      "cell_type": "code",
      "source": [
        "# Evaluate preds\n",
        "model_1_results = evaluate_preds(y_true = tf.squeeze(test_labels),\n",
        "                                 y_pred = model_1_preds)\n",
        "model_1_results"
      ],
      "metadata": {
        "id": "sK5tImCzdQoK",
        "colab": {
          "base_uri": "https://localhost:8080/"
        },
        "outputId": "b6417e52-704a-40d6-b52a-1b4466df524f"
      },
      "execution_count": 50,
      "outputs": [
        {
          "output_type": "execute_result",
          "data": {
            "text/plain": [
              "{'mae': 568.5498,\n",
              " 'mse': 1172587.4,\n",
              " 'rmse': 1082.8607,\n",
              " 'mape': 2.549229,\n",
              " 'mase': 0.99878454}"
            ]
          },
          "metadata": {},
          "execution_count": 50
        }
      ]
    },
    {
      "cell_type": "code",
      "source": [
        "naive_results"
      ],
      "metadata": {
        "id": "ZIDh5wVedyVE",
        "colab": {
          "base_uri": "https://localhost:8080/"
        },
        "outputId": "07461ae4-697d-4bfc-e7ca-fd48c3593109"
      },
      "execution_count": 51,
      "outputs": [
        {
          "output_type": "execute_result",
          "data": {
            "text/plain": [
              "{'mae': 567.9802,\n",
              " 'mse': 1147547.0,\n",
              " 'rmse': 1071.2362,\n",
              " 'mape': 2.5165248,\n",
              " 'mase': 0.99957}"
            ]
          },
          "metadata": {},
          "execution_count": 51
        }
      ]
    },
    {
      "cell_type": "code",
      "source": [
        "# Lets Plot our model 1 predictions\n",
        "offset = 300\n",
        "\n",
        "plt.figure(figsize=(10,7))\n",
        "\n",
        "# Account for the test_window offset and index into test_labels to ensure correct plotting \n",
        "plot_time_series(timesteps = x_test[-len(test_windows):],values = test_labels[:,0],start=offset , label=\"Test Data\")\n",
        "\n",
        "plot_time_series(timesteps = x_test[-len(test_windows):],values =model_1_preds,start=offset,format = \"-\",label = \"Model_1_preds\")"
      ],
      "metadata": {
        "colab": {
          "base_uri": "https://localhost:8080/",
          "height": 0
        },
        "id": "gO1oHD1dd7SB",
        "outputId": "a31eeee7-376a-4935-9ce1-5c80f2a30b02"
      },
      "execution_count": 52,
      "outputs": [
        {
          "output_type": "display_data",
          "data": {
            "text/plain": [
              "<Figure size 720x504 with 1 Axes>"
            ],
            "image/png": "[encoded data removed]"
          },
          "metadata": {
            "needs_background": "light"
          }
        }
      ]
    },
    {
      "cell_type": "code",
      "source": [
        "input_data = prices[:-30]\n",
        "targets = prices[30:]\n",
        "Windows=tf.keras.preprocessing.timeseries_dataset_from_array(data=input_data,targets=targets,sequence_length=30,batch_size=None)"
      ],
      "metadata": {
        "id": "4_AmN_WPenBT"
      },
      "execution_count": 53,
      "outputs": []
    },
    {
      "cell_type": "code",
      "source": [
        "prices[:32]"
      ],
      "metadata": {
        "colab": {
          "base_uri": "https://localhost:8080/"
        },
        "id": "o4qE1onTkNNg",
        "outputId": "19b2e924-b0c4-42fb-ba1a-8b5c1854ee83"
      },
      "execution_count": 54,
      "outputs": [
        {
          "output_type": "execute_result",
          "data": {
            "text/plain": [
              "array([123.65499, 125.455  , 108.58483, 118.67466, 121.33866, 120.65533,\n",
              "       121.795  , 123.033  , 124.049  , 125.96116, 125.27966, 125.9275 ,\n",
              "       126.38333, 135.24199, 133.20333, 142.76333, 137.92333, 142.95166,\n",
              "       152.55183, 160.33883, 164.31499, 177.63333, 188.29716, 200.70166,\n",
              "       180.355  , 175.03166, 177.6965 , 187.15983, 192.75666, 197.4    ,\n",
              "       196.02499, 198.04883])"
            ]
          },
          "metadata": {},
          "execution_count": 54
        }
      ]
    },
    {
      "cell_type": "code",
      "source": [
        "windows = []\n",
        "labels = []\n",
        "for i,x in Windows:\n",
        "    windows.append(i)\n",
        "    labels.append(x)"
      ],
      "metadata": {
        "id": "QYYUDB2qggBL"
      },
      "execution_count": 55,
      "outputs": []
    },
    {
      "cell_type": "code",
      "source": [
        "windows[:10],labels[:10],len(windows),len(labels)"
      ],
      "metadata": {
        "colab": {
          "base_uri": "https://localhost:8080/"
        },
        "id": "PZUoJ7Tlgl8D",
        "outputId": "119603f2-f415-4d94-8277-370dde11f043"
      },
      "execution_count": 56,
      "outputs": [
        {
          "output_type": "execute_result",
          "data": {
            "text/plain": [
              "([<tf.Tensor: shape=(30,), dtype=float64, numpy=\n",
              "  array([123.65499, 125.455  , 108.58483, 118.67466, 121.33866, 120.65533,\n",
              "         121.795  , 123.033  , 124.049  , 125.96116, 125.27966, 125.9275 ,\n",
              "         126.38333, 135.24199, 133.20333, 142.76333, 137.92333, 142.95166,\n",
              "         152.55183, 160.33883, 164.31499, 177.63333, 188.29716, 200.70166,\n",
              "         180.355  , 175.03166, 177.6965 , 187.15983, 192.75666, 197.4    ])>,\n",
              "  <tf.Tensor: shape=(30,), dtype=float64, numpy=\n",
              "  array([125.455  , 108.58483, 118.67466, 121.33866, 120.65533, 121.795  ,\n",
              "         123.033  , 124.049  , 125.96116, 125.27966, 125.9275 , 126.38333,\n",
              "         135.24199, 133.20333, 142.76333, 137.92333, 142.95166, 152.55183,\n",
              "         160.33883, 164.31499, 177.63333, 188.29716, 200.70166, 180.355  ,\n",
              "         175.03166, 177.6965 , 187.15983, 192.75666, 197.4    , 196.02499])>,\n",
              "  <tf.Tensor: shape=(30,), dtype=float64, numpy=\n",
              "  array([108.58483, 118.67466, 121.33866, 120.65533, 121.795  , 123.033  ,\n",
              "         124.049  , 125.96116, 125.27966, 125.9275 , 126.38333, 135.24199,\n",
              "         133.20333, 142.76333, 137.92333, 142.95166, 152.55183, 160.33883,\n",
              "         164.31499, 177.63333, 188.29716, 200.70166, 180.355  , 175.03166,\n",
              "         177.6965 , 187.15983, 192.75666, 197.4    , 196.02499, 198.04883])>,\n",
              "  <tf.Tensor: shape=(30,), dtype=float64, numpy=\n",
              "  array([118.67466, 121.33866, 120.65533, 121.795  , 123.033  , 124.049  ,\n",
              "         125.96116, 125.27966, 125.9275 , 126.38333, 135.24199, 133.20333,\n",
              "         142.76333, 137.92333, 142.95166, 152.55183, 160.33883, 164.31499,\n",
              "         177.63333, 188.29716, 200.70166, 180.355  , 175.03166, 177.6965 ,\n",
              "         187.15983, 192.75666, 197.4    , 196.02499, 198.04883, 198.93233])>,\n",
              "  <tf.Tensor: shape=(30,), dtype=float64, numpy=\n",
              "  array([121.33866, 120.65533, 121.795  , 123.033  , 124.049  , 125.96116,\n",
              "         125.27966, 125.9275 , 126.38333, 135.24199, 133.20333, 142.76333,\n",
              "         137.92333, 142.95166, 152.55183, 160.33883, 164.31499, 177.63333,\n",
              "         188.29716, 200.70166, 180.355  , 175.03166, 177.6965 , 187.15983,\n",
              "         192.75666, 197.4    , 196.02499, 198.04883, 198.93233, 200.543  ])>,\n",
              "  <tf.Tensor: shape=(30,), dtype=float64, numpy=\n",
              "  array([120.65533, 121.795  , 123.033  , 124.049  , 125.96116, 125.27966,\n",
              "         125.9275 , 126.38333, 135.24199, 133.20333, 142.76333, 137.92333,\n",
              "         142.95166, 152.55183, 160.33883, 164.31499, 177.63333, 188.29716,\n",
              "         200.70166, 180.355  , 175.03166, 177.6965 , 187.15983, 192.75666,\n",
              "         197.4    , 196.02499, 198.04883, 198.93233, 200.543  , 210.3075 ])>,\n",
              "  <tf.Tensor: shape=(30,), dtype=float64, numpy=\n",
              "  array([121.795  , 123.033  , 124.049  , 125.96116, 125.27966, 125.9275 ,\n",
              "         126.38333, 135.24199, 133.20333, 142.76333, 137.92333, 142.95166,\n",
              "         152.55183, 160.33883, 164.31499, 177.63333, 188.29716, 200.70166,\n",
              "         180.355  , 175.03166, 177.6965 , 187.15983, 192.75666, 197.4    ,\n",
              "         196.02499, 198.04883, 198.93233, 200.543  , 210.3075 , 225.02   ])>,\n",
              "  <tf.Tensor: shape=(30,), dtype=float64, numpy=\n",
              "  array([123.033  , 124.049  , 125.96116, 125.27966, 125.9275 , 126.38333,\n",
              "         135.24199, 133.20333, 142.76333, 137.92333, 142.95166, 152.55183,\n",
              "         160.33883, 164.31499, 177.63333, 188.29716, 200.70166, 180.355  ,\n",
              "         175.03166, 177.6965 , 187.15983, 192.75666, 197.4    , 196.02499,\n",
              "         198.04883, 198.93233, 200.543  , 210.3075 , 225.02   , 248.25333])>,\n",
              "  <tf.Tensor: shape=(30,), dtype=float64, numpy=\n",
              "  array([124.049  , 125.96116, 125.27966, 125.9275 , 126.38333, 135.24199,\n",
              "         133.20333, 142.76333, 137.92333, 142.95166, 152.55183, 160.33883,\n",
              "         164.31499, 177.63333, 188.29716, 200.70166, 180.355  , 175.03166,\n",
              "         177.6965 , 187.15983, 192.75666, 197.4    , 196.02499, 198.04883,\n",
              "         198.93233, 200.543  , 210.3075 , 225.02   , 248.25333, 262.32666])>,\n",
              "  <tf.Tensor: shape=(30,), dtype=float64, numpy=\n",
              "  array([125.96116, 125.27966, 125.9275 , 126.38333, 135.24199, 133.20333,\n",
              "         142.76333, 137.92333, 142.95166, 152.55183, 160.33883, 164.31499,\n",
              "         177.63333, 188.29716, 200.70166, 180.355  , 175.03166, 177.6965 ,\n",
              "         187.15983, 192.75666, 197.4    , 196.02499, 198.04883, 198.93233,\n",
              "         200.543  , 210.3075 , 225.02   , 248.25333, 262.32666, 294.48699])>],\n",
              " [<tf.Tensor: shape=(), dtype=float64, numpy=196.02499>,\n",
              "  <tf.Tensor: shape=(), dtype=float64, numpy=198.04883>,\n",
              "  <tf.Tensor: shape=(), dtype=float64, numpy=198.93233>,\n",
              "  <tf.Tensor: shape=(), dtype=float64, numpy=200.543>,\n",
              "  <tf.Tensor: shape=(), dtype=float64, numpy=210.3075>,\n",
              "  <tf.Tensor: shape=(), dtype=float64, numpy=225.02>,\n",
              "  <tf.Tensor: shape=(), dtype=float64, numpy=248.25333>,\n",
              "  <tf.Tensor: shape=(), dtype=float64, numpy=262.32666>,\n",
              "  <tf.Tensor: shape=(), dtype=float64, numpy=294.48699>,\n",
              "  <tf.Tensor: shape=(), dtype=float64, numpy=331.10325>],\n",
              " 2728,\n",
              " 2728)"
            ]
          },
          "metadata": {},
          "execution_count": 56
        }
      ]
    },
    {
      "cell_type": "code",
      "source": [
        "len(windows),len(labels)"
      ],
      "metadata": {
        "colab": {
          "base_uri": "https://localhost:8080/"
        },
        "id": "_gDOcWDR5pCE",
        "outputId": "e5b5e037-9672-471d-a8e8-9afc8de04171"
      },
      "execution_count": 57,
      "outputs": [
        {
          "output_type": "execute_result",
          "data": {
            "text/plain": [
              "(2728, 2728)"
            ]
          },
          "metadata": {},
          "execution_count": 57
        }
      ]
    },
    {
      "cell_type": "code",
      "source": [
        "2728*0.8"
      ],
      "metadata": {
        "colab": {
          "base_uri": "https://localhost:8080/"
        },
        "id": "BI4p4qSI5xMJ",
        "outputId": "18c5338d-3229-40f4-a59f-b7b49e5a5f2b"
      },
      "execution_count": 58,
      "outputs": [
        {
          "output_type": "execute_result",
          "data": {
            "text/plain": [
              "2182.4"
            ]
          },
          "metadata": {},
          "execution_count": 58
        }
      ]
    },
    {
      "cell_type": "code",
      "source": [
        "train_windows = np.array(windows[:2183])\n",
        "train_labels = np.array(labels[:2183])\n",
        "test_windows = np.array(windows[2183:])\n",
        "test_labels = np.array(labels[2183:])"
      ],
      "metadata": {
        "id": "fDalH9kEjWgj"
      },
      "execution_count": 59,
      "outputs": []
    },
    {
      "cell_type": "code",
      "source": [
        "train_windows[:3],test_windows[:3]"
      ],
      "metadata": {
        "colab": {
          "base_uri": "https://localhost:8080/"
        },
        "id": "a0RbD9sNVlAk",
        "outputId": "610715eb-b65c-4924-ef10-25550a47ef08"
      },
      "execution_count": 60,
      "outputs": [
        {
          "output_type": "execute_result",
          "data": {
            "text/plain": [
              "(array([[123.65499, 125.455  , 108.58483, 118.67466, 121.33866, 120.65533,\n",
              "         121.795  , 123.033  , 124.049  , 125.96116, 125.27966, 125.9275 ,\n",
              "         126.38333, 135.24199, 133.20333, 142.76333, 137.92333, 142.95166,\n",
              "         152.55183, 160.33883, 164.31499, 177.63333, 188.29716, 200.70166,\n",
              "         180.355  , 175.03166, 177.6965 , 187.15983, 192.75666, 197.4    ],\n",
              "        [125.455  , 108.58483, 118.67466, 121.33866, 120.65533, 121.795  ,\n",
              "         123.033  , 124.049  , 125.96116, 125.27966, 125.9275 , 126.38333,\n",
              "         135.24199, 133.20333, 142.76333, 137.92333, 142.95166, 152.55183,\n",
              "         160.33883, 164.31499, 177.63333, 188.29716, 200.70166, 180.355  ,\n",
              "         175.03166, 177.6965 , 187.15983, 192.75666, 197.4    , 196.02499],\n",
              "        [108.58483, 118.67466, 121.33866, 120.65533, 121.795  , 123.033  ,\n",
              "         124.049  , 125.96116, 125.27966, 125.9275 , 126.38333, 135.24199,\n",
              "         133.20333, 142.76333, 137.92333, 142.95166, 152.55183, 160.33883,\n",
              "         164.31499, 177.63333, 188.29716, 200.70166, 180.355  , 175.03166,\n",
              "         177.6965 , 187.15983, 192.75666, 197.4    , 196.02499, 198.04883]]),\n",
              " array([[10031.86670899,  9719.71869611,  8688.97352596,  8438.70855249,\n",
              "          8103.21089959,  8195.210697  ,  8146.414032  ,  8085.71329042,\n",
              "          8241.34147   ,  8333.68919042,  8273.46401766,  8203.8438328 ,\n",
              "          8163.9026381 ,  8137.14668904,  7853.69330483,  8236.2083793 ,\n",
              "          8201.63781819,  8572.38081243,  8582.1445177 ,  8320.1715814 ,\n",
              "          8328.60426039,  8282.17732583,  8337.81899854,  8162.44      ,\n",
              "          8003.82039479,  8058.05808111,  7970.2394756 ,  7943.34710706,\n",
              "          8200.3187634 ,  8200.24609949],\n",
              "        [ 9719.71869611,  8688.97352596,  8438.70855249,  8103.21089959,\n",
              "          8195.210697  ,  8146.414032  ,  8085.71329042,  8241.34147   ,\n",
              "          8333.68919042,  8273.46401766,  8203.8438328 ,  8163.9026381 ,\n",
              "          8137.14668904,  7853.69330483,  8236.2083793 ,  8201.63781819,\n",
              "          8572.38081243,  8582.1445177 ,  8320.1715814 ,  8328.60426039,\n",
              "          8282.17732583,  8337.81899854,  8162.44      ,  8003.82039479,\n",
              "          8058.05808111,  7970.2394756 ,  7943.34710706,  8200.3187634 ,\n",
              "          8200.24609949,  8073.40954388],\n",
              "        [ 8688.97352596,  8438.70855249,  8103.21089959,  8195.210697  ,\n",
              "          8146.414032  ,  8085.71329042,  8241.34147   ,  8333.68919042,\n",
              "          8273.46401766,  8203.8438328 ,  8163.9026381 ,  8137.14668904,\n",
              "          7853.69330483,  8236.2083793 ,  8201.63781819,  8572.38081243,\n",
              "          8582.1445177 ,  8320.1715814 ,  8328.60426039,  8282.17732583,\n",
              "          8337.81899854,  8162.44      ,  8003.82039479,  8058.05808111,\n",
              "          7970.2394756 ,  7943.34710706,  8200.3187634 ,  8200.24609949,\n",
              "          8073.40954388,  7420.41583649]]))"
            ]
          },
          "metadata": {},
          "execution_count": 60
        }
      ]
    },
    {
      "cell_type": "code",
      "source": [
        "len(train_windows),len(train_labels),len(test_windows),len(test_labels)"
      ],
      "metadata": {
        "colab": {
          "base_uri": "https://localhost:8080/"
        },
        "id": "CCckv1ksrXfF",
        "outputId": "ca0e187f-1ec9-4b8b-e292-c02688c732f7"
      },
      "execution_count": 61,
      "outputs": [
        {
          "output_type": "execute_result",
          "data": {
            "text/plain": [
              "(2183, 2183, 545, 545)"
            ]
          },
          "metadata": {},
          "execution_count": 61
        }
      ]
    },
    {
      "cell_type": "markdown",
      "source": [
        "## Creating Dense Model_2"
      ],
      "metadata": {
        "id": "o29JeO13sG2p"
      }
    },
    {
      "cell_type": "code",
      "source": [
        "import tensorflow as tf \n",
        "from tensorflow.keras import layers\n",
        "\n",
        "# Set random seed for as reproducible results as possible\n",
        "tf.random.set_seed(42)\n",
        "# 1. Construct Model\n",
        "model_2 = tf.keras.Sequential([\n",
        "    layers.Dense(128,activation=\"relu\"),\n",
        "    layers.Dense(HORIZON, activation=\"linear\") # Linear activation is just like having no activation at all\n",
        "],name=\"model_2_dense\")# name our model so we can save it\n",
        "# 2. Compile\n",
        "model_2.compile(loss=\"mae\",\n",
        "                optimizer = tf.keras.optimizers.Adam(),\n",
        "                metrics = [\"mae\",\"mse\"])\n",
        "# 3. Fit the model\n",
        "model_2.fit(x = train_windows,\n",
        "            y = train_labels,\n",
        "            epochs=100,\n",
        "            verbose=1,\n",
        "            batch_size=128,\n",
        "            validation_data=(test_windows,test_labels),\n",
        "            callbacks=[create_model_checkpoint(model_name=model_2.name)])"
      ],
      "metadata": {
        "colab": {
          "base_uri": "https://localhost:8080/"
        },
        "id": "MJJ_AhDZsa94",
        "outputId": "766daa7c-52d6-413a-bf74-6b71fd7936ad"
      },
      "execution_count": 62,
      "outputs": [
        {
          "output_type": "stream",
          "name": "stdout",
          "text": [
            "Epoch 1/100\n",
            "18/18 [==============================] - 1s 41ms/step - loss: 1045.5665 - mae: 1045.5665 - mse: 4253936.5000 - val_loss: 3443.0518 - val_mae: 3443.0518 - val_mse: 27196514.0000\n",
            "Epoch 2/100\n",
            "18/18 [==============================] - 1s 33ms/step - loss: 425.5169 - mae: 425.5169 - mse: 786511.1250 - val_loss: 1321.5334 - val_mae: 1321.5334 - val_mse: 4168102.7500\n",
            "Epoch 3/100\n",
            "18/18 [==============================] - 0s 3ms/step - loss: 269.2411 - mae: 269.2411 - mse: 347973.9688 - val_loss: 1360.1296 - val_mae: 1360.1296 - val_mse: 5219857.5000\n",
            "Epoch 4/100\n",
            "18/18 [==============================] - 1s 46ms/step - loss: 216.7005 - mae: 216.7005 - mse: 216995.9219 - val_loss: 947.7690 - val_mae: 947.7690 - val_mse: 2766741.0000\n",
            "Epoch 5/100\n",
            "18/18 [==============================] - 1s 33ms/step - loss: 193.1874 - mae: 193.1874 - mse: 184204.4844 - val_loss: 867.8309 - val_mae: 867.8309 - val_mse: 2519756.7500\n",
            "Epoch 6/100\n",
            "18/18 [==============================] - 0s 3ms/step - loss: 178.1545 - mae: 178.1545 - mse: 157867.0156 - val_loss: 906.4175 - val_mae: 906.4175 - val_mse: 2578147.5000\n",
            "Epoch 7/100\n",
            "18/18 [==============================] - 0s 4ms/step - loss: 175.1706 - mae: 175.1706 - mse: 151637.8594 - val_loss: 1318.2803 - val_mae: 1318.2803 - val_mse: 4302936.5000\n",
            "Epoch 8/100\n",
            "18/18 [==============================] - 0s 4ms/step - loss: 208.3828 - mae: 208.3828 - mse: 182551.5781 - val_loss: 1218.6814 - val_mae: 1218.6814 - val_mse: 3804969.5000\n",
            "Epoch 9/100\n",
            "18/18 [==============================] - 1s 32ms/step - loss: 208.4503 - mae: 208.4503 - mse: 185446.0312 - val_loss: 781.2005 - val_mae: 781.2005 - val_mse: 1907049.1250\n",
            "Epoch 10/100\n",
            "18/18 [==============================] - 1s 32ms/step - loss: 160.1557 - mae: 160.1557 - mse: 133292.0000 - val_loss: 762.6355 - val_mae: 762.6355 - val_mse: 1927652.3750\n",
            "Epoch 11/100\n",
            "18/18 [==============================] - 0s 3ms/step - loss: 159.0431 - mae: 159.0431 - mse: 130259.1719 - val_loss: 1021.9953 - val_mae: 1021.9953 - val_mse: 2966958.7500\n",
            "Epoch 12/100\n",
            "18/18 [==============================] - 0s 3ms/step - loss: 194.3868 - mae: 194.3868 - mse: 176003.1719 - val_loss: 920.5775 - val_mae: 920.5775 - val_mse: 2467306.7500\n",
            "Epoch 13/100\n",
            "18/18 [==============================] - 1s 34ms/step - loss: 159.7240 - mae: 159.7240 - mse: 128195.7109 - val_loss: 743.1368 - val_mae: 743.1368 - val_mse: 1854823.8750\n",
            "Epoch 14/100\n",
            "18/18 [==============================] - 0s 4ms/step - loss: 151.7641 - mae: 151.7641 - mse: 120174.2812 - val_loss: 1075.9056 - val_mae: 1075.9056 - val_mse: 3108599.0000\n",
            "Epoch 15/100\n",
            "18/18 [==============================] - 1s 33ms/step - loss: 183.1722 - mae: 183.1722 - mse: 158234.8594 - val_loss: 711.4109 - val_mae: 711.4109 - val_mse: 1679110.0000\n",
            "Epoch 16/100\n",
            "18/18 [==============================] - 0s 3ms/step - loss: 164.1801 - mae: 164.1801 - mse: 128159.6484 - val_loss: 969.8658 - val_mae: 969.8658 - val_mse: 2562782.2500\n",
            "Epoch 17/100\n",
            "18/18 [==============================] - 0s 3ms/step - loss: 169.2016 - mae: 169.2016 - mse: 131208.4531 - val_loss: 1060.9432 - val_mae: 1060.9432 - val_mse: 2912442.0000\n",
            "Epoch 18/100\n",
            "18/18 [==============================] - 1s 32ms/step - loss: 189.8111 - mae: 189.8111 - mse: 148871.7500 - val_loss: 681.6741 - val_mae: 681.6741 - val_mse: 1552818.1250\n",
            "Epoch 19/100\n",
            "18/18 [==============================] - 1s 32ms/step - loss: 151.4595 - mae: 151.4595 - mse: 117988.2891 - val_loss: 675.5078 - val_mae: 675.5078 - val_mse: 1501399.1250\n",
            "Epoch 20/100\n",
            "18/18 [==============================] - 0s 4ms/step - loss: 149.8078 - mae: 149.8078 - mse: 111613.4688 - val_loss: 804.5906 - val_mae: 804.5906 - val_mse: 2045019.6250\n",
            "Epoch 21/100\n",
            "18/18 [==============================] - 0s 4ms/step - loss: 155.6358 - mae: 155.6358 - mse: 122857.8203 - val_loss: 740.8495 - val_mae: 740.8495 - val_mse: 1772088.6250\n",
            "Epoch 22/100\n",
            "18/18 [==============================] - 0s 3ms/step - loss: 146.7490 - mae: 146.7490 - mse: 106558.1484 - val_loss: 984.2936 - val_mae: 984.2936 - val_mse: 2637452.0000\n",
            "Epoch 23/100\n",
            "18/18 [==============================] - 1s 33ms/step - loss: 166.2271 - mae: 166.2271 - mse: 128272.5469 - val_loss: 670.0715 - val_mae: 670.0715 - val_mse: 1507798.6250\n",
            "Epoch 24/100\n",
            "18/18 [==============================] - 0s 3ms/step - loss: 140.6964 - mae: 140.6964 - mse: 105370.7422 - val_loss: 926.9891 - val_mae: 926.9891 - val_mse: 2358986.7500\n",
            "Epoch 25/100\n",
            "18/18 [==============================] - 0s 3ms/step - loss: 198.9861 - mae: 198.9861 - mse: 164017.8906 - val_loss: 671.4818 - val_mae: 671.4818 - val_mse: 1491933.2500\n",
            "Epoch 26/100\n",
            "18/18 [==============================] - 1s 32ms/step - loss: 147.1395 - mae: 147.1395 - mse: 105399.1328 - val_loss: 651.1002 - val_mae: 651.1002 - val_mse: 1429697.0000\n",
            "Epoch 27/100\n",
            "18/18 [==============================] - 0s 4ms/step - loss: 152.1096 - mae: 152.1096 - mse: 115932.2344 - val_loss: 865.5027 - val_mae: 865.5027 - val_mse: 2213850.2500\n",
            "Epoch 28/100\n",
            "18/18 [==============================] - 0s 3ms/step - loss: 158.2278 - mae: 158.2278 - mse: 121587.7969 - val_loss: 2208.2695 - val_mae: 2208.2695 - val_mse: 9890436.0000\n",
            "Epoch 29/100\n",
            "18/18 [==============================] - 0s 4ms/step - loss: 355.8941 - mae: 355.8941 - mse: 415173.2188 - val_loss: 956.2471 - val_mae: 956.2471 - val_mse: 2462549.5000\n",
            "Epoch 30/100\n",
            "18/18 [==============================] - 0s 3ms/step - loss: 179.5584 - mae: 179.5584 - mse: 140480.0938 - val_loss: 659.9575 - val_mae: 659.9575 - val_mse: 1459178.5000\n",
            "Epoch 31/100\n",
            "18/18 [==============================] - 1s 32ms/step - loss: 139.9930 - mae: 139.9930 - mse: 99422.1250 - val_loss: 633.4220 - val_mae: 633.4220 - val_mse: 1359253.6250\n",
            "Epoch 32/100\n",
            "18/18 [==============================] - 0s 3ms/step - loss: 134.6669 - mae: 134.6669 - mse: 97909.1719 - val_loss: 1375.8757 - val_mae: 1375.8757 - val_mse: 4237313.5000\n",
            "Epoch 33/100\n",
            "18/18 [==============================] - 0s 3ms/step - loss: 226.2161 - mae: 226.2161 - mse: 200017.8125 - val_loss: 1303.0760 - val_mae: 1303.0760 - val_mse: 3895928.0000\n",
            "Epoch 34/100\n",
            "18/18 [==============================] - 0s 4ms/step - loss: 147.7411 - mae: 147.7411 - mse: 106174.2344 - val_loss: 860.1422 - val_mae: 860.1422 - val_mse: 2081263.1250\n",
            "Epoch 35/100\n",
            "18/18 [==============================] - 0s 3ms/step - loss: 143.9147 - mae: 143.9147 - mse: 104265.3516 - val_loss: 955.9617 - val_mae: 955.9617 - val_mse: 2420833.7500\n",
            "Epoch 36/100\n",
            "18/18 [==============================] - 0s 3ms/step - loss: 163.1998 - mae: 163.1998 - mse: 124351.7188 - val_loss: 721.8651 - val_mae: 721.8651 - val_mse: 1644896.0000\n",
            "Epoch 37/100\n",
            "18/18 [==============================] - 0s 4ms/step - loss: 138.8666 - mae: 138.8666 - mse: 96786.7656 - val_loss: 746.5769 - val_mae: 746.5769 - val_mse: 1714801.5000\n",
            "Epoch 38/100\n",
            "18/18 [==============================] - 1s 32ms/step - loss: 134.6447 - mae: 134.6447 - mse: 95639.6406 - val_loss: 612.7292 - val_mae: 612.7292 - val_mse: 1300876.2500\n",
            "Epoch 39/100\n",
            "18/18 [==============================] - 0s 3ms/step - loss: 133.7128 - mae: 133.7128 - mse: 93469.4922 - val_loss: 630.9380 - val_mae: 630.9380 - val_mse: 1337791.5000\n",
            "Epoch 40/100\n",
            "18/18 [==============================] - 0s 4ms/step - loss: 138.4906 - mae: 138.4906 - mse: 95957.6797 - val_loss: 673.9908 - val_mae: 673.9908 - val_mse: 1469323.8750\n",
            "Epoch 41/100\n",
            "18/18 [==============================] - 0s 3ms/step - loss: 147.4014 - mae: 147.4014 - mse: 108494.3047 - val_loss: 733.4818 - val_mae: 733.4818 - val_mse: 1700851.2500\n",
            "Epoch 42/100\n",
            "18/18 [==============================] - 0s 4ms/step - loss: 150.6323 - mae: 150.6323 - mse: 103711.2969 - val_loss: 671.1563 - val_mae: 671.1563 - val_mse: 1478685.8750\n",
            "Epoch 43/100\n",
            "18/18 [==============================] - 0s 3ms/step - loss: 132.1201 - mae: 132.1201 - mse: 92537.8438 - val_loss: 722.4952 - val_mae: 722.4952 - val_mse: 1621831.3750\n",
            "Epoch 44/100\n",
            "18/18 [==============================] - 0s 4ms/step - loss: 136.8993 - mae: 136.8993 - mse: 95371.7344 - val_loss: 732.9238 - val_mae: 732.9238 - val_mse: 1648402.5000\n",
            "Epoch 45/100\n",
            "18/18 [==============================] - 0s 4ms/step - loss: 147.2444 - mae: 147.2444 - mse: 105897.2578 - val_loss: 630.7694 - val_mae: 630.7694 - val_mse: 1354838.2500\n",
            "Epoch 46/100\n",
            "18/18 [==============================] - 0s 3ms/step - loss: 129.5025 - mae: 129.5025 - mse: 88418.0391 - val_loss: 646.3463 - val_mae: 646.3463 - val_mse: 1398592.7500\n",
            "Epoch 47/100\n",
            "18/18 [==============================] - 0s 4ms/step - loss: 130.3834 - mae: 130.3834 - mse: 89237.7500 - val_loss: 1179.7296 - val_mae: 1179.7296 - val_mse: 3240796.0000\n",
            "Epoch 48/100\n",
            "18/18 [==============================] - 0s 4ms/step - loss: 153.9740 - mae: 153.9740 - mse: 112122.1797 - val_loss: 895.5131 - val_mae: 895.5131 - val_mse: 2148669.2500\n",
            "Epoch 49/100\n",
            "18/18 [==============================] - 0s 4ms/step - loss: 145.6167 - mae: 145.6167 - mse: 106198.7734 - val_loss: 637.5720 - val_mae: 637.5720 - val_mse: 1370247.3750\n",
            "Epoch 50/100\n",
            "18/18 [==============================] - 0s 3ms/step - loss: 143.4772 - mae: 143.4772 - mse: 101891.4453 - val_loss: 941.1791 - val_mae: 941.1791 - val_mse: 2296310.7500\n",
            "Epoch 51/100\n",
            "18/18 [==============================] - 0s 3ms/step - loss: 140.4431 - mae: 140.4431 - mse: 98579.6953 - val_loss: 1064.3165 - val_mae: 1064.3165 - val_mse: 2758219.2500\n",
            "Epoch 52/100\n",
            "18/18 [==============================] - 0s 4ms/step - loss: 140.0209 - mae: 140.0209 - mse: 94352.0312 - val_loss: 784.0128 - val_mae: 784.0128 - val_mse: 1769896.5000\n",
            "Epoch 53/100\n",
            "18/18 [==============================] - 1s 32ms/step - loss: 131.9299 - mae: 131.9299 - mse: 89785.0078 - val_loss: 592.8156 - val_mae: 592.8156 - val_mse: 1213173.3750\n",
            "Epoch 54/100\n",
            "18/18 [==============================] - 0s 5ms/step - loss: 127.7638 - mae: 127.7638 - mse: 87659.5078 - val_loss: 809.7641 - val_mae: 809.7641 - val_mse: 1836959.3750\n",
            "Epoch 55/100\n",
            "18/18 [==============================] - 0s 3ms/step - loss: 132.8757 - mae: 132.8757 - mse: 88901.9844 - val_loss: 613.7372 - val_mae: 613.7372 - val_mse: 1297889.3750\n",
            "Epoch 56/100\n",
            "18/18 [==============================] - 0s 4ms/step - loss: 139.2176 - mae: 139.2176 - mse: 93148.7188 - val_loss: 771.4695 - val_mae: 771.4695 - val_mse: 1714774.3750\n",
            "Epoch 57/100\n",
            "18/18 [==============================] - 0s 4ms/step - loss: 126.9066 - mae: 126.9066 - mse: 87422.2656 - val_loss: 733.0450 - val_mae: 733.0450 - val_mse: 1564786.6250\n",
            "Epoch 58/100\n",
            "18/18 [==============================] - 0s 3ms/step - loss: 164.8134 - mae: 164.8134 - mse: 120624.9844 - val_loss: 618.1749 - val_mae: 618.1749 - val_mse: 1296941.5000\n",
            "Epoch 59/100\n",
            "18/18 [==============================] - 0s 4ms/step - loss: 134.9811 - mae: 134.9811 - mse: 94892.7500 - val_loss: 752.2646 - val_mae: 752.2646 - val_mse: 1659185.5000\n",
            "Epoch 60/100\n",
            "18/18 [==============================] - 0s 3ms/step - loss: 130.6209 - mae: 130.6209 - mse: 89385.7344 - val_loss: 826.3768 - val_mae: 826.3768 - val_mse: 1875185.2500\n",
            "Epoch 61/100\n",
            "18/18 [==============================] - 0s 4ms/step - loss: 128.6308 - mae: 128.6308 - mse: 88059.6562 - val_loss: 621.2883 - val_mae: 621.2883 - val_mse: 1240367.6250\n",
            "Epoch 62/100\n",
            "18/18 [==============================] - 0s 4ms/step - loss: 129.8558 - mae: 129.8558 - mse: 90315.2969 - val_loss: 682.1346 - val_mae: 682.1346 - val_mse: 1455371.2500\n",
            "Epoch 63/100\n",
            "18/18 [==============================] - 1s 31ms/step - loss: 132.0577 - mae: 132.0577 - mse: 90548.0000 - val_loss: 562.0427 - val_mae: 562.0427 - val_mse: 1132698.0000\n",
            "Epoch 64/100\n",
            "18/18 [==============================] - 0s 3ms/step - loss: 122.3411 - mae: 122.3411 - mse: 82455.6094 - val_loss: 604.0638 - val_mae: 604.0638 - val_mse: 1210890.5000\n",
            "Epoch 65/100\n",
            "18/18 [==============================] - 0s 3ms/step - loss: 136.1388 - mae: 136.1388 - mse: 94289.3672 - val_loss: 605.7667 - val_mae: 605.7667 - val_mse: 1254885.8750\n",
            "Epoch 66/100\n",
            "18/18 [==============================] - 0s 4ms/step - loss: 126.4378 - mae: 126.4378 - mse: 84509.5625 - val_loss: 602.7113 - val_mae: 602.7113 - val_mse: 1198168.1250\n",
            "Epoch 67/100\n",
            "18/18 [==============================] - 0s 3ms/step - loss: 141.6810 - mae: 141.6810 - mse: 94265.4844 - val_loss: 852.2524 - val_mae: 852.2524 - val_mse: 1939200.7500\n",
            "Epoch 68/100\n",
            "18/18 [==============================] - 0s 3ms/step - loss: 146.6837 - mae: 146.6837 - mse: 99427.7578 - val_loss: 656.6873 - val_mae: 656.6873 - val_mse: 1327616.0000\n",
            "Epoch 69/100\n",
            "18/18 [==============================] - 1s 32ms/step - loss: 122.3467 - mae: 122.3467 - mse: 82394.2500 - val_loss: 552.8604 - val_mae: 552.8604 - val_mse: 1101705.0000\n",
            "Epoch 70/100\n",
            "18/18 [==============================] - 0s 5ms/step - loss: 133.7697 - mae: 133.7697 - mse: 91331.9219 - val_loss: 717.3163 - val_mae: 717.3163 - val_mse: 1529015.0000\n",
            "Epoch 71/100\n",
            "18/18 [==============================] - 0s 3ms/step - loss: 142.1175 - mae: 142.1175 - mse: 94551.4531 - val_loss: 951.9815 - val_mae: 951.9815 - val_mse: 2268213.5000\n",
            "Epoch 72/100\n",
            "18/18 [==============================] - 0s 4ms/step - loss: 128.6136 - mae: 128.6136 - mse: 84603.1484 - val_loss: 657.9307 - val_mae: 657.9307 - val_mse: 1372562.3750\n",
            "Epoch 73/100\n",
            "18/18 [==============================] - 0s 5ms/step - loss: 121.4732 - mae: 121.4732 - mse: 80897.8906 - val_loss: 766.7334 - val_mae: 766.7334 - val_mse: 1640186.8750\n",
            "Epoch 74/100\n",
            "18/18 [==============================] - 0s 3ms/step - loss: 149.6014 - mae: 149.6014 - mse: 96652.2266 - val_loss: 1199.1500 - val_mae: 1199.1500 - val_mse: 3240715.5000\n",
            "Epoch 75/100\n",
            "18/18 [==============================] - 0s 4ms/step - loss: 149.3385 - mae: 149.3385 - mse: 103391.6250 - val_loss: 738.2897 - val_mae: 738.2897 - val_mse: 1580125.2500\n",
            "Epoch 76/100\n",
            "18/18 [==============================] - 0s 4ms/step - loss: 135.5046 - mae: 135.5046 - mse: 93791.0781 - val_loss: 603.8258 - val_mae: 603.8258 - val_mse: 1235794.5000\n",
            "Epoch 77/100\n",
            "18/18 [==============================] - 0s 4ms/step - loss: 132.2400 - mae: 132.2400 - mse: 87120.2656 - val_loss: 559.6312 - val_mae: 559.6312 - val_mse: 1088396.8750\n",
            "Epoch 78/100\n",
            "18/18 [==============================] - 0s 4ms/step - loss: 125.2050 - mae: 125.2050 - mse: 83165.4766 - val_loss: 808.0593 - val_mae: 808.0593 - val_mse: 1791594.8750\n",
            "Epoch 79/100\n",
            "18/18 [==============================] - 0s 4ms/step - loss: 176.3931 - mae: 176.3931 - mse: 132014.4844 - val_loss: 963.6794 - val_mae: 963.6794 - val_mse: 2276152.0000\n",
            "Epoch 80/100\n",
            "18/18 [==============================] - 0s 5ms/step - loss: 147.5348 - mae: 147.5348 - mse: 103874.3672 - val_loss: 782.5952 - val_mae: 782.5952 - val_mse: 1659469.7500\n",
            "Epoch 81/100\n",
            "18/18 [==============================] - 0s 3ms/step - loss: 139.9399 - mae: 139.9399 - mse: 96251.5469 - val_loss: 642.0797 - val_mae: 642.0797 - val_mse: 1287227.1250\n",
            "Epoch 82/100\n",
            "18/18 [==============================] - 1s 33ms/step - loss: 129.2732 - mae: 129.2732 - mse: 88079.3281 - val_loss: 550.6294 - val_mae: 550.6294 - val_mse: 1097902.1250\n",
            "Epoch 83/100\n",
            "18/18 [==============================] - 1s 50ms/step - loss: 125.6636 - mae: 125.6636 - mse: 83033.2031 - val_loss: 539.2740 - val_mae: 539.2740 - val_mse: 1056377.7500\n",
            "Epoch 84/100\n",
            "18/18 [==============================] - 0s 3ms/step - loss: 121.4929 - mae: 121.4929 - mse: 80388.8516 - val_loss: 581.4319 - val_mae: 581.4319 - val_mse: 1145158.7500\n",
            "Epoch 85/100\n",
            "18/18 [==============================] - 0s 4ms/step - loss: 121.2759 - mae: 121.2759 - mse: 79237.0547 - val_loss: 614.5202 - val_mae: 614.5202 - val_mse: 1257137.5000\n",
            "Epoch 86/100\n",
            "18/18 [==============================] - 0s 3ms/step - loss: 125.0178 - mae: 125.0178 - mse: 84996.0156 - val_loss: 568.0750 - val_mae: 568.0750 - val_mse: 1143399.6250\n",
            "Epoch 87/100\n",
            "18/18 [==============================] - 0s 4ms/step - loss: 120.0811 - mae: 120.0811 - mse: 80094.9219 - val_loss: 541.2670 - val_mae: 541.2670 - val_mse: 1046614.1875\n",
            "Epoch 88/100\n",
            "18/18 [==============================] - 1s 33ms/step - loss: 119.4630 - mae: 119.4630 - mse: 79077.6562 - val_loss: 536.4647 - val_mae: 536.4647 - val_mse: 1055128.3750\n",
            "Epoch 89/100\n",
            "18/18 [==============================] - 0s 5ms/step - loss: 115.5364 - mae: 115.5364 - mse: 76721.7266 - val_loss: 852.2593 - val_mae: 852.2593 - val_mse: 1895431.0000\n",
            "Epoch 90/100\n",
            "18/18 [==============================] - 0s 4ms/step - loss: 153.2888 - mae: 153.2888 - mse: 109491.8516 - val_loss: 913.2623 - val_mae: 913.2623 - val_mse: 2119620.0000\n",
            "Epoch 91/100\n",
            "18/18 [==============================] - 0s 3ms/step - loss: 163.4446 - mae: 163.4446 - mse: 110674.4453 - val_loss: 671.0446 - val_mae: 671.0446 - val_mse: 1386187.2500\n",
            "Epoch 92/100\n",
            "18/18 [==============================] - 0s 4ms/step - loss: 140.6485 - mae: 140.6485 - mse: 95117.1016 - val_loss: 811.2809 - val_mae: 811.2809 - val_mse: 1795223.1250\n",
            "Epoch 93/100\n",
            "18/18 [==============================] - 0s 4ms/step - loss: 127.7592 - mae: 127.7592 - mse: 80103.3047 - val_loss: 697.4909 - val_mae: 697.4909 - val_mse: 1457577.1250\n",
            "Epoch 94/100\n",
            "18/18 [==============================] - 0s 4ms/step - loss: 125.4715 - mae: 125.4715 - mse: 80680.3281 - val_loss: 619.5217 - val_mae: 619.5217 - val_mse: 1204694.8750\n",
            "Epoch 95/100\n",
            "18/18 [==============================] - 0s 4ms/step - loss: 121.0069 - mae: 121.0069 - mse: 79152.0078 - val_loss: 737.3635 - val_mae: 737.3635 - val_mse: 1506303.1250\n",
            "Epoch 96/100\n",
            "18/18 [==============================] - 0s 4ms/step - loss: 128.1955 - mae: 128.1955 - mse: 86632.8516 - val_loss: 548.6780 - val_mae: 548.6780 - val_mse: 1087538.2500\n",
            "Epoch 97/100\n",
            "18/18 [==============================] - 0s 3ms/step - loss: 138.6657 - mae: 138.6657 - mse: 99400.5234 - val_loss: 579.9464 - val_mae: 579.9464 - val_mse: 1162978.7500\n",
            "Epoch 98/100\n",
            "18/18 [==============================] - 0s 4ms/step - loss: 115.7363 - mae: 115.7363 - mse: 76692.3594 - val_loss: 650.6260 - val_mae: 650.6260 - val_mse: 1270465.1250\n",
            "Epoch 99/100\n",
            "18/18 [==============================] - 1s 33ms/step - loss: 129.1029 - mae: 129.1029 - mse: 83269.1641 - val_loss: 526.6561 - val_mae: 526.6561 - val_mse: 1015483.7500\n",
            "Epoch 100/100\n",
            "18/18 [==============================] - 0s 4ms/step - loss: 142.7788 - mae: 142.7788 - mse: 90334.0000 - val_loss: 642.9633 - val_mae: 642.9633 - val_mse: 1267098.1250\n"
          ]
        },
        {
          "output_type": "execute_result",
          "data": {
            "text/plain": [
              "<keras.callbacks.History at 0x7f5ef29bc610>"
            ]
          },
          "metadata": {},
          "execution_count": 62
        }
      ]
    },
    {
      "cell_type": "code",
      "source": [
        "# Evaluate model_2 on test data\n",
        "model_2.evaluate(test_windows,test_labels)"
      ],
      "metadata": {
        "id": "WF6dd_rI6YLR",
        "colab": {
          "base_uri": "https://localhost:8080/"
        },
        "outputId": "0a44aeb6-3550-4559-b674-fc6cf9c17be6"
      },
      "execution_count": 63,
      "outputs": [
        {
          "output_type": "stream",
          "name": "stdout",
          "text": [
            "18/18 [==============================] - 0s 2ms/step - loss: 642.9633 - mae: 642.9633 - mse: 1267098.1250\n"
          ]
        },
        {
          "output_type": "execute_result",
          "data": {
            "text/plain": [
              "[642.9632568359375, 642.9632568359375, 1267098.125]"
            ]
          },
          "metadata": {},
          "execution_count": 63
        }
      ]
    },
    {
      "cell_type": "code",
      "source": [
        "model_2 = tf.keras.models.load_model(\"model_experiments/model_2_dense/\")\n",
        "model_2.evaluate(test_windows,test_labels)"
      ],
      "metadata": {
        "colab": {
          "base_uri": "https://localhost:8080/"
        },
        "id": "_nCbbGUwMx2K",
        "outputId": "6ef2fe5d-08bb-42ca-bd55-c730ee8d28d1"
      },
      "execution_count": 64,
      "outputs": [
        {
          "output_type": "stream",
          "name": "stdout",
          "text": [
            "18/18 [==============================] - 0s 2ms/step - loss: 526.6561 - mae: 526.6561 - mse: 1015484.0000\n"
          ]
        },
        {
          "output_type": "execute_result",
          "data": {
            "text/plain": [
              "[526.6561279296875, 526.6561279296875, 1015484.0]"
            ]
          },
          "metadata": {},
          "execution_count": 64
        }
      ]
    },
    {
      "cell_type": "code",
      "source": [
        "# Get the forcast predictions\n",
        "model_2_preds = make_preds(model_2,input_data=test_windows)"
      ],
      "metadata": {
        "colab": {
          "base_uri": "https://localhost:8080/"
        },
        "id": "VlF8-QsCNd2i",
        "outputId": "669a8fda-e442-4c30-fabf-16ab346cdaca"
      },
      "execution_count": 65,
      "outputs": [
        {
          "output_type": "stream",
          "name": "stdout",
          "text": [
            "18/18 [==============================] - 0s 1ms/step\n"
          ]
        }
      ]
    },
    {
      "cell_type": "code",
      "source": [
        "test_labels.shape"
      ],
      "metadata": {
        "colab": {
          "base_uri": "https://localhost:8080/"
        },
        "id": "BVjGQ24QZRW6",
        "outputId": "18ff6b9f-c665-4416-99e9-36ad49d15da1"
      },
      "execution_count": 66,
      "outputs": [
        {
          "output_type": "execute_result",
          "data": {
            "text/plain": [
              "(545,)"
            ]
          },
          "metadata": {},
          "execution_count": 66
        }
      ]
    },
    {
      "cell_type": "code",
      "source": [
        "model_2_results = evaluate_preds(y_true = tf.squeeze(test_labels),y_pred = model_2_preds)\n",
        "model_2_results"
      ],
      "metadata": {
        "colab": {
          "base_uri": "https://localhost:8080/"
        },
        "id": "7QijfKj_Y_2B",
        "outputId": "6ac1aba1-cd3c-4a1e-dd30-d93225a81de6"
      },
      "execution_count": 67,
      "outputs": [
        {
          "output_type": "execute_result",
          "data": {
            "text/plain": [
              "{'mae': 526.6561,\n",
              " 'mse': 1015484.4,\n",
              " 'rmse': 1007.71246,\n",
              " 'mape': 2.7366002,\n",
              " 'mase': 1.0686693}"
            ]
          },
          "metadata": {},
          "execution_count": 67
        }
      ]
    },
    {
      "cell_type": "code",
      "source": [
        "naive_results"
      ],
      "metadata": {
        "colab": {
          "base_uri": "https://localhost:8080/"
        },
        "id": "Xyx_1aTmZl5g",
        "outputId": "3df00e1a-1e14-47fe-b3ca-a3156b7d2e10"
      },
      "execution_count": 68,
      "outputs": [
        {
          "output_type": "execute_result",
          "data": {
            "text/plain": [
              "{'mae': 567.9802,\n",
              " 'mse': 1147547.0,\n",
              " 'rmse': 1071.2362,\n",
              " 'mape': 2.5165248,\n",
              " 'mase': 0.99957}"
            ]
          },
          "metadata": {},
          "execution_count": 68
        }
      ]
    },
    {
      "cell_type": "code",
      "source": [
        "offset = 300\n",
        "plt.figure(figsize=(10,7))\n",
        "# Account for test_window offset while ploting\n",
        "plot_time_series(timesteps = x_test[-len(test_windows):], values = test_labels[:],start = offset, label =\"Test Data\")\n",
        "plot_time_series(timesteps = x_test[-len(test_windows):], values=model_2_preds, start=offset, format=\"-\",label=\"model_2_preds\")"
      ],
      "metadata": {
        "id": "bUAWm6GXZsyB",
        "colab": {
          "base_uri": "https://localhost:8080/",
          "height": 0
        },
        "outputId": "d6779c44-11d7-430f-bb2a-dc3ad30d3a0d"
      },
      "execution_count": 69,
      "outputs": [
        {
          "output_type": "display_data",
          "data": {
            "text/plain": [
              "<Figure size 720x504 with 1 Axes>"
            ],
            "image/png": "[encoded data removed]"
          },
          "metadata": {
            "needs_background": "light"
          }
        }
      ]
    },
    {
      "cell_type": "markdown",
      "source": [
        "## Creating model 3"
      ],
      "metadata": {
        "id": "sUeKnRbZ1uKc"
      }
    },
    {
      "cell_type": "code",
      "source": [
        "HORIZON = 7\n",
        "WINDOW_SIZE = 30\n",
        "\n",
        "full_windows, full_labels = make_windows(prices, window_size = WINDOW_SIZE,horizon = HORIZON)\n",
        "len(full_windows),len(full_labels)"
      ],
      "metadata": {
        "colab": {
          "base_uri": "https://localhost:8080/"
        },
        "id": "mp5xZR9V6LqS",
        "outputId": "6eb67abb-82a7-4b0e-bd78-5bc9dacae795"
      },
      "execution_count": 70,
      "outputs": [
        {
          "output_type": "execute_result",
          "data": {
            "text/plain": [
              "(2751, 2751)"
            ]
          },
          "metadata": {},
          "execution_count": 70
        }
      ]
    },
    {
      "cell_type": "code",
      "source": [
        "train_windows , test_windows , train_labels , test_labels = make_train_test_split(windows = full_windows, labels=full_labels)\n",
        "len(train_windows), len(train_labels), len(test_windows), len(test_labels)"
      ],
      "metadata": {
        "colab": {
          "base_uri": "https://localhost:8080/"
        },
        "id": "qVO8a5g36vSx",
        "outputId": "f4e5fe69-c192-44c2-f4c6-3f008eae8cd8"
      },
      "execution_count": 71,
      "outputs": [
        {
          "output_type": "execute_result",
          "data": {
            "text/plain": [
              "(2200, 2200, 551, 551)"
            ]
          },
          "metadata": {},
          "execution_count": 71
        }
      ]
    },
    {
      "cell_type": "code",
      "source": [
        "# This model contains window size of 30 and horizon of 7\n",
        "import tensorflow as tf \n",
        "from tensorflow.keras import layers\n",
        "\n",
        "# Set random seed for as reproducible results as possible\n",
        "tf.random.set_seed(42)\n",
        "# 1. Construct Model\n",
        "model_3 = tf.keras.Sequential([\n",
        "    layers.Dense(128,activation=\"relu\"),\n",
        "    layers.Dense(HORIZON, activation=\"linear\") # Linear activation is just like having no activation at all\n",
        "],name=\"model_3_dense\")# name our model so we can save it\n",
        "# 2. Compile\n",
        "model_3.compile(loss=\"mae\",\n",
        "                optimizer = tf.keras.optimizers.Adam(),\n",
        "                metrics = [\"mae\",\"mse\"])\n",
        "# 3. Fit the model\n",
        "model_3.fit(x = train_windows,\n",
        "            y = train_labels,\n",
        "            epochs=100,\n",
        "            verbose=1,\n",
        "            batch_size=128,\n",
        "            validation_data=(test_windows,test_labels),\n",
        "            callbacks=[create_model_checkpoint(model_name=model_3.name)])"
      ],
      "metadata": {
        "colab": {
          "base_uri": "https://localhost:8080/"
        },
        "id": "U8vGgmBX5py5",
        "outputId": "fcf79ecd-7f7d-46d3-929f-c46b6584c47b"
      },
      "execution_count": 72,
      "outputs": [
        {
          "output_type": "stream",
          "name": "stdout",
          "text": [
            "Epoch 1/100\n",
            "18/18 [==============================] - 1s 42ms/step - loss: 1476.6801 - mae: 1476.6801 - mse: 10390798.0000 - val_loss: 3088.5388 - val_mae: 3088.5388 - val_mse: 24386092.0000\n",
            "Epoch 2/100\n",
            "18/18 [==============================] - 1s 35ms/step - loss: 552.8871 - mae: 552.8871 - mse: 1336139.3750 - val_loss: 2462.5020 - val_mae: 2462.5020 - val_mse: 17112910.0000\n",
            "Epoch 3/100\n",
            "18/18 [==============================] - 1s 32ms/step - loss: 435.1955 - mae: 435.1955 - mse: 893441.1875 - val_loss: 2282.7729 - val_mae: 2282.7729 - val_mse: 14947264.0000\n",
            "Epoch 4/100\n",
            "18/18 [==============================] - 1s 33ms/step - loss: 391.9522 - mae: 391.9522 - mse: 745898.9375 - val_loss: 1980.5011 - val_mae: 1980.5011 - val_mse: 11722680.0000\n",
            "Epoch 5/100\n",
            "18/18 [==============================] - 0s 3ms/step - loss: 357.7267 - mae: 357.7267 - mse: 626925.8125 - val_loss: 1985.0291 - val_mae: 1985.0291 - val_mse: 11548052.0000\n",
            "Epoch 6/100\n",
            "18/18 [==============================] - 1s 33ms/step - loss: 332.7856 - mae: 332.7856 - mse: 531637.5000 - val_loss: 1754.1520 - val_mae: 1754.1520 - val_mse: 9239429.0000\n",
            "Epoch 7/100\n",
            "18/18 [==============================] - 1s 33ms/step - loss: 309.8981 - mae: 309.8981 - mse: 470155.6250 - val_loss: 1590.3005 - val_mae: 1590.3005 - val_mse: 7889002.0000\n",
            "Epoch 8/100\n",
            "18/18 [==============================] - 1s 32ms/step - loss: 302.8700 - mae: 302.8700 - mse: 439026.9688 - val_loss: 1565.3330 - val_mae: 1565.3330 - val_mse: 7771579.0000\n",
            "Epoch 9/100\n",
            "18/18 [==============================] - 0s 4ms/step - loss: 293.6388 - mae: 293.6388 - mse: 417595.4688 - val_loss: 1611.2914 - val_mae: 1611.2914 - val_mse: 7781350.0000\n",
            "Epoch 10/100\n",
            "18/18 [==============================] - 1s 32ms/step - loss: 292.9813 - mae: 292.9813 - mse: 404508.5312 - val_loss: 1515.2767 - val_mae: 1515.2767 - val_mse: 7085046.5000\n",
            "Epoch 11/100\n",
            "18/18 [==============================] - 1s 32ms/step - loss: 283.2764 - mae: 283.2764 - mse: 388493.0625 - val_loss: 1477.6066 - val_mae: 1477.6066 - val_mse: 6962753.0000\n",
            "Epoch 12/100\n",
            "18/18 [==============================] - 0s 3ms/step - loss: 275.6171 - mae: 275.6171 - mse: 374462.2500 - val_loss: 1523.7949 - val_mae: 1523.7949 - val_mse: 7228810.0000\n",
            "Epoch 13/100\n",
            "18/18 [==============================] - 1s 50ms/step - loss: 271.0623 - mae: 271.0623 - mse: 364279.2188 - val_loss: 1454.5190 - val_mae: 1454.5190 - val_mse: 6720389.5000\n",
            "Epoch 14/100\n",
            "18/18 [==============================] - 1s 32ms/step - loss: 270.5262 - mae: 270.5262 - mse: 367527.9688 - val_loss: 1419.8560 - val_mae: 1419.8560 - val_mse: 6516498.0000\n",
            "Epoch 15/100\n",
            "18/18 [==============================] - 0s 4ms/step - loss: 264.9192 - mae: 264.9192 - mse: 353206.4375 - val_loss: 1514.7671 - val_mae: 1514.7671 - val_mse: 7007359.5000\n",
            "Epoch 16/100\n",
            "18/18 [==============================] - 0s 3ms/step - loss: 263.9895 - mae: 263.9895 - mse: 349062.5312 - val_loss: 1428.1069 - val_mae: 1428.1069 - val_mse: 6490209.5000\n",
            "Epoch 17/100\n",
            "18/18 [==============================] - 0s 4ms/step - loss: 262.7861 - mae: 262.7861 - mse: 347923.8750 - val_loss: 1509.7175 - val_mae: 1509.7175 - val_mse: 7000410.5000\n",
            "Epoch 18/100\n",
            "18/18 [==============================] - 0s 4ms/step - loss: 261.2750 - mae: 261.2750 - mse: 338757.8750 - val_loss: 1485.4719 - val_mae: 1485.4719 - val_mse: 6863450.5000\n",
            "Epoch 19/100\n",
            "18/18 [==============================] - 0s 4ms/step - loss: 258.8603 - mae: 258.8603 - mse: 337165.2500 - val_loss: 1498.3242 - val_mae: 1498.3242 - val_mse: 7049774.5000\n",
            "Epoch 20/100\n",
            "18/18 [==============================] - 0s 5ms/step - loss: 261.5325 - mae: 261.5325 - mse: 339332.5312 - val_loss: 1431.1340 - val_mae: 1431.1340 - val_mse: 6562123.0000\n",
            "Epoch 21/100\n",
            "18/18 [==============================] - 0s 3ms/step - loss: 256.1000 - mae: 256.1000 - mse: 328722.0625 - val_loss: 1434.0573 - val_mae: 1434.0573 - val_mse: 6561025.0000\n",
            "Epoch 22/100\n",
            "18/18 [==============================] - 0s 4ms/step - loss: 257.1093 - mae: 257.1093 - mse: 330111.3750 - val_loss: 1432.9054 - val_mae: 1432.9054 - val_mse: 6494931.0000\n",
            "Epoch 23/100\n",
            "18/18 [==============================] - 1s 32ms/step - loss: 260.5021 - mae: 260.5021 - mse: 334084.6875 - val_loss: 1380.8605 - val_mae: 1380.8605 - val_mse: 6357393.5000\n",
            "Epoch 24/100\n",
            "18/18 [==============================] - 1s 32ms/step - loss: 266.9105 - mae: 266.9105 - mse: 346692.8125 - val_loss: 1377.7483 - val_mae: 1377.7483 - val_mse: 6284299.0000\n",
            "Epoch 25/100\n",
            "18/18 [==============================] - 0s 4ms/step - loss: 253.5253 - mae: 253.5253 - mse: 322044.4688 - val_loss: 1491.6226 - val_mae: 1491.6226 - val_mse: 6896413.0000\n",
            "Epoch 26/100\n",
            "18/18 [==============================] - 0s 4ms/step - loss: 252.3595 - mae: 252.3595 - mse: 319951.8125 - val_loss: 1396.9803 - val_mae: 1396.9803 - val_mse: 6399450.5000\n",
            "Epoch 27/100\n",
            "18/18 [==============================] - 0s 4ms/step - loss: 249.1352 - mae: 249.1352 - mse: 319089.9062 - val_loss: 1436.5674 - val_mae: 1436.5674 - val_mse: 6468598.5000\n",
            "Epoch 28/100\n",
            "18/18 [==============================] - 0s 4ms/step - loss: 249.6862 - mae: 249.6862 - mse: 317634.1875 - val_loss: 1401.4629 - val_mae: 1401.4629 - val_mse: 6404172.0000\n",
            "Epoch 29/100\n",
            "18/18 [==============================] - 0s 4ms/step - loss: 249.7410 - mae: 249.7410 - mse: 315358.0938 - val_loss: 1394.3362 - val_mae: 1394.3362 - val_mse: 6340537.0000\n",
            "Epoch 30/100\n",
            "18/18 [==============================] - 1s 32ms/step - loss: 249.0822 - mae: 249.0822 - mse: 319833.0000 - val_loss: 1347.6770 - val_mae: 1347.6770 - val_mse: 6143547.5000\n",
            "Epoch 31/100\n",
            "18/18 [==============================] - 0s 4ms/step - loss: 244.0749 - mae: 244.0749 - mse: 306774.6875 - val_loss: 1348.6327 - val_mae: 1348.6327 - val_mse: 6158178.0000\n",
            "Epoch 32/100\n",
            "18/18 [==============================] - 1s 33ms/step - loss: 246.8022 - mae: 246.8022 - mse: 310939.5312 - val_loss: 1329.3358 - val_mae: 1329.3358 - val_mse: 6012827.0000\n",
            "Epoch 33/100\n",
            "18/18 [==============================] - 0s 4ms/step - loss: 245.9506 - mae: 245.9506 - mse: 309269.5625 - val_loss: 1384.7732 - val_mae: 1384.7732 - val_mse: 6280276.5000\n",
            "Epoch 34/100\n",
            "18/18 [==============================] - 0s 4ms/step - loss: 246.0173 - mae: 246.0173 - mse: 307877.0312 - val_loss: 1355.9600 - val_mae: 1355.9600 - val_mse: 6121701.5000\n",
            "Epoch 35/100\n",
            "18/18 [==============================] - 0s 4ms/step - loss: 243.7620 - mae: 243.7620 - mse: 305117.8438 - val_loss: 1363.7582 - val_mae: 1363.7582 - val_mse: 6188456.0000\n",
            "Epoch 36/100\n",
            "18/18 [==============================] - 0s 4ms/step - loss: 241.1248 - mae: 241.1248 - mse: 303277.5625 - val_loss: 1410.3387 - val_mae: 1410.3386 - val_mse: 6481079.0000\n",
            "Epoch 37/100\n",
            "18/18 [==============================] - 0s 4ms/step - loss: 258.0173 - mae: 258.0173 - mse: 324285.5625 - val_loss: 1349.0782 - val_mae: 1349.0782 - val_mse: 6080829.5000\n",
            "Epoch 38/100\n",
            "18/18 [==============================] - 0s 4ms/step - loss: 239.5506 - mae: 239.5506 - mse: 298627.5625 - val_loss: 1361.1649 - val_mae: 1361.1649 - val_mse: 6156935.5000\n",
            "Epoch 39/100\n",
            "18/18 [==============================] - 0s 5ms/step - loss: 245.0304 - mae: 245.0304 - mse: 302393.7188 - val_loss: 1396.5172 - val_mae: 1396.5172 - val_mse: 6360788.0000\n",
            "Epoch 40/100\n",
            "18/18 [==============================] - 0s 4ms/step - loss: 240.2838 - mae: 240.2838 - mse: 299923.0312 - val_loss: 1475.3787 - val_mae: 1475.3787 - val_mse: 6633834.0000\n",
            "Epoch 41/100\n",
            "18/18 [==============================] - 0s 4ms/step - loss: 242.0395 - mae: 242.0395 - mse: 298543.7500 - val_loss: 1403.7793 - val_mae: 1403.7793 - val_mse: 6340330.0000\n",
            "Epoch 42/100\n",
            "18/18 [==============================] - 0s 4ms/step - loss: 245.5146 - mae: 245.5146 - mse: 309142.0938 - val_loss: 1335.7214 - val_mae: 1335.7214 - val_mse: 6012019.0000\n",
            "Epoch 43/100\n",
            "18/18 [==============================] - 0s 4ms/step - loss: 239.6812 - mae: 239.6812 - mse: 297062.9062 - val_loss: 1370.8358 - val_mae: 1370.8358 - val_mse: 6112004.0000\n",
            "Epoch 44/100\n",
            "18/18 [==============================] - 1s 32ms/step - loss: 251.4736 - mae: 251.4736 - mse: 314124.2188 - val_loss: 1295.1184 - val_mae: 1295.1184 - val_mse: 5789992.5000\n",
            "Epoch 45/100\n",
            "18/18 [==============================] - 0s 5ms/step - loss: 244.8960 - mae: 244.8960 - mse: 302142.4062 - val_loss: 1508.9667 - val_mae: 1508.9667 - val_mse: 6830472.0000\n",
            "Epoch 46/100\n",
            "18/18 [==============================] - 1s 31ms/step - loss: 243.0222 - mae: 243.0222 - mse: 300756.3750 - val_loss: 1292.6118 - val_mae: 1292.6118 - val_mse: 5739714.5000\n",
            "Epoch 47/100\n",
            "18/18 [==============================] - 0s 4ms/step - loss: 236.4760 - mae: 236.4760 - mse: 294127.0000 - val_loss: 1325.8823 - val_mae: 1325.8823 - val_mse: 5915810.5000\n",
            "Epoch 48/100\n",
            "18/18 [==============================] - 0s 5ms/step - loss: 233.6064 - mae: 233.6064 - mse: 287009.8750 - val_loss: 1307.4963 - val_mae: 1307.4963 - val_mse: 5830423.0000\n",
            "Epoch 49/100\n",
            "18/18 [==============================] - 0s 4ms/step - loss: 242.1926 - mae: 242.1926 - mse: 296667.7188 - val_loss: 1346.7212 - val_mae: 1346.7212 - val_mse: 6221780.5000\n",
            "Epoch 50/100\n",
            "18/18 [==============================] - 0s 4ms/step - loss: 237.4742 - mae: 237.4742 - mse: 292347.5938 - val_loss: 1298.3950 - val_mae: 1298.3950 - val_mse: 5735013.0000\n",
            "Epoch 51/100\n",
            "18/18 [==============================] - 0s 4ms/step - loss: 237.9373 - mae: 237.9373 - mse: 289620.0000 - val_loss: 1437.4879 - val_mae: 1437.4879 - val_mse: 6562021.5000\n",
            "Epoch 52/100\n",
            "18/18 [==============================] - 0s 4ms/step - loss: 233.3428 - mae: 233.3428 - mse: 284953.8750 - val_loss: 1305.4242 - val_mae: 1305.4242 - val_mse: 5790415.0000\n",
            "Epoch 53/100\n",
            "18/18 [==============================] - 1s 33ms/step - loss: 231.2682 - mae: 231.2682 - mse: 282992.1562 - val_loss: 1288.3210 - val_mae: 1288.3210 - val_mse: 5742057.5000\n",
            "Epoch 54/100\n",
            "18/18 [==============================] - 0s 4ms/step - loss: 235.2892 - mae: 235.2892 - mse: 288677.7500 - val_loss: 1295.8486 - val_mae: 1295.8486 - val_mse: 5729195.0000\n",
            "Epoch 55/100\n",
            "18/18 [==============================] - 0s 4ms/step - loss: 233.4753 - mae: 233.4753 - mse: 282457.9688 - val_loss: 1318.1969 - val_mae: 1318.1969 - val_mse: 5843614.0000\n",
            "Epoch 56/100\n",
            "18/18 [==============================] - 0s 4ms/step - loss: 235.3367 - mae: 235.3367 - mse: 287956.7188 - val_loss: 1332.5114 - val_mae: 1332.5114 - val_mse: 5911373.5000\n",
            "Epoch 57/100\n",
            "18/18 [==============================] - 0s 4ms/step - loss: 234.1056 - mae: 234.1056 - mse: 287770.3438 - val_loss: 1386.2261 - val_mae: 1386.2261 - val_mse: 6257489.5000\n",
            "Epoch 58/100\n",
            "18/18 [==============================] - 0s 3ms/step - loss: 231.6944 - mae: 231.6944 - mse: 280561.9688 - val_loss: 1293.7908 - val_mae: 1293.7908 - val_mse: 5691704.0000\n",
            "Epoch 59/100\n",
            "18/18 [==============================] - 0s 4ms/step - loss: 232.0113 - mae: 232.0113 - mse: 282802.0312 - val_loss: 1295.0011 - val_mae: 1295.0011 - val_mse: 5755693.5000\n",
            "Epoch 60/100\n",
            "18/18 [==============================] - 1s 32ms/step - loss: 230.8863 - mae: 230.8863 - mse: 281252.5000 - val_loss: 1271.2562 - val_mae: 1271.2562 - val_mse: 5654841.0000\n",
            "Epoch 61/100\n",
            "18/18 [==============================] - 0s 4ms/step - loss: 230.2091 - mae: 230.2091 - mse: 281831.2500 - val_loss: 1414.9921 - val_mae: 1414.9921 - val_mse: 6285626.0000\n",
            "Epoch 62/100\n",
            "18/18 [==============================] - 0s 4ms/step - loss: 233.1125 - mae: 233.1125 - mse: 280898.6250 - val_loss: 1295.1227 - val_mae: 1295.1227 - val_mse: 5784746.0000\n",
            "Epoch 63/100\n",
            "18/18 [==============================] - 0s 4ms/step - loss: 235.7712 - mae: 235.7712 - mse: 286926.5000 - val_loss: 1344.8071 - val_mae: 1344.8071 - val_mse: 5962764.0000\n",
            "Epoch 64/100\n",
            "18/18 [==============================] - 1s 32ms/step - loss: 230.9890 - mae: 230.9890 - mse: 278413.6875 - val_loss: 1262.2010 - val_mae: 1262.2010 - val_mse: 5532749.5000\n",
            "Epoch 65/100\n",
            "18/18 [==============================] - 0s 4ms/step - loss: 232.0713 - mae: 232.0713 - mse: 285752.4688 - val_loss: 1344.8735 - val_mae: 1344.8735 - val_mse: 5843455.0000\n",
            "Epoch 66/100\n",
            "18/18 [==============================] - 0s 3ms/step - loss: 231.6062 - mae: 231.6062 - mse: 280084.7188 - val_loss: 1422.0315 - val_mae: 1422.0315 - val_mse: 6406305.0000\n",
            "Epoch 67/100\n",
            "18/18 [==============================] - 0s 4ms/step - loss: 235.8986 - mae: 235.8986 - mse: 284711.4375 - val_loss: 1275.7136 - val_mae: 1275.7136 - val_mse: 5579424.0000\n",
            "Epoch 68/100\n",
            "18/18 [==============================] - 0s 4ms/step - loss: 230.8537 - mae: 230.8537 - mse: 278293.6250 - val_loss: 1337.4902 - val_mae: 1337.4902 - val_mse: 5882589.0000\n",
            "Epoch 69/100\n",
            "18/18 [==============================] - 0s 5ms/step - loss: 228.8538 - mae: 228.8538 - mse: 271282.7812 - val_loss: 1543.3079 - val_mae: 1543.3079 - val_mse: 7109320.5000\n",
            "Epoch 70/100\n",
            "18/18 [==============================] - 0s 4ms/step - loss: 235.1720 - mae: 235.1720 - mse: 284538.5312 - val_loss: 1293.8401 - val_mae: 1293.8401 - val_mse: 5675454.5000\n",
            "Epoch 71/100\n",
            "18/18 [==============================] - 1s 32ms/step - loss: 227.0739 - mae: 227.0739 - mse: 275539.6562 - val_loss: 1257.9714 - val_mae: 1257.9714 - val_mse: 5502379.5000\n",
            "Epoch 72/100\n",
            "18/18 [==============================] - 1s 33ms/step - loss: 229.7524 - mae: 229.7524 - mse: 275545.5938 - val_loss: 1256.7455 - val_mae: 1256.7455 - val_mse: 5595999.0000\n",
            "Epoch 73/100\n",
            "18/18 [==============================] - 0s 5ms/step - loss: 226.6158 - mae: 226.6158 - mse: 274122.9062 - val_loss: 1275.3080 - val_mae: 1275.3080 - val_mse: 5620296.0000\n",
            "Epoch 74/100\n",
            "18/18 [==============================] - 0s 4ms/step - loss: 230.7925 - mae: 230.7925 - mse: 280998.5938 - val_loss: 1333.9302 - val_mae: 1333.9302 - val_mse: 5874637.0000\n",
            "Epoch 75/100\n",
            "18/18 [==============================] - 0s 4ms/step - loss: 227.0893 - mae: 227.0893 - mse: 273822.9688 - val_loss: 1417.0872 - val_mae: 1417.0872 - val_mse: 6199417.0000\n",
            "Epoch 76/100\n",
            "18/18 [==============================] - 0s 4ms/step - loss: 230.1245 - mae: 230.1245 - mse: 281004.0000 - val_loss: 1285.9834 - val_mae: 1285.9834 - val_mse: 5687568.5000\n",
            "Epoch 77/100\n",
            "18/18 [==============================] - 1s 31ms/step - loss: 226.0827 - mae: 226.0827 - mse: 272922.0938 - val_loss: 1241.5649 - val_mae: 1241.5649 - val_mse: 5387313.5000\n",
            "Epoch 78/100\n",
            "18/18 [==============================] - 0s 5ms/step - loss: 229.5786 - mae: 229.5786 - mse: 273954.9688 - val_loss: 1255.8663 - val_mae: 1255.8663 - val_mse: 5475468.5000\n",
            "Epoch 79/100\n",
            "18/18 [==============================] - 0s 4ms/step - loss: 228.3469 - mae: 228.3469 - mse: 270279.0625 - val_loss: 1284.8013 - val_mae: 1284.8013 - val_mse: 5558499.5000\n",
            "Epoch 80/100\n",
            "18/18 [==============================] - 0s 4ms/step - loss: 226.3677 - mae: 226.3677 - mse: 270272.4062 - val_loss: 1333.5283 - val_mae: 1333.5283 - val_mse: 5904636.5000\n",
            "Epoch 81/100\n",
            "18/18 [==============================] - 0s 3ms/step - loss: 229.7860 - mae: 229.7860 - mse: 278814.7812 - val_loss: 1271.9479 - val_mae: 1271.9479 - val_mse: 5659682.5000\n",
            "Epoch 82/100\n",
            "18/18 [==============================] - 0s 4ms/step - loss: 225.9943 - mae: 225.9943 - mse: 272791.8438 - val_loss: 1301.4474 - val_mae: 1301.4474 - val_mse: 5669961.5000\n",
            "Epoch 83/100\n",
            "18/18 [==============================] - 0s 4ms/step - loss: 227.2322 - mae: 227.2322 - mse: 272017.0000 - val_loss: 1296.6858 - val_mae: 1296.6858 - val_mse: 5736362.0000\n",
            "Epoch 84/100\n",
            "18/18 [==============================] - 0s 4ms/step - loss: 227.8450 - mae: 227.8450 - mse: 273059.2500 - val_loss: 1257.5343 - val_mae: 1257.5343 - val_mse: 5490231.0000\n",
            "Epoch 85/100\n",
            "18/18 [==============================] - 0s 5ms/step - loss: 228.2608 - mae: 228.2608 - mse: 271350.5312 - val_loss: 1274.7675 - val_mae: 1274.7675 - val_mse: 5565595.0000\n",
            "Epoch 86/100\n",
            "18/18 [==============================] - 0s 4ms/step - loss: 227.6845 - mae: 227.6845 - mse: 274065.7188 - val_loss: 1384.7209 - val_mae: 1384.7209 - val_mse: 6136776.0000\n",
            "Epoch 87/100\n",
            "18/18 [==============================] - 0s 4ms/step - loss: 234.5587 - mae: 234.5587 - mse: 278708.0000 - val_loss: 1335.1631 - val_mae: 1335.1631 - val_mse: 5845813.5000\n",
            "Epoch 88/100\n",
            "18/18 [==============================] - 0s 4ms/step - loss: 231.8833 - mae: 231.8833 - mse: 278225.1875 - val_loss: 1468.0068 - val_mae: 1468.0068 - val_mse: 6313704.0000\n",
            "Epoch 89/100\n",
            "18/18 [==============================] - 0s 4ms/step - loss: 231.0745 - mae: 231.0745 - mse: 272394.7188 - val_loss: 1284.0066 - val_mae: 1284.0066 - val_mse: 5596397.0000\n",
            "Epoch 90/100\n",
            "18/18 [==============================] - 0s 4ms/step - loss: 230.0180 - mae: 230.0180 - mse: 276299.0938 - val_loss: 1363.1147 - val_mae: 1363.1147 - val_mse: 5890119.5000\n",
            "Epoch 91/100\n",
            "18/18 [==============================] - 0s 4ms/step - loss: 225.9644 - mae: 225.9644 - mse: 269280.2500 - val_loss: 1242.6559 - val_mae: 1242.6559 - val_mse: 5407723.5000\n",
            "Epoch 92/100\n",
            "18/18 [==============================] - 1s 31ms/step - loss: 225.9730 - mae: 225.9730 - mse: 270378.4062 - val_loss: 1236.2074 - val_mae: 1236.2074 - val_mse: 5459194.0000\n",
            "Epoch 93/100\n",
            "18/18 [==============================] - 0s 4ms/step - loss: 229.2127 - mae: 229.2127 - mse: 270910.2500 - val_loss: 1315.8900 - val_mae: 1315.8900 - val_mse: 5648919.0000\n",
            "Epoch 94/100\n",
            "18/18 [==============================] - 0s 4ms/step - loss: 227.4520 - mae: 227.4520 - mse: 268297.9062 - val_loss: 1297.8903 - val_mae: 1297.8903 - val_mse: 5646969.0000\n",
            "Epoch 95/100\n",
            "18/18 [==============================] - 0s 4ms/step - loss: 227.6936 - mae: 227.6936 - mse: 271019.1250 - val_loss: 1284.2882 - val_mae: 1284.2882 - val_mse: 5605346.5000\n",
            "Epoch 96/100\n",
            "18/18 [==============================] - 0s 4ms/step - loss: 231.4317 - mae: 231.4317 - mse: 275005.7500 - val_loss: 1457.7161 - val_mae: 1457.7161 - val_mse: 6357736.0000\n",
            "Epoch 97/100\n",
            "18/18 [==============================] - 0s 4ms/step - loss: 232.2033 - mae: 232.2033 - mse: 271773.6562 - val_loss: 1330.7479 - val_mae: 1330.7479 - val_mse: 5756275.5000\n",
            "Epoch 98/100\n",
            "18/18 [==============================] - 0s 3ms/step - loss: 227.4734 - mae: 227.4734 - mse: 274545.8438 - val_loss: 1335.3970 - val_mae: 1335.3970 - val_mse: 5768887.0000\n",
            "Epoch 99/100\n",
            "18/18 [==============================] - 0s 4ms/step - loss: 226.6405 - mae: 226.6405 - mse: 271009.7188 - val_loss: 1242.9199 - val_mae: 1242.9199 - val_mse: 5361411.5000\n",
            "Epoch 100/100\n",
            "18/18 [==============================] - 0s 5ms/step - loss: 221.5012 - mae: 221.5012 - mse: 264349.5625 - val_loss: 1297.3752 - val_mae: 1297.3752 - val_mse: 5612907.0000\n"
          ]
        },
        {
          "output_type": "execute_result",
          "data": {
            "text/plain": [
              "<keras.callbacks.History at 0x7f5ef28ba610>"
            ]
          },
          "metadata": {},
          "execution_count": 72
        }
      ]
    },
    {
      "cell_type": "code",
      "source": [
        "# Evaluate the model on the test data\n",
        "\n",
        "model_3.evaluate(test_windows,test_labels)"
      ],
      "metadata": {
        "colab": {
          "base_uri": "https://localhost:8080/"
        },
        "id": "ORsrW-sZ78ZH",
        "outputId": "0f8af91b-a669-4908-97dc-2a04479f7586"
      },
      "execution_count": 73,
      "outputs": [
        {
          "output_type": "stream",
          "name": "stdout",
          "text": [
            "18/18 [==============================] - 0s 2ms/step - loss: 1297.3754 - mae: 1297.3754 - mse: 5612907.5000\n"
          ]
        },
        {
          "output_type": "execute_result",
          "data": {
            "text/plain": [
              "[1297.3753662109375, 1297.3753662109375, 5612907.5]"
            ]
          },
          "metadata": {},
          "execution_count": 73
        }
      ]
    },
    {
      "cell_type": "code",
      "source": [
        "# Load best model\n",
        "model_3 = tf.keras.models.load_model(\"model_experiments/model_3_dense\")\n",
        "model_3.evaluate(test_windows,test_labels)"
      ],
      "metadata": {
        "colab": {
          "base_uri": "https://localhost:8080/"
        },
        "id": "0VQGcckJ-Sgp",
        "outputId": "a39121af-038f-4123-8278-15c1edf30166"
      },
      "execution_count": 74,
      "outputs": [
        {
          "output_type": "stream",
          "name": "stdout",
          "text": [
            "18/18 [==============================] - 0s 2ms/step - loss: 1236.2075 - mae: 1236.2075 - mse: 5459194.0000\n"
          ]
        },
        {
          "output_type": "execute_result",
          "data": {
            "text/plain": [
              "[1236.20751953125, 1236.20751953125, 5459194.0]"
            ]
          },
          "metadata": {},
          "execution_count": 74
        }
      ]
    },
    {
      "cell_type": "code",
      "source": [
        "# Make predictions with model_3\n",
        "model_3_preds = make_preds(model_3,\n",
        "                           input_data = test_windows)\n",
        "model_3_preds[:5] \n"
      ],
      "metadata": {
        "colab": {
          "base_uri": "https://localhost:8080/"
        },
        "id": "xIzBMJyZ-rmB",
        "outputId": "235e3cce-c077-4666-c373-9b3e428a3347"
      },
      "execution_count": 75,
      "outputs": [
        {
          "output_type": "stream",
          "name": "stdout",
          "text": [
            "18/18 [==============================] - 0s 1ms/step\n"
          ]
        },
        {
          "output_type": "execute_result",
          "data": {
            "text/plain": [
              "<tf.Tensor: shape=(5, 7), dtype=float32, numpy=\n",
              "array([[9066.453 , 9334.446 , 9461.401 , 9388.391 , 9463.582 , 9670.427 ,\n",
              "        9430.584 ],\n",
              "       [8755.7295, 9083.715 , 9226.223 , 8985.109 , 9058.751 , 9266.0625,\n",
              "        9211.953 ],\n",
              "       [8716.3545, 9035.204 , 9130.837 , 8909.687 , 9015.347 , 9136.23  ,\n",
              "        9121.998 ],\n",
              "       [8914.29  , 9065.095 , 9077.667 , 9093.83  , 9053.94  , 9326.763 ,\n",
              "        9151.856 ],\n",
              "       [8814.659 , 9023.546 , 8928.278 , 8960.1   , 9191.008 , 9366.611 ,\n",
              "        9029.211 ]], dtype=float32)>"
            ]
          },
          "metadata": {},
          "execution_count": 75
        }
      ]
    },
    {
      "cell_type": "code",
      "source": [
        "# Evaluate model 3 results \n",
        "model_3_results = evaluate_preds(y_true=tf.squeeze(test_labels),\n",
        "                                 y_pred = model_3_preds)\n",
        "model_3_results"
      ],
      "metadata": {
        "colab": {
          "base_uri": "https://localhost:8080/"
        },
        "id": "kVXHuGQE_M4h",
        "outputId": "5d705210-142c-41ce-c193-72240f11a83e"
      },
      "execution_count": 76,
      "outputs": [
        {
          "output_type": "execute_result",
          "data": {
            "text/plain": [
              "{'mae': array([  608.96844 ,   344.76828 ,   409.33035 ,   471.0399  ,\n",
              "          490.4255  ,   600.3134  ,   610.6784  ,   538.9532  ,\n",
              "          574.64154 ,   720.91125 ,   879.78284 ,   808.7538  ,\n",
              "          791.4953  ,   857.7123  ,   631.0079  ,   285.35532 ,\n",
              "          179.58748 ,   183.56947 ,   228.9442  ,   271.1052  ,\n",
              "          128.55656 ,   206.18924 ,   263.39984 ,   323.2526  ,\n",
              "          214.50551 ,   173.37088 ,   145.38805 ,   160.09402 ,\n",
              "          177.30022 ,   236.22984 ,   360.91635 ,   425.67856 ,\n",
              "          324.77322 ,   344.0058  ,   309.53043 ,   309.55023 ,\n",
              "          367.54547 ,   295.3404  ,   239.49881 ,   156.17683 ,\n",
              "          346.646   ,    90.05671 ,    98.09535 ,    92.904434,\n",
              "          143.89754 ,    52.04827 ,   104.60673 ,   144.27791 ,\n",
              "          152.39607 ,   145.75648 ,   167.4158  ,   183.91566 ,\n",
              "          230.51297 ,   167.87012 ,   239.78084 ,   313.32846 ,\n",
              "          494.19455 ,   496.88315 ,   469.7184  ,   481.3379  ,\n",
              "          394.08463 ,   244.0648  ,   208.89217 ,   289.2719  ,\n",
              "          415.69595 ,   450.0662  ,   463.58768 ,   481.70996 ,\n",
              "          181.37166 ,   251.44601 ,   299.33902 ,   473.31516 ,\n",
              "          577.60187 ,   434.9389  ,   348.7136  ,   380.46777 ,\n",
              "          270.68668 ,   328.30453 ,   429.51813 ,   596.13586 ,\n",
              "          758.87836 ,   592.5798  ,   265.5579  ,   196.0364  ,\n",
              "          203.95438 ,   160.10617 ,   169.94057 ,   226.47629 ,\n",
              "          257.73563 ,   491.84528 ,   378.3584  ,   381.02692 ,\n",
              "          300.88547 ,   237.65945 ,   181.40807 ,   344.7398  ,\n",
              "          381.01254 ,   561.9679  ,   703.3075  ,   841.2066  ,\n",
              "          587.1466  ,   367.70758 ,   290.95328 ,   394.0395  ,\n",
              "          436.14188 ,   457.7461  ,   548.7165  ,   679.46484 ,\n",
              "         1022.39813 ,  1012.6557  ,   951.8574  ,   466.7119  ,\n",
              "          219.04715 ,   116.43373 ,   103.970985,   326.2032  ,\n",
              "          354.16037 ,   465.2103  ,   634.2839  ,  1104.8802  ,\n",
              "         1674.0251  ,  2244.7493  ,  2042.5593  ,  2193.0784  ,\n",
              "         2346.1145  ,  2719.07    ,  1351.745   ,   664.0059  ,\n",
              "          369.4751  ,   339.04974 ,   515.48926 ,   391.8063  ,\n",
              "          497.40543 ,   292.85855 ,   271.63385 ,   263.8946  ,\n",
              "          405.32047 ,   312.7354  ,   378.93018 ,   380.7608  ,\n",
              "          374.10938 ,   335.52084 ,   232.34912 ,   537.99335 ,\n",
              "          641.94226 ,   393.5249  ,   327.7805  ,   172.54408 ,\n",
              "          274.23096 ,   231.04094 ,   268.59082 ,   564.3897  ,\n",
              "          427.41602 ,   580.1192  ,   455.72086 ,   414.6772  ,\n",
              "          167.62207 ,   182.97998 ,   195.73264 ,   172.97656 ,\n",
              "          232.10973 ,   234.75383 ,   208.45027 ,   247.79143 ,\n",
              "          268.57883 ,   279.18765 ,   464.14154 ,   655.12946 ,\n",
              "          476.3044  ,   560.487   ,   782.32    ,   843.35706 ,\n",
              "          947.10785 ,  1042.9598  ,   464.24973 ,   218.35812 ,\n",
              "          329.80148 ,   346.55734 ,   371.80035 ,   405.27847 ,\n",
              "          539.0307  ,   543.3746  ,   679.041   ,  1018.7719  ,\n",
              "          923.153   ,   327.1893  ,   446.47504 ,   679.0827  ,\n",
              "          311.8404  ,   284.3704  ,   299.4036  ,   309.3309  ,\n",
              "          466.0236  ,   534.8944  ,   706.24835 ,   680.6003  ,\n",
              "          427.46582 ,   236.17424 ,   285.81696 ,   213.69447 ,\n",
              "          417.202   ,   659.64246 ,   645.97516 ,   403.20383 ,\n",
              "          239.66574 ,   166.4011  ,   237.05148 ,   390.68082 ,\n",
              "          205.65039 ,   207.08607 ,   378.37262 ,   261.77637 ,\n",
              "          280.52203 ,   268.91937 ,   354.85324 ,   477.46988 ,\n",
              "          579.72546 ,   238.87834 ,   236.2009  ,   210.84319 ,\n",
              "          245.28836 ,   261.41922 ,   214.36691 ,   182.41113 ,\n",
              "          205.8058  ,   215.0106  ,   223.79631 ,   287.72086 ,\n",
              "          379.97894 ,   631.67804 ,   335.2482  ,   356.31808 ,\n",
              "          164.74666 ,   154.65402 ,   160.56291 ,   108.33845 ,\n",
              "          152.09389 ,   145.2825  ,   109.231865,   141.7733  ,\n",
              "          105.56738 ,   117.904434,   128.78264 ,   193.03543 ,\n",
              "          264.58258 ,   211.63156 ,   229.34598 ,   186.55287 ,\n",
              "          172.78418 ,   215.49289 ,   211.40039 ,   117.54297 ,\n",
              "          127.45731 ,   165.22238 ,   204.32129 ,   225.22224 ,\n",
              "          545.5169  ,   644.1183  ,   761.815   ,   846.5483  ,\n",
              "         1069.1394  ,  1286.5847  ,  1258.8937  ,   480.13965 ,\n",
              "          241.28516 ,   238.87639 ,   208.18541 ,   263.0809  ,\n",
              "          432.2938  ,   129.34612 ,    82.61035 ,   185.16309 ,\n",
              "          224.94629 ,   339.04086 ,   356.6801  ,   345.10922 ,\n",
              "          308.69125 ,   350.0816  ,   161.85826 ,   177.32101 ,\n",
              "          208.37346 ,   278.64648 ,   247.66713 ,   379.1187  ,\n",
              "          503.3764  ,   682.7271  ,   420.2334  ,   386.26605 ,\n",
              "          271.04074 ,   339.88492 ,   463.2009  ,   363.1077  ,\n",
              "          182.16086 ,   103.988   ,   331.82477 ,   459.3602  ,\n",
              "          668.9274  ,   904.54785 ,  1180.8733  ,  1564.2333  ,\n",
              "         1455.0974  ,   990.82294 ,   683.86774 ,   135.36914 ,\n",
              "          164.40834 ,   148.42899 ,   205.77219 ,   320.83664 ,\n",
              "          322.4894  ,   343.18457 ,   317.5734  ,   304.10742 ,\n",
              "          200.93555 ,   244.10533 ,   417.6211  ,   518.1705  ,\n",
              "          483.3602  ,   569.8417  ,   382.35254 ,   170.98047 ,\n",
              "           86.48116 ,   245.23885 ,   149.88797 ,   198.39272 ,\n",
              "          246.11984 ,   331.08762 ,   392.0484  ,   369.4795  ,\n",
              "          272.55942 ,   201.26994 ,   114.994835,   186.40471 ,\n",
              "          294.1476  ,   342.91797 ,   454.6059  ,   585.30597 ,\n",
              "          532.5778  ,   435.31332 ,   163.36174 ,   182.81236 ,\n",
              "          326.93234 ,   228.62766 ,   373.48257 ,   524.1761  ,\n",
              "          639.04266 ,   952.4915  ,  1124.6257  ,  1124.2701  ,\n",
              "         1155.5637  ,   350.71707 ,   251.14774 ,   227.29813 ,\n",
              "          211.32268 ,   180.7952  ,   223.62459 ,   248.59319 ,\n",
              "          158.68582 ,   303.2691  ,   566.19836 ,   617.8895  ,\n",
              "          747.0255  ,  1034.7903  ,  1094.2561  ,  1095.7518  ,\n",
              "          384.09653 ,   413.68082 ,   363.9714  ,   233.46889 ,\n",
              "          423.65387 ,   717.7892  ,   725.3813  ,   736.76984 ,\n",
              "          938.96375 ,  1129.9469  ,  1714.5145  ,  1433.2299  ,\n",
              "          904.6381  ,   400.3602  ,   427.3111  ,   716.7525  ,\n",
              "          978.1395  ,  1222.6901  ,  1214.3164  ,  1176.3909  ,\n",
              "          977.995   ,   621.18945 ,  1055.3561  ,  1222.8792  ,\n",
              "         1175.2815  ,   318.97238 ,   337.14426 ,   698.0739  ,\n",
              "          924.8493  ,   772.4718  ,   885.4732  ,   793.99835 ,\n",
              "          664.9883  ,   528.7249  ,   614.1058  ,  1288.1543  ,\n",
              "         2379.1467  ,  2633.0796  ,  2981.3577  ,  3234.2524  ,\n",
              "         3435.9941  ,  2254.3196  ,   848.4849  ,   577.99414 ,\n",
              "          837.5533  ,  1162.2467  ,  1240.7667  ,  1510.9509  ,\n",
              "         2385.1873  ,  2912.3228  ,  2866.3872  ,  2241.8647  ,\n",
              "         2403.0002  ,  2612.7095  ,  3380.0078  ,  3167.3225  ,\n",
              "         3833.7947  ,  4845.184   ,  4290.578   ,  3775.0662  ,\n",
              "         4156.245   ,  3083.5703  ,  2595.2964  ,  2505.737   ,\n",
              "         4620.9453  ,  6059.6616  ,  5585.308   ,  1795.9275  ,\n",
              "          831.5519  ,  1380.8845  ,  3372.1619  ,  3768.7964  ,\n",
              "         3719.2104  ,  3700.9543  ,  3773.0745  ,  4242.6333  ,\n",
              "         4432.596   ,  1560.2584  ,  1203.2526  ,  1055.6482  ,\n",
              "         1015.09406 ,  1166.8309  ,  1920.2634  ,  3585.383   ,\n",
              "         3368.3398  ,  2227.7913  ,  2539.2478  ,  2884.6746  ,\n",
              "         4530.022   ,  5092.4404  ,  4316.5024  ,  4489.437   ,\n",
              "         5858.443   ,  5650.663   ,  7849.777   ,  4461.2153  ,\n",
              "         1320.8438  ,  1341.1178  ,  1368.9928  ,  2255.7683  ,\n",
              "         2466.5105  ,  2963.3086  ,  2455.2678  ,  3372.717   ,\n",
              "         2596.9727  ,  3435.8237  ,  5838.0903  ,  7589.9976  ,\n",
              "        10458.577   ,  9745.281   ,  5562.1147  ,  3790.5317  ,\n",
              "         2294.6506  ,  1011.55804 ,  1684.7333  ,  3480.4788  ,\n",
              "         2406.4883  ,  2503.9778  ,  2553.365   ,  3619.7925  ,\n",
              "         4887.1694  ,  5978.3164  ,  5670.651   ,  5110.254   ,\n",
              "         4003.5151  ,  2080.9805  ,  1369.8376  ,  1308.6172  ,\n",
              "         2069.3706  ,  3217.1692  ,  1999.3744  ,  2196.2114  ,\n",
              "         3269.6423  ,  4561.367   ,  6023.207   ,  5746.1914  ,\n",
              "         5599.7837  ,  1632.212   ,  1709.5536  ,  2180.851   ,\n",
              "         3346.966   ,  3971.7092  ,  1693.3962  ,  2125.03    ,\n",
              "         1241.1719  ,   443.80972 ,  1384.0859  ,  1486.4794  ,\n",
              "         1221.2031  ,   935.9169  ,  1199.7991  ,   980.37335 ,\n",
              "         1245.2059  ,  2108.3958  ,  2886.9119  ,  3171.8242  ,\n",
              "         2108.727   ,  2587.0747  ,  2952.6792  ,  3900.096   ,\n",
              "         6087.4634  ,  7662.9517  ,  9105.304   ,  8698.08    ,\n",
              "         6721.2437  ,  5309.346   ,  4984.774   ,  2799.0222  ,\n",
              "         1792.1702  ,  2511.8542  ,  3813.2444  ,  6022.4517  ,\n",
              "         3525.1233  ,  1289.0547  ,  1948.6986  ,  1895.5306  ,\n",
              "         1311.7389  ,  1952.3633  ,  1211.4045  ,  2028.4889  ,\n",
              "         1657.75    ,  1778.6959  ,  2720.1458  ,  4048.7578  ,\n",
              "         6183.333   ,  7455.9165  ,  8499.112   ], dtype=float32),\n",
              " 'mse': array([4.14968781e+05, 1.84221672e+05, 1.94120953e+05, 2.64464688e+05,\n",
              "        3.21327562e+05, 4.62651094e+05, 4.74704844e+05, 4.00664656e+05,\n",
              "        5.33626562e+05, 7.33491875e+05, 9.99536312e+05, 8.87486875e+05,\n",
              "        7.22064312e+05, 7.85892875e+05, 4.18421000e+05, 1.22976211e+05,\n",
              "        4.77132812e+04, 4.72828945e+04, 8.66514375e+04, 9.64396875e+04,\n",
              "        2.72092949e+04, 6.49616055e+04, 8.50852266e+04, 1.24382273e+05,\n",
              "        6.11056797e+04, 4.42391445e+04, 2.66609180e+04, 4.62363867e+04,\n",
              "        4.01768398e+04, 7.90067500e+04, 1.43870375e+05, 2.05801344e+05,\n",
              "        1.43782359e+05, 1.96142625e+05, 1.92450391e+05, 1.43934906e+05,\n",
              "        1.95134172e+05, 1.51003734e+05, 9.47395703e+04, 3.92818086e+04,\n",
              "        1.60591266e+05, 9.98865039e+03, 1.79021895e+04, 1.91352969e+04,\n",
              "        2.85310117e+04, 4.35929346e+03, 1.16385371e+04, 2.24060039e+04,\n",
              "        3.33354688e+04, 3.91286328e+04, 4.37918008e+04, 4.13062539e+04,\n",
              "        6.51673008e+04, 4.27638320e+04, 1.03685859e+05, 1.72674719e+05,\n",
              "        2.99662312e+05, 3.15561094e+05, 2.73652156e+05, 2.43870969e+05,\n",
              "        1.76635391e+05, 1.28514625e+05, 1.04860984e+05, 1.49497969e+05,\n",
              "        2.62201750e+05, 2.46140250e+05, 2.45964297e+05, 2.65597250e+05,\n",
              "        4.55360352e+04, 9.45604531e+04, 1.15617203e+05, 2.78312219e+05,\n",
              "        3.78261000e+05, 2.47546547e+05, 1.58093031e+05, 1.86912531e+05,\n",
              "        1.05415570e+05, 1.63618031e+05, 2.62885594e+05, 4.22368688e+05,\n",
              "        5.98057688e+05, 3.63564594e+05, 8.52612891e+04, 5.62297578e+04,\n",
              "        5.64013203e+04, 4.32476172e+04, 6.02724883e+04, 7.87135000e+04,\n",
              "        9.20993594e+04, 2.69182531e+05, 1.77177703e+05, 1.62049422e+05,\n",
              "        1.08113055e+05, 6.58719219e+04, 4.91923750e+04, 1.38287000e+05,\n",
              "        2.28443406e+05, 4.03510469e+05, 6.04863562e+05, 7.91958625e+05,\n",
              "        4.06700031e+05, 1.69050641e+05, 1.05794820e+05, 1.93872781e+05,\n",
              "        3.32831656e+05, 4.13538812e+05, 4.79059406e+05, 6.04851625e+05,\n",
              "        1.28775112e+06, 1.17242338e+06, 9.25709625e+05, 2.52336016e+05,\n",
              "        7.72002266e+04, 3.22174062e+04, 1.47563467e+04, 1.44622375e+05,\n",
              "        2.16355453e+05, 3.47372938e+05, 4.91512938e+05, 2.13376450e+06,\n",
              "        4.33681950e+06, 6.68669950e+06, 5.71856100e+06, 6.34123850e+06,\n",
              "        6.50360400e+06, 7.50607750e+06, 1.95054088e+06, 5.74281688e+05,\n",
              "        1.70691109e+05, 1.86185266e+05, 3.51426094e+05, 2.56000828e+05,\n",
              "        3.03146844e+05, 1.44911281e+05, 1.40267297e+05, 9.39007891e+04,\n",
              "        1.79495406e+05, 1.33318578e+05, 1.91396297e+05, 2.37788766e+05,\n",
              "        2.54612891e+05, 1.88423234e+05, 6.45067773e+04, 3.48412594e+05,\n",
              "        4.63507062e+05, 1.91857094e+05, 1.31832766e+05, 3.72434570e+04,\n",
              "        8.73775859e+04, 9.42549609e+04, 8.00649844e+04, 3.71977062e+05,\n",
              "        2.34650453e+05, 4.03166250e+05, 2.54001000e+05, 1.78174250e+05,\n",
              "        3.59617891e+04, 4.23107461e+04, 4.35881680e+04, 3.89300547e+04,\n",
              "        8.78269844e+04, 7.02444375e+04, 5.22100703e+04, 7.15229844e+04,\n",
              "        9.04448828e+04, 1.07205234e+05, 2.33768125e+05, 6.10066312e+05,\n",
              "        4.38371562e+05, 5.70709812e+05, 9.24007438e+05, 9.16946062e+05,\n",
              "        9.95970625e+05, 1.09574062e+06, 2.70085562e+05, 1.56929609e+05,\n",
              "        2.04222828e+05, 1.71927219e+05, 1.84408391e+05, 2.38900766e+05,\n",
              "        3.21866031e+05, 4.04589688e+05, 7.09141562e+05, 1.18730238e+06,\n",
              "        9.69990688e+05, 1.78041875e+05, 2.28051641e+05, 5.01537688e+05,\n",
              "        1.33028188e+05, 1.06126461e+05, 1.73306641e+05, 1.32258688e+05,\n",
              "        2.89721812e+05, 3.34136344e+05, 6.15706188e+05, 5.16280000e+05,\n",
              "        2.27434422e+05, 7.18243516e+04, 9.99303828e+04, 6.41904570e+04,\n",
              "        3.03295688e+05, 5.18248281e+05, 4.73855688e+05, 2.39499953e+05,\n",
              "        1.56204844e+05, 5.18307617e+04, 1.40136625e+05, 1.60161234e+05,\n",
              "        5.65134023e+04, 4.83030977e+04, 1.82959078e+05, 1.31073031e+05,\n",
              "        1.05083555e+05, 1.21658648e+05, 1.80021500e+05, 2.60977094e+05,\n",
              "        3.43791031e+05, 6.90233828e+04, 6.82447422e+04, 7.61157344e+04,\n",
              "        8.90632734e+04, 1.00263578e+05, 6.02573750e+04, 4.30987578e+04,\n",
              "        5.47275977e+04, 6.82334766e+04, 6.22185820e+04, 1.21400602e+05,\n",
              "        1.64804953e+05, 4.18311906e+05, 1.31851391e+05, 1.51467984e+05,\n",
              "        3.50772266e+04, 3.08504707e+04, 3.65535664e+04, 1.78719512e+04,\n",
              "        3.26978750e+04, 2.91143613e+04, 1.64492051e+04, 2.72871230e+04,\n",
              "        1.78300430e+04, 2.29878066e+04, 2.36720684e+04, 4.78895352e+04,\n",
              "        7.92381719e+04, 6.56302969e+04, 6.43201523e+04, 3.92078945e+04,\n",
              "        3.60639336e+04, 5.28394609e+04, 6.22674453e+04, 2.01628730e+04,\n",
              "        2.18173789e+04, 2.96644238e+04, 5.54061289e+04, 8.15400703e+04,\n",
              "        5.73768375e+05, 7.52361812e+05, 1.03149969e+06, 1.11344275e+06,\n",
              "        1.45356088e+06, 1.84982875e+06, 1.62562112e+06, 2.99497594e+05,\n",
              "        9.86431094e+04, 7.24506328e+04, 5.44633750e+04, 1.00448852e+05,\n",
              "        2.34823953e+05, 3.15705117e+04, 1.31051348e+04, 5.20708555e+04,\n",
              "        9.51685234e+04, 1.71260672e+05, 1.76705141e+05, 1.75066000e+05,\n",
              "        1.30967445e+05, 1.36410656e+05, 3.31008516e+04, 7.25373047e+04,\n",
              "        8.94063203e+04, 9.96710781e+04, 9.33334141e+04, 1.78469359e+05,\n",
              "        3.07620969e+05, 5.05896500e+05, 2.31638297e+05, 2.26233578e+05,\n",
              "        1.04214773e+05, 1.67968578e+05, 2.51427266e+05, 1.41960609e+05,\n",
              "        4.46106133e+04, 2.80314375e+04, 1.66502828e+05, 3.72488438e+05,\n",
              "        7.11972875e+05, 1.21217612e+06, 1.70830800e+06, 2.74878400e+06,\n",
              "        2.24531625e+06, 1.06792462e+06, 4.72747844e+05, 4.03116445e+04,\n",
              "        4.01293438e+04, 3.79464297e+04, 7.49738516e+04, 1.51889453e+05,\n",
              "        1.46881109e+05, 1.41476047e+05, 1.37568797e+05, 9.94823828e+04,\n",
              "        4.90931328e+04, 1.07953133e+05, 2.62529188e+05, 3.80090594e+05,\n",
              "        2.69971438e+05, 3.95306531e+05, 1.91587359e+05, 6.10347070e+04,\n",
              "        9.84536523e+03, 8.33980000e+04, 3.94629805e+04, 6.72329219e+04,\n",
              "        8.97964844e+04, 1.38580406e+05, 1.93681625e+05, 1.50139500e+05,\n",
              "        1.17989148e+05, 7.90158672e+04, 1.74503340e+04, 6.54885195e+04,\n",
              "        1.06568336e+05, 1.93898672e+05, 2.66927312e+05, 3.71871438e+05,\n",
              "        3.09971719e+05, 2.14294297e+05, 4.08269648e+04, 5.39540703e+04,\n",
              "        1.45797141e+05, 6.69611016e+04, 3.00391281e+05, 5.30593000e+05,\n",
              "        7.30279812e+05, 1.27599212e+06, 1.49041112e+06, 1.36324762e+06,\n",
              "        1.42599638e+06, 1.61991406e+05, 7.31900547e+04, 6.50004609e+04,\n",
              "        6.25924102e+04, 4.21855977e+04, 9.48701641e+04, 9.71760234e+04,\n",
              "        3.77075586e+04, 3.79491031e+05, 6.85683562e+05, 6.77626375e+05,\n",
              "        9.24232125e+05, 1.30317688e+06, 1.29866138e+06, 1.31301488e+06,\n",
              "        3.00820656e+05, 2.49680172e+05, 1.45606969e+05, 8.96314766e+04,\n",
              "        2.84344406e+05, 7.92355438e+05, 8.69874875e+05, 7.52859875e+05,\n",
              "        1.23031088e+06, 1.69017288e+06, 3.20659825e+06, 2.15328775e+06,\n",
              "        1.00013931e+06, 2.01653969e+05, 3.46580906e+05, 1.22055138e+06,\n",
              "        1.72956875e+06, 2.14656950e+06, 2.08968300e+06, 2.19090475e+06,\n",
              "        1.55301325e+06, 4.51113281e+05, 1.44550962e+06, 1.60792200e+06,\n",
              "        1.64248338e+06, 1.11728336e+05, 1.51559969e+05, 5.92175438e+05,\n",
              "        1.02208094e+06, 8.30448625e+05, 9.84209625e+05, 7.19936625e+05,\n",
              "        5.85739062e+05, 4.23874562e+05, 8.29204375e+05, 3.47177200e+06,\n",
              "        7.85011150e+06, 1.01267440e+07, 1.17778870e+07, 1.22153870e+07,\n",
              "        1.21424160e+07, 5.22596900e+06, 9.18988000e+05, 5.69699562e+05,\n",
              "        1.19695688e+06, 1.69924138e+06, 2.20005800e+06, 3.26199950e+06,\n",
              "        7.47497850e+06, 9.79911900e+06, 9.34800800e+06, 8.61116400e+06,\n",
              "        9.85298400e+06, 9.88287300e+06, 1.52650420e+07, 1.55020080e+07,\n",
              "        2.41367400e+07, 3.40838880e+07, 2.72942580e+07, 1.87783960e+07,\n",
              "        2.22959240e+07, 1.28092260e+07, 7.83494000e+06, 1.11045620e+07,\n",
              "        2.67582860e+07, 4.11558080e+07, 3.26633280e+07, 4.02501825e+06,\n",
              "        1.26935800e+06, 2.18851075e+06, 1.41777670e+07, 1.92617300e+07,\n",
              "        1.89313320e+07, 1.93533140e+07, 1.64838700e+07, 2.07189400e+07,\n",
              "        2.07070860e+07, 2.94198250e+06, 2.40052775e+06, 2.08667488e+06,\n",
              "        1.43392938e+06, 2.08274138e+06, 4.88860000e+06, 1.45955860e+07,\n",
              "        1.41876990e+07, 7.10640000e+06, 8.67843500e+06, 1.05046640e+07,\n",
              "        2.76488540e+07, 3.91215360e+07, 3.07779660e+07, 3.20619100e+07,\n",
              "        4.29867400e+07, 3.79399720e+07, 6.28224440e+07, 2.14014080e+07,\n",
              "        2.16509325e+06, 4.27126500e+06, 3.20895375e+06, 8.40772600e+06,\n",
              "        8.32767200e+06, 1.35995770e+07, 8.68699800e+06, 1.38218930e+07,\n",
              "        9.35542100e+06, 1.46458000e+07, 5.11585080e+07, 7.22189200e+07,\n",
              "        1.20866048e+08, 9.80697040e+07, 3.51284920e+07, 1.89094940e+07,\n",
              "        7.47388250e+06, 1.71309038e+06, 3.99108575e+06, 1.30882640e+07,\n",
              "        8.04730650e+06, 9.90986700e+06, 1.34595390e+07, 1.94641000e+07,\n",
              "        3.09804940e+07, 4.55508440e+07, 3.97964680e+07, 2.88292680e+07,\n",
              "        1.82827420e+07, 6.89292450e+06, 2.95355250e+06, 3.49417200e+06,\n",
              "        5.10860100e+06, 1.11360140e+07, 8.59380600e+06, 8.09439900e+06,\n",
              "        1.80689380e+07, 3.11911860e+07, 4.51707200e+07, 3.85350600e+07,\n",
              "        3.34902280e+07, 4.48780250e+06, 5.15686650e+06, 6.86507450e+06,\n",
              "        1.27413870e+07, 1.70229580e+07, 3.47110125e+06, 5.17515300e+06,\n",
              "        2.33242525e+06, 3.47091406e+05, 2.41795750e+06, 3.33438600e+06,\n",
              "        1.78050062e+06, 1.14804275e+06, 1.93823000e+06, 2.54451800e+06,\n",
              "        2.63922050e+06, 6.28955750e+06, 1.09251200e+07, 1.27889410e+07,\n",
              "        6.56804300e+06, 7.73606450e+06, 1.18359390e+07, 2.46947380e+07,\n",
              "        4.91095240e+07, 7.21051680e+07, 9.80516000e+07, 8.62687120e+07,\n",
              "        5.67445040e+07, 3.45585680e+07, 2.92979680e+07, 1.05658510e+07,\n",
              "        5.24062950e+06, 8.01899300e+06, 1.77642720e+07, 3.74822800e+07,\n",
              "        1.45949180e+07, 2.52872975e+06, 4.35093250e+06, 4.64712500e+06,\n",
              "        2.97257225e+06, 5.67617900e+06, 3.08266775e+06, 5.06808400e+06,\n",
              "        5.25398100e+06, 5.54337500e+06, 1.29792140e+07, 2.89912680e+07,\n",
              "        5.42483440e+07, 7.50113040e+07, 9.15218320e+07], dtype=float32),\n",
              " 'rmse': array([  644.1807  ,   429.2105  ,   440.59158 ,   514.2613  ,\n",
              "          566.8576  ,   680.18463 ,   688.9883  ,   632.9808  ,\n",
              "          730.4975  ,   856.4414  ,   999.7681  ,   942.06525 ,\n",
              "          849.74365 ,   886.506   ,   646.8547  ,   350.67963 ,\n",
              "          218.4337  ,   217.4463  ,   294.36615 ,   310.5474  ,\n",
              "          164.95241 ,   254.87567 ,   291.69373 ,   352.6787  ,\n",
              "          247.19563 ,   210.33104 ,   163.28171 ,   215.02647 ,\n",
              "          200.4416  ,   281.0814  ,   379.3025  ,   453.65332 ,\n",
              "          379.18643 ,   442.8799  ,   438.69168 ,   379.38754 ,\n",
              "          441.73993 ,   388.59198 ,   307.79794 ,   198.1964  ,\n",
              "          400.7384  ,    99.94324 ,   133.79906 ,   138.33038 ,\n",
              "          168.91125 ,    66.02495 ,   107.88205 ,   149.68636 ,\n",
              "          182.58003 ,   197.80959 ,   209.26491 ,   203.2394  ,\n",
              "          255.27887 ,   206.79417 ,   322.0029  ,   415.54147 ,\n",
              "          547.4142  ,   561.7482  ,   523.11774 ,   493.83295 ,\n",
              "          420.28012 ,   358.48938 ,   323.82245 ,   386.64966 ,\n",
              "          512.0564  ,   496.12524 ,   495.94788 ,   515.36127 ,\n",
              "          213.39174 ,   307.50684 ,   340.0253  ,   527.55304 ,\n",
              "          615.0293  ,   497.5405  ,   397.60913 ,   432.33383 ,\n",
              "          324.67764 ,   404.49725 ,   512.7237  ,   649.899   ,\n",
              "          773.3419  ,   602.9632  ,   291.99536 ,   237.12814 ,\n",
              "          237.48962 ,   207.96062 ,   245.50456 ,   280.55927 ,\n",
              "          303.47876 ,   518.82806 ,   420.9248  ,   402.55362 ,\n",
              "          328.8055  ,   256.65527 ,   221.79355 ,   371.8696  ,\n",
              "          477.95755 ,   635.22473 ,   777.72974 ,   889.9206  ,\n",
              "          637.73035 ,   411.15768 ,   325.26117 ,   440.30988 ,\n",
              "          576.91565 ,   643.0698  ,   692.1412  ,   777.72205 ,\n",
              "         1134.7913  ,  1082.785   ,   962.13806 ,   502.3306  ,\n",
              "          277.84927 ,   179.49208 ,   121.4757  ,   380.29248 ,\n",
              "          465.14026 ,   589.38354 ,   701.07983 ,  1460.7411  ,\n",
              "         2082.5032  ,  2585.8652  ,  2391.3513  ,  2518.1816  ,\n",
              "         2550.2166  ,  2739.7222  ,  1396.6177  ,   757.8138  ,\n",
              "          413.1478  ,   431.4919  ,   592.812   ,   505.96524 ,\n",
              "          550.5877  ,   380.67215 ,   374.52277 ,   306.43234 ,\n",
              "          423.66898 ,   365.12817 ,   437.48862 ,   487.6359  ,\n",
              "          504.5918  ,   434.07745 ,   253.98184 ,   590.26483 ,\n",
              "          680.81354 ,   438.01495 ,   363.08783 ,   192.98564 ,\n",
              "          295.597   ,   307.0097  ,   282.95758 ,   609.89923 ,\n",
              "          484.40732 ,   634.95374 ,   503.9851  ,   422.1069  ,\n",
              "          189.63594 ,   205.69576 ,   208.7778  ,   197.307   ,\n",
              "          296.35617 ,   265.03668 ,   228.49522 ,   267.4378  ,\n",
              "          300.74057 ,   327.42212 ,   483.49573 ,   781.06744 ,\n",
              "          662.0963  ,   755.45337 ,   961.25305 ,   957.573   ,\n",
              "          997.9833  ,  1046.7762  ,   519.6976  ,   396.14343 ,\n",
              "          451.9102  ,   414.64108 ,   429.42798 ,   488.77475 ,\n",
              "          567.3324  ,   636.07367 ,   842.1054  ,  1089.634   ,\n",
              "          984.88104 ,   421.95007 ,   477.54752 ,   708.19324 ,\n",
              "          364.7303  ,   325.77057 ,   416.30115 ,   363.6739  ,\n",
              "          538.2581  ,   578.0453  ,   784.6695  ,   718.52625 ,\n",
              "          476.90085 ,   268.00064 ,   316.11768 ,   253.35835 ,\n",
              "          550.7229  ,   719.89465 ,   688.37177 ,   489.38733 ,\n",
              "          395.22757 ,   227.6637  ,   374.34827 ,   400.20148 ,\n",
              "          237.72548 ,   219.77966 ,   427.73715 ,   362.0401  ,\n",
              "          324.16592 ,   348.796   ,   424.2894  ,   510.85916 ,\n",
              "          586.337   ,   262.72302 ,   261.23694 ,   275.8908  ,\n",
              "          298.4347  ,   316.64426 ,   245.47377 ,   207.6024  ,\n",
              "          233.9393  ,   261.2154  ,   249.43652 ,   348.4259  ,\n",
              "          405.96176 ,   646.7704  ,   363.11346 ,   389.18887 ,\n",
              "          187.28915 ,   175.64302 ,   191.18987 ,   133.68602 ,\n",
              "          180.82553 ,   170.6293  ,   128.25446 ,   165.18814 ,\n",
              "          133.52919 ,   151.61731 ,   153.8573  ,   218.83678 ,\n",
              "          281.49277 ,   256.1841  ,   253.61418 ,   198.00984 ,\n",
              "          189.90506 ,   229.86836 ,   249.53445 ,   141.99603 ,\n",
              "          147.70708 ,   172.23363 ,   235.38507 ,   285.55222 ,\n",
              "          757.475   ,   867.38794 ,  1015.62775 ,  1055.198   ,\n",
              "         1205.6371  ,  1360.0841  ,  1274.9985  ,   547.26373 ,\n",
              "          314.075   ,   269.16656 ,   233.3739  ,   316.93668 ,\n",
              "          484.58636 ,   177.68092 ,   114.47766 ,   228.1904  ,\n",
              "          308.49396 ,   413.83652 ,   420.3631  ,   418.4089  ,\n",
              "          361.89426 ,   369.33813 ,   181.9364  ,   269.3275  ,\n",
              "          299.0089  ,   315.70728 ,   305.5052  ,   422.45633 ,\n",
              "          554.63586 ,   711.26404 ,   481.28818 ,   475.64017 ,\n",
              "          322.82312 ,   409.8397  ,   501.42523 ,   376.7766  ,\n",
              "          211.21225 ,   167.42592 ,   408.04758 ,   610.3183  ,\n",
              "          843.78485 ,  1100.9886  ,  1307.0226  ,  1657.9457  ,\n",
              "         1498.438   ,  1033.4044  ,   687.5666  ,   200.7776  ,\n",
              "          200.3231  ,   194.79843 ,   273.81354 ,   389.72998 ,\n",
              "          383.2507  ,   376.13303 ,   370.90268 ,   315.4083  ,\n",
              "          221.5697  ,   328.56223 ,   512.37604 ,   616.5149  ,\n",
              "          519.58777 ,   628.7341  ,   437.70694 ,   247.05203 ,\n",
              "           99.223816,   288.7871  ,   198.65291 ,   259.29312 ,\n",
              "          299.6606  ,   372.2639  ,   440.09274 ,   387.4784  ,\n",
              "          343.49548 ,   281.09763 ,   132.09972 ,   255.90724 ,\n",
              "          326.44806 ,   440.33926 ,   516.6501  ,   609.8126  ,\n",
              "          556.75104 ,   462.9193  ,   202.05684 ,   232.28015 ,\n",
              "          381.83392 ,   258.76843 ,   548.07965 ,   728.41815 ,\n",
              "          854.5641  ,  1129.5983  ,  1220.824   ,  1167.5819  ,\n",
              "         1194.1509  ,   402.48157 ,   270.5366  ,   254.95187 ,\n",
              "          250.18475 ,   205.39133 ,   308.01    ,   311.73068 ,\n",
              "          194.18434 ,   616.02844 ,   828.0601  ,   823.18066 ,\n",
              "          961.36993 ,  1141.5677  ,  1139.5883  ,  1145.8687  ,\n",
              "          548.4712  ,   499.68008 ,   381.5848  ,   299.38516 ,\n",
              "          533.23956 ,   890.1435  ,   932.67084 ,   867.675   ,\n",
              "         1109.1938  ,  1300.0665  ,  1790.6978  ,  1467.4086  ,\n",
              "         1000.06964 ,   449.059   ,   588.71124 ,  1104.7856  ,\n",
              "         1315.1307  ,  1465.1176  ,  1445.5736  ,  1480.1705  ,\n",
              "         1246.1995  ,   671.64966 ,  1202.2935  ,  1268.0387  ,\n",
              "         1281.5941  ,   334.25787 ,   389.30704 ,   769.52936 ,\n",
              "         1010.98016 ,   911.28955 ,   992.0734  ,   848.4908  ,\n",
              "          765.33594 ,   651.0565  ,   910.60657 ,  1863.2692  ,\n",
              "         2801.805   ,  3182.2546  ,  3431.8926  ,  3495.0518  ,\n",
              "         3484.597   ,  2286.0378  ,   958.6386  ,   754.7844  ,\n",
              "         1094.0553  ,  1303.5496  ,  1483.2593  ,  1806.1006  ,\n",
              "         2734.0408  ,  3130.3545  ,  3057.4512  ,  2934.4785  ,\n",
              "         3138.9463  ,  3143.7036  ,  3907.0503  ,  3937.259   ,\n",
              "         4912.9155  ,  5838.1406  ,  5224.3906  ,  4333.405   ,\n",
              "         4721.856   ,  3578.9978  ,  2799.0962  ,  3332.3508  ,\n",
              "         5172.8413  ,  6415.2793  ,  5715.184   ,  2006.2449  ,\n",
              "         1126.6578  ,  1479.3616  ,  3765.3376  ,  4388.819   ,\n",
              "         4351.015   ,  4399.24    ,  4060.0332  ,  4551.806   ,\n",
              "         4550.504   ,  1715.2208  ,  1549.3636  ,  1444.5327  ,\n",
              "         1197.4679  ,  1443.1707  ,  2211.0178  ,  3820.417   ,\n",
              "         3766.6562  ,  2665.7832  ,  2945.9185  ,  3241.0898  ,\n",
              "         5258.218   ,  6254.721   ,  5547.789   ,  5662.3237  ,\n",
              "         6556.4272  ,  6159.543   ,  7926.061   ,  4626.1655  ,\n",
              "         1471.4255  ,  2066.7039  ,  1791.3552  ,  2899.608   ,\n",
              "         2885.7705  ,  3687.7605  ,  2947.3713  ,  3717.7808  ,\n",
              "         3058.6633  ,  3826.9832  ,  7152.5176  ,  8498.172   ,\n",
              "        10993.909   ,  9903.015   ,  5926.929   ,  4348.505   ,\n",
              "         2733.8403  ,  1308.8508  ,  1997.7701  ,  3617.7705  ,\n",
              "         2836.7776  ,  3147.9941  ,  3668.7244  ,  4411.8135  ,\n",
              "         5566.012   ,  6749.1367  ,  6308.4443  ,  5369.2896  ,\n",
              "         4275.8325  ,  2625.438   ,  1718.5902  ,  1869.2704  ,\n",
              "         2260.2214  ,  3337.0667  ,  2931.5193  ,  2845.0657  ,\n",
              "         4250.7573  ,  5584.9067  ,  6720.9165  ,  6207.6616  ,\n",
              "         5787.074   ,  2118.4434  ,  2270.8735  ,  2620.1287  ,\n",
              "         3569.508   ,  4125.8887  ,  1863.0891  ,  2274.8962  ,\n",
              "         1527.2279  ,   589.14465 ,  1554.9783  ,  1826.0302  ,\n",
              "         1334.354   ,  1071.4675  ,  1392.2032  ,  1595.1545  ,\n",
              "         1624.5677  ,  2507.899   ,  3305.317   ,  3576.1628  ,\n",
              "         2562.8193  ,  2781.3782  ,  3440.3398  ,  4969.38    ,\n",
              "         7007.819   ,  8491.477   ,  9902.101   ,  9288.095   ,\n",
              "         7532.895   ,  5878.654   ,  5412.76    ,  3250.5154  ,\n",
              "         2289.2422  ,  2831.7827  ,  4214.7686  ,  6122.2773  ,\n",
              "         3820.3296  ,  1590.198   ,  2085.889   ,  2155.7192  ,\n",
              "         1724.1149  ,  2382.4734  ,  1755.7528  ,  2251.2405  ,\n",
              "         2292.1565  ,  2354.4373  ,  3602.6677  ,  5384.354   ,\n",
              "         7365.3477  ,  8660.906   ,  9566.704   ], dtype=float32),\n",
              " 'mape': array([ 6.947087  ,  3.9877164 ,  4.729988  ,  5.489749  ,  5.793482  ,\n",
              "         7.1874804 ,  7.3921432 ,  6.713205  ,  7.469225  ,  9.524735  ,\n",
              "        11.872709  , 11.107242  , 10.921043  , 11.8306055 ,  8.716866  ,\n",
              "         3.9592    ,  2.4724624 ,  2.4437609 ,  3.0307164 ,  3.6025314 ,\n",
              "         1.7236063 ,  2.788742  ,  3.5883372 ,  4.3989773 ,  2.9153554 ,\n",
              "         2.3605509 ,  1.9725312 ,  2.1901298 ,  2.4258285 ,  3.2549322 ,\n",
              "         4.9979935 ,  5.935264  ,  4.5911126 ,  5.011224  ,  4.53599   ,\n",
              "         4.4925027 ,  5.3258443 ,  4.2882032 ,  3.4747937 ,  2.2090135 ,\n",
              "         4.759868  ,  1.2508214 ,  1.3589407 ,  1.28265   ,  1.9932363 ,\n",
              "         0.7181391 ,  1.4423544 ,  1.9904454 ,  2.1097274 ,  2.0520537 ,\n",
              "         2.3460307 ,  2.5646    ,  3.2083962 ,  2.3130548 ,  3.165584  ,\n",
              "         4.006492  ,  6.3463078 ,  6.2751822 ,  5.8816013 ,  6.0084677 ,\n",
              "         4.8788366 ,  2.9146016 ,  2.4272544 ,  3.3398483 ,  4.7519627 ,\n",
              "         5.1387334 ,  5.2725935 ,  5.464711  ,  2.0575688 ,  2.8967998 ,\n",
              "         3.4756954 ,  5.5372963 ,  6.7945085 ,  5.134801  ,  4.1133137 ,\n",
              "         4.471261  ,  3.1420577 ,  3.6030602 ,  4.6290603 ,  6.4163313 ,\n",
              "         8.1431675 ,  6.3382773 ,  2.827969  ,  2.0833638 ,  2.1828399 ,\n",
              "         1.7137977 ,  1.810052  ,  2.3280542 ,  2.6070948 ,  4.9468083 ,\n",
              "         3.7470717 ,  3.7629325 ,  2.9473677 ,  2.3315306 ,  1.8064559 ,\n",
              "         3.440369  ,  3.84925   ,  5.698814  ,  7.1873627 ,  8.633038  ,\n",
              "         6.049961  ,  3.7871275 ,  2.9587352 ,  4.1019607 ,  4.7178197 ,\n",
              "         5.085356  ,  6.1413245 ,  7.638191  , 11.6786175 , 11.58697   ,\n",
              "        10.889278  ,  5.354334  ,  2.5227292 ,  1.3243601 ,  1.1665279 ,\n",
              "         3.7153296 ,  4.2423973 ,  5.6840625 ,  7.7511797 , 15.955456  ,\n",
              "        25.916195  , 36.738033  , 35.581707  , 40.367344  , 43.622814  ,\n",
              "        50.598423  , 25.12785   , 12.503735  ,  6.6583686 ,  5.80208   ,\n",
              "         8.388967  ,  6.19001   ,  7.748593  ,  4.4441094 ,  4.31355   ,\n",
              "         4.0866113 ,  6.1948843 ,  4.8298764 ,  5.9905505 ,  6.097057  ,\n",
              "         6.0307775 ,  5.394688  ,  3.610309  ,  8.012489  ,  9.3616705 ,\n",
              "         5.649166  ,  4.6532965 ,  2.4600244 ,  3.845619  ,  3.2984335 ,\n",
              "         3.7652147 ,  8.025672  ,  6.149927  ,  8.435661  ,  6.6268444 ,\n",
              "         5.982267  ,  2.391847  ,  2.6271791 ,  2.7757795 ,  2.4579341 ,\n",
              "         3.232029  ,  3.2688427 ,  2.8902428 ,  3.4487586 ,  3.726513  ,\n",
              "         3.6736224 ,  6.102688  ,  8.168468  ,  5.6610737 ,  6.4894805 ,\n",
              "         8.949928  ,  9.585223  , 10.732162  , 11.748926  ,  5.138566  ,\n",
              "         2.274746  ,  3.4220366 ,  3.6305275 ,  3.9239147 ,  4.377114  ,\n",
              "         5.8173604 ,  6.001722  ,  7.6273212 , 11.298086  , 10.253886  ,\n",
              "         3.6347418 ,  4.6836376 ,  7.0731497 ,  3.2282858 ,  3.010548  ,\n",
              "         3.2277465 ,  3.3209596 ,  5.051901  ,  5.844009  ,  7.82421   ,\n",
              "         7.5397296 ,  4.7343335 ,  2.6083152 ,  3.1228664 ,  2.3014889 ,\n",
              "         4.2581816 ,  6.81231   ,  6.639197  ,  4.092375  ,  2.398881  ,\n",
              "         1.6835806 ,  2.3739147 ,  4.029792  ,  2.1141717 ,  2.1252232 ,\n",
              "         3.9422352 ,  2.7654507 ,  2.9436643 ,  2.852098  ,  3.7762563 ,\n",
              "         5.0641365 ,  6.150019  ,  2.5345776 ,  2.5167477 ,  2.252483  ,\n",
              "         2.623559  ,  2.7965126 ,  2.2853339 ,  1.9486878 ,  2.1905246 ,\n",
              "         2.3143928 ,  2.407586  ,  3.0970883 ,  4.13849   ,  6.895644  ,\n",
              "         3.66571   ,  3.902587  ,  1.807647  ,  1.6940588 ,  1.7595131 ,\n",
              "         1.1896747 ,  1.662763  ,  1.5846931 ,  1.1921325 ,  1.5332222 ,\n",
              "         1.1366113 ,  1.266369  ,  1.388745  ,  2.0767076 ,  2.8622658 ,\n",
              "         2.2972312 ,  2.4935257 ,  2.0264404 ,  1.8798513 ,  2.3474095 ,\n",
              "         2.3034072 ,  1.2728565 ,  1.3625919 ,  1.7551264 ,  2.1437287 ,\n",
              "         2.3233356 ,  5.281921  ,  6.074332  ,  6.9745317 ,  7.6686344 ,\n",
              "         9.6281185 , 11.436547  , 11.152796  ,  4.2210507 ,  2.1041195 ,\n",
              "         2.0974371 ,  1.829027  ,  2.3011658 ,  3.7953455 ,  1.1252761 ,\n",
              "         0.713844  ,  1.5922878 ,  1.9498755 ,  2.9313395 ,  3.0742695 ,\n",
              "         2.9746    ,  2.6582177 ,  2.9792976 ,  1.3496193 ,  1.4636693 ,\n",
              "         1.7317531 ,  2.3499331 ,  2.0947258 ,  3.1994884 ,  4.303149  ,\n",
              "         5.8680854 ,  3.6407511 ,  3.3675642 ,  2.367513  ,  2.9758325 ,\n",
              "         4.044747  ,  3.1611893 ,  1.5761123 ,  0.88514227,  2.9324646 ,\n",
              "         4.1802588 ,  6.2745876 ,  8.651541  , 11.309125  , 15.158804  ,\n",
              "        14.184335  ,  9.695823  ,  6.6806564 ,  1.3283646 ,  1.5982196 ,\n",
              "         1.4289217 ,  1.9460237 ,  2.9893527 ,  2.9843998 ,  3.168849  ,\n",
              "         2.900013  ,  2.7914603 ,  1.8452343 ,  2.2846313 ,  3.9594083 ,\n",
              "         4.919464  ,  4.573864  ,  5.4061565 ,  3.6317878 ,  1.6281823 ,\n",
              "         0.81237423,  2.281759  ,  1.3918896 ,  1.8611919 ,  2.3157656 ,\n",
              "         3.1128016 ,  3.6856742 ,  3.4761336 ,  2.5729458 ,  1.8929276 ,\n",
              "         1.0658985 ,  1.6963044 ,  2.6626468 ,  3.0235903 ,  4.001974  ,\n",
              "         5.150772  ,  4.6592236 ,  3.7998412 ,  1.4233148 ,  1.5926645 ,\n",
              "         2.8639119 ,  1.991414  ,  3.0497346 ,  4.147459  ,  4.9697943 ,\n",
              "         7.3863096 ,  8.703685  ,  8.655622  ,  8.757701  ,  2.6428835 ,\n",
              "         1.8909255 ,  1.7077563 ,  1.5722351 ,  1.3248302 ,  1.6346111 ,\n",
              "         1.8326474 ,  1.1474493 ,  2.0200965 ,  3.758375  ,  4.110971  ,\n",
              "         4.896998  ,  6.8040633 ,  7.164893  ,  7.0844336 ,  2.444132  ,\n",
              "         2.678319  ,  2.2944317 ,  1.4702929 ,  2.5940905 ,  4.285946  ,\n",
              "         4.218862  ,  4.2596836 ,  5.316023  ,  6.246606  ,  9.441027  ,\n",
              "         7.8261757 ,  4.8700304 ,  2.1458516 ,  2.3631904 ,  4.124109  ,\n",
              "         5.600224  ,  6.9510484 ,  6.8875184 ,  6.7039213 ,  5.57425   ,\n",
              "         3.3423703 ,  5.5265007 ,  6.405397  ,  6.116048  ,  1.6688949 ,\n",
              "         1.7800765 ,  3.7044947 ,  4.942822  ,  4.1769896 ,  4.776203  ,\n",
              "         4.2744775 ,  3.5824318 ,  2.856757  ,  3.0992186 ,  6.041126  ,\n",
              "        11.081876  , 11.736549  , 13.045147  , 14.05242   , 14.849086  ,\n",
              "         9.656776  ,  3.610417  ,  2.4119492 ,  3.432972  ,  4.711535  ,\n",
              "         4.833346  ,  5.74826   ,  8.835547  , 10.604089  , 10.21336   ,\n",
              "         7.489399  ,  7.7134795 ,  8.335078  , 10.494153  ,  9.349034  ,\n",
              "        10.643496  , 12.980272  , 11.104996  ,  9.755412  , 10.663171  ,\n",
              "         7.885448  ,  6.8140583 ,  7.0287213 , 12.837813  , 16.882504  ,\n",
              "        15.567671  ,  4.9815755 ,  2.23735   ,  3.7776883 ,  9.838472  ,\n",
              "        11.233301  , 11.304047  , 11.446433  , 11.640445  , 13.211272  ,\n",
              "        13.9484005 ,  4.8703313 ,  3.7574317 ,  3.2409706 ,  3.0825784 ,\n",
              "         3.524745  ,  5.578053  , 10.217989  ,  9.380215  ,  6.092009  ,\n",
              "         6.7608175 ,  7.5603776 , 11.290152  , 11.964462  ,  9.761982  ,\n",
              "         9.823302  , 12.74309   , 12.122072  , 16.694181  ,  9.367383  ,\n",
              "         2.7556846 ,  2.674279  ,  2.7345881 ,  4.323286  ,  4.6725163 ,\n",
              "         5.4357195 ,  4.4673333 ,  6.2362237 ,  4.9987025 ,  6.7194686 ,\n",
              "        12.120821  , 15.872153  , 22.166185  , 20.67797   , 11.872469  ,\n",
              "         8.12271   ,  4.93185   ,  2.129047  ,  3.4196484 ,  7.029508  ,\n",
              "         4.79213   ,  4.8344364 ,  4.7055483 ,  6.601669  ,  8.79601   ,\n",
              "        10.455386  ,  9.725728  ,  8.778663  ,  6.8460984 ,  3.508478  ,\n",
              "         2.341464  ,  2.1981027 ,  3.586018  ,  5.5768757 ,  3.5632842 ,\n",
              "         3.930847  ,  5.990556  ,  8.472915  , 11.18126   , 10.643689  ,\n",
              "        10.369021  ,  3.0465353 ,  3.155223  ,  3.7899592 ,  5.8103213 ,\n",
              "         6.8390994 ,  2.9035895 ,  3.6327095 ,  2.1119285 ,  0.7592268 ,\n",
              "         2.3962903 ,  2.5847423 ,  2.1117833 ,  1.6183506 ,  2.076024  ,\n",
              "         1.711267  ,  2.0711493 ,  3.4407225 ,  4.657004  ,  5.0997357 ,\n",
              "         3.3784428 ,  4.2220583 ,  4.955527  ,  6.786699  , 10.744212  ,\n",
              "        13.861033  , 16.9052    , 16.460304  , 13.124159  , 10.386787  ,\n",
              "         9.7376585 ,  5.502361  ,  3.5322595 ,  4.6764517 ,  6.879907  ,\n",
              "        10.822373  ,  6.242183  ,  2.2782986 ,  3.480263  ,  3.321071  ,\n",
              "         2.359554  ,  3.4974236 ,  2.184877  ,  3.6111705 ,  2.860355  ,\n",
              "         3.2224097 ,  5.1439238 ,  7.867802  , 12.264395  , 15.28125   ,\n",
              "        18.082787  ], dtype=float32),\n",
              " 'mase': 2.1997616}"
            ]
          },
          "metadata": {},
          "execution_count": 76
        }
      ]
    },
    {
      "cell_type": "code",
      "source": [
        "model_3_preds.shape, model_2_preds.shape"
      ],
      "metadata": {
        "colab": {
          "base_uri": "https://localhost:8080/"
        },
        "id": "fPQfdGu7ACAx",
        "outputId": "bcbc44e8-b797-400f-ecaa-b3b2299c0a81"
      },
      "execution_count": 77,
      "outputs": [
        {
          "output_type": "execute_result",
          "data": {
            "text/plain": [
              "(TensorShape([551, 7]), TensorShape([545]))"
            ]
          },
          "metadata": {},
          "execution_count": 77
        }
      ]
    },
    {
      "cell_type": "code",
      "source": [
        "## Make our evaluation function work for large horizons\n",
        "\n",
        "def evaluate_preds(y_true, y_pred):\n",
        "  # Make sure float32 (for metric calculations)\n",
        "  y_true = tf.cast(y_true, dtype=tf.float32)\n",
        "  y_pred = tf.cast(y_pred, dtype=tf.float32)\n",
        "\n",
        "  # Calculate various metrics\n",
        "  mae = tf.keras.metrics.mean_absolute_error(y_true, y_pred)\n",
        "  mse = tf.keras.metrics.mean_squared_error(y_true, y_pred)\n",
        "  rmse = tf.sqrt(mse)\n",
        "  mape = tf.keras.metrics.mean_absolute_percentage_error(y_true, y_pred)\n",
        "  mase = mean_absolute_scaled_error(y_true, y_pred)\n",
        "\n",
        "  # Account for different sized metrics (for longer horizons, reduce to single number)\n",
        "  if mae.ndim > 0: # if mae isn't already a scalar, reduce it to one by aggregating tensors to mean\n",
        "    mae = tf.reduce_mean(mae)\n",
        "    mse = tf.reduce_mean(mse)\n",
        "    rmse = tf.reduce_mean(rmse)\n",
        "    mape = tf.reduce_mean(mape)\n",
        "    mase = tf.reduce_mean(mase)\n",
        "\n",
        "  return {\"mae\": mae.numpy(),\n",
        "          \"mse\": mse.numpy(),\n",
        "          \"rmse\": rmse.numpy(),\n",
        "          \"mape\": mape.numpy(),\n",
        "          \"mase\": mase.numpy()}\n",
        "     "
      ],
      "metadata": {
        "id": "3ace0mPMAU2Z"
      },
      "execution_count": 78,
      "outputs": []
    },
    {
      "cell_type": "code",
      "source": [
        "# Get model 3 values agregated\n",
        "model_3_results = evaluate_preds(y_true = tf.squeeze(test_labels),y_pred = model_3_preds)\n",
        "model_3_results"
      ],
      "metadata": {
        "colab": {
          "base_uri": "https://localhost:8080/"
        },
        "id": "4iKwL0dmB8Yx",
        "outputId": "3d69699e-0bd9-466b-f72b-1da250f400ce"
      },
      "execution_count": 79,
      "outputs": [
        {
          "output_type": "execute_result",
          "data": {
            "text/plain": [
              "{'mae': 1236.2075,\n",
              " 'mse': 5459194.0,\n",
              " 'rmse': 1421.6143,\n",
              " 'mape': 5.5906534,\n",
              " 'mase': 2.1997616}"
            ]
          },
          "metadata": {},
          "execution_count": 79
        }
      ]
    },
    {
      "cell_type": "code",
      "source": [
        "offset = 300\n",
        "plt.figure(figsize=(10,7))\n",
        "# Account for test_window offset while ploting\n",
        "plot_time_series(timesteps = x_test[-len(test_windows):], values = test_labels[:,0],start = offset,format=\"-\", label =\"Test Data\")\n",
        "plot_time_series(timesteps = x_test[-len(test_windows):], values=tf.reduce_mean(model_3_preds,axis = 1), start=offset, format=\"-\",label=\"model_3_preds\")"
      ],
      "metadata": {
        "colab": {
          "base_uri": "https://localhost:8080/",
          "height": 0
        },
        "id": "xOtTgaB4CILI",
        "outputId": "64ca7e44-ef04-4fd7-d17f-e99e782b698b"
      },
      "execution_count": 80,
      "outputs": [
        {
          "output_type": "display_data",
          "data": {
            "text/plain": [
              "<Figure size 720x504 with 1 Axes>"
            ],
            "image/png": "[encoded data removed]"
          },
          "metadata": {
            "needs_background": "light"
          }
        }
      ]
    },
    {
      "cell_type": "markdown",
      "source": [
        "## Which of our model is performing better so far\n",
        "\n",
        "\n"
      ],
      "metadata": {
        "id": "YtEnOCfREohm"
      }
    },
    {
      "cell_type": "code",
      "source": [
        "pd.DataFrame({\"naive\": naive_results[\"mae\"],\n",
        "             \"horizon_1_window_7\": model_1_results[\"mae\"],\n",
        "              \"horizon_1_window_30\":model_2_results[\"mae\"],\n",
        "             \"horizon_7_window_30\": model_3_results[\"mae\"]},index=[\"mae\"]).plot(figsize=(10,7),kind=\"bar\");"
      ],
      "metadata": {
        "colab": {
          "base_uri": "https://localhost:8080/",
          "height": 0
        },
        "id": "vXzAUrn6TUbd",
        "outputId": "6eea7da0-9f47-4a78-f073-2f88ba90f01d"
      },
      "execution_count": 81,
      "outputs": [
        {
          "output_type": "display_data",
          "data": {
            "text/plain": [
              "<Figure size 720x504 with 1 Axes>"
            ],
            "image/png": "[encoded data removed]"
          },
          "metadata": {
            "needs_background": "light"
          }
        }
      ]
    },
    {
      "cell_type": "markdown",
      "source": [
        "## Making model 4 CONVD"
      ],
      "metadata": {
        "id": "daXnr_qqUeLl"
      }
    },
    {
      "cell_type": "code",
      "source": [
        "HORIZON = 1\n",
        "WINDOW_SIZE = 7"
      ],
      "metadata": {
        "id": "ILvPTVCsaoYE"
      },
      "execution_count": 82,
      "outputs": []
    },
    {
      "cell_type": "code",
      "source": [
        "# Create window data\n",
        "full_windows,full_labels = make_windows(prices, window_size = WINDOW_SIZE, horizon = HORIZON)\n",
        "len(full_windows),len(full_labels)"
      ],
      "metadata": {
        "colab": {
          "base_uri": "https://localhost:8080/"
        },
        "id": "pTHCNa9E8Sbn",
        "outputId": "46eef018-b43a-4f55-d16b-0800dd93fb7c"
      },
      "execution_count": 83,
      "outputs": [
        {
          "output_type": "execute_result",
          "data": {
            "text/plain": [
              "(2780, 2780)"
            ]
          },
          "metadata": {},
          "execution_count": 83
        }
      ]
    },
    {
      "cell_type": "code",
      "source": [
        "# Create train/test sets\n",
        "train_windows,test_windows,train_labels,test_labels = make_train_test_split(full_windows,full_labels)\n"
      ],
      "metadata": {
        "id": "0tgAVlXxDkuN"
      },
      "execution_count": 84,
      "outputs": []
    },
    {
      "cell_type": "code",
      "source": [
        "len(train_windows),len(train_labels), len(test_windows),len(test_labels)"
      ],
      "metadata": {
        "colab": {
          "base_uri": "https://localhost:8080/"
        },
        "id": "SW4Pq8niJ_Hs",
        "outputId": "d6a75fd1-20a9-4b3f-8a1b-6e82dff2c198"
      },
      "execution_count": 85,
      "outputs": [
        {
          "output_type": "execute_result",
          "data": {
            "text/plain": [
              "(2224, 2224, 556, 556)"
            ]
          },
          "metadata": {},
          "execution_count": 85
        }
      ]
    },
    {
      "cell_type": "markdown",
      "source": [
        "To use the conv1D layer, We need an input shape of : '(batch_size,timesteps,input_dim)'...\n",
        "However our data isnt in that shape yet"
      ],
      "metadata": {
        "id": "gpAs2MFMKE-0"
      }
    },
    {
      "cell_type": "code",
      "source": [
        "# Check data input shape\n",
        "train_windows[0].shape"
      ],
      "metadata": {
        "colab": {
          "base_uri": "https://localhost:8080/"
        },
        "id": "yVE5-WqDLaLE",
        "outputId": "2a4ca579-0789-447d-f1ab-3f19e65420e8"
      },
      "execution_count": 86,
      "outputs": [
        {
          "output_type": "execute_result",
          "data": {
            "text/plain": [
              "(7,)"
            ]
          },
          "metadata": {},
          "execution_count": 86
        }
      ]
    },
    {
      "cell_type": "code",
      "source": [
        "# Before we pass our data to the con1D Layer we have to reshape it in order to make sure it works\n",
        "x = tf.constant(train_windows[0])\n",
        "x"
      ],
      "metadata": {
        "colab": {
          "base_uri": "https://localhost:8080/"
        },
        "id": "6X2NPCXXLc0M",
        "outputId": "a3cac592-053f-4d35-be92-16870fadc883"
      },
      "execution_count": 87,
      "outputs": [
        {
          "output_type": "execute_result",
          "data": {
            "text/plain": [
              "<tf.Tensor: shape=(7,), dtype=float64, numpy=\n",
              "array([123.65499, 125.455  , 108.58483, 118.67466, 121.33866, 120.65533,\n",
              "       121.795  ])>"
            ]
          },
          "metadata": {},
          "execution_count": 87
        }
      ]
    },
    {
      "cell_type": "code",
      "source": [
        "expand_dims_layer = layers.Lambda(lambda x: tf.expand_dims(x,axis=1)) # add extra dimenssion for the input dim\n"
      ],
      "metadata": {
        "id": "LKNMDUT1Mvdk"
      },
      "execution_count": 88,
      "outputs": []
    },
    {
      "cell_type": "code",
      "source": [
        "# Test out our lambda layer \n",
        "print(f\"Orignal shape: {x.shape}\")\n",
        "print(f\"Expanded shape: {expand_dims_layer(x).shape}\")\n",
        "print(f\"Orignal values with expanded shape: \\n{expand_dims_layer(x)}\")"
      ],
      "metadata": {
        "colab": {
          "base_uri": "https://localhost:8080/"
        },
        "id": "S0gwdHlqNU7s",
        "outputId": "8c26694e-76ba-41b2-8c71-c2c1ab6e5bc6"
      },
      "execution_count": 89,
      "outputs": [
        {
          "output_type": "stream",
          "name": "stdout",
          "text": [
            "Orignal shape: (7,)\n",
            "Expanded shape: (7, 1)\n",
            "Orignal values with expanded shape: \n",
            "[[123.65499]\n",
            " [125.455  ]\n",
            " [108.58483]\n",
            " [118.67466]\n",
            " [121.33866]\n",
            " [120.65533]\n",
            " [121.795  ]]\n"
          ]
        }
      ]
    },
    {
      "cell_type": "code",
      "source": [
        "# Create a con1D model\n",
        "tf.random.set_seed(42)\n",
        "\n",
        "model_4 = tf.keras.Sequential([\n",
        "    layers.Lambda(lambda x: tf.expand_dims(x,axis=1)),\n",
        "    layers.Conv1D(filters = 128,kernel_size =5 , strides = 1, padding=\"causal\",activation = \"relu\"),\n",
        "    layers.Dense(HORIZON)\n",
        "],name =\"model_4_conv1D\")\n",
        "\n",
        "# Compile model\n",
        "model_4.compile(loss=\"mae\",\n",
        "                optimizer = tf.keras.optimizers.Adam())\n",
        "#Fit\n",
        "model_4.fit(train_windows,\n",
        "            train_labels,\n",
        "            batch_size=128,\n",
        "            epochs=100,\n",
        "            verbose = 1,\n",
        "            validation_data=(test_windows,test_labels),\n",
        "            callbacks=[create_model_checkpoint(model_name = model_4.name)])"
      ],
      "metadata": {
        "colab": {
          "base_uri": "https://localhost:8080/"
        },
        "id": "VNgIVcNAOa-7",
        "outputId": "1d1fdfad-85ad-440a-e94a-bd2d28c383e5"
      },
      "execution_count": 90,
      "outputs": [
        {
          "output_type": "stream",
          "name": "stdout",
          "text": [
            "Epoch 1/100\n",
            " 1/18 [>.............................] - ETA: 8s - loss: 2845.7554"
          ]
        },
        {
          "output_type": "stream",
          "name": "stderr",
          "text": [
            "WARNING:absl:Found untraced functions such as _jit_compiled_convolution_op while saving (showing 1 of 1). These functions will not be directly callable after loading.\n"
          ]
        },
        {
          "output_type": "stream",
          "name": "stdout",
          "text": [
            "\b\b\b\b\b\b\b\b\b\b\b\b\b\b\b\b\b\b\b\b\b\b\b\b\b\b\b\b\b\b\b\b\b\b\b\b\b\b\b\b\b\b\b\b\b\b\b\b\b\b\b\b\b\b\b\b\b\b\b\b\b\b\b\b\b\b\r18/18 [==============================] - 1s 56ms/step - loss: 1207.3885 - val_loss: 2320.5459\n",
            "Epoch 2/100\n",
            " 1/18 [>.............................] - ETA: 0s - loss: 353.1842"
          ]
        },
        {
          "output_type": "stream",
          "name": "stderr",
          "text": [
            "WARNING:absl:Found untraced functions such as _jit_compiled_convolution_op while saving (showing 1 of 1). These functions will not be directly callable after loading.\n"
          ]
        },
        {
          "output_type": "stream",
          "name": "stdout",
          "text": [
            "\b\b\b\b\b\b\b\b\b\b\b\b\b\b\b\b\b\b\b\b\b\b\b\b\b\b\b\b\b\b\b\b\b\b\b\b\b\b\b\b\b\b\b\b\b\b\b\b\b\b\b\b\b\b\b\b\b\b\b\b\b\b\b\b\b\r18/18 [==============================] - 1s 45ms/step - loss: 316.2140 - val_loss: 1467.3311\n",
            "Epoch 3/100\n",
            " 1/18 [>.............................] - ETA: 0s - loss: 191.0313"
          ]
        },
        {
          "output_type": "stream",
          "name": "stderr",
          "text": [
            "WARNING:absl:Found untraced functions such as _jit_compiled_convolution_op while saving (showing 1 of 1). These functions will not be directly callable after loading.\n"
          ]
        },
        {
          "output_type": "stream",
          "name": "stdout",
          "text": [
            "\b\b\b\b\b\b\b\b\b\b\b\b\b\b\b\b\b\b\b\b\b\b\b\b\b\b\b\b\b\b\b\b\b\b\b\b\b\b\b\b\b\b\b\b\b\b\b\b\b\b\b\b\b\b\b\b\b\b\b\b\b\b\b\b\b\r18/18 [==============================] - 1s 47ms/step - loss: 192.6844 - val_loss: 1164.7461\n",
            "Epoch 4/100\n",
            " 1/18 [>.............................] - ETA: 0s - loss: 228.4323"
          ]
        },
        {
          "output_type": "stream",
          "name": "stderr",
          "text": [
            "WARNING:absl:Found untraced functions such as _jit_compiled_convolution_op while saving (showing 1 of 1). These functions will not be directly callable after loading.\n"
          ]
        },
        {
          "output_type": "stream",
          "name": "stdout",
          "text": [
            "\b\b\b\b\b\b\b\b\b\b\b\b\b\b\b\b\b\b\b\b\b\b\b\b\b\b\b\b\b\b\b\b\b\b\b\b\b\b\b\b\b\b\b\b\b\b\b\b\b\b\b\b\b\b\b\b\b\b\b\b\b\b\b\b\b\r18/18 [==============================] - 1s 44ms/step - loss: 177.3536 - val_loss: 981.6826\n",
            "Epoch 5/100\n",
            " 1/18 [>.............................] - ETA: 0s - loss: 169.5924"
          ]
        },
        {
          "output_type": "stream",
          "name": "stderr",
          "text": [
            "WARNING:absl:Found untraced functions such as _jit_compiled_convolution_op while saving (showing 1 of 1). These functions will not be directly callable after loading.\n"
          ]
        },
        {
          "output_type": "stream",
          "name": "stdout",
          "text": [
            "\b\b\b\b\b\b\b\b\b\b\b\b\b\b\b\b\b\b\b\b\b\b\b\b\b\b\b\b\b\b\b\b\b\b\b\b\b\b\b\b\b\b\b\b\b\b\b\b\b\b\b\b\b\b\b\b\b\b\b\b\b\b\b\b\b\r18/18 [==============================] - 1s 46ms/step - loss: 172.3469 - val_loss: 960.8795\n",
            "Epoch 6/100\n",
            " 1/18 [>.............................] - ETA: 0s - loss: 130.1247"
          ]
        },
        {
          "output_type": "stream",
          "name": "stderr",
          "text": [
            "WARNING:absl:Found untraced functions such as _jit_compiled_convolution_op while saving (showing 1 of 1). These functions will not be directly callable after loading.\n"
          ]
        },
        {
          "output_type": "stream",
          "name": "stdout",
          "text": [
            "\b\b\b\b\b\b\b\b\b\b\b\b\b\b\b\b\b\b\b\b\b\b\b\b\b\b\b\b\b\b\b\b\b\b\b\b\b\b\b\b\b\b\b\b\b\b\b\b\b\b\b\b\b\b\b\b\b\b\b\b\b\b\b\b\b\r18/18 [==============================] - 1s 43ms/step - loss: 171.9752 - val_loss: 950.1937\n",
            "Epoch 7/100\n",
            " 1/18 [>.............................] - ETA: 0s - loss: 209.6358"
          ]
        },
        {
          "output_type": "stream",
          "name": "stderr",
          "text": [
            "WARNING:absl:Found untraced functions such as _jit_compiled_convolution_op while saving (showing 1 of 1). These functions will not be directly callable after loading.\n"
          ]
        },
        {
          "output_type": "stream",
          "name": "stdout",
          "text": [
            "\b\b\b\b\b\b\b\b\b\b\b\b\b\b\b\b\b\b\b\b\b\b\b\b\b\b\b\b\b\b\b\b\b\b\b\b\b\b\b\b\b\b\b\b\b\b\b\b\b\b\b\b\b\b\b\b\b\b\b\b\b\b\b\b\b\r18/18 [==============================] - 1s 44ms/step - loss: 167.1943 - val_loss: 943.3042\n",
            "Epoch 8/100\n",
            " 1/18 [>.............................] - ETA: 0s - loss: 143.1064"
          ]
        },
        {
          "output_type": "stream",
          "name": "stderr",
          "text": [
            "WARNING:absl:Found untraced functions such as _jit_compiled_convolution_op while saving (showing 1 of 1). These functions will not be directly callable after loading.\n"
          ]
        },
        {
          "output_type": "stream",
          "name": "stdout",
          "text": [
            "\b\b\b\b\b\b\b\b\b\b\b\b\b\b\b\b\b\b\b\b\b\b\b\b\b\b\b\b\b\b\b\b\b\b\b\b\b\b\b\b\b\b\b\b\b\b\b\b\b\b\b\b\b\b\b\b\b\b\b\b\b\b\b\b\b\r18/18 [==============================] - 1s 44ms/step - loss: 163.5994 - val_loss: 905.5258\n",
            "Epoch 9/100\n",
            "18/18 [==============================] - 0s 3ms/step - loss: 162.5452 - val_loss: 929.7835\n",
            "Epoch 10/100\n",
            " 1/18 [>.............................] - ETA: 0s - loss: 176.2636"
          ]
        },
        {
          "output_type": "stream",
          "name": "stderr",
          "text": [
            "WARNING:absl:Found untraced functions such as _jit_compiled_convolution_op while saving (showing 1 of 1). These functions will not be directly callable after loading.\n"
          ]
        },
        {
          "output_type": "stream",
          "name": "stdout",
          "text": [
            "\b\b\b\b\b\b\b\b\b\b\b\b\b\b\b\b\b\b\b\b\b\b\b\b\b\b\b\b\b\b\b\b\b\b\b\b\b\b\b\b\b\b\b\b\b\b\b\b\b\b\b\b\b\b\b\b\b\b\b\b\b\b\b\b\b\r18/18 [==============================] - 1s 44ms/step - loss: 158.5783 - val_loss: 871.9853\n",
            "Epoch 11/100\n",
            " 1/18 [>.............................] - ETA: 0s - loss: 172.6832"
          ]
        },
        {
          "output_type": "stream",
          "name": "stderr",
          "text": [
            "WARNING:absl:Found untraced functions such as _jit_compiled_convolution_op while saving (showing 1 of 1). These functions will not be directly callable after loading.\n"
          ]
        },
        {
          "output_type": "stream",
          "name": "stdout",
          "text": [
            "\b\b\b\b\b\b\b\b\b\b\b\b\b\b\b\b\b\b\b\b\b\b\b\b\b\b\b\b\b\b\b\b\b\b\b\b\b\b\b\b\b\b\b\b\b\b\b\b\b\b\b\b\b\b\b\b\b\b\b\b\b\b\b\b\b\r18/18 [==============================] - 1s 43ms/step - loss: 154.0055 - val_loss: 852.7190\n",
            "Epoch 12/100\n",
            "18/18 [==============================] - 0s 4ms/step - loss: 151.2621 - val_loss: 944.2296\n",
            "Epoch 13/100\n",
            "18/18 [==============================] - 0s 4ms/step - loss: 150.2687 - val_loss: 881.2108\n",
            "Epoch 14/100\n",
            " 1/18 [>.............................] - ETA: 0s - loss: 157.3270"
          ]
        },
        {
          "output_type": "stream",
          "name": "stderr",
          "text": [
            "WARNING:absl:Found untraced functions such as _jit_compiled_convolution_op while saving (showing 1 of 1). These functions will not be directly callable after loading.\n"
          ]
        },
        {
          "output_type": "stream",
          "name": "stdout",
          "text": [
            "\b\b\b\b\b\b\b\b\b\b\b\b\b\b\b\b\b\b\b\b\b\b\b\b\b\b\b\b\b\b\b\b\b\b\b\b\b\b\b\b\b\b\b\b\b\b\b\b\b\b\b\b\b\b\b\b\b\b\b\b\b\b\b\b\b\r18/18 [==============================] - 1s 64ms/step - loss: 145.4592 - val_loss: 849.2067\n",
            "Epoch 15/100\n",
            " 1/18 [>.............................] - ETA: 0s - loss: 143.7789"
          ]
        },
        {
          "output_type": "stream",
          "name": "stderr",
          "text": [
            "WARNING:absl:Found untraced functions such as _jit_compiled_convolution_op while saving (showing 1 of 1). These functions will not be directly callable after loading.\n"
          ]
        },
        {
          "output_type": "stream",
          "name": "stdout",
          "text": [
            "\b\b\b\b\b\b\b\b\b\b\b\b\b\b\b\b\b\b\b\b\b\b\b\b\b\b\b\b\b\b\b\b\b\b\b\b\b\b\b\b\b\b\b\b\b\b\b\b\b\b\b\b\b\b\b\b\b\b\b\b\b\b\b\b\b\r18/18 [==============================] - 1s 44ms/step - loss: 143.3642 - val_loss: 844.4287\n",
            "Epoch 16/100\n",
            " 1/18 [>.............................] - ETA: 0s - loss: 131.3070"
          ]
        },
        {
          "output_type": "stream",
          "name": "stderr",
          "text": [
            "WARNING:absl:Found untraced functions such as _jit_compiled_convolution_op while saving (showing 1 of 1). These functions will not be directly callable after loading.\n"
          ]
        },
        {
          "output_type": "stream",
          "name": "stdout",
          "text": [
            "\b\b\b\b\b\b\b\b\b\b\b\b\b\b\b\b\b\b\b\b\b\b\b\b\b\b\b\b\b\b\b\b\b\b\b\b\b\b\b\b\b\b\b\b\b\b\b\b\b\b\b\b\b\b\b\b\b\b\b\b\b\b\b\b\b\r18/18 [==============================] - 1s 45ms/step - loss: 139.8762 - val_loss: 806.7508\n",
            "Epoch 17/100\n",
            "18/18 [==============================] - 0s 4ms/step - loss: 138.1675 - val_loss: 812.6640\n",
            "Epoch 18/100\n",
            " 1/18 [>.............................] - ETA: 0s - loss: 147.8447"
          ]
        },
        {
          "output_type": "stream",
          "name": "stderr",
          "text": [
            "WARNING:absl:Found untraced functions such as _jit_compiled_convolution_op while saving (showing 1 of 1). These functions will not be directly callable after loading.\n"
          ]
        },
        {
          "output_type": "stream",
          "name": "stdout",
          "text": [
            "\b\b\b\b\b\b\b\b\b\b\b\b\b\b\b\b\b\b\b\b\b\b\b\b\b\b\b\b\b\b\b\b\b\b\b\b\b\b\b\b\b\b\b\b\b\b\b\b\b\b\b\b\b\b\b\b\b\b\b\b\b\b\b\b\b\r18/18 [==============================] - 1s 46ms/step - loss: 137.9499 - val_loss: 775.2330\n",
            "Epoch 19/100\n",
            " 1/18 [>.............................] - ETA: 0s - loss: 79.5908"
          ]
        },
        {
          "output_type": "stream",
          "name": "stderr",
          "text": [
            "WARNING:absl:Found untraced functions such as _jit_compiled_convolution_op while saving (showing 1 of 1). These functions will not be directly callable after loading.\n"
          ]
        },
        {
          "output_type": "stream",
          "name": "stdout",
          "text": [
            "\b\b\b\b\b\b\b\b\b\b\b\b\b\b\b\b\b\b\b\b\b\b\b\b\b\b\b\b\b\b\b\b\b\b\b\b\b\b\b\b\b\b\b\b\b\b\b\b\b\b\b\b\b\b\b\b\b\b\b\b\b\b\b\b\r18/18 [==============================] - 1s 44ms/step - loss: 131.1451 - val_loss: 755.4479\n",
            "Epoch 20/100\n",
            " 1/18 [>.............................] - ETA: 0s - loss: 138.0257"
          ]
        },
        {
          "output_type": "stream",
          "name": "stderr",
          "text": [
            "WARNING:absl:Found untraced functions such as _jit_compiled_convolution_op while saving (showing 1 of 1). These functions will not be directly callable after loading.\n"
          ]
        },
        {
          "output_type": "stream",
          "name": "stdout",
          "text": [
            "\b\b\b\b\b\b\b\b\b\b\b\b\b\b\b\b\b\b\b\b\b\b\b\b\b\b\b\b\b\b\b\b\b\b\b\b\b\b\b\b\b\b\b\b\b\b\b\b\b\b\b\b\b\b\b\b\b\b\b\b\b\b\b\b\b\r18/18 [==============================] - 1s 45ms/step - loss: 132.4056 - val_loss: 712.1982\n",
            "Epoch 21/100\n",
            " 1/18 [>.............................] - ETA: 0s - loss: 162.8849"
          ]
        },
        {
          "output_type": "stream",
          "name": "stderr",
          "text": [
            "WARNING:absl:Found untraced functions such as _jit_compiled_convolution_op while saving (showing 1 of 1). These functions will not be directly callable after loading.\n"
          ]
        },
        {
          "output_type": "stream",
          "name": "stdout",
          "text": [
            "\b\b\b\b\b\b\b\b\b\b\b\b\b\b\b\b\b\b\b\b\b\b\b\b\b\b\b\b\b\b\b\b\b\b\b\b\b\b\b\b\b\b\b\b\b\b\b\b\b\b\b\b\b\b\b\b\b\b\b\b\b\b\b\b\b\r18/18 [==============================] - 1s 45ms/step - loss: 131.0830 - val_loss: 707.4222\n",
            "Epoch 22/100\n",
            " 1/18 [>.............................] - ETA: 0s - loss: 177.5312"
          ]
        },
        {
          "output_type": "stream",
          "name": "stderr",
          "text": [
            "WARNING:absl:Found untraced functions such as _jit_compiled_convolution_op while saving (showing 1 of 1). These functions will not be directly callable after loading.\n"
          ]
        },
        {
          "output_type": "stream",
          "name": "stdout",
          "text": [
            "\b\b\b\b\b\b\b\b\b\b\b\b\b\b\b\b\b\b\b\b\b\b\b\b\b\b\b\b\b\b\b\b\b\b\b\b\b\b\b\b\b\b\b\b\b\b\b\b\b\b\b\b\b\b\b\b\b\b\b\b\b\b\b\b\b\r18/18 [==============================] - 1s 46ms/step - loss: 126.9677 - val_loss: 692.5481\n",
            "Epoch 23/100\n",
            " 1/18 [>.............................] - ETA: 0s - loss: 132.6548"
          ]
        },
        {
          "output_type": "stream",
          "name": "stderr",
          "text": [
            "WARNING:absl:Found untraced functions such as _jit_compiled_convolution_op while saving (showing 1 of 1). These functions will not be directly callable after loading.\n"
          ]
        },
        {
          "output_type": "stream",
          "name": "stdout",
          "text": [
            "\b\b\b\b\b\b\b\b\b\b\b\b\b\b\b\b\b\b\b\b\b\b\b\b\b\b\b\b\b\b\b\b\b\b\b\b\b\b\b\b\b\b\b\b\b\b\b\b\b\b\b\b\b\b\b\b\b\b\b\b\b\b\b\b\b\r18/18 [==============================] - 1s 44ms/step - loss: 125.1869 - val_loss: 685.2979\n",
            "Epoch 24/100\n",
            " 1/18 [>.............................] - ETA: 0s - loss: 133.2069"
          ]
        },
        {
          "output_type": "stream",
          "name": "stderr",
          "text": [
            "WARNING:absl:Found untraced functions such as _jit_compiled_convolution_op while saving (showing 1 of 1). These functions will not be directly callable after loading.\n"
          ]
        },
        {
          "output_type": "stream",
          "name": "stdout",
          "text": [
            "\b\b\b\b\b\b\b\b\b\b\b\b\b\b\b\b\b\b\b\b\b\b\b\b\b\b\b\b\b\b\b\b\b\b\b\b\b\b\b\b\b\b\b\b\b\b\b\b\b\b\b\b\b\b\b\b\b\b\b\b\b\b\b\b\b\r18/18 [==============================] - 1s 82ms/step - loss: 123.9248 - val_loss: 670.9752\n",
            "Epoch 25/100\n",
            " 1/18 [>.............................] - ETA: 0s - loss: 125.0656"
          ]
        },
        {
          "output_type": "stream",
          "name": "stderr",
          "text": [
            "WARNING:absl:Found untraced functions such as _jit_compiled_convolution_op while saving (showing 1 of 1). These functions will not be directly callable after loading.\n"
          ]
        },
        {
          "output_type": "stream",
          "name": "stdout",
          "text": [
            "\b\b\b\b\b\b\b\b\b\b\b\b\b\b\b\b\b\b\b\b\b\b\b\b\b\b\b\b\b\b\b\b\b\b\b\b\b\b\b\b\b\b\b\b\b\b\b\b\b\b\b\b\b\b\b\b\b\b\b\b\b\b\b\b\b\r18/18 [==============================] - 1s 83ms/step - loss: 122.2450 - val_loss: 662.3439\n",
            "Epoch 26/100\n",
            " 1/18 [>.............................] - ETA: 0s - loss: 121.2728"
          ]
        },
        {
          "output_type": "stream",
          "name": "stderr",
          "text": [
            "WARNING:absl:Found untraced functions such as _jit_compiled_convolution_op while saving (showing 1 of 1). These functions will not be directly callable after loading.\n"
          ]
        },
        {
          "output_type": "stream",
          "name": "stdout",
          "text": [
            "\b\b\b\b\b\b\b\b\b\b\b\b\b\b\b\b\b\b\b\b\b\b\b\b\b\b\b\b\b\b\b\b\b\b\b\b\b\b\b\b\b\b\b\b\b\b\b\b\b\b\b\b\b\b\b\b\b\b\b\b\b\b\b\b\b\r18/18 [==============================] - 1s 81ms/step - loss: 121.1394 - val_loss: 654.4514\n",
            "Epoch 27/100\n",
            " 1/18 [>.............................] - ETA: 0s - loss: 169.1692"
          ]
        },
        {
          "output_type": "stream",
          "name": "stderr",
          "text": [
            "WARNING:absl:Found untraced functions such as _jit_compiled_convolution_op while saving (showing 1 of 1). These functions will not be directly callable after loading.\n"
          ]
        },
        {
          "output_type": "stream",
          "name": "stdout",
          "text": [
            "\b\b\b\b\b\b\b\b\b\b\b\b\b\b\b\b\b\b\b\b\b\b\b\b\b\b\b\b\b\b\b\b\b\b\b\b\b\b\b\b\b\b\b\b\b\b\b\b\b\b\b\b\b\b\b\b\b\b\b\b\b\b\b\b\b\r18/18 [==============================] - 1s 65ms/step - loss: 121.0952 - val_loss: 646.9713\n",
            "Epoch 28/100\n",
            " 1/18 [>.............................] - ETA: 0s - loss: 112.3583"
          ]
        },
        {
          "output_type": "stream",
          "name": "stderr",
          "text": [
            "WARNING:absl:Found untraced functions such as _jit_compiled_convolution_op while saving (showing 1 of 1). These functions will not be directly callable after loading.\n"
          ]
        },
        {
          "output_type": "stream",
          "name": "stdout",
          "text": [
            "\b\b\b\b\b\b\b\b\b\b\b\b\b\b\b\b\b\b\b\b\b\b\b\b\b\b\b\b\b\b\b\b\b\b\b\b\b\b\b\b\b\b\b\b\b\b\b\b\b\b\b\b\b\b\b\b\b\b\b\b\b\b\b\b\b\r18/18 [==============================] - 1s 47ms/step - loss: 117.9507 - val_loss: 644.0071\n",
            "Epoch 29/100\n",
            " 1/18 [>.............................] - ETA: 0s - loss: 113.2701"
          ]
        },
        {
          "output_type": "stream",
          "name": "stderr",
          "text": [
            "WARNING:absl:Found untraced functions such as _jit_compiled_convolution_op while saving (showing 1 of 1). These functions will not be directly callable after loading.\n"
          ]
        },
        {
          "output_type": "stream",
          "name": "stdout",
          "text": [
            "\b\b\b\b\b\b\b\b\b\b\b\b\b\b\b\b\b\b\b\b\b\b\b\b\b\b\b\b\b\b\b\b\b\b\b\b\b\b\b\b\b\b\b\b\b\b\b\b\b\b\b\b\b\b\b\b\b\b\b\b\b\b\b\b\b\r18/18 [==============================] - 1s 50ms/step - loss: 116.9190 - val_loss: 642.6725\n",
            "Epoch 30/100\n",
            " 1/18 [>.............................] - ETA: 0s - loss: 133.1726"
          ]
        },
        {
          "output_type": "stream",
          "name": "stderr",
          "text": [
            "WARNING:absl:Found untraced functions such as _jit_compiled_convolution_op while saving (showing 1 of 1). These functions will not be directly callable after loading.\n"
          ]
        },
        {
          "output_type": "stream",
          "name": "stdout",
          "text": [
            "\b\b\b\b\b\b\b\b\b\b\b\b\b\b\b\b\b\b\b\b\b\b\b\b\b\b\b\b\b\b\b\b\b\b\b\b\b\b\b\b\b\b\b\b\b\b\b\b\b\b\b\b\b\b\b\b\b\b\b\b\b\b\b\b\b\r18/18 [==============================] - 1s 46ms/step - loss: 121.8659 - val_loss: 629.5991\n",
            "Epoch 31/100\n",
            "18/18 [==============================] - 0s 5ms/step - loss: 114.7007 - val_loss: 640.6924\n",
            "Epoch 32/100\n",
            " 1/18 [>.............................] - ETA: 0s - loss: 111.4923"
          ]
        },
        {
          "output_type": "stream",
          "name": "stderr",
          "text": [
            "WARNING:absl:Found untraced functions such as _jit_compiled_convolution_op while saving (showing 1 of 1). These functions will not be directly callable after loading.\n"
          ]
        },
        {
          "output_type": "stream",
          "name": "stdout",
          "text": [
            "\b\b\b\b\b\b\b\b\b\b\b\b\b\b\b\b\b\b\b\b\b\b\b\b\b\b\b\b\b\b\b\b\b\b\b\b\b\b\b\b\b\b\b\b\b\b\b\b\b\b\b\b\b\b\b\b\b\b\b\b\b\b\b\b\b\r18/18 [==============================] - 1s 46ms/step - loss: 115.8331 - val_loss: 622.1506\n",
            "Epoch 33/100\n",
            "18/18 [==============================] - 0s 4ms/step - loss: 115.7185 - val_loss: 656.7964\n",
            "Epoch 34/100\n",
            " 1/18 [>.............................] - ETA: 0s - loss: 140.5297"
          ]
        },
        {
          "output_type": "stream",
          "name": "stderr",
          "text": [
            "WARNING:absl:Found untraced functions such as _jit_compiled_convolution_op while saving (showing 1 of 1). These functions will not be directly callable after loading.\n"
          ]
        },
        {
          "output_type": "stream",
          "name": "stdout",
          "text": [
            "\b\b\b\b\b\b\b\b\b\b\b\b\b\b\b\b\b\b\b\b\b\b\b\b\b\b\b\b\b\b\b\b\b\b\b\b\b\b\b\b\b\b\b\b\b\b\b\b\b\b\b\b\b\b\b\b\b\b\b\b\b\b\b\b\b\r18/18 [==============================] - 1s 46ms/step - loss: 117.4010 - val_loss: 612.7388\n",
            "Epoch 35/100\n",
            "18/18 [==============================] - 0s 4ms/step - loss: 113.2624 - val_loss: 613.9559\n",
            "Epoch 36/100\n",
            " 1/18 [>.............................] - ETA: 0s - loss: 159.4264"
          ]
        },
        {
          "output_type": "stream",
          "name": "stderr",
          "text": [
            "WARNING:absl:Found untraced functions such as _jit_compiled_convolution_op while saving (showing 1 of 1). These functions will not be directly callable after loading.\n"
          ]
        },
        {
          "output_type": "stream",
          "name": "stdout",
          "text": [
            "\b\b\b\b\b\b\b\b\b\b\b\b\b\b\b\b\b\b\b\b\b\b\b\b\b\b\b\b\b\b\b\b\b\b\b\b\b\b\b\b\b\b\b\b\b\b\b\b\b\b\b\b\b\b\b\b\b\b\b\b\b\b\b\b\b\r18/18 [==============================] - 1s 45ms/step - loss: 117.0075 - val_loss: 605.2272\n",
            "Epoch 37/100\n",
            "18/18 [==============================] - 0s 3ms/step - loss: 115.1192 - val_loss: 613.4613\n",
            "Epoch 38/100\n",
            "18/18 [==============================] - 0s 3ms/step - loss: 114.0888 - val_loss: 617.4557\n",
            "Epoch 39/100\n",
            " 1/18 [>.............................] - ETA: 0s - loss: 131.7166"
          ]
        },
        {
          "output_type": "stream",
          "name": "stderr",
          "text": [
            "WARNING:absl:Found untraced functions such as _jit_compiled_convolution_op while saving (showing 1 of 1). These functions will not be directly callable after loading.\n"
          ]
        },
        {
          "output_type": "stream",
          "name": "stdout",
          "text": [
            "\b\b\b\b\b\b\b\b\b\b\b\b\b\b\b\b\b\b\b\b\b\b\b\b\b\b\b\b\b\b\b\b\b\b\b\b\b\b\b\b\b\b\b\b\b\b\b\b\b\b\b\b\b\b\b\b\b\b\b\b\b\b\b\b\b\r18/18 [==============================] - 1s 44ms/step - loss: 113.8287 - val_loss: 599.6378\n",
            "Epoch 40/100\n",
            "18/18 [==============================] - 0s 4ms/step - loss: 112.1102 - val_loss: 601.0756\n",
            "Epoch 41/100\n",
            "18/18 [==============================] - 0s 4ms/step - loss: 111.7129 - val_loss: 642.4760\n",
            "Epoch 42/100\n",
            "18/18 [==============================] - 0s 3ms/step - loss: 117.4614 - val_loss: 628.8831\n",
            "Epoch 43/100\n",
            "18/18 [==============================] - 0s 3ms/step - loss: 114.9637 - val_loss: 626.2314\n",
            "Epoch 44/100\n",
            "18/18 [==============================] - 0s 3ms/step - loss: 113.7044 - val_loss: 601.3557\n",
            "Epoch 45/100\n",
            "18/18 [==============================] - 0s 4ms/step - loss: 110.2300 - val_loss: 602.2664\n",
            "Epoch 46/100\n",
            "18/18 [==============================] - 0s 4ms/step - loss: 110.8421 - val_loss: 601.6515\n",
            "Epoch 47/100\n",
            "18/18 [==============================] - 0s 6ms/step - loss: 111.1995 - val_loss: 679.1381\n",
            "Epoch 48/100\n",
            "18/18 [==============================] - 0s 4ms/step - loss: 110.6627 - val_loss: 607.0565\n",
            "Epoch 49/100\n",
            "18/18 [==============================] - 0s 4ms/step - loss: 111.7838 - val_loss: 641.5779\n",
            "Epoch 50/100\n",
            "18/18 [==============================] - 0s 4ms/step - loss: 116.4225 - val_loss: 623.6740\n",
            "Epoch 51/100\n",
            " 1/18 [>.............................] - ETA: 0s - loss: 93.0302"
          ]
        },
        {
          "output_type": "stream",
          "name": "stderr",
          "text": [
            "WARNING:absl:Found untraced functions such as _jit_compiled_convolution_op while saving (showing 1 of 1). These functions will not be directly callable after loading.\n"
          ]
        },
        {
          "output_type": "stream",
          "name": "stdout",
          "text": [
            "\b\b\b\b\b\b\b\b\b\b\b\b\b\b\b\b\b\b\b\b\b\b\b\b\b\b\b\b\b\b\b\b\b\b\b\b\b\b\b\b\b\b\b\b\b\b\b\b\b\b\b\b\b\b\b\b\b\b\b\b\b\b\b\b\r18/18 [==============================] - 1s 43ms/step - loss: 111.4164 - val_loss: 590.2225\n",
            "Epoch 52/100\n",
            "18/18 [==============================] - 0s 4ms/step - loss: 112.2794 - val_loss: 599.6577\n",
            "Epoch 53/100\n",
            "18/18 [==============================] - 0s 4ms/step - loss: 111.6150 - val_loss: 637.6078\n",
            "Epoch 54/100\n",
            " 1/18 [>.............................] - ETA: 0s - loss: 105.7542"
          ]
        },
        {
          "output_type": "stream",
          "name": "stderr",
          "text": [
            "WARNING:absl:Found untraced functions such as _jit_compiled_convolution_op while saving (showing 1 of 1). These functions will not be directly callable after loading.\n"
          ]
        },
        {
          "output_type": "stream",
          "name": "stdout",
          "text": [
            "\b\b\b\b\b\b\b\b\b\b\b\b\b\b\b\b\b\b\b\b\b\b\b\b\b\b\b\b\b\b\b\b\b\b\b\b\b\b\b\b\b\b\b\b\b\b\b\b\b\b\b\b\b\b\b\b\b\b\b\b\b\b\b\b\b\r18/18 [==============================] - 1s 44ms/step - loss: 110.0329 - val_loss: 589.3808\n",
            "Epoch 55/100\n",
            " 1/18 [>.............................] - ETA: 0s - loss: 128.5007"
          ]
        },
        {
          "output_type": "stream",
          "name": "stderr",
          "text": [
            "WARNING:absl:Found untraced functions such as _jit_compiled_convolution_op while saving (showing 1 of 1). These functions will not be directly callable after loading.\n"
          ]
        },
        {
          "output_type": "stream",
          "name": "stdout",
          "text": [
            "\b\b\b\b\b\b\b\b\b\b\b\b\b\b\b\b\b\b\b\b\b\b\b\b\b\b\b\b\b\b\b\b\b\b\b\b\b\b\b\b\b\b\b\b\b\b\b\b\b\b\b\b\b\b\b\b\b\b\b\b\b\b\b\b\b\r18/18 [==============================] - 1s 44ms/step - loss: 113.4552 - val_loss: 587.1552\n",
            "Epoch 56/100\n",
            "18/18 [==============================] - 0s 3ms/step - loss: 111.7108 - val_loss: 816.9901\n",
            "Epoch 57/100\n",
            "18/18 [==============================] - 0s 4ms/step - loss: 135.7503 - val_loss: 719.3806\n",
            "Epoch 58/100\n",
            "18/18 [==============================] - 0s 3ms/step - loss: 122.0247 - val_loss: 735.9521\n",
            "Epoch 59/100\n",
            "18/18 [==============================] - 0s 3ms/step - loss: 112.3813 - val_loss: 600.9777\n",
            "Epoch 60/100\n",
            "18/18 [==============================] - 0s 5ms/step - loss: 111.0364 - val_loss: 648.7866\n",
            "Epoch 61/100\n",
            "18/18 [==============================] - 0s 4ms/step - loss: 111.4802 - val_loss: 590.3774\n",
            "Epoch 62/100\n",
            " 1/18 [>.............................] - ETA: 0s - loss: 74.8056"
          ]
        },
        {
          "output_type": "stream",
          "name": "stderr",
          "text": [
            "WARNING:absl:Found untraced functions such as _jit_compiled_convolution_op while saving (showing 1 of 1). These functions will not be directly callable after loading.\n"
          ]
        },
        {
          "output_type": "stream",
          "name": "stdout",
          "text": [
            "\b\b\b\b\b\b\b\b\b\b\b\b\b\b\b\b\b\b\b\b\b\b\b\b\b\b\b\b\b\b\b\b\b\b\b\b\b\b\b\b\b\b\b\b\b\b\b\b\b\b\b\b\b\b\b\b\b\b\b\b\b\b\b\b\r18/18 [==============================] - 1s 45ms/step - loss: 107.9389 - val_loss: 576.8008\n",
            "Epoch 63/100\n",
            "18/18 [==============================] - 0s 4ms/step - loss: 109.2602 - val_loss: 607.2755\n",
            "Epoch 64/100\n",
            "18/18 [==============================] - 0s 3ms/step - loss: 109.6901 - val_loss: 596.7834\n",
            "Epoch 65/100\n",
            "18/18 [==============================] - 0s 4ms/step - loss: 109.3035 - val_loss: 591.7098\n",
            "Epoch 66/100\n",
            "18/18 [==============================] - 0s 4ms/step - loss: 108.8017 - val_loss: 578.0851\n",
            "Epoch 67/100\n",
            "18/18 [==============================] - 0s 3ms/step - loss: 107.3419 - val_loss: 655.8540\n",
            "Epoch 68/100\n",
            "18/18 [==============================] - 0s 3ms/step - loss: 111.2484 - val_loss: 669.3168\n",
            "Epoch 69/100\n",
            "18/18 [==============================] - 0s 3ms/step - loss: 130.1730 - val_loss: 704.8604\n",
            "Epoch 70/100\n",
            " 1/18 [>.............................] - ETA: 0s - loss: 135.1638"
          ]
        },
        {
          "output_type": "stream",
          "name": "stderr",
          "text": [
            "WARNING:absl:Found untraced functions such as _jit_compiled_convolution_op while saving (showing 1 of 1). These functions will not be directly callable after loading.\n"
          ]
        },
        {
          "output_type": "stream",
          "name": "stdout",
          "text": [
            "\b\b\b\b\b\b\b\b\b\b\b\b\b\b\b\b\b\b\b\b\b\b\b\b\b\b\b\b\b\b\b\b\b\b\b\b\b\b\b\b\b\b\b\b\b\b\b\b\b\b\b\b\b\b\b\b\b\b\b\b\b\b\b\b\b\r18/18 [==============================] - 1s 65ms/step - loss: 122.0592 - val_loss: 574.0012\n",
            "Epoch 71/100\n",
            "18/18 [==============================] - 0s 4ms/step - loss: 110.6805 - val_loss: 582.4785\n",
            "Epoch 72/100\n",
            " 1/18 [>.............................] - ETA: 0s - loss: 97.4702"
          ]
        },
        {
          "output_type": "stream",
          "name": "stderr",
          "text": [
            "WARNING:absl:Found untraced functions such as _jit_compiled_convolution_op while saving (showing 1 of 1). These functions will not be directly callable after loading.\n"
          ]
        },
        {
          "output_type": "stream",
          "name": "stdout",
          "text": [
            "\b\b\b\b\b\b\b\b\b\b\b\b\b\b\b\b\b\b\b\b\b\b\b\b\b\b\b\b\b\b\b\b\b\b\b\b\b\b\b\b\b\b\b\b\b\b\b\b\b\b\b\b\b\b\b\b\b\b\b\b\b\b\b\b\r18/18 [==============================] - 1s 44ms/step - loss: 108.5809 - val_loss: 573.2568\n",
            "Epoch 73/100\n",
            "18/18 [==============================] - 0s 4ms/step - loss: 111.4726 - val_loss: 639.7592\n",
            "Epoch 74/100\n",
            " 1/18 [>.............................] - ETA: 0s - loss: 174.5227"
          ]
        },
        {
          "output_type": "stream",
          "name": "stderr",
          "text": [
            "WARNING:absl:Found untraced functions such as _jit_compiled_convolution_op while saving (showing 1 of 1). These functions will not be directly callable after loading.\n"
          ]
        },
        {
          "output_type": "stream",
          "name": "stdout",
          "text": [
            "\b\b\b\b\b\b\b\b\b\b\b\b\b\b\b\b\b\b\b\b\b\b\b\b\b\b\b\b\b\b\b\b\b\b\b\b\b\b\b\b\b\b\b\b\b\b\b\b\b\b\b\b\b\b\b\b\b\b\b\b\b\b\b\b\b\r18/18 [==============================] - 1s 45ms/step - loss: 108.1881 - val_loss: 572.1607\n",
            "Epoch 75/100\n",
            "18/18 [==============================] - 0s 4ms/step - loss: 108.2999 - val_loss: 586.2969\n",
            "Epoch 76/100\n",
            "18/18 [==============================] - 0s 4ms/step - loss: 109.3541 - val_loss: 572.9820\n",
            "Epoch 77/100\n",
            "18/18 [==============================] - 0s 3ms/step - loss: 107.8668 - val_loss: 572.5251\n",
            "Epoch 78/100\n",
            "18/18 [==============================] - 0s 3ms/step - loss: 107.7326 - val_loss: 574.9955\n",
            "Epoch 79/100\n",
            "18/18 [==============================] - 0s 4ms/step - loss: 107.1027 - val_loss: 593.1469\n",
            "Epoch 80/100\n",
            "18/18 [==============================] - 0s 4ms/step - loss: 108.1535 - val_loss: 585.9691\n",
            "Epoch 81/100\n",
            "18/18 [==============================] - 0s 4ms/step - loss: 107.0599 - val_loss: 572.7422\n",
            "Epoch 82/100\n",
            "18/18 [==============================] - 0s 4ms/step - loss: 117.6359 - val_loss: 604.6208\n",
            "Epoch 83/100\n",
            "18/18 [==============================] - 0s 4ms/step - loss: 110.8032 - val_loss: 670.5224\n",
            "Epoch 84/100\n",
            "18/18 [==============================] - 0s 4ms/step - loss: 111.6609 - val_loss: 574.8295\n",
            "Epoch 85/100\n",
            " 1/18 [>.............................] - ETA: 0s - loss: 84.0958"
          ]
        },
        {
          "output_type": "stream",
          "name": "stderr",
          "text": [
            "WARNING:absl:Found untraced functions such as _jit_compiled_convolution_op while saving (showing 1 of 1). These functions will not be directly callable after loading.\n"
          ]
        },
        {
          "output_type": "stream",
          "name": "stdout",
          "text": [
            "\b\b\b\b\b\b\b\b\b\b\b\b\b\b\b\b\b\b\b\b\b\b\b\b\b\b\b\b\b\b\b\b\b\b\b\b\b\b\b\b\b\b\b\b\b\b\b\b\b\b\b\b\b\b\b\b\b\b\b\b\b\b\b\b\r18/18 [==============================] - 1s 45ms/step - loss: 107.9166 - val_loss: 571.9283\n",
            "Epoch 86/100\n",
            "18/18 [==============================] - 0s 3ms/step - loss: 107.2452 - val_loss: 592.6498\n",
            "Epoch 87/100\n",
            "18/18 [==============================] - 0s 4ms/step - loss: 106.7613 - val_loss: 604.2856\n",
            "Epoch 88/100\n",
            "18/18 [==============================] - 0s 4ms/step - loss: 107.7547 - val_loss: 584.0389\n",
            "Epoch 89/100\n",
            "18/18 [==============================] - 0s 3ms/step - loss: 106.5926 - val_loss: 572.7335\n",
            "Epoch 90/100\n",
            "18/18 [==============================] - 0s 4ms/step - loss: 106.1901 - val_loss: 577.0853\n",
            "Epoch 91/100\n",
            "18/18 [==============================] - 0s 3ms/step - loss: 109.8442 - val_loss: 595.3208\n",
            "Epoch 92/100\n",
            "18/18 [==============================] - 0s 3ms/step - loss: 110.1011 - val_loss: 585.5007\n",
            "Epoch 93/100\n",
            "18/18 [==============================] - 0s 4ms/step - loss: 115.8956 - val_loss: 643.3029\n",
            "Epoch 94/100\n",
            "18/18 [==============================] - 0s 3ms/step - loss: 111.8781 - val_loss: 597.5075\n",
            "Epoch 95/100\n",
            " 1/18 [>.............................] - ETA: 0s - loss: 137.5681"
          ]
        },
        {
          "output_type": "stream",
          "name": "stderr",
          "text": [
            "WARNING:absl:Found untraced functions such as _jit_compiled_convolution_op while saving (showing 1 of 1). These functions will not be directly callable after loading.\n"
          ]
        },
        {
          "output_type": "stream",
          "name": "stdout",
          "text": [
            "\b\b\b\b\b\b\b\b\b\b\b\b\b\b\b\b\b\b\b\b\b\b\b\b\b\b\b\b\b\b\b\b\b\b\b\b\b\b\b\b\b\b\b\b\b\b\b\b\b\b\b\b\b\b\b\b\b\b\b\b\b\b\b\b\b\r18/18 [==============================] - 1s 45ms/step - loss: 106.6255 - val_loss: 571.3428\n",
            "Epoch 96/100\n",
            "18/18 [==============================] - 0s 4ms/step - loss: 108.5560 - val_loss: 627.1014\n",
            "Epoch 97/100\n",
            "18/18 [==============================] - 0s 4ms/step - loss: 107.7741 - val_loss: 589.1556\n",
            "Epoch 98/100\n",
            "18/18 [==============================] - 0s 3ms/step - loss: 107.1832 - val_loss: 574.5533\n",
            "Epoch 99/100\n",
            " 1/18 [>.............................] - ETA: 0s - loss: 153.1043"
          ]
        },
        {
          "output_type": "stream",
          "name": "stderr",
          "text": [
            "WARNING:absl:Found untraced functions such as _jit_compiled_convolution_op while saving (showing 1 of 1). These functions will not be directly callable after loading.\n"
          ]
        },
        {
          "output_type": "stream",
          "name": "stdout",
          "text": [
            "\b\b\b\b\b\b\b\b\b\b\b\b\b\b\b\b\b\b\b\b\b\b\b\b\b\b\b\b\b\b\b\b\b\b\b\b\b\b\b\b\b\b\b\b\b\b\b\b\b\b\b\b\b\b\b\b\b\b\b\b\b\b\b\b\b\r18/18 [==============================] - 1s 45ms/step - loss: 107.1678 - val_loss: 569.0327\n",
            "Epoch 100/100\n",
            "18/18 [==============================] - 0s 3ms/step - loss: 110.9699 - val_loss: 624.1894\n"
          ]
        },
        {
          "output_type": "execute_result",
          "data": {
            "text/plain": [
              "<keras.callbacks.History at 0x7f5ef47247c0>"
            ]
          },
          "metadata": {},
          "execution_count": 90
        }
      ]
    },
    {
      "cell_type": "code",
      "source": [
        "model_4.summary()"
      ],
      "metadata": {
        "colab": {
          "base_uri": "https://localhost:8080/"
        },
        "id": "QTjR3-EVWvN7",
        "outputId": "72f8f6c2-d0bd-497a-a258-993b19f39b93"
      },
      "execution_count": 91,
      "outputs": [
        {
          "output_type": "stream",
          "name": "stdout",
          "text": [
            "Model: \"model_4_conv1D\"\n",
            "_________________________________________________________________\n",
            " Layer (type)                Output Shape              Param #   \n",
            "=================================================================\n",
            " lambda_1 (Lambda)           (None, 1, 7)              0         \n",
            "                                                                 \n",
            " conv1d (Conv1D)             (None, 1, 128)            4608      \n",
            "                                                                 \n",
            " dense_6 (Dense)             (None, 1, 1)              129       \n",
            "                                                                 \n",
            "=================================================================\n",
            "Total params: 4,737\n",
            "Trainable params: 4,737\n",
            "Non-trainable params: 0\n",
            "_________________________________________________________________\n"
          ]
        }
      ]
    },
    {
      "cell_type": "code",
      "source": [
        "# Evaluate model\n",
        "model_4.evaluate(test_windows,test_labels)"
      ],
      "metadata": {
        "colab": {
          "base_uri": "https://localhost:8080/"
        },
        "id": "oUfGupF4Xp2z",
        "outputId": "d2179d35-a791-40e8-da1e-4cf5039711ad"
      },
      "execution_count": 92,
      "outputs": [
        {
          "output_type": "stream",
          "name": "stdout",
          "text": [
            "18/18 [==============================] - 0s 2ms/step - loss: 624.1894\n"
          ]
        },
        {
          "output_type": "execute_result",
          "data": {
            "text/plain": [
              "624.1893920898438"
            ]
          },
          "metadata": {},
          "execution_count": 92
        }
      ]
    },
    {
      "cell_type": "code",
      "source": [
        "model_4 = tf.keras.models.load_model(\"model_experiments/model_4_conv1D\")\n",
        "model_4.evaluate(test_windows,test_labels)"
      ],
      "metadata": {
        "colab": {
          "base_uri": "https://localhost:8080/"
        },
        "id": "tjsI_RxgYVLD",
        "outputId": "8567ff30-8bd0-4203-90ed-fe35bd799abf"
      },
      "execution_count": 93,
      "outputs": [
        {
          "output_type": "stream",
          "name": "stdout",
          "text": [
            "18/18 [==============================] - 0s 2ms/step - loss: 569.0327\n"
          ]
        },
        {
          "output_type": "execute_result",
          "data": {
            "text/plain": [
              "569.03271484375"
            ]
          },
          "metadata": {},
          "execution_count": 93
        }
      ]
    },
    {
      "cell_type": "code",
      "source": [
        "# Make predictions first\n",
        "model_4_preds = make_preds(model_4,test_windows)\n",
        "model_4_preds[:10]"
      ],
      "metadata": {
        "colab": {
          "base_uri": "https://localhost:8080/"
        },
        "id": "mfnJaP6DYtqB",
        "outputId": "f66cdb5b-c39e-4c23-d3bf-cb6a90aacbff"
      },
      "execution_count": 94,
      "outputs": [
        {
          "output_type": "stream",
          "name": "stdout",
          "text": [
            "18/18 [==============================] - 0s 1ms/step\n"
          ]
        },
        {
          "output_type": "execute_result",
          "data": {
            "text/plain": [
              "<tf.Tensor: shape=(10,), dtype=float32, numpy=\n",
              "array([8847.293, 8757.502, 8997.469, 8762.801, 8707.723, 8713.595,\n",
              "       8664.934, 8496.83 , 8439.471, 8499.395], dtype=float32)>"
            ]
          },
          "metadata": {},
          "execution_count": 94
        }
      ]
    },
    {
      "cell_type": "code",
      "source": [
        "# Evalute preds\n",
        "model_4_results = evaluate_preds(y_true = tf.squeeze(test_labels),\n",
        "                                 y_pred = model_4_preds)\n",
        "model_4_results"
      ],
      "metadata": {
        "colab": {
          "base_uri": "https://localhost:8080/"
        },
        "id": "p8XvatcZZAB2",
        "outputId": "ce8bf1cb-bf62-4e05-a5ec-a6c4d99a3bb7"
      },
      "execution_count": 95,
      "outputs": [
        {
          "output_type": "execute_result",
          "data": {
            "text/plain": [
              "{'mae': 569.0327,\n",
              " 'mse': 1169841.2,\n",
              " 'rmse': 1081.592,\n",
              " 'mape': 2.551526,\n",
              " 'mase': 0.9996329}"
            ]
          },
          "metadata": {},
          "execution_count": 95
        }
      ]
    },
    {
      "cell_type": "code",
      "source": [
        "model_1_results"
      ],
      "metadata": {
        "colab": {
          "base_uri": "https://localhost:8080/"
        },
        "id": "flHLWOz6ZfSK",
        "outputId": "662011cc-d8a6-47a1-e807-48c4fe2e44ec"
      },
      "execution_count": 96,
      "outputs": [
        {
          "output_type": "execute_result",
          "data": {
            "text/plain": [
              "{'mae': 568.5498,\n",
              " 'mse': 1172587.4,\n",
              " 'rmse': 1082.8607,\n",
              " 'mape': 2.549229,\n",
              " 'mase': 0.99878454}"
            ]
          },
          "metadata": {},
          "execution_count": 96
        }
      ]
    },
    {
      "cell_type": "markdown",
      "source": [
        "## Model_5: RNN(LSTM)"
      ],
      "metadata": {
        "id": "rd8_pq0GZtRh"
      }
    },
    {
      "cell_type": "code",
      "source": [
        "\n",
        "tf.random.set_seed(42)\n",
        "\n",
        "# Lets build an LSTM model with the functional api\n",
        "inputs = layers.Input(shape=(WINDOW_SIZE))\n",
        "x = layers.Lambda(lambda x: tf.expand_dims(x,axis=1))(inputs)\n",
        "#x = layers.LSTM(128,return_sequences=True)(x)\n",
        "x = layers.LSTM(128,activation=\"relu\")(x)\n",
        "#x = layers.Dense(32,activation = \"relu\")(x)\n",
        "output = layers.Dense(HORIZON)(x)\n",
        "model_5 = tf.keras.Model(inputs=inputs,outputs=output,name=\"model_5_LSTM\")\n",
        "\n",
        "# Compile\n",
        "model_5.compile(loss = \"mae\",\n",
        "                 optimizer = tf.keras.optimizers.Adam())\n",
        "\n",
        "# Fit \n",
        "model_5.fit(train_windows,\n",
        "            train_labels,\n",
        "            epochs=100,\n",
        "            verbose = 1,\n",
        "            batch_size =128,\n",
        "            validation_data =(test_windows,test_labels),\n",
        "            callbacks = [create_model_checkpoint(model_name = model_5.name)])"
      ],
      "metadata": {
        "colab": {
          "base_uri": "https://localhost:8080/"
        },
        "id": "hu7wHceFaGCU",
        "outputId": "3041e826-b32d-4819-bcb2-35680a5ddfdf"
      },
      "execution_count": 97,
      "outputs": [
        {
          "output_type": "stream",
          "name": "stdout",
          "text": [
            "Epoch 1/100\n",
            "18/18 [==============================] - 4s 139ms/step - loss: 2323.6121 - val_loss: 9223.5371\n",
            "Epoch 2/100\n",
            "18/18 [==============================] - 2s 146ms/step - loss: 695.4815 - val_loss: 1485.9202\n",
            "Epoch 3/100\n",
            "18/18 [==============================] - 2s 124ms/step - loss: 237.2893 - val_loss: 1298.9440\n",
            "Epoch 4/100\n",
            "18/18 [==============================] - 2s 123ms/step - loss: 181.9192 - val_loss: 966.6409\n",
            "Epoch 5/100\n",
            "18/18 [==============================] - 0s 7ms/step - loss: 173.4027 - val_loss: 970.9386\n",
            "Epoch 6/100\n",
            "18/18 [==============================] - 2s 122ms/step - loss: 173.1639 - val_loss: 947.5294\n",
            "Epoch 7/100\n",
            "18/18 [==============================] - 3s 149ms/step - loss: 168.6476 - val_loss: 893.5104\n",
            "Epoch 8/100\n",
            "18/18 [==============================] - 0s 7ms/step - loss: 164.5168 - val_loss: 953.3793\n",
            "Epoch 9/100\n",
            "18/18 [==============================] - 0s 9ms/step - loss: 169.2547 - val_loss: 946.0881\n",
            "Epoch 10/100\n",
            "18/18 [==============================] - 0s 8ms/step - loss: 167.1515 - val_loss: 930.5786\n",
            "Epoch 11/100\n",
            "18/18 [==============================] - 0s 8ms/step - loss: 166.6079 - val_loss: 916.4217\n",
            "Epoch 12/100\n",
            "18/18 [==============================] - 0s 7ms/step - loss: 169.7870 - val_loss: 894.9022\n",
            "Epoch 13/100\n",
            "18/18 [==============================] - 2s 124ms/step - loss: 160.7714 - val_loss: 892.4036\n",
            "Epoch 14/100\n",
            "18/18 [==============================] - 0s 8ms/step - loss: 158.1896 - val_loss: 937.9172\n",
            "Epoch 15/100\n",
            "18/18 [==============================] - 2s 122ms/step - loss: 157.7198 - val_loss: 882.6429\n",
            "Epoch 16/100\n",
            "18/18 [==============================] - 2s 122ms/step - loss: 154.2167 - val_loss: 854.7510\n",
            "Epoch 17/100\n",
            "18/18 [==============================] - 0s 8ms/step - loss: 152.7512 - val_loss: 950.1090\n",
            "Epoch 18/100\n",
            "18/18 [==============================] - 0s 7ms/step - loss: 153.2331 - val_loss: 890.6774\n",
            "Epoch 19/100\n",
            "18/18 [==============================] - 0s 7ms/step - loss: 148.4504 - val_loss: 858.5460\n",
            "Epoch 20/100\n",
            "18/18 [==============================] - 3s 149ms/step - loss: 148.8331 - val_loss: 822.5912\n",
            "Epoch 21/100\n",
            "18/18 [==============================] - 0s 8ms/step - loss: 145.2198 - val_loss: 824.0749\n",
            "Epoch 22/100\n",
            "18/18 [==============================] - 3s 157ms/step - loss: 143.1952 - val_loss: 813.2706\n",
            "Epoch 23/100\n",
            "18/18 [==============================] - 0s 13ms/step - loss: 141.5751 - val_loss: 815.6127\n",
            "Epoch 24/100\n",
            "18/18 [==============================] - 2s 141ms/step - loss: 140.6140 - val_loss: 792.9332\n",
            "Epoch 25/100\n",
            "18/18 [==============================] - 2s 121ms/step - loss: 137.8075 - val_loss: 782.4219\n",
            "Epoch 26/100\n",
            "18/18 [==============================] - 3s 149ms/step - loss: 136.8617 - val_loss: 762.2707\n",
            "Epoch 27/100\n",
            "18/18 [==============================] - 0s 7ms/step - loss: 135.3446 - val_loss: 762.9979\n",
            "Epoch 28/100\n",
            "18/18 [==============================] - 2s 126ms/step - loss: 133.7004 - val_loss: 741.4684\n",
            "Epoch 29/100\n",
            "18/18 [==============================] - 2s 124ms/step - loss: 133.8856 - val_loss: 741.1821\n",
            "Epoch 30/100\n",
            "18/18 [==============================] - 0s 8ms/step - loss: 137.1595 - val_loss: 801.0820\n",
            "Epoch 31/100\n",
            "18/18 [==============================] - 2s 121ms/step - loss: 133.4885 - val_loss: 722.8451\n",
            "Epoch 32/100\n",
            "18/18 [==============================] - 2s 122ms/step - loss: 128.3686 - val_loss: 716.4791\n",
            "Epoch 33/100\n",
            "18/18 [==============================] - 3s 153ms/step - loss: 128.8253 - val_loss: 708.4883\n",
            "Epoch 34/100\n",
            "18/18 [==============================] - 2s 125ms/step - loss: 127.2989 - val_loss: 702.0123\n",
            "Epoch 35/100\n",
            "18/18 [==============================] - 2s 122ms/step - loss: 125.3492 - val_loss: 695.7054\n",
            "Epoch 36/100\n",
            "18/18 [==============================] - 2s 124ms/step - loss: 125.7569 - val_loss: 688.6621\n",
            "Epoch 37/100\n",
            "18/18 [==============================] - 3s 147ms/step - loss: 123.5287 - val_loss: 685.9412\n",
            "Epoch 38/100\n",
            "18/18 [==============================] - 2s 126ms/step - loss: 122.7668 - val_loss: 675.9066\n",
            "Epoch 39/100\n",
            "18/18 [==============================] - 0s 11ms/step - loss: 123.1838 - val_loss: 692.7955\n",
            "Epoch 40/100\n",
            "18/18 [==============================] - 0s 12ms/step - loss: 123.0259 - val_loss: 686.6681\n",
            "Epoch 41/100\n",
            "18/18 [==============================] - 3s 161ms/step - loss: 121.4222 - val_loss: 669.2173\n",
            "Epoch 42/100\n",
            "18/18 [==============================] - 2s 121ms/step - loss: 120.4806 - val_loss: 658.3869\n",
            "Epoch 43/100\n",
            "18/18 [==============================] - 0s 7ms/step - loss: 120.6697 - val_loss: 662.2023\n",
            "Epoch 44/100\n",
            "18/18 [==============================] - 3s 149ms/step - loss: 120.1796 - val_loss: 658.2613\n",
            "Epoch 45/100\n",
            "18/18 [==============================] - 2s 123ms/step - loss: 118.6844 - val_loss: 649.7899\n",
            "Epoch 46/100\n",
            "18/18 [==============================] - 2s 126ms/step - loss: 118.7117 - val_loss: 647.3272\n",
            "Epoch 47/100\n",
            "18/18 [==============================] - 0s 8ms/step - loss: 118.6399 - val_loss: 647.6370\n",
            "Epoch 48/100\n",
            "18/18 [==============================] - 3s 148ms/step - loss: 118.3216 - val_loss: 640.3016\n",
            "Epoch 49/100\n",
            "18/18 [==============================] - 0s 12ms/step - loss: 116.9393 - val_loss: 645.8013\n",
            "Epoch 50/100\n",
            "18/18 [==============================] - 0s 13ms/step - loss: 119.0250 - val_loss: 667.5265\n",
            "Epoch 51/100\n",
            "18/18 [==============================] - 0s 12ms/step - loss: 118.4028 - val_loss: 656.3523\n",
            "Epoch 52/100\n",
            "18/18 [==============================] - 2s 134ms/step - loss: 117.5406 - val_loss: 638.7510\n",
            "Epoch 53/100\n",
            "18/18 [==============================] - 3s 153ms/step - loss: 116.9894 - val_loss: 629.9164\n",
            "Epoch 54/100\n",
            "18/18 [==============================] - 2s 126ms/step - loss: 117.4178 - val_loss: 628.5210\n",
            "Epoch 55/100\n",
            "18/18 [==============================] - 2s 123ms/step - loss: 115.8022 - val_loss: 625.3377\n",
            "Epoch 56/100\n",
            "18/18 [==============================] - 0s 7ms/step - loss: 117.3967 - val_loss: 640.9752\n",
            "Epoch 57/100\n",
            "18/18 [==============================] - 0s 7ms/step - loss: 125.2589 - val_loss: 654.8215\n",
            "Epoch 58/100\n",
            "18/18 [==============================] - 0s 9ms/step - loss: 115.8423 - val_loss: 636.1068\n",
            "Epoch 59/100\n",
            "18/18 [==============================] - 2s 123ms/step - loss: 114.6319 - val_loss: 620.9517\n",
            "Epoch 60/100\n",
            "18/18 [==============================] - 3s 148ms/step - loss: 113.7419 - val_loss: 618.3371\n",
            "Epoch 61/100\n",
            "18/18 [==============================] - 0s 7ms/step - loss: 114.0392 - val_loss: 628.5099\n",
            "Epoch 62/100\n",
            "18/18 [==============================] - 0s 7ms/step - loss: 114.9199 - val_loss: 653.9252\n",
            "Epoch 63/100\n",
            "18/18 [==============================] - 2s 127ms/step - loss: 119.0724 - val_loss: 614.3364\n",
            "Epoch 64/100\n",
            "18/18 [==============================] - 0s 7ms/step - loss: 112.9019 - val_loss: 651.8559\n",
            "Epoch 65/100\n",
            "18/18 [==============================] - 2s 125ms/step - loss: 115.5124 - val_loss: 614.2787\n",
            "Epoch 66/100\n",
            "18/18 [==============================] - 0s 7ms/step - loss: 113.0171 - val_loss: 617.8974\n",
            "Epoch 67/100\n",
            "18/18 [==============================] - 2s 121ms/step - loss: 114.9180 - val_loss: 612.1113\n",
            "Epoch 68/100\n",
            "18/18 [==============================] - 0s 7ms/step - loss: 115.3568 - val_loss: 622.4700\n",
            "Epoch 69/100\n",
            "18/18 [==============================] - 0s 7ms/step - loss: 120.0214 - val_loss: 630.9935\n",
            "Epoch 70/100\n",
            "18/18 [==============================] - 0s 8ms/step - loss: 115.0556 - val_loss: 612.3072\n",
            "Epoch 71/100\n",
            "18/18 [==============================] - 0s 7ms/step - loss: 112.5049 - val_loss: 629.6296\n",
            "Epoch 72/100\n",
            "18/18 [==============================] - 3s 150ms/step - loss: 115.5852 - val_loss: 610.1513\n",
            "Epoch 73/100\n",
            "18/18 [==============================] - 2s 123ms/step - loss: 111.9825 - val_loss: 606.7275\n",
            "Epoch 74/100\n",
            "18/18 [==============================] - 2s 126ms/step - loss: 113.2092 - val_loss: 605.5071\n",
            "Epoch 75/100\n",
            "18/18 [==============================] - 0s 8ms/step - loss: 113.3831 - val_loss: 652.2045\n",
            "Epoch 76/100\n",
            "18/18 [==============================] - 0s 8ms/step - loss: 113.4370 - val_loss: 614.1932\n",
            "Epoch 77/100\n",
            "18/18 [==============================] - 0s 8ms/step - loss: 116.5765 - val_loss: 674.0024\n",
            "Epoch 78/100\n",
            "18/18 [==============================] - 0s 7ms/step - loss: 116.6404 - val_loss: 647.2423\n",
            "Epoch 79/100\n",
            "18/18 [==============================] - 2s 127ms/step - loss: 113.2623 - val_loss: 599.9657\n",
            "Epoch 80/100\n",
            "18/18 [==============================] - 0s 8ms/step - loss: 111.0878 - val_loss: 615.8782\n",
            "Epoch 81/100\n",
            "18/18 [==============================] - 0s 7ms/step - loss: 111.9540 - val_loss: 628.3702\n",
            "Epoch 82/100\n",
            "18/18 [==============================] - 2s 124ms/step - loss: 114.5116 - val_loss: 598.1022\n",
            "Epoch 83/100\n",
            "18/18 [==============================] - 0s 7ms/step - loss: 112.2550 - val_loss: 615.2880\n",
            "Epoch 84/100\n",
            "18/18 [==============================] - 0s 9ms/step - loss: 112.9201 - val_loss: 612.0891\n",
            "Epoch 85/100\n",
            "18/18 [==============================] - 0s 8ms/step - loss: 111.3591 - val_loss: 640.2709\n",
            "Epoch 86/100\n",
            "18/18 [==============================] - 0s 8ms/step - loss: 114.1743 - val_loss: 615.4506\n",
            "Epoch 87/100\n",
            "18/18 [==============================] - 0s 8ms/step - loss: 112.8531 - val_loss: 603.0180\n",
            "Epoch 88/100\n",
            "18/18 [==============================] - 3s 154ms/step - loss: 111.1569 - val_loss: 597.7563\n",
            "Epoch 89/100\n",
            "18/18 [==============================] - 0s 7ms/step - loss: 110.5754 - val_loss: 634.8388\n",
            "Epoch 90/100\n",
            "18/18 [==============================] - 0s 9ms/step - loss: 116.8749 - val_loss: 655.9467\n",
            "Epoch 91/100\n",
            "18/18 [==============================] - 0s 8ms/step - loss: 116.2824 - val_loss: 648.6775\n",
            "Epoch 92/100\n",
            "18/18 [==============================] - 2s 127ms/step - loss: 112.0133 - val_loss: 596.2877\n",
            "Epoch 93/100\n",
            "18/18 [==============================] - 0s 7ms/step - loss: 111.3116 - val_loss: 618.6779\n",
            "Epoch 94/100\n",
            "18/18 [==============================] - 0s 8ms/step - loss: 110.9785 - val_loss: 606.5636\n",
            "Epoch 95/100\n",
            "18/18 [==============================] - 2s 126ms/step - loss: 110.1036 - val_loss: 592.9674\n",
            "Epoch 96/100\n",
            "18/18 [==============================] - 0s 8ms/step - loss: 112.3581 - val_loss: 601.2849\n",
            "Epoch 97/100\n",
            "18/18 [==============================] - 0s 7ms/step - loss: 110.3357 - val_loss: 612.8486\n",
            "Epoch 98/100\n",
            "18/18 [==============================] - 0s 8ms/step - loss: 110.0590 - val_loss: 595.1175\n",
            "Epoch 99/100\n",
            "18/18 [==============================] - 0s 7ms/step - loss: 109.9130 - val_loss: 593.1092\n",
            "Epoch 100/100\n",
            "18/18 [==============================] - 0s 8ms/step - loss: 114.3973 - val_loss: 624.0092\n"
          ]
        },
        {
          "output_type": "execute_result",
          "data": {
            "text/plain": [
              "<keras.callbacks.History at 0x7f5ef3559850>"
            ]
          },
          "metadata": {},
          "execution_count": 97
        }
      ]
    },
    {
      "cell_type": "code",
      "source": [
        "# Load in best version of model 5 and evaluate it\n",
        "model_5 = tf.keras.models.load_model(\"model_experiments/model_5_LSTM\")\n",
        "model_5.evaluate(test_windows,test_labels)"
      ],
      "metadata": {
        "colab": {
          "base_uri": "https://localhost:8080/"
        },
        "id": "mV_j_lTy2IJK",
        "outputId": "d22a20a2-90a1-41f4-bca3-c2d68b598f50"
      },
      "execution_count": 98,
      "outputs": [
        {
          "output_type": "stream",
          "name": "stdout",
          "text": [
            "18/18 [==============================] - 0s 3ms/step - loss: 592.9673\n"
          ]
        },
        {
          "output_type": "execute_result",
          "data": {
            "text/plain": [
              "592.9673461914062"
            ]
          },
          "metadata": {},
          "execution_count": 98
        }
      ]
    },
    {
      "cell_type": "code",
      "source": [
        "# Make prediction with our LSTM model\n",
        "model_5_preds = make_preds(model_5,test_windows)\n",
        "model_5_preds[:5]"
      ],
      "metadata": {
        "colab": {
          "base_uri": "https://localhost:8080/"
        },
        "id": "iF3eWi9X5WTh",
        "outputId": "8bb442fc-ddae-4a6f-fc12-b19641501642"
      },
      "execution_count": 99,
      "outputs": [
        {
          "output_type": "stream",
          "name": "stdout",
          "text": [
            "18/18 [==============================] - 0s 2ms/step\n"
          ]
        },
        {
          "output_type": "execute_result",
          "data": {
            "text/plain": [
              "<tf.Tensor: shape=(5,), dtype=float32, numpy=array([8928.547, 8771.724, 8981.306, 8785.671, 8692.619], dtype=float32)>"
            ]
          },
          "metadata": {},
          "execution_count": 99
        }
      ]
    },
    {
      "cell_type": "code",
      "source": [
        "# Evaluate model 5 predictions\n",
        "model_5_results = evaluate_preds(y_true = tf.squeeze(test_labels),\n",
        "                                 y_pred = model_5_preds)\n",
        "model_5_results"
      ],
      "metadata": {
        "colab": {
          "base_uri": "https://localhost:8080/"
        },
        "id": "C6Xd8HSt5nCa",
        "outputId": "5afc199a-0358-4473-a934-e3c5a2a17062"
      },
      "execution_count": 100,
      "outputs": [
        {
          "output_type": "execute_result",
          "data": {
            "text/plain": [
              "{'mae': 592.96735,\n",
              " 'mse': 1248880.5,\n",
              " 'rmse': 1117.5332,\n",
              " 'mape': 2.6613557,\n",
              " 'mase': 1.0416794}"
            ]
          },
          "metadata": {},
          "execution_count": 100
        }
      ]
    },
    {
      "cell_type": "markdown",
      "source": [
        "## Make a multivariate time series dataset\n",
        "\n",
        "Before we add a feature to our time series what is the feature we can use\n",
        "\n",
        "one feature we could add is wether or not *** tweeted that day\n",
        "\n",
        "Whats better feature is there to use\n",
        "how about the bitcoin halving event"
      ],
      "metadata": {
        "id": "3dNrY6OB6AoA"
      }
    },
    {
      "cell_type": "code",
      "source": [
        "# Lets make a multivariate time series\n",
        "bitcoin_prices"
      ],
      "metadata": {
        "id": "z-eNqxA1CFEK",
        "colab": {
          "base_uri": "https://localhost:8080/",
          "height": 0
        },
        "outputId": "ae6e9b31-02d2-4041-f034-9e5715b416cb"
      },
      "execution_count": 101,
      "outputs": [
        {
          "output_type": "execute_result",
          "data": {
            "text/plain": [
              "                   Price\n",
              "Date                    \n",
              "2013-10-01    123.654990\n",
              "2013-10-02    125.455000\n",
              "2013-10-03    108.584830\n",
              "2013-10-04    118.674660\n",
              "2013-10-05    121.338660\n",
              "...                  ...\n",
              "2021-05-14  49764.132082\n",
              "2021-05-15  50032.693137\n",
              "2021-05-16  47885.625255\n",
              "2021-05-17  45604.615754\n",
              "2021-05-18  43144.471291\n",
              "\n",
              "[2787 rows x 1 columns]"
            ],
            "text/html": [
              "\n",
              "  <div id=\"df-e9e35c77-7650-451e-82f9-b7ab425bc357\">\n",
              "    <div class=\"colab-df-container\">\n",
              "      <div>\n",
              "<style scoped>\n",
              "    .dataframe tbody tr th:only-of-type {\n",
              "        vertical-align: middle;\n",
              "    }\n",
              "\n",
              "    .dataframe tbody tr th {\n",
              "        vertical-align: top;\n",
              "    }\n",
              "\n",
              "    .dataframe thead th {\n",
              "        text-align: right;\n",
              "    }\n",
              "</style>\n",
              "<table border=\"1\" class=\"dataframe\">\n",
              "  <thead>\n",
              "    <tr style=\"text-align: right;\">\n",
              "      <th></th>\n",
              "      <th>Price</th>\n",
              "    </tr>\n",
              "    <tr>\n",
              "      <th>Date</th>\n",
              "      <th></th>\n",
              "    </tr>\n",
              "  </thead>\n",
              "  <tbody>\n",
              "    <tr>\n",
              "      <th>2013-10-01</th>\n",
              "      <td>123.654990</td>\n",
              "    </tr>\n",
              "    <tr>\n",
              "      <th>2013-10-02</th>\n",
              "      <td>125.455000</td>\n",
              "    </tr>\n",
              "    <tr>\n",
              "      <th>2013-10-03</th>\n",
              "      <td>108.584830</td>\n",
              "    </tr>\n",
              "    <tr>\n",
              "      <th>2013-10-04</th>\n",
              "      <td>118.674660</td>\n",
              "    </tr>\n",
              "    <tr>\n",
              "      <th>2013-10-05</th>\n",
              "      <td>121.338660</td>\n",
              "    </tr>\n",
              "    <tr>\n",
              "      <th>...</th>\n",
              "      <td>...</td>\n",
              "    </tr>\n",
              "    <tr>\n",
              "      <th>2021-05-14</th>\n",
              "      <td>49764.132082</td>\n",
              "    </tr>\n",
              "    <tr>\n",
              "      <th>2021-05-15</th>\n",
              "      <td>50032.693137</td>\n",
              "    </tr>\n",
              "    <tr>\n",
              "      <th>2021-05-16</th>\n",
              "      <td>47885.625255</td>\n",
              "    </tr>\n",
              "    <tr>\n",
              "      <th>2021-05-17</th>\n",
              "      <td>45604.615754</td>\n",
              "    </tr>\n",
              "    <tr>\n",
              "      <th>2021-05-18</th>\n",
              "      <td>43144.471291</td>\n",
              "    </tr>\n",
              "  </tbody>\n",
              "</table>\n",
              "<p>2787 rows × 1 columns</p>\n",
              "</div>\n",
              "      <button class=\"colab-df-convert\" onclick=\"convertToInteractive('df-e9e35c77-7650-451e-82f9-b7ab425bc357')\"\n",
              "              title=\"Convert this dataframe to an interactive table.\"\n",
              "              style=\"display:none;\">\n",
              "        \n",
              "  <svg xmlns=\"http://www.w3.org/2000/svg\" height=\"24px\"viewBox=\"0 0 24 24\"\n",
              "       width=\"24px\">\n",
              "    <path d=\"M0 0h24v24H0V0z\" fill=\"none\"/>\n",
              "    <path d=\"M18.56 5.44l.94 2.06.94-2.06 2.06-.94-2.06-.94-.94-2.06-.94 2.06-2.06.94zm-11 1L8.5 8.5l.94-2.06 2.06-.94-2.06-.94L8.5 2.5l-.94 2.06-2.06.94zm10 10l.94 2.06.94-2.06 2.06-.94-2.06-.94-.94-2.06-.94 2.06-2.06.94z\"/><path d=\"M17.41 7.96l-1.37-1.37c-.4-.4-.92-.59-1.43-.59-.52 0-1.04.2-1.43.59L10.3 9.45l-7.72 7.72c-.78.78-.78 2.05 0 2.83L4 21.41c.39.39.9.59 1.41.59.51 0 1.02-.2 1.41-.59l7.78-7.78 2.81-2.81c.8-.78.8-2.07 0-2.86zM5.41 20L4 18.59l7.72-7.72 1.47 1.35L5.41 20z\"/>\n",
              "  </svg>\n",
              "      </button>\n",
              "      \n",
              "  <style>\n",
              "    .colab-df-container {\n",
              "      display:flex;\n",
              "      flex-wrap:wrap;\n",
              "      gap: 12px;\n",
              "    }\n",
              "\n",
              "    .colab-df-convert {\n",
              "      background-color: #E8F0FE;\n",
              "      border: none;\n",
              "      border-radius: 50%;\n",
              "      cursor: pointer;\n",
              "      display: none;\n",
              "      fill: #1967D2;\n",
              "      height: 32px;\n",
              "      padding: 0 0 0 0;\n",
              "      width: 32px;\n",
              "    }\n",
              "\n",
              "    .colab-df-convert:hover {\n",
              "      background-color: #E2EBFA;\n",
              "      box-shadow: 0px 1px 2px rgba(60, 64, 67, 0.3), 0px 1px 3px 1px rgba(60, 64, 67, 0.15);\n",
              "      fill: #174EA6;\n",
              "    }\n",
              "\n",
              "    [theme=dark] .colab-df-convert {\n",
              "      background-color: #3B4455;\n",
              "      fill: #D2E3FC;\n",
              "    }\n",
              "\n",
              "    [theme=dark] .colab-df-convert:hover {\n",
              "      background-color: #434B5C;\n",
              "      box-shadow: 0px 1px 3px 1px rgba(0, 0, 0, 0.15);\n",
              "      filter: drop-shadow(0px 1px 2px rgba(0, 0, 0, 0.3));\n",
              "      fill: #FFFFFF;\n",
              "    }\n",
              "  </style>\n",
              "\n",
              "      <script>\n",
              "        const buttonEl =\n",
              "          document.querySelector('#df-e9e35c77-7650-451e-82f9-b7ab425bc357 button.colab-df-convert');\n",
              "        buttonEl.style.display =\n",
              "          google.colab.kernel.accessAllowed ? 'block' : 'none';\n",
              "\n",
              "        async function convertToInteractive(key) {\n",
              "          const element = document.querySelector('#df-e9e35c77-7650-451e-82f9-b7ab425bc357');\n",
              "          const dataTable =\n",
              "            await google.colab.kernel.invokeFunction('convertToInteractive',\n",
              "                                                     [key], {});\n",
              "          if (!dataTable) return;\n",
              "\n",
              "          const docLinkHtml = 'Like what you see? Visit the ' +\n",
              "            '<a target=\"_blank\" href=https://colab.research.google.com/notebooks/data_table.ipynb>data table notebook</a>'\n",
              "            + ' to learn more about interactive tables.';\n",
              "          element.innerHTML = '';\n",
              "          dataTable['output_type'] = 'display_data';\n",
              "          await google.colab.output.renderOutput(dataTable, element);\n",
              "          const docLink = document.createElement('div');\n",
              "          docLink.innerHTML = docLinkHtml;\n",
              "          element.appendChild(docLink);\n",
              "        }\n",
              "      </script>\n",
              "    </div>\n",
              "  </div>\n",
              "  "
            ]
          },
          "metadata": {},
          "execution_count": 101
        }
      ]
    },
    {
      "cell_type": "code",
      "source": [
        "# Lets add the bitcoin halving events to our dataset\n",
        "block_reward_1 = 50 # 3 january 2009 - this block reward isnt in our dataset\n",
        "block_reward_2 = 25 # 8 nov 2012\n",
        "block_reward_3 = 12.5 # 9 july 2006\n",
        "block_reward_4 = 6.25 # 18 May 2020\n",
        "\n",
        "# Block reward dates\n",
        "block_reward_2_datetime = np.datetime64(\"2012-11-28\")\n",
        "block_reward_3_datetime = np.datetime64(\"2016-07-09\")\n",
        "block_reward_4_datetime = np.datetime64(\"2020-05-18\")"
      ],
      "metadata": {
        "id": "7N6rijaUbDEm"
      },
      "execution_count": 102,
      "outputs": []
    },
    {
      "cell_type": "code",
      "source": [
        "# Create date ranges of where specific block_reward values will be\n",
        "block_reward_2_days = (block_reward_3_datetime - bitcoin_prices.index[0]).days\n",
        "block_reward_3_days = (block_reward_4_datetime - bitcoin_prices.index[0]).days\n",
        "block_reward_2_days,block_reward_3_days"
      ],
      "metadata": {
        "colab": {
          "base_uri": "https://localhost:8080/"
        },
        "id": "jbHRvZamdOBF",
        "outputId": "15db10c6-60b9-420b-fee5-6c69ce520453"
      },
      "execution_count": 103,
      "outputs": [
        {
          "output_type": "execute_result",
          "data": {
            "text/plain": [
              "(1012, 2421)"
            ]
          },
          "metadata": {},
          "execution_count": 103
        }
      ]
    },
    {
      "cell_type": "code",
      "source": [
        "# Add in block reward column\n",
        "bitcoin_prices_block = bitcoin_prices.copy()\n",
        "bitcoin_prices_block[\"block_reward\"] = None\n",
        "\n",
        "# Add in block reward values as a feature to our dataframe\n",
        "bitcoin_prices_block.iloc[:block_reward_2_days,-1] = block_reward_2\n",
        "bitcoin_prices_block.iloc[block_reward_2_days:block_reward_3_days,-1] = block_reward_3\n",
        "bitcoin_prices_block.iloc[block_reward_3_days:,-1] = block_reward_4"
      ],
      "metadata": {
        "id": "-Ld_f9ZSlK1v"
      },
      "execution_count": 104,
      "outputs": []
    },
    {
      "cell_type": "code",
      "source": [
        "bitcoin_prices_block.head()"
      ],
      "metadata": {
        "colab": {
          "base_uri": "https://localhost:8080/",
          "height": 0
        },
        "id": "e9g5qp5DoIV1",
        "outputId": "e13bddcc-7f9d-4220-b917-0866a7cec82d"
      },
      "execution_count": 105,
      "outputs": [
        {
          "output_type": "execute_result",
          "data": {
            "text/plain": [
              "                Price block_reward\n",
              "Date                              \n",
              "2013-10-01  123.65499           25\n",
              "2013-10-02  125.45500           25\n",
              "2013-10-03  108.58483           25\n",
              "2013-10-04  118.67466           25\n",
              "2013-10-05  121.33866           25"
            ],
            "text/html": [
              "\n",
              "  <div id=\"df-9a99eab4-3fa3-477b-9350-5d107383e2ba\">\n",
              "    <div class=\"colab-df-container\">\n",
              "      <div>\n",
              "<style scoped>\n",
              "    .dataframe tbody tr th:only-of-type {\n",
              "        vertical-align: middle;\n",
              "    }\n",
              "\n",
              "    .dataframe tbody tr th {\n",
              "        vertical-align: top;\n",
              "    }\n",
              "\n",
              "    .dataframe thead th {\n",
              "        text-align: right;\n",
              "    }\n",
              "</style>\n",
              "<table border=\"1\" class=\"dataframe\">\n",
              "  <thead>\n",
              "    <tr style=\"text-align: right;\">\n",
              "      <th></th>\n",
              "      <th>Price</th>\n",
              "      <th>block_reward</th>\n",
              "    </tr>\n",
              "    <tr>\n",
              "      <th>Date</th>\n",
              "      <th></th>\n",
              "      <th></th>\n",
              "    </tr>\n",
              "  </thead>\n",
              "  <tbody>\n",
              "    <tr>\n",
              "      <th>2013-10-01</th>\n",
              "      <td>123.65499</td>\n",
              "      <td>25</td>\n",
              "    </tr>\n",
              "    <tr>\n",
              "      <th>2013-10-02</th>\n",
              "      <td>125.45500</td>\n",
              "      <td>25</td>\n",
              "    </tr>\n",
              "    <tr>\n",
              "      <th>2013-10-03</th>\n",
              "      <td>108.58483</td>\n",
              "      <td>25</td>\n",
              "    </tr>\n",
              "    <tr>\n",
              "      <th>2013-10-04</th>\n",
              "      <td>118.67466</td>\n",
              "      <td>25</td>\n",
              "    </tr>\n",
              "    <tr>\n",
              "      <th>2013-10-05</th>\n",
              "      <td>121.33866</td>\n",
              "      <td>25</td>\n",
              "    </tr>\n",
              "  </tbody>\n",
              "</table>\n",
              "</div>\n",
              "      <button class=\"colab-df-convert\" onclick=\"convertToInteractive('df-9a99eab4-3fa3-477b-9350-5d107383e2ba')\"\n",
              "              title=\"Convert this dataframe to an interactive table.\"\n",
              "              style=\"display:none;\">\n",
              "        \n",
              "  <svg xmlns=\"http://www.w3.org/2000/svg\" height=\"24px\"viewBox=\"0 0 24 24\"\n",
              "       width=\"24px\">\n",
              "    <path d=\"M0 0h24v24H0V0z\" fill=\"none\"/>\n",
              "    <path d=\"M18.56 5.44l.94 2.06.94-2.06 2.06-.94-2.06-.94-.94-2.06-.94 2.06-2.06.94zm-11 1L8.5 8.5l.94-2.06 2.06-.94-2.06-.94L8.5 2.5l-.94 2.06-2.06.94zm10 10l.94 2.06.94-2.06 2.06-.94-2.06-.94-.94-2.06-.94 2.06-2.06.94z\"/><path d=\"M17.41 7.96l-1.37-1.37c-.4-.4-.92-.59-1.43-.59-.52 0-1.04.2-1.43.59L10.3 9.45l-7.72 7.72c-.78.78-.78 2.05 0 2.83L4 21.41c.39.39.9.59 1.41.59.51 0 1.02-.2 1.41-.59l7.78-7.78 2.81-2.81c.8-.78.8-2.07 0-2.86zM5.41 20L4 18.59l7.72-7.72 1.47 1.35L5.41 20z\"/>\n",
              "  </svg>\n",
              "      </button>\n",
              "      \n",
              "  <style>\n",
              "    .colab-df-container {\n",
              "      display:flex;\n",
              "      flex-wrap:wrap;\n",
              "      gap: 12px;\n",
              "    }\n",
              "\n",
              "    .colab-df-convert {\n",
              "      background-color: #E8F0FE;\n",
              "      border: none;\n",
              "      border-radius: 50%;\n",
              "      cursor: pointer;\n",
              "      display: none;\n",
              "      fill: #1967D2;\n",
              "      height: 32px;\n",
              "      padding: 0 0 0 0;\n",
              "      width: 32px;\n",
              "    }\n",
              "\n",
              "    .colab-df-convert:hover {\n",
              "      background-color: #E2EBFA;\n",
              "      box-shadow: 0px 1px 2px rgba(60, 64, 67, 0.3), 0px 1px 3px 1px rgba(60, 64, 67, 0.15);\n",
              "      fill: #174EA6;\n",
              "    }\n",
              "\n",
              "    [theme=dark] .colab-df-convert {\n",
              "      background-color: #3B4455;\n",
              "      fill: #D2E3FC;\n",
              "    }\n",
              "\n",
              "    [theme=dark] .colab-df-convert:hover {\n",
              "      background-color: #434B5C;\n",
              "      box-shadow: 0px 1px 3px 1px rgba(0, 0, 0, 0.15);\n",
              "      filter: drop-shadow(0px 1px 2px rgba(0, 0, 0, 0.3));\n",
              "      fill: #FFFFFF;\n",
              "    }\n",
              "  </style>\n",
              "\n",
              "      <script>\n",
              "        const buttonEl =\n",
              "          document.querySelector('#df-9a99eab4-3fa3-477b-9350-5d107383e2ba button.colab-df-convert');\n",
              "        buttonEl.style.display =\n",
              "          google.colab.kernel.accessAllowed ? 'block' : 'none';\n",
              "\n",
              "        async function convertToInteractive(key) {\n",
              "          const element = document.querySelector('#df-9a99eab4-3fa3-477b-9350-5d107383e2ba');\n",
              "          const dataTable =\n",
              "            await google.colab.kernel.invokeFunction('convertToInteractive',\n",
              "                                                     [key], {});\n",
              "          if (!dataTable) return;\n",
              "\n",
              "          const docLinkHtml = 'Like what you see? Visit the ' +\n",
              "            '<a target=\"_blank\" href=https://colab.research.google.com/notebooks/data_table.ipynb>data table notebook</a>'\n",
              "            + ' to learn more about interactive tables.';\n",
              "          element.innerHTML = '';\n",
              "          dataTable['output_type'] = 'display_data';\n",
              "          await google.colab.output.renderOutput(dataTable, element);\n",
              "          const docLink = document.createElement('div');\n",
              "          docLink.innerHTML = docLinkHtml;\n",
              "          element.appendChild(docLink);\n",
              "        }\n",
              "      </script>\n",
              "    </div>\n",
              "  </div>\n",
              "  "
            ]
          },
          "metadata": {},
          "execution_count": 105
        }
      ]
    },
    {
      "cell_type": "code",
      "source": [
        "bitcoin_prices_block.tail()"
      ],
      "metadata": {
        "colab": {
          "base_uri": "https://localhost:8080/",
          "height": 0
        },
        "id": "7Us0Xg1Iobx0",
        "outputId": "3adc5bf3-7038-40fd-9616-b8c7a92e4738"
      },
      "execution_count": 106,
      "outputs": [
        {
          "output_type": "execute_result",
          "data": {
            "text/plain": [
              "                   Price block_reward\n",
              "Date                                 \n",
              "2021-05-14  49764.132082         6.25\n",
              "2021-05-15  50032.693137         6.25\n",
              "2021-05-16  47885.625255         6.25\n",
              "2021-05-17  45604.615754         6.25\n",
              "2021-05-18  43144.471291         6.25"
            ],
            "text/html": [
              "\n",
              "  <div id=\"df-28f3f50a-78f1-441d-a3b2-080eef509ed5\">\n",
              "    <div class=\"colab-df-container\">\n",
              "      <div>\n",
              "<style scoped>\n",
              "    .dataframe tbody tr th:only-of-type {\n",
              "        vertical-align: middle;\n",
              "    }\n",
              "\n",
              "    .dataframe tbody tr th {\n",
              "        vertical-align: top;\n",
              "    }\n",
              "\n",
              "    .dataframe thead th {\n",
              "        text-align: right;\n",
              "    }\n",
              "</style>\n",
              "<table border=\"1\" class=\"dataframe\">\n",
              "  <thead>\n",
              "    <tr style=\"text-align: right;\">\n",
              "      <th></th>\n",
              "      <th>Price</th>\n",
              "      <th>block_reward</th>\n",
              "    </tr>\n",
              "    <tr>\n",
              "      <th>Date</th>\n",
              "      <th></th>\n",
              "      <th></th>\n",
              "    </tr>\n",
              "  </thead>\n",
              "  <tbody>\n",
              "    <tr>\n",
              "      <th>2021-05-14</th>\n",
              "      <td>49764.132082</td>\n",
              "      <td>6.25</td>\n",
              "    </tr>\n",
              "    <tr>\n",
              "      <th>2021-05-15</th>\n",
              "      <td>50032.693137</td>\n",
              "      <td>6.25</td>\n",
              "    </tr>\n",
              "    <tr>\n",
              "      <th>2021-05-16</th>\n",
              "      <td>47885.625255</td>\n",
              "      <td>6.25</td>\n",
              "    </tr>\n",
              "    <tr>\n",
              "      <th>2021-05-17</th>\n",
              "      <td>45604.615754</td>\n",
              "      <td>6.25</td>\n",
              "    </tr>\n",
              "    <tr>\n",
              "      <th>2021-05-18</th>\n",
              "      <td>43144.471291</td>\n",
              "      <td>6.25</td>\n",
              "    </tr>\n",
              "  </tbody>\n",
              "</table>\n",
              "</div>\n",
              "      <button class=\"colab-df-convert\" onclick=\"convertToInteractive('df-28f3f50a-78f1-441d-a3b2-080eef509ed5')\"\n",
              "              title=\"Convert this dataframe to an interactive table.\"\n",
              "              style=\"display:none;\">\n",
              "        \n",
              "  <svg xmlns=\"http://www.w3.org/2000/svg\" height=\"24px\"viewBox=\"0 0 24 24\"\n",
              "       width=\"24px\">\n",
              "    <path d=\"M0 0h24v24H0V0z\" fill=\"none\"/>\n",
              "    <path d=\"M18.56 5.44l.94 2.06.94-2.06 2.06-.94-2.06-.94-.94-2.06-.94 2.06-2.06.94zm-11 1L8.5 8.5l.94-2.06 2.06-.94-2.06-.94L8.5 2.5l-.94 2.06-2.06.94zm10 10l.94 2.06.94-2.06 2.06-.94-2.06-.94-.94-2.06-.94 2.06-2.06.94z\"/><path d=\"M17.41 7.96l-1.37-1.37c-.4-.4-.92-.59-1.43-.59-.52 0-1.04.2-1.43.59L10.3 9.45l-7.72 7.72c-.78.78-.78 2.05 0 2.83L4 21.41c.39.39.9.59 1.41.59.51 0 1.02-.2 1.41-.59l7.78-7.78 2.81-2.81c.8-.78.8-2.07 0-2.86zM5.41 20L4 18.59l7.72-7.72 1.47 1.35L5.41 20z\"/>\n",
              "  </svg>\n",
              "      </button>\n",
              "      \n",
              "  <style>\n",
              "    .colab-df-container {\n",
              "      display:flex;\n",
              "      flex-wrap:wrap;\n",
              "      gap: 12px;\n",
              "    }\n",
              "\n",
              "    .colab-df-convert {\n",
              "      background-color: #E8F0FE;\n",
              "      border: none;\n",
              "      border-radius: 50%;\n",
              "      cursor: pointer;\n",
              "      display: none;\n",
              "      fill: #1967D2;\n",
              "      height: 32px;\n",
              "      padding: 0 0 0 0;\n",
              "      width: 32px;\n",
              "    }\n",
              "\n",
              "    .colab-df-convert:hover {\n",
              "      background-color: #E2EBFA;\n",
              "      box-shadow: 0px 1px 2px rgba(60, 64, 67, 0.3), 0px 1px 3px 1px rgba(60, 64, 67, 0.15);\n",
              "      fill: #174EA6;\n",
              "    }\n",
              "\n",
              "    [theme=dark] .colab-df-convert {\n",
              "      background-color: #3B4455;\n",
              "      fill: #D2E3FC;\n",
              "    }\n",
              "\n",
              "    [theme=dark] .colab-df-convert:hover {\n",
              "      background-color: #434B5C;\n",
              "      box-shadow: 0px 1px 3px 1px rgba(0, 0, 0, 0.15);\n",
              "      filter: drop-shadow(0px 1px 2px rgba(0, 0, 0, 0.3));\n",
              "      fill: #FFFFFF;\n",
              "    }\n",
              "  </style>\n",
              "\n",
              "      <script>\n",
              "        const buttonEl =\n",
              "          document.querySelector('#df-28f3f50a-78f1-441d-a3b2-080eef509ed5 button.colab-df-convert');\n",
              "        buttonEl.style.display =\n",
              "          google.colab.kernel.accessAllowed ? 'block' : 'none';\n",
              "\n",
              "        async function convertToInteractive(key) {\n",
              "          const element = document.querySelector('#df-28f3f50a-78f1-441d-a3b2-080eef509ed5');\n",
              "          const dataTable =\n",
              "            await google.colab.kernel.invokeFunction('convertToInteractive',\n",
              "                                                     [key], {});\n",
              "          if (!dataTable) return;\n",
              "\n",
              "          const docLinkHtml = 'Like what you see? Visit the ' +\n",
              "            '<a target=\"_blank\" href=https://colab.research.google.com/notebooks/data_table.ipynb>data table notebook</a>'\n",
              "            + ' to learn more about interactive tables.';\n",
              "          element.innerHTML = '';\n",
              "          dataTable['output_type'] = 'display_data';\n",
              "          await google.colab.output.renderOutput(dataTable, element);\n",
              "          const docLink = document.createElement('div');\n",
              "          docLink.innerHTML = docLinkHtml;\n",
              "          element.appendChild(docLink);\n",
              "        }\n",
              "      </script>\n",
              "    </div>\n",
              "  </div>\n",
              "  "
            ]
          },
          "metadata": {},
          "execution_count": 106
        }
      ]
    },
    {
      "cell_type": "code",
      "source": [
        "# Plot the block reward vs price over time\n",
        "from sklearn.preprocessing import minmax_scale\n",
        "scaled_price_block_df = pd.DataFrame(minmax_scale(bitcoin_prices_block[[\"Price\",\"block_reward\"]]),\n",
        "                                     columns=bitcoin_prices_block.columns,\n",
        "                                     index = bitcoin_prices_block.index)\n",
        "scaled_price_block_df.plot(figsize=(10,7))"
      ],
      "metadata": {
        "colab": {
          "base_uri": "https://localhost:8080/",
          "height": 0
        },
        "id": "UowtJF_7ojPb",
        "outputId": "5e8cd24d-4bca-4d48-e718-8bac15a14fc6"
      },
      "execution_count": 107,
      "outputs": [
        {
          "output_type": "execute_result",
          "data": {
            "text/plain": [
              "<matplotlib.axes._subplots.AxesSubplot at 0x7f5ef3c7dee0>"
            ]
          },
          "metadata": {},
          "execution_count": 107
        },
        {
          "output_type": "display_data",
          "data": {
            "text/plain": [
              "<Figure size 720x504 with 1 Axes>"
            ],
            "image/png": "[encoded data removed]"
          },
          "metadata": {
            "needs_background": "light"
          }
        }
      ]
    },
    {
      "cell_type": "markdown",
      "source": [
        "## Making a windowed dataset with pandas\n",
        "Previously we turned our univariate time series into windows but this time we got multivariate time series so we will use pandas.DataFrame.shift"
      ],
      "metadata": {
        "id": "unS-ThBEqaG7"
      }
    },
    {
      "cell_type": "code",
      "source": [
        "# Setup dataset hyperparameters\n",
        "HORIZON =1\n",
        "WINDOW_SIZE = 7"
      ],
      "metadata": {
        "id": "o3ymB77gsNJz"
      },
      "execution_count": 108,
      "outputs": []
    },
    {
      "cell_type": "code",
      "source": [
        "# Make a copy of the bitcoin historical data with block reward feature\n",
        "bitcoin_prices_windowed = bitcoin_prices_block.copy()\n",
        "\n",
        "# Add windowed columns\n",
        "for i in range(WINDOW_SIZE): # shift value for each step in WINDOW_SIZE\n",
        "  bitcoin_prices_windowed[f\"Price+{i+1}\"] = bitcoin_prices_windowed[\"Price\"].shift(periods=i+1)\n",
        "bitcoin_prices_windowed.head(10)"
      ],
      "metadata": {
        "colab": {
          "base_uri": "https://localhost:8080/",
          "height": 0
        },
        "id": "1hQG1FdNsYyC",
        "outputId": "be186248-910e-4ff2-8c5f-64d9ee65cde8"
      },
      "execution_count": 109,
      "outputs": [
        {
          "output_type": "execute_result",
          "data": {
            "text/plain": [
              "                Price block_reward    Price+1    Price+2    Price+3  \\\n",
              "Date                                                                  \n",
              "2013-10-01  123.65499           25        NaN        NaN        NaN   \n",
              "2013-10-02  125.45500           25  123.65499        NaN        NaN   \n",
              "2013-10-03  108.58483           25  125.45500  123.65499        NaN   \n",
              "2013-10-04  118.67466           25  108.58483  125.45500  123.65499   \n",
              "2013-10-05  121.33866           25  118.67466  108.58483  125.45500   \n",
              "2013-10-06  120.65533           25  121.33866  118.67466  108.58483   \n",
              "2013-10-07  121.79500           25  120.65533  121.33866  118.67466   \n",
              "2013-10-08  123.03300           25  121.79500  120.65533  121.33866   \n",
              "2013-10-09  124.04900           25  123.03300  121.79500  120.65533   \n",
              "2013-10-10  125.96116           25  124.04900  123.03300  121.79500   \n",
              "\n",
              "              Price+4    Price+5    Price+6    Price+7  \n",
              "Date                                                    \n",
              "2013-10-01        NaN        NaN        NaN        NaN  \n",
              "2013-10-02        NaN        NaN        NaN        NaN  \n",
              "2013-10-03        NaN        NaN        NaN        NaN  \n",
              "2013-10-04        NaN        NaN        NaN        NaN  \n",
              "2013-10-05  123.65499        NaN        NaN        NaN  \n",
              "2013-10-06  125.45500  123.65499        NaN        NaN  \n",
              "2013-10-07  108.58483  125.45500  123.65499        NaN  \n",
              "2013-10-08  118.67466  108.58483  125.45500  123.65499  \n",
              "2013-10-09  121.33866  118.67466  108.58483  125.45500  \n",
              "2013-10-10  120.65533  121.33866  118.67466  108.58483  "
            ],
            "text/html": [
              "\n",
              "  <div id=\"df-3cc372ec-882d-4d73-8ad0-0a2378fb8393\">\n",
              "    <div class=\"colab-df-container\">\n",
              "      <div>\n",
              "<style scoped>\n",
              "    .dataframe tbody tr th:only-of-type {\n",
              "        vertical-align: middle;\n",
              "    }\n",
              "\n",
              "    .dataframe tbody tr th {\n",
              "        vertical-align: top;\n",
              "    }\n",
              "\n",
              "    .dataframe thead th {\n",
              "        text-align: right;\n",
              "    }\n",
              "</style>\n",
              "<table border=\"1\" class=\"dataframe\">\n",
              "  <thead>\n",
              "    <tr style=\"text-align: right;\">\n",
              "      <th></th>\n",
              "      <th>Price</th>\n",
              "      <th>block_reward</th>\n",
              "      <th>Price+1</th>\n",
              "      <th>Price+2</th>\n",
              "      <th>Price+3</th>\n",
              "      <th>Price+4</th>\n",
              "      <th>Price+5</th>\n",
              "      <th>Price+6</th>\n",
              "      <th>Price+7</th>\n",
              "    </tr>\n",
              "    <tr>\n",
              "      <th>Date</th>\n",
              "      <th></th>\n",
              "      <th></th>\n",
              "      <th></th>\n",
              "      <th></th>\n",
              "      <th></th>\n",
              "      <th></th>\n",
              "      <th></th>\n",
              "      <th></th>\n",
              "      <th></th>\n",
              "    </tr>\n",
              "  </thead>\n",
              "  <tbody>\n",
              "    <tr>\n",
              "      <th>2013-10-01</th>\n",
              "      <td>123.65499</td>\n",
              "      <td>25</td>\n",
              "      <td>NaN</td>\n",
              "      <td>NaN</td>\n",
              "      <td>NaN</td>\n",
              "      <td>NaN</td>\n",
              "      <td>NaN</td>\n",
              "      <td>NaN</td>\n",
              "      <td>NaN</td>\n",
              "    </tr>\n",
              "    <tr>\n",
              "      <th>2013-10-02</th>\n",
              "      <td>125.45500</td>\n",
              "      <td>25</td>\n",
              "      <td>123.65499</td>\n",
              "      <td>NaN</td>\n",
              "      <td>NaN</td>\n",
              "      <td>NaN</td>\n",
              "      <td>NaN</td>\n",
              "      <td>NaN</td>\n",
              "      <td>NaN</td>\n",
              "    </tr>\n",
              "    <tr>\n",
              "      <th>2013-10-03</th>\n",
              "      <td>108.58483</td>\n",
              "      <td>25</td>\n",
              "      <td>125.45500</td>\n",
              "      <td>123.65499</td>\n",
              "      <td>NaN</td>\n",
              "      <td>NaN</td>\n",
              "      <td>NaN</td>\n",
              "      <td>NaN</td>\n",
              "      <td>NaN</td>\n",
              "    </tr>\n",
              "    <tr>\n",
              "      <th>2013-10-04</th>\n",
              "      <td>118.67466</td>\n",
              "      <td>25</td>\n",
              "      <td>108.58483</td>\n",
              "      <td>125.45500</td>\n",
              "      <td>123.65499</td>\n",
              "      <td>NaN</td>\n",
              "      <td>NaN</td>\n",
              "      <td>NaN</td>\n",
              "      <td>NaN</td>\n",
              "    </tr>\n",
              "    <tr>\n",
              "      <th>2013-10-05</th>\n",
              "      <td>121.33866</td>\n",
              "      <td>25</td>\n",
              "      <td>118.67466</td>\n",
              "      <td>108.58483</td>\n",
              "      <td>125.45500</td>\n",
              "      <td>123.65499</td>\n",
              "      <td>NaN</td>\n",
              "      <td>NaN</td>\n",
              "      <td>NaN</td>\n",
              "    </tr>\n",
              "    <tr>\n",
              "      <th>2013-10-06</th>\n",
              "      <td>120.65533</td>\n",
              "      <td>25</td>\n",
              "      <td>121.33866</td>\n",
              "      <td>118.67466</td>\n",
              "      <td>108.58483</td>\n",
              "      <td>125.45500</td>\n",
              "      <td>123.65499</td>\n",
              "      <td>NaN</td>\n",
              "      <td>NaN</td>\n",
              "    </tr>\n",
              "    <tr>\n",
              "      <th>2013-10-07</th>\n",
              "      <td>121.79500</td>\n",
              "      <td>25</td>\n",
              "      <td>120.65533</td>\n",
              "      <td>121.33866</td>\n",
              "      <td>118.67466</td>\n",
              "      <td>108.58483</td>\n",
              "      <td>125.45500</td>\n",
              "      <td>123.65499</td>\n",
              "      <td>NaN</td>\n",
              "    </tr>\n",
              "    <tr>\n",
              "      <th>2013-10-08</th>\n",
              "      <td>123.03300</td>\n",
              "      <td>25</td>\n",
              "      <td>121.79500</td>\n",
              "      <td>120.65533</td>\n",
              "      <td>121.33866</td>\n",
              "      <td>118.67466</td>\n",
              "      <td>108.58483</td>\n",
              "      <td>125.45500</td>\n",
              "      <td>123.65499</td>\n",
              "    </tr>\n",
              "    <tr>\n",
              "      <th>2013-10-09</th>\n",
              "      <td>124.04900</td>\n",
              "      <td>25</td>\n",
              "      <td>123.03300</td>\n",
              "      <td>121.79500</td>\n",
              "      <td>120.65533</td>\n",
              "      <td>121.33866</td>\n",
              "      <td>118.67466</td>\n",
              "      <td>108.58483</td>\n",
              "      <td>125.45500</td>\n",
              "    </tr>\n",
              "    <tr>\n",
              "      <th>2013-10-10</th>\n",
              "      <td>125.96116</td>\n",
              "      <td>25</td>\n",
              "      <td>124.04900</td>\n",
              "      <td>123.03300</td>\n",
              "      <td>121.79500</td>\n",
              "      <td>120.65533</td>\n",
              "      <td>121.33866</td>\n",
              "      <td>118.67466</td>\n",
              "      <td>108.58483</td>\n",
              "    </tr>\n",
              "  </tbody>\n",
              "</table>\n",
              "</div>\n",
              "      <button class=\"colab-df-convert\" onclick=\"convertToInteractive('df-3cc372ec-882d-4d73-8ad0-0a2378fb8393')\"\n",
              "              title=\"Convert this dataframe to an interactive table.\"\n",
              "              style=\"display:none;\">\n",
              "        \n",
              "  <svg xmlns=\"http://www.w3.org/2000/svg\" height=\"24px\"viewBox=\"0 0 24 24\"\n",
              "       width=\"24px\">\n",
              "    <path d=\"M0 0h24v24H0V0z\" fill=\"none\"/>\n",
              "    <path d=\"M18.56 5.44l.94 2.06.94-2.06 2.06-.94-2.06-.94-.94-2.06-.94 2.06-2.06.94zm-11 1L8.5 8.5l.94-2.06 2.06-.94-2.06-.94L8.5 2.5l-.94 2.06-2.06.94zm10 10l.94 2.06.94-2.06 2.06-.94-2.06-.94-.94-2.06-.94 2.06-2.06.94z\"/><path d=\"M17.41 7.96l-1.37-1.37c-.4-.4-.92-.59-1.43-.59-.52 0-1.04.2-1.43.59L10.3 9.45l-7.72 7.72c-.78.78-.78 2.05 0 2.83L4 21.41c.39.39.9.59 1.41.59.51 0 1.02-.2 1.41-.59l7.78-7.78 2.81-2.81c.8-.78.8-2.07 0-2.86zM5.41 20L4 18.59l7.72-7.72 1.47 1.35L5.41 20z\"/>\n",
              "  </svg>\n",
              "      </button>\n",
              "      \n",
              "  <style>\n",
              "    .colab-df-container {\n",
              "      display:flex;\n",
              "      flex-wrap:wrap;\n",
              "      gap: 12px;\n",
              "    }\n",
              "\n",
              "    .colab-df-convert {\n",
              "      background-color: #E8F0FE;\n",
              "      border: none;\n",
              "      border-radius: 50%;\n",
              "      cursor: pointer;\n",
              "      display: none;\n",
              "      fill: #1967D2;\n",
              "      height: 32px;\n",
              "      padding: 0 0 0 0;\n",
              "      width: 32px;\n",
              "    }\n",
              "\n",
              "    .colab-df-convert:hover {\n",
              "      background-color: #E2EBFA;\n",
              "      box-shadow: 0px 1px 2px rgba(60, 64, 67, 0.3), 0px 1px 3px 1px rgba(60, 64, 67, 0.15);\n",
              "      fill: #174EA6;\n",
              "    }\n",
              "\n",
              "    [theme=dark] .colab-df-convert {\n",
              "      background-color: #3B4455;\n",
              "      fill: #D2E3FC;\n",
              "    }\n",
              "\n",
              "    [theme=dark] .colab-df-convert:hover {\n",
              "      background-color: #434B5C;\n",
              "      box-shadow: 0px 1px 3px 1px rgba(0, 0, 0, 0.15);\n",
              "      filter: drop-shadow(0px 1px 2px rgba(0, 0, 0, 0.3));\n",
              "      fill: #FFFFFF;\n",
              "    }\n",
              "  </style>\n",
              "\n",
              "      <script>\n",
              "        const buttonEl =\n",
              "          document.querySelector('#df-3cc372ec-882d-4d73-8ad0-0a2378fb8393 button.colab-df-convert');\n",
              "        buttonEl.style.display =\n",
              "          google.colab.kernel.accessAllowed ? 'block' : 'none';\n",
              "\n",
              "        async function convertToInteractive(key) {\n",
              "          const element = document.querySelector('#df-3cc372ec-882d-4d73-8ad0-0a2378fb8393');\n",
              "          const dataTable =\n",
              "            await google.colab.kernel.invokeFunction('convertToInteractive',\n",
              "                                                     [key], {});\n",
              "          if (!dataTable) return;\n",
              "\n",
              "          const docLinkHtml = 'Like what you see? Visit the ' +\n",
              "            '<a target=\"_blank\" href=https://colab.research.google.com/notebooks/data_table.ipynb>data table notebook</a>'\n",
              "            + ' to learn more about interactive tables.';\n",
              "          element.innerHTML = '';\n",
              "          dataTable['output_type'] = 'display_data';\n",
              "          await google.colab.output.renderOutput(dataTable, element);\n",
              "          const docLink = document.createElement('div');\n",
              "          docLink.innerHTML = docLinkHtml;\n",
              "          element.appendChild(docLink);\n",
              "        }\n",
              "      </script>\n",
              "    </div>\n",
              "  </div>\n",
              "  "
            ]
          },
          "metadata": {},
          "execution_count": 109
        }
      ]
    },
    {
      "cell_type": "markdown",
      "source": [
        "What we have done is created a way to window our dataset directly from the dataset\n",
        "\n",
        "[0,1,2,3,4,5,6,block_reward] -> [7]\n",
        "\n",
        "[1,2,3,4,5,6,7,block_reward] -> [8]\n",
        "\n",
        "[2,3,4,5,6,7,8,block_reward] -> [9]"
      ],
      "metadata": {
        "id": "ku87SxHNucnb"
      }
    },
    {
      "cell_type": "code",
      "source": [
        "x = bitcoin_prices_windowed.dropna().drop(\"Price\",axis =1).astype(np.float32)\n",
        "y = bitcoin_prices_windowed.dropna()[\"Price\"].astype(np.float32)\n",
        "x.head()"
      ],
      "metadata": {
        "colab": {
          "base_uri": "https://localhost:8080/",
          "height": 0
        },
        "id": "fXjdr4rgvWLm",
        "outputId": "d3d22d6c-3650-4b1f-bbd3-835693850c7a"
      },
      "execution_count": 110,
      "outputs": [
        {
          "output_type": "execute_result",
          "data": {
            "text/plain": [
              "            block_reward     Price+1     Price+2     Price+3     Price+4  \\\n",
              "Date                                                                       \n",
              "2013-10-08          25.0  121.794998  120.655327  121.338661  118.674660   \n",
              "2013-10-09          25.0  123.032997  121.794998  120.655327  121.338661   \n",
              "2013-10-10          25.0  124.049004  123.032997  121.794998  120.655327   \n",
              "2013-10-11          25.0  125.961159  124.049004  123.032997  121.794998   \n",
              "2013-10-12          25.0  125.279663  125.961159  124.049004  123.032997   \n",
              "\n",
              "               Price+5     Price+6     Price+7  \n",
              "Date                                            \n",
              "2013-10-08  108.584831  125.455002  123.654991  \n",
              "2013-10-09  118.674660  108.584831  125.455002  \n",
              "2013-10-10  121.338661  118.674660  108.584831  \n",
              "2013-10-11  120.655327  121.338661  118.674660  \n",
              "2013-10-12  121.794998  120.655327  121.338661  "
            ],
            "text/html": [
              "\n",
              "  <div id=\"df-9a6c2d0c-6296-4bca-83ca-89b7a1dbb1bc\">\n",
              "    <div class=\"colab-df-container\">\n",
              "      <div>\n",
              "<style scoped>\n",
              "    .dataframe tbody tr th:only-of-type {\n",
              "        vertical-align: middle;\n",
              "    }\n",
              "\n",
              "    .dataframe tbody tr th {\n",
              "        vertical-align: top;\n",
              "    }\n",
              "\n",
              "    .dataframe thead th {\n",
              "        text-align: right;\n",
              "    }\n",
              "</style>\n",
              "<table border=\"1\" class=\"dataframe\">\n",
              "  <thead>\n",
              "    <tr style=\"text-align: right;\">\n",
              "      <th></th>\n",
              "      <th>block_reward</th>\n",
              "      <th>Price+1</th>\n",
              "      <th>Price+2</th>\n",
              "      <th>Price+3</th>\n",
              "      <th>Price+4</th>\n",
              "      <th>Price+5</th>\n",
              "      <th>Price+6</th>\n",
              "      <th>Price+7</th>\n",
              "    </tr>\n",
              "    <tr>\n",
              "      <th>Date</th>\n",
              "      <th></th>\n",
              "      <th></th>\n",
              "      <th></th>\n",
              "      <th></th>\n",
              "      <th></th>\n",
              "      <th></th>\n",
              "      <th></th>\n",
              "      <th></th>\n",
              "    </tr>\n",
              "  </thead>\n",
              "  <tbody>\n",
              "    <tr>\n",
              "      <th>2013-10-08</th>\n",
              "      <td>25.0</td>\n",
              "      <td>121.794998</td>\n",
              "      <td>120.655327</td>\n",
              "      <td>121.338661</td>\n",
              "      <td>118.674660</td>\n",
              "      <td>108.584831</td>\n",
              "      <td>125.455002</td>\n",
              "      <td>123.654991</td>\n",
              "    </tr>\n",
              "    <tr>\n",
              "      <th>2013-10-09</th>\n",
              "      <td>25.0</td>\n",
              "      <td>123.032997</td>\n",
              "      <td>121.794998</td>\n",
              "      <td>120.655327</td>\n",
              "      <td>121.338661</td>\n",
              "      <td>118.674660</td>\n",
              "      <td>108.584831</td>\n",
              "      <td>125.455002</td>\n",
              "    </tr>\n",
              "    <tr>\n",
              "      <th>2013-10-10</th>\n",
              "      <td>25.0</td>\n",
              "      <td>124.049004</td>\n",
              "      <td>123.032997</td>\n",
              "      <td>121.794998</td>\n",
              "      <td>120.655327</td>\n",
              "      <td>121.338661</td>\n",
              "      <td>118.674660</td>\n",
              "      <td>108.584831</td>\n",
              "    </tr>\n",
              "    <tr>\n",
              "      <th>2013-10-11</th>\n",
              "      <td>25.0</td>\n",
              "      <td>125.961159</td>\n",
              "      <td>124.049004</td>\n",
              "      <td>123.032997</td>\n",
              "      <td>121.794998</td>\n",
              "      <td>120.655327</td>\n",
              "      <td>121.338661</td>\n",
              "      <td>118.674660</td>\n",
              "    </tr>\n",
              "    <tr>\n",
              "      <th>2013-10-12</th>\n",
              "      <td>25.0</td>\n",
              "      <td>125.279663</td>\n",
              "      <td>125.961159</td>\n",
              "      <td>124.049004</td>\n",
              "      <td>123.032997</td>\n",
              "      <td>121.794998</td>\n",
              "      <td>120.655327</td>\n",
              "      <td>121.338661</td>\n",
              "    </tr>\n",
              "  </tbody>\n",
              "</table>\n",
              "</div>\n",
              "      <button class=\"colab-df-convert\" onclick=\"convertToInteractive('df-9a6c2d0c-6296-4bca-83ca-89b7a1dbb1bc')\"\n",
              "              title=\"Convert this dataframe to an interactive table.\"\n",
              "              style=\"display:none;\">\n",
              "        \n",
              "  <svg xmlns=\"http://www.w3.org/2000/svg\" height=\"24px\"viewBox=\"0 0 24 24\"\n",
              "       width=\"24px\">\n",
              "    <path d=\"M0 0h24v24H0V0z\" fill=\"none\"/>\n",
              "    <path d=\"M18.56 5.44l.94 2.06.94-2.06 2.06-.94-2.06-.94-.94-2.06-.94 2.06-2.06.94zm-11 1L8.5 8.5l.94-2.06 2.06-.94-2.06-.94L8.5 2.5l-.94 2.06-2.06.94zm10 10l.94 2.06.94-2.06 2.06-.94-2.06-.94-.94-2.06-.94 2.06-2.06.94z\"/><path d=\"M17.41 7.96l-1.37-1.37c-.4-.4-.92-.59-1.43-.59-.52 0-1.04.2-1.43.59L10.3 9.45l-7.72 7.72c-.78.78-.78 2.05 0 2.83L4 21.41c.39.39.9.59 1.41.59.51 0 1.02-.2 1.41-.59l7.78-7.78 2.81-2.81c.8-.78.8-2.07 0-2.86zM5.41 20L4 18.59l7.72-7.72 1.47 1.35L5.41 20z\"/>\n",
              "  </svg>\n",
              "      </button>\n",
              "      \n",
              "  <style>\n",
              "    .colab-df-container {\n",
              "      display:flex;\n",
              "      flex-wrap:wrap;\n",
              "      gap: 12px;\n",
              "    }\n",
              "\n",
              "    .colab-df-convert {\n",
              "      background-color: #E8F0FE;\n",
              "      border: none;\n",
              "      border-radius: 50%;\n",
              "      cursor: pointer;\n",
              "      display: none;\n",
              "      fill: #1967D2;\n",
              "      height: 32px;\n",
              "      padding: 0 0 0 0;\n",
              "      width: 32px;\n",
              "    }\n",
              "\n",
              "    .colab-df-convert:hover {\n",
              "      background-color: #E2EBFA;\n",
              "      box-shadow: 0px 1px 2px rgba(60, 64, 67, 0.3), 0px 1px 3px 1px rgba(60, 64, 67, 0.15);\n",
              "      fill: #174EA6;\n",
              "    }\n",
              "\n",
              "    [theme=dark] .colab-df-convert {\n",
              "      background-color: #3B4455;\n",
              "      fill: #D2E3FC;\n",
              "    }\n",
              "\n",
              "    [theme=dark] .colab-df-convert:hover {\n",
              "      background-color: #434B5C;\n",
              "      box-shadow: 0px 1px 3px 1px rgba(0, 0, 0, 0.15);\n",
              "      filter: drop-shadow(0px 1px 2px rgba(0, 0, 0, 0.3));\n",
              "      fill: #FFFFFF;\n",
              "    }\n",
              "  </style>\n",
              "\n",
              "      <script>\n",
              "        const buttonEl =\n",
              "          document.querySelector('#df-9a6c2d0c-6296-4bca-83ca-89b7a1dbb1bc button.colab-df-convert');\n",
              "        buttonEl.style.display =\n",
              "          google.colab.kernel.accessAllowed ? 'block' : 'none';\n",
              "\n",
              "        async function convertToInteractive(key) {\n",
              "          const element = document.querySelector('#df-9a6c2d0c-6296-4bca-83ca-89b7a1dbb1bc');\n",
              "          const dataTable =\n",
              "            await google.colab.kernel.invokeFunction('convertToInteractive',\n",
              "                                                     [key], {});\n",
              "          if (!dataTable) return;\n",
              "\n",
              "          const docLinkHtml = 'Like what you see? Visit the ' +\n",
              "            '<a target=\"_blank\" href=https://colab.research.google.com/notebooks/data_table.ipynb>data table notebook</a>'\n",
              "            + ' to learn more about interactive tables.';\n",
              "          element.innerHTML = '';\n",
              "          dataTable['output_type'] = 'display_data';\n",
              "          await google.colab.output.renderOutput(dataTable, element);\n",
              "          const docLink = document.createElement('div');\n",
              "          docLink.innerHTML = docLinkHtml;\n",
              "          element.appendChild(docLink);\n",
              "        }\n",
              "      </script>\n",
              "    </div>\n",
              "  </div>\n",
              "  "
            ]
          },
          "metadata": {},
          "execution_count": 110
        }
      ]
    },
    {
      "cell_type": "code",
      "source": [
        "y.head()"
      ],
      "metadata": {
        "colab": {
          "base_uri": "https://localhost:8080/"
        },
        "id": "jL4mk6PGwkFi",
        "outputId": "f904a7bd-2a21-48ad-bbd3-5f44dd71569c"
      },
      "execution_count": 111,
      "outputs": [
        {
          "output_type": "execute_result",
          "data": {
            "text/plain": [
              "Date\n",
              "2013-10-08    123.032997\n",
              "2013-10-09    124.049004\n",
              "2013-10-10    125.961159\n",
              "2013-10-11    125.279663\n",
              "2013-10-12    125.927498\n",
              "Name: Price, dtype: float32"
            ]
          },
          "metadata": {},
          "execution_count": 111
        }
      ]
    },
    {
      "cell_type": "code",
      "source": [
        "# Make train test sets using indexing\n",
        "split_size = int(len(x)*0.8)\n",
        "x_train, y_train = x[:split_size],y[:split_size]\n",
        "x_test, y_test = x[split_size:] , y[split_size:]\n",
        "len(x_train), len(y_train), len(x_test), len(y_test)"
      ],
      "metadata": {
        "colab": {
          "base_uri": "https://localhost:8080/"
        },
        "id": "StFTCyRxwoah",
        "outputId": "347cbed9-89cb-4cfd-85ef-56802d770039"
      },
      "execution_count": 112,
      "outputs": [
        {
          "output_type": "execute_result",
          "data": {
            "text/plain": [
              "(2224, 2224, 556, 556)"
            ]
          },
          "metadata": {},
          "execution_count": 112
        }
      ]
    },
    {
      "cell_type": "markdown",
      "source": [
        "## Model 6 : Dense (multivariate)"
      ],
      "metadata": {
        "id": "389auGblxbui"
      }
    },
    {
      "cell_type": "code",
      "source": [
        "import tensorflow as tf \n",
        "from tensorflow.keras import layers\n",
        "\n",
        "# Set random seed for as reproducible results as possible\n",
        "tf.random.set_seed(42)\n",
        "# 1. Construct Model\n",
        "model_6 = tf.keras.Sequential([\n",
        "    layers.Dense(128,activation=\"relu\"),\n",
        "    layers.Dense(HORIZON) # Linear activation is just like having no activation at all\n",
        "],name=\"model_6_dense\")# name our model so we can save it\n",
        "# 2. Compile\n",
        "model_6.compile(loss=\"mae\",\n",
        "                optimizer = tf.keras.optimizers.Adam(),\n",
        "                metrics = [\"mae\",\"mse\"])\n",
        "# 3. Fit the model\n",
        "model_6.fit(x_train,\n",
        "            y_train,\n",
        "            epochs=100,\n",
        "            verbose=1,\n",
        "            batch_size=128,\n",
        "            validation_data=(x_test,y_test),\n",
        "            callbacks=[create_model_checkpoint(model_name=model_6.name)])"
      ],
      "metadata": {
        "colab": {
          "base_uri": "https://localhost:8080/"
        },
        "id": "LOYtEmwtyHVk",
        "outputId": "705ecfd5-63cf-47ed-a1d5-439f204c7a46"
      },
      "execution_count": 113,
      "outputs": [
        {
          "output_type": "stream",
          "name": "stdout",
          "text": [
            "Epoch 1/100\n",
            "18/18 [==============================] - 1s 44ms/step - loss: 1234.6881 - mae: 1234.6881 - mse: 5282050.0000 - val_loss: 2061.8425 - val_mae: 2061.8425 - val_mse: 11377038.0000\n",
            "Epoch 2/100\n",
            "18/18 [==============================] - 1s 34ms/step - loss: 351.5003 - mae: 351.5003 - mse: 499344.9062 - val_loss: 1908.7257 - val_mae: 1908.7257 - val_mse: 8719859.0000\n",
            "Epoch 3/100\n",
            "18/18 [==============================] - 1s 32ms/step - loss: 235.4110 - mae: 235.4110 - mse: 275999.5938 - val_loss: 1329.5310 - val_mae: 1329.5310 - val_mse: 4993977.0000\n",
            "Epoch 4/100\n",
            "18/18 [==============================] - 1s 34ms/step - loss: 208.6456 - mae: 208.6456 - mse: 219543.2344 - val_loss: 1102.0128 - val_mae: 1102.0128 - val_mse: 3934336.5000\n",
            "Epoch 5/100\n",
            "18/18 [==============================] - 0s 3ms/step - loss: 196.5595 - mae: 196.5595 - mse: 204270.4688 - val_loss: 1108.6157 - val_mae: 1108.6157 - val_mse: 3824640.5000\n",
            "Epoch 6/100\n",
            "18/18 [==============================] - 1s 33ms/step - loss: 187.2317 - mae: 187.2317 - mse: 185756.2812 - val_loss: 1035.9969 - val_mae: 1035.9969 - val_mse: 3600834.2500\n",
            "Epoch 7/100\n",
            "18/18 [==============================] - 1s 32ms/step - loss: 182.0120 - mae: 182.0120 - mse: 177458.7969 - val_loss: 1019.2736 - val_mae: 1019.2736 - val_mse: 3334009.5000\n",
            "Epoch 8/100\n",
            "18/18 [==============================] - 1s 31ms/step - loss: 175.6998 - mae: 175.6998 - mse: 166072.9375 - val_loss: 977.7346 - val_mae: 977.7346 - val_mse: 3113924.2500\n",
            "Epoch 9/100\n",
            "18/18 [==============================] - 1s 32ms/step - loss: 170.1650 - mae: 170.1650 - mse: 157907.2812 - val_loss: 953.9045 - val_mae: 953.9045 - val_mse: 2928807.2500\n",
            "Epoch 10/100\n",
            "18/18 [==============================] - 1s 34ms/step - loss: 164.3849 - mae: 164.3849 - mse: 149551.0000 - val_loss: 912.1832 - val_mae: 912.1832 - val_mse: 2722489.0000\n",
            "Epoch 11/100\n",
            "18/18 [==============================] - 1s 34ms/step - loss: 158.0432 - mae: 158.0432 - mse: 137419.4844 - val_loss: 871.2953 - val_mae: 871.2953 - val_mse: 2498151.2500\n",
            "Epoch 12/100\n",
            "18/18 [==============================] - 1s 34ms/step - loss: 151.8589 - mae: 151.8589 - mse: 128140.1562 - val_loss: 853.0023 - val_mae: 853.0023 - val_mse: 2363184.2500\n",
            "Epoch 13/100\n",
            "18/18 [==============================] - 0s 3ms/step - loss: 150.1562 - mae: 150.1562 - mse: 124871.9453 - val_loss: 899.1041 - val_mae: 899.1041 - val_mse: 2411404.0000\n",
            "Epoch 14/100\n",
            "18/18 [==============================] - 1s 33ms/step - loss: 147.8199 - mae: 147.8199 - mse: 117972.5391 - val_loss: 845.0204 - val_mae: 845.0204 - val_mse: 2213576.2500\n",
            "Epoch 15/100\n",
            "18/18 [==============================] - 1s 34ms/step - loss: 142.5173 - mae: 142.5173 - mse: 113603.7500 - val_loss: 788.1884 - val_mae: 788.1884 - val_mse: 2021009.7500\n",
            "Epoch 16/100\n",
            "18/18 [==============================] - 1s 32ms/step - loss: 137.1697 - mae: 137.1697 - mse: 106446.7734 - val_loss: 770.6389 - val_mae: 770.6389 - val_mse: 1932610.2500\n",
            "Epoch 17/100\n",
            "18/18 [==============================] - 1s 33ms/step - loss: 136.0207 - mae: 136.0207 - mse: 104429.5312 - val_loss: 763.1662 - val_mae: 763.1662 - val_mse: 1875620.6250\n",
            "Epoch 18/100\n",
            "18/18 [==============================] - 1s 32ms/step - loss: 135.4694 - mae: 135.4694 - mse: 103320.5312 - val_loss: 753.5184 - val_mae: 753.5184 - val_mse: 1817779.7500\n",
            "Epoch 19/100\n",
            "18/18 [==============================] - 0s 5ms/step - loss: 130.7952 - mae: 130.7952 - mse: 96697.8125 - val_loss: 758.7956 - val_mae: 758.7956 - val_mse: 1803582.2500\n",
            "Epoch 20/100\n",
            "18/18 [==============================] - 1s 31ms/step - loss: 128.6771 - mae: 128.6771 - mse: 93932.0391 - val_loss: 703.5643 - val_mae: 703.5644 - val_mse: 1684252.6250\n",
            "Epoch 21/100\n",
            "18/18 [==============================] - 1s 52ms/step - loss: 129.3659 - mae: 129.3659 - mse: 95842.6406 - val_loss: 693.7982 - val_mae: 693.7982 - val_mse: 1605758.2500\n",
            "Epoch 22/100\n",
            "18/18 [==============================] - 0s 4ms/step - loss: 125.4942 - mae: 125.4942 - mse: 90730.9922 - val_loss: 696.0187 - val_mae: 696.0187 - val_mse: 1584123.2500\n",
            "Epoch 23/100\n",
            "18/18 [==============================] - 0s 3ms/step - loss: 127.2342 - mae: 127.2342 - mse: 91513.9141 - val_loss: 697.7286 - val_mae: 697.7286 - val_mse: 1576007.7500\n",
            "Epoch 24/100\n",
            "18/18 [==============================] - 1s 31ms/step - loss: 122.4730 - mae: 122.4730 - mse: 86389.0781 - val_loss: 674.4296 - val_mae: 674.4296 - val_mse: 1507130.0000\n",
            "Epoch 25/100\n",
            "18/18 [==============================] - 1s 31ms/step - loss: 121.4574 - mae: 121.4574 - mse: 84695.8984 - val_loss: 666.4312 - val_mae: 666.4312 - val_mse: 1536095.3750\n",
            "Epoch 26/100\n",
            "18/18 [==============================] - 0s 3ms/step - loss: 128.2203 - mae: 128.2203 - mse: 88108.1328 - val_loss: 692.1058 - val_mae: 692.1058 - val_mse: 1615553.7500\n",
            "Epoch 27/100\n",
            "18/18 [==============================] - 1s 33ms/step - loss: 124.0005 - mae: 124.0005 - mse: 87360.8359 - val_loss: 647.6103 - val_mae: 647.6103 - val_mse: 1455477.8750\n",
            "Epoch 28/100\n",
            "18/18 [==============================] - 0s 3ms/step - loss: 118.0483 - mae: 118.0483 - mse: 81411.4453 - val_loss: 649.5808 - val_mae: 649.5808 - val_mse: 1417653.0000\n",
            "Epoch 29/100\n",
            "18/18 [==============================] - 1s 33ms/step - loss: 120.3512 - mae: 120.3512 - mse: 83194.3906 - val_loss: 637.0602 - val_mae: 637.0602 - val_mse: 1385508.2500\n",
            "Epoch 30/100\n",
            "18/18 [==============================] - 1s 33ms/step - loss: 120.1979 - mae: 120.1979 - mse: 81774.8828 - val_loss: 630.9053 - val_mae: 630.9053 - val_mse: 1368423.1250\n",
            "Epoch 31/100\n",
            "18/18 [==============================] - 0s 3ms/step - loss: 115.1928 - mae: 115.1928 - mse: 77570.7812 - val_loss: 638.9493 - val_mae: 638.9493 - val_mse: 1377158.1250\n",
            "Epoch 32/100\n",
            "18/18 [==============================] - 1s 33ms/step - loss: 114.8375 - mae: 114.8375 - mse: 79458.3750 - val_loss: 620.6239 - val_mae: 620.6239 - val_mse: 1337745.8750\n",
            "Epoch 33/100\n",
            "18/18 [==============================] - 0s 4ms/step - loss: 115.0501 - mae: 115.0501 - mse: 78376.1797 - val_loss: 666.8656 - val_mae: 666.8656 - val_mse: 1434560.0000\n",
            "Epoch 34/100\n",
            "18/18 [==============================] - 1s 32ms/step - loss: 116.0628 - mae: 116.0628 - mse: 79817.9375 - val_loss: 613.0043 - val_mae: 613.0043 - val_mse: 1325419.5000\n",
            "Epoch 35/100\n",
            "18/18 [==============================] - 1s 32ms/step - loss: 112.5842 - mae: 112.5842 - mse: 75970.2578 - val_loss: 610.0121 - val_mae: 610.0121 - val_mse: 1314880.8750\n",
            "Epoch 36/100\n",
            "18/18 [==============================] - 1s 33ms/step - loss: 114.6717 - mae: 114.6717 - mse: 77079.7734 - val_loss: 604.9852 - val_mae: 604.9852 - val_mse: 1287274.6250\n",
            "Epoch 37/100\n",
            "18/18 [==============================] - 0s 4ms/step - loss: 113.0362 - mae: 113.0362 - mse: 77149.1797 - val_loss: 607.6022 - val_mae: 607.6022 - val_mse: 1286747.0000\n",
            "Epoch 38/100\n",
            "18/18 [==============================] - 0s 4ms/step - loss: 113.7028 - mae: 113.7028 - mse: 75434.6953 - val_loss: 606.9238 - val_mae: 606.9238 - val_mse: 1301038.7500\n",
            "Epoch 39/100\n",
            "18/18 [==============================] - 0s 4ms/step - loss: 116.0467 - mae: 116.0467 - mse: 76027.5781 - val_loss: 605.2928 - val_mae: 605.2928 - val_mse: 1294570.8750\n",
            "Epoch 40/100\n",
            "18/18 [==============================] - 1s 32ms/step - loss: 109.8833 - mae: 109.8833 - mse: 73742.2734 - val_loss: 593.6281 - val_mae: 593.6281 - val_mse: 1259624.0000\n",
            "Epoch 41/100\n",
            "18/18 [==============================] - 0s 4ms/step - loss: 110.7892 - mae: 110.7892 - mse: 73743.0156 - val_loss: 609.4473 - val_mae: 609.4473 - val_mse: 1299949.1250\n",
            "Epoch 42/100\n",
            "18/18 [==============================] - 1s 32ms/step - loss: 116.7996 - mae: 116.7996 - mse: 78762.5469 - val_loss: 590.2264 - val_mae: 590.2264 - val_mse: 1241872.6250\n",
            "Epoch 43/100\n",
            "18/18 [==============================] - 0s 3ms/step - loss: 110.2195 - mae: 110.2195 - mse: 72132.6094 - val_loss: 623.8193 - val_mae: 623.8193 - val_mse: 1335583.3750\n",
            "Epoch 44/100\n",
            "18/18 [==============================] - 1s 32ms/step - loss: 112.5980 - mae: 112.5980 - mse: 73334.4609 - val_loss: 586.8858 - val_mae: 586.8858 - val_mse: 1235495.2500\n",
            "Epoch 45/100\n",
            "18/18 [==============================] - 0s 3ms/step - loss: 109.4290 - mae: 109.4290 - mse: 73764.6016 - val_loss: 589.9503 - val_mae: 589.9503 - val_mse: 1246705.5000\n",
            "Epoch 46/100\n",
            "18/18 [==============================] - 1s 32ms/step - loss: 110.7089 - mae: 110.7089 - mse: 72978.3047 - val_loss: 585.0000 - val_mae: 585.0000 - val_mse: 1232576.8750\n",
            "Epoch 47/100\n",
            "18/18 [==============================] - 0s 3ms/step - loss: 112.1247 - mae: 112.1247 - mse: 75057.5469 - val_loss: 702.8409 - val_mae: 702.8409 - val_mse: 1490020.5000\n",
            "Epoch 48/100\n",
            "18/18 [==============================] - 0s 4ms/step - loss: 110.4305 - mae: 110.4305 - mse: 72839.0000 - val_loss: 586.7397 - val_mae: 586.7397 - val_mse: 1222712.8750\n",
            "Epoch 49/100\n",
            "18/18 [==============================] - 0s 5ms/step - loss: 109.5288 - mae: 109.5288 - mse: 72353.1172 - val_loss: 589.3349 - val_mae: 589.3349 - val_mse: 1226097.0000\n",
            "Epoch 50/100\n",
            "18/18 [==============================] - 0s 3ms/step - loss: 110.9759 - mae: 110.9759 - mse: 72744.9531 - val_loss: 623.0835 - val_mae: 623.0835 - val_mse: 1314294.0000\n",
            "Epoch 51/100\n",
            "18/18 [==============================] - 0s 3ms/step - loss: 109.4516 - mae: 109.4516 - mse: 71616.1562 - val_loss: 604.5286 - val_mae: 604.5286 - val_mse: 1252194.6250\n",
            "Epoch 52/100\n",
            "18/18 [==============================] - 0s 3ms/step - loss: 111.1649 - mae: 111.1649 - mse: 74216.7891 - val_loss: 609.8672 - val_mae: 609.8672 - val_mse: 1281603.8750\n",
            "Epoch 53/100\n",
            "18/18 [==============================] - 0s 3ms/step - loss: 111.5991 - mae: 111.5991 - mse: 73458.7344 - val_loss: 594.7797 - val_mae: 594.7797 - val_mse: 1231654.0000\n",
            "Epoch 54/100\n",
            "18/18 [==============================] - 1s 33ms/step - loss: 110.0359 - mae: 110.0359 - mse: 71832.1484 - val_loss: 583.6801 - val_mae: 583.6801 - val_mse: 1209624.0000\n",
            "Epoch 55/100\n",
            "18/18 [==============================] - 1s 33ms/step - loss: 109.4679 - mae: 109.4679 - mse: 73187.5859 - val_loss: 578.0594 - val_mae: 578.0594 - val_mse: 1200383.8750\n",
            "Epoch 56/100\n",
            "18/18 [==============================] - 0s 3ms/step - loss: 108.8110 - mae: 108.8110 - mse: 71370.4922 - val_loss: 757.0475 - val_mae: 757.0475 - val_mse: 1700615.1250\n",
            "Epoch 57/100\n",
            "18/18 [==============================] - 0s 4ms/step - loss: 123.0387 - mae: 123.0387 - mse: 81080.9844 - val_loss: 696.0964 - val_mae: 696.0964 - val_mse: 1506779.8750\n",
            "Epoch 58/100\n",
            "18/18 [==============================] - 1s 33ms/step - loss: 114.6116 - mae: 114.6116 - mse: 72744.4062 - val_loss: 576.4465 - val_mae: 576.4465 - val_mse: 1199072.0000\n",
            "Epoch 59/100\n",
            "18/18 [==============================] - 0s 4ms/step - loss: 107.4903 - mae: 107.4903 - mse: 70755.2969 - val_loss: 578.1222 - val_mae: 578.1222 - val_mse: 1202292.2500\n",
            "Epoch 60/100\n",
            "18/18 [==============================] - 0s 4ms/step - loss: 106.5221 - mae: 106.5221 - mse: 70734.7656 - val_loss: 584.0728 - val_mae: 584.0728 - val_mse: 1206140.6250\n",
            "Epoch 61/100\n",
            "18/18 [==============================] - 0s 4ms/step - loss: 106.3272 - mae: 106.3272 - mse: 70407.5938 - val_loss: 577.0637 - val_mae: 577.0637 - val_mse: 1190976.0000\n",
            "Epoch 62/100\n",
            "18/18 [==============================] - 0s 4ms/step - loss: 106.6971 - mae: 106.6971 - mse: 68884.2812 - val_loss: 578.8085 - val_mae: 578.8085 - val_mse: 1202691.8750\n",
            "Epoch 63/100\n",
            "18/18 [==============================] - 0s 3ms/step - loss: 108.6034 - mae: 108.6034 - mse: 71091.3203 - val_loss: 620.3704 - val_mae: 620.3704 - val_mse: 1276487.3750\n",
            "Epoch 64/100\n",
            "18/18 [==============================] - 0s 4ms/step - loss: 107.8387 - mae: 107.8387 - mse: 70415.6641 - val_loss: 589.2789 - val_mae: 589.2789 - val_mse: 1214069.3750\n",
            "Epoch 65/100\n",
            "18/18 [==============================] - 1s 32ms/step - loss: 107.0703 - mae: 107.0703 - mse: 70757.6328 - val_loss: 576.1685 - val_mae: 576.1685 - val_mse: 1195434.7500\n",
            "Epoch 66/100\n",
            "18/18 [==============================] - 1s 33ms/step - loss: 105.4845 - mae: 105.4845 - mse: 69497.0156 - val_loss: 571.1387 - val_mae: 571.1387 - val_mse: 1179370.2500\n",
            "Epoch 67/100\n",
            "18/18 [==============================] - 0s 3ms/step - loss: 105.1958 - mae: 105.1958 - mse: 68578.7891 - val_loss: 662.6992 - val_mae: 662.6992 - val_mse: 1402346.6250\n",
            "Epoch 68/100\n",
            "18/18 [==============================] - 0s 4ms/step - loss: 114.7649 - mae: 114.7649 - mse: 70262.2891 - val_loss: 768.5926 - val_mae: 768.5926 - val_mse: 1721350.0000\n",
            "Epoch 69/100\n",
            "18/18 [==============================] - 0s 4ms/step - loss: 130.3739 - mae: 130.3739 - mse: 85510.4766 - val_loss: 741.7588 - val_mae: 741.7588 - val_mse: 1631881.5000\n",
            "Epoch 70/100\n",
            "18/18 [==============================] - 0s 3ms/step - loss: 120.0182 - mae: 120.0182 - mse: 78789.5000 - val_loss: 573.9843 - val_mae: 573.9843 - val_mse: 1187610.2500\n",
            "Epoch 71/100\n",
            "18/18 [==============================] - 0s 3ms/step - loss: 109.1888 - mae: 109.1888 - mse: 70720.5000 - val_loss: 591.2986 - val_mae: 591.2986 - val_mse: 1211271.6250\n",
            "Epoch 72/100\n",
            "18/18 [==============================] - 0s 3ms/step - loss: 106.6610 - mae: 106.6610 - mse: 70075.8047 - val_loss: 572.5369 - val_mae: 572.5369 - val_mse: 1182819.8750\n",
            "Epoch 73/100\n",
            "18/18 [==============================] - 0s 3ms/step - loss: 109.8238 - mae: 109.8238 - mse: 71317.1406 - val_loss: 613.1115 - val_mae: 613.1115 - val_mse: 1278328.0000\n",
            "Epoch 74/100\n",
            "18/18 [==============================] - 0s 3ms/step - loss: 105.6007 - mae: 105.6007 - mse: 69881.8516 - val_loss: 574.3488 - val_mae: 574.3488 - val_mse: 1187700.0000\n",
            "Epoch 75/100\n",
            "18/18 [==============================] - 0s 4ms/step - loss: 107.7279 - mae: 107.7279 - mse: 70288.7734 - val_loss: 606.8912 - val_mae: 606.8912 - val_mse: 1242012.3750\n",
            "Epoch 76/100\n",
            "18/18 [==============================] - 0s 4ms/step - loss: 107.5007 - mae: 107.5007 - mse: 70727.1328 - val_loss: 582.0417 - val_mae: 582.0417 - val_mse: 1205279.5000\n",
            "Epoch 77/100\n",
            "18/18 [==============================] - 0s 4ms/step - loss: 107.7415 - mae: 107.7415 - mse: 70214.6094 - val_loss: 581.8722 - val_mae: 581.8722 - val_mse: 1205290.6250\n",
            "Epoch 78/100\n",
            "18/18 [==============================] - 1s 32ms/step - loss: 108.4845 - mae: 108.4845 - mse: 69743.1641 - val_loss: 571.0139 - val_mae: 571.0139 - val_mse: 1176202.3750\n",
            "Epoch 79/100\n",
            "18/18 [==============================] - 0s 3ms/step - loss: 108.1803 - mae: 108.1803 - mse: 72876.2734 - val_loss: 606.2170 - val_mae: 606.2170 - val_mse: 1257604.6250\n",
            "Epoch 80/100\n",
            "18/18 [==============================] - 0s 3ms/step - loss: 106.9654 - mae: 106.9654 - mse: 70864.6641 - val_loss: 607.3621 - val_mae: 607.3621 - val_mse: 1240618.8750\n",
            "Epoch 81/100\n",
            "18/18 [==============================] - 0s 4ms/step - loss: 106.5957 - mae: 106.5957 - mse: 69891.3281 - val_loss: 572.9951 - val_mae: 572.9951 - val_mse: 1181473.6250\n",
            "Epoch 82/100\n",
            "18/18 [==============================] - 0s 4ms/step - loss: 114.3766 - mae: 114.3766 - mse: 75681.9297 - val_loss: 604.8724 - val_mae: 604.8724 - val_mse: 1256492.7500\n",
            "Epoch 83/100\n",
            "18/18 [==============================] - 0s 4ms/step - loss: 109.0182 - mae: 109.0182 - mse: 71857.8828 - val_loss: 676.4982 - val_mae: 676.4982 - val_mse: 1429557.3750\n",
            "Epoch 84/100\n",
            "18/18 [==============================] - 0s 4ms/step - loss: 110.9372 - mae: 110.9372 - mse: 71284.3594 - val_loss: 580.3448 - val_mae: 580.3448 - val_mse: 1200756.5000\n",
            "Epoch 85/100\n",
            "18/18 [==============================] - 0s 4ms/step - loss: 106.6189 - mae: 106.6189 - mse: 69827.7734 - val_loss: 571.5928 - val_mae: 571.5928 - val_mse: 1170053.7500\n",
            "Epoch 86/100\n",
            "18/18 [==============================] - 1s 54ms/step - loss: 105.6066 - mae: 105.6066 - mse: 68541.2344 - val_loss: 569.4805 - val_mae: 569.4805 - val_mse: 1166442.7500\n",
            "Epoch 87/100\n",
            "18/18 [==============================] - 0s 4ms/step - loss: 104.2707 - mae: 104.2707 - mse: 68107.5156 - val_loss: 578.4102 - val_mae: 578.4102 - val_mse: 1192792.5000\n",
            "Epoch 88/100\n",
            "18/18 [==============================] - 0s 4ms/step - loss: 105.9742 - mae: 105.9742 - mse: 69825.9766 - val_loss: 583.3693 - val_mae: 583.3693 - val_mse: 1208582.7500\n",
            "Epoch 89/100\n",
            "18/18 [==============================] - 1s 32ms/step - loss: 107.3073 - mae: 107.3073 - mse: 68923.7266 - val_loss: 569.3551 - val_mae: 569.3551 - val_mse: 1168580.3750\n",
            "Epoch 90/100\n",
            "18/18 [==============================] - 0s 3ms/step - loss: 105.2674 - mae: 105.2674 - mse: 66745.6406 - val_loss: 584.8005 - val_mae: 584.8005 - val_mse: 1191198.1250\n",
            "Epoch 91/100\n",
            "18/18 [==============================] - 0s 4ms/step - loss: 107.7721 - mae: 107.7721 - mse: 70398.4062 - val_loss: 585.0217 - val_mae: 585.0217 - val_mse: 1210924.8750\n",
            "Epoch 92/100\n",
            "18/18 [==============================] - 0s 4ms/step - loss: 109.4828 - mae: 109.4828 - mse: 71412.8516 - val_loss: 571.1386 - val_mae: 571.1386 - val_mse: 1167892.2500\n",
            "Epoch 93/100\n",
            "18/18 [==============================] - 0s 4ms/step - loss: 112.7324 - mae: 112.7324 - mse: 73968.9922 - val_loss: 594.5923 - val_mae: 594.5923 - val_mse: 1231098.8750\n",
            "Epoch 94/100\n",
            "18/18 [==============================] - 0s 4ms/step - loss: 109.4908 - mae: 109.4908 - mse: 71900.8516 - val_loss: 585.9883 - val_mae: 585.9883 - val_mse: 1191827.2500\n",
            "Epoch 95/100\n",
            "18/18 [==============================] - 1s 32ms/step - loss: 104.6905 - mae: 104.6905 - mse: 67470.5000 - val_loss: 569.2184 - val_mae: 569.2184 - val_mse: 1168841.5000\n",
            "Epoch 96/100\n",
            "18/18 [==============================] - 0s 5ms/step - loss: 106.1207 - mae: 106.1207 - mse: 68654.7812 - val_loss: 587.7875 - val_mae: 587.7875 - val_mse: 1215782.2500\n",
            "Epoch 97/100\n",
            "18/18 [==============================] - 0s 4ms/step - loss: 105.5926 - mae: 105.5926 - mse: 69446.7344 - val_loss: 579.6483 - val_mae: 579.6483 - val_mse: 1181270.5000\n",
            "Epoch 98/100\n",
            "18/18 [==============================] - 1s 33ms/step - loss: 105.4730 - mae: 105.4730 - mse: 69379.8203 - val_loss: 568.8967 - val_mae: 568.8967 - val_mse: 1168765.1250\n",
            "Epoch 99/100\n",
            "18/18 [==============================] - 1s 32ms/step - loss: 107.3140 - mae: 107.3140 - mse: 69965.9531 - val_loss: 567.8278 - val_mae: 567.8278 - val_mse: 1163725.8750\n",
            "Epoch 100/100\n",
            "18/18 [==============================] - 0s 4ms/step - loss: 111.4596 - mae: 111.4596 - mse: 69667.8438 - val_loss: 678.8438 - val_mae: 678.8438 - val_mse: 1399341.3750\n"
          ]
        },
        {
          "output_type": "execute_result",
          "data": {
            "text/plain": [
              "<keras.callbacks.History at 0x7f5ef3ffbdf0>"
            ]
          },
          "metadata": {},
          "execution_count": 113
        }
      ]
    },
    {
      "cell_type": "code",
      "source": [
        "# Evaluate multivariate model\n",
        "model_6.evaluate(x_test,y_test)"
      ],
      "metadata": {
        "colab": {
          "base_uri": "https://localhost:8080/"
        },
        "id": "6m95nHE2zLoe",
        "outputId": "a7bebac8-7af8-4005-b8f0-d658c83c81f0"
      },
      "execution_count": 114,
      "outputs": [
        {
          "output_type": "stream",
          "name": "stdout",
          "text": [
            "18/18 [==============================] - 0s 2ms/step - loss: 678.8438 - mae: 678.8438 - mse: 1399341.3750\n"
          ]
        },
        {
          "output_type": "execute_result",
          "data": {
            "text/plain": [
              "[678.84375, 678.84375, 1399341.375]"
            ]
          },
          "metadata": {},
          "execution_count": 114
        }
      ]
    },
    {
      "cell_type": "code",
      "source": [
        "# Load best model\n",
        "model_6 = tf.keras.models.load_model(\"model_experiments/model_6_dense\")\n",
        "model_6.evaluate(x_test,y_test)"
      ],
      "metadata": {
        "colab": {
          "base_uri": "https://localhost:8080/"
        },
        "id": "gGiefYX_z1Bp",
        "outputId": "45db17f3-00e2-45e9-91c1-e8226fa0ea86"
      },
      "execution_count": 115,
      "outputs": [
        {
          "output_type": "stream",
          "name": "stdout",
          "text": [
            "18/18 [==============================] - 0s 2ms/step - loss: 567.8279 - mae: 567.8279 - mse: 1163725.8750\n"
          ]
        },
        {
          "output_type": "execute_result",
          "data": {
            "text/plain": [
              "[567.827880859375, 567.827880859375, 1163725.875]"
            ]
          },
          "metadata": {},
          "execution_count": 115
        }
      ]
    },
    {
      "cell_type": "code",
      "source": [
        "# Make predictions on the test data\n",
        "model_6_preds = tf.squeeze(model_6.predict(x_test))\n",
        "model_6_preds[:10]"
      ],
      "metadata": {
        "colab": {
          "base_uri": "https://localhost:8080/"
        },
        "id": "fyA-FN6c0UHJ",
        "outputId": "5b70047d-ef3a-44d7-9ade-f6c73d959fbd"
      },
      "execution_count": 116,
      "outputs": [
        {
          "output_type": "stream",
          "name": "stdout",
          "text": [
            "18/18 [==============================] - 0s 1ms/step\n"
          ]
        },
        {
          "output_type": "execute_result",
          "data": {
            "text/plain": [
              "<tf.Tensor: shape=(10,), dtype=float32, numpy=\n",
              "array([8844.084, 8769.791, 9048.283, 8748.914, 8731.422, 8773.469,\n",
              "       8670.191, 8502.751, 8471.279, 8529.221], dtype=float32)>"
            ]
          },
          "metadata": {},
          "execution_count": 116
        }
      ]
    },
    {
      "cell_type": "code",
      "source": [
        "model_6_results = evaluate_preds(y_true = y_test,\n",
        "                                 y_pred = model_6_preds)\n",
        "model_6_results"
      ],
      "metadata": {
        "colab": {
          "base_uri": "https://localhost:8080/"
        },
        "id": "KohsCkKE1A3s",
        "outputId": "6be02bfc-2e44-463d-cbe9-5a26538b4445"
      },
      "execution_count": 117,
      "outputs": [
        {
          "output_type": "execute_result",
          "data": {
            "text/plain": [
              "{'mae': 567.8279,\n",
              " 'mse': 1163726.2,\n",
              " 'rmse': 1078.7615,\n",
              " 'mape': 2.546001,\n",
              " 'mase': 0.99751633}"
            ]
          },
          "metadata": {},
          "execution_count": 117
        }
      ]
    },
    {
      "cell_type": "code",
      "source": [
        "model_1_results"
      ],
      "metadata": {
        "colab": {
          "base_uri": "https://localhost:8080/"
        },
        "id": "kuyyFSDs1RWR",
        "outputId": "4d501cab-7de9-4a13-d87e-c377cc4c6104"
      },
      "execution_count": 118,
      "outputs": [
        {
          "output_type": "execute_result",
          "data": {
            "text/plain": [
              "{'mae': 568.5498,\n",
              " 'mse': 1172587.4,\n",
              " 'rmse': 1082.8607,\n",
              " 'mape': 2.549229,\n",
              " 'mase': 0.99878454}"
            ]
          },
          "metadata": {},
          "execution_count": 118
        }
      ]
    },
    {
      "cell_type": "code",
      "source": [
        "naive_results"
      ],
      "metadata": {
        "colab": {
          "base_uri": "https://localhost:8080/"
        },
        "id": "1nh7Kede1VXB",
        "outputId": "8f0e79e1-cc02-4a36-e89e-a8382760bdad"
      },
      "execution_count": 119,
      "outputs": [
        {
          "output_type": "execute_result",
          "data": {
            "text/plain": [
              "{'mae': 567.9802,\n",
              " 'mse': 1147547.0,\n",
              " 'rmse': 1071.2362,\n",
              " 'mape': 2.5165248,\n",
              " 'mase': 0.99957}"
            ]
          },
          "metadata": {},
          "execution_count": 119
        }
      ]
    },
    {
      "cell_type": "markdown",
      "source": [
        "multi input model hmm how can we do that"
      ],
      "metadata": {
        "id": "u-HE_sxw1hUp"
      }
    },
    {
      "cell_type": "markdown",
      "source": [
        "## Model 7 NBEATS ALGORITHM\n",
        "The most biggest time series forcasting algorithm so far\n",
        "https://arxiv.org/pdf/1905.10437.pdf\n",
        "\n",
        "* This will allow us to practice replicating a paper with tensorflow code\n",
        "* We will see how to use Tensorflow layer subclassing (to make our own custom layers\n",
        "*Get experience using the FUnctional API to create a custom architecture\n",
        "* Potentially get state of the art results on our model"
      ],
      "metadata": {
        "id": "C5olB2uI2egK"
      }
    },
    {
      "cell_type": "markdown",
      "source": [
        "## Building and testing the N-BEATS block layer\n",
        "Because the N-BEATS block layer doesnt exist in tensorflow we have got to create it.\n",
        "To create custom layers and models in Tensorflow we can use subclassing:\n",
        "https://www.tensorflow.org/guide/keras/custom_layers_and models"
      ],
      "metadata": {
        "id": "eUendusU04AA"
      }
    },
    {
      "cell_type": "code",
      "source": [
        "# Create NBeatsBlock custom layer \n",
        "class NBeatsBlock(tf.keras.layers.Layer):\n",
        "  def __init__(self, # the constructor takes all the hyperparameters for the layer\n",
        "               input_size: int,\n",
        "               theta_size: int,\n",
        "               horizon: int,\n",
        "               n_neurons: int,\n",
        "               n_layers: int,\n",
        "               **kwargs): # the **kwargs argument takes care of all of the arguments for the parent class (input_shape, trainable, name)\n",
        "    super().__init__(**kwargs)\n",
        "    self.input_size = input_size\n",
        "    self.theta_size = theta_size\n",
        "    self.horizon = horizon\n",
        "    self.n_neurons = n_neurons\n",
        "    self.n_layers = n_layers\n",
        "\n",
        "    # Block contains stack of 4 fully connected layers each has ReLU activation\n",
        "    self.hidden = [tf.keras.layers.Dense(n_neurons, activation=\"relu\") for _ in range(n_layers)]\n",
        "    # Output of block is a theta layer with linear activation\n",
        "    self.theta_layer = tf.keras.layers.Dense(theta_size, activation=\"linear\", name=\"theta\")\n",
        "\n",
        "  def call(self, inputs): # the call method is what runs when the layer is called \n",
        "    x = inputs \n",
        "    for layer in self.hidden: # pass inputs through each hidden layer \n",
        "      x = layer(x)\n",
        "    theta = self.theta_layer(x) \n",
        "    # Output the backcast and forecast from theta\n",
        "    backcast, forecast = theta[:, :self.input_size], theta[:, -self.horizon:]\n",
        "    return backcast, forecast"
      ],
      "metadata": {
        "id": "ovVtVSzKM4V-"
      },
      "execution_count": 120,
      "outputs": []
    },
    {
      "cell_type": "markdown",
      "source": [
        "lets test our nbeats block class"
      ],
      "metadata": {
        "id": "Ce2lr3h1VkVw"
      }
    },
    {
      "cell_type": "code",
      "source": [
        "# Set up a dummy nbeats layer to represent the inputs and out puts\n",
        "dummy_nbeats_block_layer = NBeatsBlock(input_size=WINDOW_SIZE,\n",
        "                                       theta_size = WINDOW_SIZE + HORIZON,\n",
        "                                       horizon = HORIZON,\n",
        "                                       n_neurons = 128,\n",
        "                                       n_layers = 4)"
      ],
      "metadata": {
        "id": "Z-xKjY61VqzI"
      },
      "execution_count": 121,
      "outputs": []
    },
    {
      "cell_type": "code",
      "source": [
        "# Create Dummy inputs (have to be same size as input size)\n",
        "dummy_inputs = tf.expand_dims(tf.range(WINDOW_SIZE)+1,axis=0)# input shape to the model has to reflect dense layer input requiremnets\n",
        "dummy_inputs"
      ],
      "metadata": {
        "colab": {
          "base_uri": "https://localhost:8080/"
        },
        "id": "bQ77z-JVW2P5",
        "outputId": "d65ce2a1-debc-4a6e-c730-cdc2dba292df"
      },
      "execution_count": 122,
      "outputs": [
        {
          "output_type": "execute_result",
          "data": {
            "text/plain": [
              "<tf.Tensor: shape=(1, 7), dtype=int32, numpy=array([[1, 2, 3, 4, 5, 6, 7]], dtype=int32)>"
            ]
          },
          "metadata": {},
          "execution_count": 122
        }
      ]
    },
    {
      "cell_type": "code",
      "source": [
        "# Pass dummy inputs to dummy NBeatsBlock layer\n",
        "backcast, forecast = dummy_nbeats_block_layer(dummy_inputs)\n",
        "# These are the activation outputs of the theta layer (they'll be random due to no training of the model)\n",
        "print(f\"Backcast: {tf.squeeze(backcast.numpy())}\")\n",
        "print(f\"Forecast: {tf.squeeze(forecast.numpy())}\")"
      ],
      "metadata": {
        "colab": {
          "base_uri": "https://localhost:8080/"
        },
        "id": "7yIm5Ja4Xf6I",
        "outputId": "794af559-0e99-48c8-c647-6b39fda7e2ae"
      },
      "execution_count": 123,
      "outputs": [
        {
          "output_type": "stream",
          "name": "stdout",
          "text": [
            "Backcast: [ 0.19014972  0.8379835  -0.32870024  0.2515991  -0.47540277 -0.7783665\n",
            " -0.52994466]\n",
            "Forecast: -0.7554213404655457\n"
          ]
        }
      ]
    },
    {
      "cell_type": "markdown",
      "source": [
        "## Preparing data for thw nbeats algorithm using tf data"
      ],
      "metadata": {
        "id": "8akDAWT0YZh5"
      }
    },
    {
      "cell_type": "code",
      "source": [
        "HORIZON =1\n",
        "WINDOW_SIZE = 7"
      ],
      "metadata": {
        "id": "e0vbqcieqjfv"
      },
      "execution_count": 124,
      "outputs": []
    },
    {
      "cell_type": "code",
      "source": [
        "# Create nbeats data input \n",
        "bitcoin_prices.head()"
      ],
      "metadata": {
        "colab": {
          "base_uri": "https://localhost:8080/",
          "height": 237
        },
        "id": "T5bIMGw5q442",
        "outputId": "10ba56c0-bc44-4cb3-d909-8f8844e762e8"
      },
      "execution_count": 125,
      "outputs": [
        {
          "output_type": "execute_result",
          "data": {
            "text/plain": [
              "                Price\n",
              "Date                 \n",
              "2013-10-01  123.65499\n",
              "2013-10-02  125.45500\n",
              "2013-10-03  108.58483\n",
              "2013-10-04  118.67466\n",
              "2013-10-05  121.33866"
            ],
            "text/html": [
              "\n",
              "  <div id=\"df-d09bb91b-b704-48c8-bc8c-38c1e4514e82\">\n",
              "    <div class=\"colab-df-container\">\n",
              "      <div>\n",
              "<style scoped>\n",
              "    .dataframe tbody tr th:only-of-type {\n",
              "        vertical-align: middle;\n",
              "    }\n",
              "\n",
              "    .dataframe tbody tr th {\n",
              "        vertical-align: top;\n",
              "    }\n",
              "\n",
              "    .dataframe thead th {\n",
              "        text-align: right;\n",
              "    }\n",
              "</style>\n",
              "<table border=\"1\" class=\"dataframe\">\n",
              "  <thead>\n",
              "    <tr style=\"text-align: right;\">\n",
              "      <th></th>\n",
              "      <th>Price</th>\n",
              "    </tr>\n",
              "    <tr>\n",
              "      <th>Date</th>\n",
              "      <th></th>\n",
              "    </tr>\n",
              "  </thead>\n",
              "  <tbody>\n",
              "    <tr>\n",
              "      <th>2013-10-01</th>\n",
              "      <td>123.65499</td>\n",
              "    </tr>\n",
              "    <tr>\n",
              "      <th>2013-10-02</th>\n",
              "      <td>125.45500</td>\n",
              "    </tr>\n",
              "    <tr>\n",
              "      <th>2013-10-03</th>\n",
              "      <td>108.58483</td>\n",
              "    </tr>\n",
              "    <tr>\n",
              "      <th>2013-10-04</th>\n",
              "      <td>118.67466</td>\n",
              "    </tr>\n",
              "    <tr>\n",
              "      <th>2013-10-05</th>\n",
              "      <td>121.33866</td>\n",
              "    </tr>\n",
              "  </tbody>\n",
              "</table>\n",
              "</div>\n",
              "      <button class=\"colab-df-convert\" onclick=\"convertToInteractive('df-d09bb91b-b704-48c8-bc8c-38c1e4514e82')\"\n",
              "              title=\"Convert this dataframe to an interactive table.\"\n",
              "              style=\"display:none;\">\n",
              "        \n",
              "  <svg xmlns=\"http://www.w3.org/2000/svg\" height=\"24px\"viewBox=\"0 0 24 24\"\n",
              "       width=\"24px\">\n",
              "    <path d=\"M0 0h24v24H0V0z\" fill=\"none\"/>\n",
              "    <path d=\"M18.56 5.44l.94 2.06.94-2.06 2.06-.94-2.06-.94-.94-2.06-.94 2.06-2.06.94zm-11 1L8.5 8.5l.94-2.06 2.06-.94-2.06-.94L8.5 2.5l-.94 2.06-2.06.94zm10 10l.94 2.06.94-2.06 2.06-.94-2.06-.94-.94-2.06-.94 2.06-2.06.94z\"/><path d=\"M17.41 7.96l-1.37-1.37c-.4-.4-.92-.59-1.43-.59-.52 0-1.04.2-1.43.59L10.3 9.45l-7.72 7.72c-.78.78-.78 2.05 0 2.83L4 21.41c.39.39.9.59 1.41.59.51 0 1.02-.2 1.41-.59l7.78-7.78 2.81-2.81c.8-.78.8-2.07 0-2.86zM5.41 20L4 18.59l7.72-7.72 1.47 1.35L5.41 20z\"/>\n",
              "  </svg>\n",
              "      </button>\n",
              "      \n",
              "  <style>\n",
              "    .colab-df-container {\n",
              "      display:flex;\n",
              "      flex-wrap:wrap;\n",
              "      gap: 12px;\n",
              "    }\n",
              "\n",
              "    .colab-df-convert {\n",
              "      background-color: #E8F0FE;\n",
              "      border: none;\n",
              "      border-radius: 50%;\n",
              "      cursor: pointer;\n",
              "      display: none;\n",
              "      fill: #1967D2;\n",
              "      height: 32px;\n",
              "      padding: 0 0 0 0;\n",
              "      width: 32px;\n",
              "    }\n",
              "\n",
              "    .colab-df-convert:hover {\n",
              "      background-color: #E2EBFA;\n",
              "      box-shadow: 0px 1px 2px rgba(60, 64, 67, 0.3), 0px 1px 3px 1px rgba(60, 64, 67, 0.15);\n",
              "      fill: #174EA6;\n",
              "    }\n",
              "\n",
              "    [theme=dark] .colab-df-convert {\n",
              "      background-color: #3B4455;\n",
              "      fill: #D2E3FC;\n",
              "    }\n",
              "\n",
              "    [theme=dark] .colab-df-convert:hover {\n",
              "      background-color: #434B5C;\n",
              "      box-shadow: 0px 1px 3px 1px rgba(0, 0, 0, 0.15);\n",
              "      filter: drop-shadow(0px 1px 2px rgba(0, 0, 0, 0.3));\n",
              "      fill: #FFFFFF;\n",
              "    }\n",
              "  </style>\n",
              "\n",
              "      <script>\n",
              "        const buttonEl =\n",
              "          document.querySelector('#df-d09bb91b-b704-48c8-bc8c-38c1e4514e82 button.colab-df-convert');\n",
              "        buttonEl.style.display =\n",
              "          google.colab.kernel.accessAllowed ? 'block' : 'none';\n",
              "\n",
              "        async function convertToInteractive(key) {\n",
              "          const element = document.querySelector('#df-d09bb91b-b704-48c8-bc8c-38c1e4514e82');\n",
              "          const dataTable =\n",
              "            await google.colab.kernel.invokeFunction('convertToInteractive',\n",
              "                                                     [key], {});\n",
              "          if (!dataTable) return;\n",
              "\n",
              "          const docLinkHtml = 'Like what you see? Visit the ' +\n",
              "            '<a target=\"_blank\" href=https://colab.research.google.com/notebooks/data_table.ipynb>data table notebook</a>'\n",
              "            + ' to learn more about interactive tables.';\n",
              "          element.innerHTML = '';\n",
              "          dataTable['output_type'] = 'display_data';\n",
              "          await google.colab.output.renderOutput(dataTable, element);\n",
              "          const docLink = document.createElement('div');\n",
              "          docLink.innerHTML = docLinkHtml;\n",
              "          element.appendChild(docLink);\n",
              "        }\n",
              "      </script>\n",
              "    </div>\n",
              "  </div>\n",
              "  "
            ]
          },
          "metadata": {},
          "execution_count": 125
        }
      ]
    },
    {
      "cell_type": "code",
      "source": [
        "# Add Windowed Columns\n",
        "bitcoin_prices_nbeats = bitcoin_prices.copy()\n",
        "for i in range(WINDOW_SIZE):\n",
        "  bitcoin_prices_nbeats[f\"Price+{i+1}]\"] = bitcoin_prices_nbeats[\"Price\"].shift(periods=i+1)\n",
        "bitcoin_prices_nbeats.head()\n"
      ],
      "metadata": {
        "colab": {
          "base_uri": "https://localhost:8080/",
          "height": 237
        },
        "id": "f-bQSBxqq_8g",
        "outputId": "a62e8242-951b-4329-a2de-48c814659244"
      },
      "execution_count": 126,
      "outputs": [
        {
          "output_type": "execute_result",
          "data": {
            "text/plain": [
              "                Price   Price+1]   Price+2]   Price+3]   Price+4]  Price+5]  \\\n",
              "Date                                                                          \n",
              "2013-10-01  123.65499        NaN        NaN        NaN        NaN       NaN   \n",
              "2013-10-02  125.45500  123.65499        NaN        NaN        NaN       NaN   \n",
              "2013-10-03  108.58483  125.45500  123.65499        NaN        NaN       NaN   \n",
              "2013-10-04  118.67466  108.58483  125.45500  123.65499        NaN       NaN   \n",
              "2013-10-05  121.33866  118.67466  108.58483  125.45500  123.65499       NaN   \n",
              "\n",
              "            Price+6]  Price+7]  \n",
              "Date                            \n",
              "2013-10-01       NaN       NaN  \n",
              "2013-10-02       NaN       NaN  \n",
              "2013-10-03       NaN       NaN  \n",
              "2013-10-04       NaN       NaN  \n",
              "2013-10-05       NaN       NaN  "
            ],
            "text/html": [
              "\n",
              "  <div id=\"df-571e52be-5b96-403f-85c9-c6b10e88c585\">\n",
              "    <div class=\"colab-df-container\">\n",
              "      <div>\n",
              "<style scoped>\n",
              "    .dataframe tbody tr th:only-of-type {\n",
              "        vertical-align: middle;\n",
              "    }\n",
              "\n",
              "    .dataframe tbody tr th {\n",
              "        vertical-align: top;\n",
              "    }\n",
              "\n",
              "    .dataframe thead th {\n",
              "        text-align: right;\n",
              "    }\n",
              "</style>\n",
              "<table border=\"1\" class=\"dataframe\">\n",
              "  <thead>\n",
              "    <tr style=\"text-align: right;\">\n",
              "      <th></th>\n",
              "      <th>Price</th>\n",
              "      <th>Price+1]</th>\n",
              "      <th>Price+2]</th>\n",
              "      <th>Price+3]</th>\n",
              "      <th>Price+4]</th>\n",
              "      <th>Price+5]</th>\n",
              "      <th>Price+6]</th>\n",
              "      <th>Price+7]</th>\n",
              "    </tr>\n",
              "    <tr>\n",
              "      <th>Date</th>\n",
              "      <th></th>\n",
              "      <th></th>\n",
              "      <th></th>\n",
              "      <th></th>\n",
              "      <th></th>\n",
              "      <th></th>\n",
              "      <th></th>\n",
              "      <th></th>\n",
              "    </tr>\n",
              "  </thead>\n",
              "  <tbody>\n",
              "    <tr>\n",
              "      <th>2013-10-01</th>\n",
              "      <td>123.65499</td>\n",
              "      <td>NaN</td>\n",
              "      <td>NaN</td>\n",
              "      <td>NaN</td>\n",
              "      <td>NaN</td>\n",
              "      <td>NaN</td>\n",
              "      <td>NaN</td>\n",
              "      <td>NaN</td>\n",
              "    </tr>\n",
              "    <tr>\n",
              "      <th>2013-10-02</th>\n",
              "      <td>125.45500</td>\n",
              "      <td>123.65499</td>\n",
              "      <td>NaN</td>\n",
              "      <td>NaN</td>\n",
              "      <td>NaN</td>\n",
              "      <td>NaN</td>\n",
              "      <td>NaN</td>\n",
              "      <td>NaN</td>\n",
              "    </tr>\n",
              "    <tr>\n",
              "      <th>2013-10-03</th>\n",
              "      <td>108.58483</td>\n",
              "      <td>125.45500</td>\n",
              "      <td>123.65499</td>\n",
              "      <td>NaN</td>\n",
              "      <td>NaN</td>\n",
              "      <td>NaN</td>\n",
              "      <td>NaN</td>\n",
              "      <td>NaN</td>\n",
              "    </tr>\n",
              "    <tr>\n",
              "      <th>2013-10-04</th>\n",
              "      <td>118.67466</td>\n",
              "      <td>108.58483</td>\n",
              "      <td>125.45500</td>\n",
              "      <td>123.65499</td>\n",
              "      <td>NaN</td>\n",
              "      <td>NaN</td>\n",
              "      <td>NaN</td>\n",
              "      <td>NaN</td>\n",
              "    </tr>\n",
              "    <tr>\n",
              "      <th>2013-10-05</th>\n",
              "      <td>121.33866</td>\n",
              "      <td>118.67466</td>\n",
              "      <td>108.58483</td>\n",
              "      <td>125.45500</td>\n",
              "      <td>123.65499</td>\n",
              "      <td>NaN</td>\n",
              "      <td>NaN</td>\n",
              "      <td>NaN</td>\n",
              "    </tr>\n",
              "  </tbody>\n",
              "</table>\n",
              "</div>\n",
              "      <button class=\"colab-df-convert\" onclick=\"convertToInteractive('df-571e52be-5b96-403f-85c9-c6b10e88c585')\"\n",
              "              title=\"Convert this dataframe to an interactive table.\"\n",
              "              style=\"display:none;\">\n",
              "        \n",
              "  <svg xmlns=\"http://www.w3.org/2000/svg\" height=\"24px\"viewBox=\"0 0 24 24\"\n",
              "       width=\"24px\">\n",
              "    <path d=\"M0 0h24v24H0V0z\" fill=\"none\"/>\n",
              "    <path d=\"M18.56 5.44l.94 2.06.94-2.06 2.06-.94-2.06-.94-.94-2.06-.94 2.06-2.06.94zm-11 1L8.5 8.5l.94-2.06 2.06-.94-2.06-.94L8.5 2.5l-.94 2.06-2.06.94zm10 10l.94 2.06.94-2.06 2.06-.94-2.06-.94-.94-2.06-.94 2.06-2.06.94z\"/><path d=\"M17.41 7.96l-1.37-1.37c-.4-.4-.92-.59-1.43-.59-.52 0-1.04.2-1.43.59L10.3 9.45l-7.72 7.72c-.78.78-.78 2.05 0 2.83L4 21.41c.39.39.9.59 1.41.59.51 0 1.02-.2 1.41-.59l7.78-7.78 2.81-2.81c.8-.78.8-2.07 0-2.86zM5.41 20L4 18.59l7.72-7.72 1.47 1.35L5.41 20z\"/>\n",
              "  </svg>\n",
              "      </button>\n",
              "      \n",
              "  <style>\n",
              "    .colab-df-container {\n",
              "      display:flex;\n",
              "      flex-wrap:wrap;\n",
              "      gap: 12px;\n",
              "    }\n",
              "\n",
              "    .colab-df-convert {\n",
              "      background-color: #E8F0FE;\n",
              "      border: none;\n",
              "      border-radius: 50%;\n",
              "      cursor: pointer;\n",
              "      display: none;\n",
              "      fill: #1967D2;\n",
              "      height: 32px;\n",
              "      padding: 0 0 0 0;\n",
              "      width: 32px;\n",
              "    }\n",
              "\n",
              "    .colab-df-convert:hover {\n",
              "      background-color: #E2EBFA;\n",
              "      box-shadow: 0px 1px 2px rgba(60, 64, 67, 0.3), 0px 1px 3px 1px rgba(60, 64, 67, 0.15);\n",
              "      fill: #174EA6;\n",
              "    }\n",
              "\n",
              "    [theme=dark] .colab-df-convert {\n",
              "      background-color: #3B4455;\n",
              "      fill: #D2E3FC;\n",
              "    }\n",
              "\n",
              "    [theme=dark] .colab-df-convert:hover {\n",
              "      background-color: #434B5C;\n",
              "      box-shadow: 0px 1px 3px 1px rgba(0, 0, 0, 0.15);\n",
              "      filter: drop-shadow(0px 1px 2px rgba(0, 0, 0, 0.3));\n",
              "      fill: #FFFFFF;\n",
              "    }\n",
              "  </style>\n",
              "\n",
              "      <script>\n",
              "        const buttonEl =\n",
              "          document.querySelector('#df-571e52be-5b96-403f-85c9-c6b10e88c585 button.colab-df-convert');\n",
              "        buttonEl.style.display =\n",
              "          google.colab.kernel.accessAllowed ? 'block' : 'none';\n",
              "\n",
              "        async function convertToInteractive(key) {\n",
              "          const element = document.querySelector('#df-571e52be-5b96-403f-85c9-c6b10e88c585');\n",
              "          const dataTable =\n",
              "            await google.colab.kernel.invokeFunction('convertToInteractive',\n",
              "                                                     [key], {});\n",
              "          if (!dataTable) return;\n",
              "\n",
              "          const docLinkHtml = 'Like what you see? Visit the ' +\n",
              "            '<a target=\"_blank\" href=https://colab.research.google.com/notebooks/data_table.ipynb>data table notebook</a>'\n",
              "            + ' to learn more about interactive tables.';\n",
              "          element.innerHTML = '';\n",
              "          dataTable['output_type'] = 'display_data';\n",
              "          await google.colab.output.renderOutput(dataTable, element);\n",
              "          const docLink = document.createElement('div');\n",
              "          docLink.innerHTML = docLinkHtml;\n",
              "          element.appendChild(docLink);\n",
              "        }\n",
              "      </script>\n",
              "    </div>\n",
              "  </div>\n",
              "  "
            ]
          },
          "metadata": {},
          "execution_count": 126
        }
      ]
    },
    {
      "cell_type": "code",
      "source": [
        "# Make features and labels\n",
        "x = bitcoin_prices_nbeats.dropna().drop(\"Price\",axis=1)\n",
        "y = bitcoin_prices_nbeats.dropna()[\"Price\"]\n",
        "\n",
        "# Make train and test sets\n",
        "split_size = int(len(x)*0.8)\n",
        "x_train,y_train = x[:split_size],y[:split_size]\n",
        "x_test,y_test = x[split_size:],y[split_size:]\n",
        "len(x_train),len(y_train),len(x_test),len(y_test)"
      ],
      "metadata": {
        "colab": {
          "base_uri": "https://localhost:8080/"
        },
        "id": "seUM2Or5rte5",
        "outputId": "61ea23ea-1f43-4565-f5a4-e586f2fd47e7"
      },
      "execution_count": 127,
      "outputs": [
        {
          "output_type": "execute_result",
          "data": {
            "text/plain": [
              "(2224, 2224, 556, 556)"
            ]
          },
          "metadata": {},
          "execution_count": 127
        }
      ]
    },
    {
      "cell_type": "code",
      "source": [
        "# 1. Turn train and test arrays into tensor Datasets\n",
        "train_features_dataset = tf.data.Dataset.from_tensor_slices(x_train)\n",
        "train_labels_dataset = tf.data.Dataset.from_tensor_slices(y_train)\n",
        "\n",
        "test_features_dataset = tf.data.Dataset.from_tensor_slices(x_test)\n",
        "test_labels_dataset = tf.data.Dataset.from_tensor_slices(y_test)\n",
        "\n",
        "# 2. Combine features & labels\n",
        "train_dataset = tf.data.Dataset.zip((train_features_dataset, train_labels_dataset))\n",
        "test_dataset = tf.data.Dataset.zip((test_features_dataset, test_labels_dataset))\n",
        "\n",
        "# 3. Batch and prefetch for optimal performance\n",
        "BATCH_SIZE = 1024 # taken from Appendix D in N-BEATS paper\n",
        "train_dataset = train_dataset.batch(BATCH_SIZE).prefetch(tf.data.AUTOTUNE)\n",
        "test_dataset = test_dataset.batch(BATCH_SIZE).prefetch(tf.data.AUTOTUNE)\n",
        "\n",
        "train_dataset, test_dataset"
      ],
      "metadata": {
        "colab": {
          "base_uri": "https://localhost:8080/"
        },
        "id": "odBzeWr8smf5",
        "outputId": "99693396-f25c-4a43-a6bc-dceb9d4fb27e"
      },
      "execution_count": 128,
      "outputs": [
        {
          "output_type": "execute_result",
          "data": {
            "text/plain": [
              "(<PrefetchDataset element_spec=(TensorSpec(shape=(None, 7), dtype=tf.float64, name=None), TensorSpec(shape=(None,), dtype=tf.float64, name=None))>,\n",
              " <PrefetchDataset element_spec=(TensorSpec(shape=(None, 7), dtype=tf.float64, name=None), TensorSpec(shape=(None,), dtype=tf.float64, name=None))>)"
            ]
          },
          "metadata": {},
          "execution_count": 128
        }
      ]
    },
    {
      "cell_type": "markdown",
      "source": [
        "### Setting up hyperprameters for N-BEATS algorithm\n",
        "The N-BEATS algorithm has a fair few number of parameters, many of them can be found in tabel 18: https://arxiv.org/pdf.1905.10437.pdf"
      ],
      "metadata": {
        "id": "-v16t8duvX-R"
      }
    },
    {
      "cell_type": "code",
      "source": [
        "# Values from N-BEATS Paper\n",
        "N_EPOCHS = 5000\n",
        "N_NEURONS = 512\n",
        "N_LAYERS = 4\n",
        "N_STACKS = 30\n",
        "INPUT_SIZE = WINDOW_SIZE*HORIZON\n",
        "THETA_SIZE = INPUT_SIZE + HORIZON\n",
        "INPUT_SIZE,THETA_SIZE"
      ],
      "metadata": {
        "colab": {
          "base_uri": "https://localhost:8080/"
        },
        "id": "5j7KfSexvyjz",
        "outputId": "3bd183ac-bb63-4fa8-fcd0-3fd53a7f52c0"
      },
      "execution_count": 129,
      "outputs": [
        {
          "output_type": "execute_result",
          "data": {
            "text/plain": [
              "(7, 8)"
            ]
          },
          "metadata": {},
          "execution_count": 129
        }
      ]
    },
    {
      "cell_type": "markdown",
      "source": [
        "### Getting ready for residual stacking"
      ],
      "metadata": {
        "id": "G5PWfYWZyCYd"
      }
    },
    {
      "cell_type": "code",
      "source": [
        "# Make tensors\n",
        "tensor_1 = tf.range(10)+10\n",
        "tensor_2 = tf.range(10)\n",
        "# Subtract\n",
        "subtracted = layers.subtract([tensor_1,tensor_2])\n",
        "\n",
        "# Add \n",
        "added = layers.add([tensor_1,tensor_2])\n",
        "\n",
        "# Get Outputs\n",
        "print(f\"Input tensor: {tensor_1.numpy()} & {tensor_2.numpy()}\")\n",
        "print(f\"Subtracted: {subtracted.numpy()}\")\n",
        "print(f\"Added: {added.numpy()}\")\n"
      ],
      "metadata": {
        "id": "OHuNbxgiK6k_",
        "colab": {
          "base_uri": "https://localhost:8080/"
        },
        "outputId": "307dff12-a622-43b4-c502-9ca54a5a8195"
      },
      "execution_count": 130,
      "outputs": [
        {
          "output_type": "stream",
          "name": "stdout",
          "text": [
            "Input tensor: [10 11 12 13 14 15 16 17 18 19] & [0 1 2 3 4 5 6 7 8 9]\n",
            "Subtracted: [10 10 10 10 10 10 10 10 10 10]\n",
            "Added: [10 12 14 16 18 20 22 24 26 28]\n"
          ]
        }
      ]
    },
    {
      "cell_type": "code",
      "source": [
        "tensor_1,tensor_2"
      ],
      "metadata": {
        "colab": {
          "base_uri": "https://localhost:8080/"
        },
        "id": "a4lTWaGSU2ZV",
        "outputId": "c77b359c-ca96-4e71-f9c5-694fa70b38b9"
      },
      "execution_count": 131,
      "outputs": [
        {
          "output_type": "execute_result",
          "data": {
            "text/plain": [
              "(<tf.Tensor: shape=(10,), dtype=int32, numpy=array([10, 11, 12, 13, 14, 15, 16, 17, 18, 19], dtype=int32)>,\n",
              " <tf.Tensor: shape=(10,), dtype=int32, numpy=array([0, 1, 2, 3, 4, 5, 6, 7, 8, 9], dtype=int32)>)"
            ]
          },
          "metadata": {},
          "execution_count": 131
        }
      ]
    },
    {
      "cell_type": "markdown",
      "source": [
        "The n beats algorithm uses double residual stacking to avoid gradient vanishing"
      ],
      "metadata": {
        "id": "eZOmrRhoXJ6y"
      }
    },
    {
      "cell_type": "markdown",
      "source": [
        "### Building compiling and fitting the nbeats algorithm"
      ],
      "metadata": {
        "id": "yCOb02KuX1Vx"
      }
    },
    {
      "cell_type": "markdown",
      "source": [
        "1. Setup an instance of nbeats block layer using NBeatsBLock \n",
        "2. Create an input layer for the N-Beats stack.\n",
        "3. Make the intial backcast and forcast for the model with the layer created in (1)\n",
        "4. Use for loop to create stacks of block layers \n",
        "5. use the NbeatsBlock class within the for loop to create blocks which returns the backcast and block-level forcast\n",
        "6. Create the double residual stacking using subtract and add layers.\n",
        "7. Put the model inputs and outputs together using tf.keras.Models()\n",
        "8. Compile the model with MAE (the paper uses multiple losses but we will use mae to keep it inline)\n",
        "9. Fit the n-beats model for 5000 epochs and scince we aqre fitting for long so we need call backs.\n",
        "  * Early stopping\n",
        "  * Reduce LR on plateau"
      ],
      "metadata": {
        "id": "DEx6akkjYLZJ"
      }
    },
    {
      "cell_type": "code",
      "source": [
        "train_dataset"
      ],
      "metadata": {
        "colab": {
          "base_uri": "https://localhost:8080/"
        },
        "id": "H-PogVL_FW7J",
        "outputId": "d026adec-bc51-40fd-ab27-9b3646ef5a08"
      },
      "execution_count": 132,
      "outputs": [
        {
          "output_type": "execute_result",
          "data": {
            "text/plain": [
              "<PrefetchDataset element_spec=(TensorSpec(shape=(None, 7), dtype=tf.float64, name=None), TensorSpec(shape=(None,), dtype=tf.float64, name=None))>"
            ]
          },
          "metadata": {},
          "execution_count": 132
        }
      ]
    },
    {
      "cell_type": "code",
      "source": [
        "%%time\n",
        "\n",
        "\n",
        "tf.random.set_seed(42)\n",
        "\n",
        "# 1. Setup and isntantiate of the nbeats algorithm\n",
        "nbeats_block_layer = NBeatsBlock(input_size = INPUT_SIZE,\n",
        "                                 theta_size = THETA_SIZE,\n",
        "                                 horizon=HORIZON,\n",
        "                                 n_neurons=N_NEURONS,\n",
        "                                 n_layers=N_LAYERS,\n",
        "                                 name=\"IntialBlock\"\n",
        "                                 )\n",
        "\n",
        "# 2. Create intput to stack\n",
        "stack_input = layers.Input(shape=(INPUT_SIZE),name=\"stack_input\")\n",
        "\n",
        "# 3. Create intial back_cast and forcast input (backwards predictions + horizon prediction)\n",
        "residual,forecast = nbeats_block_layer(stack_input)\n",
        "\n",
        "# 4. Create stacks of block layers\n",
        "for i,_ in enumerate(range(N_STACKS-1)): # first stack is already created in (3)\n",
        "  # 5. use the nbeats block to find the back_cast and forcast\n",
        "  backcast, block_forecast = NBeatsBlock(input_size = INPUT_SIZE,\n",
        "                                 theta_size = THETA_SIZE,\n",
        "                                 horizon=HORIZON,\n",
        "                                 n_neurons=N_NEURONS,\n",
        "                                 n_layers=N_LAYERS,\n",
        "                                 name=f\"NBeatsBlock_{i}\"\n",
        "                                 )(residual) # Pass in the residuals\n",
        "  # 6. create the double residual stacking\n",
        "  residual = layers.subtract([residual, backcast], name = f\"subtract{i}\")\n",
        "  forcast = layers.add([forecast,block_forecast],name = f\"add{i}\")\n",
        "\n",
        "# 7. Put the stack model together\n",
        "model_7 = tf.keras.Model(inputs = stack_input, outputs = forecast,name = \"model_7_NBEATS\")\n",
        "\n",
        "# 8. Compile model with  MAE loss\n",
        "model_7.compile(loss=\"mae\",\n",
        "                optimizer = tf.keras.optimizers.Adam())\n",
        "\n",
        "# 9. Fit the model with EarlyStopping and ReduceLROnPlateau callbacks\n",
        "model_7.fit(train_dataset,\n",
        "            epochs = N_EPOCHS,\n",
        "            validation_data = test_dataset,\n",
        "            verbose = 0,\n",
        "            callbacks = [tf.keras.callbacks.EarlyStopping(monitor=\"val_loss\",patience=200,\n",
        "                                                          restore_best_weights = True),\n",
        "                         tf.keras.callbacks.ReduceLROnPlateau(monitor=\"val_loss\",\n",
        "                                                              patience=100,\n",
        "                                                              verbose=1\n",
        "                                                              )])"
      ],
      "metadata": {
        "colab": {
          "base_uri": "https://localhost:8080/"
        },
        "id": "4qxycL2U1C78",
        "outputId": "659c2583-555b-4d20-dd98-3d1ae4910203"
      },
      "execution_count": 133,
      "outputs": [
        {
          "output_type": "stream",
          "name": "stdout",
          "text": [
            "\n",
            "Epoch 832: ReduceLROnPlateau reducing learning rate to 0.00010000000474974513.\n",
            "\n",
            "Epoch 987: ReduceLROnPlateau reducing learning rate to 1.0000000474974514e-05.\n",
            "\n",
            "Epoch 1087: ReduceLROnPlateau reducing learning rate to 1.0000000656873453e-06.\n",
            "CPU times: user 7min 45s, sys: 9.47 s, total: 7min 54s\n",
            "Wall time: 4min 31s\n"
          ]
        },
        {
          "output_type": "execute_result",
          "data": {
            "text/plain": [
              "<keras.callbacks.History at 0x7f5ef43876a0>"
            ]
          },
          "metadata": {},
          "execution_count": 133
        }
      ]
    },
    {
      "cell_type": "code",
      "source": [
        "# Evaluate N-Beats mdoel on the test dataset\n",
        "model_7.evaluate(test_dataset)"
      ],
      "metadata": {
        "colab": {
          "base_uri": "https://localhost:8080/"
        },
        "id": "x9yQ9moFBz4M",
        "outputId": "265dc859-d981-4d68-d640-60b41f3c93fc"
      },
      "execution_count": 134,
      "outputs": [
        {
          "output_type": "stream",
          "name": "stdout",
          "text": [
            "1/1 [==============================] - 0s 23ms/step - loss: 575.3126\n"
          ]
        },
        {
          "output_type": "execute_result",
          "data": {
            "text/plain": [
              "575.3125610351562"
            ]
          },
          "metadata": {},
          "execution_count": 134
        }
      ]
    },
    {
      "cell_type": "code",
      "source": [
        "# Make predictions with N-BEAYS model preds\n",
        "model_7_preds = make_preds(model_7,test_dataset)\n",
        "model_7_preds[:10]"
      ],
      "metadata": {
        "colab": {
          "base_uri": "https://localhost:8080/"
        },
        "id": "cqwoHpjSDjnG",
        "outputId": "832e5641-1e25-47e3-bfef-ae098665eddc"
      },
      "execution_count": 135,
      "outputs": [
        {
          "output_type": "stream",
          "name": "stdout",
          "text": [
            "1/1 [==============================] - 0s 401ms/step\n"
          ]
        },
        {
          "output_type": "execute_result",
          "data": {
            "text/plain": [
              "<tf.Tensor: shape=(10,), dtype=float32, numpy=\n",
              "array([8846.872, 8771.386, 9000.755, 8752.142, 8743.712, 8722.434,\n",
              "       8653.63 , 8488.362, 8463.603, 8494.69 ], dtype=float32)>"
            ]
          },
          "metadata": {},
          "execution_count": 135
        }
      ]
    },
    {
      "cell_type": "code",
      "source": [
        "model_7_results = evaluate_preds(y_true=y_test,\n",
        "                                 y_pred = model_7_preds)\n",
        "model_7_results"
      ],
      "metadata": {
        "colab": {
          "base_uri": "https://localhost:8080/"
        },
        "id": "4CYMDmnDD0qM",
        "outputId": "129f9e66-4fb2-4183-caed-8fd2b164db6a"
      },
      "execution_count": 136,
      "outputs": [
        {
          "output_type": "execute_result",
          "data": {
            "text/plain": [
              "{'mae': 575.31256,\n",
              " 'mse': 1172314.4,\n",
              " 'rmse': 1082.7346,\n",
              " 'mape': 2.6406543,\n",
              " 'mase': 1.0106648}"
            ]
          },
          "metadata": {},
          "execution_count": 136
        }
      ]
    },
    {
      "cell_type": "code",
      "source": [
        "naive_results"
      ],
      "metadata": {
        "colab": {
          "base_uri": "https://localhost:8080/"
        },
        "id": "xD4TSbJbEJAV",
        "outputId": "7ae65e90-35ba-4782-c0ce-eb1ed1428c05"
      },
      "execution_count": 137,
      "outputs": [
        {
          "output_type": "execute_result",
          "data": {
            "text/plain": [
              "{'mae': 567.9802,\n",
              " 'mse': 1147547.0,\n",
              " 'rmse': 1071.2362,\n",
              " 'mape': 2.5165248,\n",
              " 'mase': 0.99957}"
            ]
          },
          "metadata": {},
          "execution_count": 137
        }
      ]
    },
    {
      "cell_type": "markdown",
      "source": [
        "### Plotting the N-Beats arcithecture we have created"
      ],
      "metadata": {
        "id": "F6d-a_SfEWcr"
      }
    },
    {
      "cell_type": "code",
      "source": [
        "# Plot the N_BEATS model and inspect the architecture\n",
        "from tensorflow.keras.utils import plot_model\n",
        "plot_model(model_7)"
      ],
      "metadata": {
        "colab": {
          "base_uri": "https://localhost:8080/",
          "height": 174
        },
        "id": "-ZR-TJAPpumh",
        "outputId": "75890e9d-19b2-465d-96e0-e89de037efcd"
      },
      "execution_count": 142,
      "outputs": [
        {
          "output_type": "execute_result",
          "data": {
            "image/png": "[encoded data removed]",
            "text/plain": [
              "<IPython.core.display.Image object>"
            ]
          },
          "metadata": {},
          "execution_count": 142
        }
      ]
    },
    {
      "cell_type": "markdown",
      "source": [
        "## Model 8: Creating an enssemble (stacking different models together)"
      ],
      "metadata": {
        "id": "yaP47uayr3Yd"
      }
    },
    {
      "cell_type": "markdown",
      "source": [
        "An ensemble leverages the wisdom of the crowd effect."
      ],
      "metadata": {
        "id": "Eu0BvmTGsnTu"
      }
    },
    {
      "cell_type": "code",
      "source": [
        "HORIZON,WINDOW_SIZE"
      ],
      "metadata": {
        "colab": {
          "base_uri": "https://localhost:8080/"
        },
        "id": "unTk-8tEt7e9",
        "outputId": "d30eea68-2d4b-4fab-8668-84f3097492f1"
      },
      "execution_count": 147,
      "outputs": [
        {
          "output_type": "execute_result",
          "data": {
            "text/plain": [
              "(1, 7)"
            ]
          },
          "metadata": {},
          "execution_count": 147
        }
      ]
    },
    {
      "cell_type": "markdown",
      "source": [
        "### Constructing and fitting an enssembled model"
      ],
      "metadata": {
        "id": "vHEx7OOst-U0"
      }
    },
    {
      "cell_type": "code",
      "source": [
        "def get_ensemble_models(horizon=HORIZON,\n",
        "                        train_data = train_dataset,\n",
        "                        num_iter = 10,\n",
        "                        num_epochs = 1000,\n",
        "                        loss_fn=[\"mae\",\"mse\",\"mape\"]):\n",
        " \"\"\"\n",
        " Returs a list of num_iter models each trained on MAE, MSE and MAPE loss.\n",
        " for example, if num_iter = 10, a list of 30 trained model will be returned:\n",
        " 10*len([\"mae\",\"mse\",\"mape\"])\n",
        " \"\"\""
      ],
      "metadata": {
        "id": "gPb6vwx2uHOG"
      },
      "execution_count": null,
      "outputs": []
    }
  ]
}