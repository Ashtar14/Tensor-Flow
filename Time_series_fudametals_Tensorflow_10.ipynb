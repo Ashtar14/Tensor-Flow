{
  "nbformat": 4,
  "nbformat_minor": 0,
  "metadata": {
    "colab": {
      "provenance": []
    },
    "kernelspec": {
      "name": "python3",
      "display_name": "Python 3"
    },
    "language_info": {
      "name": "python"
    },
    "accelerator": "GPU",
    "gpuClass": "standard"
  },
  "cells": [
    {
      "cell_type": "markdown",
      "source": [
        "# Time series forcasting with tensorflow + milestone project 3\n",
        "This isnt financial advice\n",
        "\n",
        "Lets write some tensorflow code to predict the price of bitcoin"
      ],
      "metadata": {
        "id": "Tyq-V_RIbkXk"
      }
    },
    {
      "cell_type": "markdown",
      "source": [
        "# Factors affecting time series prediction problems\n",
        "1. How well we understand the factors that contributes to it.\n",
        "2. How much data is available\n",
        "3. How much similar the future is to past\n",
        "4. wether the forcast can affect the thing we are trying to forcast"
      ],
      "metadata": {
        "id": "k2TobXVcWK41"
      }
    },
    {
      "cell_type": "code",
      "source": [
        "## Get the data\n",
        "!wget https://raw.githubusercontent.com/mrdbourke/tensorflow-deep-learning/main/extras/BTC_USD_2013-10-01_2021-05-18-CoinDesk.csv"
      ],
      "metadata": {
        "colab": {
          "base_uri": "https://localhost:8080/"
        },
        "id": "R4Z_qXHCcOdw",
        "outputId": "e6eeafa0-75ce-4635-cd96-cf3e6a87c69e"
      },
      "execution_count": 1,
      "outputs": [
        {
          "output_type": "stream",
          "name": "stdout",
          "text": [
            "--2022-12-07 03:28:04--  https://raw.githubusercontent.com/mrdbourke/tensorflow-deep-learning/main/extras/BTC_USD_2013-10-01_2021-05-18-CoinDesk.csv\n",
            "Resolving raw.githubusercontent.com (raw.githubusercontent.com)... 185.199.108.133, 185.199.111.133, 185.199.109.133, ...\n",
            "Connecting to raw.githubusercontent.com (raw.githubusercontent.com)|185.199.108.133|:443... connected.\n",
            "HTTP request sent, awaiting response... 200 OK\n",
            "Length: 178509 (174K) [text/plain]\n",
            "Saving to: ‘BTC_USD_2013-10-01_2021-05-18-CoinDesk.csv’\n",
            "\n",
            "BTC_USD_2013-10-01_ 100%[===================>] 174.33K  --.-KB/s    in 0.004s  \n",
            "\n",
            "2022-12-07 03:28:05 (43.0 MB/s) - ‘BTC_USD_2013-10-01_2021-05-18-CoinDesk.csv’ saved [178509/178509]\n",
            "\n"
          ]
        }
      ]
    },
    {
      "cell_type": "markdown",
      "source": [
        "We are going to use the historic data of bitcoin to try and predict the price of bitcoin in future"
      ],
      "metadata": {
        "id": "zOkY_CIBgyph"
      }
    },
    {
      "cell_type": "markdown",
      "source": [
        "## Importing time series data"
      ],
      "metadata": {
        "id": "a42UNmuGhLn_"
      }
    },
    {
      "cell_type": "code",
      "source": [
        "# Import using pandas\n",
        "import pandas as pd\n",
        "df = pd.read_csv(\"/content/BTC_USD_2013-10-01_2021-05-18-CoinDesk.csv\",\n",
        "                 parse_dates = [\"Date\"],\n",
        "                 index_col=[\"Date\"])\n",
        "df.head()"
      ],
      "metadata": {
        "colab": {
          "base_uri": "https://localhost:8080/",
          "height": 237
        },
        "id": "aWoQ0NbEhZ3I",
        "outputId": "699ca1da-4c3a-4db8-f513-6228a08f0b0b"
      },
      "execution_count": 2,
      "outputs": [
        {
          "output_type": "execute_result",
          "data": {
            "text/plain": [
              "           Currency  Closing Price (USD)  24h Open (USD)  24h High (USD)  \\\n",
              "Date                                                                       \n",
              "2013-10-01      BTC            123.65499       124.30466       124.75166   \n",
              "2013-10-02      BTC            125.45500       123.65499       125.75850   \n",
              "2013-10-03      BTC            108.58483       125.45500       125.66566   \n",
              "2013-10-04      BTC            118.67466       108.58483       118.67500   \n",
              "2013-10-05      BTC            121.33866       118.67466       121.93633   \n",
              "\n",
              "            24h Low (USD)  \n",
              "Date                       \n",
              "2013-10-01      122.56349  \n",
              "2013-10-02      123.63383  \n",
              "2013-10-03       83.32833  \n",
              "2013-10-04      107.05816  \n",
              "2013-10-05      118.00566  "
            ],
            "text/html": [
              "\n",
              "  <div id=\"df-81e9e22f-e1ff-4e4e-9595-299e8ad90a15\">\n",
              "    <div class=\"colab-df-container\">\n",
              "      <div>\n",
              "<style scoped>\n",
              "    .dataframe tbody tr th:only-of-type {\n",
              "        vertical-align: middle;\n",
              "    }\n",
              "\n",
              "    .dataframe tbody tr th {\n",
              "        vertical-align: top;\n",
              "    }\n",
              "\n",
              "    .dataframe thead th {\n",
              "        text-align: right;\n",
              "    }\n",
              "</style>\n",
              "<table border=\"1\" class=\"dataframe\">\n",
              "  <thead>\n",
              "    <tr style=\"text-align: right;\">\n",
              "      <th></th>\n",
              "      <th>Currency</th>\n",
              "      <th>Closing Price (USD)</th>\n",
              "      <th>24h Open (USD)</th>\n",
              "      <th>24h High (USD)</th>\n",
              "      <th>24h Low (USD)</th>\n",
              "    </tr>\n",
              "    <tr>\n",
              "      <th>Date</th>\n",
              "      <th></th>\n",
              "      <th></th>\n",
              "      <th></th>\n",
              "      <th></th>\n",
              "      <th></th>\n",
              "    </tr>\n",
              "  </thead>\n",
              "  <tbody>\n",
              "    <tr>\n",
              "      <th>2013-10-01</th>\n",
              "      <td>BTC</td>\n",
              "      <td>123.65499</td>\n",
              "      <td>124.30466</td>\n",
              "      <td>124.75166</td>\n",
              "      <td>122.56349</td>\n",
              "    </tr>\n",
              "    <tr>\n",
              "      <th>2013-10-02</th>\n",
              "      <td>BTC</td>\n",
              "      <td>125.45500</td>\n",
              "      <td>123.65499</td>\n",
              "      <td>125.75850</td>\n",
              "      <td>123.63383</td>\n",
              "    </tr>\n",
              "    <tr>\n",
              "      <th>2013-10-03</th>\n",
              "      <td>BTC</td>\n",
              "      <td>108.58483</td>\n",
              "      <td>125.45500</td>\n",
              "      <td>125.66566</td>\n",
              "      <td>83.32833</td>\n",
              "    </tr>\n",
              "    <tr>\n",
              "      <th>2013-10-04</th>\n",
              "      <td>BTC</td>\n",
              "      <td>118.67466</td>\n",
              "      <td>108.58483</td>\n",
              "      <td>118.67500</td>\n",
              "      <td>107.05816</td>\n",
              "    </tr>\n",
              "    <tr>\n",
              "      <th>2013-10-05</th>\n",
              "      <td>BTC</td>\n",
              "      <td>121.33866</td>\n",
              "      <td>118.67466</td>\n",
              "      <td>121.93633</td>\n",
              "      <td>118.00566</td>\n",
              "    </tr>\n",
              "  </tbody>\n",
              "</table>\n",
              "</div>\n",
              "      <button class=\"colab-df-convert\" onclick=\"convertToInteractive('df-81e9e22f-e1ff-4e4e-9595-299e8ad90a15')\"\n",
              "              title=\"Convert this dataframe to an interactive table.\"\n",
              "              style=\"display:none;\">\n",
              "        \n",
              "  <svg xmlns=\"http://www.w3.org/2000/svg\" height=\"24px\"viewBox=\"0 0 24 24\"\n",
              "       width=\"24px\">\n",
              "    <path d=\"M0 0h24v24H0V0z\" fill=\"none\"/>\n",
              "    <path d=\"M18.56 5.44l.94 2.06.94-2.06 2.06-.94-2.06-.94-.94-2.06-.94 2.06-2.06.94zm-11 1L8.5 8.5l.94-2.06 2.06-.94-2.06-.94L8.5 2.5l-.94 2.06-2.06.94zm10 10l.94 2.06.94-2.06 2.06-.94-2.06-.94-.94-2.06-.94 2.06-2.06.94z\"/><path d=\"M17.41 7.96l-1.37-1.37c-.4-.4-.92-.59-1.43-.59-.52 0-1.04.2-1.43.59L10.3 9.45l-7.72 7.72c-.78.78-.78 2.05 0 2.83L4 21.41c.39.39.9.59 1.41.59.51 0 1.02-.2 1.41-.59l7.78-7.78 2.81-2.81c.8-.78.8-2.07 0-2.86zM5.41 20L4 18.59l7.72-7.72 1.47 1.35L5.41 20z\"/>\n",
              "  </svg>\n",
              "      </button>\n",
              "      \n",
              "  <style>\n",
              "    .colab-df-container {\n",
              "      display:flex;\n",
              "      flex-wrap:wrap;\n",
              "      gap: 12px;\n",
              "    }\n",
              "\n",
              "    .colab-df-convert {\n",
              "      background-color: #E8F0FE;\n",
              "      border: none;\n",
              "      border-radius: 50%;\n",
              "      cursor: pointer;\n",
              "      display: none;\n",
              "      fill: #1967D2;\n",
              "      height: 32px;\n",
              "      padding: 0 0 0 0;\n",
              "      width: 32px;\n",
              "    }\n",
              "\n",
              "    .colab-df-convert:hover {\n",
              "      background-color: #E2EBFA;\n",
              "      box-shadow: 0px 1px 2px rgba(60, 64, 67, 0.3), 0px 1px 3px 1px rgba(60, 64, 67, 0.15);\n",
              "      fill: #174EA6;\n",
              "    }\n",
              "\n",
              "    [theme=dark] .colab-df-convert {\n",
              "      background-color: #3B4455;\n",
              "      fill: #D2E3FC;\n",
              "    }\n",
              "\n",
              "    [theme=dark] .colab-df-convert:hover {\n",
              "      background-color: #434B5C;\n",
              "      box-shadow: 0px 1px 3px 1px rgba(0, 0, 0, 0.15);\n",
              "      filter: drop-shadow(0px 1px 2px rgba(0, 0, 0, 0.3));\n",
              "      fill: #FFFFFF;\n",
              "    }\n",
              "  </style>\n",
              "\n",
              "      <script>\n",
              "        const buttonEl =\n",
              "          document.querySelector('#df-81e9e22f-e1ff-4e4e-9595-299e8ad90a15 button.colab-df-convert');\n",
              "        buttonEl.style.display =\n",
              "          google.colab.kernel.accessAllowed ? 'block' : 'none';\n",
              "\n",
              "        async function convertToInteractive(key) {\n",
              "          const element = document.querySelector('#df-81e9e22f-e1ff-4e4e-9595-299e8ad90a15');\n",
              "          const dataTable =\n",
              "            await google.colab.kernel.invokeFunction('convertToInteractive',\n",
              "                                                     [key], {});\n",
              "          if (!dataTable) return;\n",
              "\n",
              "          const docLinkHtml = 'Like what you see? Visit the ' +\n",
              "            '<a target=\"_blank\" href=https://colab.research.google.com/notebooks/data_table.ipynb>data table notebook</a>'\n",
              "            + ' to learn more about interactive tables.';\n",
              "          element.innerHTML = '';\n",
              "          dataTable['output_type'] = 'display_data';\n",
              "          await google.colab.output.renderOutput(dataTable, element);\n",
              "          const docLink = document.createElement('div');\n",
              "          docLink.innerHTML = docLinkHtml;\n",
              "          element.appendChild(docLink);\n",
              "        }\n",
              "      </script>\n",
              "    </div>\n",
              "  </div>\n",
              "  "
            ]
          },
          "metadata": {},
          "execution_count": 2
        }
      ]
    },
    {
      "cell_type": "code",
      "source": [
        "df.info()"
      ],
      "metadata": {
        "colab": {
          "base_uri": "https://localhost:8080/"
        },
        "id": "zxhP99MpiKYq",
        "outputId": "e719a3a5-f5a1-41cb-cee4-6a7f3dcba3d0"
      },
      "execution_count": 3,
      "outputs": [
        {
          "output_type": "stream",
          "name": "stdout",
          "text": [
            "<class 'pandas.core.frame.DataFrame'>\n",
            "DatetimeIndex: 2787 entries, 2013-10-01 to 2021-05-18\n",
            "Data columns (total 5 columns):\n",
            " #   Column               Non-Null Count  Dtype  \n",
            "---  ------               --------------  -----  \n",
            " 0   Currency             2787 non-null   object \n",
            " 1   Closing Price (USD)  2787 non-null   float64\n",
            " 2   24h Open (USD)       2787 non-null   float64\n",
            " 3   24h High (USD)       2787 non-null   float64\n",
            " 4   24h Low (USD)        2787 non-null   float64\n",
            "dtypes: float64(4), object(1)\n",
            "memory usage: 130.6+ KB\n"
          ]
        }
      ]
    },
    {
      "cell_type": "code",
      "source": [
        "# How many samples do we have\n",
        "len(df)"
      ],
      "metadata": {
        "colab": {
          "base_uri": "https://localhost:8080/"
        },
        "id": "rOaGNzvNiQhI",
        "outputId": "086d0a8c-4f15-45a5-f00b-7f67d8405f5d"
      },
      "execution_count": 4,
      "outputs": [
        {
          "output_type": "execute_result",
          "data": {
            "text/plain": [
              "2787"
            ]
          },
          "metadata": {},
          "execution_count": 4
        }
      ]
    },
    {
      "cell_type": "markdown",
      "source": [
        "We have collected the historical price of bitcoin for the last 8 years but the are only 2787 samples but a neural network model like milions of sample\n",
        "\n",
        "**Note** The **Sesonality** of a time series dataset is reffered as the number of samples per year So for our Bitcoin data it has a sesonality of 365 as we collect one sample per day"
      ],
      "metadata": {
        "id": "PnNpybE5ihq4"
      }
    },
    {
      "cell_type": "code",
      "source": [
        "# Only want closing price for each day\n",
        "bitcoin_prices = pd.DataFrame(df[\"Closing Price (USD)\"]).rename(columns={\"Closing Price (USD)\": \"Price\"})\n",
        "bitcoin_prices.head()"
      ],
      "metadata": {
        "colab": {
          "base_uri": "https://localhost:8080/",
          "height": 237
        },
        "id": "185VFqmBi6Ch",
        "outputId": "67356af1-bc1a-480a-86e2-47bde28cc9ed"
      },
      "execution_count": 5,
      "outputs": [
        {
          "output_type": "execute_result",
          "data": {
            "text/plain": [
              "                Price\n",
              "Date                 \n",
              "2013-10-01  123.65499\n",
              "2013-10-02  125.45500\n",
              "2013-10-03  108.58483\n",
              "2013-10-04  118.67466\n",
              "2013-10-05  121.33866"
            ],
            "text/html": [
              "\n",
              "  <div id=\"df-ca738466-4ab0-42d2-a6f1-bfcd1c1c67ee\">\n",
              "    <div class=\"colab-df-container\">\n",
              "      <div>\n",
              "<style scoped>\n",
              "    .dataframe tbody tr th:only-of-type {\n",
              "        vertical-align: middle;\n",
              "    }\n",
              "\n",
              "    .dataframe tbody tr th {\n",
              "        vertical-align: top;\n",
              "    }\n",
              "\n",
              "    .dataframe thead th {\n",
              "        text-align: right;\n",
              "    }\n",
              "</style>\n",
              "<table border=\"1\" class=\"dataframe\">\n",
              "  <thead>\n",
              "    <tr style=\"text-align: right;\">\n",
              "      <th></th>\n",
              "      <th>Price</th>\n",
              "    </tr>\n",
              "    <tr>\n",
              "      <th>Date</th>\n",
              "      <th></th>\n",
              "    </tr>\n",
              "  </thead>\n",
              "  <tbody>\n",
              "    <tr>\n",
              "      <th>2013-10-01</th>\n",
              "      <td>123.65499</td>\n",
              "    </tr>\n",
              "    <tr>\n",
              "      <th>2013-10-02</th>\n",
              "      <td>125.45500</td>\n",
              "    </tr>\n",
              "    <tr>\n",
              "      <th>2013-10-03</th>\n",
              "      <td>108.58483</td>\n",
              "    </tr>\n",
              "    <tr>\n",
              "      <th>2013-10-04</th>\n",
              "      <td>118.67466</td>\n",
              "    </tr>\n",
              "    <tr>\n",
              "      <th>2013-10-05</th>\n",
              "      <td>121.33866</td>\n",
              "    </tr>\n",
              "  </tbody>\n",
              "</table>\n",
              "</div>\n",
              "      <button class=\"colab-df-convert\" onclick=\"convertToInteractive('df-ca738466-4ab0-42d2-a6f1-bfcd1c1c67ee')\"\n",
              "              title=\"Convert this dataframe to an interactive table.\"\n",
              "              style=\"display:none;\">\n",
              "        \n",
              "  <svg xmlns=\"http://www.w3.org/2000/svg\" height=\"24px\"viewBox=\"0 0 24 24\"\n",
              "       width=\"24px\">\n",
              "    <path d=\"M0 0h24v24H0V0z\" fill=\"none\"/>\n",
              "    <path d=\"M18.56 5.44l.94 2.06.94-2.06 2.06-.94-2.06-.94-.94-2.06-.94 2.06-2.06.94zm-11 1L8.5 8.5l.94-2.06 2.06-.94-2.06-.94L8.5 2.5l-.94 2.06-2.06.94zm10 10l.94 2.06.94-2.06 2.06-.94-2.06-.94-.94-2.06-.94 2.06-2.06.94z\"/><path d=\"M17.41 7.96l-1.37-1.37c-.4-.4-.92-.59-1.43-.59-.52 0-1.04.2-1.43.59L10.3 9.45l-7.72 7.72c-.78.78-.78 2.05 0 2.83L4 21.41c.39.39.9.59 1.41.59.51 0 1.02-.2 1.41-.59l7.78-7.78 2.81-2.81c.8-.78.8-2.07 0-2.86zM5.41 20L4 18.59l7.72-7.72 1.47 1.35L5.41 20z\"/>\n",
              "  </svg>\n",
              "      </button>\n",
              "      \n",
              "  <style>\n",
              "    .colab-df-container {\n",
              "      display:flex;\n",
              "      flex-wrap:wrap;\n",
              "      gap: 12px;\n",
              "    }\n",
              "\n",
              "    .colab-df-convert {\n",
              "      background-color: #E8F0FE;\n",
              "      border: none;\n",
              "      border-radius: 50%;\n",
              "      cursor: pointer;\n",
              "      display: none;\n",
              "      fill: #1967D2;\n",
              "      height: 32px;\n",
              "      padding: 0 0 0 0;\n",
              "      width: 32px;\n",
              "    }\n",
              "\n",
              "    .colab-df-convert:hover {\n",
              "      background-color: #E2EBFA;\n",
              "      box-shadow: 0px 1px 2px rgba(60, 64, 67, 0.3), 0px 1px 3px 1px rgba(60, 64, 67, 0.15);\n",
              "      fill: #174EA6;\n",
              "    }\n",
              "\n",
              "    [theme=dark] .colab-df-convert {\n",
              "      background-color: #3B4455;\n",
              "      fill: #D2E3FC;\n",
              "    }\n",
              "\n",
              "    [theme=dark] .colab-df-convert:hover {\n",
              "      background-color: #434B5C;\n",
              "      box-shadow: 0px 1px 3px 1px rgba(0, 0, 0, 0.15);\n",
              "      filter: drop-shadow(0px 1px 2px rgba(0, 0, 0, 0.3));\n",
              "      fill: #FFFFFF;\n",
              "    }\n",
              "  </style>\n",
              "\n",
              "      <script>\n",
              "        const buttonEl =\n",
              "          document.querySelector('#df-ca738466-4ab0-42d2-a6f1-bfcd1c1c67ee button.colab-df-convert');\n",
              "        buttonEl.style.display =\n",
              "          google.colab.kernel.accessAllowed ? 'block' : 'none';\n",
              "\n",
              "        async function convertToInteractive(key) {\n",
              "          const element = document.querySelector('#df-ca738466-4ab0-42d2-a6f1-bfcd1c1c67ee');\n",
              "          const dataTable =\n",
              "            await google.colab.kernel.invokeFunction('convertToInteractive',\n",
              "                                                     [key], {});\n",
              "          if (!dataTable) return;\n",
              "\n",
              "          const docLinkHtml = 'Like what you see? Visit the ' +\n",
              "            '<a target=\"_blank\" href=https://colab.research.google.com/notebooks/data_table.ipynb>data table notebook</a>'\n",
              "            + ' to learn more about interactive tables.';\n",
              "          element.innerHTML = '';\n",
              "          dataTable['output_type'] = 'display_data';\n",
              "          await google.colab.output.renderOutput(dataTable, element);\n",
              "          const docLink = document.createElement('div');\n",
              "          docLink.innerHTML = docLinkHtml;\n",
              "          element.appendChild(docLink);\n",
              "        }\n",
              "      </script>\n",
              "    </div>\n",
              "  </div>\n",
              "  "
            ]
          },
          "metadata": {},
          "execution_count": 5
        }
      ]
    },
    {
      "cell_type": "code",
      "source": [
        "import matplotlib.pyplot as plt\n",
        "bitcoin_prices.plot(figsize=(10,7))\n",
        "plt.ylabel(\"BTC Price\")\n",
        "plt.title(\"Price of Bitcoin from 1 oct 2013 to 18 may 2021\",fontsize=16)\n",
        "plt.legend(fontsize=14);"
      ],
      "metadata": {
        "colab": {
          "base_uri": "https://localhost:8080/",
          "height": 460
        },
        "id": "Xs4RbL5lngVj",
        "outputId": "87b4fc60-3073-4192-c5f1-67eb4e0e82c8"
      },
      "execution_count": 6,
      "outputs": [
        {
          "output_type": "display_data",
          "data": {
            "text/plain": [
              "<Figure size 720x504 with 1 Axes>"
            ],
            "image/png": "[encoded data removed]"
          },
          "metadata": {
            "needs_background": "light"
          }
        }
      ]
    },
    {
      "cell_type": "code",
      "source": [
        "import csv\n",
        "from datetime import datetime\n",
        "\n",
        "timesteps = []\n",
        "btc_price = []\n",
        "\n",
        "with open(\"/content/BTC_USD_2013-10-01_2021-05-18-CoinDesk.csv\",\"r\") as f:\n",
        "  csv_reader = csv.reader(f,delimiter=\",\")\n",
        "  next(csv_reader) # Skips frist line (This gets rid of the columns title)\n",
        "  for line in csv_reader:\n",
        "    timesteps.append(datetime.strptime(line[1],\"%Y-%m-%d\")) # Gets the date as dates not strings\n",
        "    btc_price.append(float(line[2])) # get the closing price as float\n",
        "# view the first 10 of each \n",
        "timesteps[:10],btc_price[:10]\n"
      ],
      "metadata": {
        "colab": {
          "base_uri": "https://localhost:8080/"
        },
        "id": "Z6fMC4h_oIrK",
        "outputId": "f5d1e980-2fd8-48c0-c357-52734808a2d7"
      },
      "execution_count": 7,
      "outputs": [
        {
          "output_type": "execute_result",
          "data": {
            "text/plain": [
              "([datetime.datetime(2013, 10, 1, 0, 0),\n",
              "  datetime.datetime(2013, 10, 2, 0, 0),\n",
              "  datetime.datetime(2013, 10, 3, 0, 0),\n",
              "  datetime.datetime(2013, 10, 4, 0, 0),\n",
              "  datetime.datetime(2013, 10, 5, 0, 0),\n",
              "  datetime.datetime(2013, 10, 6, 0, 0),\n",
              "  datetime.datetime(2013, 10, 7, 0, 0),\n",
              "  datetime.datetime(2013, 10, 8, 0, 0),\n",
              "  datetime.datetime(2013, 10, 9, 0, 0),\n",
              "  datetime.datetime(2013, 10, 10, 0, 0)],\n",
              " [123.65499,\n",
              "  125.455,\n",
              "  108.58483,\n",
              "  118.67466,\n",
              "  121.33866,\n",
              "  120.65533,\n",
              "  121.795,\n",
              "  123.033,\n",
              "  124.049,\n",
              "  125.96116])"
            ]
          },
          "metadata": {},
          "execution_count": 7
        }
      ]
    },
    {
      "cell_type": "code",
      "source": [
        "# Plot from csv\n",
        "plt.figure(figsize=(10,7))\n",
        "plt.plot(timesteps,btc_price)\n",
        "plt.ylabel(\"BTC Price\")\n",
        "plt.title(\"Price of Bitcoin from 1 oct 2013 to 18 may 2021\",fontsize=16)\n",
        "plt.xlabel(\"Date\")"
      ],
      "metadata": {
        "colab": {
          "base_uri": "https://localhost:8080/",
          "height": 478
        },
        "id": "V7_6rBEx3Hbr",
        "outputId": "079d9fd0-d53e-4b76-9f9e-0d7c34063a77"
      },
      "execution_count": 8,
      "outputs": [
        {
          "output_type": "execute_result",
          "data": {
            "text/plain": [
              "Text(0.5, 0, 'Date')"
            ]
          },
          "metadata": {},
          "execution_count": 8
        },
        {
          "output_type": "display_data",
          "data": {
            "text/plain": [
              "<Figure size 720x504 with 1 Axes>"
            ],
            "image/png": "[encoded data removed]"
          },
          "metadata": {
            "needs_background": "light"
          }
        }
      ]
    },
    {
      "cell_type": "markdown",
      "source": [
        "## Format Data part 1 : Create training and test sets "
      ],
      "metadata": {
        "id": "kip755Wi4Hu6"
      }
    },
    {
      "cell_type": "markdown",
      "source": [
        "### The wrong way"
      ],
      "metadata": {
        "id": "bCrYSkPs4tQA"
      }
    },
    {
      "cell_type": "code",
      "source": [
        "# Get bitcoin data array \n",
        "timesteps = bitcoin_prices.index.to_numpy()\n",
        "prices = bitcoin_prices[\"Price\"].to_numpy()\n",
        "timesteps[:10],prices[:10]"
      ],
      "metadata": {
        "colab": {
          "base_uri": "https://localhost:8080/"
        },
        "id": "jGs4TitY4xUo",
        "outputId": "d5d83091-1602-4453-c052-15488cde89ed"
      },
      "execution_count": 9,
      "outputs": [
        {
          "output_type": "execute_result",
          "data": {
            "text/plain": [
              "(array(['2013-10-01T00:00:00.000000000', '2013-10-02T00:00:00.000000000',\n",
              "        '2013-10-03T00:00:00.000000000', '2013-10-04T00:00:00.000000000',\n",
              "        '2013-10-05T00:00:00.000000000', '2013-10-06T00:00:00.000000000',\n",
              "        '2013-10-07T00:00:00.000000000', '2013-10-08T00:00:00.000000000',\n",
              "        '2013-10-09T00:00:00.000000000', '2013-10-10T00:00:00.000000000'],\n",
              "       dtype='datetime64[ns]'),\n",
              " array([123.65499, 125.455  , 108.58483, 118.67466, 121.33866, 120.65533,\n",
              "        121.795  , 123.033  , 124.049  , 125.96116]))"
            ]
          },
          "metadata": {},
          "execution_count": 9
        }
      ]
    },
    {
      "cell_type": "code",
      "source": [
        "# Wrong way to make train test sets fpr time series\n",
        "\n",
        "from sklearn.model_selection import train_test_split\n",
        "x_train,x_test,y_train,y_test = train_test_split(timesteps,\n",
        "                                                 prices,\n",
        "                                                 test_size=0.2,\n",
        "                                                 random_state=42)\n",
        "\n",
        "x_train.shape,x_test.shape,y_train.shape,y_train.shape"
      ],
      "metadata": {
        "colab": {
          "base_uri": "https://localhost:8080/"
        },
        "id": "0faMkLNn5QqC",
        "outputId": "2095b3ae-c61f-40b0-9c87-8ed7d071e1b1"
      },
      "execution_count": 10,
      "outputs": [
        {
          "output_type": "execute_result",
          "data": {
            "text/plain": [
              "((2229,), (558,), (2229,), (2229,))"
            ]
          },
          "metadata": {},
          "execution_count": 10
        }
      ]
    },
    {
      "cell_type": "code",
      "source": [
        "# Lets plot wrong train and test splits\n",
        "plt.figure(figsize=(10,7))\n",
        "plt.scatter(x_train,y_train,s=5,label=\"Train_data\")\n",
        "plt.scatter(x_test,y_test,s=5,label=\"Test data\")\n",
        "plt.xlabel(\"Date\")\n",
        "plt.ylabel(\"BTC Price\")\n",
        "plt.legend(fontsize=14)\n",
        "plt.show();"
      ],
      "metadata": {
        "colab": {
          "base_uri": "https://localhost:8080/",
          "height": 442
        },
        "id": "Qc4H2Mag58Az",
        "outputId": "e6e4660f-2f35-48c9-c8fd-6692510c3208"
      },
      "execution_count": 11,
      "outputs": [
        {
          "output_type": "display_data",
          "data": {
            "text/plain": [
              "<Figure size 720x504 with 1 Axes>"
            ],
            "image/png": "[encoded data removed]"
          },
          "metadata": {
            "needs_background": "light"
          }
        }
      ]
    },
    {
      "cell_type": "markdown",
      "source": [
        "Notice the mixed dots 😆 Thats why its wrong  "
      ],
      "metadata": {
        "id": "AbCNRXzt6vfM"
      }
    },
    {
      "cell_type": "markdown",
      "source": [
        "##  Create the train and test sets the right way "
      ],
      "metadata": {
        "id": "H634IcQ37G0i"
      }
    },
    {
      "cell_type": "markdown",
      "source": [
        "### Time series split"
      ],
      "metadata": {
        "id": "i5t3eYVp7azj"
      }
    },
    {
      "cell_type": "code",
      "source": [
        "split_size = int(0.8*len(prices))\n",
        "# Create train data splits\n",
        "x_train,y_train = timesteps[:split_size],prices[:split_size]\n",
        "# Create test data splits (everything beyond the split size )\n",
        "x_test,y_test = timesteps[split_size:],prices[split_size:]\n",
        "len(x_train),len(y_train),len(x_train),len(y_train)"
      ],
      "metadata": {
        "colab": {
          "base_uri": "https://localhost:8080/"
        },
        "id": "S-oO_GKN7_QS",
        "outputId": "12b8722c-ff1c-4e0b-b7ff-532b309a2a81"
      },
      "execution_count": 12,
      "outputs": [
        {
          "output_type": "execute_result",
          "data": {
            "text/plain": [
              "(2229, 2229, 2229, 2229)"
            ]
          },
          "metadata": {},
          "execution_count": 12
        }
      ]
    },
    {
      "cell_type": "code",
      "source": [
        "# Lets plot wrong train and test splits\n",
        "plt.figure(figsize=(10,7))\n",
        "plt.scatter(x_train,y_train,s=5,label=\"Train_data\")\n",
        "plt.scatter(x_test,y_test,s=5,label=\"Test data\")\n",
        "plt.xlabel(\"Date\")\n",
        "plt.ylabel(\"BTC Price\")\n",
        "plt.legend(fontsize=14)\n",
        "plt.show();"
      ],
      "metadata": {
        "colab": {
          "base_uri": "https://localhost:8080/",
          "height": 0
        },
        "id": "xrHJ-OGD82gs",
        "outputId": "87f75d31-c782-480a-d6b1-e2fc1a3ce3ae"
      },
      "execution_count": 13,
      "outputs": [
        {
          "output_type": "display_data",
          "data": {
            "text/plain": [
              "<Figure size 720x504 with 1 Axes>"
            ],
            "image/png": "[encoded data removed]"
          },
          "metadata": {
            "needs_background": "light"
          }
        }
      ]
    },
    {
      "cell_type": "markdown",
      "source": [
        "Now thats the right thing"
      ],
      "metadata": {
        "id": "1xijs_M09I-i"
      }
    },
    {
      "cell_type": "markdown",
      "source": [
        "## Create a ploting fuction"
      ],
      "metadata": {
        "id": "bsvgy2tw9ptE"
      }
    },
    {
      "cell_type": "code",
      "source": [
        "# Create a function to plot time series data\n",
        "def plot_time_series(timesteps, values, format='.', start=0, end=None, label=None):\n",
        "  \"\"\"\n",
        "  Plots a timesteps (a series of points in time) against values (a series of values across timesteps).\n",
        "  \n",
        "  Parameters\n",
        "  ---------\n",
        "  timesteps : array of timesteps\n",
        "  values : array of values across time\n",
        "  format : style of plot, default \".\"\n",
        "  start : where to start the plot (setting a value will index from start of timesteps & values)\n",
        "  end : where to end the plot (setting a value will index from end of timesteps & values)\n",
        "  label : label to show on plot of values\n",
        "  \"\"\"\n",
        "  # Plot the series\n",
        "  plt.plot(timesteps[start:end], values[start:end], format, label=label)\n",
        "  plt.xlabel(\"Time\")\n",
        "  plt.ylabel(\"BTC Price\")\n",
        "  if label:\n",
        "    plt.legend(fontsize=14) # make label bigger\n",
        "  plt.grid(True)"
      ],
      "metadata": {
        "id": "pJOJ0wcY9wn8"
      },
      "execution_count": 14,
      "outputs": []
    },
    {
      "cell_type": "code",
      "source": [
        "# Test out plotting function\n",
        "plt.figure(figsize=(10,7))\n",
        "plot_time_series(timesteps=x_train,values=y_train,label=\"Train Data\")\n",
        "plot_time_series(timesteps=x_test,values=y_test,label=\"Test Data\")"
      ],
      "metadata": {
        "colab": {
          "base_uri": "https://localhost:8080/",
          "height": 0
        },
        "id": "9a701n95_JsW",
        "outputId": "a2273ee4-864c-4053-f4f3-7c5f2bf790e6"
      },
      "execution_count": 15,
      "outputs": [
        {
          "output_type": "display_data",
          "data": {
            "text/plain": [
              "<Figure size 720x504 with 1 Axes>"
            ],
            "image/png": "[encoded data removed]"
          },
          "metadata": {
            "needs_background": "light"
          }
        }
      ]
    },
    {
      "cell_type": "markdown",
      "source": [
        "## Modeling experiments\n",
        "lets run a series of modelling experiments"
      ],
      "metadata": {
        "id": "HjAC9T0KAvrU"
      }
    },
    {
      "cell_type": "markdown",
      "source": [
        "# Lets build a naive model (model 0)\n",
        "The formula is $$\\hat{y}_{t} = y_{t-1}$$\n",
        "\n",
        "The prediction at timestemp t is the same as previous"
      ],
      "metadata": {
        "id": "YBUSgSaHgT9Y"
      }
    },
    {
      "cell_type": "code",
      "source": [
        "# Create a naive forecast\n",
        "naive_forecast = y_test[:-1]\n",
        "naive_forecast[:10] ,naive_forecast[-10:]\n"
      ],
      "metadata": {
        "colab": {
          "base_uri": "https://localhost:8080/"
        },
        "id": "QJ3t4mW7jd6V",
        "outputId": "8777569f-0347-4c61-e723-12253f73975d"
      },
      "execution_count": 16,
      "outputs": [
        {
          "output_type": "execute_result",
          "data": {
            "text/plain": [
              "(array([9226.48582088, 8794.35864452, 8798.04205463, 9081.18687849,\n",
              "        8711.53433917, 8760.89271814, 8749.52059102, 8656.97092235,\n",
              "        8500.64355816, 8469.2608989 ]),\n",
              " array([57107.12067189, 58788.20967893, 58102.19142623, 55715.54665129,\n",
              "        56573.5554719 , 52147.82118698, 49764.1320816 , 50032.69313676,\n",
              "        47885.62525472, 45604.61575361]))"
            ]
          },
          "metadata": {},
          "execution_count": 16
        }
      ]
    },
    {
      "cell_type": "code",
      "source": [
        "y_test[-10:]"
      ],
      "metadata": {
        "colab": {
          "base_uri": "https://localhost:8080/"
        },
        "id": "T_4al9kZkhrB",
        "outputId": "14e8f292-9e78-4b11-c013-72aa3e690690"
      },
      "execution_count": 17,
      "outputs": [
        {
          "output_type": "execute_result",
          "data": {
            "text/plain": [
              "array([58788.20967893, 58102.19142623, 55715.54665129, 56573.5554719 ,\n",
              "       52147.82118698, 49764.1320816 , 50032.69313676, 47885.62525472,\n",
              "       45604.61575361, 43144.47129086])"
            ]
          },
          "metadata": {},
          "execution_count": 17
        }
      ]
    },
    {
      "cell_type": "code",
      "source": [
        "# Plot naive forcast\n",
        "plt.figure(figsize=(10,7))\n",
        "plot_time_series(timesteps=x_train,values=y_train,label=\"Train data\")\n",
        "plot_time_series(timesteps=x_test,values=y_test,label=\"Test data\")\n",
        "plot_time_series(timesteps=x_test[1:],values=naive_forecast,format=\"-\",label=\"Naive Forcast\")"
      ],
      "metadata": {
        "colab": {
          "base_uri": "https://localhost:8080/",
          "height": 442
        },
        "id": "9aG1rHeUklKK",
        "outputId": "c6a9fd6f-e3e2-45ce-a43c-f9841f3b6f7e"
      },
      "execution_count": 18,
      "outputs": [
        {
          "output_type": "display_data",
          "data": {
            "text/plain": [
              "<Figure size 720x504 with 1 Axes>"
            ],
            "image/png": "[encoded data removed]"
          },
          "metadata": {
            "needs_background": "light"
          }
        }
      ]
    },
    {
      "cell_type": "markdown",
      "source": [
        "from numpy import number\n",
        "## Evaluating a time series model\n",
        "\n",
        "lets look at some evaluation metrics for time series forecasting\n",
        "\n",
        "we are working on a regression model like thing we are predicting a number\n",
        "\n",
        "so a few comman regression metrics are\n",
        "\n",
        "* MAE\n",
        "* MSE\n",
        "* RMSE\n",
        "* MASE\n",
        "*sMASE"
      ],
      "metadata": {
        "id": "5BA19aDqlwHN"
      }
    },
    {
      "cell_type": "code",
      "source": [
        "import tensorflow as tf"
      ],
      "metadata": {
        "id": "34yCrLSest9H"
      },
      "execution_count": 19,
      "outputs": []
    },
    {
      "cell_type": "code",
      "source": [
        "# Mase implementation\n",
        "def mean_absolute_scaled_error(y_true,y_pred):\n",
        "  \"\"\"\n",
        "  Implement MASE\n",
        "  \"\"\"\n",
        "  mae = tf.reduce_mean(tf.abs(y_true-y_pred))\n",
        "\n",
        "  mae_naive_no_season = tf.reduce_mean(tf.abs(y_true[1:]-y_true[:-1]))\n",
        "  return (mae/mae_naive_no_season)"
      ],
      "metadata": {
        "id": "mHgEeIKQo4ex"
      },
      "execution_count": 20,
      "outputs": []
    },
    {
      "cell_type": "code",
      "source": [
        "mean_absolute_scaled_error(y_test[1:],naive_forecast)"
      ],
      "metadata": {
        "colab": {
          "base_uri": "https://localhost:8080/"
        },
        "id": "Ig6XICLatBwt",
        "outputId": "f06d3378-d50e-40be-c475-b3cef2f51992"
      },
      "execution_count": 21,
      "outputs": [
        {
          "output_type": "execute_result",
          "data": {
            "text/plain": [
              "<tf.Tensor: shape=(), dtype=float64, numpy=0.9995699939182624>"
            ]
          },
          "metadata": {},
          "execution_count": 21
        }
      ]
    },
    {
      "cell_type": "code",
      "source": [
        "def evaluate_preds(y_true, y_pred):\n",
        "  # Make sure float32 (for metric calculations)\n",
        "  y_true = tf.cast(y_true, dtype=tf.float32)\n",
        "  y_pred = tf.cast(y_pred, dtype=tf.float32)\n",
        "\n",
        "  # Calculate various metrics\n",
        "  mae = tf.keras.metrics.mean_absolute_error(y_true, y_pred)\n",
        "  mse = tf.keras.metrics.mean_squared_error(y_true, y_pred) # puts and emphasis on outliers (all errors get squared)\n",
        "  rmse = tf.sqrt(mse)\n",
        "  mape = tf.keras.metrics.mean_absolute_percentage_error(y_true, y_pred)\n",
        "  mase = mean_absolute_scaled_error(y_true, y_pred)\n",
        "  \n",
        "  return {\"mae\": mae.numpy(),\n",
        "          \"mse\": mse.numpy(),\n",
        "          \"rmse\": rmse.numpy(),\n",
        "          \"mape\": mape.numpy(),\n",
        "          \"mase\": mase.numpy()}"
      ],
      "metadata": {
        "id": "-pUOZVRftQ8t"
      },
      "execution_count": 22,
      "outputs": []
    },
    {
      "cell_type": "code",
      "source": [
        "naive_results = evaluate_preds(y_true=y_test[1:],y_pred=naive_forecast)\n",
        "naive_results"
      ],
      "metadata": {
        "colab": {
          "base_uri": "https://localhost:8080/"
        },
        "id": "K_w2-GDqt7R9",
        "outputId": "751a284c-f970-4580-b2c5-d975c49bd289"
      },
      "execution_count": 23,
      "outputs": [
        {
          "output_type": "execute_result",
          "data": {
            "text/plain": [
              "{'mae': 567.9802,\n",
              " 'mse': 1147547.0,\n",
              " 'rmse': 1071.2362,\n",
              " 'mape': 2.516525,\n",
              " 'mase': 0.99957}"
            ]
          },
          "metadata": {},
          "execution_count": 23
        }
      ]
    },
    {
      "cell_type": "code",
      "source": [
        "tf.reduce_mean(y_test)"
      ],
      "metadata": {
        "colab": {
          "base_uri": "https://localhost:8080/"
        },
        "id": "BX9Ai4AxvRR1",
        "outputId": "aacc322a-1826-46f9-fbf2-669a55b0a5bd"
      },
      "execution_count": 24,
      "outputs": [
        {
          "output_type": "execute_result",
          "data": {
            "text/plain": [
              "<tf.Tensor: shape=(), dtype=float64, numpy=20056.632963737222>"
            ]
          },
          "metadata": {},
          "execution_count": 24
        }
      ]
    },
    {
      "cell_type": "code",
      "source": [
        "tf.reduce_min(y_test)"
      ],
      "metadata": {
        "colab": {
          "base_uri": "https://localhost:8080/"
        },
        "id": "YhUIZHobv7SW",
        "outputId": "0cf59ca2-31a0-4af8-af0a-1da06d0199e5"
      },
      "execution_count": 25,
      "outputs": [
        {
          "output_type": "execute_result",
          "data": {
            "text/plain": [
              "<tf.Tensor: shape=(), dtype=float64, numpy=4944.7023359837>"
            ]
          },
          "metadata": {},
          "execution_count": 25
        }
      ]
    },
    {
      "cell_type": "code",
      "source": [
        "tf.reduce_max(y_test)"
      ],
      "metadata": {
        "colab": {
          "base_uri": "https://localhost:8080/"
        },
        "id": "GXvipHbDv-GN",
        "outputId": "6d56eb7a-6502-44e9-bd55-2982221830ab"
      },
      "execution_count": 26,
      "outputs": [
        {
          "output_type": "execute_result",
          "data": {
            "text/plain": [
              "<tf.Tensor: shape=(), dtype=float64, numpy=63346.7890351052>"
            ]
          },
          "metadata": {},
          "execution_count": 26
        }
      ]
    },
    {
      "cell_type": "markdown",
      "source": [
        "## Format Data part 2 : Windowing our data set "
      ],
      "metadata": {
        "id": "peJ53qnawAx_"
      }
    },
    {
      "cell_type": "markdown",
      "source": [
        "why do we window ?\n",
        "\n",
        "we window our time series dataset to turn our data into a supervised \n",
        "learning problem.\n"
      ],
      "metadata": {
        "id": "XV4nXULm0Y_2"
      }
    },
    {
      "cell_type": "code",
      "source": [
        "len(y_train)"
      ],
      "metadata": {
        "colab": {
          "base_uri": "https://localhost:8080/"
        },
        "id": "SEKiIDSx0oWH",
        "outputId": "bce7cd9a-0be9-46fe-a2b2-a9f9ab6e3789"
      },
      "execution_count": 27,
      "outputs": [
        {
          "output_type": "execute_result",
          "data": {
            "text/plain": [
              "2229"
            ]
          },
          "metadata": {},
          "execution_count": 27
        }
      ]
    },
    {
      "cell_type": "code",
      "source": [
        "btc_price[:7] ,btc_price[7]"
      ],
      "metadata": {
        "colab": {
          "base_uri": "https://localhost:8080/"
        },
        "id": "Iqaz57dc1WyJ",
        "outputId": "9d69b420-35a3-4404-f0c3-7ed469637ba9"
      },
      "execution_count": 28,
      "outputs": [
        {
          "output_type": "execute_result",
          "data": {
            "text/plain": [
              "([123.65499, 125.455, 108.58483, 118.67466, 121.33866, 120.65533, 121.795],\n",
              " 123.033)"
            ]
          },
          "metadata": {},
          "execution_count": 28
        }
      ]
    },
    {
      "cell_type": "code",
      "source": [
        "# lets setup global variables for window and horizon size \n",
        "HORIZON = 1 # predict next 1 day\n",
        "WINDOW_SIZE = 7 # use the past week of bitcoin data to make the prediction"
      ],
      "metadata": {
        "id": "raYialfu157x"
      },
      "execution_count": 29,
      "outputs": []
    },
    {
      "cell_type": "code",
      "source": [
        "# Create function to label windowed data\n",
        "def get_labelled_window(x,horizon=HORIZON):\n",
        "  '''\n",
        "  Create labels for windowed dataset\n",
        "  \n",
        "  E.g if horizon =1\n",
        "  Input: [0,1,2,3,4,5,6,7] ------> Output: ([0,1,2,3,4,5,6] , [7])\n",
        "  \n",
        "  '''\n",
        "  return (x[:,:-horizon],x[:,-horizon:])"
      ],
      "metadata": {
        "id": "JcvNgqjJ2X9Q"
      },
      "execution_count": 30,
      "outputs": []
    },
    {
      "cell_type": "code",
      "source": [
        "# Test out the window labelling function\n",
        "test_window, test_label = get_labelled_window (tf.expand_dims(tf.range(8)+1,axis=0))\n",
        "test_window, test_label"
      ],
      "metadata": {
        "colab": {
          "base_uri": "https://localhost:8080/"
        },
        "id": "EajjrAf24B3p",
        "outputId": "9826b3f2-6d3b-4e5d-c112-b1a0423414d4"
      },
      "execution_count": 31,
      "outputs": [
        {
          "output_type": "execute_result",
          "data": {
            "text/plain": [
              "(<tf.Tensor: shape=(1, 7), dtype=int32, numpy=array([[1, 2, 3, 4, 5, 6, 7]], dtype=int32)>,\n",
              " <tf.Tensor: shape=(1, 1), dtype=int32, numpy=array([[8]], dtype=int32)>)"
            ]
          },
          "metadata": {},
          "execution_count": 31
        }
      ]
    },
    {
      "cell_type": "markdown",
      "source": [
        "we need to do the above preprocessing on the complete time series\n",
        "\n",
        "We can use numpy array indexing instead of for loops to speed things up"
      ],
      "metadata": {
        "id": "97_KfUBD-3Os"
      }
    },
    {
      "cell_type": "markdown",
      "source": [
        "Let's write a function which:\n",
        "\n",
        "* 1. Creates a window step of specific window size, for example: [[0, 1, 2, 3, 4, 5, 6, 7]]\n",
        "\n",
        "\n",
        "* 2. Uses NumPy indexing to create a 2D of multiple window steps, for example:\n",
        "\n",
        "        [[0, 1, 2, 3, 4, 5, 6, 7],\n",
        "        \n",
        "        [1, 2, 3, 4, 5, 6, 7, 8],\n",
        "         [2, 3, 4, 5, 6, 7, 8, 9]]\n",
        "\n",
        "* 3.Uses the 2D array of multuple window steps to index on a target series\n",
        "\n",
        "* 4.Uses the get_labelled_windows() function we created above to turn the window steps into windows with a specified horizon"
      ],
      "metadata": {
        "id": "5oX38i9q_Cj8"
      }
    },
    {
      "cell_type": "code",
      "source": [
        "import numpy as np\n",
        "# Create function to view NumPy arrays as windows \n",
        "def make_windows(x, window_size=7, horizon=1):\n",
        "  \"\"\"\n",
        "  Turns a 1D array into a 2D array of sequential windows of window_size.\n",
        "  \"\"\"\n",
        "  # 1. Create a window of specific window_size (add the horizon on the end for later labelling)\n",
        "  window_step = np.expand_dims(np.arange(window_size+horizon), axis=0)\n",
        "  # print(f\"Window step:\\n {window_step}\")\n",
        "\n",
        "  # 2. Create a 2D array of multiple window steps (minus 1 to account for 0 indexing)\n",
        "  window_indexes = window_step + np.expand_dims(np.arange(len(x)-(window_size+horizon-1)), axis=0).T # create 2D array of windows of size window_size\n",
        "  # print(f\"Window indexes:\\n {window_indexes[:3], window_indexes[-3:], window_indexes.shape}\")\n",
        "\n",
        "  # 3. Index on the target array (time series) with 2D array of multiple window steps\n",
        "  windowed_array = x[window_indexes]\n",
        "\n",
        "  # 4. Get the labelled windows\n",
        "  windows, labels = get_labelled_window(windowed_array, horizon=horizon)\n",
        "\n",
        "  return windows, labels"
      ],
      "metadata": {
        "id": "HJohBehdDtjX"
      },
      "execution_count": 32,
      "outputs": []
    },
    {
      "cell_type": "code",
      "source": [
        "full_windows, full_labels = make_windows(prices,window_size=WINDOW_SIZE,horizon=HORIZON)\n",
        "len(full_windows),len(full_labels)"
      ],
      "metadata": {
        "colab": {
          "base_uri": "https://localhost:8080/"
        },
        "id": "iYAnnFFbDSj4",
        "outputId": "cb9816c7-d885-45b4-f705-724a4100ca51"
      },
      "execution_count": 33,
      "outputs": [
        {
          "output_type": "execute_result",
          "data": {
            "text/plain": [
              "(2780, 2780)"
            ]
          },
          "metadata": {},
          "execution_count": 33
        }
      ]
    },
    {
      "cell_type": "code",
      "source": [
        "# View the first 3\n",
        "for i in range (3):\n",
        "  print(f\"Windsows:{full_windows[i]}--> Label {full_labels[i]}\")"
      ],
      "metadata": {
        "colab": {
          "base_uri": "https://localhost:8080/"
        },
        "id": "mSbVnJt7D2eX",
        "outputId": "cea6a9d2-4534-48c2-f108-404df1c2a494"
      },
      "execution_count": 34,
      "outputs": [
        {
          "output_type": "stream",
          "name": "stdout",
          "text": [
            "Windsows:[123.65499 125.455   108.58483 118.67466 121.33866 120.65533 121.795  ]--> Label [123.033]\n",
            "Windsows:[125.455   108.58483 118.67466 121.33866 120.65533 121.795   123.033  ]--> Label [124.049]\n",
            "Windsows:[108.58483 118.67466 121.33866 120.65533 121.795   123.033   124.049  ]--> Label [125.96116]\n"
          ]
        }
      ]
    },
    {
      "cell_type": "code",
      "source": [
        "np.expand_dims(np.arange(len(prices)-(7+1-1)),axis=0).T"
      ],
      "metadata": {
        "colab": {
          "base_uri": "https://localhost:8080/"
        },
        "id": "djXmK63wFxo6",
        "outputId": "1c48fb4e-90c7-49c4-e206-7f404ddb0b64"
      },
      "execution_count": 35,
      "outputs": [
        {
          "output_type": "execute_result",
          "data": {
            "text/plain": [
              "array([[   0],\n",
              "       [   1],\n",
              "       [   2],\n",
              "       ...,\n",
              "       [2777],\n",
              "       [2778],\n",
              "       [2779]])"
            ]
          },
          "metadata": {},
          "execution_count": 35
        }
      ]
    },
    {
      "cell_type": "code",
      "source": [
        "np.expand_dims(np.arange(7+1),axis=0)"
      ],
      "metadata": {
        "colab": {
          "base_uri": "https://localhost:8080/"
        },
        "id": "3F-XgIHCEZF4",
        "outputId": "6b772005-189d-4642-b177-31f57fa52cbf"
      },
      "execution_count": 36,
      "outputs": [
        {
          "output_type": "execute_result",
          "data": {
            "text/plain": [
              "array([[0, 1, 2, 3, 4, 5, 6, 7]])"
            ]
          },
          "metadata": {},
          "execution_count": 36
        }
      ]
    },
    {
      "cell_type": "code",
      "source": [
        "len(prices)"
      ],
      "metadata": {
        "colab": {
          "base_uri": "https://localhost:8080/"
        },
        "id": "3wTdPhp8FXiY",
        "outputId": "72df72ed-49d6-4b8b-bbf5-9cf2a9541682"
      },
      "execution_count": 37,
      "outputs": [
        {
          "output_type": "execute_result",
          "data": {
            "text/plain": [
              "2787"
            ]
          },
          "metadata": {},
          "execution_count": 37
        }
      ]
    },
    {
      "cell_type": "code",
      "source": [
        "f=tf.keras.preprocessing.timeseries_dataset_from_array(prices,sequence_length=7,targets=None ,batch_size=1)"
      ],
      "metadata": {
        "id": "p262RgygFehw"
      },
      "execution_count": 38,
      "outputs": []
    },
    {
      "cell_type": "code",
      "source": [
        "for i in f:\n",
        "  a=tf.squeeze(i)\n",
        "  print(tf.squeeze(i))\n",
        "  break"
      ],
      "metadata": {
        "colab": {
          "base_uri": "https://localhost:8080/"
        },
        "id": "x9AAHikQKKIi",
        "outputId": "ff7e1ce8-477b-4bdb-d56e-390747374dac"
      },
      "execution_count": 39,
      "outputs": [
        {
          "output_type": "stream",
          "name": "stdout",
          "text": [
            "tf.Tensor([123.65499 125.455   108.58483 118.67466 121.33866 120.65533 121.795  ], shape=(7,), dtype=float64)\n"
          ]
        }
      ]
    },
    {
      "cell_type": "code",
      "source": [
        "get_labelled_window(np.expand_dims(a,axis=0))"
      ],
      "metadata": {
        "colab": {
          "base_uri": "https://localhost:8080/"
        },
        "id": "TTbKNOJjKXdq",
        "outputId": "8a620dc0-d383-472e-c5b7-ce06a5b05e64"
      },
      "execution_count": 40,
      "outputs": [
        {
          "output_type": "execute_result",
          "data": {
            "text/plain": [
              "(array([[123.65499, 125.455  , 108.58483, 118.67466, 121.33866, 120.65533]]),\n",
              " array([[121.795]]))"
            ]
          },
          "metadata": {},
          "execution_count": 40
        }
      ]
    },
    {
      "cell_type": "markdown",
      "source": [
        "## Turning windows into training and test sets\n"
      ],
      "metadata": {
        "id": "cPL4d3XRK_cL"
      }
    },
    {
      "cell_type": "code",
      "source": [
        "# Make the train test splits\n",
        "def make_train_test_split(windows,labels,test_split=0.2):\n",
        "  \"\"\"\n",
        "  Split matching pairs of windows and labels into train and test splits\n",
        "  \"\"\"\n",
        "  split_size = int(len(windows) * (1-test_split)) # This will default to 80% train and 20% test\n",
        "  train_windows = windows[:split_size]\n",
        "  train_labels = labels[:split_size]\n",
        "  test_windows = windows[split_size:]\n",
        "  test_labels = labels[split_size:]\n",
        "  return(train_windows,test_windows,train_labels,test_labels)"
      ],
      "metadata": {
        "id": "ABYQdkHWOrE6"
      },
      "execution_count": 41,
      "outputs": []
    },
    {
      "cell_type": "code",
      "source": [
        "# Create train and test windows\n",
        "train_windows,test_windows,train_labels,test_labels = make_train_test_split(full_windows,full_labels)\n",
        "len(train_windows),len(test_windows),len(train_labels),len(test_labels)"
      ],
      "metadata": {
        "colab": {
          "base_uri": "https://localhost:8080/"
        },
        "id": "QPeSxf8bQKjv",
        "outputId": "b622cfc8-3f54-44d0-9dbf-5b26bdccc320"
      },
      "execution_count": 42,
      "outputs": [
        {
          "output_type": "execute_result",
          "data": {
            "text/plain": [
              "(2224, 556, 2224, 556)"
            ]
          },
          "metadata": {},
          "execution_count": 42
        }
      ]
    },
    {
      "cell_type": "code",
      "source": [
        "train_windows[:5],train_labels[:5]"
      ],
      "metadata": {
        "colab": {
          "base_uri": "https://localhost:8080/"
        },
        "id": "MGYbx457Qww8",
        "outputId": "0dd1c25d-d424-416b-d25a-9d1e04f83d29"
      },
      "execution_count": 43,
      "outputs": [
        {
          "output_type": "execute_result",
          "data": {
            "text/plain": [
              "(array([[123.65499, 125.455  , 108.58483, 118.67466, 121.33866, 120.65533,\n",
              "         121.795  ],\n",
              "        [125.455  , 108.58483, 118.67466, 121.33866, 120.65533, 121.795  ,\n",
              "         123.033  ],\n",
              "        [108.58483, 118.67466, 121.33866, 120.65533, 121.795  , 123.033  ,\n",
              "         124.049  ],\n",
              "        [118.67466, 121.33866, 120.65533, 121.795  , 123.033  , 124.049  ,\n",
              "         125.96116],\n",
              "        [121.33866, 120.65533, 121.795  , 123.033  , 124.049  , 125.96116,\n",
              "         125.27966]]), array([[123.033  ],\n",
              "        [124.049  ],\n",
              "        [125.96116],\n",
              "        [125.27966],\n",
              "        [125.9275 ]]))"
            ]
          },
          "metadata": {},
          "execution_count": 43
        }
      ]
    },
    {
      "cell_type": "markdown",
      "source": [
        "## Make a Modeling check point\n",
        "\n",
        "Because our model's performance will fluctuate from experiment to experiment we are going to write a model checkpoint so we can compare appels to appels.\n",
        "\n",
        "More specifically we want to compare each of our models best performance against the other models best performance.\n",
        "\n",
        "for example if our model performs the best on epoch 55 (but we are training for 100 epochs), we want to load and evaluate the model saved on epoch 55\n",
        "\n",
        "We can create a modelling checkpoint callbacks by using tf keras callback model checkpoints"
      ],
      "metadata": {
        "id": "B5ttu7EAWmFs"
      }
    },
    {
      "cell_type": "code",
      "source": [
        "import os\n",
        "# Create a function to implement the model callback checkpoint with a specific filename\n",
        "def create_model_checkpoint(model_name,save_path=\"model_experiments\"):\n",
        "  return tf.keras.callbacks.ModelCheckpoint(filepath=os.path.join(save_path,model_name),\n",
        "                                            verbos=0,\n",
        "                                            save_best_only=True)\n",
        "\n"
      ],
      "metadata": {
        "id": "4yeomtxRXxKb"
      },
      "execution_count": 44,
      "outputs": []
    },
    {
      "cell_type": "markdown",
      "source": [
        "## Model 1: Dense model (window=7 horizon=1)\n",
        "\n",
        "our first deep model is going to be simple dense model\n",
        "* A single dense layer with 128 hidden units and ReLU\n",
        "* An output layer with linear or no activation\n",
        "* Adam optimizer and MAE loss fuction\n",
        "* Batch size of 128\n",
        "* 100 epochs\n",
        "\n",
        "Why these values ?\n",
        "\n",
        "These were picked out through experimentations\n",
        "\n",
        "**Hyperparameters** = values a machine learning practitioner can adjust themselves\n",
        "\n",
        "**Parameters** = values a model learns on its own"
      ],
      "metadata": {
        "id": "Q2RRTw2qaueN"
      }
    },
    {
      "cell_type": "code",
      "source": [
        "import tensorflow as tf \n",
        "from tensorflow.keras import layers\n",
        "\n",
        "# Set random seed for as reproducible results as possible\n",
        "tf.random.set_seed(42)\n",
        "# 1. Construct Model\n",
        "model_1 = tf.keras.Sequential([\n",
        "    layers.Dense(128,activation=\"relu\"),\n",
        "    layers.Dense(HORIZON, activation=\"linear\") # Linear activation is just like having no activation at all\n",
        "],name=\"model_1_dense\")# name our model so we can save it\n",
        "# 2. Compile\n",
        "model_1.compile(loss=\"mae\",\n",
        "                optimizer = tf.keras.optimizers.Adam(),\n",
        "                metrics = [\"mae\",\"mse\"])\n",
        "# 3. Fit the model\n",
        "model_1.fit(x = train_windows,\n",
        "            y = train_labels,\n",
        "            epochs=100,\n",
        "            verbose=1,\n",
        "            batch_size=128,\n",
        "            validation_data=(test_windows,test_labels),\n",
        "            callbacks=[create_model_checkpoint(model_name=model_1.name)])"
      ],
      "metadata": {
        "colab": {
          "base_uri": "https://localhost:8080/"
        },
        "id": "J6rtD5GpbJV9",
        "outputId": "8dbfee80-e35a-4c88-f284-a254dbcd8f55"
      },
      "execution_count": 45,
      "outputs": [
        {
          "output_type": "stream",
          "name": "stdout",
          "text": [
            "Epoch 1/100\n",
            "18/18 [==============================] - 5s 106ms/step - loss: 780.3455 - mae: 780.3455 - mse: 2312725.7500 - val_loss: 2279.6528 - val_mae: 2279.6528 - val_mse: 12772731.0000\n",
            "Epoch 2/100\n",
            "18/18 [==============================] - 1s 50ms/step - loss: 247.6756 - mae: 247.6756 - mse: 285481.1875 - val_loss: 1005.9993 - val_mae: 1005.9993 - val_mse: 3441833.2500\n",
            "Epoch 3/100\n",
            "18/18 [==============================] - 1s 61ms/step - loss: 188.4116 - mae: 188.4116 - mse: 171891.6094 - val_loss: 923.2862 - val_mae: 923.2861 - val_mse: 2868220.7500\n",
            "Epoch 4/100\n",
            "18/18 [==============================] - 1s 65ms/step - loss: 169.4340 - mae: 169.4340 - mse: 151700.5781 - val_loss: 900.5872 - val_mae: 900.5872 - val_mse: 2683715.5000\n",
            "Epoch 5/100\n",
            "18/18 [==============================] - 1s 48ms/step - loss: 165.0894 - mae: 165.0894 - mse: 145490.7812 - val_loss: 895.2237 - val_mae: 895.2237 - val_mse: 2564574.5000\n",
            "Epoch 6/100\n",
            "18/18 [==============================] - 1s 75ms/step - loss: 158.5210 - mae: 158.5210 - mse: 133817.7344 - val_loss: 855.1984 - val_mae: 855.1984 - val_mse: 2481873.2500\n",
            "Epoch 7/100\n",
            "18/18 [==============================] - 1s 58ms/step - loss: 151.3566 - mae: 151.3566 - mse: 123446.9766 - val_loss: 840.9166 - val_mae: 840.9166 - val_mse: 2276451.5000\n",
            "Epoch 8/100\n",
            "18/18 [==============================] - 1s 51ms/step - loss: 145.2560 - mae: 145.2560 - mse: 117694.5000 - val_loss: 803.5956 - val_mae: 803.5956 - val_mse: 2140573.5000\n",
            "Epoch 9/100\n",
            "18/18 [==============================] - 1s 50ms/step - loss: 144.3546 - mae: 144.3546 - mse: 115269.3047 - val_loss: 799.5454 - val_mae: 799.5454 - val_mse: 2049207.7500\n",
            "Epoch 10/100\n",
            "18/18 [==============================] - 1s 64ms/step - loss: 141.2943 - mae: 141.2943 - mse: 112394.5938 - val_loss: 763.5010 - val_mae: 763.5010 - val_mse: 1933140.7500\n",
            "Epoch 11/100\n",
            "18/18 [==============================] - 0s 9ms/step - loss: 135.6595 - mae: 135.6595 - mse: 104118.2344 - val_loss: 771.3356 - val_mae: 771.3356 - val_mse: 1885849.7500\n",
            "Epoch 12/100\n",
            "18/18 [==============================] - 0s 7ms/step - loss: 134.1700 - mae: 134.1700 - mse: 101780.8672 - val_loss: 782.8079 - val_mae: 782.8079 - val_mse: 1881727.1250\n",
            "Epoch 13/100\n",
            "18/18 [==============================] - 0s 10ms/step - loss: 134.6015 - mae: 134.6015 - mse: 102345.2266 - val_loss: 784.4449 - val_mae: 784.4449 - val_mse: 1860996.1250\n",
            "Epoch 14/100\n",
            "18/18 [==============================] - 1s 50ms/step - loss: 130.6127 - mae: 130.6127 - mse: 96225.1328 - val_loss: 751.3234 - val_mae: 751.3233 - val_mse: 1749609.0000\n",
            "Epoch 15/100\n",
            "18/18 [==============================] - 1s 51ms/step - loss: 128.8347 - mae: 128.8347 - mse: 94306.9922 - val_loss: 696.5756 - val_mae: 696.5756 - val_mse: 1606352.3750\n",
            "Epoch 16/100\n",
            "18/18 [==============================] - 0s 4ms/step - loss: 124.7739 - mae: 124.7739 - mse: 90394.9375 - val_loss: 702.4698 - val_mae: 702.4698 - val_mse: 1592416.2500\n",
            "Epoch 17/100\n",
            "18/18 [==============================] - 0s 4ms/step - loss: 123.4474 - mae: 123.4474 - mse: 89247.7031 - val_loss: 704.9239 - val_mae: 704.9239 - val_mse: 1580782.7500\n",
            "Epoch 18/100\n",
            "18/18 [==============================] - 0s 26ms/step - loss: 122.2105 - mae: 122.2105 - mse: 87607.5938 - val_loss: 667.9724 - val_mae: 667.9724 - val_mse: 1498881.8750\n",
            "Epoch 19/100\n",
            "18/18 [==============================] - 0s 4ms/step - loss: 121.7263 - mae: 121.7263 - mse: 86632.2422 - val_loss: 718.8796 - val_mae: 718.8796 - val_mse: 1589299.3750\n",
            "Epoch 20/100\n",
            "18/18 [==============================] - 1s 37ms/step - loss: 119.2420 - mae: 119.2420 - mse: 84334.3203 - val_loss: 657.0666 - val_mae: 657.0666 - val_mse: 1447501.1250\n",
            "Epoch 21/100\n",
            "18/18 [==============================] - 0s 26ms/step - loss: 121.2275 - mae: 121.2275 - mse: 85743.3828 - val_loss: 637.0333 - val_mae: 637.0333 - val_mse: 1401774.2500\n",
            "Epoch 22/100\n",
            "18/18 [==============================] - 0s 4ms/step - loss: 119.9544 - mae: 119.9544 - mse: 84050.1094 - val_loss: 671.2488 - val_mae: 671.2488 - val_mse: 1447895.7500\n",
            "Epoch 23/100\n",
            "18/18 [==============================] - 0s 28ms/step - loss: 121.9248 - mae: 121.9248 - mse: 83746.1250 - val_loss: 633.3592 - val_mae: 633.3592 - val_mse: 1367377.8750\n",
            "Epoch 24/100\n",
            "18/18 [==============================] - 0s 27ms/step - loss: 116.3665 - mae: 116.3665 - mse: 81446.6562 - val_loss: 624.4852 - val_mae: 624.4852 - val_mse: 1348960.6250\n",
            "Epoch 25/100\n",
            "18/18 [==============================] - 0s 26ms/step - loss: 114.6816 - mae: 114.6816 - mse: 78912.8359 - val_loss: 619.7570 - val_mae: 619.7570 - val_mse: 1351089.7500\n",
            "Epoch 26/100\n",
            "18/18 [==============================] - 0s 26ms/step - loss: 116.4455 - mae: 116.4455 - mse: 79365.5938 - val_loss: 615.6364 - val_mae: 615.6364 - val_mse: 1321514.3750\n",
            "Epoch 27/100\n",
            "18/18 [==============================] - 0s 4ms/step - loss: 116.5868 - mae: 116.5868 - mse: 78672.9062 - val_loss: 615.9629 - val_mae: 615.9629 - val_mse: 1313077.5000\n",
            "Epoch 28/100\n",
            "18/18 [==============================] - 0s 27ms/step - loss: 113.4691 - mae: 113.4691 - mse: 77440.0938 - val_loss: 608.0921 - val_mae: 608.0921 - val_mse: 1309775.3750\n",
            "Epoch 29/100\n",
            "18/18 [==============================] - 0s 5ms/step - loss: 113.7598 - mae: 113.7598 - mse: 78506.9531 - val_loss: 621.9305 - val_mae: 621.9305 - val_mse: 1313324.6250\n",
            "Epoch 30/100\n",
            "18/18 [==============================] - 0s 26ms/step - loss: 116.8613 - mae: 116.8613 - mse: 79236.4609 - val_loss: 604.4056 - val_mae: 604.4056 - val_mse: 1283408.0000\n",
            "Epoch 31/100\n",
            "18/18 [==============================] - 0s 4ms/step - loss: 111.9375 - mae: 111.9375 - mse: 74849.0703 - val_loss: 609.3882 - val_mae: 609.3882 - val_mse: 1284506.2500\n",
            "Epoch 32/100\n",
            "18/18 [==============================] - 0s 27ms/step - loss: 112.4175 - mae: 112.4175 - mse: 77178.5859 - val_loss: 603.0588 - val_mae: 603.0588 - val_mse: 1273059.5000\n",
            "Epoch 33/100\n",
            "18/18 [==============================] - 0s 4ms/step - loss: 112.6697 - mae: 112.6697 - mse: 75787.9766 - val_loss: 645.6973 - val_mae: 645.6973 - val_mse: 1353255.7500\n",
            "Epoch 34/100\n",
            "18/18 [==============================] - 0s 4ms/step - loss: 111.9867 - mae: 111.9867 - mse: 77245.7266 - val_loss: 604.7634 - val_mae: 604.7634 - val_mse: 1289360.3750\n",
            "Epoch 35/100\n",
            "18/18 [==============================] - 0s 26ms/step - loss: 110.9451 - mae: 110.9451 - mse: 75301.7812 - val_loss: 593.4648 - val_mae: 593.4648 - val_mse: 1250491.3750\n",
            "Epoch 36/100\n",
            "18/18 [==============================] - 0s 4ms/step - loss: 114.4816 - mae: 114.4816 - mse: 76138.5391 - val_loss: 608.0074 - val_mae: 608.0074 - val_mse: 1269272.3750\n",
            "Epoch 37/100\n",
            "18/18 [==============================] - 0s 4ms/step - loss: 110.2016 - mae: 110.2016 - mse: 74635.3047 - val_loss: 597.2308 - val_mae: 597.2308 - val_mse: 1248474.0000\n",
            "Epoch 38/100\n",
            "18/18 [==============================] - 0s 4ms/step - loss: 112.2372 - mae: 112.2372 - mse: 75821.6953 - val_loss: 637.9798 - val_mae: 637.9798 - val_mse: 1366130.8750\n",
            "Epoch 39/100\n",
            "18/18 [==============================] - 0s 27ms/step - loss: 115.1289 - mae: 115.1289 - mse: 76339.6797 - val_loss: 587.4680 - val_mae: 587.4680 - val_mse: 1233512.3750\n",
            "Epoch 40/100\n",
            "18/18 [==============================] - 0s 5ms/step - loss: 110.0854 - mae: 110.0854 - mse: 73528.4766 - val_loss: 592.7117 - val_mae: 592.7117 - val_mse: 1251474.6250\n",
            "Epoch 41/100\n",
            "18/18 [==============================] - 0s 4ms/step - loss: 110.6344 - mae: 110.6344 - mse: 73528.7891 - val_loss: 593.8997 - val_mae: 593.8997 - val_mse: 1253678.5000\n",
            "Epoch 42/100\n",
            "18/18 [==============================] - 0s 5ms/step - loss: 113.5762 - mae: 113.5762 - mse: 77076.7031 - val_loss: 636.3674 - val_mae: 636.3674 - val_mse: 1317283.5000\n",
            "Epoch 43/100\n",
            "18/18 [==============================] - 0s 4ms/step - loss: 116.2285 - mae: 116.2285 - mse: 74712.2031 - val_loss: 662.9263 - val_mae: 662.9263 - val_mse: 1419201.7500\n",
            "Epoch 44/100\n",
            "18/18 [==============================] - 0s 5ms/step - loss: 120.0192 - mae: 120.0192 - mse: 80971.8750 - val_loss: 635.6360 - val_mae: 635.6360 - val_mse: 1345999.3750\n",
            "Epoch 45/100\n",
            "18/18 [==============================] - 0s 4ms/step - loss: 110.9675 - mae: 110.9675 - mse: 74941.2891 - val_loss: 601.9926 - val_mae: 601.9926 - val_mse: 1244816.7500\n",
            "Epoch 46/100\n",
            "18/18 [==============================] - 0s 4ms/step - loss: 111.6012 - mae: 111.6012 - mse: 74565.6016 - val_loss: 593.3531 - val_mae: 593.3531 - val_mse: 1248764.3750\n",
            "Epoch 47/100\n",
            "18/18 [==============================] - 0s 4ms/step - loss: 109.6161 - mae: 109.6161 - mse: 74190.7109 - val_loss: 637.0011 - val_mae: 637.0011 - val_mse: 1314970.2500\n",
            "Epoch 48/100\n",
            "18/18 [==============================] - 0s 4ms/step - loss: 109.1368 - mae: 109.1368 - mse: 72792.5547 - val_loss: 598.4197 - val_mae: 598.4197 - val_mse: 1234610.1250\n",
            "Epoch 49/100\n",
            "18/18 [==============================] - 0s 27ms/step - loss: 112.4355 - mae: 112.4355 - mse: 73980.3359 - val_loss: 579.7042 - val_mae: 579.7042 - val_mse: 1208301.8750\n",
            "Epoch 50/100\n",
            "18/18 [==============================] - 0s 4ms/step - loss: 110.2108 - mae: 110.2108 - mse: 72939.7109 - val_loss: 639.2327 - val_mae: 639.2327 - val_mse: 1347994.1250\n",
            "Epoch 51/100\n",
            "18/18 [==============================] - 0s 5ms/step - loss: 111.0958 - mae: 111.0958 - mse: 73281.9062 - val_loss: 597.3571 - val_mae: 597.3571 - val_mse: 1229791.1250\n",
            "Epoch 52/100\n",
            "18/18 [==============================] - 0s 4ms/step - loss: 110.7351 - mae: 110.7351 - mse: 74529.6328 - val_loss: 580.7227 - val_mae: 580.7227 - val_mse: 1215477.1250\n",
            "Epoch 53/100\n",
            "18/18 [==============================] - 0s 4ms/step - loss: 111.1785 - mae: 111.1785 - mse: 74149.4766 - val_loss: 648.3586 - val_mae: 648.3586 - val_mse: 1336951.1250\n",
            "Epoch 54/100\n",
            "18/18 [==============================] - 0s 4ms/step - loss: 114.0831 - mae: 114.0831 - mse: 74815.0781 - val_loss: 593.2006 - val_mae: 593.2006 - val_mse: 1220661.2500\n",
            "Epoch 55/100\n",
            "18/18 [==============================] - 0s 28ms/step - loss: 110.4910 - mae: 110.4910 - mse: 74711.2500 - val_loss: 579.5067 - val_mae: 579.5067 - val_mse: 1211580.3750\n",
            "Epoch 56/100\n",
            "18/18 [==============================] - 0s 4ms/step - loss: 108.0488 - mae: 108.0488 - mse: 71844.1562 - val_loss: 807.3853 - val_mae: 807.3853 - val_mse: 1859292.5000\n",
            "Epoch 57/100\n",
            "18/18 [==============================] - 0s 4ms/step - loss: 125.0614 - mae: 125.0614 - mse: 84025.2812 - val_loss: 674.1658 - val_mae: 674.1658 - val_mse: 1437686.8750\n",
            "Epoch 58/100\n",
            "18/18 [==============================] - 0s 4ms/step - loss: 115.4340 - mae: 115.4340 - mse: 73710.7422 - val_loss: 582.2697 - val_mae: 582.2697 - val_mse: 1202679.3750\n",
            "Epoch 59/100\n",
            "18/18 [==============================] - 0s 4ms/step - loss: 110.0881 - mae: 110.0881 - mse: 72845.1172 - val_loss: 606.7640 - val_mae: 606.7640 - val_mse: 1267544.0000\n",
            "Epoch 60/100\n",
            "18/18 [==============================] - 0s 4ms/step - loss: 108.7156 - mae: 108.7156 - mse: 72675.7734 - val_loss: 602.3099 - val_mae: 602.3099 - val_mse: 1234690.0000\n",
            "Epoch 61/100\n",
            "18/18 [==============================] - 0s 25ms/step - loss: 108.1525 - mae: 108.1525 - mse: 72252.1250 - val_loss: 573.9990 - val_mae: 573.9990 - val_mse: 1189583.5000\n",
            "Epoch 62/100\n",
            "18/18 [==============================] - 0s 5ms/step - loss: 107.3726 - mae: 107.3726 - mse: 70822.7891 - val_loss: 581.7015 - val_mae: 581.7015 - val_mse: 1214006.6250\n",
            "Epoch 63/100\n",
            "18/18 [==============================] - 0s 4ms/step - loss: 110.7667 - mae: 110.7667 - mse: 73178.4453 - val_loss: 637.5243 - val_mae: 637.5243 - val_mse: 1311201.6250\n",
            "Epoch 64/100\n",
            "18/18 [==============================] - 0s 4ms/step - loss: 110.1539 - mae: 110.1539 - mse: 72588.2188 - val_loss: 586.6598 - val_mae: 586.6598 - val_mse: 1207116.3750\n",
            "Epoch 65/100\n",
            "18/18 [==============================] - 0s 27ms/step - loss: 108.2325 - mae: 108.2325 - mse: 71962.0859 - val_loss: 573.5618 - val_mae: 573.5618 - val_mse: 1188986.2500\n",
            "Epoch 66/100\n",
            "18/18 [==============================] - 1s 39ms/step - loss: 108.6825 - mae: 108.6825 - mse: 71026.3516 - val_loss: 572.2206 - val_mae: 572.2206 - val_mse: 1187818.3750\n",
            "Epoch 67/100\n",
            "18/18 [==============================] - 0s 5ms/step - loss: 106.6371 - mae: 106.6371 - mse: 70166.2578 - val_loss: 646.6359 - val_mae: 646.6359 - val_mse: 1356393.0000\n",
            "Epoch 68/100\n",
            "18/18 [==============================] - 0s 4ms/step - loss: 114.1603 - mae: 114.1603 - mse: 71297.3203 - val_loss: 681.8572 - val_mae: 681.8572 - val_mse: 1455430.5000\n",
            "Epoch 69/100\n",
            "18/18 [==============================] - 0s 4ms/step - loss: 124.5514 - mae: 124.5514 - mse: 81238.9609 - val_loss: 655.9892 - val_mae: 655.9892 - val_mse: 1383324.6250\n",
            "Epoch 70/100\n",
            "18/18 [==============================] - 0s 5ms/step - loss: 125.0234 - mae: 125.0234 - mse: 83058.2109 - val_loss: 601.0039 - val_mae: 601.0039 - val_mse: 1256963.6250\n",
            "Epoch 71/100\n",
            "18/18 [==============================] - 0s 5ms/step - loss: 110.3652 - mae: 110.3652 - mse: 71691.4922 - val_loss: 595.3957 - val_mae: 595.3957 - val_mse: 1222771.6250\n",
            "Epoch 72/100\n",
            "18/18 [==============================] - 0s 4ms/step - loss: 107.9285 - mae: 107.9285 - mse: 71745.5312 - val_loss: 573.7084 - val_mae: 573.7084 - val_mse: 1192818.5000\n",
            "Epoch 73/100\n",
            "18/18 [==============================] - 0s 4ms/step - loss: 109.5085 - mae: 109.5085 - mse: 71691.1484 - val_loss: 580.4183 - val_mae: 580.4183 - val_mse: 1211317.6250\n",
            "Epoch 74/100\n",
            "18/18 [==============================] - 0s 4ms/step - loss: 108.7380 - mae: 108.7380 - mse: 72051.1094 - val_loss: 576.1216 - val_mae: 576.1216 - val_mse: 1199670.7500\n",
            "Epoch 75/100\n",
            "18/18 [==============================] - 0s 4ms/step - loss: 107.9404 - mae: 107.9404 - mse: 71043.1328 - val_loss: 591.1470 - val_mae: 591.1470 - val_mse: 1211107.6250\n",
            "Epoch 76/100\n",
            "18/18 [==============================] - 0s 4ms/step - loss: 109.4232 - mae: 109.4232 - mse: 72295.0312 - val_loss: 597.8611 - val_mae: 597.8611 - val_mse: 1243936.2500\n",
            "Epoch 77/100\n",
            "18/18 [==============================] - 0s 26ms/step - loss: 107.5879 - mae: 107.5879 - mse: 70333.8359 - val_loss: 571.9301 - val_mae: 571.9301 - val_mse: 1186830.0000\n",
            "Epoch 78/100\n",
            "18/18 [==============================] - 0s 4ms/step - loss: 108.1598 - mae: 108.1598 - mse: 70200.0781 - val_loss: 575.2387 - val_mae: 575.2387 - val_mse: 1195318.0000\n",
            "Epoch 79/100\n",
            "18/18 [==============================] - 0s 5ms/step - loss: 107.9175 - mae: 107.9175 - mse: 72451.5859 - val_loss: 617.3083 - val_mae: 617.3083 - val_mse: 1285512.3750\n",
            "Epoch 80/100\n",
            "18/18 [==============================] - 0s 4ms/step - loss: 108.9510 - mae: 108.9510 - mse: 72158.7812 - val_loss: 583.4841 - val_mae: 583.4841 - val_mse: 1194356.7500\n",
            "Epoch 81/100\n",
            "18/18 [==============================] - 0s 26ms/step - loss: 106.0505 - mae: 106.0505 - mse: 69690.9219 - val_loss: 570.0803 - val_mae: 570.0803 - val_mse: 1177237.8750\n",
            "Epoch 82/100\n",
            "18/18 [==============================] - 0s 4ms/step - loss: 115.6827 - mae: 115.6827 - mse: 76903.4922 - val_loss: 575.7388 - val_mae: 575.7388 - val_mse: 1194662.6250\n",
            "Epoch 83/100\n",
            "18/18 [==============================] - 0s 4ms/step - loss: 110.9379 - mae: 110.9379 - mse: 72968.3047 - val_loss: 659.6579 - val_mae: 659.6579 - val_mse: 1388829.8750\n",
            "Epoch 84/100\n",
            "18/18 [==============================] - 0s 5ms/step - loss: 111.4836 - mae: 111.4836 - mse: 73017.9453 - val_loss: 570.1957 - val_mae: 570.1957 - val_mse: 1177492.2500\n",
            "Epoch 85/100\n",
            "18/18 [==============================] - 0s 4ms/step - loss: 107.5949 - mae: 107.5949 - mse: 70728.2266 - val_loss: 601.5939 - val_mae: 601.5939 - val_mse: 1228450.7500\n",
            "Epoch 86/100\n",
            "18/18 [==============================] - 0s 4ms/step - loss: 108.9425 - mae: 108.9425 - mse: 70066.7422 - val_loss: 592.8101 - val_mae: 592.8101 - val_mse: 1209680.7500\n",
            "Epoch 87/100\n",
            "18/18 [==============================] - 0s 4ms/step - loss: 105.7717 - mae: 105.7717 - mse: 68382.3516 - val_loss: 603.6174 - val_mae: 603.6174 - val_mse: 1252409.5000\n",
            "Epoch 88/100\n",
            "18/18 [==============================] - 0s 28ms/step - loss: 107.9217 - mae: 107.9217 - mse: 71668.0469 - val_loss: 569.0500 - val_mae: 569.0500 - val_mse: 1174588.3750\n",
            "Epoch 89/100\n",
            "18/18 [==============================] - 0s 26ms/step - loss: 106.0344 - mae: 106.0344 - mse: 68979.1484 - val_loss: 568.9510 - val_mae: 568.9510 - val_mse: 1171743.5000\n",
            "Epoch 90/100\n",
            "18/18 [==============================] - 0s 5ms/step - loss: 105.4977 - mae: 105.4977 - mse: 67516.5000 - val_loss: 581.7677 - val_mae: 581.7677 - val_mse: 1190160.5000\n",
            "Epoch 91/100\n",
            "18/18 [==============================] - 0s 5ms/step - loss: 108.8468 - mae: 108.8468 - mse: 71112.3281 - val_loss: 573.6025 - val_mae: 573.6025 - val_mse: 1185216.0000\n",
            "Epoch 92/100\n",
            "18/18 [==============================] - 0s 4ms/step - loss: 110.8884 - mae: 110.8884 - mse: 73287.8125 - val_loss: 576.8243 - val_mae: 576.8243 - val_mse: 1181628.3750\n",
            "Epoch 93/100\n",
            "18/18 [==============================] - 0s 5ms/step - loss: 113.8781 - mae: 113.8781 - mse: 75236.4375 - val_loss: 608.3022 - val_mae: 608.3022 - val_mse: 1264206.1250\n",
            "Epoch 94/100\n",
            "18/18 [==============================] - 0s 4ms/step - loss: 110.5763 - mae: 110.5763 - mse: 72590.8672 - val_loss: 601.6042 - val_mae: 601.6042 - val_mse: 1229105.1250\n",
            "Epoch 95/100\n",
            "18/18 [==============================] - 0s 4ms/step - loss: 106.5906 - mae: 106.5906 - mse: 68612.3281 - val_loss: 570.3651 - val_mae: 570.3651 - val_mse: 1175759.6250\n",
            "Epoch 96/100\n",
            "18/18 [==============================] - 0s 4ms/step - loss: 116.9515 - mae: 116.9515 - mse: 75082.1172 - val_loss: 615.2584 - val_mae: 615.2584 - val_mse: 1277124.3750\n",
            "Epoch 97/100\n",
            "18/18 [==============================] - 0s 5ms/step - loss: 108.0739 - mae: 108.0739 - mse: 71321.4219 - val_loss: 580.3076 - val_mae: 580.3076 - val_mse: 1202622.3750\n",
            "Epoch 98/100\n",
            "18/18 [==============================] - 0s 4ms/step - loss: 108.7102 - mae: 108.7102 - mse: 70248.0625 - val_loss: 586.6510 - val_mae: 586.6510 - val_mse: 1200831.2500\n",
            "Epoch 99/100\n",
            "18/18 [==============================] - 0s 5ms/step - loss: 109.0488 - mae: 109.0488 - mse: 70913.1562 - val_loss: 570.0628 - val_mae: 570.0628 - val_mse: 1177064.5000\n",
            "Epoch 100/100\n",
            "18/18 [==============================] - 0s 4ms/step - loss: 106.1845 - mae: 106.1845 - mse: 68681.7344 - val_loss: 585.9758 - val_mae: 585.9758 - val_mse: 1197802.1250\n"
          ]
        },
        {
          "output_type": "execute_result",
          "data": {
            "text/plain": [
              "<keras.callbacks.History at 0x7f0a400e29a0>"
            ]
          },
          "metadata": {},
          "execution_count": 45
        }
      ]
    },
    {
      "cell_type": "code",
      "source": [
        "# Evaluate model on test data\n",
        "model_1.evaluate(test_windows,test_labels)"
      ],
      "metadata": {
        "id": "2b00KNwKfRe4",
        "colab": {
          "base_uri": "https://localhost:8080/"
        },
        "outputId": "139a6216-6ae1-4cac-8969-6e1fd35fb07b"
      },
      "execution_count": 46,
      "outputs": [
        {
          "output_type": "stream",
          "name": "stdout",
          "text": [
            "18/18 [==============================] - 0s 3ms/step - loss: 585.9758 - mae: 585.9758 - mse: 1197802.1250\n"
          ]
        },
        {
          "output_type": "execute_result",
          "data": {
            "text/plain": [
              "[585.9757690429688, 585.9757690429688, 1197802.125]"
            ]
          },
          "metadata": {},
          "execution_count": 46
        }
      ]
    },
    {
      "cell_type": "code",
      "source": [
        "# Load in the best performing model\n",
        "model_1 = tf.keras.models.load_model(\"model_experiments/model_1_dense/\")\n",
        "model_1.evaluate(test_windows,test_labels)"
      ],
      "metadata": {
        "id": "X2TdhAisgOTJ",
        "colab": {
          "base_uri": "https://localhost:8080/"
        },
        "outputId": "34fe829f-d236-41a5-f4aa-9ba1070e4921"
      },
      "execution_count": 47,
      "outputs": [
        {
          "output_type": "stream",
          "name": "stdout",
          "text": [
            "18/18 [==============================] - 0s 2ms/step - loss: 568.9510 - mae: 568.9510 - mse: 1171743.6250\n"
          ]
        },
        {
          "output_type": "execute_result",
          "data": {
            "text/plain": [
              "[568.9510498046875, 568.9510498046875, 1171743.625]"
            ]
          },
          "metadata": {},
          "execution_count": 47
        }
      ]
    },
    {
      "cell_type": "markdown",
      "source": [
        "## Making forcast with a model (on the test set)\n",
        "\n",
        "It takes in a model  and does the following \n",
        "1. Takes some input data\n",
        "2. Passes the data to the models predict method\n",
        "3. Returns the predicted output"
      ],
      "metadata": {
        "id": "AkVBZz9ahC5f"
      }
    },
    {
      "cell_type": "code",
      "source": [
        "def make_preds(model,input_data):\n",
        "  \"\"\"\n",
        "  Uses model to make predictions on input data\n",
        "  \"\"\"\n",
        "  forcast = model.predict(input_data)\n",
        "  return(tf.squeeze(forcast))"
      ],
      "metadata": {
        "id": "6AtKoNnIiIGI"
      },
      "execution_count": 48,
      "outputs": []
    },
    {
      "cell_type": "code",
      "source": [
        "model_1_preds=make_preds(model_1,test_windows)\n",
        "len(model_1_preds),model_1_preds[:10]"
      ],
      "metadata": {
        "id": "6J9Q29o3clue",
        "colab": {
          "base_uri": "https://localhost:8080/"
        },
        "outputId": "2b8f1230-a371-4c77-b8df-9cbae239418e"
      },
      "execution_count": 49,
      "outputs": [
        {
          "output_type": "stream",
          "name": "stdout",
          "text": [
            "18/18 [==============================] - 0s 1ms/step\n"
          ]
        },
        {
          "output_type": "execute_result",
          "data": {
            "text/plain": [
              "(556, <tf.Tensor: shape=(10,), dtype=float32, numpy=\n",
              " array([8861.71 , 8769.887, 9015.711, 8795.519, 8723.811, 8730.111,\n",
              "        8691.952, 8502.054, 8460.961, 8516.548], dtype=float32)>)"
            ]
          },
          "metadata": {},
          "execution_count": 49
        }
      ]
    },
    {
      "cell_type": "code",
      "source": [
        "# Evaluate preds\n",
        "model_1_results = evaluate_preds(y_true = tf.squeeze(test_labels),\n",
        "                                 y_pred = model_1_preds)\n",
        "model_1_results"
      ],
      "metadata": {
        "id": "sK5tImCzdQoK",
        "colab": {
          "base_uri": "https://localhost:8080/"
        },
        "outputId": "28ed0b98-4323-4ceb-bf12-35f785e28385"
      },
      "execution_count": 50,
      "outputs": [
        {
          "output_type": "execute_result",
          "data": {
            "text/plain": [
              "{'mae': 568.9511,\n",
              " 'mse': 1171743.8,\n",
              " 'rmse': 1082.4711,\n",
              " 'mape': 2.5448983,\n",
              " 'mase': 0.99948955}"
            ]
          },
          "metadata": {},
          "execution_count": 50
        }
      ]
    },
    {
      "cell_type": "code",
      "source": [
        "naive_results"
      ],
      "metadata": {
        "id": "ZIDh5wVedyVE",
        "colab": {
          "base_uri": "https://localhost:8080/"
        },
        "outputId": "a2c0b7a4-8f8c-4554-c238-73723eac5813"
      },
      "execution_count": 51,
      "outputs": [
        {
          "output_type": "execute_result",
          "data": {
            "text/plain": [
              "{'mae': 567.9802,\n",
              " 'mse': 1147547.0,\n",
              " 'rmse': 1071.2362,\n",
              " 'mape': 2.516525,\n",
              " 'mase': 0.99957}"
            ]
          },
          "metadata": {},
          "execution_count": 51
        }
      ]
    },
    {
      "cell_type": "code",
      "source": [
        "# Lets Plot our model 1 predictions\n",
        "offset = 300\n",
        "\n",
        "plt.figure(figsize=(10,7))\n",
        "\n",
        "# Account for the test_window offset and index into test_labels to ensure correct plotting \n",
        "plot_time_series(timesteps = x_test[-len(test_windows):],values = test_labels[:,0],start=offset , label=\"Test Data\")\n",
        "\n",
        "plot_time_series(timesteps = x_test[-len(test_windows):],values =model_1_preds,start=offset,format = \"-\",label = \"Model_1_preds\")"
      ],
      "metadata": {
        "colab": {
          "base_uri": "https://localhost:8080/",
          "height": 0
        },
        "id": "gO1oHD1dd7SB",
        "outputId": "3646fbb8-03dc-442f-f19c-a8e21a22fb65"
      },
      "execution_count": 52,
      "outputs": [
        {
          "output_type": "display_data",
          "data": {
            "text/plain": [
              "<Figure size 720x504 with 1 Axes>"
            ],
            "image/png": "[encoded data removed]"
          },
          "metadata": {
            "needs_background": "light"
          }
        }
      ]
    },
    {
      "cell_type": "code",
      "source": [
        "input_data = prices[:-30]\n",
        "targets = prices[30:]\n",
        "Windows=tf.keras.preprocessing.timeseries_dataset_from_array(data=input_data,targets=targets,sequence_length=30,batch_size=None)"
      ],
      "metadata": {
        "id": "4_AmN_WPenBT"
      },
      "execution_count": 53,
      "outputs": []
    },
    {
      "cell_type": "code",
      "source": [
        "prices[:32]"
      ],
      "metadata": {
        "colab": {
          "base_uri": "https://localhost:8080/"
        },
        "id": "o4qE1onTkNNg",
        "outputId": "956547c0-9993-402d-efcc-ab039c6d8809"
      },
      "execution_count": 54,
      "outputs": [
        {
          "output_type": "execute_result",
          "data": {
            "text/plain": [
              "array([123.65499, 125.455  , 108.58483, 118.67466, 121.33866, 120.65533,\n",
              "       121.795  , 123.033  , 124.049  , 125.96116, 125.27966, 125.9275 ,\n",
              "       126.38333, 135.24199, 133.20333, 142.76333, 137.92333, 142.95166,\n",
              "       152.55183, 160.33883, 164.31499, 177.63333, 188.29716, 200.70166,\n",
              "       180.355  , 175.03166, 177.6965 , 187.15983, 192.75666, 197.4    ,\n",
              "       196.02499, 198.04883])"
            ]
          },
          "metadata": {},
          "execution_count": 54
        }
      ]
    },
    {
      "cell_type": "code",
      "source": [
        "windows = []\n",
        "labels = []\n",
        "for i,x in Windows:\n",
        "    windows.append(i)\n",
        "    labels.append(x)"
      ],
      "metadata": {
        "id": "QYYUDB2qggBL"
      },
      "execution_count": 55,
      "outputs": []
    },
    {
      "cell_type": "code",
      "source": [
        "windows[:10],labels[:10],len(windows),len(labels)"
      ],
      "metadata": {
        "colab": {
          "base_uri": "https://localhost:8080/"
        },
        "id": "PZUoJ7Tlgl8D",
        "outputId": "7ec4ab85-aa26-4ea6-d4f4-eb5bed898615"
      },
      "execution_count": 56,
      "outputs": [
        {
          "output_type": "execute_result",
          "data": {
            "text/plain": [
              "([<tf.Tensor: shape=(30,), dtype=float64, numpy=\n",
              "  array([123.65499, 125.455  , 108.58483, 118.67466, 121.33866, 120.65533,\n",
              "         121.795  , 123.033  , 124.049  , 125.96116, 125.27966, 125.9275 ,\n",
              "         126.38333, 135.24199, 133.20333, 142.76333, 137.92333, 142.95166,\n",
              "         152.55183, 160.33883, 164.31499, 177.63333, 188.29716, 200.70166,\n",
              "         180.355  , 175.03166, 177.6965 , 187.15983, 192.75666, 197.4    ])>,\n",
              "  <tf.Tensor: shape=(30,), dtype=float64, numpy=\n",
              "  array([125.455  , 108.58483, 118.67466, 121.33866, 120.65533, 121.795  ,\n",
              "         123.033  , 124.049  , 125.96116, 125.27966, 125.9275 , 126.38333,\n",
              "         135.24199, 133.20333, 142.76333, 137.92333, 142.95166, 152.55183,\n",
              "         160.33883, 164.31499, 177.63333, 188.29716, 200.70166, 180.355  ,\n",
              "         175.03166, 177.6965 , 187.15983, 192.75666, 197.4    , 196.02499])>,\n",
              "  <tf.Tensor: shape=(30,), dtype=float64, numpy=\n",
              "  array([108.58483, 118.67466, 121.33866, 120.65533, 121.795  , 123.033  ,\n",
              "         124.049  , 125.96116, 125.27966, 125.9275 , 126.38333, 135.24199,\n",
              "         133.20333, 142.76333, 137.92333, 142.95166, 152.55183, 160.33883,\n",
              "         164.31499, 177.63333, 188.29716, 200.70166, 180.355  , 175.03166,\n",
              "         177.6965 , 187.15983, 192.75666, 197.4    , 196.02499, 198.04883])>,\n",
              "  <tf.Tensor: shape=(30,), dtype=float64, numpy=\n",
              "  array([118.67466, 121.33866, 120.65533, 121.795  , 123.033  , 124.049  ,\n",
              "         125.96116, 125.27966, 125.9275 , 126.38333, 135.24199, 133.20333,\n",
              "         142.76333, 137.92333, 142.95166, 152.55183, 160.33883, 164.31499,\n",
              "         177.63333, 188.29716, 200.70166, 180.355  , 175.03166, 177.6965 ,\n",
              "         187.15983, 192.75666, 197.4    , 196.02499, 198.04883, 198.93233])>,\n",
              "  <tf.Tensor: shape=(30,), dtype=float64, numpy=\n",
              "  array([121.33866, 120.65533, 121.795  , 123.033  , 124.049  , 125.96116,\n",
              "         125.27966, 125.9275 , 126.38333, 135.24199, 133.20333, 142.76333,\n",
              "         137.92333, 142.95166, 152.55183, 160.33883, 164.31499, 177.63333,\n",
              "         188.29716, 200.70166, 180.355  , 175.03166, 177.6965 , 187.15983,\n",
              "         192.75666, 197.4    , 196.02499, 198.04883, 198.93233, 200.543  ])>,\n",
              "  <tf.Tensor: shape=(30,), dtype=float64, numpy=\n",
              "  array([120.65533, 121.795  , 123.033  , 124.049  , 125.96116, 125.27966,\n",
              "         125.9275 , 126.38333, 135.24199, 133.20333, 142.76333, 137.92333,\n",
              "         142.95166, 152.55183, 160.33883, 164.31499, 177.63333, 188.29716,\n",
              "         200.70166, 180.355  , 175.03166, 177.6965 , 187.15983, 192.75666,\n",
              "         197.4    , 196.02499, 198.04883, 198.93233, 200.543  , 210.3075 ])>,\n",
              "  <tf.Tensor: shape=(30,), dtype=float64, numpy=\n",
              "  array([121.795  , 123.033  , 124.049  , 125.96116, 125.27966, 125.9275 ,\n",
              "         126.38333, 135.24199, 133.20333, 142.76333, 137.92333, 142.95166,\n",
              "         152.55183, 160.33883, 164.31499, 177.63333, 188.29716, 200.70166,\n",
              "         180.355  , 175.03166, 177.6965 , 187.15983, 192.75666, 197.4    ,\n",
              "         196.02499, 198.04883, 198.93233, 200.543  , 210.3075 , 225.02   ])>,\n",
              "  <tf.Tensor: shape=(30,), dtype=float64, numpy=\n",
              "  array([123.033  , 124.049  , 125.96116, 125.27966, 125.9275 , 126.38333,\n",
              "         135.24199, 133.20333, 142.76333, 137.92333, 142.95166, 152.55183,\n",
              "         160.33883, 164.31499, 177.63333, 188.29716, 200.70166, 180.355  ,\n",
              "         175.03166, 177.6965 , 187.15983, 192.75666, 197.4    , 196.02499,\n",
              "         198.04883, 198.93233, 200.543  , 210.3075 , 225.02   , 248.25333])>,\n",
              "  <tf.Tensor: shape=(30,), dtype=float64, numpy=\n",
              "  array([124.049  , 125.96116, 125.27966, 125.9275 , 126.38333, 135.24199,\n",
              "         133.20333, 142.76333, 137.92333, 142.95166, 152.55183, 160.33883,\n",
              "         164.31499, 177.63333, 188.29716, 200.70166, 180.355  , 175.03166,\n",
              "         177.6965 , 187.15983, 192.75666, 197.4    , 196.02499, 198.04883,\n",
              "         198.93233, 200.543  , 210.3075 , 225.02   , 248.25333, 262.32666])>,\n",
              "  <tf.Tensor: shape=(30,), dtype=float64, numpy=\n",
              "  array([125.96116, 125.27966, 125.9275 , 126.38333, 135.24199, 133.20333,\n",
              "         142.76333, 137.92333, 142.95166, 152.55183, 160.33883, 164.31499,\n",
              "         177.63333, 188.29716, 200.70166, 180.355  , 175.03166, 177.6965 ,\n",
              "         187.15983, 192.75666, 197.4    , 196.02499, 198.04883, 198.93233,\n",
              "         200.543  , 210.3075 , 225.02   , 248.25333, 262.32666, 294.48699])>],\n",
              " [<tf.Tensor: shape=(), dtype=float64, numpy=196.02499>,\n",
              "  <tf.Tensor: shape=(), dtype=float64, numpy=198.04883>,\n",
              "  <tf.Tensor: shape=(), dtype=float64, numpy=198.93233>,\n",
              "  <tf.Tensor: shape=(), dtype=float64, numpy=200.543>,\n",
              "  <tf.Tensor: shape=(), dtype=float64, numpy=210.3075>,\n",
              "  <tf.Tensor: shape=(), dtype=float64, numpy=225.02>,\n",
              "  <tf.Tensor: shape=(), dtype=float64, numpy=248.25333>,\n",
              "  <tf.Tensor: shape=(), dtype=float64, numpy=262.32666>,\n",
              "  <tf.Tensor: shape=(), dtype=float64, numpy=294.48699>,\n",
              "  <tf.Tensor: shape=(), dtype=float64, numpy=331.10325>],\n",
              " 2728,\n",
              " 2728)"
            ]
          },
          "metadata": {},
          "execution_count": 56
        }
      ]
    },
    {
      "cell_type": "code",
      "source": [
        "len(windows),len(labels)"
      ],
      "metadata": {
        "colab": {
          "base_uri": "https://localhost:8080/"
        },
        "id": "_gDOcWDR5pCE",
        "outputId": "38adc906-3239-44d9-dfd0-57d06ba49bc3"
      },
      "execution_count": 57,
      "outputs": [
        {
          "output_type": "execute_result",
          "data": {
            "text/plain": [
              "(2728, 2728)"
            ]
          },
          "metadata": {},
          "execution_count": 57
        }
      ]
    },
    {
      "cell_type": "code",
      "source": [
        "2728*0.8"
      ],
      "metadata": {
        "colab": {
          "base_uri": "https://localhost:8080/"
        },
        "id": "BI4p4qSI5xMJ",
        "outputId": "1520c5f2-302d-4bc5-ab3e-2797e5d10d02"
      },
      "execution_count": 58,
      "outputs": [
        {
          "output_type": "execute_result",
          "data": {
            "text/plain": [
              "2182.4"
            ]
          },
          "metadata": {},
          "execution_count": 58
        }
      ]
    },
    {
      "cell_type": "code",
      "source": [
        "train_windows = np.array(windows[:2183])\n",
        "train_labels = np.array(labels[:2183])\n",
        "test_windows = np.array(windows[2183:])\n",
        "test_labels = np.array(labels[2183:])"
      ],
      "metadata": {
        "id": "fDalH9kEjWgj"
      },
      "execution_count": 59,
      "outputs": []
    },
    {
      "cell_type": "code",
      "source": [
        "train_windows[:3],test_windows[:3]"
      ],
      "metadata": {
        "colab": {
          "base_uri": "https://localhost:8080/"
        },
        "id": "a0RbD9sNVlAk",
        "outputId": "96b2a707-8c59-4a65-d3fd-77be11497769"
      },
      "execution_count": 60,
      "outputs": [
        {
          "output_type": "execute_result",
          "data": {
            "text/plain": [
              "(array([[123.65499, 125.455  , 108.58483, 118.67466, 121.33866, 120.65533,\n",
              "         121.795  , 123.033  , 124.049  , 125.96116, 125.27966, 125.9275 ,\n",
              "         126.38333, 135.24199, 133.20333, 142.76333, 137.92333, 142.95166,\n",
              "         152.55183, 160.33883, 164.31499, 177.63333, 188.29716, 200.70166,\n",
              "         180.355  , 175.03166, 177.6965 , 187.15983, 192.75666, 197.4    ],\n",
              "        [125.455  , 108.58483, 118.67466, 121.33866, 120.65533, 121.795  ,\n",
              "         123.033  , 124.049  , 125.96116, 125.27966, 125.9275 , 126.38333,\n",
              "         135.24199, 133.20333, 142.76333, 137.92333, 142.95166, 152.55183,\n",
              "         160.33883, 164.31499, 177.63333, 188.29716, 200.70166, 180.355  ,\n",
              "         175.03166, 177.6965 , 187.15983, 192.75666, 197.4    , 196.02499],\n",
              "        [108.58483, 118.67466, 121.33866, 120.65533, 121.795  , 123.033  ,\n",
              "         124.049  , 125.96116, 125.27966, 125.9275 , 126.38333, 135.24199,\n",
              "         133.20333, 142.76333, 137.92333, 142.95166, 152.55183, 160.33883,\n",
              "         164.31499, 177.63333, 188.29716, 200.70166, 180.355  , 175.03166,\n",
              "         177.6965 , 187.15983, 192.75666, 197.4    , 196.02499, 198.04883]]),\n",
              " array([[10031.86670899,  9719.71869611,  8688.97352596,  8438.70855249,\n",
              "          8103.21089959,  8195.210697  ,  8146.414032  ,  8085.71329042,\n",
              "          8241.34147   ,  8333.68919042,  8273.46401766,  8203.8438328 ,\n",
              "          8163.9026381 ,  8137.14668904,  7853.69330483,  8236.2083793 ,\n",
              "          8201.63781819,  8572.38081243,  8582.1445177 ,  8320.1715814 ,\n",
              "          8328.60426039,  8282.17732583,  8337.81899854,  8162.44      ,\n",
              "          8003.82039479,  8058.05808111,  7970.2394756 ,  7943.34710706,\n",
              "          8200.3187634 ,  8200.24609949],\n",
              "        [ 9719.71869611,  8688.97352596,  8438.70855249,  8103.21089959,\n",
              "          8195.210697  ,  8146.414032  ,  8085.71329042,  8241.34147   ,\n",
              "          8333.68919042,  8273.46401766,  8203.8438328 ,  8163.9026381 ,\n",
              "          8137.14668904,  7853.69330483,  8236.2083793 ,  8201.63781819,\n",
              "          8572.38081243,  8582.1445177 ,  8320.1715814 ,  8328.60426039,\n",
              "          8282.17732583,  8337.81899854,  8162.44      ,  8003.82039479,\n",
              "          8058.05808111,  7970.2394756 ,  7943.34710706,  8200.3187634 ,\n",
              "          8200.24609949,  8073.40954388],\n",
              "        [ 8688.97352596,  8438.70855249,  8103.21089959,  8195.210697  ,\n",
              "          8146.414032  ,  8085.71329042,  8241.34147   ,  8333.68919042,\n",
              "          8273.46401766,  8203.8438328 ,  8163.9026381 ,  8137.14668904,\n",
              "          7853.69330483,  8236.2083793 ,  8201.63781819,  8572.38081243,\n",
              "          8582.1445177 ,  8320.1715814 ,  8328.60426039,  8282.17732583,\n",
              "          8337.81899854,  8162.44      ,  8003.82039479,  8058.05808111,\n",
              "          7970.2394756 ,  7943.34710706,  8200.3187634 ,  8200.24609949,\n",
              "          8073.40954388,  7420.41583649]]))"
            ]
          },
          "metadata": {},
          "execution_count": 60
        }
      ]
    },
    {
      "cell_type": "code",
      "source": [
        "len(train_windows),len(train_labels),len(test_windows),len(test_labels)"
      ],
      "metadata": {
        "colab": {
          "base_uri": "https://localhost:8080/"
        },
        "id": "CCckv1ksrXfF",
        "outputId": "4bb16d06-f097-4631-ee80-09fb0ddedca4"
      },
      "execution_count": 61,
      "outputs": [
        {
          "output_type": "execute_result",
          "data": {
            "text/plain": [
              "(2183, 2183, 545, 545)"
            ]
          },
          "metadata": {},
          "execution_count": 61
        }
      ]
    },
    {
      "cell_type": "markdown",
      "source": [
        "## Creating Dense Model_2"
      ],
      "metadata": {
        "id": "o29JeO13sG2p"
      }
    },
    {
      "cell_type": "code",
      "source": [
        "import tensorflow as tf \n",
        "from tensorflow.keras import layers\n",
        "\n",
        "# Set random seed for as reproducible results as possible\n",
        "tf.random.set_seed(42)\n",
        "# 1. Construct Model\n",
        "model_2 = tf.keras.Sequential([\n",
        "    layers.Dense(128,activation=\"relu\"),\n",
        "    layers.Dense(HORIZON, activation=\"linear\") # Linear activation is just like having no activation at all\n",
        "],name=\"model_2_dense\")# name our model so we can save it\n",
        "# 2. Compile\n",
        "model_2.compile(loss=\"mae\",\n",
        "                optimizer = tf.keras.optimizers.Adam(),\n",
        "                metrics = [\"mae\",\"mse\"])\n",
        "# 3. Fit the model\n",
        "model_2.fit(x = train_windows,\n",
        "            y = train_labels,\n",
        "            epochs=100,\n",
        "            verbose=1,\n",
        "            batch_size=128,\n",
        "            validation_data=(test_windows,test_labels),\n",
        "            callbacks=[create_model_checkpoint(model_name=model_2.name)])"
      ],
      "metadata": {
        "colab": {
          "base_uri": "https://localhost:8080/"
        },
        "id": "MJJ_AhDZsa94",
        "outputId": "a75971ab-d918-494d-c349-288664afaeee"
      },
      "execution_count": 62,
      "outputs": [
        {
          "output_type": "stream",
          "name": "stdout",
          "text": [
            "Epoch 1/100\n",
            "18/18 [==============================] - 1s 33ms/step - loss: 1045.5662 - mae: 1045.5662 - mse: 4253932.5000 - val_loss: 3442.8511 - val_mae: 3442.8511 - val_mse: 27193866.0000\n",
            "Epoch 2/100\n",
            "18/18 [==============================] - 0s 26ms/step - loss: 425.5170 - mae: 425.5170 - mse: 786516.3750 - val_loss: 1321.6090 - val_mae: 1321.6090 - val_mse: 4168320.2500\n",
            "Epoch 3/100\n",
            "18/18 [==============================] - 0s 5ms/step - loss: 269.2410 - mae: 269.2410 - mse: 347976.1875 - val_loss: 1359.9800 - val_mae: 1359.9800 - val_mse: 5218970.0000\n",
            "Epoch 4/100\n",
            "18/18 [==============================] - 0s 28ms/step - loss: 216.6969 - mae: 216.6969 - mse: 216993.7500 - val_loss: 947.8182 - val_mae: 947.8182 - val_mse: 2766874.0000\n",
            "Epoch 5/100\n",
            "18/18 [==============================] - 0s 26ms/step - loss: 193.8449 - mae: 193.8449 - mse: 185441.9688 - val_loss: 883.8165 - val_mae: 883.8165 - val_mse: 2574323.7500\n",
            "Epoch 6/100\n",
            "18/18 [==============================] - 0s 5ms/step - loss: 178.6324 - mae: 178.6324 - mse: 158586.6719 - val_loss: 904.9166 - val_mae: 904.9166 - val_mse: 2573574.7500\n",
            "Epoch 7/100\n",
            "18/18 [==============================] - 0s 4ms/step - loss: 175.8196 - mae: 175.8196 - mse: 152216.5938 - val_loss: 1217.0392 - val_mae: 1217.0392 - val_mse: 3794766.5000\n",
            "Epoch 8/100\n",
            "18/18 [==============================] - 0s 4ms/step - loss: 207.5236 - mae: 207.5236 - mse: 181373.8125 - val_loss: 1019.9330 - val_mae: 1019.9330 - val_mse: 2894413.0000\n",
            "Epoch 9/100\n",
            "18/18 [==============================] - 1s 38ms/step - loss: 193.1246 - mae: 193.1246 - mse: 164853.5000 - val_loss: 789.7564 - val_mae: 789.7564 - val_mse: 1953718.5000\n",
            "Epoch 10/100\n",
            "18/18 [==============================] - 0s 26ms/step - loss: 160.9473 - mae: 160.9473 - mse: 133200.3906 - val_loss: 786.3770 - val_mae: 786.3770 - val_mse: 2009444.5000\n",
            "Epoch 11/100\n",
            "18/18 [==============================] - 0s 4ms/step - loss: 160.8982 - mae: 160.8982 - mse: 131604.5312 - val_loss: 1066.9835 - val_mae: 1066.9835 - val_mse: 3167009.2500\n",
            "Epoch 12/100\n",
            "18/18 [==============================] - 0s 26ms/step - loss: 200.7420 - mae: 200.7420 - mse: 182595.7031 - val_loss: 761.1635 - val_mae: 761.1635 - val_mse: 1923984.2500\n",
            "Epoch 13/100\n",
            "18/18 [==============================] - 0s 26ms/step - loss: 154.2623 - mae: 154.2623 - mse: 124711.4922 - val_loss: 744.7907 - val_mae: 744.7907 - val_mse: 1838034.1250\n",
            "Epoch 14/100\n",
            "18/18 [==============================] - 0s 4ms/step - loss: 153.9118 - mae: 153.9118 - mse: 120169.7266 - val_loss: 999.3315 - val_mae: 999.3315 - val_mse: 2762462.0000\n",
            "Epoch 15/100\n",
            "18/18 [==============================] - 0s 26ms/step - loss: 179.1619 - mae: 179.1619 - mse: 153719.6094 - val_loss: 709.5451 - val_mae: 709.5451 - val_mse: 1665640.8750\n",
            "Epoch 16/100\n",
            "18/18 [==============================] - 0s 4ms/step - loss: 168.8286 - mae: 168.8286 - mse: 132721.9375 - val_loss: 1196.7494 - val_mae: 1196.7494 - val_mse: 3504024.5000\n",
            "Epoch 17/100\n",
            "18/18 [==============================] - 0s 4ms/step - loss: 178.5079 - mae: 178.5079 - mse: 139635.5312 - val_loss: 828.0620 - val_mae: 828.0620 - val_mse: 2043055.8750\n",
            "Epoch 18/100\n",
            "18/18 [==============================] - 0s 27ms/step - loss: 177.9769 - mae: 177.9769 - mse: 136494.6562 - val_loss: 684.1688 - val_mae: 684.1688 - val_mse: 1565334.1250\n",
            "Epoch 19/100\n",
            "18/18 [==============================] - 0s 27ms/step - loss: 151.1278 - mae: 151.1278 - mse: 118283.2578 - val_loss: 678.4597 - val_mae: 678.4597 - val_mse: 1516727.2500\n",
            "Epoch 20/100\n",
            "18/18 [==============================] - 0s 4ms/step - loss: 147.8323 - mae: 147.8323 - mse: 111098.1328 - val_loss: 828.2451 - val_mae: 828.2451 - val_mse: 2155160.5000\n",
            "Epoch 21/100\n",
            "18/18 [==============================] - 0s 4ms/step - loss: 155.6432 - mae: 155.6432 - mse: 122934.0234 - val_loss: 731.9025 - val_mae: 731.9025 - val_mse: 1739085.0000\n",
            "Epoch 22/100\n",
            "18/18 [==============================] - 0s 26ms/step - loss: 147.7973 - mae: 147.7973 - mse: 107179.2969 - val_loss: 673.3916 - val_mae: 673.3916 - val_mse: 1515796.2500\n",
            "Epoch 23/100\n",
            "18/18 [==============================] - 0s 26ms/step - loss: 140.0408 - mae: 140.0408 - mse: 105396.4922 - val_loss: 665.6050 - val_mae: 665.6050 - val_mse: 1509700.7500\n",
            "Epoch 24/100\n",
            "18/18 [==============================] - 0s 4ms/step - loss: 145.9284 - mae: 145.9284 - mse: 110935.2969 - val_loss: 835.2704 - val_mae: 835.2704 - val_mse: 2033145.3750\n",
            "Epoch 25/100\n",
            "18/18 [==============================] - 0s 4ms/step - loss: 200.6274 - mae: 200.6274 - mse: 165670.9219 - val_loss: 667.6213 - val_mae: 667.6213 - val_mse: 1487766.7500\n",
            "Epoch 26/100\n",
            "18/18 [==============================] - 0s 27ms/step - loss: 141.0635 - mae: 141.0635 - mse: 102154.3672 - val_loss: 664.3467 - val_mae: 664.3467 - val_mse: 1506080.7500\n",
            "Epoch 27/100\n",
            "18/18 [==============================] - 0s 4ms/step - loss: 165.8685 - mae: 165.8685 - mse: 128734.4609 - val_loss: 1234.0092 - val_mae: 1234.0092 - val_mse: 3761855.2500\n",
            "Epoch 28/100\n",
            "18/18 [==============================] - 0s 4ms/step - loss: 187.2766 - mae: 187.2766 - mse: 159892.3750 - val_loss: 715.4376 - val_mae: 715.4376 - val_mse: 1630440.5000\n",
            "Epoch 29/100\n",
            "18/18 [==============================] - 0s 4ms/step - loss: 169.9422 - mae: 169.9422 - mse: 129909.6484 - val_loss: 1195.6255 - val_mae: 1195.6255 - val_mse: 3447261.2500\n",
            "Epoch 30/100\n",
            "18/18 [==============================] - 0s 4ms/step - loss: 165.5963 - mae: 165.5963 - mse: 124026.5938 - val_loss: 789.0929 - val_mae: 789.0929 - val_mse: 1851676.6250\n",
            "Epoch 31/100\n",
            "18/18 [==============================] - 0s 26ms/step - loss: 148.5341 - mae: 148.5341 - mse: 110303.9453 - val_loss: 651.6118 - val_mae: 651.6118 - val_mse: 1479898.6250\n",
            "Epoch 32/100\n",
            "18/18 [==============================] - 0s 4ms/step - loss: 136.6594 - mae: 136.6594 - mse: 101594.8906 - val_loss: 1258.4572 - val_mae: 1258.4572 - val_mse: 3678586.0000\n",
            "Epoch 33/100\n",
            "18/18 [==============================] - 0s 4ms/step - loss: 229.6977 - mae: 229.6977 - mse: 202527.2812 - val_loss: 1167.8589 - val_mae: 1167.8589 - val_mse: 3299377.2500\n",
            "Epoch 34/100\n",
            "18/18 [==============================] - 0s 5ms/step - loss: 144.2476 - mae: 144.2476 - mse: 103374.3438 - val_loss: 1171.4641 - val_mae: 1171.4641 - val_mse: 3292567.7500\n",
            "Epoch 35/100\n",
            "18/18 [==============================] - 0s 4ms/step - loss: 178.8970 - mae: 178.8970 - mse: 135778.0156 - val_loss: 1067.2982 - val_mae: 1067.2982 - val_mse: 2897709.0000\n",
            "Epoch 36/100\n",
            "18/18 [==============================] - 0s 26ms/step - loss: 160.1979 - mae: 160.1979 - mse: 121602.3047 - val_loss: 625.4238 - val_mae: 625.4238 - val_mse: 1348855.7500\n",
            "Epoch 37/100\n",
            "18/18 [==============================] - 0s 5ms/step - loss: 135.5189 - mae: 135.5189 - mse: 95370.9531 - val_loss: 767.4929 - val_mae: 767.4929 - val_mse: 1793065.0000\n",
            "Epoch 38/100\n",
            "18/18 [==============================] - 0s 26ms/step - loss: 135.2123 - mae: 135.2123 - mse: 97568.3047 - val_loss: 617.7001 - val_mae: 617.7001 - val_mse: 1337922.0000\n",
            "Epoch 39/100\n",
            "18/18 [==============================] - 0s 5ms/step - loss: 133.6508 - mae: 133.6508 - mse: 94002.2266 - val_loss: 675.0980 - val_mae: 675.0980 - val_mse: 1488415.3750\n",
            "Epoch 40/100\n",
            "18/18 [==============================] - 0s 4ms/step - loss: 139.3519 - mae: 139.3519 - mse: 98717.0625 - val_loss: 658.7914 - val_mae: 658.7914 - val_mse: 1469780.8750\n",
            "Epoch 41/100\n",
            "18/18 [==============================] - 0s 4ms/step - loss: 147.3771 - mae: 147.3771 - mse: 110992.3438 - val_loss: 723.4359 - val_mae: 723.4359 - val_mse: 1727102.6250\n",
            "Epoch 42/100\n",
            "18/18 [==============================] - 0s 5ms/step - loss: 148.1602 - mae: 148.1602 - mse: 102498.7031 - val_loss: 626.9731 - val_mae: 626.9731 - val_mse: 1362248.2500\n",
            "Epoch 43/100\n",
            "18/18 [==============================] - 0s 4ms/step - loss: 134.8134 - mae: 134.8134 - mse: 97041.5156 - val_loss: 736.9667 - val_mae: 736.9667 - val_mse: 1673820.2500\n",
            "Epoch 44/100\n",
            "18/18 [==============================] - 0s 4ms/step - loss: 137.9881 - mae: 137.9881 - mse: 98101.7891 - val_loss: 719.9501 - val_mae: 719.9501 - val_mse: 1623771.8750\n",
            "Epoch 45/100\n",
            "18/18 [==============================] - 0s 4ms/step - loss: 148.5483 - mae: 148.5483 - mse: 108916.0625 - val_loss: 663.9484 - val_mae: 663.9484 - val_mse: 1465503.6250\n",
            "Epoch 46/100\n",
            "18/18 [==============================] - 0s 4ms/step - loss: 130.8917 - mae: 130.8917 - mse: 90726.5391 - val_loss: 652.0457 - val_mae: 652.0457 - val_mse: 1432064.2500\n",
            "Epoch 47/100\n",
            "18/18 [==============================] - 0s 4ms/step - loss: 129.4720 - mae: 129.4720 - mse: 90488.9922 - val_loss: 1146.9043 - val_mae: 1146.9043 - val_mse: 3117594.5000\n",
            "Epoch 48/100\n",
            "18/18 [==============================] - 0s 4ms/step - loss: 156.6948 - mae: 156.6948 - mse: 116421.3906 - val_loss: 1032.2251 - val_mae: 1032.2251 - val_mse: 2736403.7500\n",
            "Epoch 49/100\n",
            "18/18 [==============================] - 0s 27ms/step - loss: 152.1751 - mae: 152.1751 - mse: 114289.3984 - val_loss: 592.3189 - val_mae: 592.3189 - val_mse: 1268068.6250\n",
            "Epoch 50/100\n",
            "18/18 [==============================] - 0s 4ms/step - loss: 137.8226 - mae: 137.8226 - mse: 99199.0234 - val_loss: 921.5239 - val_mae: 921.5239 - val_mse: 2235626.0000\n",
            "Epoch 51/100\n",
            "18/18 [==============================] - 0s 4ms/step - loss: 149.2800 - mae: 149.2800 - mse: 108432.8047 - val_loss: 1614.2771 - val_mae: 1614.2771 - val_mse: 5432960.0000\n",
            "Epoch 52/100\n",
            "18/18 [==============================] - 0s 4ms/step - loss: 225.2255 - mae: 225.2255 - mse: 192966.5781 - val_loss: 781.0478 - val_mae: 781.0478 - val_mse: 1768963.8750\n",
            "Epoch 53/100\n",
            "18/18 [==============================] - 0s 4ms/step - loss: 152.4844 - mae: 152.4844 - mse: 112689.4375 - val_loss: 1024.5491 - val_mae: 1024.5491 - val_mse: 2599714.2500\n",
            "Epoch 54/100\n",
            "18/18 [==============================] - 0s 27ms/step - loss: 156.6293 - mae: 156.6293 - mse: 113919.1953 - val_loss: 573.8211 - val_mae: 573.8211 - val_mse: 1171864.2500\n",
            "Epoch 55/100\n",
            "18/18 [==============================] - 0s 4ms/step - loss: 148.6558 - mae: 148.6558 - mse: 99837.1875 - val_loss: 837.9486 - val_mae: 837.9486 - val_mse: 1937372.8750\n",
            "Epoch 56/100\n",
            "18/18 [==============================] - 0s 4ms/step - loss: 150.1555 - mae: 150.1555 - mse: 110060.3828 - val_loss: 577.3405 - val_mae: 577.3405 - val_mse: 1170016.7500\n",
            "Epoch 57/100\n",
            "18/18 [==============================] - 0s 4ms/step - loss: 133.5318 - mae: 133.5318 - mse: 93777.5703 - val_loss: 868.4731 - val_mae: 868.4731 - val_mse: 2043228.5000\n",
            "Epoch 58/100\n",
            "18/18 [==============================] - 0s 5ms/step - loss: 167.8705 - mae: 167.8705 - mse: 126897.7812 - val_loss: 994.9483 - val_mae: 994.9483 - val_mse: 2450452.5000\n",
            "Epoch 59/100\n",
            "18/18 [==============================] - 0s 4ms/step - loss: 145.8244 - mae: 145.8244 - mse: 96993.1328 - val_loss: 583.5826 - val_mae: 583.5826 - val_mse: 1168286.8750\n",
            "Epoch 60/100\n",
            "18/18 [==============================] - 0s 4ms/step - loss: 122.8370 - mae: 122.8370 - mse: 84440.4375 - val_loss: 743.4768 - val_mae: 743.4768 - val_mse: 1591178.0000\n",
            "Epoch 61/100\n",
            "18/18 [==============================] - 0s 27ms/step - loss: 129.3650 - mae: 129.3650 - mse: 87377.8438 - val_loss: 565.2103 - val_mae: 565.2103 - val_mse: 1142305.6250\n",
            "Epoch 62/100\n",
            "18/18 [==============================] - 0s 5ms/step - loss: 127.0965 - mae: 127.0965 - mse: 89398.9219 - val_loss: 708.1186 - val_mae: 708.1186 - val_mse: 1520994.8750\n",
            "Epoch 63/100\n",
            "18/18 [==============================] - 0s 4ms/step - loss: 135.2183 - mae: 135.2183 - mse: 93544.5703 - val_loss: 582.4678 - val_mae: 582.4678 - val_mse: 1201115.8750\n",
            "Epoch 64/100\n",
            "18/18 [==============================] - 0s 5ms/step - loss: 120.0872 - mae: 120.0872 - mse: 80987.0156 - val_loss: 574.2883 - val_mae: 574.2883 - val_mse: 1137419.1250\n",
            "Epoch 65/100\n",
            "18/18 [==============================] - 0s 5ms/step - loss: 129.2426 - mae: 129.2426 - mse: 89706.1328 - val_loss: 827.5886 - val_mae: 827.5886 - val_mse: 1859210.7500\n",
            "Epoch 66/100\n",
            "18/18 [==============================] - 1s 40ms/step - loss: 132.2097 - mae: 132.2097 - mse: 88434.9844 - val_loss: 560.2917 - val_mae: 560.2917 - val_mse: 1127812.2500\n",
            "Epoch 67/100\n",
            "18/18 [==============================] - 0s 26ms/step - loss: 126.6419 - mae: 126.6419 - mse: 85730.3438 - val_loss: 557.1428 - val_mae: 557.1428 - val_mse: 1106688.7500\n",
            "Epoch 68/100\n",
            "18/18 [==============================] - 0s 4ms/step - loss: 124.2974 - mae: 124.2974 - mse: 84009.9922 - val_loss: 624.7623 - val_mae: 624.7623 - val_mse: 1239381.3750\n",
            "Epoch 69/100\n",
            "18/18 [==============================] - 0s 4ms/step - loss: 122.9128 - mae: 122.9128 - mse: 83234.9766 - val_loss: 557.1702 - val_mae: 557.1702 - val_mse: 1117988.5000\n",
            "Epoch 70/100\n",
            "18/18 [==============================] - 0s 4ms/step - loss: 134.9577 - mae: 134.9577 - mse: 93305.4453 - val_loss: 854.5835 - val_mae: 854.5835 - val_mse: 1935236.0000\n",
            "Epoch 71/100\n",
            "18/18 [==============================] - 0s 4ms/step - loss: 153.2513 - mae: 153.2513 - mse: 105212.0703 - val_loss: 754.0333 - val_mae: 754.0333 - val_mse: 1632368.2500\n",
            "Epoch 72/100\n",
            "18/18 [==============================] - 0s 5ms/step - loss: 124.1270 - mae: 124.1270 - mse: 81900.1016 - val_loss: 615.2333 - val_mae: 615.2333 - val_mse: 1273637.1250\n",
            "Epoch 73/100\n",
            "18/18 [==============================] - 0s 5ms/step - loss: 120.0591 - mae: 120.0591 - mse: 80556.8516 - val_loss: 598.1015 - val_mae: 598.1015 - val_mse: 1169694.8750\n",
            "Epoch 74/100\n",
            "18/18 [==============================] - 0s 4ms/step - loss: 119.1856 - mae: 119.1856 - mse: 78226.8359 - val_loss: 561.0634 - val_mae: 561.0634 - val_mse: 1090229.5000\n",
            "Epoch 75/100\n",
            "18/18 [==============================] - 0s 4ms/step - loss: 118.5887 - mae: 118.5887 - mse: 78242.8750 - val_loss: 569.5092 - val_mae: 569.5092 - val_mse: 1105414.0000\n",
            "Epoch 76/100\n",
            "18/18 [==============================] - 0s 4ms/step - loss: 126.8755 - mae: 126.8755 - mse: 80909.2031 - val_loss: 560.5353 - val_mae: 560.5353 - val_mse: 1102211.7500\n",
            "Epoch 77/100\n",
            "18/18 [==============================] - 0s 4ms/step - loss: 119.9341 - mae: 119.9341 - mse: 78675.5391 - val_loss: 599.4346 - val_mae: 599.4346 - val_mse: 1233961.8750\n",
            "Epoch 78/100\n",
            "18/18 [==============================] - 0s 4ms/step - loss: 127.0203 - mae: 127.0203 - mse: 84378.8828 - val_loss: 830.1914 - val_mae: 830.1913 - val_mse: 1848016.1250\n",
            "Epoch 79/100\n",
            "18/18 [==============================] - 0s 4ms/step - loss: 131.5862 - mae: 131.5862 - mse: 86297.2891 - val_loss: 657.7959 - val_mae: 657.7959 - val_mse: 1307042.2500\n",
            "Epoch 80/100\n",
            "18/18 [==============================] - 0s 4ms/step - loss: 133.7203 - mae: 133.7203 - mse: 88573.8750 - val_loss: 936.9589 - val_mae: 936.9589 - val_mse: 2216220.5000\n",
            "Epoch 81/100\n",
            "18/18 [==============================] - 0s 5ms/step - loss: 131.0614 - mae: 131.0614 - mse: 88716.1719 - val_loss: 828.1270 - val_mae: 828.1270 - val_mse: 1844322.0000\n",
            "Epoch 82/100\n",
            "18/18 [==============================] - 0s 26ms/step - loss: 137.2280 - mae: 137.2280 - mse: 95009.4844 - val_loss: 552.5558 - val_mae: 552.5558 - val_mse: 1102916.3750\n",
            "Epoch 83/100\n",
            "18/18 [==============================] - 0s 26ms/step - loss: 130.4511 - mae: 130.4511 - mse: 85969.6094 - val_loss: 538.3868 - val_mae: 538.3868 - val_mse: 1053504.5000\n",
            "Epoch 84/100\n",
            "18/18 [==============================] - 0s 4ms/step - loss: 119.2360 - mae: 119.2360 - mse: 78527.1172 - val_loss: 540.7646 - val_mae: 540.7646 - val_mse: 1061091.7500\n",
            "Epoch 85/100\n",
            "18/18 [==============================] - 0s 4ms/step - loss: 119.4672 - mae: 119.4672 - mse: 79388.5547 - val_loss: 686.9470 - val_mae: 686.9470 - val_mse: 1428134.0000\n",
            "Epoch 86/100\n",
            "18/18 [==============================] - 0s 5ms/step - loss: 131.1943 - mae: 131.1943 - mse: 89300.1641 - val_loss: 695.7498 - val_mae: 695.7498 - val_mse: 1447956.7500\n",
            "Epoch 87/100\n",
            "18/18 [==============================] - 0s 4ms/step - loss: 127.7935 - mae: 127.7935 - mse: 84759.8203 - val_loss: 540.0372 - val_mae: 540.0372 - val_mse: 1065267.5000\n",
            "Epoch 88/100\n",
            "18/18 [==============================] - 0s 4ms/step - loss: 120.2830 - mae: 120.2830 - mse: 78850.0078 - val_loss: 560.3737 - val_mae: 560.3737 - val_mse: 1117223.0000\n",
            "Epoch 89/100\n",
            "18/18 [==============================] - 0s 4ms/step - loss: 116.5096 - mae: 116.5096 - mse: 77517.4922 - val_loss: 931.0510 - val_mae: 931.0510 - val_mse: 2185052.0000\n",
            "Epoch 90/100\n",
            "18/18 [==============================] - 0s 4ms/step - loss: 150.2682 - mae: 150.2682 - mse: 107335.2734 - val_loss: 631.4236 - val_mae: 631.4236 - val_mse: 1280557.5000\n",
            "Epoch 91/100\n",
            "18/18 [==============================] - 0s 4ms/step - loss: 144.4017 - mae: 144.4017 - mse: 99186.1094 - val_loss: 541.7731 - val_mae: 541.7731 - val_mse: 1029901.1250\n",
            "Epoch 92/100\n",
            "18/18 [==============================] - 0s 4ms/step - loss: 117.4135 - mae: 117.4135 - mse: 76290.2500 - val_loss: 564.7607 - val_mae: 564.7607 - val_mse: 1054015.7500\n",
            "Epoch 93/100\n",
            "18/18 [==============================] - 0s 4ms/step - loss: 124.2154 - mae: 124.2154 - mse: 83150.7969 - val_loss: 735.8350 - val_mae: 735.8350 - val_mse: 1541387.0000\n",
            "Epoch 94/100\n",
            "18/18 [==============================] - 0s 4ms/step - loss: 141.7605 - mae: 141.7605 - mse: 96982.0234 - val_loss: 668.8176 - val_mae: 668.8176 - val_mse: 1366657.0000\n",
            "Epoch 95/100\n",
            "18/18 [==============================] - 0s 4ms/step - loss: 125.8431 - mae: 125.8431 - mse: 83551.8828 - val_loss: 779.3115 - val_mae: 779.3115 - val_mse: 1664726.1250\n",
            "Epoch 96/100\n",
            "18/18 [==============================] - 0s 5ms/step - loss: 127.3719 - mae: 127.3719 - mse: 86032.3672 - val_loss: 559.0165 - val_mae: 559.0165 - val_mse: 1104255.7500\n",
            "Epoch 97/100\n",
            "18/18 [==============================] - 0s 4ms/step - loss: 142.0151 - mae: 142.0151 - mse: 102758.9453 - val_loss: 629.4230 - val_mae: 629.4230 - val_mse: 1267140.3750\n",
            "Epoch 98/100\n",
            "18/18 [==============================] - 0s 27ms/step - loss: 117.8673 - mae: 117.8673 - mse: 77859.3125 - val_loss: 536.1783 - val_mae: 536.1783 - val_mse: 1015495.7500\n",
            "Epoch 99/100\n",
            "18/18 [==============================] - 0s 5ms/step - loss: 118.9961 - mae: 118.9961 - mse: 77163.1953 - val_loss: 677.7618 - val_mae: 677.7618 - val_mse: 1384114.6250\n",
            "Epoch 100/100\n",
            "18/18 [==============================] - 0s 26ms/step - loss: 147.6764 - mae: 147.6764 - mse: 95445.6328 - val_loss: 529.1037 - val_mae: 529.1037 - val_mse: 1027048.1875\n"
          ]
        },
        {
          "output_type": "execute_result",
          "data": {
            "text/plain": [
              "<keras.callbacks.History at 0x7f09d7eb49d0>"
            ]
          },
          "metadata": {},
          "execution_count": 62
        }
      ]
    },
    {
      "cell_type": "code",
      "source": [
        "# Evaluate model_2 on test data\n",
        "model_2.evaluate(test_windows,test_labels)"
      ],
      "metadata": {
        "id": "WF6dd_rI6YLR",
        "colab": {
          "base_uri": "https://localhost:8080/"
        },
        "outputId": "f2165816-10e6-4351-d5f6-315162ee98e3"
      },
      "execution_count": 63,
      "outputs": [
        {
          "output_type": "stream",
          "name": "stdout",
          "text": [
            "18/18 [==============================] - 0s 2ms/step - loss: 529.1037 - mae: 529.1037 - mse: 1027048.0625\n"
          ]
        },
        {
          "output_type": "execute_result",
          "data": {
            "text/plain": [
              "[529.1036987304688, 529.1036987304688, 1027048.0625]"
            ]
          },
          "metadata": {},
          "execution_count": 63
        }
      ]
    },
    {
      "cell_type": "code",
      "source": [
        "model_2 = tf.keras.models.load_model(\"model_experiments/model_2_dense/\")\n",
        "model_2.evaluate(test_windows,test_labels)"
      ],
      "metadata": {
        "colab": {
          "base_uri": "https://localhost:8080/"
        },
        "id": "_nCbbGUwMx2K",
        "outputId": "2a6ef2bc-5f54-40a0-e637-9812d0de19b0"
      },
      "execution_count": 64,
      "outputs": [
        {
          "output_type": "stream",
          "name": "stdout",
          "text": [
            "18/18 [==============================] - 0s 2ms/step - loss: 529.1037 - mae: 529.1037 - mse: 1027048.0625\n"
          ]
        },
        {
          "output_type": "execute_result",
          "data": {
            "text/plain": [
              "[529.1036987304688, 529.1036987304688, 1027048.0625]"
            ]
          },
          "metadata": {},
          "execution_count": 64
        }
      ]
    },
    {
      "cell_type": "code",
      "source": [
        "# Get the forcast predictions\n",
        "model_2_preds = make_preds(model_2,input_data=test_windows)"
      ],
      "metadata": {
        "colab": {
          "base_uri": "https://localhost:8080/"
        },
        "id": "VlF8-QsCNd2i",
        "outputId": "a2bb0ec9-88ba-4e7c-e2f0-69851ad1e5a6"
      },
      "execution_count": 65,
      "outputs": [
        {
          "output_type": "stream",
          "name": "stdout",
          "text": [
            "18/18 [==============================] - 0s 1ms/step\n"
          ]
        }
      ]
    },
    {
      "cell_type": "code",
      "source": [
        "test_labels.shape"
      ],
      "metadata": {
        "colab": {
          "base_uri": "https://localhost:8080/"
        },
        "id": "BVjGQ24QZRW6",
        "outputId": "6c45fd69-8bfa-41d5-fe10-d4488fc6ee14"
      },
      "execution_count": 66,
      "outputs": [
        {
          "output_type": "execute_result",
          "data": {
            "text/plain": [
              "(545,)"
            ]
          },
          "metadata": {},
          "execution_count": 66
        }
      ]
    },
    {
      "cell_type": "code",
      "source": [
        "model_2_results = evaluate_preds(y_true = tf.squeeze(test_labels),y_pred = model_2_preds)\n",
        "model_2_results"
      ],
      "metadata": {
        "colab": {
          "base_uri": "https://localhost:8080/"
        },
        "id": "7QijfKj_Y_2B",
        "outputId": "011d4913-7b06-4898-a4ba-9e992df46a83"
      },
      "execution_count": 67,
      "outputs": [
        {
          "output_type": "execute_result",
          "data": {
            "text/plain": [
              "{'mae': 529.1037,\n",
              " 'mse': 1027047.94,\n",
              " 'rmse': 1013.4337,\n",
              " 'mape': 2.7406445,\n",
              " 'mase': 1.0736358}"
            ]
          },
          "metadata": {},
          "execution_count": 67
        }
      ]
    },
    {
      "cell_type": "code",
      "source": [
        "naive_results"
      ],
      "metadata": {
        "colab": {
          "base_uri": "https://localhost:8080/"
        },
        "id": "Xyx_1aTmZl5g",
        "outputId": "675fcfc1-09f9-429b-c960-1aa354dfa3c3"
      },
      "execution_count": 68,
      "outputs": [
        {
          "output_type": "execute_result",
          "data": {
            "text/plain": [
              "{'mae': 567.9802,\n",
              " 'mse': 1147547.0,\n",
              " 'rmse': 1071.2362,\n",
              " 'mape': 2.516525,\n",
              " 'mase': 0.99957}"
            ]
          },
          "metadata": {},
          "execution_count": 68
        }
      ]
    },
    {
      "cell_type": "code",
      "source": [
        "offset = 300\n",
        "plt.figure(figsize=(10,7))\n",
        "# Account for test_window offset while ploting\n",
        "plot_time_series(timesteps = x_test[-len(test_windows):], values = test_labels[:],start = offset, label =\"Test Data\")\n",
        "plot_time_series(timesteps = x_test[-len(test_windows):], values=model_2_preds, start=offset, format=\"-\",label=\"model_2_preds\")"
      ],
      "metadata": {
        "id": "bUAWm6GXZsyB",
        "colab": {
          "base_uri": "https://localhost:8080/",
          "height": 0
        },
        "outputId": "938a516b-7b71-49d4-f1ab-63560f35f828"
      },
      "execution_count": 69,
      "outputs": [
        {
          "output_type": "display_data",
          "data": {
            "text/plain": [
              "<Figure size 720x504 with 1 Axes>"
            ],
            "image/png": "[encoded data removed]"
          },
          "metadata": {
            "needs_background": "light"
          }
        }
      ]
    },
    {
      "cell_type": "markdown",
      "source": [
        "## Creating model 3"
      ],
      "metadata": {
        "id": "sUeKnRbZ1uKc"
      }
    },
    {
      "cell_type": "code",
      "source": [
        "HORIZON = 7\n",
        "WINDOW_SIZE = 30\n",
        "\n",
        "full_windows, full_labels = make_windows(prices, window_size = WINDOW_SIZE,horizon = HORIZON)\n",
        "len(full_windows),len(full_labels)"
      ],
      "metadata": {
        "colab": {
          "base_uri": "https://localhost:8080/"
        },
        "id": "mp5xZR9V6LqS",
        "outputId": "ad4ce927-32f7-47e4-c915-1b10e5d6c621"
      },
      "execution_count": 70,
      "outputs": [
        {
          "output_type": "execute_result",
          "data": {
            "text/plain": [
              "(2751, 2751)"
            ]
          },
          "metadata": {},
          "execution_count": 70
        }
      ]
    },
    {
      "cell_type": "code",
      "source": [
        "train_windows , test_windows , train_labels , test_labels = make_train_test_split(windows = full_windows, labels=full_labels)\n",
        "len(train_windows), len(train_labels), len(test_windows), len(test_labels)"
      ],
      "metadata": {
        "colab": {
          "base_uri": "https://localhost:8080/"
        },
        "id": "qVO8a5g36vSx",
        "outputId": "ebcb5dca-e6f1-4c5a-9f6e-6078807cbba2"
      },
      "execution_count": 71,
      "outputs": [
        {
          "output_type": "execute_result",
          "data": {
            "text/plain": [
              "(2200, 2200, 551, 551)"
            ]
          },
          "metadata": {},
          "execution_count": 71
        }
      ]
    },
    {
      "cell_type": "code",
      "source": [
        "# This model contains window size of 30 and horizon of 7\n",
        "import tensorflow as tf \n",
        "from tensorflow.keras import layers\n",
        "\n",
        "# Set random seed for as reproducible results as possible\n",
        "tf.random.set_seed(42)\n",
        "# 1. Construct Model\n",
        "model_3 = tf.keras.Sequential([\n",
        "    layers.Dense(128,activation=\"relu\"),\n",
        "    layers.Dense(HORIZON, activation=\"linear\") # Linear activation is just like having no activation at all\n",
        "],name=\"model_3_dense\")# name our model so we can save it\n",
        "# 2. Compile\n",
        "model_3.compile(loss=\"mae\",\n",
        "                optimizer = tf.keras.optimizers.Adam(),\n",
        "                metrics = [\"mae\",\"mse\"])\n",
        "# 3. Fit the model\n",
        "model_3.fit(x = train_windows,\n",
        "            y = train_labels,\n",
        "            epochs=100,\n",
        "            verbose=1,\n",
        "            batch_size=128,\n",
        "            validation_data=(test_windows,test_labels),\n",
        "            callbacks=[create_model_checkpoint(model_name=model_3.name)])"
      ],
      "metadata": {
        "colab": {
          "base_uri": "https://localhost:8080/"
        },
        "id": "U8vGgmBX5py5",
        "outputId": "373b3d18-a3e9-464f-9b37-32191a19e057"
      },
      "execution_count": 72,
      "outputs": [
        {
          "output_type": "stream",
          "name": "stdout",
          "text": [
            "Epoch 1/100\n",
            "18/18 [==============================] - 1s 34ms/step - loss: 1476.6752 - mae: 1476.6752 - mse: 10390733.0000 - val_loss: 3088.5613 - val_mae: 3088.5613 - val_mse: 24386346.0000\n",
            "Epoch 2/100\n",
            "18/18 [==============================] - 0s 26ms/step - loss: 552.8943 - mae: 552.8943 - mse: 1336176.8750 - val_loss: 2462.4548 - val_mae: 2462.4548 - val_mse: 17112268.0000\n",
            "Epoch 3/100\n",
            "18/18 [==============================] - 0s 28ms/step - loss: 435.1978 - mae: 435.1978 - mse: 893449.0000 - val_loss: 2283.1484 - val_mae: 2283.1484 - val_mse: 14950889.0000\n",
            "Epoch 4/100\n",
            "18/18 [==============================] - 0s 26ms/step - loss: 391.9787 - mae: 391.9787 - mse: 745983.8125 - val_loss: 1975.1218 - val_mae: 1975.1218 - val_mse: 11680637.0000\n",
            "Epoch 5/100\n",
            "18/18 [==============================] - 0s 4ms/step - loss: 357.9485 - mae: 357.9485 - mse: 627137.9375 - val_loss: 2000.1556 - val_mae: 2000.1556 - val_mse: 11665231.0000\n",
            "Epoch 6/100\n",
            "18/18 [==============================] - 0s 26ms/step - loss: 332.6704 - mae: 332.6704 - mse: 531746.6250 - val_loss: 1723.4186 - val_mae: 1723.4186 - val_mse: 9019992.0000\n",
            "Epoch 7/100\n",
            "18/18 [==============================] - 0s 27ms/step - loss: 309.9903 - mae: 309.9903 - mse: 470480.5312 - val_loss: 1591.9688 - val_mae: 1591.9688 - val_mse: 7895366.0000\n",
            "Epoch 8/100\n",
            "18/18 [==============================] - 0s 25ms/step - loss: 302.4123 - mae: 302.4123 - mse: 438359.1250 - val_loss: 1579.8518 - val_mae: 1579.8518 - val_mse: 7899042.0000\n",
            "Epoch 9/100\n",
            "18/18 [==============================] - 0s 4ms/step - loss: 293.9170 - mae: 293.9170 - mse: 418137.7188 - val_loss: 1602.9116 - val_mae: 1602.9116 - val_mse: 7739274.0000\n",
            "Epoch 10/100\n",
            "18/18 [==============================] - 1s 39ms/step - loss: 291.5431 - mae: 291.5431 - mse: 402053.9688 - val_loss: 1504.9114 - val_mae: 1504.9114 - val_mse: 7034896.5000\n",
            "Epoch 11/100\n",
            "18/18 [==============================] - 0s 25ms/step - loss: 282.3861 - mae: 282.3861 - mse: 387283.0625 - val_loss: 1474.9521 - val_mae: 1474.9521 - val_mse: 6938312.5000\n",
            "Epoch 12/100\n",
            "18/18 [==============================] - 0s 5ms/step - loss: 276.0491 - mae: 276.0491 - mse: 374895.8125 - val_loss: 1539.4847 - val_mae: 1539.4847 - val_mse: 7364822.5000\n",
            "Epoch 13/100\n",
            "18/18 [==============================] - 0s 26ms/step - loss: 272.3232 - mae: 272.3232 - mse: 365701.9375 - val_loss: 1459.5269 - val_mae: 1459.5269 - val_mse: 6738909.0000\n",
            "Epoch 14/100\n",
            "18/18 [==============================] - 0s 26ms/step - loss: 270.6817 - mae: 270.6817 - mse: 367210.9688 - val_loss: 1417.0792 - val_mae: 1417.0792 - val_mse: 6493178.5000\n",
            "Epoch 15/100\n",
            "18/18 [==============================] - 0s 4ms/step - loss: 263.8875 - mae: 263.8875 - mse: 351648.9062 - val_loss: 1541.0621 - val_mae: 1541.0621 - val_mse: 7139703.0000\n",
            "Epoch 16/100\n",
            "18/18 [==============================] - 0s 4ms/step - loss: 265.9065 - mae: 265.9065 - mse: 352247.7188 - val_loss: 1441.2795 - val_mae: 1441.2795 - val_mse: 6551795.5000\n",
            "Epoch 17/100\n",
            "18/18 [==============================] - 0s 4ms/step - loss: 262.9132 - mae: 262.9132 - mse: 348013.6875 - val_loss: 1505.8213 - val_mae: 1505.8213 - val_mse: 7021491.0000\n",
            "Epoch 18/100\n",
            "18/18 [==============================] - 0s 4ms/step - loss: 260.1363 - mae: 260.1363 - mse: 338809.7500 - val_loss: 1446.3213 - val_mae: 1446.3213 - val_mse: 6640532.0000\n",
            "Epoch 19/100\n",
            "18/18 [==============================] - 0s 4ms/step - loss: 258.2223 - mae: 258.2223 - mse: 337048.7188 - val_loss: 1522.3828 - val_mae: 1522.3828 - val_mse: 7158658.5000\n",
            "Epoch 20/100\n",
            "18/18 [==============================] - 0s 4ms/step - loss: 263.9978 - mae: 263.9978 - mse: 342797.9375 - val_loss: 1425.1411 - val_mae: 1425.1411 - val_mse: 6555956.0000\n",
            "Epoch 21/100\n",
            "18/18 [==============================] - 0s 4ms/step - loss: 255.4174 - mae: 255.4174 - mse: 328356.0625 - val_loss: 1460.1968 - val_mae: 1460.1968 - val_mse: 6717267.5000\n",
            "Epoch 22/100\n",
            "18/18 [==============================] - 0s 4ms/step - loss: 255.3434 - mae: 255.3434 - mse: 327904.4375 - val_loss: 1419.4122 - val_mae: 1419.4122 - val_mse: 6416547.0000\n",
            "Epoch 23/100\n",
            "18/18 [==============================] - 0s 26ms/step - loss: 258.0463 - mae: 258.0463 - mse: 330457.5625 - val_loss: 1384.9282 - val_mae: 1384.9282 - val_mse: 6376790.5000\n",
            "Epoch 24/100\n",
            "18/18 [==============================] - 0s 26ms/step - loss: 269.2109 - mae: 269.2109 - mse: 348474.7188 - val_loss: 1377.6122 - val_mae: 1377.6122 - val_mse: 6264392.5000\n",
            "Epoch 25/100\n",
            "18/18 [==============================] - 0s 4ms/step - loss: 253.5239 - mae: 253.5239 - mse: 322304.0625 - val_loss: 1452.3351 - val_mae: 1452.3351 - val_mse: 6649548.5000\n",
            "Epoch 26/100\n",
            "18/18 [==============================] - 0s 4ms/step - loss: 252.1648 - mae: 252.1648 - mse: 319006.6250 - val_loss: 1388.5122 - val_mae: 1388.5122 - val_mse: 6325646.5000\n",
            "Epoch 27/100\n",
            "18/18 [==============================] - 0s 4ms/step - loss: 251.8276 - mae: 251.8276 - mse: 322080.4375 - val_loss: 1451.5784 - val_mae: 1451.5784 - val_mse: 6515207.5000\n",
            "Epoch 28/100\n",
            "18/18 [==============================] - 0s 4ms/step - loss: 247.8791 - mae: 247.8791 - mse: 313790.8750 - val_loss: 1391.4445 - val_mae: 1391.4445 - val_mse: 6381010.5000\n",
            "Epoch 29/100\n",
            "18/18 [==============================] - 0s 4ms/step - loss: 246.0225 - mae: 246.0225 - mse: 310989.5000 - val_loss: 1382.1858 - val_mae: 1382.1858 - val_mse: 6307697.0000\n",
            "Epoch 30/100\n",
            "18/18 [==============================] - 0s 26ms/step - loss: 248.2236 - mae: 248.2236 - mse: 317049.2812 - val_loss: 1336.2773 - val_mae: 1336.2773 - val_mse: 6054735.5000\n",
            "Epoch 31/100\n",
            "18/18 [==============================] - 0s 28ms/step - loss: 242.1411 - mae: 242.1411 - mse: 303474.5312 - val_loss: 1334.8569 - val_mae: 1334.8569 - val_mse: 6053588.0000\n",
            "Epoch 32/100\n",
            "18/18 [==============================] - 0s 28ms/step - loss: 245.8559 - mae: 245.8559 - mse: 309413.2188 - val_loss: 1329.1195 - val_mae: 1329.1195 - val_mse: 5981315.0000\n",
            "Epoch 33/100\n",
            "18/18 [==============================] - 0s 5ms/step - loss: 246.9277 - mae: 246.9277 - mse: 310413.8438 - val_loss: 1372.8105 - val_mae: 1372.8105 - val_mse: 6171215.0000\n",
            "Epoch 34/100\n",
            "18/18 [==============================] - 0s 5ms/step - loss: 244.2540 - mae: 244.2540 - mse: 305681.9375 - val_loss: 1373.9778 - val_mae: 1373.9778 - val_mse: 6200631.5000\n",
            "Epoch 35/100\n",
            "18/18 [==============================] - 0s 5ms/step - loss: 244.3824 - mae: 244.3824 - mse: 305912.8125 - val_loss: 1349.5087 - val_mae: 1349.5087 - val_mse: 6108202.0000\n",
            "Epoch 36/100\n",
            "18/18 [==============================] - 0s 4ms/step - loss: 241.3231 - mae: 241.3231 - mse: 303293.1250 - val_loss: 1427.5961 - val_mae: 1427.5961 - val_mse: 6570097.5000\n",
            "Epoch 37/100\n",
            "18/18 [==============================] - 0s 4ms/step - loss: 257.3803 - mae: 257.3803 - mse: 322964.4688 - val_loss: 1363.9797 - val_mae: 1363.9797 - val_mse: 6108615.5000\n",
            "Epoch 38/100\n",
            "18/18 [==============================] - 0s 4ms/step - loss: 240.1044 - mae: 240.1044 - mse: 299731.3125 - val_loss: 1376.8528 - val_mae: 1376.8528 - val_mse: 6250287.0000\n",
            "Epoch 39/100\n",
            "18/18 [==============================] - 0s 4ms/step - loss: 245.4610 - mae: 245.4610 - mse: 302870.8125 - val_loss: 1412.0402 - val_mae: 1412.0402 - val_mse: 6445713.0000\n",
            "Epoch 40/100\n",
            "18/18 [==============================] - 0s 5ms/step - loss: 239.6820 - mae: 239.6820 - mse: 299266.2500 - val_loss: 1426.0742 - val_mae: 1426.0742 - val_mse: 6408169.5000\n",
            "Epoch 41/100\n",
            "18/18 [==============================] - 0s 4ms/step - loss: 239.1188 - mae: 239.1188 - mse: 295875.4688 - val_loss: 1442.6663 - val_mae: 1442.6663 - val_mse: 6566415.0000\n",
            "Epoch 42/100\n",
            "18/18 [==============================] - 0s 4ms/step - loss: 246.8635 - mae: 246.8635 - mse: 311109.9062 - val_loss: 1347.2452 - val_mae: 1347.2452 - val_mse: 6057585.5000\n",
            "Epoch 43/100\n",
            "18/18 [==============================] - 0s 4ms/step - loss: 239.3242 - mae: 239.3242 - mse: 295104.0000 - val_loss: 1365.7219 - val_mae: 1365.7219 - val_mse: 6103318.0000\n",
            "Epoch 44/100\n",
            "18/18 [==============================] - 0s 25ms/step - loss: 250.1504 - mae: 250.1504 - mse: 311073.4688 - val_loss: 1293.0472 - val_mae: 1293.0472 - val_mse: 5793364.5000\n",
            "Epoch 45/100\n",
            "18/18 [==============================] - 0s 4ms/step - loss: 243.7763 - mae: 243.7763 - mse: 300905.0000 - val_loss: 1505.8341 - val_mae: 1505.8341 - val_mse: 6827288.5000\n",
            "Epoch 46/100\n",
            "18/18 [==============================] - 0s 4ms/step - loss: 241.1997 - mae: 241.1997 - mse: 298801.0000 - val_loss: 1299.8013 - val_mae: 1299.8013 - val_mse: 5822393.5000\n",
            "Epoch 47/100\n",
            "18/18 [==============================] - 0s 5ms/step - loss: 236.0368 - mae: 236.0368 - mse: 294210.6875 - val_loss: 1339.0396 - val_mae: 1339.0396 - val_mse: 5972380.5000\n",
            "Epoch 48/100\n",
            "18/18 [==============================] - 0s 5ms/step - loss: 235.2749 - mae: 235.2749 - mse: 289513.3750 - val_loss: 1329.4685 - val_mae: 1329.4685 - val_mse: 5933925.5000\n",
            "Epoch 49/100\n",
            "18/18 [==============================] - 0s 5ms/step - loss: 238.4083 - mae: 238.4083 - mse: 292709.6562 - val_loss: 1326.4941 - val_mae: 1326.4941 - val_mse: 6016930.0000\n",
            "Epoch 50/100\n",
            "18/18 [==============================] - 0s 5ms/step - loss: 236.0985 - mae: 236.0985 - mse: 291910.3125 - val_loss: 1318.6080 - val_mae: 1318.6080 - val_mse: 5844584.0000\n",
            "Epoch 51/100\n",
            "18/18 [==============================] - 0s 4ms/step - loss: 247.4354 - mae: 247.4354 - mse: 298867.6562 - val_loss: 1389.7017 - val_mae: 1389.7017 - val_mse: 6310916.5000\n",
            "Epoch 52/100\n",
            "18/18 [==============================] - 0s 5ms/step - loss: 233.8826 - mae: 233.8826 - mse: 286212.8438 - val_loss: 1293.4277 - val_mae: 1293.4277 - val_mse: 5711541.0000\n",
            "Epoch 53/100\n",
            "18/18 [==============================] - 0s 27ms/step - loss: 232.7012 - mae: 232.7012 - mse: 286820.6875 - val_loss: 1284.7607 - val_mae: 1284.7607 - val_mse: 5749309.0000\n",
            "Epoch 54/100\n",
            "18/18 [==============================] - 0s 26ms/step - loss: 235.9017 - mae: 235.9017 - mse: 291542.7188 - val_loss: 1284.3806 - val_mae: 1284.3806 - val_mse: 5748808.5000\n",
            "Epoch 55/100\n",
            "18/18 [==============================] - 0s 4ms/step - loss: 232.9453 - mae: 232.9453 - mse: 282204.3750 - val_loss: 1312.6141 - val_mae: 1312.6141 - val_mse: 5854618.5000\n",
            "Epoch 56/100\n",
            "18/18 [==============================] - 0s 4ms/step - loss: 231.0590 - mae: 231.0590 - mse: 283601.1562 - val_loss: 1355.7415 - val_mae: 1355.7415 - val_mse: 5982999.0000\n",
            "Epoch 57/100\n",
            "18/18 [==============================] - 0s 5ms/step - loss: 235.9913 - mae: 235.9913 - mse: 289773.3750 - val_loss: 1363.5928 - val_mae: 1363.5928 - val_mse: 6065964.0000\n",
            "Epoch 58/100\n",
            "18/18 [==============================] - 0s 5ms/step - loss: 231.6387 - mae: 231.6387 - mse: 281294.2500 - val_loss: 1306.6425 - val_mae: 1306.6425 - val_mse: 5727832.5000\n",
            "Epoch 59/100\n",
            "18/18 [==============================] - 0s 4ms/step - loss: 230.8834 - mae: 230.8834 - mse: 281998.1250 - val_loss: 1288.3002 - val_mae: 1288.3002 - val_mse: 5697831.5000\n",
            "Epoch 60/100\n",
            "18/18 [==============================] - 0s 25ms/step - loss: 230.1366 - mae: 230.1366 - mse: 280421.1562 - val_loss: 1259.6017 - val_mae: 1259.6017 - val_mse: 5612471.0000\n",
            "Epoch 61/100\n",
            "18/18 [==============================] - 0s 4ms/step - loss: 230.5381 - mae: 230.5381 - mse: 282358.5312 - val_loss: 1406.2996 - val_mae: 1406.2996 - val_mse: 6253862.5000\n",
            "Epoch 62/100\n",
            "18/18 [==============================] - 0s 4ms/step - loss: 231.8386 - mae: 231.8386 - mse: 280512.9062 - val_loss: 1291.0713 - val_mae: 1291.0713 - val_mse: 5756396.5000\n",
            "Epoch 63/100\n",
            "18/18 [==============================] - 0s 4ms/step - loss: 233.6788 - mae: 233.6788 - mse: 285109.7500 - val_loss: 1368.6284 - val_mae: 1368.6284 - val_mse: 6087166.0000\n",
            "Epoch 64/100\n",
            "18/18 [==============================] - 0s 27ms/step - loss: 232.2232 - mae: 232.2232 - mse: 280256.0312 - val_loss: 1251.2312 - val_mae: 1251.2312 - val_mse: 5499588.5000\n",
            "Epoch 65/100\n",
            "18/18 [==============================] - 0s 4ms/step - loss: 232.8093 - mae: 232.8093 - mse: 286747.3438 - val_loss: 1346.9840 - val_mae: 1346.9840 - val_mse: 5905306.5000\n",
            "Epoch 66/100\n",
            "18/18 [==============================] - 0s 4ms/step - loss: 231.5086 - mae: 231.5086 - mse: 281108.9375 - val_loss: 1429.1592 - val_mae: 1429.1592 - val_mse: 6378788.0000\n",
            "Epoch 67/100\n",
            "18/18 [==============================] - 0s 5ms/step - loss: 234.4316 - mae: 234.4316 - mse: 283984.4062 - val_loss: 1291.2920 - val_mae: 1291.2920 - val_mse: 5649027.0000\n",
            "Epoch 68/100\n",
            "18/18 [==============================] - 0s 5ms/step - loss: 228.4419 - mae: 228.4419 - mse: 276119.7500 - val_loss: 1320.3304 - val_mae: 1320.3304 - val_mse: 5815860.5000\n",
            "Epoch 69/100\n",
            "18/18 [==============================] - 0s 4ms/step - loss: 227.7240 - mae: 227.7240 - mse: 270948.4375 - val_loss: 1519.1730 - val_mae: 1519.1730 - val_mse: 6928610.5000\n",
            "Epoch 70/100\n",
            "18/18 [==============================] - 0s 4ms/step - loss: 233.6939 - mae: 233.6939 - mse: 282986.3750 - val_loss: 1278.3643 - val_mae: 1278.3643 - val_mse: 5591982.0000\n",
            "Epoch 71/100\n",
            "18/18 [==============================] - 0s 5ms/step - loss: 227.1845 - mae: 227.1845 - mse: 277117.5938 - val_loss: 1261.8005 - val_mae: 1261.8005 - val_mse: 5517604.5000\n",
            "Epoch 72/100\n",
            "18/18 [==============================] - 0s 4ms/step - loss: 229.9134 - mae: 229.9134 - mse: 276164.3750 - val_loss: 1251.5463 - val_mae: 1251.5463 - val_mse: 5564067.0000\n",
            "Epoch 73/100\n",
            "18/18 [==============================] - 0s 5ms/step - loss: 227.0497 - mae: 227.0497 - mse: 275501.1562 - val_loss: 1270.7107 - val_mae: 1270.7107 - val_mse: 5572510.0000\n",
            "Epoch 74/100\n",
            "18/18 [==============================] - 0s 4ms/step - loss: 230.8764 - mae: 230.8764 - mse: 280781.9375 - val_loss: 1387.2860 - val_mae: 1387.2860 - val_mse: 6085277.5000\n",
            "Epoch 75/100\n",
            "18/18 [==============================] - 0s 4ms/step - loss: 228.8457 - mae: 228.8457 - mse: 274044.4062 - val_loss: 1356.4390 - val_mae: 1356.4390 - val_mse: 5924470.0000\n",
            "Epoch 76/100\n",
            "18/18 [==============================] - 0s 4ms/step - loss: 228.9847 - mae: 228.9847 - mse: 279526.8750 - val_loss: 1287.2343 - val_mae: 1287.2343 - val_mse: 5667253.0000\n",
            "Epoch 77/100\n",
            "18/18 [==============================] - 0s 26ms/step - loss: 225.3239 - mae: 225.3239 - mse: 272094.2500 - val_loss: 1237.5065 - val_mae: 1237.5065 - val_mse: 5405199.0000\n",
            "Epoch 78/100\n",
            "18/18 [==============================] - 0s 4ms/step - loss: 229.2194 - mae: 229.2194 - mse: 274318.4688 - val_loss: 1248.6913 - val_mae: 1248.6913 - val_mse: 5431387.0000\n",
            "Epoch 79/100\n",
            "18/18 [==============================] - 0s 5ms/step - loss: 227.7465 - mae: 227.7465 - mse: 270252.6562 - val_loss: 1286.5439 - val_mae: 1286.5439 - val_mse: 5594558.0000\n",
            "Epoch 80/100\n",
            "18/18 [==============================] - 0s 5ms/step - loss: 225.9967 - mae: 225.9967 - mse: 270396.1562 - val_loss: 1329.9921 - val_mae: 1329.9921 - val_mse: 5849621.5000\n",
            "Epoch 81/100\n",
            "18/18 [==============================] - 0s 4ms/step - loss: 228.1217 - mae: 228.1217 - mse: 277564.4375 - val_loss: 1262.6128 - val_mae: 1262.6128 - val_mse: 5568035.5000\n",
            "Epoch 82/100\n",
            "18/18 [==============================] - 0s 4ms/step - loss: 225.3166 - mae: 225.3166 - mse: 273099.7500 - val_loss: 1273.8381 - val_mae: 1273.8381 - val_mse: 5537962.0000\n",
            "Epoch 83/100\n",
            "18/18 [==============================] - 0s 4ms/step - loss: 225.2265 - mae: 225.2265 - mse: 271168.5000 - val_loss: 1279.3624 - val_mae: 1279.3624 - val_mse: 5627999.0000\n",
            "Epoch 84/100\n",
            "18/18 [==============================] - 0s 4ms/step - loss: 224.9336 - mae: 224.9336 - mse: 269869.2500 - val_loss: 1249.8483 - val_mae: 1249.8483 - val_mse: 5513098.0000\n",
            "Epoch 85/100\n",
            "18/18 [==============================] - 0s 5ms/step - loss: 226.8255 - mae: 226.8255 - mse: 273469.9062 - val_loss: 1248.8396 - val_mae: 1248.8396 - val_mse: 5451507.5000\n",
            "Epoch 86/100\n",
            "18/18 [==============================] - 0s 4ms/step - loss: 224.7192 - mae: 224.7192 - mse: 271943.4062 - val_loss: 1295.6708 - val_mae: 1295.6708 - val_mse: 5696025.0000\n",
            "Epoch 87/100\n",
            "18/18 [==============================] - 0s 4ms/step - loss: 227.7314 - mae: 227.7314 - mse: 270321.6250 - val_loss: 1312.5576 - val_mae: 1312.5576 - val_mse: 5685570.5000\n",
            "Epoch 88/100\n",
            "18/18 [==============================] - 0s 4ms/step - loss: 226.0089 - mae: 226.0089 - mse: 271724.3125 - val_loss: 1531.1237 - val_mae: 1531.1237 - val_mse: 6729364.5000\n",
            "Epoch 89/100\n",
            "18/18 [==============================] - 0s 4ms/step - loss: 232.9869 - mae: 232.9869 - mse: 273172.6562 - val_loss: 1280.1622 - val_mae: 1280.1622 - val_mse: 5573279.0000\n",
            "Epoch 90/100\n",
            "18/18 [==============================] - 0s 4ms/step - loss: 231.6928 - mae: 231.6928 - mse: 278982.4062 - val_loss: 1342.9247 - val_mae: 1342.9247 - val_mse: 5812115.5000\n",
            "Epoch 91/100\n",
            "18/18 [==============================] - 0s 4ms/step - loss: 226.7606 - mae: 226.7606 - mse: 271052.1562 - val_loss: 1259.4496 - val_mae: 1259.4496 - val_mse: 5500164.5000\n",
            "Epoch 92/100\n",
            "18/18 [==============================] - 0s 4ms/step - loss: 225.4304 - mae: 225.4304 - mse: 269325.4688 - val_loss: 1244.5864 - val_mae: 1244.5864 - val_mse: 5482781.5000\n",
            "Epoch 93/100\n",
            "18/18 [==============================] - 0s 5ms/step - loss: 232.3920 - mae: 232.3920 - mse: 274117.9375 - val_loss: 1305.4161 - val_mae: 1305.4161 - val_mse: 5619281.5000\n",
            "Epoch 94/100\n",
            "18/18 [==============================] - 0s 4ms/step - loss: 227.1455 - mae: 227.1455 - mse: 268565.8750 - val_loss: 1278.3682 - val_mae: 1278.3682 - val_mse: 5547783.0000\n",
            "Epoch 95/100\n",
            "18/18 [==============================] - 0s 4ms/step - loss: 226.4553 - mae: 226.4553 - mse: 269101.6250 - val_loss: 1282.0594 - val_mae: 1282.0594 - val_mse: 5621683.0000\n",
            "Epoch 96/100\n",
            "18/18 [==============================] - 0s 4ms/step - loss: 229.8147 - mae: 229.8147 - mse: 273974.4375 - val_loss: 1359.4149 - val_mae: 1359.4149 - val_mse: 5903701.0000\n",
            "Epoch 97/100\n",
            "18/18 [==============================] - 0s 4ms/step - loss: 226.3261 - mae: 226.3261 - mse: 267818.0938 - val_loss: 1261.2343 - val_mae: 1261.2343 - val_mse: 5482404.5000\n",
            "Epoch 98/100\n",
            "18/18 [==============================] - 0s 4ms/step - loss: 227.1718 - mae: 227.1718 - mse: 273941.6875 - val_loss: 1369.7389 - val_mae: 1369.7389 - val_mse: 5913569.5000\n",
            "Epoch 99/100\n",
            "18/18 [==============================] - 0s 5ms/step - loss: 228.8833 - mae: 228.8833 - mse: 273331.1562 - val_loss: 1241.8301 - val_mae: 1241.8301 - val_mse: 5379831.0000\n",
            "Epoch 100/100\n",
            "18/18 [==============================] - 0s 4ms/step - loss: 223.2735 - mae: 223.2735 - mse: 266898.3125 - val_loss: 1300.1523 - val_mae: 1300.1523 - val_mse: 5599956.0000\n"
          ]
        },
        {
          "output_type": "execute_result",
          "data": {
            "text/plain": [
              "<keras.callbacks.History at 0x7f0a55d68e80>"
            ]
          },
          "metadata": {},
          "execution_count": 72
        }
      ]
    },
    {
      "cell_type": "code",
      "source": [
        "# Evaluate the model on the test data\n",
        "\n",
        "model_3.evaluate(test_windows,test_labels)"
      ],
      "metadata": {
        "colab": {
          "base_uri": "https://localhost:8080/"
        },
        "id": "ORsrW-sZ78ZH",
        "outputId": "4c1dc07a-8389-4164-f162-a9f1a2a48342"
      },
      "execution_count": 73,
      "outputs": [
        {
          "output_type": "stream",
          "name": "stdout",
          "text": [
            "18/18 [==============================] - 0s 2ms/step - loss: 1300.1522 - mae: 1300.1522 - mse: 5599956.0000\n"
          ]
        },
        {
          "output_type": "execute_result",
          "data": {
            "text/plain": [
              "[1300.1522216796875, 1300.1522216796875, 5599956.0]"
            ]
          },
          "metadata": {},
          "execution_count": 73
        }
      ]
    },
    {
      "cell_type": "code",
      "source": [
        "# Load best model\n",
        "model_3 = tf.keras.models.load_model(\"model_experiments/model_3_dense\")\n",
        "model_3.evaluate(test_windows,test_labels)"
      ],
      "metadata": {
        "colab": {
          "base_uri": "https://localhost:8080/"
        },
        "id": "0VQGcckJ-Sgp",
        "outputId": "17118699-0d97-42c7-d531-2a1100c79ca9"
      },
      "execution_count": 74,
      "outputs": [
        {
          "output_type": "stream",
          "name": "stdout",
          "text": [
            "18/18 [==============================] - 0s 2ms/step - loss: 1237.5065 - mae: 1237.5065 - mse: 5405199.0000\n"
          ]
        },
        {
          "output_type": "execute_result",
          "data": {
            "text/plain": [
              "[1237.5064697265625, 1237.5064697265625, 5405199.0]"
            ]
          },
          "metadata": {},
          "execution_count": 74
        }
      ]
    },
    {
      "cell_type": "code",
      "source": [
        "# Make predictions with model_3\n",
        "model_3_preds = make_preds(model_3,\n",
        "                           input_data = test_windows)\n",
        "model_3_preds[:5] \n"
      ],
      "metadata": {
        "colab": {
          "base_uri": "https://localhost:8080/"
        },
        "id": "xIzBMJyZ-rmB",
        "outputId": "c8b987dc-c494-472f-b908-421451833eaf"
      },
      "execution_count": 75,
      "outputs": [
        {
          "output_type": "stream",
          "name": "stdout",
          "text": [
            "18/18 [==============================] - 0s 1ms/step\n"
          ]
        },
        {
          "output_type": "execute_result",
          "data": {
            "text/plain": [
              "<tf.Tensor: shape=(5, 7), dtype=float32, numpy=\n",
              "array([[9004.694 , 9048.1   , 9425.09  , 9258.256 , 9495.797 , 9558.453 ,\n",
              "        9357.3545],\n",
              "       [8735.506 , 8840.303 , 9247.793 , 8885.601 , 9097.186 , 9174.327 ,\n",
              "        9156.818 ],\n",
              "       [8672.508 , 8782.387 , 9123.857 , 8770.371 , 9007.13  , 9003.869 ,\n",
              "        9042.725 ],\n",
              "       [8874.399 , 8784.74  , 9043.902 , 8943.052 , 9033.477 , 9176.489 ,\n",
              "        9039.677 ],\n",
              "       [8825.891 , 8777.44  , 8926.78  , 8870.179 , 9213.232 , 9268.156 ,\n",
              "        8942.487 ]], dtype=float32)>"
            ]
          },
          "metadata": {},
          "execution_count": 75
        }
      ]
    },
    {
      "cell_type": "code",
      "source": [
        "# Evaluate model 3 results \n",
        "model_3_results = evaluate_preds(y_true=tf.squeeze(test_labels),\n",
        "                                 y_pred = model_3_preds)\n",
        "model_3_results"
      ],
      "metadata": {
        "colab": {
          "base_uri": "https://localhost:8080/"
        },
        "id": "kVXHuGQE_M4h",
        "outputId": "ad910e8b-79d7-4b85-b3c0-cd5d0a7194f3"
      },
      "execution_count": 76,
      "outputs": [
        {
          "output_type": "execute_result",
          "data": {
            "text/plain": [
              "{'mae': array([ 513.6056  ,  355.08328 ,  327.17075 ,  358.5106  ,  420.53305 ,\n",
              "         537.854   ,  545.66156 ,  485.9228  ,  584.49713 ,  687.3824  ,\n",
              "         836.2264  ,  755.1577  ,  731.4958  ,  775.3399  ,  567.95544 ,\n",
              "         266.80865 ,  188.80225 ,  188.10799 ,  253.095   ,  301.43256 ,\n",
              "         151.10721 ,  196.81473 ,  191.46178 ,  231.65031 ,  143.61125 ,\n",
              "         122.59089 ,  132.78879 ,  190.8118  ,  179.15994 ,  228.26018 ,\n",
              "         314.44022 ,  379.09244 ,  278.32526 ,  295.3471  ,  299.3852  ,\n",
              "         248.64983 ,  299.75662 ,  259.69434 ,  180.30531 ,  206.72922 ,\n",
              "         374.62863 ,  144.85086 ,  142.33635 ,  131.11613 ,   93.941124,\n",
              "          54.825542,   73.79541 ,  103.60128 ,  121.333916,  168.67278 ,\n",
              "         183.90945 ,  152.25307 ,  186.57191 ,  146.91267 ,  240.42912 ,\n",
              "         351.00662 ,  540.952   ,  549.1573  ,  521.2411  ,  526.8554  ,\n",
              "         453.36237 ,  257.98117 ,  277.29486 ,  301.8247  ,  455.718   ,\n",
              "         458.96017 ,  503.4438  ,  522.3119  ,  223.07631 ,  250.09529 ,\n",
              "         297.1437  ,  400.571   ,  495.7984  ,  364.33707 ,  283.36606 ,\n",
              "         325.59543 ,  238.21191 ,  318.9777  ,  460.77106 ,  651.0762  ,\n",
              "         835.88    ,  669.96454 ,  319.54507 ,  261.99442 ,  142.3923  ,\n",
              "         136.62863 ,  154.75223 ,  221.32631 ,  290.50418 ,  503.88406 ,\n",
              "         414.2602  ,  434.35742 ,  377.988   ,  251.78947 ,  204.2832  ,\n",
              "         388.227   ,  360.65793 ,  493.80902 ,  614.861   ,  754.70245 ,\n",
              "         533.7712  ,  378.98898 ,  280.49496 ,  339.48074 ,  413.1289  ,\n",
              "         452.87875 ,  550.5381  ,  634.5726  ,  935.5726  ,  931.60016 ,\n",
              "         881.2803  ,  426.39984 ,  179.45871 ,  121.66197 ,  160.43889 ,\n",
              "         372.07108 ,  341.85764 ,  476.52408 ,  618.3245  , 1038.8986  ,\n",
              "        1569.5028  , 2157.1199  , 1987.6077  , 2158.6108  , 2303.5608  ,\n",
              "        2662.9429  , 1405.5013  ,  728.30096 ,  351.70062 ,  322.03195 ,\n",
              "         493.94748 ,  435.4843  ,  565.5558  ,  350.11676 ,  289.0198  ,\n",
              "         251.21603 ,  409.05615 ,  342.21002 ,  320.8361  ,  330.88608 ,\n",
              "         357.84604 ,  335.94818 ,  206.10303 ,  544.38416 ,  700.00934 ,\n",
              "         468.91992 ,  404.49615 ,  172.80127 ,  308.33685 ,  210.47621 ,\n",
              "         318.9543  ,  486.1326  ,  428.8803  ,  533.9111  ,  433.78146 ,\n",
              "         396.89432 ,  138.40381 ,  189.96658 ,  170.39209 ,  181.54346 ,\n",
              "         282.88992 ,  264.38867 ,  250.6218  ,  240.33762 ,  276.95425 ,\n",
              "         326.02963 ,  489.6155  ,  686.2448  ,  526.9793  ,  603.01135 ,\n",
              "         825.3831  ,  871.0465  ,  990.0687  , 1090.0597  ,  560.2842  ,\n",
              "         310.52246 ,  371.39035 ,  348.45953 ,  355.73438 ,  429.56543 ,\n",
              "         581.2835  ,  550.52203 ,  635.4312  ,  913.404   ,  840.7183  ,\n",
              "         305.0357  ,  493.93332 ,  751.31793 ,  410.6346  ,  220.62444 ,\n",
              "         282.25446 ,  291.8528  ,  422.5039  ,  458.6543  ,  637.2352  ,\n",
              "         647.82336 ,  417.24496 ,  220.23703 ,  246.72209 ,  200.22922 ,\n",
              "         455.1494  ,  719.6059  ,  696.3024  ,  485.0996  ,  294.95297 ,\n",
              "         170.52371 ,  211.82478 ,  270.565   ,  189.89299 ,  171.21736 ,\n",
              "         366.44727 ,  231.96387 ,  318.78738 ,  273.79395 ,  358.55664 ,\n",
              "         412.22797 ,  512.3167  ,  185.43959 ,  196.38225 ,  200.006   ,\n",
              "         224.58678 ,  213.41978 ,  186.23912 ,  113.371376,  172.23228 ,\n",
              "         168.89857 ,  236.0957  ,  307.5971  ,  328.93903 ,  566.59625 ,\n",
              "         285.04395 ,  300.44965 ,  125.45299 ,  168.94322 ,  137.25851 ,\n",
              "         143.5039  ,  145.27776 ,  107.339424,   77.16225 ,  131.87082 ,\n",
              "         134.02023 ,  167.45773 ,  137.9216  ,  148.91336 ,  204.95508 ,\n",
              "         157.89746 ,  196.95256 ,  167.93918 ,  156.45605 ,  188.68094 ,\n",
              "         161.44127 ,   90.99735 ,  136.8411  ,  198.51701 ,  230.1381  ,\n",
              "         294.78348 ,  594.2425  ,  699.6479  ,  815.13574 ,  905.339   ,\n",
              "        1127.2997  , 1342.6945  , 1317.0691  ,  590.1681  ,  296.34515 ,\n",
              "         243.43625 ,  256.3983  ,  222.28459 ,  323.83832 ,   82.513115,\n",
              "         120.14384 ,  249.14914 ,  205.73592 ,  243.4548  ,  250.64803 ,\n",
              "         287.2761  ,  224.38142 ,  266.56027 ,  221.51047 ,  218.4965  ,\n",
              "         272.42285 ,  279.59625 ,  252.5883  ,  381.565   ,  417.97086 ,\n",
              "         624.5573  ,  368.03738 ,  327.25488 ,  263.43973 ,  349.95297 ,\n",
              "         398.62527 ,  297.07407 ,  147.04924 ,  164.5431  ,  313.36328 ,\n",
              "         477.7482  ,  675.0409  ,  897.2679  , 1094.7103  , 1460.1775  ,\n",
              "        1398.586   ,  952.72504 ,  645.959   ,  166.17899 ,  144.66895 ,\n",
              "         189.18289 ,  304.8132  ,  435.10602 ,  449.64383 ,  425.2437  ,\n",
              "         441.93597 ,  407.29465 ,  252.40388 ,  248.36984 ,  336.17105 ,\n",
              "         482.8107  ,  437.53098 ,  533.0868  ,  346.97934 ,  127.68666 ,\n",
              "         110.20843 ,  301.75113 ,  195.50545 ,  174.65164 ,  238.47084 ,\n",
              "         302.3718  ,  313.51758 ,  310.1296  ,  200.29842 ,  172.47307 ,\n",
              "         140.2302  ,  252.48549 ,  289.32437 ,  343.62094 ,  504.1179  ,\n",
              "         635.1342  ,  602.13043 ,  519.06055 ,  214.90276 ,  195.9117  ,\n",
              "         265.0371  ,  198.90123 ,  345.51285 ,  517.2228  ,  631.0296  ,\n",
              "         988.4247  , 1174.214   , 1196.2844  , 1253.9299  ,  526.0653  ,\n",
              "         210.31487 ,  215.27107 ,  169.86008 ,  283.78656 ,  269.76157 ,\n",
              "         228.6349  ,  186.64648 ,  410.54242 ,  601.2651  ,  618.1225  ,\n",
              "         768.7529  , 1158.5457  , 1232.8796  , 1254.4298  ,  423.0244  ,\n",
              "         390.0357  ,  367.23856 ,  209.55775 ,  530.22235 ,  821.38226 ,\n",
              "         812.3729  ,  741.1964  ,  953.4834  , 1258.9906  , 1844.932   ,\n",
              "        1605.2845  , 1112.7659  ,  594.18835 ,  549.7667  ,  632.5435  ,\n",
              "         829.2642  , 1103.2218  , 1130.1029  , 1033.3522  ,  878.5865  ,\n",
              "         595.4085  , 1115.6506  , 1371.1725  , 1385.2511  ,  387.5229  ,\n",
              "         303.7486  ,  495.125   ,  719.5804  ,  648.90265 ,  766.1632  ,\n",
              "         683.23157 ,  596.4121  ,  523.09265 ,  577.3407  , 1337.6213  ,\n",
              "        2454.5972  , 2759.2344  , 3135.8762  , 3407.3806  , 3602.6335  ,\n",
              "        2527.1577  , 1158.0999  ,  679.8432  ,  748.5586  , 1073.4863  ,\n",
              "        1217.7327  , 1459.5656  , 2502.731   , 3075.8247  , 3090.2878  ,\n",
              "        2564.7583  , 2660.5317  , 2928.934   , 3690.556   , 3525.1406  ,\n",
              "        4183.6694  , 5144.068   , 4384.655   , 4164.9604  , 4431.0938  ,\n",
              "        3335.1216  , 3017.6858  , 2589.5396  , 4103.63    , 5582.0933  ,\n",
              "        5108.46    , 1382.9637  ,  953.5419  , 1081.6825  , 2483.1975  ,\n",
              "        2992.0547  , 3127.0942  , 2972.274   , 3054.65    , 3283.713   ,\n",
              "        3617.3674  , 1170.2589  , 1074.1833  , 1059.317   , 1044.5404  ,\n",
              "        1060.6217  , 2115.719   , 3569.8875  , 3474.363   , 2448.0156  ,\n",
              "        2641.418   , 3188.6028  , 4899.915   , 5516.288   , 4635.486   ,\n",
              "        4677.034   , 5732.883   , 5866.738   , 8083.3403  , 5049.8286  ,\n",
              "        1476.2288  , 1873.3275  , 1219.0994  , 2324.073   , 2467.0095  ,\n",
              "        3005.0898  , 2805.0503  , 3688.254   , 2962.7136  , 3664.2388  ,\n",
              "        5618.684   , 6925.097   , 9751.095   , 8790.821   , 5057.626   ,\n",
              "        2971.6848  , 1715.495   , 1125.7706  , 2201.4253  , 3969.4978  ,\n",
              "        2988.5083  , 2911.9285  , 2796.8672  , 3937.8806  , 5449.5894  ,\n",
              "        6395.021   , 6148.243   , 5437.6997  , 4291.8267  , 2362.3967  ,\n",
              "        1657.3405  , 1426.6367  , 1647.7155  , 2730.398   , 1813.7115  ,\n",
              "        2061.1506  , 3095.7227  , 4312.8096  , 5500.727   , 5258.027   ,\n",
              "        5152.0283  , 1331.4062  , 1634.4023  , 2493.4324  , 3957.9526  ,\n",
              "        4499.2144  , 2215.846   , 2587.4119  , 1622.4397  ,  591.875   ,\n",
              "        1297.4727  , 1284.5977  ,  915.22766 ,  940.44977 , 1084.6584  ,\n",
              "         875.8979  , 1041.3549  , 2299.2473  , 3152.6003  , 3518.394   ,\n",
              "        2531.524   , 2682.5737  , 3094.2917  , 3829.3372  , 5550.616   ,\n",
              "        7159.3477  , 8820.524   , 8587.342   , 6777.815   , 5193.292   ,\n",
              "        4793.3384  , 2605.2556  , 1668.3605  , 2510.7183  , 4105.6826  ,\n",
              "        6278.394   , 4109.754   , 1711.1172  , 2261.9832  , 2384.7534  ,\n",
              "        1246.6641  , 1672.8483  , 1103.1345  , 1743.3678  , 1608.4564  ,\n",
              "        1933.904   , 2742.3433  , 3945.3645  , 5765.941   , 6955.8433  ,\n",
              "        8107.7095  ], dtype=float32),\n",
              " 'mse': array([3.15562562e+05, 1.69165047e+05, 1.44132125e+05, 1.76003203e+05,\n",
              "        2.63520375e+05, 3.91517562e+05, 3.99526219e+05, 3.44422156e+05,\n",
              "        4.93892469e+05, 6.88786938e+05, 9.18702875e+05, 8.00988875e+05,\n",
              "        6.35508688e+05, 6.45535812e+05, 3.57740594e+05, 1.03007414e+05,\n",
              "        5.33133203e+04, 4.65832188e+04, 1.10349016e+05, 1.11646961e+05,\n",
              "        4.35359453e+04, 5.45390977e+04, 4.55849648e+04, 7.64883672e+04,\n",
              "        4.03074453e+04, 2.71076816e+04, 1.90270059e+04, 4.55626055e+04,\n",
              "        4.25344805e+04, 6.63250547e+04, 1.16741703e+05, 1.69440500e+05,\n",
              "        1.10487078e+05, 1.59708281e+05, 1.61630891e+05, 1.23861797e+05,\n",
              "        1.50757391e+05, 1.31196844e+05, 5.50280977e+04, 6.28156445e+04,\n",
              "        1.77474219e+05, 2.68842363e+04, 2.53034434e+04, 2.58045059e+04,\n",
              "        1.34594580e+04, 3.88201562e+03, 9.22788672e+03, 1.22403281e+04,\n",
              "        2.20870137e+04, 3.60827500e+04, 4.87961602e+04, 3.74652578e+04,\n",
              "        4.10563438e+04, 4.17418945e+04, 1.10490461e+05, 2.00761469e+05,\n",
              "        3.48149906e+05, 3.58061312e+05, 3.28374031e+05, 2.96505938e+05,\n",
              "        2.33353781e+05, 1.54046719e+05, 1.43171672e+05, 1.62586703e+05,\n",
              "        2.96452750e+05, 2.66880812e+05, 2.94188594e+05, 3.10067562e+05,\n",
              "        6.27178242e+04, 8.63872109e+04, 9.69540391e+04, 2.01815250e+05,\n",
              "        2.97054594e+05, 2.00675078e+05, 1.27305359e+05, 1.32510266e+05,\n",
              "        8.46021953e+04, 1.74816891e+05, 2.95114281e+05, 4.75889719e+05,\n",
              "        7.21893438e+05, 4.62710188e+05, 1.33154703e+05, 8.13637656e+04,\n",
              "        3.43107852e+04, 3.45205547e+04, 5.36855352e+04, 7.42412266e+04,\n",
              "        1.09339273e+05, 2.79682500e+05, 2.19119391e+05, 1.99934375e+05,\n",
              "        1.65902594e+05, 8.16736484e+04, 4.82389180e+04, 1.65301344e+05,\n",
              "        1.81698328e+05, 3.30644938e+05, 4.63626844e+05, 6.75045625e+05,\n",
              "        3.34911812e+05, 1.69344000e+05, 1.03219461e+05, 1.48348172e+05,\n",
              "        2.98685688e+05, 3.71952438e+05, 4.43305844e+05, 5.27905000e+05,\n",
              "        1.12945238e+06, 1.00652912e+06, 8.03246812e+05, 2.21277531e+05,\n",
              "        6.64889766e+04, 2.66179375e+04, 3.29691523e+04, 1.68663719e+05,\n",
              "        1.76257344e+05, 2.99364906e+05, 4.31794719e+05, 1.91346938e+06,\n",
              "        3.90354050e+06, 6.29502550e+06, 5.49042500e+06, 6.25677100e+06,\n",
              "        6.28618500e+06, 7.23876700e+06, 2.08143475e+06, 6.66785812e+05,\n",
              "        1.44640328e+05, 1.83413734e+05, 3.41025938e+05, 3.02068688e+05,\n",
              "        3.71339250e+05, 2.02418469e+05, 1.36150797e+05, 8.24756250e+04,\n",
              "        1.96007016e+05, 1.61595625e+05, 1.71401094e+05, 2.00606781e+05,\n",
              "        2.37199281e+05, 1.58720219e+05, 6.36029766e+04, 3.38904938e+05,\n",
              "        5.23524188e+05, 2.86211969e+05, 1.92325922e+05, 3.73764375e+04,\n",
              "        1.31962375e+05, 9.33164844e+04, 1.18443625e+05, 3.00599344e+05,\n",
              "        2.28997641e+05, 3.57954781e+05, 2.36219172e+05, 1.71530031e+05,\n",
              "        2.68483613e+04, 4.79165352e+04, 4.00421953e+04, 5.41032422e+04,\n",
              "        1.07641438e+05, 9.80018828e+04, 7.08349922e+04, 6.55987812e+04,\n",
              "        8.53739609e+04, 1.33836688e+05, 2.72516031e+05, 6.54133000e+05,\n",
              "        4.97211812e+05, 6.11189312e+05, 9.92908312e+05, 9.56691312e+05,\n",
              "        1.09541312e+06, 1.19283188e+06, 3.75002188e+05, 2.22053828e+05,\n",
              "        2.60620156e+05, 1.88108875e+05, 1.87927750e+05, 2.49059219e+05,\n",
              "        3.79191938e+05, 4.07706812e+05, 6.24782625e+05, 9.62080500e+05,\n",
              "        7.95344312e+05, 1.40557766e+05, 2.65226344e+05, 6.26269938e+05,\n",
              "        2.05804641e+05, 6.53085820e+04, 1.33562875e+05, 1.14691586e+05,\n",
              "        2.26913922e+05, 2.61227344e+05, 5.08516812e+05, 4.90744344e+05,\n",
              "        2.38722219e+05, 6.85554844e+04, 7.30579844e+04, 5.36114375e+04,\n",
              "        3.28222750e+05, 6.26447562e+05, 5.17733938e+05, 3.32536906e+05,\n",
              "        1.72656625e+05, 8.28139297e+04, 1.43392859e+05, 8.83170859e+04,\n",
              "        5.15845234e+04, 4.20796602e+04, 1.78049500e+05, 1.17352047e+05,\n",
              "        1.16870359e+05, 1.02416914e+05, 1.67489453e+05, 2.05509344e+05,\n",
              "        2.73222562e+05, 4.73887266e+04, 4.60582461e+04, 5.33724297e+04,\n",
              "        7.87067500e+04, 7.06484219e+04, 5.23133984e+04, 2.50282949e+04,\n",
              "        4.52028984e+04, 4.14731211e+04, 7.00108125e+04, 1.24132516e+05,\n",
              "        1.34167734e+05, 3.38401844e+05, 9.75608906e+04, 1.10023234e+05,\n",
              "        1.99198105e+04, 3.32736992e+04, 2.43713613e+04, 2.76616055e+04,\n",
              "        2.70385918e+04, 1.58114443e+04, 1.16168496e+04, 2.74852637e+04,\n",
              "        2.95268613e+04, 3.95873516e+04, 2.81845449e+04, 3.19157754e+04,\n",
              "        5.60373164e+04, 3.98339648e+04, 5.02201758e+04, 3.19762402e+04,\n",
              "        2.96142949e+04, 4.48334258e+04, 4.32264375e+04, 1.52424111e+04,\n",
              "        2.86075918e+04, 4.23484023e+04, 7.25031172e+04, 1.21924250e+05,\n",
              "        6.41490500e+05, 8.50461375e+05, 1.11135250e+06, 1.22003288e+06,\n",
              "        1.54110100e+06, 2.03451888e+06, 1.76440675e+06, 4.22098719e+05,\n",
              "        1.30513617e+05, 7.30579375e+04, 8.56106875e+04, 7.42399219e+04,\n",
              "        1.49466484e+05, 1.25624111e+04, 2.13100684e+04, 9.81801094e+04,\n",
              "        7.28017891e+04, 1.26064570e+05, 1.01337180e+05, 1.24553477e+05,\n",
              "        7.13406719e+04, 8.41951797e+04, 6.25290625e+04, 8.18796172e+04,\n",
              "        1.27303258e+05, 8.94660078e+04, 1.04100891e+05, 1.66147531e+05,\n",
              "        2.32076047e+05, 4.41966531e+05, 1.75839109e+05, 1.76445078e+05,\n",
              "        9.12171094e+04, 1.67975547e+05, 1.87876500e+05, 1.07636641e+05,\n",
              "        3.26579023e+04, 5.35408945e+04, 1.38144219e+05, 3.28639000e+05,\n",
              "        6.38893000e+05, 1.08279062e+06, 1.55802688e+06, 2.42137000e+06,\n",
              "        2.08980188e+06, 9.83022000e+05, 4.27435062e+05, 5.84014375e+04,\n",
              "        4.02858125e+04, 5.27582695e+04, 1.33694031e+05, 2.41685969e+05,\n",
              "        2.54569906e+05, 2.18475656e+05, 2.39844203e+05, 1.72919391e+05,\n",
              "        9.46134297e+04, 8.14815547e+04, 1.83792781e+05, 3.41631688e+05,\n",
              "        2.67091656e+05, 3.54821562e+05, 1.69607172e+05, 2.63052148e+04,\n",
              "        2.11336660e+04, 1.11685516e+05, 6.08848320e+04, 4.64013945e+04,\n",
              "        6.97663359e+04, 1.16935750e+05, 1.44631531e+05, 1.14627359e+05,\n",
              "        7.92805547e+04, 5.69165547e+04, 3.03999824e+04, 9.47754453e+04,\n",
              "        1.19674555e+05, 2.15399078e+05, 3.15528062e+05, 4.17612281e+05,\n",
              "        3.91753469e+05, 2.83128781e+05, 8.15815625e+04, 5.00838711e+04,\n",
              "        1.01595758e+05, 6.17700664e+04, 3.16725938e+05, 5.76747812e+05,\n",
              "        7.41102938e+05, 1.33218062e+06, 1.56516288e+06, 1.55553262e+06,\n",
              "        1.68517800e+06, 3.21848812e+05, 6.30699648e+04, 7.78368047e+04,\n",
              "        5.12543789e+04, 1.14444672e+05, 1.13520664e+05, 7.03018281e+04,\n",
              "        4.71100312e+04, 4.52434969e+05, 7.79104812e+05, 7.32536688e+05,\n",
              "        1.03909069e+06, 1.56208825e+06, 1.63956662e+06, 1.72790162e+06,\n",
              "        4.00524938e+05, 2.34607969e+05, 1.76724578e+05, 6.78014375e+04,\n",
              "        3.90380906e+05, 9.80138500e+05, 1.03536912e+06, 8.44671688e+05,\n",
              "        1.38894238e+06, 1.98340575e+06, 3.62835000e+06, 2.66920550e+06,\n",
              "        1.42116625e+06, 4.54600656e+05, 3.65966188e+05, 9.46591875e+05,\n",
              "        1.45184338e+06, 1.85899962e+06, 1.89930900e+06, 1.82373088e+06,\n",
              "        1.21286275e+06, 4.94639656e+05, 1.49650112e+06, 2.03091888e+06,\n",
              "        2.25657600e+06, 2.11181391e+05, 1.21395414e+05, 3.04311312e+05,\n",
              "        7.11903125e+05, 6.20310625e+05, 8.05388000e+05, 6.26904125e+05,\n",
              "        5.66389625e+05, 4.27519062e+05, 7.83490438e+05, 3.63024725e+06,\n",
              "        8.18037700e+06, 1.07676110e+07, 1.26563590e+07, 1.33500370e+07,\n",
              "        1.33957210e+07, 6.52510400e+06, 1.60696225e+06, 8.56755125e+05,\n",
              "        1.15616888e+06, 1.69268262e+06, 2.17123725e+06, 3.34217825e+06,\n",
              "        7.84993050e+06, 1.08378820e+07, 1.05727040e+07, 1.01602590e+07,\n",
              "        1.14205950e+07, 1.16179760e+07, 1.73510000e+07, 1.79301540e+07,\n",
              "        2.70626400e+07, 3.72665360e+07, 2.97687480e+07, 2.14580120e+07,\n",
              "        2.44065800e+07, 1.56006630e+07, 1.03771430e+07, 9.93532300e+06,\n",
              "        2.18889420e+07, 3.45002520e+07, 2.72495560e+07, 2.51544575e+06,\n",
              "        2.11410050e+06, 1.65101438e+06, 8.78065100e+06, 1.42263850e+07,\n",
              "        1.50277490e+07, 1.42628800e+07, 1.11521150e+07, 1.31385830e+07,\n",
              "        1.44270310e+07, 2.10808025e+06, 2.37276825e+06, 2.06520375e+06,\n",
              "        1.51271862e+06, 1.63592488e+06, 6.01036300e+06, 1.48181600e+07,\n",
              "        1.51462650e+07, 8.88826800e+06, 1.03656160e+07, 1.24236500e+07,\n",
              "        3.12300380e+07, 4.44121720e+07, 3.35616920e+07, 3.37025520e+07,\n",
              "        4.33024880e+07, 4.04648120e+07, 6.68120760e+07, 2.68143000e+07,\n",
              "        3.37227625e+06, 6.18198100e+06, 3.33603075e+06, 9.76003500e+06,\n",
              "        9.50540900e+06, 1.48300480e+07, 1.08089090e+07, 1.52812330e+07,\n",
              "        1.21298720e+07, 1.47111110e+07, 4.46197040e+07, 6.19226600e+07,\n",
              "        1.05739152e+08, 8.06071200e+07, 3.00356780e+07, 1.30779050e+07,\n",
              "        4.55989850e+06, 1.67929975e+06, 6.99429200e+06, 1.63486880e+07,\n",
              "        1.21498720e+07, 1.21798100e+07, 1.68979380e+07, 2.39387620e+07,\n",
              "        3.73065320e+07, 5.09610680e+07, 4.59522160e+07, 3.20003220e+07,\n",
              "        2.06371660e+07, 8.14506450e+06, 4.14795200e+06, 4.23500700e+06,\n",
              "        3.09785350e+06, 8.37916900e+06, 7.36109850e+06, 7.06096000e+06,\n",
              "        1.57310800e+07, 2.78767000e+07, 4.07340160e+07, 3.28521320e+07,\n",
              "        2.89016620e+07, 3.40229975e+06, 3.84223750e+06, 8.10805100e+06,\n",
              "        1.74778640e+07, 2.13824540e+07, 5.77503650e+06, 7.30699550e+06,\n",
              "        3.70580475e+06, 6.14523812e+05, 1.92766775e+06, 2.29575050e+06,\n",
              "        1.09031838e+06, 1.19422512e+06, 2.01535212e+06, 1.38584200e+06,\n",
              "        2.60915475e+06, 7.48125100e+06, 1.25728590e+07, 1.49188430e+07,\n",
              "        7.64713050e+06, 9.50859600e+06, 1.16537280e+07, 2.15389020e+07,\n",
              "        4.32745680e+07, 6.52255360e+07, 9.30124960e+07, 8.49971200e+07,\n",
              "        5.87007160e+07, 3.43533080e+07, 2.82686400e+07, 9.30443000e+06,\n",
              "        4.66935400e+06, 8.00185850e+06, 2.05975080e+07, 4.07234520e+07,\n",
              "        1.93118560e+07, 4.04351800e+06, 5.92505450e+06, 7.37347950e+06,\n",
              "        2.68488600e+06, 5.27761950e+06, 1.84824825e+06, 4.87236000e+06,\n",
              "        4.87888300e+06, 5.77537050e+06, 1.21702160e+07, 2.70199620e+07,\n",
              "        4.94704520e+07, 6.90301360e+07, 8.50554960e+07], dtype=float32),\n",
              " 'rmse': array([  561.7495 ,   411.29678,   379.64737,   419.52734,   513.34235,\n",
              "          625.7136 ,   632.0809 ,   586.8749 ,   702.77484,   829.9319 ,\n",
              "          958.48987,   894.9798 ,   797.188  ,   803.45245,   598.1142 ,\n",
              "          320.9477 ,   230.89677,   215.83145,   332.18823,   334.13614,\n",
              "          208.65268,   233.53607,   213.50635,   276.5653 ,   200.76714,\n",
              "          164.6441 ,   137.93842,   213.454  ,   206.23889,   257.5365 ,\n",
              "          341.67484,   411.6315 ,   332.39597,   399.6352 ,   402.03345,\n",
              "          351.94003,   388.2749 ,   362.21103,   234.58067,   250.6305 ,\n",
              "          421.2769 ,   163.96413,   159.07056,   160.6378 ,   116.0149 ,\n",
              "           62.30582,    96.06189,   110.63602,   148.617  ,   189.9546 ,\n",
              "          220.89853,   193.55943,   202.62364,   204.30833,   332.40106,\n",
              "          448.06412,   590.0423 ,   598.3822 ,   573.03925,   544.52356,\n",
              "          483.06705,   392.48785,   378.3803 ,   403.22043,   544.47473,\n",
              "          516.60504,   542.39154,   556.8371 ,   250.43527,   293.917  ,\n",
              "          311.37442,   449.23853,   545.02716,   447.9677 ,   356.79877,\n",
              "          364.0196 ,   290.86456,   418.11108,   543.2442 ,   689.8476 ,\n",
              "          849.6431 ,   680.228  ,   364.9037 ,   285.24335,   185.2317 ,\n",
              "          185.79707,   231.70139,   272.47244,   330.6649 ,   528.85016,\n",
              "          468.1019 ,   447.1402 ,   407.3114 ,   285.786  ,   219.63359,\n",
              "          406.5727 ,   426.26086,   575.01733,   680.9015 ,   821.6116 ,\n",
              "          578.71564,   411.51428,   321.27786,   385.1599 ,   546.5214 ,\n",
              "          609.879  ,   665.81213,   726.5707 ,  1062.757  ,  1003.2593 ,\n",
              "          896.24036,   470.40146,   257.85455,   163.15005,   181.5741 ,\n",
              "          410.6869 ,   419.83014,   547.14246,   657.1109 ,  1383.2821 ,\n",
              "         1975.7379 ,  2508.9888 ,  2343.1655 ,  2501.3538 ,  2507.2266 ,\n",
              "         2690.4956 ,  1442.7178 ,   816.5695 ,   380.3161 ,   428.26828,\n",
              "          583.97424,   549.6077 ,   609.3761 ,   449.9094 ,   368.98618,\n",
              "          287.1857 ,   442.7268 ,   401.9896 ,   414.00616,   447.89148,\n",
              "          487.0311 ,   398.39706,   252.1963 ,   582.1554 ,   723.54974,\n",
              "          534.98785,   438.5498 ,   193.32986,   363.26624,   305.47745,\n",
              "          344.1564 ,   548.2694 ,   478.537  ,   598.2932 ,   486.02383,\n",
              "          414.16183,   163.85469,   218.89845,   200.10545,   232.60104,\n",
              "          328.08755,   313.05252,   266.14844,   256.1226 ,   292.18823,\n",
              "          365.83694,   522.03064,   808.7849 ,   705.13245,   781.78595,\n",
              "          996.4478 ,   978.10596,  1046.6199 ,  1092.1685 ,   612.3742 ,\n",
              "          471.22586,   510.5097 ,   433.7152 ,   433.50635,   499.05832,\n",
              "          615.7856 ,   638.5192 ,   790.4319 ,   980.857  ,   891.82074,\n",
              "          374.91034,   515.0013 ,   791.3722 ,   453.65695,   255.55544,\n",
              "          365.46252,   338.66144,   476.35483,   511.10403,   713.10364,\n",
              "          700.5315 ,   488.59207,   261.83102,   270.2924 ,   231.54144,\n",
              "          572.9073 ,   791.4844 ,   719.5373 ,   576.6601 ,   415.51968,\n",
              "          287.7741 ,   378.6725 ,   297.1819 ,   227.12227,   205.13327,\n",
              "          421.95914,   342.56683,   341.86307,   320.02643,   409.25476,\n",
              "          453.3314 ,   522.707  ,   217.68951,   214.61185,   231.02473,\n",
              "          280.54724,   265.7977 ,   228.72122,   158.20334,   212.60973,\n",
              "          203.6495 ,   264.59555,   352.32443,   366.28912,   581.72314,\n",
              "          312.34738,   331.6975 ,   141.13756,   182.4108 ,   156.1133 ,\n",
              "          166.31778,   164.43416,   125.74356,   107.78149,   165.7868 ,\n",
              "          171.83382,   198.9657 ,   167.88252,   178.64987,   236.72202,\n",
              "          199.58447,   224.09859,   178.81902,   172.08804,   211.73904,\n",
              "          207.90968,   123.46016,   169.13779,   205.78728,   269.26404,\n",
              "          349.1765 ,   800.93097,   922.20465,  1054.207  ,  1104.551  ,\n",
              "         1241.4109 ,  1426.3656 ,  1328.3097 ,   649.6912 ,   361.2667 ,\n",
              "          270.29233,   292.59305,   272.47003,   386.60898,   112.08216,\n",
              "          145.97968,   313.33704,   269.81805,   355.05573,   318.33502,\n",
              "          352.92136,   267.09674,   290.16406,   250.05812,   286.14615,\n",
              "          356.7958 ,   299.10867,   322.6467 ,   407.61197,   481.7427 ,\n",
              "          664.8056 ,   419.33173,   420.05365,   302.0217 ,   409.8482 ,\n",
              "          433.44724,   328.08023,   180.71498,   231.38905,   371.67758,\n",
              "          573.27045,   799.3078 ,  1040.5723 ,  1248.2095 ,  1556.0752 ,\n",
              "         1445.6147 ,   991.4747 ,   653.78516,   241.6639 ,   200.71326,\n",
              "          229.69168,   365.64194,   491.61566,   504.5492 ,   467.4138 ,\n",
              "          489.73892,   415.83575,   307.59296,   285.44974,   428.7106 ,\n",
              "          584.4927 ,   516.8091 ,   595.669  ,   411.83392,   162.18883,\n",
              "          145.37422,   334.19382,   246.74852,   215.40982,   264.13318,\n",
              "          341.95868,   380.30453,   338.56662,   281.56802,   238.5719 ,\n",
              "          174.35591,   307.8562 ,   345.9401 ,   464.11105,   561.7188 ,\n",
              "          646.2293 ,   625.9021 ,   532.09845,   285.62488,   223.79427,\n",
              "          318.74088,   248.53584,   562.78406,   759.43915,   860.87335,\n",
              "         1154.2013 ,  1251.0647 ,  1247.21   ,  1298.144  ,   567.3172 ,\n",
              "          251.13734,   278.99246,   226.3943 ,   338.29672,   336.92828,\n",
              "          265.14493,   217.04845,   672.6329 ,   882.6691 ,   855.88354,\n",
              "         1019.358  ,  1249.8352 ,  1280.4556 ,  1314.4967 ,   632.87036,\n",
              "          484.36346,   420.38623,   260.3871 ,   624.8047 ,   990.0194 ,\n",
              "         1017.5309 ,   919.0602 ,  1178.5339 ,  1408.3344 ,  1904.8229 ,\n",
              "         1633.7703 ,  1192.1268 ,   674.2408 ,   604.95135,   972.9295 ,\n",
              "         1204.9246 ,  1363.4513 ,  1378.1542 ,  1350.4558 ,  1101.3004 ,\n",
              "          703.3062 ,  1223.3156 ,  1425.1031 ,  1502.1904 ,   459.54477,\n",
              "          348.41843,   551.64417,   843.7435 ,   787.598  ,   897.4341 ,\n",
              "          791.77277,   752.5886 ,   653.8494 ,   885.14996,  1905.3208 ,\n",
              "         2860.1357 ,  3281.4038 ,  3557.5776 ,  3653.7703 ,  3660.0164 ,\n",
              "         2554.4282 ,  1267.6602 ,   925.61066,  1075.2529 ,  1301.0314 ,\n",
              "         1473.5118 ,  1828.1625 ,  2801.7727 ,  3292.0938 ,  3251.5696 ,\n",
              "         3187.516  ,  3379.437  ,  3408.5151 ,  4165.453  ,  4234.401  ,\n",
              "         5202.1763 ,  6104.6323 ,  5456.074  ,  4632.2793 ,  4940.3013 ,\n",
              "         3949.7673 ,  3221.3572 ,  3152.0347 ,  4678.562  ,  5873.6914 ,\n",
              "         5220.111  ,  1586.0157 ,  1453.9946 ,  1284.9181 ,  2963.2163 ,\n",
              "         3771.788  ,  3876.564  ,  3776.6228 ,  3339.4783 ,  3624.7183 ,\n",
              "         3798.2932 ,  1451.9229 ,  1540.3793 ,  1437.0817 ,  1229.9263 ,\n",
              "         1279.0327 ,  2451.6042 ,  3849.4363 ,  3891.8203 ,  2981.3198 ,\n",
              "         3219.5676 ,  3524.72   ,  5588.3843 ,  6664.2456 ,  5793.245  ,\n",
              "         5805.3896 ,  6580.4624 ,  6361.196  ,  8173.865  ,  5178.2524 ,\n",
              "         1836.3759 ,  2486.359  ,  1826.4805 ,  3124.1055 ,  3083.0842 ,\n",
              "         3850.98   ,  3287.6904 ,  3909.1218 ,  3482.7966 ,  3835.5066 ,\n",
              "         6679.798  ,  7869.095  , 10282.954  ,  8978.146  ,  5480.4814 ,\n",
              "         3616.3386 ,  2135.3918 ,  1295.8779 ,  2644.6724 ,  4043.351  ,\n",
              "         3485.6667 ,  3489.9585 ,  4110.71   ,  4892.725  ,  6107.907  ,\n",
              "         7138.702  ,  6778.8066 ,  5656.883  ,  4542.8145 ,  2853.9558 ,\n",
              "         2036.6521 ,  2057.9133 ,  1760.072  ,  2894.6794 ,  2713.1345 ,\n",
              "         2657.2466 ,  3966.2424 ,  5279.839  ,  6382.3203 ,  5731.6777 ,\n",
              "         5376.0264 ,  1844.5323 ,  1960.1626 ,  2847.4639 ,  4180.6533 ,\n",
              "         4624.1167 ,  2403.1304 ,  2703.1455 ,  1925.0466 ,   783.91565,\n",
              "         1388.4048 ,  1515.1733 ,  1044.1831 ,  1092.806  ,  1419.631  ,\n",
              "         1177.2179 ,  1615.2878 ,  2735.1875 ,  3545.8228 ,  3862.492  ,\n",
              "         2765.3445 ,  3083.601  ,  3413.7559 ,  4641.002  ,  6578.341  ,\n",
              "         8076.233  ,  9644.299  ,  9219.388  ,  7661.639  ,  5861.1694 ,\n",
              "         5316.826  ,  3050.3164 ,  2160.8687 ,  2828.7556 ,  4538.4478 ,\n",
              "         6381.4927 ,  4394.5254 ,  2010.85   ,  2434.1433 ,  2715.415  ,\n",
              "         1638.5621 ,  2297.307  ,  1359.5029 ,  2207.3423 ,  2208.8193 ,\n",
              "         2403.2    ,  3488.5837 ,  5198.0728 ,  7033.5234 ,  8308.4375 ,\n",
              "         9222.554  ], dtype=float32),\n",
              " 'mape': array([ 5.860151  ,  4.087341  ,  3.775816  ,  4.187658  ,  4.9781423 ,\n",
              "         6.448365  ,  6.6144614 ,  6.061672  ,  7.5475917 ,  9.095927  ,\n",
              "        11.300206  , 10.396474  , 10.109089  , 10.697326  ,  7.8628473 ,\n",
              "         3.6872826 ,  2.585637  ,  2.505004  ,  3.350452  ,  4.013581  ,\n",
              "         2.0036225 ,  2.6397398 ,  2.6087885 ,  3.1609263 ,  1.9612128 ,\n",
              "         1.6679873 ,  1.7952291 ,  2.5901227 ,  2.4362576 ,  3.1327405 ,\n",
              "         4.3595424 ,  5.285637  ,  3.940355  ,  4.3142257 ,  4.3733144 ,\n",
              "         3.6376853 ,  4.3629785 ,  3.7757437 ,  2.6192946 ,  2.900764  ,\n",
              "         5.1501083 ,  2.0147362 ,  1.9706653 ,  1.8104146 ,  1.3007245 ,\n",
              "         0.7535146 ,  1.0192324 ,  1.4282739 ,  1.6741855 ,  2.3589702 ,\n",
              "         2.563099  ,  2.1327195 ,  2.5974853 ,  2.0173264 ,  3.1387615 ,\n",
              "         4.502132  ,  6.95963   ,  6.9602227 ,  6.5331383 ,  6.5757856 ,\n",
              "         5.610285  ,  3.0642037 ,  3.2474003 ,  3.484728  ,  5.2227206 ,\n",
              "         5.2294765 ,  5.727937  ,  5.927383  ,  2.5284474 ,  2.8664036 ,\n",
              "         3.4308906 ,  4.68742   ,  5.841512  ,  4.309815  ,  3.3552825 ,\n",
              "         3.8162112 ,  2.7363598 ,  3.4623704 ,  4.9716797 ,  7.0261016 ,\n",
              "         8.974979  ,  7.1678147 ,  3.4013336 ,  2.7761197 ,  1.5223246 ,\n",
              "         1.4535493 ,  1.6354663 ,  2.252781  ,  2.947562  ,  5.0738955 ,\n",
              "         4.103283  ,  4.2952995 ,  3.7052832 ,  2.4620771 ,  2.0132227 ,\n",
              "         3.84283   ,  3.6306522 ,  5.016276  ,  6.279475  ,  7.757472  ,\n",
              "         5.495675  ,  3.8907118 ,  2.854692  ,  3.5311143 ,  4.464893  ,\n",
              "         5.0162416 ,  6.125715  ,  7.129436  , 10.711449  , 10.664078  ,\n",
              "        10.087246  ,  4.893629  ,  2.0717275 ,  1.3628381 ,  1.8011156 ,\n",
              "         4.219881  ,  4.0556946 ,  5.744895  ,  7.49288   , 15.03298   ,\n",
              "        24.388466  , 35.428123  , 34.702423  , 39.8611    , 42.836586  ,\n",
              "        49.60461   , 26.081121  , 13.669951  ,  6.3608704 ,  5.4986424 ,\n",
              "         7.9925127 ,  6.8575373 ,  8.820604  ,  5.3112006 ,  4.5279126 ,\n",
              "         3.8704064 ,  6.2283874 ,  5.2470317 ,  5.1045504 ,  5.329427  ,\n",
              "         5.7789717 ,  5.358489  ,  3.2211251 ,  8.118447  , 10.231979  ,\n",
              "         6.726865  ,  5.757307  ,  2.404117  ,  4.2864566 ,  2.9776995 ,\n",
              "         4.4548492 ,  6.9262066 ,  6.1590796 ,  7.763827  ,  6.3082023 ,\n",
              "         5.7371473 ,  1.9719498 ,  2.7191217 ,  2.399884  ,  2.5685852 ,\n",
              "         3.9529998 ,  3.6584747 ,  3.4535587 ,  3.301876  ,  3.794225  ,\n",
              "         4.310312  ,  6.4319797 ,  8.567103  ,  6.293656  ,  7.023875  ,\n",
              "         9.469172  ,  9.915061  , 11.217032  , 12.280664  ,  6.209284  ,\n",
              "         3.2802799 ,  3.8508568 ,  3.6124706 ,  3.7172365 ,  4.6127863 ,\n",
              "         6.233847  ,  6.0376983 ,  7.135962  , 10.132261  ,  9.337389  ,\n",
              "         3.379456  ,  5.190334  ,  7.8229227 ,  4.264503  ,  2.3285017 ,\n",
              "         3.0320892 ,  3.1225486 ,  4.572195  ,  5.01346   ,  7.059326  ,\n",
              "         7.1808734 ,  4.628824  ,  2.4294448 ,  2.6893463 ,  2.1346915 ,\n",
              "         4.670391  ,  7.4296794 ,  7.17774   ,  4.927452  ,  2.9697587 ,\n",
              "         1.7036037 ,  2.102083  ,  2.790086  ,  1.9540966 ,  1.7562671 ,\n",
              "         3.8170424 ,  2.455728  ,  3.3356586 ,  2.8912692 ,  3.8006883 ,\n",
              "         4.368519  ,  5.4371586 ,  1.969062  ,  2.0868657 ,  2.132989  ,\n",
              "         2.4014482 ,  2.2829754 ,  1.9878371 ,  1.212721  ,  1.8306261 ,\n",
              "         1.815668  ,  2.5207548 ,  3.292389  ,  3.5837185 ,  6.187771  ,\n",
              "         3.1184072 ,  3.2884552 ,  1.3740312 ,  1.8472781 ,  1.5017242 ,\n",
              "         1.56714   ,  1.5889224 ,  1.1630667 ,  0.83712757,  1.4223003 ,\n",
              "         1.4407552 ,  1.8029895 ,  1.4796977 ,  1.599085  ,  2.2175858 ,\n",
              "         1.7130921 ,  2.1422663 ,  1.8232723 ,  1.7015604 ,  2.0563033 ,\n",
              "         1.7596658 ,  0.98229367,  1.4560665 ,  2.1070144 ,  2.4114134 ,\n",
              "         3.0499952 ,  5.77384   ,  6.6185617 ,  7.4951463 ,  8.227665  ,\n",
              "        10.186892  , 11.928123  , 11.676128  ,  5.199712  ,  2.592971  ,\n",
              "         2.1249874 ,  2.23352   ,  1.9233074 ,  2.8466196 ,  0.7076641 ,\n",
              "         1.0350558 ,  2.1322331 ,  1.7789838 ,  2.1161134 ,  2.1635559 ,\n",
              "         2.4792871 ,  1.9270623 ,  2.255131  ,  1.845723  ,  1.811268  ,\n",
              "         2.2626755 ,  2.3515134 ,  2.117338  ,  3.2111607 ,  3.5736072 ,\n",
              "         5.371579  ,  3.1869485 ,  2.8585389 ,  2.2958062 ,  3.0580995 ,\n",
              "         3.4806094 ,  2.5900195 ,  1.2625039 ,  1.405033  ,  2.7622333 ,\n",
              "         4.3049507 ,  6.2830634 ,  8.513557  , 10.517092  , 14.161083  ,\n",
              "        13.64061   ,  9.320249  ,  6.3080707 ,  1.6300529 ,  1.3983192 ,\n",
              "         1.819187  ,  2.8875935 ,  4.0688186 ,  4.173644  ,  3.9228578 ,\n",
              "         4.0472693 ,  3.7387352 ,  2.3069754 ,  2.306329  ,  3.194118  ,\n",
              "         4.589591  ,  4.1579466 ,  5.0558167 ,  3.300564  ,  1.2102793 ,\n",
              "         1.0371078 ,  2.8088493 ,  1.8151473 ,  1.6353133 ,  2.2353556 ,\n",
              "         2.8412106 ,  2.9520082 ,  2.918753  ,  1.8913203 ,  1.6178724 ,\n",
              "         1.2982846 ,  2.3039372 ,  2.6034815 ,  3.0176406 ,  4.4442587 ,\n",
              "         5.598941  ,  5.266945  ,  4.535595  ,  1.8671705 ,  1.7055051 ,\n",
              "         2.3196983 ,  1.7318262 ,  2.7897274 ,  4.062607  ,  4.8944464 ,\n",
              "         7.6816387 ,  9.1078005 ,  9.207178  ,  9.502263  ,  3.9754753 ,\n",
              "         1.5744725 ,  1.5996995 ,  1.242373  ,  2.077033  ,  1.9747171 ,\n",
              "         1.6764205 ,  1.3502657 ,  2.785834  ,  3.9915614 ,  4.0835915 ,\n",
              "         5.016293  ,  7.6388426 ,  8.078356  ,  8.109144  ,  2.6612601 ,\n",
              "         2.4994817 ,  2.296388  ,  1.3040293 ,  3.2585542 ,  4.9145126 ,\n",
              "         4.7377963 ,  4.2538853 ,  5.3531475 ,  6.980067  , 10.170471  ,\n",
              "         8.772198  ,  6.0037904 ,  3.184009  ,  3.0089974 ,  3.6370165 ,\n",
              "         4.774086  ,  6.289237  ,  6.4191914 ,  5.904084  ,  4.996318  ,\n",
              "         3.1905975 ,  5.85623   ,  7.181029  ,  7.2116575 ,  2.0219858 ,\n",
              "         1.5912374 ,  2.6243296 ,  3.8534112 ,  3.5140622 ,  4.1405344 ,\n",
              "         3.6843975 ,  3.215591  ,  2.8228238 ,  2.88985   ,  6.284895  ,\n",
              "        11.458011  , 12.342679  , 13.76467   , 14.824157  , 15.566195  ,\n",
              "        10.829554  ,  4.9278164 ,  2.8345594 ,  3.0226746 ,  4.3117876 ,\n",
              "         4.720057  ,  5.5167937 ,  9.303037  , 11.212705  , 11.037068  ,\n",
              "         8.631595  ,  8.57773   ,  9.389047  , 11.49777   , 10.463528  ,\n",
              "        11.683611  , 13.823773  , 11.273861  , 10.805959  , 11.400708  ,\n",
              "         8.496614  ,  7.8893795 ,  7.1694746 , 11.423845  , 15.540586  ,\n",
              "        14.24639   ,  3.8430889 ,  2.5450244 ,  2.926231  ,  7.2883105 ,\n",
              "         8.999361  ,  9.586315  ,  9.271843  ,  9.42326   , 10.242951  ,\n",
              "        11.39661   ,  3.655802  ,  3.3454576 ,  3.2290843 ,  3.1591043 ,\n",
              "         3.1852615 ,  6.141231  , 10.163145  ,  9.673941  ,  6.657334  ,\n",
              "         6.975822  ,  8.377457  , 12.244591  , 13.002367  , 10.547288  ,\n",
              "        10.269909  , 12.405405  , 12.598534  , 17.187767  , 10.616799  ,\n",
              "         3.0717638 ,  3.766271  ,  2.39153   ,  4.426362  ,  4.6217623 ,\n",
              "         5.4785867 ,  5.115232  ,  6.8264303 ,  5.6151514 ,  7.090962  ,\n",
              "        11.599259  , 14.5101595 , 20.67855   , 18.67078   , 10.813845  ,\n",
              "         6.3959217 ,  3.68131   ,  2.3239684 ,  4.459366  ,  8.030946  ,\n",
              "         5.953289  ,  5.6428604 ,  5.137942  ,  7.162542  ,  9.831411  ,\n",
              "        11.2098    , 10.556696  ,  9.350716  ,  7.3507614 ,  3.9944015 ,\n",
              "         2.82334   ,  2.3929412 ,  2.8540518 ,  4.729089  ,  3.2363744 ,\n",
              "         3.6810775 ,  5.66858   ,  8.005048  , 10.247124  ,  9.747851  ,\n",
              "         9.54604   ,  2.477174  ,  2.9854128 ,  4.34938   ,  6.8806424 ,\n",
              "         7.7586837 ,  3.8011284 ,  4.4251747 ,  2.761091  ,  1.0093703 ,\n",
              "         2.242207  ,  2.2289226 ,  1.5868819 ,  1.6239101 ,  1.8814805 ,\n",
              "         1.5162615 ,  1.7166462 ,  3.7594323 ,  5.0977936 ,  5.66472   ,\n",
              "         4.075433  ,  4.348675  ,  5.1419644 ,  6.618981  ,  9.824003  ,\n",
              "        12.98138   , 16.388012  , 16.260683  , 13.2497835 , 10.180601  ,\n",
              "         9.383696  ,  5.121853  ,  3.2893925 ,  4.634882  ,  7.40683   ,\n",
              "        11.284329  ,  7.2873406 ,  3.019626  ,  4.0061307 ,  4.1726418 ,\n",
              "         2.2337658 ,  3.0054157 ,  1.9702908 ,  3.1211088 ,  2.7774823 ,\n",
              "         3.492497  ,  5.1419334 ,  7.6572046 , 11.470653  , 14.311554  ,\n",
              "        17.280174  ], dtype=float32),\n",
              " 'mase': 2.2020733}"
            ]
          },
          "metadata": {},
          "execution_count": 76
        }
      ]
    },
    {
      "cell_type": "code",
      "source": [
        "model_3_preds.shape, model_2_preds.shape"
      ],
      "metadata": {
        "colab": {
          "base_uri": "https://localhost:8080/"
        },
        "id": "fPQfdGu7ACAx",
        "outputId": "a3373c88-6841-471b-a21b-28ce070a3c9d"
      },
      "execution_count": 77,
      "outputs": [
        {
          "output_type": "execute_result",
          "data": {
            "text/plain": [
              "(TensorShape([551, 7]), TensorShape([545]))"
            ]
          },
          "metadata": {},
          "execution_count": 77
        }
      ]
    },
    {
      "cell_type": "code",
      "source": [
        "## Make our evaluation function work for large horizons\n",
        "\n",
        "def evaluate_preds(y_true, y_pred):\n",
        "  # Make sure float32 (for metric calculations)\n",
        "  y_true = tf.cast(y_true, dtype=tf.float32)\n",
        "  y_pred = tf.cast(y_pred, dtype=tf.float32)\n",
        "\n",
        "  # Calculate various metrics\n",
        "  mae = tf.keras.metrics.mean_absolute_error(y_true, y_pred)\n",
        "  mse = tf.keras.metrics.mean_squared_error(y_true, y_pred)\n",
        "  rmse = tf.sqrt(mse)\n",
        "  mape = tf.keras.metrics.mean_absolute_percentage_error(y_true, y_pred)\n",
        "  mase = mean_absolute_scaled_error(y_true, y_pred)\n",
        "\n",
        "  # Account for different sized metrics (for longer horizons, reduce to single number)\n",
        "  if mae.ndim > 0: # if mae isn't already a scalar, reduce it to one by aggregating tensors to mean\n",
        "    mae = tf.reduce_mean(mae)\n",
        "    mse = tf.reduce_mean(mse)\n",
        "    rmse = tf.reduce_mean(rmse)\n",
        "    mape = tf.reduce_mean(mape)\n",
        "    mase = tf.reduce_mean(mase)\n",
        "\n",
        "  return {\"mae\": mae.numpy(),\n",
        "          \"mse\": mse.numpy(),\n",
        "          \"rmse\": rmse.numpy(),\n",
        "          \"mape\": mape.numpy(),\n",
        "          \"mase\": mase.numpy()}\n",
        "     "
      ],
      "metadata": {
        "id": "3ace0mPMAU2Z"
      },
      "execution_count": 78,
      "outputs": []
    },
    {
      "cell_type": "code",
      "source": [
        "# Get model 3 values agregated\n",
        "model_3_results = evaluate_preds(y_true = tf.squeeze(test_labels),y_pred = model_3_preds)\n",
        "model_3_results"
      ],
      "metadata": {
        "colab": {
          "base_uri": "https://localhost:8080/"
        },
        "id": "4iKwL0dmB8Yx",
        "outputId": "82cbe029-a191-4179-c34b-5157234de8c2"
      },
      "execution_count": 79,
      "outputs": [
        {
          "output_type": "execute_result",
          "data": {
            "text/plain": [
              "{'mae': 1237.5065,\n",
              " 'mse': 5405199.0,\n",
              " 'rmse': 1425.7478,\n",
              " 'mape': 5.558879,\n",
              " 'mase': 2.2020733}"
            ]
          },
          "metadata": {},
          "execution_count": 79
        }
      ]
    },
    {
      "cell_type": "code",
      "source": [
        "offset = 300\n",
        "plt.figure(figsize=(10,7))\n",
        "# Account for test_window offset while ploting\n",
        "plot_time_series(timesteps = x_test[-len(test_windows):], values = test_labels[:,0],start = offset,format=\"-\", label =\"Test Data\")\n",
        "plot_time_series(timesteps = x_test[-len(test_windows):], values=tf.reduce_mean(model_3_preds,axis = 1), start=offset, format=\"-\",label=\"model_3_preds\")"
      ],
      "metadata": {
        "colab": {
          "base_uri": "https://localhost:8080/",
          "height": 0
        },
        "id": "xOtTgaB4CILI",
        "outputId": "0cd35bea-d977-4071-9300-a2c61e5e3ff3"
      },
      "execution_count": 80,
      "outputs": [
        {
          "output_type": "display_data",
          "data": {
            "text/plain": [
              "<Figure size 720x504 with 1 Axes>"
            ],
            "image/png": "[encoded data removed]"
          },
          "metadata": {
            "needs_background": "light"
          }
        }
      ]
    },
    {
      "cell_type": "markdown",
      "source": [
        "## Which of our model is performing better so far\n",
        "\n",
        "\n"
      ],
      "metadata": {
        "id": "YtEnOCfREohm"
      }
    },
    {
      "cell_type": "code",
      "source": [
        "pd.DataFrame({\"naive\": naive_results[\"mae\"],\n",
        "             \"horizon_1_window_7\": model_1_results[\"mae\"],\n",
        "              \"horizon_1_window_30\":model_2_results[\"mae\"],\n",
        "             \"horizon_7_window_30\": model_3_results[\"mae\"]},index=[\"mae\"]).plot(figsize=(10,7),kind=\"bar\");"
      ],
      "metadata": {
        "colab": {
          "base_uri": "https://localhost:8080/",
          "height": 0
        },
        "id": "vXzAUrn6TUbd",
        "outputId": "29dded5d-c321-487e-9be6-70323eaa53e5"
      },
      "execution_count": 81,
      "outputs": [
        {
          "output_type": "display_data",
          "data": {
            "text/plain": [
              "<Figure size 720x504 with 1 Axes>"
            ],
            "image/png": "[encoded data removed]"
          },
          "metadata": {
            "needs_background": "light"
          }
        }
      ]
    },
    {
      "cell_type": "markdown",
      "source": [
        "## Making model 4 CONVD"
      ],
      "metadata": {
        "id": "daXnr_qqUeLl"
      }
    },
    {
      "cell_type": "code",
      "source": [
        "HORIZON = 1\n",
        "WINDOW_SIZE = 7"
      ],
      "metadata": {
        "id": "ILvPTVCsaoYE"
      },
      "execution_count": 82,
      "outputs": []
    },
    {
      "cell_type": "code",
      "source": [
        "# Create window data\n",
        "full_windows,full_labels = make_windows(prices, window_size = WINDOW_SIZE, horizon = HORIZON)\n",
        "len(full_windows),len(full_labels)"
      ],
      "metadata": {
        "colab": {
          "base_uri": "https://localhost:8080/"
        },
        "id": "pTHCNa9E8Sbn",
        "outputId": "0d664383-46d9-4e6f-8a8d-8187c2bd11e8"
      },
      "execution_count": 83,
      "outputs": [
        {
          "output_type": "execute_result",
          "data": {
            "text/plain": [
              "(2780, 2780)"
            ]
          },
          "metadata": {},
          "execution_count": 83
        }
      ]
    },
    {
      "cell_type": "code",
      "source": [
        "# Create train/test sets\n",
        "train_windows,test_windows,train_labels,test_labels = make_train_test_split(full_windows,full_labels)\n"
      ],
      "metadata": {
        "id": "0tgAVlXxDkuN"
      },
      "execution_count": 84,
      "outputs": []
    },
    {
      "cell_type": "code",
      "source": [
        "len(train_windows),len(train_labels), len(test_windows),len(test_labels)"
      ],
      "metadata": {
        "colab": {
          "base_uri": "https://localhost:8080/"
        },
        "id": "SW4Pq8niJ_Hs",
        "outputId": "04067788-781a-4f0c-89d4-7a8e71d69d79"
      },
      "execution_count": 85,
      "outputs": [
        {
          "output_type": "execute_result",
          "data": {
            "text/plain": [
              "(2224, 2224, 556, 556)"
            ]
          },
          "metadata": {},
          "execution_count": 85
        }
      ]
    },
    {
      "cell_type": "markdown",
      "source": [
        "To use the conv1D layer, We need an input shape of : '(batch_size,timesteps,input_dim)'...\n",
        "However our data isnt in that shape yet"
      ],
      "metadata": {
        "id": "gpAs2MFMKE-0"
      }
    },
    {
      "cell_type": "code",
      "source": [
        "# Check data input shape\n",
        "train_windows[0].shape"
      ],
      "metadata": {
        "colab": {
          "base_uri": "https://localhost:8080/"
        },
        "id": "yVE5-WqDLaLE",
        "outputId": "f6c83d69-25d5-417f-b2d8-e88568e7ef48"
      },
      "execution_count": 86,
      "outputs": [
        {
          "output_type": "execute_result",
          "data": {
            "text/plain": [
              "(7,)"
            ]
          },
          "metadata": {},
          "execution_count": 86
        }
      ]
    },
    {
      "cell_type": "code",
      "source": [
        "# Before we pass our data to the con1D Layer we have to reshape it in order to make sure it works\n",
        "x = tf.constant(train_windows[0])\n",
        "x"
      ],
      "metadata": {
        "colab": {
          "base_uri": "https://localhost:8080/"
        },
        "id": "6X2NPCXXLc0M",
        "outputId": "87faa34b-b910-4d33-e05d-55539a409d0b"
      },
      "execution_count": 87,
      "outputs": [
        {
          "output_type": "execute_result",
          "data": {
            "text/plain": [
              "<tf.Tensor: shape=(7,), dtype=float64, numpy=\n",
              "array([123.65499, 125.455  , 108.58483, 118.67466, 121.33866, 120.65533,\n",
              "       121.795  ])>"
            ]
          },
          "metadata": {},
          "execution_count": 87
        }
      ]
    },
    {
      "cell_type": "code",
      "source": [
        "expand_dims_layer = layers.Lambda(lambda x: tf.expand_dims(x,axis=1)) # add extra dimenssion for the input dim\n"
      ],
      "metadata": {
        "id": "LKNMDUT1Mvdk"
      },
      "execution_count": 88,
      "outputs": []
    },
    {
      "cell_type": "code",
      "source": [
        "# Test out our lambda layer \n",
        "print(f\"Orignal shape: {x.shape}\")\n",
        "print(f\"Expanded shape: {expand_dims_layer(x).shape}\")\n",
        "print(f\"Orignal values with expanded shape: \\n{expand_dims_layer(x)}\")"
      ],
      "metadata": {
        "colab": {
          "base_uri": "https://localhost:8080/"
        },
        "id": "S0gwdHlqNU7s",
        "outputId": "999e56d6-f106-496b-e9b6-16b09c6ab4e6"
      },
      "execution_count": 89,
      "outputs": [
        {
          "output_type": "stream",
          "name": "stdout",
          "text": [
            "Orignal shape: (7,)\n",
            "Expanded shape: (7, 1)\n",
            "Orignal values with expanded shape: \n",
            "[[123.65499]\n",
            " [125.455  ]\n",
            " [108.58483]\n",
            " [118.67466]\n",
            " [121.33866]\n",
            " [120.65533]\n",
            " [121.795  ]]\n"
          ]
        }
      ]
    },
    {
      "cell_type": "code",
      "source": [
        "# Create a con1D model\n",
        "tf.random.set_seed(42)\n",
        "\n",
        "model_4 = tf.keras.Sequential([\n",
        "    layers.Lambda(lambda x: tf.expand_dims(x,axis=1)),\n",
        "    layers.Conv1D(filters = 128,kernel_size =5 , strides = 1, padding=\"causal\",activation = \"relu\"),\n",
        "    layers.Dense(HORIZON)\n",
        "],name =\"model_4_conv1D\")\n",
        "\n",
        "# Compile model\n",
        "model_4.compile(loss=\"mae\",\n",
        "                optimizer = tf.keras.optimizers.Adam())\n",
        "#Fit\n",
        "model_4.fit(train_windows,\n",
        "            train_labels,\n",
        "            batch_size=128,\n",
        "            epochs=100,\n",
        "            verbose = 1,\n",
        "            validation_data=(test_windows,test_labels),\n",
        "            callbacks=[create_model_checkpoint(model_name = model_4.name)])"
      ],
      "metadata": {
        "colab": {
          "base_uri": "https://localhost:8080/"
        },
        "id": "VNgIVcNAOa-7",
        "outputId": "6e42f266-466d-4a65-e002-b4a18514c200"
      },
      "execution_count": 90,
      "outputs": [
        {
          "output_type": "stream",
          "name": "stdout",
          "text": [
            "Epoch 1/100\n",
            "17/18 [===========================>..] - ETA: 0s - loss: 1227.0372  "
          ]
        },
        {
          "output_type": "stream",
          "name": "stderr",
          "text": [
            "WARNING:absl:Found untraced functions such as _jit_compiled_convolution_op while saving (showing 1 of 1). These functions will not be directly callable after loading.\n"
          ]
        },
        {
          "output_type": "stream",
          "name": "stdout",
          "text": [
            "\b\b\b\b\b\b\b\b\b\b\b\b\b\b\b\b\b\b\b\b\b\b\b\b\b\b\b\b\b\b\b\b\b\b\b\b\b\b\b\b\b\b\b\b\b\b\b\b\b\b\b\b\b\b\b\b\b\b\b\b\b\b\b\b\b\b\r18/18 [==============================] - 7s 52ms/step - loss: 1207.3817 - val_loss: 2320.6218\n",
            "Epoch 2/100\n",
            "18/18 [==============================] - ETA: 0s - loss: 316.2171"
          ]
        },
        {
          "output_type": "stream",
          "name": "stderr",
          "text": [
            "WARNING:absl:Found untraced functions such as _jit_compiled_convolution_op while saving (showing 1 of 1). These functions will not be directly callable after loading.\n"
          ]
        },
        {
          "output_type": "stream",
          "name": "stdout",
          "text": [
            "\b\b\b\b\b\b\b\b\b\b\b\b\b\b\b\b\b\b\b\b\b\b\b\b\b\b\b\b\b\b\b\b\b\b\b\b\b\b\b\b\b\b\b\b\b\b\b\b\b\b\b\b\b\b\b\b\b\b\b\b\b\b\b\b\b\r18/18 [==============================] - 1s 63ms/step - loss: 316.2171 - val_loss: 1467.2799\n",
            "Epoch 3/100\n",
            "18/18 [==============================] - ETA: 0s - loss: 192.6853"
          ]
        },
        {
          "output_type": "stream",
          "name": "stderr",
          "text": [
            "WARNING:absl:Found untraced functions such as _jit_compiled_convolution_op while saving (showing 1 of 1). These functions will not be directly callable after loading.\n"
          ]
        },
        {
          "output_type": "stream",
          "name": "stdout",
          "text": [
            "\b\b\b\b\b\b\b\b\b\b\b\b\b\b\b\b\b\b\b\b\b\b\b\b\b\b\b\b\b\b\b\b\b\b\b\b\b\b\b\b\b\b\b\b\b\b\b\b\b\b\b\b\b\b\b\b\b\b\b\b\b\b\b\b\b\r18/18 [==============================] - 1s 57ms/step - loss: 192.6853 - val_loss: 1164.7074\n",
            "Epoch 4/100\n",
            " 9/18 [==============>...............] - ETA: 0s - loss: 197.5116"
          ]
        },
        {
          "output_type": "stream",
          "name": "stderr",
          "text": [
            "WARNING:absl:Found untraced functions such as _jit_compiled_convolution_op while saving (showing 1 of 1). These functions will not be directly callable after loading.\n"
          ]
        },
        {
          "output_type": "stream",
          "name": "stdout",
          "text": [
            "\b\b\b\b\b\b\b\b\b\b\b\b\b\b\b\b\b\b\b\b\b\b\b\b\b\b\b\b\b\b\b\b\b\b\b\b\b\b\b\b\b\b\b\b\b\b\b\b\b\b\b\b\b\b\b\b\b\b\b\b\b\b\b\b\b\r18/18 [==============================] - 1s 47ms/step - loss: 177.3535 - val_loss: 981.6695\n",
            "Epoch 5/100\n",
            "13/18 [====================>.........] - ETA: 0s - loss: 178.2423"
          ]
        },
        {
          "output_type": "stream",
          "name": "stderr",
          "text": [
            "WARNING:absl:Found untraced functions such as _jit_compiled_convolution_op while saving (showing 1 of 1). These functions will not be directly callable after loading.\n"
          ]
        },
        {
          "output_type": "stream",
          "name": "stdout",
          "text": [
            "\b\b\b\b\b\b\b\b\b\b\b\b\b\b\b\b\b\b\b\b\b\b\b\b\b\b\b\b\b\b\b\b\b\b\b\b\b\b\b\b\b\b\b\b\b\b\b\b\b\b\b\b\b\b\b\b\b\b\b\b\b\b\b\b\b\r18/18 [==============================] - 1s 55ms/step - loss: 172.3467 - val_loss: 960.8708\n",
            "Epoch 6/100\n",
            " 1/18 [>.............................] - ETA: 0s - loss: 130.1246"
          ]
        },
        {
          "output_type": "stream",
          "name": "stderr",
          "text": [
            "WARNING:absl:Found untraced functions such as _jit_compiled_convolution_op while saving (showing 1 of 1). These functions will not be directly callable after loading.\n"
          ]
        },
        {
          "output_type": "stream",
          "name": "stdout",
          "text": [
            "\b\b\b\b\b\b\b\b\b\b\b\b\b\b\b\b\b\b\b\b\b\b\b\b\b\b\b\b\b\b\b\b\b\b\b\b\b\b\b\b\b\b\b\b\b\b\b\b\b\b\b\b\b\b\b\b\b\b\b\b\b\b\b\b\b\r18/18 [==============================] - 1s 35ms/step - loss: 171.9753 - val_loss: 950.2026\n",
            "Epoch 7/100\n",
            " 1/18 [>.............................] - ETA: 0s - loss: 209.6378"
          ]
        },
        {
          "output_type": "stream",
          "name": "stderr",
          "text": [
            "WARNING:absl:Found untraced functions such as _jit_compiled_convolution_op while saving (showing 1 of 1). These functions will not be directly callable after loading.\n"
          ]
        },
        {
          "output_type": "stream",
          "name": "stdout",
          "text": [
            "\b\b\b\b\b\b\b\b\b\b\b\b\b\b\b\b\b\b\b\b\b\b\b\b\b\b\b\b\b\b\b\b\b\b\b\b\b\b\b\b\b\b\b\b\b\b\b\b\b\b\b\b\b\b\b\b\b\b\b\b\b\b\b\b\b\r18/18 [==============================] - 1s 35ms/step - loss: 167.1943 - val_loss: 943.2872\n",
            "Epoch 8/100\n",
            " 1/18 [>.............................] - ETA: 0s - loss: 143.1056"
          ]
        },
        {
          "output_type": "stream",
          "name": "stderr",
          "text": [
            "WARNING:absl:Found untraced functions such as _jit_compiled_convolution_op while saving (showing 1 of 1). These functions will not be directly callable after loading.\n"
          ]
        },
        {
          "output_type": "stream",
          "name": "stdout",
          "text": [
            "\b\b\b\b\b\b\b\b\b\b\b\b\b\b\b\b\b\b\b\b\b\b\b\b\b\b\b\b\b\b\b\b\b\b\b\b\b\b\b\b\b\b\b\b\b\b\b\b\b\b\b\b\b\b\b\b\b\b\b\b\b\b\b\b\b\r18/18 [==============================] - 1s 35ms/step - loss: 163.5990 - val_loss: 905.5262\n",
            "Epoch 9/100\n",
            "18/18 [==============================] - 0s 4ms/step - loss: 162.5455 - val_loss: 929.7607\n",
            "Epoch 10/100\n",
            " 1/18 [>.............................] - ETA: 0s - loss: 176.2612"
          ]
        },
        {
          "output_type": "stream",
          "name": "stderr",
          "text": [
            "WARNING:absl:Found untraced functions such as _jit_compiled_convolution_op while saving (showing 1 of 1). These functions will not be directly callable after loading.\n"
          ]
        },
        {
          "output_type": "stream",
          "name": "stdout",
          "text": [
            "\b\b\b\b\b\b\b\b\b\b\b\b\b\b\b\b\b\b\b\b\b\b\b\b\b\b\b\b\b\b\b\b\b\b\b\b\b\b\b\b\b\b\b\b\b\b\b\b\b\b\b\b\b\b\b\b\b\b\b\b\b\b\b\b\b\r18/18 [==============================] - 1s 36ms/step - loss: 158.5780 - val_loss: 871.9778\n",
            "Epoch 11/100\n",
            " 1/18 [>.............................] - ETA: 0s - loss: 172.6847"
          ]
        },
        {
          "output_type": "stream",
          "name": "stderr",
          "text": [
            "WARNING:absl:Found untraced functions such as _jit_compiled_convolution_op while saving (showing 1 of 1). These functions will not be directly callable after loading.\n"
          ]
        },
        {
          "output_type": "stream",
          "name": "stdout",
          "text": [
            "\b\b\b\b\b\b\b\b\b\b\b\b\b\b\b\b\b\b\b\b\b\b\b\b\b\b\b\b\b\b\b\b\b\b\b\b\b\b\b\b\b\b\b\b\b\b\b\b\b\b\b\b\b\b\b\b\b\b\b\b\b\b\b\b\b\r18/18 [==============================] - 1s 36ms/step - loss: 154.0058 - val_loss: 852.7120\n",
            "Epoch 12/100\n",
            "18/18 [==============================] - 0s 4ms/step - loss: 151.2620 - val_loss: 944.1970\n",
            "Epoch 13/100\n",
            "18/18 [==============================] - 0s 5ms/step - loss: 150.2688 - val_loss: 881.1826\n",
            "Epoch 14/100\n",
            " 1/18 [>.............................] - ETA: 0s - loss: 157.3245"
          ]
        },
        {
          "output_type": "stream",
          "name": "stderr",
          "text": [
            "WARNING:absl:Found untraced functions such as _jit_compiled_convolution_op while saving (showing 1 of 1). These functions will not be directly callable after loading.\n"
          ]
        },
        {
          "output_type": "stream",
          "name": "stdout",
          "text": [
            "\b\b\b\b\b\b\b\b\b\b\b\b\b\b\b\b\b\b\b\b\b\b\b\b\b\b\b\b\b\b\b\b\b\b\b\b\b\b\b\b\b\b\b\b\b\b\b\b\b\b\b\b\b\b\b\b\b\b\b\b\b\b\b\b\b\r18/18 [==============================] - 1s 50ms/step - loss: 145.4593 - val_loss: 849.1818\n",
            "Epoch 15/100\n",
            " 1/18 [>.............................] - ETA: 0s - loss: 143.7761"
          ]
        },
        {
          "output_type": "stream",
          "name": "stderr",
          "text": [
            "WARNING:absl:Found untraced functions such as _jit_compiled_convolution_op while saving (showing 1 of 1). These functions will not be directly callable after loading.\n"
          ]
        },
        {
          "output_type": "stream",
          "name": "stdout",
          "text": [
            "\b\b\b\b\b\b\b\b\b\b\b\b\b\b\b\b\b\b\b\b\b\b\b\b\b\b\b\b\b\b\b\b\b\b\b\b\b\b\b\b\b\b\b\b\b\b\b\b\b\b\b\b\b\b\b\b\b\b\b\b\b\b\b\b\b\r18/18 [==============================] - 1s 37ms/step - loss: 143.3640 - val_loss: 844.4007\n",
            "Epoch 16/100\n",
            " 1/18 [>.............................] - ETA: 0s - loss: 131.3044"
          ]
        },
        {
          "output_type": "stream",
          "name": "stderr",
          "text": [
            "WARNING:absl:Found untraced functions such as _jit_compiled_convolution_op while saving (showing 1 of 1). These functions will not be directly callable after loading.\n"
          ]
        },
        {
          "output_type": "stream",
          "name": "stdout",
          "text": [
            "\b\b\b\b\b\b\b\b\b\b\b\b\b\b\b\b\b\b\b\b\b\b\b\b\b\b\b\b\b\b\b\b\b\b\b\b\b\b\b\b\b\b\b\b\b\b\b\b\b\b\b\b\b\b\b\b\b\b\b\b\b\b\b\b\b\r18/18 [==============================] - 1s 36ms/step - loss: 139.8764 - val_loss: 806.7261\n",
            "Epoch 17/100\n",
            "18/18 [==============================] - 0s 4ms/step - loss: 138.1677 - val_loss: 812.6340\n",
            "Epoch 18/100\n",
            " 1/18 [>.............................] - ETA: 0s - loss: 147.8408"
          ]
        },
        {
          "output_type": "stream",
          "name": "stderr",
          "text": [
            "WARNING:absl:Found untraced functions such as _jit_compiled_convolution_op while saving (showing 1 of 1). These functions will not be directly callable after loading.\n"
          ]
        },
        {
          "output_type": "stream",
          "name": "stdout",
          "text": [
            "\b\b\b\b\b\b\b\b\b\b\b\b\b\b\b\b\b\b\b\b\b\b\b\b\b\b\b\b\b\b\b\b\b\b\b\b\b\b\b\b\b\b\b\b\b\b\b\b\b\b\b\b\b\b\b\b\b\b\b\b\b\b\b\b\b\r18/18 [==============================] - 1s 36ms/step - loss: 137.9497 - val_loss: 775.2100\n",
            "Epoch 19/100\n",
            "16/18 [=========================>....] - ETA: 0s - loss: 131.4018"
          ]
        },
        {
          "output_type": "stream",
          "name": "stderr",
          "text": [
            "WARNING:absl:Found untraced functions such as _jit_compiled_convolution_op while saving (showing 1 of 1). These functions will not be directly callable after loading.\n"
          ]
        },
        {
          "output_type": "stream",
          "name": "stdout",
          "text": [
            "\b\b\b\b\b\b\b\b\b\b\b\b\b\b\b\b\b\b\b\b\b\b\b\b\b\b\b\b\b\b\b\b\b\b\b\b\b\b\b\b\b\b\b\b\b\b\b\b\b\b\b\b\b\b\b\b\b\b\b\b\b\b\b\b\b\r18/18 [==============================] - 1s 37ms/step - loss: 131.1450 - val_loss: 755.4260\n",
            "Epoch 20/100\n",
            " 1/18 [>.............................] - ETA: 0s - loss: 138.0260"
          ]
        },
        {
          "output_type": "stream",
          "name": "stderr",
          "text": [
            "WARNING:absl:Found untraced functions such as _jit_compiled_convolution_op while saving (showing 1 of 1). These functions will not be directly callable after loading.\n"
          ]
        },
        {
          "output_type": "stream",
          "name": "stdout",
          "text": [
            "\b\b\b\b\b\b\b\b\b\b\b\b\b\b\b\b\b\b\b\b\b\b\b\b\b\b\b\b\b\b\b\b\b\b\b\b\b\b\b\b\b\b\b\b\b\b\b\b\b\b\b\b\b\b\b\b\b\b\b\b\b\b\b\b\b\r18/18 [==============================] - 1s 36ms/step - loss: 132.4057 - val_loss: 712.2014\n",
            "Epoch 21/100\n",
            "16/18 [=========================>....] - ETA: 0s - loss: 130.2775"
          ]
        },
        {
          "output_type": "stream",
          "name": "stderr",
          "text": [
            "WARNING:absl:Found untraced functions such as _jit_compiled_convolution_op while saving (showing 1 of 1). These functions will not be directly callable after loading.\n"
          ]
        },
        {
          "output_type": "stream",
          "name": "stdout",
          "text": [
            "\b\b\b\b\b\b\b\b\b\b\b\b\b\b\b\b\b\b\b\b\b\b\b\b\b\b\b\b\b\b\b\b\b\b\b\b\b\b\b\b\b\b\b\b\b\b\b\b\b\b\b\b\b\b\b\b\b\b\b\b\b\b\b\b\b\r18/18 [==============================] - 1s 37ms/step - loss: 131.0829 - val_loss: 707.4122\n",
            "Epoch 22/100\n",
            "16/18 [=========================>....] - ETA: 0s - loss: 128.3458"
          ]
        },
        {
          "output_type": "stream",
          "name": "stderr",
          "text": [
            "WARNING:absl:Found untraced functions such as _jit_compiled_convolution_op while saving (showing 1 of 1). These functions will not be directly callable after loading.\n"
          ]
        },
        {
          "output_type": "stream",
          "name": "stdout",
          "text": [
            "\b\b\b\b\b\b\b\b\b\b\b\b\b\b\b\b\b\b\b\b\b\b\b\b\b\b\b\b\b\b\b\b\b\b\b\b\b\b\b\b\b\b\b\b\b\b\b\b\b\b\b\b\b\b\b\b\b\b\b\b\b\b\b\b\b\r18/18 [==============================] - 1s 37ms/step - loss: 126.9511 - val_loss: 692.9736\n",
            "Epoch 23/100\n",
            "17/18 [===========================>..] - ETA: 0s - loss: 124.0546"
          ]
        },
        {
          "output_type": "stream",
          "name": "stderr",
          "text": [
            "WARNING:absl:Found untraced functions such as _jit_compiled_convolution_op while saving (showing 1 of 1). These functions will not be directly callable after loading.\n"
          ]
        },
        {
          "output_type": "stream",
          "name": "stdout",
          "text": [
            "\b\b\b\b\b\b\b\b\b\b\b\b\b\b\b\b\b\b\b\b\b\b\b\b\b\b\b\b\b\b\b\b\b\b\b\b\b\b\b\b\b\b\b\b\b\b\b\b\b\b\b\b\b\b\b\b\b\b\b\b\b\b\b\b\b\r18/18 [==============================] - 1s 38ms/step - loss: 125.1489 - val_loss: 682.4753\n",
            "Epoch 24/100\n",
            " 1/18 [>.............................] - ETA: 0s - loss: 133.3014"
          ]
        },
        {
          "output_type": "stream",
          "name": "stderr",
          "text": [
            "WARNING:absl:Found untraced functions such as _jit_compiled_convolution_op while saving (showing 1 of 1). These functions will not be directly callable after loading.\n"
          ]
        },
        {
          "output_type": "stream",
          "name": "stdout",
          "text": [
            "\b\b\b\b\b\b\b\b\b\b\b\b\b\b\b\b\b\b\b\b\b\b\b\b\b\b\b\b\b\b\b\b\b\b\b\b\b\b\b\b\b\b\b\b\b\b\b\b\b\b\b\b\b\b\b\b\b\b\b\b\b\b\b\b\b\r18/18 [==============================] - 1s 56ms/step - loss: 124.3786 - val_loss: 670.8320\n",
            "Epoch 25/100\n",
            "11/18 [=================>............] - ETA: 0s - loss: 127.7486"
          ]
        },
        {
          "output_type": "stream",
          "name": "stderr",
          "text": [
            "WARNING:absl:Found untraced functions such as _jit_compiled_convolution_op while saving (showing 1 of 1). These functions will not be directly callable after loading.\n"
          ]
        },
        {
          "output_type": "stream",
          "name": "stdout",
          "text": [
            "\b\b\b\b\b\b\b\b\b\b\b\b\b\b\b\b\b\b\b\b\b\b\b\b\b\b\b\b\b\b\b\b\b\b\b\b\b\b\b\b\b\b\b\b\b\b\b\b\b\b\b\b\b\b\b\b\b\b\b\b\b\b\b\b\b\r18/18 [==============================] - 1s 71ms/step - loss: 121.6896 - val_loss: 662.6083\n",
            "Epoch 26/100\n",
            "16/18 [=========================>....] - ETA: 0s - loss: 123.1287"
          ]
        },
        {
          "output_type": "stream",
          "name": "stderr",
          "text": [
            "WARNING:absl:Found untraced functions such as _jit_compiled_convolution_op while saving (showing 1 of 1). These functions will not be directly callable after loading.\n"
          ]
        },
        {
          "output_type": "stream",
          "name": "stdout",
          "text": [
            "\b\b\b\b\b\b\b\b\b\b\b\b\b\b\b\b\b\b\b\b\b\b\b\b\b\b\b\b\b\b\b\b\b\b\b\b\b\b\b\b\b\b\b\b\b\b\b\b\b\b\b\b\b\b\b\b\b\b\b\b\b\b\b\b\b\r18/18 [==============================] - 1s 80ms/step - loss: 121.5705 - val_loss: 654.6090\n",
            "Epoch 27/100\n",
            "11/18 [=================>............] - ETA: 0s - loss: 129.3547"
          ]
        },
        {
          "output_type": "stream",
          "name": "stderr",
          "text": [
            "WARNING:absl:Found untraced functions such as _jit_compiled_convolution_op while saving (showing 1 of 1). These functions will not be directly callable after loading.\n"
          ]
        },
        {
          "output_type": "stream",
          "name": "stdout",
          "text": [
            "\b\b\b\b\b\b\b\b\b\b\b\b\b\b\b\b\b\b\b\b\b\b\b\b\b\b\b\b\b\b\b\b\b\b\b\b\b\b\b\b\b\b\b\b\b\b\b\b\b\b\b\b\b\b\b\b\b\b\b\b\b\b\b\b\b\r18/18 [==============================] - 2s 100ms/step - loss: 122.6445 - val_loss: 650.9058\n",
            "Epoch 28/100\n",
            "10/18 [===============>..............] - ETA: 0s - loss: 121.7312"
          ]
        },
        {
          "output_type": "stream",
          "name": "stderr",
          "text": [
            "WARNING:absl:Found untraced functions such as _jit_compiled_convolution_op while saving (showing 1 of 1). These functions will not be directly callable after loading.\n"
          ]
        },
        {
          "output_type": "stream",
          "name": "stdout",
          "text": [
            "\b\b\b\b\b\b\b\b\b\b\b\b\b\b\b\b\b\b\b\b\b\b\b\b\b\b\b\b\b\b\b\b\b\b\b\b\b\b\b\b\b\b\b\b\b\b\b\b\b\b\b\b\b\b\b\b\b\b\b\b\b\b\b\b\b\r18/18 [==============================] - 1s 81ms/step - loss: 117.9562 - val_loss: 645.4808\n",
            "Epoch 29/100\n",
            "11/18 [=================>............] - ETA: 0s - loss: 118.6137"
          ]
        },
        {
          "output_type": "stream",
          "name": "stderr",
          "text": [
            "WARNING:absl:Found untraced functions such as _jit_compiled_convolution_op while saving (showing 1 of 1). These functions will not be directly callable after loading.\n"
          ]
        },
        {
          "output_type": "stream",
          "name": "stdout",
          "text": [
            "\b\b\b\b\b\b\b\b\b\b\b\b\b\b\b\b\b\b\b\b\b\b\b\b\b\b\b\b\b\b\b\b\b\b\b\b\b\b\b\b\b\b\b\b\b\b\b\b\b\b\b\b\b\b\b\b\b\b\b\b\b\b\b\b\b\r18/18 [==============================] - 1s 85ms/step - loss: 117.1769 - val_loss: 639.9748\n",
            "Epoch 30/100\n",
            "10/18 [===============>..............] - ETA: 0s - loss: 113.3276"
          ]
        },
        {
          "output_type": "stream",
          "name": "stderr",
          "text": [
            "WARNING:absl:Found untraced functions such as _jit_compiled_convolution_op while saving (showing 1 of 1). These functions will not be directly callable after loading.\n"
          ]
        },
        {
          "output_type": "stream",
          "name": "stdout",
          "text": [
            "\b\b\b\b\b\b\b\b\b\b\b\b\b\b\b\b\b\b\b\b\b\b\b\b\b\b\b\b\b\b\b\b\b\b\b\b\b\b\b\b\b\b\b\b\b\b\b\b\b\b\b\b\b\b\b\b\b\b\b\b\b\b\b\b\b\r18/18 [==============================] - 1s 80ms/step - loss: 121.0468 - val_loss: 630.7950\n",
            "Epoch 31/100\n",
            "18/18 [==============================] - 0s 12ms/step - loss: 114.9061 - val_loss: 652.6464\n",
            "Epoch 32/100\n",
            "10/18 [===============>..............] - ETA: 0s - loss: 120.8926"
          ]
        },
        {
          "output_type": "stream",
          "name": "stderr",
          "text": [
            "WARNING:absl:Found untraced functions such as _jit_compiled_convolution_op while saving (showing 1 of 1). These functions will not be directly callable after loading.\n"
          ]
        },
        {
          "output_type": "stream",
          "name": "stdout",
          "text": [
            "\b\b\b\b\b\b\b\b\b\b\b\b\b\b\b\b\b\b\b\b\b\b\b\b\b\b\b\b\b\b\b\b\b\b\b\b\b\b\b\b\b\b\b\b\b\b\b\b\b\b\b\b\b\b\b\b\b\b\b\b\b\b\b\b\b\r18/18 [==============================] - 1s 88ms/step - loss: 116.4313 - val_loss: 623.4980\n",
            "Epoch 33/100\n",
            "18/18 [==============================] - 0s 11ms/step - loss: 115.7972 - val_loss: 664.3209\n",
            "Epoch 34/100\n",
            "11/18 [=================>............] - ETA: 0s - loss: 122.2740"
          ]
        },
        {
          "output_type": "stream",
          "name": "stderr",
          "text": [
            "WARNING:absl:Found untraced functions such as _jit_compiled_convolution_op while saving (showing 1 of 1). These functions will not be directly callable after loading.\n"
          ]
        },
        {
          "output_type": "stream",
          "name": "stdout",
          "text": [
            "\b\b\b\b\b\b\b\b\b\b\b\b\b\b\b\b\b\b\b\b\b\b\b\b\b\b\b\b\b\b\b\b\b\b\b\b\b\b\b\b\b\b\b\b\b\b\b\b\b\b\b\b\b\b\b\b\b\b\b\b\b\b\b\b\b\r18/18 [==============================] - 1s 79ms/step - loss: 117.2043 - val_loss: 613.7654\n",
            "Epoch 35/100\n",
            "18/18 [==============================] - 0s 9ms/step - loss: 113.4074 - val_loss: 619.6227\n",
            "Epoch 36/100\n",
            "10/18 [===============>..............] - ETA: 0s - loss: 111.0761"
          ]
        },
        {
          "output_type": "stream",
          "name": "stderr",
          "text": [
            "WARNING:absl:Found untraced functions such as _jit_compiled_convolution_op while saving (showing 1 of 1). These functions will not be directly callable after loading.\n"
          ]
        },
        {
          "output_type": "stream",
          "name": "stdout",
          "text": [
            "\b\b\b\b\b\b\b\b\b\b\b\b\b\b\b\b\b\b\b\b\b\b\b\b\b\b\b\b\b\b\b\b\b\b\b\b\b\b\b\b\b\b\b\b\b\b\b\b\b\b\b\b\b\b\b\b\b\b\b\b\b\b\b\b\b\r18/18 [==============================] - 1s 57ms/step - loss: 116.8330 - val_loss: 605.7616\n",
            "Epoch 37/100\n",
            " 1/18 [>.............................] - ETA: 0s - loss: 134.0515"
          ]
        },
        {
          "output_type": "stream",
          "name": "stderr",
          "text": [
            "WARNING:absl:Found untraced functions such as _jit_compiled_convolution_op while saving (showing 1 of 1). These functions will not be directly callable after loading.\n"
          ]
        },
        {
          "output_type": "stream",
          "name": "stdout",
          "text": [
            "\b\b\b\b\b\b\b\b\b\b\b\b\b\b\b\b\b\b\b\b\b\b\b\b\b\b\b\b\b\b\b\b\b\b\b\b\b\b\b\b\b\b\b\b\b\b\b\b\b\b\b\b\b\b\b\b\b\b\b\b\b\b\b\b\b\r18/18 [==============================] - 1s 73ms/step - loss: 114.7925 - val_loss: 603.6094\n",
            "Epoch 38/100\n",
            "17/18 [===========================>..] - ETA: 0s - loss: 113.5004"
          ]
        },
        {
          "output_type": "stream",
          "name": "stderr",
          "text": [
            "WARNING:absl:Found untraced functions such as _jit_compiled_convolution_op while saving (showing 1 of 1). These functions will not be directly callable after loading.\n"
          ]
        },
        {
          "output_type": "stream",
          "name": "stdout",
          "text": [
            "\b\b\b\b\b\b\b\b\b\b\b\b\b\b\b\b\b\b\b\b\b\b\b\b\b\b\b\b\b\b\b\b\b\b\b\b\b\b\b\b\b\b\b\b\b\b\b\b\b\b\b\b\b\b\b\b\b\b\b\b\b\b\b\b\b\r18/18 [==============================] - 1s 85ms/step - loss: 113.0861 - val_loss: 602.5891\n",
            "Epoch 39/100\n",
            "10/18 [===============>..............] - ETA: 0s - loss: 115.8286"
          ]
        },
        {
          "output_type": "stream",
          "name": "stderr",
          "text": [
            "WARNING:absl:Found untraced functions such as _jit_compiled_convolution_op while saving (showing 1 of 1). These functions will not be directly callable after loading.\n"
          ]
        },
        {
          "output_type": "stream",
          "name": "stdout",
          "text": [
            "\b\b\b\b\b\b\b\b\b\b\b\b\b\b\b\b\b\b\b\b\b\b\b\b\b\b\b\b\b\b\b\b\b\b\b\b\b\b\b\b\b\b\b\b\b\b\b\b\b\b\b\b\b\b\b\b\b\b\b\b\b\b\b\b\b\r18/18 [==============================] - 2s 91ms/step - loss: 111.9831 - val_loss: 602.2945\n",
            "Epoch 40/100\n",
            "16/18 [=========================>....] - ETA: 0s - loss: 111.4864"
          ]
        },
        {
          "output_type": "stream",
          "name": "stderr",
          "text": [
            "WARNING:absl:Found untraced functions such as _jit_compiled_convolution_op while saving (showing 1 of 1). These functions will not be directly callable after loading.\n"
          ]
        },
        {
          "output_type": "stream",
          "name": "stdout",
          "text": [
            "\b\b\b\b\b\b\b\b\b\b\b\b\b\b\b\b\b\b\b\b\b\b\b\b\b\b\b\b\b\b\b\b\b\b\b\b\b\b\b\b\b\b\b\b\b\b\b\b\b\b\b\b\b\b\b\b\b\b\b\b\b\b\b\b\b\r18/18 [==============================] - 1s 47ms/step - loss: 111.2691 - val_loss: 600.5515\n",
            "Epoch 41/100\n",
            "18/18 [==============================] - 0s 4ms/step - loss: 112.0727 - val_loss: 623.0615\n",
            "Epoch 42/100\n",
            "18/18 [==============================] - 0s 4ms/step - loss: 116.7095 - val_loss: 645.0155\n",
            "Epoch 43/100\n",
            "18/18 [==============================] - 0s 5ms/step - loss: 118.9676 - val_loss: 659.5667\n",
            "Epoch 44/100\n",
            "18/18 [==============================] - 0s 5ms/step - loss: 125.4497 - val_loss: 678.8228\n",
            "Epoch 45/100\n",
            "18/18 [==============================] - 0s 4ms/step - loss: 115.4361 - val_loss: 611.8370\n",
            "Epoch 46/100\n",
            "18/18 [==============================] - ETA: 0s - loss: 114.1717"
          ]
        },
        {
          "output_type": "stream",
          "name": "stderr",
          "text": [
            "WARNING:absl:Found untraced functions such as _jit_compiled_convolution_op while saving (showing 1 of 1). These functions will not be directly callable after loading.\n"
          ]
        },
        {
          "output_type": "stream",
          "name": "stdout",
          "text": [
            "\b\b\b\b\b\b\b\b\b\b\b\b\b\b\b\b\b\b\b\b\b\b\b\b\b\b\b\b\b\b\b\b\b\b\b\b\b\b\b\b\b\b\b\b\b\b\b\b\b\b\b\b\b\b\b\b\b\b\b\b\b\b\b\b\b\r18/18 [==============================] - 1s 36ms/step - loss: 114.1717 - val_loss: 589.6738\n",
            "Epoch 47/100\n",
            "18/18 [==============================] - 0s 5ms/step - loss: 113.7248 - val_loss: 720.2481\n",
            "Epoch 48/100\n",
            "18/18 [==============================] - 0s 4ms/step - loss: 112.0136 - val_loss: 597.4332\n",
            "Epoch 49/100\n",
            "18/18 [==============================] - 0s 6ms/step - loss: 110.5680 - val_loss: 665.2030\n",
            "Epoch 50/100\n",
            "18/18 [==============================] - 0s 4ms/step - loss: 119.7653 - val_loss: 635.1696\n",
            "Epoch 51/100\n",
            " 1/18 [>.............................] - ETA: 0s - loss: 97.6753"
          ]
        },
        {
          "output_type": "stream",
          "name": "stderr",
          "text": [
            "WARNING:absl:Found untraced functions such as _jit_compiled_convolution_op while saving (showing 1 of 1). These functions will not be directly callable after loading.\n"
          ]
        },
        {
          "output_type": "stream",
          "name": "stdout",
          "text": [
            "\b\b\b\b\b\b\b\b\b\b\b\b\b\b\b\b\b\b\b\b\b\b\b\b\b\b\b\b\b\b\b\b\b\b\b\b\b\b\b\b\b\b\b\b\b\b\b\b\b\b\b\b\b\b\b\b\b\b\b\b\b\b\b\b\r18/18 [==============================] - 1s 37ms/step - loss: 110.7739 - val_loss: 586.0245\n",
            "Epoch 52/100\n",
            "18/18 [==============================] - 0s 4ms/step - loss: 111.2179 - val_loss: 595.2483\n",
            "Epoch 53/100\n",
            "18/18 [==============================] - 0s 5ms/step - loss: 113.6466 - val_loss: 670.5778\n",
            "Epoch 54/100\n",
            "18/18 [==============================] - 0s 4ms/step - loss: 126.7883 - val_loss: 648.2971\n",
            "Epoch 55/100\n",
            "18/18 [==============================] - 0s 4ms/step - loss: 110.6968 - val_loss: 593.8555\n",
            "Epoch 56/100\n",
            "18/18 [==============================] - 0s 4ms/step - loss: 109.8592 - val_loss: 766.5007\n",
            "Epoch 57/100\n",
            "18/18 [==============================] - 0s 5ms/step - loss: 124.8183 - val_loss: 712.2674\n",
            "Epoch 58/100\n",
            "18/18 [==============================] - 0s 4ms/step - loss: 120.3515 - val_loss: 698.5149\n",
            "Epoch 59/100\n",
            "18/18 [==============================] - 0s 5ms/step - loss: 110.8185 - val_loss: 592.1150\n",
            "Epoch 60/100\n",
            "18/18 [==============================] - 0s 5ms/step - loss: 110.2038 - val_loss: 616.9358\n",
            "Epoch 61/100\n",
            "18/18 [==============================] - 0s 5ms/step - loss: 111.0310 - val_loss: 588.4846\n",
            "Epoch 62/100\n",
            " 1/18 [>.............................] - ETA: 0s - loss: 74.4340"
          ]
        },
        {
          "output_type": "stream",
          "name": "stderr",
          "text": [
            "WARNING:absl:Found untraced functions such as _jit_compiled_convolution_op while saving (showing 1 of 1). These functions will not be directly callable after loading.\n"
          ]
        },
        {
          "output_type": "stream",
          "name": "stdout",
          "text": [
            "\b\b\b\b\b\b\b\b\b\b\b\b\b\b\b\b\b\b\b\b\b\b\b\b\b\b\b\b\b\b\b\b\b\b\b\b\b\b\b\b\b\b\b\b\b\b\b\b\b\b\b\b\b\b\b\b\b\b\b\b\b\b\b\b\r18/18 [==============================] - 1s 53ms/step - loss: 108.1684 - val_loss: 577.6281\n",
            "Epoch 63/100\n",
            "18/18 [==============================] - 0s 5ms/step - loss: 108.7932 - val_loss: 610.1495\n",
            "Epoch 64/100\n",
            "18/18 [==============================] - 0s 5ms/step - loss: 110.4675 - val_loss: 652.9427\n",
            "Epoch 65/100\n",
            "18/18 [==============================] - 0s 5ms/step - loss: 110.7312 - val_loss: 583.0664\n",
            "Epoch 66/100\n",
            "18/18 [==============================] - 0s 4ms/step - loss: 108.3487 - val_loss: 587.8362\n",
            "Epoch 67/100\n",
            "18/18 [==============================] - 0s 6ms/step - loss: 108.0646 - val_loss: 648.5150\n",
            "Epoch 68/100\n",
            "18/18 [==============================] - 0s 4ms/step - loss: 113.6957 - val_loss: 675.1595\n",
            "Epoch 69/100\n",
            "18/18 [==============================] - 0s 5ms/step - loss: 124.3082 - val_loss: 632.9845\n",
            "Epoch 70/100\n",
            "18/18 [==============================] - 0s 5ms/step - loss: 124.3231 - val_loss: 588.5080\n",
            "Epoch 71/100\n",
            "18/18 [==============================] - 0s 5ms/step - loss: 111.2923 - val_loss: 618.2580\n",
            "Epoch 72/100\n",
            "18/18 [==============================] - 0s 4ms/step - loss: 110.1688 - val_loss: 581.8317\n",
            "Epoch 73/100\n",
            "18/18 [==============================] - 0s 5ms/step - loss: 108.6783 - val_loss: 582.9406\n",
            "Epoch 74/100\n",
            "18/18 [==============================] - 0s 4ms/step - loss: 108.4709 - val_loss: 578.2971\n",
            "Epoch 75/100\n",
            "18/18 [==============================] - 0s 4ms/step - loss: 110.1821 - val_loss: 663.3145\n",
            "Epoch 76/100\n",
            "18/18 [==============================] - 0s 5ms/step - loss: 112.4488 - val_loss: 582.5887\n",
            "Epoch 77/100\n",
            "18/18 [==============================] - 0s 4ms/step - loss: 110.0107 - val_loss: 579.8843\n",
            "Epoch 78/100\n",
            "18/18 [==============================] - 0s 5ms/step - loss: 107.3413 - val_loss: 582.0062\n",
            "Epoch 79/100\n",
            "18/18 [==============================] - 0s 5ms/step - loss: 109.0300 - val_loss: 591.4006\n",
            "Epoch 80/100\n",
            "18/18 [==============================] - 0s 4ms/step - loss: 106.9308 - val_loss: 585.3931\n",
            "Epoch 81/100\n",
            "17/18 [===========================>..] - ETA: 0s - loss: 106.1916"
          ]
        },
        {
          "output_type": "stream",
          "name": "stderr",
          "text": [
            "WARNING:absl:Found untraced functions such as _jit_compiled_convolution_op while saving (showing 1 of 1). These functions will not be directly callable after loading.\n"
          ]
        },
        {
          "output_type": "stream",
          "name": "stdout",
          "text": [
            "\b\b\b\b\b\b\b\b\b\b\b\b\b\b\b\b\b\b\b\b\b\b\b\b\b\b\b\b\b\b\b\b\b\b\b\b\b\b\b\b\b\b\b\b\b\b\b\b\b\b\b\b\b\b\b\b\b\b\b\b\b\b\b\b\b\r18/18 [==============================] - 1s 37ms/step - loss: 106.6291 - val_loss: 575.4403\n",
            "Epoch 82/100\n",
            " 1/18 [>.............................] - ETA: 0s - loss: 192.2652"
          ]
        },
        {
          "output_type": "stream",
          "name": "stderr",
          "text": [
            "WARNING:absl:Found untraced functions such as _jit_compiled_convolution_op while saving (showing 1 of 1). These functions will not be directly callable after loading.\n"
          ]
        },
        {
          "output_type": "stream",
          "name": "stdout",
          "text": [
            "\b\b\b\b\b\b\b\b\b\b\b\b\b\b\b\b\b\b\b\b\b\b\b\b\b\b\b\b\b\b\b\b\b\b\b\b\b\b\b\b\b\b\b\b\b\b\b\b\b\b\b\b\b\b\b\b\b\b\b\b\b\b\b\b\b\r18/18 [==============================] - 1s 35ms/step - loss: 114.2934 - val_loss: 571.6199\n",
            "Epoch 83/100\n",
            "18/18 [==============================] - 0s 4ms/step - loss: 111.1759 - val_loss: 666.0590\n",
            "Epoch 84/100\n",
            "18/18 [==============================] - 0s 5ms/step - loss: 112.2543 - val_loss: 580.0314\n",
            "Epoch 85/100\n",
            "18/18 [==============================] - 0s 4ms/step - loss: 107.7741 - val_loss: 599.6221\n",
            "Epoch 86/100\n",
            "18/18 [==============================] - 0s 5ms/step - loss: 108.7533 - val_loss: 599.0880\n",
            "Epoch 87/100\n",
            "18/18 [==============================] - 0s 5ms/step - loss: 106.9682 - val_loss: 596.5336\n",
            "Epoch 88/100\n",
            "18/18 [==============================] - 0s 4ms/step - loss: 107.9607 - val_loss: 598.1052\n",
            "Epoch 89/100\n",
            " 1/18 [>.............................] - ETA: 0s - loss: 106.7720"
          ]
        },
        {
          "output_type": "stream",
          "name": "stderr",
          "text": [
            "WARNING:absl:Found untraced functions such as _jit_compiled_convolution_op while saving (showing 1 of 1). These functions will not be directly callable after loading.\n"
          ]
        },
        {
          "output_type": "stream",
          "name": "stdout",
          "text": [
            "\b\b\b\b\b\b\b\b\b\b\b\b\b\b\b\b\b\b\b\b\b\b\b\b\b\b\b\b\b\b\b\b\b\b\b\b\b\b\b\b\b\b\b\b\b\b\b\b\b\b\b\b\b\b\b\b\b\b\b\b\b\b\b\b\b\r18/18 [==============================] - 1s 36ms/step - loss: 107.3045 - val_loss: 570.8284\n",
            "Epoch 90/100\n",
            "18/18 [==============================] - 0s 4ms/step - loss: 108.0094 - val_loss: 642.3939\n",
            "Epoch 91/100\n",
            "18/18 [==============================] - 0s 4ms/step - loss: 113.7574 - val_loss: 625.3716\n",
            "Epoch 92/100\n",
            "18/18 [==============================] - 0s 5ms/step - loss: 108.0017 - val_loss: 627.3054\n",
            "Epoch 93/100\n",
            "18/18 [==============================] - 0s 4ms/step - loss: 118.0999 - val_loss: 637.1274\n",
            "Epoch 94/100\n",
            "18/18 [==============================] - 0s 5ms/step - loss: 111.3195 - val_loss: 579.6985\n",
            "Epoch 95/100\n",
            "18/18 [==============================] - 0s 5ms/step - loss: 106.8561 - val_loss: 572.8486\n",
            "Epoch 96/100\n",
            "18/18 [==============================] - 0s 5ms/step - loss: 115.0598 - val_loss: 602.3210\n",
            "Epoch 97/100\n",
            "18/18 [==============================] - 0s 5ms/step - loss: 109.4901 - val_loss: 616.3585\n",
            "Epoch 98/100\n",
            "18/18 [==============================] - 0s 5ms/step - loss: 111.2816 - val_loss: 586.7990\n",
            "Epoch 99/100\n",
            "18/18 [==============================] - 0s 5ms/step - loss: 111.2904 - val_loss: 581.4893\n",
            "Epoch 100/100\n",
            "18/18 [==============================] - 0s 4ms/step - loss: 107.0190 - val_loss: 610.1541\n"
          ]
        },
        {
          "output_type": "execute_result",
          "data": {
            "text/plain": [
              "<keras.callbacks.History at 0x7f09da7e3d00>"
            ]
          },
          "metadata": {},
          "execution_count": 90
        }
      ]
    },
    {
      "cell_type": "code",
      "source": [
        "model_4.summary()"
      ],
      "metadata": {
        "colab": {
          "base_uri": "https://localhost:8080/"
        },
        "id": "QTjR3-EVWvN7",
        "outputId": "6ee97e86-4319-4bd0-886e-3e9aee845e9b"
      },
      "execution_count": 91,
      "outputs": [
        {
          "output_type": "stream",
          "name": "stdout",
          "text": [
            "Model: \"model_4_conv1D\"\n",
            "_________________________________________________________________\n",
            " Layer (type)                Output Shape              Param #   \n",
            "=================================================================\n",
            " lambda_1 (Lambda)           (None, 1, 7)              0         \n",
            "                                                                 \n",
            " conv1d (Conv1D)             (None, 1, 128)            4608      \n",
            "                                                                 \n",
            " dense_6 (Dense)             (None, 1, 1)              129       \n",
            "                                                                 \n",
            "=================================================================\n",
            "Total params: 4,737\n",
            "Trainable params: 4,737\n",
            "Non-trainable params: 0\n",
            "_________________________________________________________________\n"
          ]
        }
      ]
    },
    {
      "cell_type": "code",
      "source": [
        "# Evaluate model\n",
        "model_4.evaluate(test_windows,test_labels)"
      ],
      "metadata": {
        "colab": {
          "base_uri": "https://localhost:8080/"
        },
        "id": "oUfGupF4Xp2z",
        "outputId": "ef8a5236-88e1-4f8a-d27d-f45c43bf3603"
      },
      "execution_count": 92,
      "outputs": [
        {
          "output_type": "stream",
          "name": "stdout",
          "text": [
            "18/18 [==============================] - 0s 3ms/step - loss: 610.1541\n"
          ]
        },
        {
          "output_type": "execute_result",
          "data": {
            "text/plain": [
              "610.154052734375"
            ]
          },
          "metadata": {},
          "execution_count": 92
        }
      ]
    },
    {
      "cell_type": "code",
      "source": [
        "model_4 = tf.keras.models.load_model(\"model_experiments/model_4_conv1D\")\n",
        "model_4.evaluate(test_windows,test_labels)"
      ],
      "metadata": {
        "colab": {
          "base_uri": "https://localhost:8080/"
        },
        "id": "tjsI_RxgYVLD",
        "outputId": "c428975b-0ce1-4547-e1e2-aa24ef91036c"
      },
      "execution_count": 93,
      "outputs": [
        {
          "output_type": "stream",
          "name": "stdout",
          "text": [
            "18/18 [==============================] - 0s 2ms/step - loss: 570.8284\n"
          ]
        },
        {
          "output_type": "execute_result",
          "data": {
            "text/plain": [
              "570.828369140625"
            ]
          },
          "metadata": {},
          "execution_count": 93
        }
      ]
    },
    {
      "cell_type": "code",
      "source": [
        "# Make predictions first\n",
        "model_4_preds = make_preds(model_4,test_windows)\n",
        "model_4_preds[:10]"
      ],
      "metadata": {
        "colab": {
          "base_uri": "https://localhost:8080/"
        },
        "id": "mfnJaP6DYtqB",
        "outputId": "f3a81b85-d627-438c-f34d-6c2a7c5cb369"
      },
      "execution_count": 94,
      "outputs": [
        {
          "output_type": "stream",
          "name": "stdout",
          "text": [
            "18/18 [==============================] - 0s 2ms/step\n"
          ]
        },
        {
          "output_type": "execute_result",
          "data": {
            "text/plain": [
              "<tf.Tensor: shape=(10,), dtype=float32, numpy=\n",
              "array([8851.464, 8754.47 , 8983.927, 8759.671, 8703.627, 8708.294,\n",
              "       8661.667, 8494.839, 8435.316, 8492.114], dtype=float32)>"
            ]
          },
          "metadata": {},
          "execution_count": 94
        }
      ]
    },
    {
      "cell_type": "code",
      "source": [
        "# Evalute preds\n",
        "model_4_results = evaluate_preds(y_true = tf.squeeze(test_labels),\n",
        "                                 y_pred = model_4_preds)\n",
        "model_4_results"
      ],
      "metadata": {
        "colab": {
          "base_uri": "https://localhost:8080/"
        },
        "id": "p8XvatcZZAB2",
        "outputId": "ae977a4d-2ff4-4e5a-ca5d-790cddf100f1"
      },
      "execution_count": 95,
      "outputs": [
        {
          "output_type": "execute_result",
          "data": {
            "text/plain": [
              "{'mae': 570.82837,\n",
              " 'mse': 1176671.2,\n",
              " 'rmse': 1084.7448,\n",
              " 'mape': 2.5593357,\n",
              " 'mase': 1.0027874}"
            ]
          },
          "metadata": {},
          "execution_count": 95
        }
      ]
    },
    {
      "cell_type": "code",
      "source": [
        "model_1_results"
      ],
      "metadata": {
        "colab": {
          "base_uri": "https://localhost:8080/"
        },
        "id": "flHLWOz6ZfSK",
        "outputId": "079e2843-ded5-4537-cd50-f834cc2d7cc2"
      },
      "execution_count": 96,
      "outputs": [
        {
          "output_type": "execute_result",
          "data": {
            "text/plain": [
              "{'mae': 568.9511,\n",
              " 'mse': 1171743.8,\n",
              " 'rmse': 1082.4711,\n",
              " 'mape': 2.5448983,\n",
              " 'mase': 0.99948955}"
            ]
          },
          "metadata": {},
          "execution_count": 96
        }
      ]
    },
    {
      "cell_type": "markdown",
      "source": [
        "## Model_5: RNN(LSTM)"
      ],
      "metadata": {
        "id": "rd8_pq0GZtRh"
      }
    },
    {
      "cell_type": "code",
      "source": [
        "\n",
        "tf.random.set_seed(42)\n",
        "\n",
        "# Lets build an LSTM model with the functional api\n",
        "inputs = layers.Input(shape=(WINDOW_SIZE))\n",
        "x = layers.Lambda(lambda x: tf.expand_dims(x,axis=1))(inputs)\n",
        "#x = layers.LSTM(128,return_sequences=True)(x)\n",
        "x = layers.LSTM(128,activation=\"relu\")(x)\n",
        "#x = layers.Dense(32,activation = \"relu\")(x)\n",
        "output = layers.Dense(HORIZON)(x)\n",
        "model_5 = tf.keras.Model(inputs=inputs,outputs=output,name=\"model_5_LSTM\")\n",
        "\n",
        "# Compile\n",
        "model_5.compile(loss = \"mae\",\n",
        "                 optimizer = tf.keras.optimizers.Adam())\n",
        "\n",
        "# Fit \n",
        "model_5.fit(train_windows,\n",
        "            train_labels,\n",
        "            epochs=100,\n",
        "            verbose = 1,\n",
        "            batch_size =128,\n",
        "            validation_data =(test_windows,test_labels),\n",
        "            callbacks = [create_model_checkpoint(model_name = model_5.name)])"
      ],
      "metadata": {
        "colab": {
          "base_uri": "https://localhost:8080/"
        },
        "id": "hu7wHceFaGCU",
        "outputId": "d01dfdf3-6b3a-4a55-9fd6-8fb5e678659e"
      },
      "execution_count": 97,
      "outputs": [
        {
          "output_type": "stream",
          "name": "stderr",
          "text": [
            "WARNING:tensorflow:Layer lstm will not use cuDNN kernels since it doesn't meet the criteria. It will use a generic GPU kernel as fallback when running on GPU.\n"
          ]
        },
        {
          "output_type": "stream",
          "name": "stdout",
          "text": [
            "Epoch 1/100\n",
            "18/18 [==============================] - 3s 112ms/step - loss: 2323.6082 - val_loss: 9222.6523\n",
            "Epoch 2/100\n",
            "18/18 [==============================] - 2s 114ms/step - loss: 695.4739 - val_loss: 1486.0555\n",
            "Epoch 3/100\n",
            "18/18 [==============================] - 2s 97ms/step - loss: 237.3967 - val_loss: 1298.9084\n",
            "Epoch 4/100\n",
            "18/18 [==============================] - 2s 98ms/step - loss: 181.9180 - val_loss: 966.6431\n",
            "Epoch 5/100\n",
            "18/18 [==============================] - 0s 7ms/step - loss: 173.4022 - val_loss: 970.9295\n",
            "Epoch 6/100\n",
            "18/18 [==============================] - 2s 96ms/step - loss: 173.5414 - val_loss: 941.4746\n",
            "Epoch 7/100\n",
            "18/18 [==============================] - 2s 118ms/step - loss: 170.3566 - val_loss: 898.5215\n",
            "Epoch 8/100\n",
            "18/18 [==============================] - 0s 11ms/step - loss: 157.6712 - val_loss: 914.8642\n",
            "Epoch 9/100\n",
            "18/18 [==============================] - 0s 7ms/step - loss: 166.5143 - val_loss: 1079.0776\n",
            "Epoch 10/100\n",
            "18/18 [==============================] - 2s 97ms/step - loss: 162.3369 - val_loss: 877.1690\n",
            "Epoch 11/100\n",
            "18/18 [==============================] - 0s 6ms/step - loss: 163.0841 - val_loss: 924.1126\n",
            "Epoch 12/100\n",
            "18/18 [==============================] - 0s 6ms/step - loss: 168.5598 - val_loss: 941.6025\n",
            "Epoch 13/100\n",
            "18/18 [==============================] - 0s 7ms/step - loss: 166.4726 - val_loss: 934.8436\n",
            "Epoch 14/100\n",
            "18/18 [==============================] - 0s 6ms/step - loss: 163.9537 - val_loss: 920.2160\n",
            "Epoch 15/100\n",
            "18/18 [==============================] - 2s 97ms/step - loss: 152.9470 - val_loss: 856.2653\n",
            "Epoch 16/100\n",
            "18/18 [==============================] - 0s 6ms/step - loss: 147.4420 - val_loss: 898.9914\n",
            "Epoch 17/100\n",
            "18/18 [==============================] - 0s 6ms/step - loss: 151.0533 - val_loss: 943.1418\n",
            "Epoch 18/100\n",
            "18/18 [==============================] - 0s 7ms/step - loss: 157.8232 - val_loss: 924.0046\n",
            "Epoch 19/100\n",
            "18/18 [==============================] - 0s 6ms/step - loss: 155.9198 - val_loss: 911.4753\n",
            "Epoch 20/100\n",
            "18/18 [==============================] - 0s 6ms/step - loss: 155.6456 - val_loss: 862.6680\n",
            "Epoch 21/100\n",
            "18/18 [==============================] - 0s 7ms/step - loss: 153.1514 - val_loss: 862.5831\n",
            "Epoch 22/100\n",
            "18/18 [==============================] - 0s 6ms/step - loss: 151.4883 - val_loss: 863.8172\n",
            "Epoch 23/100\n",
            "18/18 [==============================] - 0s 8ms/step - loss: 150.7770 - val_loss: 886.8356\n",
            "Epoch 24/100\n",
            "18/18 [==============================] - 0s 6ms/step - loss: 148.6539 - val_loss: 861.3270\n",
            "Epoch 25/100\n",
            "18/18 [==============================] - 2s 101ms/step - loss: 146.8467 - val_loss: 845.2782\n",
            "Epoch 26/100\n",
            "18/18 [==============================] - 2s 98ms/step - loss: 145.9843 - val_loss: 818.6807\n",
            "Epoch 27/100\n",
            "18/18 [==============================] - 2s 118ms/step - loss: 144.4289 - val_loss: 804.3279\n",
            "Epoch 28/100\n",
            "18/18 [==============================] - 2s 100ms/step - loss: 142.4610 - val_loss: 789.0859\n",
            "Epoch 29/100\n",
            "18/18 [==============================] - 0s 6ms/step - loss: 141.8739 - val_loss: 806.6758\n",
            "Epoch 30/100\n",
            "18/18 [==============================] - 0s 7ms/step - loss: 142.0521 - val_loss: 794.8836\n",
            "Epoch 31/100\n",
            "18/18 [==============================] - 2s 95ms/step - loss: 138.4690 - val_loss: 773.2812\n",
            "Epoch 32/100\n",
            "18/18 [==============================] - 2s 95ms/step - loss: 137.1986 - val_loss: 772.2625\n",
            "Epoch 33/100\n",
            "18/18 [==============================] - 0s 6ms/step - loss: 135.9342 - val_loss: 786.4805\n",
            "Epoch 34/100\n",
            "18/18 [==============================] - 2s 115ms/step - loss: 136.1931 - val_loss: 744.4506\n",
            "Epoch 35/100\n",
            "18/18 [==============================] - 0s 7ms/step - loss: 133.4513 - val_loss: 756.2970\n",
            "Epoch 36/100\n",
            "18/18 [==============================] - 2s 99ms/step - loss: 134.0992 - val_loss: 735.1729\n",
            "Epoch 37/100\n",
            "18/18 [==============================] - 0s 7ms/step - loss: 130.6932 - val_loss: 745.9099\n",
            "Epoch 38/100\n",
            "18/18 [==============================] - 2s 99ms/step - loss: 129.2891 - val_loss: 717.2498\n",
            "Epoch 39/100\n",
            "18/18 [==============================] - 0s 7ms/step - loss: 129.6088 - val_loss: 719.0665\n",
            "Epoch 40/100\n",
            "18/18 [==============================] - 0s 6ms/step - loss: 129.6111 - val_loss: 732.0632\n",
            "Epoch 41/100\n",
            "18/18 [==============================] - 2s 99ms/step - loss: 127.1393 - val_loss: 702.9354\n",
            "Epoch 42/100\n",
            "18/18 [==============================] - 3s 155ms/step - loss: 125.6113 - val_loss: 700.8702\n",
            "Epoch 43/100\n",
            "18/18 [==============================] - 0s 7ms/step - loss: 125.9959 - val_loss: 704.3682\n",
            "Epoch 44/100\n",
            "18/18 [==============================] - 2s 98ms/step - loss: 125.2241 - val_loss: 698.7766\n",
            "Epoch 45/100\n",
            "18/18 [==============================] - 2s 99ms/step - loss: 122.5007 - val_loss: 683.0590\n",
            "Epoch 46/100\n",
            "18/18 [==============================] - 2s 99ms/step - loss: 124.4726 - val_loss: 679.1873\n",
            "Epoch 47/100\n",
            "18/18 [==============================] - 0s 6ms/step - loss: 122.1862 - val_loss: 705.4241\n",
            "Epoch 48/100\n",
            "18/18 [==============================] - 2s 97ms/step - loss: 122.0458 - val_loss: 677.0784\n",
            "Epoch 49/100\n",
            "18/18 [==============================] - 2s 124ms/step - loss: 121.1548 - val_loss: 674.6848\n",
            "Epoch 50/100\n",
            "18/18 [==============================] - 0s 6ms/step - loss: 122.8890 - val_loss: 691.4816\n",
            "Epoch 51/100\n",
            "18/18 [==============================] - 0s 6ms/step - loss: 122.2994 - val_loss: 737.3929\n",
            "Epoch 52/100\n",
            "18/18 [==============================] - 2s 100ms/step - loss: 121.2944 - val_loss: 657.2365\n",
            "Epoch 53/100\n",
            "18/18 [==============================] - 3s 152ms/step - loss: 119.7668 - val_loss: 652.7970\n",
            "Epoch 54/100\n",
            "18/18 [==============================] - 0s 21ms/step - loss: 120.1222 - val_loss: 654.4439\n",
            "Epoch 55/100\n",
            "18/18 [==============================] - 2s 100ms/step - loss: 119.2566 - val_loss: 647.2831\n",
            "Epoch 56/100\n",
            "18/18 [==============================] - 2s 122ms/step - loss: 120.0544 - val_loss: 643.7808\n",
            "Epoch 57/100\n",
            "18/18 [==============================] - 0s 7ms/step - loss: 123.1243 - val_loss: 671.1797\n",
            "Epoch 58/100\n",
            "18/18 [==============================] - 2s 100ms/step - loss: 118.4059 - val_loss: 640.2656\n",
            "Epoch 59/100\n",
            "18/18 [==============================] - 0s 7ms/step - loss: 117.7119 - val_loss: 645.3837\n",
            "Epoch 60/100\n",
            "18/18 [==============================] - 2s 100ms/step - loss: 118.5346 - val_loss: 638.7429\n",
            "Epoch 61/100\n",
            "18/18 [==============================] - 0s 6ms/step - loss: 118.3129 - val_loss: 689.4144\n",
            "Epoch 62/100\n",
            "18/18 [==============================] - 0s 6ms/step - loss: 121.4350 - val_loss: 748.5565\n",
            "Epoch 63/100\n",
            "18/18 [==============================] - 0s 6ms/step - loss: 123.1006 - val_loss: 651.8298\n",
            "Epoch 64/100\n",
            "18/18 [==============================] - 0s 7ms/step - loss: 115.9679 - val_loss: 672.9166\n",
            "Epoch 65/100\n",
            "18/18 [==============================] - 2s 101ms/step - loss: 118.8341 - val_loss: 631.7538\n",
            "Epoch 66/100\n",
            "18/18 [==============================] - 0s 7ms/step - loss: 116.2212 - val_loss: 634.5445\n",
            "Epoch 67/100\n",
            "18/18 [==============================] - 2s 120ms/step - loss: 116.1580 - val_loss: 623.8932\n",
            "Epoch 68/100\n",
            "18/18 [==============================] - 0s 8ms/step - loss: 115.5543 - val_loss: 635.4929\n",
            "Epoch 69/100\n",
            "18/18 [==============================] - 0s 6ms/step - loss: 120.5866 - val_loss: 626.3387\n",
            "Epoch 70/100\n",
            "18/18 [==============================] - 2s 100ms/step - loss: 114.9188 - val_loss: 619.3181\n",
            "Epoch 71/100\n",
            "18/18 [==============================] - 0s 7ms/step - loss: 114.8998 - val_loss: 650.9373\n",
            "Epoch 72/100\n",
            "18/18 [==============================] - 0s 8ms/step - loss: 118.2033 - val_loss: 630.5287\n",
            "Epoch 73/100\n",
            "18/18 [==============================] - 0s 7ms/step - loss: 115.3612 - val_loss: 623.0369\n",
            "Epoch 74/100\n",
            "18/18 [==============================] - 0s 6ms/step - loss: 115.0345 - val_loss: 623.0776\n",
            "Epoch 75/100\n",
            "18/18 [==============================] - 0s 6ms/step - loss: 115.2057 - val_loss: 640.5281\n",
            "Epoch 76/100\n",
            "18/18 [==============================] - 2s 101ms/step - loss: 114.1402 - val_loss: 614.4062\n",
            "Epoch 77/100\n",
            "18/18 [==============================] - 0s 7ms/step - loss: 115.5973 - val_loss: 689.8776\n",
            "Epoch 78/100\n",
            "18/18 [==============================] - 0s 6ms/step - loss: 117.2611 - val_loss: 645.2790\n",
            "Epoch 79/100\n",
            "18/18 [==============================] - 2s 97ms/step - loss: 114.1995 - val_loss: 608.7159\n",
            "Epoch 80/100\n",
            "18/18 [==============================] - 0s 6ms/step - loss: 112.7125 - val_loss: 614.9222\n",
            "Epoch 81/100\n",
            "18/18 [==============================] - 0s 6ms/step - loss: 113.3684 - val_loss: 634.8466\n",
            "Epoch 82/100\n",
            "18/18 [==============================] - 2s 97ms/step - loss: 115.9701 - val_loss: 607.8510\n",
            "Epoch 83/100\n",
            "18/18 [==============================] - 0s 7ms/step - loss: 113.3599 - val_loss: 628.8181\n",
            "Epoch 84/100\n",
            "18/18 [==============================] - 0s 7ms/step - loss: 114.4113 - val_loss: 628.5579\n",
            "Epoch 85/100\n",
            "18/18 [==============================] - 0s 7ms/step - loss: 114.8363 - val_loss: 634.7715\n",
            "Epoch 86/100\n",
            "18/18 [==============================] - 0s 7ms/step - loss: 115.5462 - val_loss: 613.5223\n",
            "Epoch 87/100\n",
            "18/18 [==============================] - 2s 120ms/step - loss: 112.5059 - val_loss: 604.7603\n",
            "Epoch 88/100\n",
            "18/18 [==============================] - 2s 100ms/step - loss: 111.7706 - val_loss: 601.5748\n",
            "Epoch 89/100\n",
            "18/18 [==============================] - 0s 7ms/step - loss: 111.8470 - val_loss: 624.0131\n",
            "Epoch 90/100\n",
            "18/18 [==============================] - 0s 6ms/step - loss: 115.6354 - val_loss: 662.9452\n",
            "Epoch 91/100\n",
            "18/18 [==============================] - 0s 6ms/step - loss: 116.1836 - val_loss: 636.0310\n",
            "Epoch 92/100\n",
            "18/18 [==============================] - 0s 7ms/step - loss: 113.1700 - val_loss: 606.0366\n",
            "Epoch 93/100\n",
            "18/18 [==============================] - 2s 100ms/step - loss: 112.4748 - val_loss: 599.8319\n",
            "Epoch 94/100\n",
            "18/18 [==============================] - 0s 6ms/step - loss: 111.2637 - val_loss: 601.3256\n",
            "Epoch 95/100\n",
            "18/18 [==============================] - 2s 98ms/step - loss: 111.0185 - val_loss: 597.1485\n",
            "Epoch 96/100\n",
            "18/18 [==============================] - 0s 6ms/step - loss: 112.3787 - val_loss: 601.1596\n",
            "Epoch 97/100\n",
            "18/18 [==============================] - 0s 7ms/step - loss: 111.4700 - val_loss: 626.1573\n",
            "Epoch 98/100\n",
            "18/18 [==============================] - 0s 6ms/step - loss: 111.7326 - val_loss: 601.0142\n",
            "Epoch 99/100\n",
            "18/18 [==============================] - 2s 116ms/step - loss: 110.7480 - val_loss: 594.6030\n",
            "Epoch 100/100\n",
            "18/18 [==============================] - 0s 6ms/step - loss: 111.9943 - val_loss: 595.9847\n"
          ]
        },
        {
          "output_type": "execute_result",
          "data": {
            "text/plain": [
              "<keras.callbacks.History at 0x7f09d8684e20>"
            ]
          },
          "metadata": {},
          "execution_count": 97
        }
      ]
    },
    {
      "cell_type": "code",
      "source": [
        "# Load in best version of model 5 and evaluate it\n",
        "model_5 = tf.keras.models.load_model(\"model_experiments/model_5_LSTM\")\n",
        "model_5.evaluate(test_windows,test_labels)"
      ],
      "metadata": {
        "colab": {
          "base_uri": "https://localhost:8080/"
        },
        "id": "mV_j_lTy2IJK",
        "outputId": "72c3fd16-993c-4146-808a-90b4f801a849"
      },
      "execution_count": 98,
      "outputs": [
        {
          "output_type": "stream",
          "name": "stderr",
          "text": [
            "WARNING:tensorflow:Layer lstm will not use cuDNN kernels since it doesn't meet the criteria. It will use a generic GPU kernel as fallback when running on GPU.\n"
          ]
        },
        {
          "output_type": "stream",
          "name": "stdout",
          "text": [
            "18/18 [==============================] - 0s 2ms/step - loss: 594.6030\n"
          ]
        },
        {
          "output_type": "execute_result",
          "data": {
            "text/plain": [
              "594.6029663085938"
            ]
          },
          "metadata": {},
          "execution_count": 98
        }
      ]
    },
    {
      "cell_type": "code",
      "source": [
        "# Make prediction with our LSTM model\n",
        "model_5_preds = make_preds(model_5,test_windows)\n",
        "model_5_preds[:5]"
      ],
      "metadata": {
        "colab": {
          "base_uri": "https://localhost:8080/"
        },
        "id": "iF3eWi9X5WTh",
        "outputId": "569b81c5-a089-477d-e155-d250a3ff2323"
      },
      "execution_count": 99,
      "outputs": [
        {
          "output_type": "stream",
          "name": "stdout",
          "text": [
            "18/18 [==============================] - 0s 2ms/step\n"
          ]
        },
        {
          "output_type": "execute_result",
          "data": {
            "text/plain": [
              "<tf.Tensor: shape=(5,), dtype=float32, numpy=array([8978.46 , 8810.951, 8997.779, 8836.308, 8731.047], dtype=float32)>"
            ]
          },
          "metadata": {},
          "execution_count": 99
        }
      ]
    },
    {
      "cell_type": "code",
      "source": [
        "# Evaluate model 5 predictions\n",
        "model_5_results = evaluate_preds(y_true = tf.squeeze(test_labels),\n",
        "                                 y_pred = model_5_preds)\n",
        "model_5_results"
      ],
      "metadata": {
        "colab": {
          "base_uri": "https://localhost:8080/"
        },
        "id": "C6Xd8HSt5nCa",
        "outputId": "81cfafd5-2a90-4d94-b540-eba47bec0cac"
      },
      "execution_count": 100,
      "outputs": [
        {
          "output_type": "execute_result",
          "data": {
            "text/plain": [
              "{'mae': 594.60297,\n",
              " 'mse': 1267231.9,\n",
              " 'rmse': 1125.7139,\n",
              " 'mape': 2.6717565,\n",
              " 'mase': 1.0445527}"
            ]
          },
          "metadata": {},
          "execution_count": 100
        }
      ]
    },
    {
      "cell_type": "markdown",
      "source": [
        "## Make a multivariate time series dataset\n",
        "\n",
        "Before we add a feature to our time series what is the feature we can use\n",
        "\n",
        "one feature we could add is wether or not *** tweeted that day\n",
        "\n",
        "Whats better feature is there to use\n",
        "how about the bitcoin halving event"
      ],
      "metadata": {
        "id": "3dNrY6OB6AoA"
      }
    },
    {
      "cell_type": "code",
      "source": [
        "# Lets make a multivariate time series\n",
        "bitcoin_prices"
      ],
      "metadata": {
        "id": "z-eNqxA1CFEK",
        "colab": {
          "base_uri": "https://localhost:8080/",
          "height": 0
        },
        "outputId": "5d956993-be90-411a-908e-81c602d21e23"
      },
      "execution_count": 101,
      "outputs": [
        {
          "output_type": "execute_result",
          "data": {
            "text/plain": [
              "                   Price\n",
              "Date                    \n",
              "2013-10-01    123.654990\n",
              "2013-10-02    125.455000\n",
              "2013-10-03    108.584830\n",
              "2013-10-04    118.674660\n",
              "2013-10-05    121.338660\n",
              "...                  ...\n",
              "2021-05-14  49764.132082\n",
              "2021-05-15  50032.693137\n",
              "2021-05-16  47885.625255\n",
              "2021-05-17  45604.615754\n",
              "2021-05-18  43144.471291\n",
              "\n",
              "[2787 rows x 1 columns]"
            ],
            "text/html": [
              "\n",
              "  <div id=\"df-e5ec271e-a2e7-4c00-aa03-5e880d7f1e2f\">\n",
              "    <div class=\"colab-df-container\">\n",
              "      <div>\n",
              "<style scoped>\n",
              "    .dataframe tbody tr th:only-of-type {\n",
              "        vertical-align: middle;\n",
              "    }\n",
              "\n",
              "    .dataframe tbody tr th {\n",
              "        vertical-align: top;\n",
              "    }\n",
              "\n",
              "    .dataframe thead th {\n",
              "        text-align: right;\n",
              "    }\n",
              "</style>\n",
              "<table border=\"1\" class=\"dataframe\">\n",
              "  <thead>\n",
              "    <tr style=\"text-align: right;\">\n",
              "      <th></th>\n",
              "      <th>Price</th>\n",
              "    </tr>\n",
              "    <tr>\n",
              "      <th>Date</th>\n",
              "      <th></th>\n",
              "    </tr>\n",
              "  </thead>\n",
              "  <tbody>\n",
              "    <tr>\n",
              "      <th>2013-10-01</th>\n",
              "      <td>123.654990</td>\n",
              "    </tr>\n",
              "    <tr>\n",
              "      <th>2013-10-02</th>\n",
              "      <td>125.455000</td>\n",
              "    </tr>\n",
              "    <tr>\n",
              "      <th>2013-10-03</th>\n",
              "      <td>108.584830</td>\n",
              "    </tr>\n",
              "    <tr>\n",
              "      <th>2013-10-04</th>\n",
              "      <td>118.674660</td>\n",
              "    </tr>\n",
              "    <tr>\n",
              "      <th>2013-10-05</th>\n",
              "      <td>121.338660</td>\n",
              "    </tr>\n",
              "    <tr>\n",
              "      <th>...</th>\n",
              "      <td>...</td>\n",
              "    </tr>\n",
              "    <tr>\n",
              "      <th>2021-05-14</th>\n",
              "      <td>49764.132082</td>\n",
              "    </tr>\n",
              "    <tr>\n",
              "      <th>2021-05-15</th>\n",
              "      <td>50032.693137</td>\n",
              "    </tr>\n",
              "    <tr>\n",
              "      <th>2021-05-16</th>\n",
              "      <td>47885.625255</td>\n",
              "    </tr>\n",
              "    <tr>\n",
              "      <th>2021-05-17</th>\n",
              "      <td>45604.615754</td>\n",
              "    </tr>\n",
              "    <tr>\n",
              "      <th>2021-05-18</th>\n",
              "      <td>43144.471291</td>\n",
              "    </tr>\n",
              "  </tbody>\n",
              "</table>\n",
              "<p>2787 rows × 1 columns</p>\n",
              "</div>\n",
              "      <button class=\"colab-df-convert\" onclick=\"convertToInteractive('df-e5ec271e-a2e7-4c00-aa03-5e880d7f1e2f')\"\n",
              "              title=\"Convert this dataframe to an interactive table.\"\n",
              "              style=\"display:none;\">\n",
              "        \n",
              "  <svg xmlns=\"http://www.w3.org/2000/svg\" height=\"24px\"viewBox=\"0 0 24 24\"\n",
              "       width=\"24px\">\n",
              "    <path d=\"M0 0h24v24H0V0z\" fill=\"none\"/>\n",
              "    <path d=\"M18.56 5.44l.94 2.06.94-2.06 2.06-.94-2.06-.94-.94-2.06-.94 2.06-2.06.94zm-11 1L8.5 8.5l.94-2.06 2.06-.94-2.06-.94L8.5 2.5l-.94 2.06-2.06.94zm10 10l.94 2.06.94-2.06 2.06-.94-2.06-.94-.94-2.06-.94 2.06-2.06.94z\"/><path d=\"M17.41 7.96l-1.37-1.37c-.4-.4-.92-.59-1.43-.59-.52 0-1.04.2-1.43.59L10.3 9.45l-7.72 7.72c-.78.78-.78 2.05 0 2.83L4 21.41c.39.39.9.59 1.41.59.51 0 1.02-.2 1.41-.59l7.78-7.78 2.81-2.81c.8-.78.8-2.07 0-2.86zM5.41 20L4 18.59l7.72-7.72 1.47 1.35L5.41 20z\"/>\n",
              "  </svg>\n",
              "      </button>\n",
              "      \n",
              "  <style>\n",
              "    .colab-df-container {\n",
              "      display:flex;\n",
              "      flex-wrap:wrap;\n",
              "      gap: 12px;\n",
              "    }\n",
              "\n",
              "    .colab-df-convert {\n",
              "      background-color: #E8F0FE;\n",
              "      border: none;\n",
              "      border-radius: 50%;\n",
              "      cursor: pointer;\n",
              "      display: none;\n",
              "      fill: #1967D2;\n",
              "      height: 32px;\n",
              "      padding: 0 0 0 0;\n",
              "      width: 32px;\n",
              "    }\n",
              "\n",
              "    .colab-df-convert:hover {\n",
              "      background-color: #E2EBFA;\n",
              "      box-shadow: 0px 1px 2px rgba(60, 64, 67, 0.3), 0px 1px 3px 1px rgba(60, 64, 67, 0.15);\n",
              "      fill: #174EA6;\n",
              "    }\n",
              "\n",
              "    [theme=dark] .colab-df-convert {\n",
              "      background-color: #3B4455;\n",
              "      fill: #D2E3FC;\n",
              "    }\n",
              "\n",
              "    [theme=dark] .colab-df-convert:hover {\n",
              "      background-color: #434B5C;\n",
              "      box-shadow: 0px 1px 3px 1px rgba(0, 0, 0, 0.15);\n",
              "      filter: drop-shadow(0px 1px 2px rgba(0, 0, 0, 0.3));\n",
              "      fill: #FFFFFF;\n",
              "    }\n",
              "  </style>\n",
              "\n",
              "      <script>\n",
              "        const buttonEl =\n",
              "          document.querySelector('#df-e5ec271e-a2e7-4c00-aa03-5e880d7f1e2f button.colab-df-convert');\n",
              "        buttonEl.style.display =\n",
              "          google.colab.kernel.accessAllowed ? 'block' : 'none';\n",
              "\n",
              "        async function convertToInteractive(key) {\n",
              "          const element = document.querySelector('#df-e5ec271e-a2e7-4c00-aa03-5e880d7f1e2f');\n",
              "          const dataTable =\n",
              "            await google.colab.kernel.invokeFunction('convertToInteractive',\n",
              "                                                     [key], {});\n",
              "          if (!dataTable) return;\n",
              "\n",
              "          const docLinkHtml = 'Like what you see? Visit the ' +\n",
              "            '<a target=\"_blank\" href=https://colab.research.google.com/notebooks/data_table.ipynb>data table notebook</a>'\n",
              "            + ' to learn more about interactive tables.';\n",
              "          element.innerHTML = '';\n",
              "          dataTable['output_type'] = 'display_data';\n",
              "          await google.colab.output.renderOutput(dataTable, element);\n",
              "          const docLink = document.createElement('div');\n",
              "          docLink.innerHTML = docLinkHtml;\n",
              "          element.appendChild(docLink);\n",
              "        }\n",
              "      </script>\n",
              "    </div>\n",
              "  </div>\n",
              "  "
            ]
          },
          "metadata": {},
          "execution_count": 101
        }
      ]
    },
    {
      "cell_type": "code",
      "source": [
        "# Lets add the bitcoin halving events to our dataset\n",
        "block_reward_1 = 50 # 3 january 2009 - this block reward isnt in our dataset\n",
        "block_reward_2 = 25 # 8 nov 2012\n",
        "block_reward_3 = 12.5 # 9 july 2006\n",
        "block_reward_4 = 6.25 # 18 May 2020\n",
        "\n",
        "# Block reward dates\n",
        "block_reward_2_datetime = np.datetime64(\"2012-11-28\")\n",
        "block_reward_3_datetime = np.datetime64(\"2016-07-09\")\n",
        "block_reward_4_datetime = np.datetime64(\"2020-05-18\")"
      ],
      "metadata": {
        "id": "7N6rijaUbDEm"
      },
      "execution_count": 102,
      "outputs": []
    },
    {
      "cell_type": "code",
      "source": [
        "# Create date ranges of where specific block_reward values will be\n",
        "block_reward_2_days = (block_reward_3_datetime - bitcoin_prices.index[0]).days\n",
        "block_reward_3_days = (block_reward_4_datetime - bitcoin_prices.index[0]).days\n",
        "block_reward_2_days,block_reward_3_days"
      ],
      "metadata": {
        "colab": {
          "base_uri": "https://localhost:8080/"
        },
        "id": "jbHRvZamdOBF",
        "outputId": "939664df-431c-467a-b7e5-ed79050d7245"
      },
      "execution_count": 103,
      "outputs": [
        {
          "output_type": "execute_result",
          "data": {
            "text/plain": [
              "(1012, 2421)"
            ]
          },
          "metadata": {},
          "execution_count": 103
        }
      ]
    },
    {
      "cell_type": "code",
      "source": [
        "# Add in block reward column\n",
        "bitcoin_prices_block = bitcoin_prices.copy()\n",
        "bitcoin_prices_block[\"block_reward\"] = None\n",
        "\n",
        "# Add in block reward values as a feature to our dataframe\n",
        "bitcoin_prices_block.iloc[:block_reward_2_days,-1] = block_reward_2\n",
        "bitcoin_prices_block.iloc[block_reward_2_days:block_reward_3_days,-1] = block_reward_3\n",
        "bitcoin_prices_block.iloc[block_reward_3_days:,-1] = block_reward_4"
      ],
      "metadata": {
        "id": "-Ld_f9ZSlK1v"
      },
      "execution_count": 104,
      "outputs": []
    },
    {
      "cell_type": "code",
      "source": [
        "bitcoin_prices_block.head()"
      ],
      "metadata": {
        "colab": {
          "base_uri": "https://localhost:8080/",
          "height": 0
        },
        "id": "e9g5qp5DoIV1",
        "outputId": "2a182d97-12a8-49c7-dad7-14f150d77e3a"
      },
      "execution_count": 105,
      "outputs": [
        {
          "output_type": "execute_result",
          "data": {
            "text/plain": [
              "                Price block_reward\n",
              "Date                              \n",
              "2013-10-01  123.65499           25\n",
              "2013-10-02  125.45500           25\n",
              "2013-10-03  108.58483           25\n",
              "2013-10-04  118.67466           25\n",
              "2013-10-05  121.33866           25"
            ],
            "text/html": [
              "\n",
              "  <div id=\"df-86b6ff7b-b758-43fe-8aba-3b815af63b21\">\n",
              "    <div class=\"colab-df-container\">\n",
              "      <div>\n",
              "<style scoped>\n",
              "    .dataframe tbody tr th:only-of-type {\n",
              "        vertical-align: middle;\n",
              "    }\n",
              "\n",
              "    .dataframe tbody tr th {\n",
              "        vertical-align: top;\n",
              "    }\n",
              "\n",
              "    .dataframe thead th {\n",
              "        text-align: right;\n",
              "    }\n",
              "</style>\n",
              "<table border=\"1\" class=\"dataframe\">\n",
              "  <thead>\n",
              "    <tr style=\"text-align: right;\">\n",
              "      <th></th>\n",
              "      <th>Price</th>\n",
              "      <th>block_reward</th>\n",
              "    </tr>\n",
              "    <tr>\n",
              "      <th>Date</th>\n",
              "      <th></th>\n",
              "      <th></th>\n",
              "    </tr>\n",
              "  </thead>\n",
              "  <tbody>\n",
              "    <tr>\n",
              "      <th>2013-10-01</th>\n",
              "      <td>123.65499</td>\n",
              "      <td>25</td>\n",
              "    </tr>\n",
              "    <tr>\n",
              "      <th>2013-10-02</th>\n",
              "      <td>125.45500</td>\n",
              "      <td>25</td>\n",
              "    </tr>\n",
              "    <tr>\n",
              "      <th>2013-10-03</th>\n",
              "      <td>108.58483</td>\n",
              "      <td>25</td>\n",
              "    </tr>\n",
              "    <tr>\n",
              "      <th>2013-10-04</th>\n",
              "      <td>118.67466</td>\n",
              "      <td>25</td>\n",
              "    </tr>\n",
              "    <tr>\n",
              "      <th>2013-10-05</th>\n",
              "      <td>121.33866</td>\n",
              "      <td>25</td>\n",
              "    </tr>\n",
              "  </tbody>\n",
              "</table>\n",
              "</div>\n",
              "      <button class=\"colab-df-convert\" onclick=\"convertToInteractive('df-86b6ff7b-b758-43fe-8aba-3b815af63b21')\"\n",
              "              title=\"Convert this dataframe to an interactive table.\"\n",
              "              style=\"display:none;\">\n",
              "        \n",
              "  <svg xmlns=\"http://www.w3.org/2000/svg\" height=\"24px\"viewBox=\"0 0 24 24\"\n",
              "       width=\"24px\">\n",
              "    <path d=\"M0 0h24v24H0V0z\" fill=\"none\"/>\n",
              "    <path d=\"M18.56 5.44l.94 2.06.94-2.06 2.06-.94-2.06-.94-.94-2.06-.94 2.06-2.06.94zm-11 1L8.5 8.5l.94-2.06 2.06-.94-2.06-.94L8.5 2.5l-.94 2.06-2.06.94zm10 10l.94 2.06.94-2.06 2.06-.94-2.06-.94-.94-2.06-.94 2.06-2.06.94z\"/><path d=\"M17.41 7.96l-1.37-1.37c-.4-.4-.92-.59-1.43-.59-.52 0-1.04.2-1.43.59L10.3 9.45l-7.72 7.72c-.78.78-.78 2.05 0 2.83L4 21.41c.39.39.9.59 1.41.59.51 0 1.02-.2 1.41-.59l7.78-7.78 2.81-2.81c.8-.78.8-2.07 0-2.86zM5.41 20L4 18.59l7.72-7.72 1.47 1.35L5.41 20z\"/>\n",
              "  </svg>\n",
              "      </button>\n",
              "      \n",
              "  <style>\n",
              "    .colab-df-container {\n",
              "      display:flex;\n",
              "      flex-wrap:wrap;\n",
              "      gap: 12px;\n",
              "    }\n",
              "\n",
              "    .colab-df-convert {\n",
              "      background-color: #E8F0FE;\n",
              "      border: none;\n",
              "      border-radius: 50%;\n",
              "      cursor: pointer;\n",
              "      display: none;\n",
              "      fill: #1967D2;\n",
              "      height: 32px;\n",
              "      padding: 0 0 0 0;\n",
              "      width: 32px;\n",
              "    }\n",
              "\n",
              "    .colab-df-convert:hover {\n",
              "      background-color: #E2EBFA;\n",
              "      box-shadow: 0px 1px 2px rgba(60, 64, 67, 0.3), 0px 1px 3px 1px rgba(60, 64, 67, 0.15);\n",
              "      fill: #174EA6;\n",
              "    }\n",
              "\n",
              "    [theme=dark] .colab-df-convert {\n",
              "      background-color: #3B4455;\n",
              "      fill: #D2E3FC;\n",
              "    }\n",
              "\n",
              "    [theme=dark] .colab-df-convert:hover {\n",
              "      background-color: #434B5C;\n",
              "      box-shadow: 0px 1px 3px 1px rgba(0, 0, 0, 0.15);\n",
              "      filter: drop-shadow(0px 1px 2px rgba(0, 0, 0, 0.3));\n",
              "      fill: #FFFFFF;\n",
              "    }\n",
              "  </style>\n",
              "\n",
              "      <script>\n",
              "        const buttonEl =\n",
              "          document.querySelector('#df-86b6ff7b-b758-43fe-8aba-3b815af63b21 button.colab-df-convert');\n",
              "        buttonEl.style.display =\n",
              "          google.colab.kernel.accessAllowed ? 'block' : 'none';\n",
              "\n",
              "        async function convertToInteractive(key) {\n",
              "          const element = document.querySelector('#df-86b6ff7b-b758-43fe-8aba-3b815af63b21');\n",
              "          const dataTable =\n",
              "            await google.colab.kernel.invokeFunction('convertToInteractive',\n",
              "                                                     [key], {});\n",
              "          if (!dataTable) return;\n",
              "\n",
              "          const docLinkHtml = 'Like what you see? Visit the ' +\n",
              "            '<a target=\"_blank\" href=https://colab.research.google.com/notebooks/data_table.ipynb>data table notebook</a>'\n",
              "            + ' to learn more about interactive tables.';\n",
              "          element.innerHTML = '';\n",
              "          dataTable['output_type'] = 'display_data';\n",
              "          await google.colab.output.renderOutput(dataTable, element);\n",
              "          const docLink = document.createElement('div');\n",
              "          docLink.innerHTML = docLinkHtml;\n",
              "          element.appendChild(docLink);\n",
              "        }\n",
              "      </script>\n",
              "    </div>\n",
              "  </div>\n",
              "  "
            ]
          },
          "metadata": {},
          "execution_count": 105
        }
      ]
    },
    {
      "cell_type": "code",
      "source": [
        "bitcoin_prices_block.tail()"
      ],
      "metadata": {
        "colab": {
          "base_uri": "https://localhost:8080/",
          "height": 0
        },
        "id": "7Us0Xg1Iobx0",
        "outputId": "c9fac903-3ab3-4c00-9121-4d1005363eb4"
      },
      "execution_count": 106,
      "outputs": [
        {
          "output_type": "execute_result",
          "data": {
            "text/plain": [
              "                   Price block_reward\n",
              "Date                                 \n",
              "2021-05-14  49764.132082         6.25\n",
              "2021-05-15  50032.693137         6.25\n",
              "2021-05-16  47885.625255         6.25\n",
              "2021-05-17  45604.615754         6.25\n",
              "2021-05-18  43144.471291         6.25"
            ],
            "text/html": [
              "\n",
              "  <div id=\"df-cbf8b8e4-4a2c-4d16-8a36-50ab484704ec\">\n",
              "    <div class=\"colab-df-container\">\n",
              "      <div>\n",
              "<style scoped>\n",
              "    .dataframe tbody tr th:only-of-type {\n",
              "        vertical-align: middle;\n",
              "    }\n",
              "\n",
              "    .dataframe tbody tr th {\n",
              "        vertical-align: top;\n",
              "    }\n",
              "\n",
              "    .dataframe thead th {\n",
              "        text-align: right;\n",
              "    }\n",
              "</style>\n",
              "<table border=\"1\" class=\"dataframe\">\n",
              "  <thead>\n",
              "    <tr style=\"text-align: right;\">\n",
              "      <th></th>\n",
              "      <th>Price</th>\n",
              "      <th>block_reward</th>\n",
              "    </tr>\n",
              "    <tr>\n",
              "      <th>Date</th>\n",
              "      <th></th>\n",
              "      <th></th>\n",
              "    </tr>\n",
              "  </thead>\n",
              "  <tbody>\n",
              "    <tr>\n",
              "      <th>2021-05-14</th>\n",
              "      <td>49764.132082</td>\n",
              "      <td>6.25</td>\n",
              "    </tr>\n",
              "    <tr>\n",
              "      <th>2021-05-15</th>\n",
              "      <td>50032.693137</td>\n",
              "      <td>6.25</td>\n",
              "    </tr>\n",
              "    <tr>\n",
              "      <th>2021-05-16</th>\n",
              "      <td>47885.625255</td>\n",
              "      <td>6.25</td>\n",
              "    </tr>\n",
              "    <tr>\n",
              "      <th>2021-05-17</th>\n",
              "      <td>45604.615754</td>\n",
              "      <td>6.25</td>\n",
              "    </tr>\n",
              "    <tr>\n",
              "      <th>2021-05-18</th>\n",
              "      <td>43144.471291</td>\n",
              "      <td>6.25</td>\n",
              "    </tr>\n",
              "  </tbody>\n",
              "</table>\n",
              "</div>\n",
              "      <button class=\"colab-df-convert\" onclick=\"convertToInteractive('df-cbf8b8e4-4a2c-4d16-8a36-50ab484704ec')\"\n",
              "              title=\"Convert this dataframe to an interactive table.\"\n",
              "              style=\"display:none;\">\n",
              "        \n",
              "  <svg xmlns=\"http://www.w3.org/2000/svg\" height=\"24px\"viewBox=\"0 0 24 24\"\n",
              "       width=\"24px\">\n",
              "    <path d=\"M0 0h24v24H0V0z\" fill=\"none\"/>\n",
              "    <path d=\"M18.56 5.44l.94 2.06.94-2.06 2.06-.94-2.06-.94-.94-2.06-.94 2.06-2.06.94zm-11 1L8.5 8.5l.94-2.06 2.06-.94-2.06-.94L8.5 2.5l-.94 2.06-2.06.94zm10 10l.94 2.06.94-2.06 2.06-.94-2.06-.94-.94-2.06-.94 2.06-2.06.94z\"/><path d=\"M17.41 7.96l-1.37-1.37c-.4-.4-.92-.59-1.43-.59-.52 0-1.04.2-1.43.59L10.3 9.45l-7.72 7.72c-.78.78-.78 2.05 0 2.83L4 21.41c.39.39.9.59 1.41.59.51 0 1.02-.2 1.41-.59l7.78-7.78 2.81-2.81c.8-.78.8-2.07 0-2.86zM5.41 20L4 18.59l7.72-7.72 1.47 1.35L5.41 20z\"/>\n",
              "  </svg>\n",
              "      </button>\n",
              "      \n",
              "  <style>\n",
              "    .colab-df-container {\n",
              "      display:flex;\n",
              "      flex-wrap:wrap;\n",
              "      gap: 12px;\n",
              "    }\n",
              "\n",
              "    .colab-df-convert {\n",
              "      background-color: #E8F0FE;\n",
              "      border: none;\n",
              "      border-radius: 50%;\n",
              "      cursor: pointer;\n",
              "      display: none;\n",
              "      fill: #1967D2;\n",
              "      height: 32px;\n",
              "      padding: 0 0 0 0;\n",
              "      width: 32px;\n",
              "    }\n",
              "\n",
              "    .colab-df-convert:hover {\n",
              "      background-color: #E2EBFA;\n",
              "      box-shadow: 0px 1px 2px rgba(60, 64, 67, 0.3), 0px 1px 3px 1px rgba(60, 64, 67, 0.15);\n",
              "      fill: #174EA6;\n",
              "    }\n",
              "\n",
              "    [theme=dark] .colab-df-convert {\n",
              "      background-color: #3B4455;\n",
              "      fill: #D2E3FC;\n",
              "    }\n",
              "\n",
              "    [theme=dark] .colab-df-convert:hover {\n",
              "      background-color: #434B5C;\n",
              "      box-shadow: 0px 1px 3px 1px rgba(0, 0, 0, 0.15);\n",
              "      filter: drop-shadow(0px 1px 2px rgba(0, 0, 0, 0.3));\n",
              "      fill: #FFFFFF;\n",
              "    }\n",
              "  </style>\n",
              "\n",
              "      <script>\n",
              "        const buttonEl =\n",
              "          document.querySelector('#df-cbf8b8e4-4a2c-4d16-8a36-50ab484704ec button.colab-df-convert');\n",
              "        buttonEl.style.display =\n",
              "          google.colab.kernel.accessAllowed ? 'block' : 'none';\n",
              "\n",
              "        async function convertToInteractive(key) {\n",
              "          const element = document.querySelector('#df-cbf8b8e4-4a2c-4d16-8a36-50ab484704ec');\n",
              "          const dataTable =\n",
              "            await google.colab.kernel.invokeFunction('convertToInteractive',\n",
              "                                                     [key], {});\n",
              "          if (!dataTable) return;\n",
              "\n",
              "          const docLinkHtml = 'Like what you see? Visit the ' +\n",
              "            '<a target=\"_blank\" href=https://colab.research.google.com/notebooks/data_table.ipynb>data table notebook</a>'\n",
              "            + ' to learn more about interactive tables.';\n",
              "          element.innerHTML = '';\n",
              "          dataTable['output_type'] = 'display_data';\n",
              "          await google.colab.output.renderOutput(dataTable, element);\n",
              "          const docLink = document.createElement('div');\n",
              "          docLink.innerHTML = docLinkHtml;\n",
              "          element.appendChild(docLink);\n",
              "        }\n",
              "      </script>\n",
              "    </div>\n",
              "  </div>\n",
              "  "
            ]
          },
          "metadata": {},
          "execution_count": 106
        }
      ]
    },
    {
      "cell_type": "code",
      "source": [
        "# Plot the block reward vs price over time\n",
        "from sklearn.preprocessing import minmax_scale\n",
        "scaled_price_block_df = pd.DataFrame(minmax_scale(bitcoin_prices_block[[\"Price\",\"block_reward\"]]),\n",
        "                                     columns=bitcoin_prices_block.columns,\n",
        "                                     index = bitcoin_prices_block.index)\n",
        "scaled_price_block_df.plot(figsize=(10,7))"
      ],
      "metadata": {
        "colab": {
          "base_uri": "https://localhost:8080/",
          "height": 0
        },
        "id": "UowtJF_7ojPb",
        "outputId": "6d1e5c93-3852-4540-b2bf-28e1af01c497"
      },
      "execution_count": 107,
      "outputs": [
        {
          "output_type": "execute_result",
          "data": {
            "text/plain": [
              "<matplotlib.axes._subplots.AxesSubplot at 0x7f09d8fee130>"
            ]
          },
          "metadata": {},
          "execution_count": 107
        },
        {
          "output_type": "display_data",
          "data": {
            "text/plain": [
              "<Figure size 720x504 with 1 Axes>"
            ],
            "image/png": "[encoded data removed]"
          },
          "metadata": {
            "needs_background": "light"
          }
        }
      ]
    },
    {
      "cell_type": "markdown",
      "source": [
        "## Making a windowed dataset with pandas\n",
        "Previously we turned our univariate time series into windows but this time we got multivariate time series so we will use pandas.DataFrame.shift"
      ],
      "metadata": {
        "id": "unS-ThBEqaG7"
      }
    },
    {
      "cell_type": "code",
      "source": [
        "# Setup dataset hyperparameters\n",
        "HORIZON =1\n",
        "WINDOW_SIZE = 7"
      ],
      "metadata": {
        "id": "o3ymB77gsNJz"
      },
      "execution_count": 108,
      "outputs": []
    },
    {
      "cell_type": "code",
      "source": [
        "# Make a copy of the bitcoin historical data with block reward feature\n",
        "bitcoin_prices_windowed = bitcoin_prices_block.copy()\n",
        "\n",
        "# Add windowed columns\n",
        "for i in range(WINDOW_SIZE): # shift value for each step in WINDOW_SIZE\n",
        "  bitcoin_prices_windowed[f\"Price+{i+1}\"] = bitcoin_prices_windowed[\"Price\"].shift(periods=i+1)\n",
        "bitcoin_prices_windowed.head(10)"
      ],
      "metadata": {
        "colab": {
          "base_uri": "https://localhost:8080/",
          "height": 0
        },
        "id": "1hQG1FdNsYyC",
        "outputId": "d48c033b-cd58-49fe-ce79-01e166401303"
      },
      "execution_count": 109,
      "outputs": [
        {
          "output_type": "execute_result",
          "data": {
            "text/plain": [
              "                Price block_reward    Price+1    Price+2    Price+3  \\\n",
              "Date                                                                  \n",
              "2013-10-01  123.65499           25        NaN        NaN        NaN   \n",
              "2013-10-02  125.45500           25  123.65499        NaN        NaN   \n",
              "2013-10-03  108.58483           25  125.45500  123.65499        NaN   \n",
              "2013-10-04  118.67466           25  108.58483  125.45500  123.65499   \n",
              "2013-10-05  121.33866           25  118.67466  108.58483  125.45500   \n",
              "2013-10-06  120.65533           25  121.33866  118.67466  108.58483   \n",
              "2013-10-07  121.79500           25  120.65533  121.33866  118.67466   \n",
              "2013-10-08  123.03300           25  121.79500  120.65533  121.33866   \n",
              "2013-10-09  124.04900           25  123.03300  121.79500  120.65533   \n",
              "2013-10-10  125.96116           25  124.04900  123.03300  121.79500   \n",
              "\n",
              "              Price+4    Price+5    Price+6    Price+7  \n",
              "Date                                                    \n",
              "2013-10-01        NaN        NaN        NaN        NaN  \n",
              "2013-10-02        NaN        NaN        NaN        NaN  \n",
              "2013-10-03        NaN        NaN        NaN        NaN  \n",
              "2013-10-04        NaN        NaN        NaN        NaN  \n",
              "2013-10-05  123.65499        NaN        NaN        NaN  \n",
              "2013-10-06  125.45500  123.65499        NaN        NaN  \n",
              "2013-10-07  108.58483  125.45500  123.65499        NaN  \n",
              "2013-10-08  118.67466  108.58483  125.45500  123.65499  \n",
              "2013-10-09  121.33866  118.67466  108.58483  125.45500  \n",
              "2013-10-10  120.65533  121.33866  118.67466  108.58483  "
            ],
            "text/html": [
              "\n",
              "  <div id=\"df-64e0a29b-615c-494e-b0ce-963cc3aad0df\">\n",
              "    <div class=\"colab-df-container\">\n",
              "      <div>\n",
              "<style scoped>\n",
              "    .dataframe tbody tr th:only-of-type {\n",
              "        vertical-align: middle;\n",
              "    }\n",
              "\n",
              "    .dataframe tbody tr th {\n",
              "        vertical-align: top;\n",
              "    }\n",
              "\n",
              "    .dataframe thead th {\n",
              "        text-align: right;\n",
              "    }\n",
              "</style>\n",
              "<table border=\"1\" class=\"dataframe\">\n",
              "  <thead>\n",
              "    <tr style=\"text-align: right;\">\n",
              "      <th></th>\n",
              "      <th>Price</th>\n",
              "      <th>block_reward</th>\n",
              "      <th>Price+1</th>\n",
              "      <th>Price+2</th>\n",
              "      <th>Price+3</th>\n",
              "      <th>Price+4</th>\n",
              "      <th>Price+5</th>\n",
              "      <th>Price+6</th>\n",
              "      <th>Price+7</th>\n",
              "    </tr>\n",
              "    <tr>\n",
              "      <th>Date</th>\n",
              "      <th></th>\n",
              "      <th></th>\n",
              "      <th></th>\n",
              "      <th></th>\n",
              "      <th></th>\n",
              "      <th></th>\n",
              "      <th></th>\n",
              "      <th></th>\n",
              "      <th></th>\n",
              "    </tr>\n",
              "  </thead>\n",
              "  <tbody>\n",
              "    <tr>\n",
              "      <th>2013-10-01</th>\n",
              "      <td>123.65499</td>\n",
              "      <td>25</td>\n",
              "      <td>NaN</td>\n",
              "      <td>NaN</td>\n",
              "      <td>NaN</td>\n",
              "      <td>NaN</td>\n",
              "      <td>NaN</td>\n",
              "      <td>NaN</td>\n",
              "      <td>NaN</td>\n",
              "    </tr>\n",
              "    <tr>\n",
              "      <th>2013-10-02</th>\n",
              "      <td>125.45500</td>\n",
              "      <td>25</td>\n",
              "      <td>123.65499</td>\n",
              "      <td>NaN</td>\n",
              "      <td>NaN</td>\n",
              "      <td>NaN</td>\n",
              "      <td>NaN</td>\n",
              "      <td>NaN</td>\n",
              "      <td>NaN</td>\n",
              "    </tr>\n",
              "    <tr>\n",
              "      <th>2013-10-03</th>\n",
              "      <td>108.58483</td>\n",
              "      <td>25</td>\n",
              "      <td>125.45500</td>\n",
              "      <td>123.65499</td>\n",
              "      <td>NaN</td>\n",
              "      <td>NaN</td>\n",
              "      <td>NaN</td>\n",
              "      <td>NaN</td>\n",
              "      <td>NaN</td>\n",
              "    </tr>\n",
              "    <tr>\n",
              "      <th>2013-10-04</th>\n",
              "      <td>118.67466</td>\n",
              "      <td>25</td>\n",
              "      <td>108.58483</td>\n",
              "      <td>125.45500</td>\n",
              "      <td>123.65499</td>\n",
              "      <td>NaN</td>\n",
              "      <td>NaN</td>\n",
              "      <td>NaN</td>\n",
              "      <td>NaN</td>\n",
              "    </tr>\n",
              "    <tr>\n",
              "      <th>2013-10-05</th>\n",
              "      <td>121.33866</td>\n",
              "      <td>25</td>\n",
              "      <td>118.67466</td>\n",
              "      <td>108.58483</td>\n",
              "      <td>125.45500</td>\n",
              "      <td>123.65499</td>\n",
              "      <td>NaN</td>\n",
              "      <td>NaN</td>\n",
              "      <td>NaN</td>\n",
              "    </tr>\n",
              "    <tr>\n",
              "      <th>2013-10-06</th>\n",
              "      <td>120.65533</td>\n",
              "      <td>25</td>\n",
              "      <td>121.33866</td>\n",
              "      <td>118.67466</td>\n",
              "      <td>108.58483</td>\n",
              "      <td>125.45500</td>\n",
              "      <td>123.65499</td>\n",
              "      <td>NaN</td>\n",
              "      <td>NaN</td>\n",
              "    </tr>\n",
              "    <tr>\n",
              "      <th>2013-10-07</th>\n",
              "      <td>121.79500</td>\n",
              "      <td>25</td>\n",
              "      <td>120.65533</td>\n",
              "      <td>121.33866</td>\n",
              "      <td>118.67466</td>\n",
              "      <td>108.58483</td>\n",
              "      <td>125.45500</td>\n",
              "      <td>123.65499</td>\n",
              "      <td>NaN</td>\n",
              "    </tr>\n",
              "    <tr>\n",
              "      <th>2013-10-08</th>\n",
              "      <td>123.03300</td>\n",
              "      <td>25</td>\n",
              "      <td>121.79500</td>\n",
              "      <td>120.65533</td>\n",
              "      <td>121.33866</td>\n",
              "      <td>118.67466</td>\n",
              "      <td>108.58483</td>\n",
              "      <td>125.45500</td>\n",
              "      <td>123.65499</td>\n",
              "    </tr>\n",
              "    <tr>\n",
              "      <th>2013-10-09</th>\n",
              "      <td>124.04900</td>\n",
              "      <td>25</td>\n",
              "      <td>123.03300</td>\n",
              "      <td>121.79500</td>\n",
              "      <td>120.65533</td>\n",
              "      <td>121.33866</td>\n",
              "      <td>118.67466</td>\n",
              "      <td>108.58483</td>\n",
              "      <td>125.45500</td>\n",
              "    </tr>\n",
              "    <tr>\n",
              "      <th>2013-10-10</th>\n",
              "      <td>125.96116</td>\n",
              "      <td>25</td>\n",
              "      <td>124.04900</td>\n",
              "      <td>123.03300</td>\n",
              "      <td>121.79500</td>\n",
              "      <td>120.65533</td>\n",
              "      <td>121.33866</td>\n",
              "      <td>118.67466</td>\n",
              "      <td>108.58483</td>\n",
              "    </tr>\n",
              "  </tbody>\n",
              "</table>\n",
              "</div>\n",
              "      <button class=\"colab-df-convert\" onclick=\"convertToInteractive('df-64e0a29b-615c-494e-b0ce-963cc3aad0df')\"\n",
              "              title=\"Convert this dataframe to an interactive table.\"\n",
              "              style=\"display:none;\">\n",
              "        \n",
              "  <svg xmlns=\"http://www.w3.org/2000/svg\" height=\"24px\"viewBox=\"0 0 24 24\"\n",
              "       width=\"24px\">\n",
              "    <path d=\"M0 0h24v24H0V0z\" fill=\"none\"/>\n",
              "    <path d=\"M18.56 5.44l.94 2.06.94-2.06 2.06-.94-2.06-.94-.94-2.06-.94 2.06-2.06.94zm-11 1L8.5 8.5l.94-2.06 2.06-.94-2.06-.94L8.5 2.5l-.94 2.06-2.06.94zm10 10l.94 2.06.94-2.06 2.06-.94-2.06-.94-.94-2.06-.94 2.06-2.06.94z\"/><path d=\"M17.41 7.96l-1.37-1.37c-.4-.4-.92-.59-1.43-.59-.52 0-1.04.2-1.43.59L10.3 9.45l-7.72 7.72c-.78.78-.78 2.05 0 2.83L4 21.41c.39.39.9.59 1.41.59.51 0 1.02-.2 1.41-.59l7.78-7.78 2.81-2.81c.8-.78.8-2.07 0-2.86zM5.41 20L4 18.59l7.72-7.72 1.47 1.35L5.41 20z\"/>\n",
              "  </svg>\n",
              "      </button>\n",
              "      \n",
              "  <style>\n",
              "    .colab-df-container {\n",
              "      display:flex;\n",
              "      flex-wrap:wrap;\n",
              "      gap: 12px;\n",
              "    }\n",
              "\n",
              "    .colab-df-convert {\n",
              "      background-color: #E8F0FE;\n",
              "      border: none;\n",
              "      border-radius: 50%;\n",
              "      cursor: pointer;\n",
              "      display: none;\n",
              "      fill: #1967D2;\n",
              "      height: 32px;\n",
              "      padding: 0 0 0 0;\n",
              "      width: 32px;\n",
              "    }\n",
              "\n",
              "    .colab-df-convert:hover {\n",
              "      background-color: #E2EBFA;\n",
              "      box-shadow: 0px 1px 2px rgba(60, 64, 67, 0.3), 0px 1px 3px 1px rgba(60, 64, 67, 0.15);\n",
              "      fill: #174EA6;\n",
              "    }\n",
              "\n",
              "    [theme=dark] .colab-df-convert {\n",
              "      background-color: #3B4455;\n",
              "      fill: #D2E3FC;\n",
              "    }\n",
              "\n",
              "    [theme=dark] .colab-df-convert:hover {\n",
              "      background-color: #434B5C;\n",
              "      box-shadow: 0px 1px 3px 1px rgba(0, 0, 0, 0.15);\n",
              "      filter: drop-shadow(0px 1px 2px rgba(0, 0, 0, 0.3));\n",
              "      fill: #FFFFFF;\n",
              "    }\n",
              "  </style>\n",
              "\n",
              "      <script>\n",
              "        const buttonEl =\n",
              "          document.querySelector('#df-64e0a29b-615c-494e-b0ce-963cc3aad0df button.colab-df-convert');\n",
              "        buttonEl.style.display =\n",
              "          google.colab.kernel.accessAllowed ? 'block' : 'none';\n",
              "\n",
              "        async function convertToInteractive(key) {\n",
              "          const element = document.querySelector('#df-64e0a29b-615c-494e-b0ce-963cc3aad0df');\n",
              "          const dataTable =\n",
              "            await google.colab.kernel.invokeFunction('convertToInteractive',\n",
              "                                                     [key], {});\n",
              "          if (!dataTable) return;\n",
              "\n",
              "          const docLinkHtml = 'Like what you see? Visit the ' +\n",
              "            '<a target=\"_blank\" href=https://colab.research.google.com/notebooks/data_table.ipynb>data table notebook</a>'\n",
              "            + ' to learn more about interactive tables.';\n",
              "          element.innerHTML = '';\n",
              "          dataTable['output_type'] = 'display_data';\n",
              "          await google.colab.output.renderOutput(dataTable, element);\n",
              "          const docLink = document.createElement('div');\n",
              "          docLink.innerHTML = docLinkHtml;\n",
              "          element.appendChild(docLink);\n",
              "        }\n",
              "      </script>\n",
              "    </div>\n",
              "  </div>\n",
              "  "
            ]
          },
          "metadata": {},
          "execution_count": 109
        }
      ]
    },
    {
      "cell_type": "markdown",
      "source": [
        "What we have done is created a way to window our dataset directly from the dataset\n",
        "\n",
        "[0,1,2,3,4,5,6,block_reward] -> [7]\n",
        "\n",
        "[1,2,3,4,5,6,7,block_reward] -> [8]\n",
        "\n",
        "[2,3,4,5,6,7,8,block_reward] -> [9]"
      ],
      "metadata": {
        "id": "ku87SxHNucnb"
      }
    },
    {
      "cell_type": "code",
      "source": [
        "x = bitcoin_prices_windowed.dropna().drop(\"Price\",axis =1).astype(np.float32)\n",
        "y = bitcoin_prices_windowed.dropna()[\"Price\"].astype(np.float32)\n",
        "x.head()"
      ],
      "metadata": {
        "colab": {
          "base_uri": "https://localhost:8080/",
          "height": 0
        },
        "id": "fXjdr4rgvWLm",
        "outputId": "37a13553-c808-492b-b1d1-e05906ab76cb"
      },
      "execution_count": 110,
      "outputs": [
        {
          "output_type": "execute_result",
          "data": {
            "text/plain": [
              "            block_reward     Price+1     Price+2     Price+3     Price+4  \\\n",
              "Date                                                                       \n",
              "2013-10-08          25.0  121.794998  120.655327  121.338661  118.674660   \n",
              "2013-10-09          25.0  123.032997  121.794998  120.655327  121.338661   \n",
              "2013-10-10          25.0  124.049004  123.032997  121.794998  120.655327   \n",
              "2013-10-11          25.0  125.961159  124.049004  123.032997  121.794998   \n",
              "2013-10-12          25.0  125.279663  125.961159  124.049004  123.032997   \n",
              "\n",
              "               Price+5     Price+6     Price+7  \n",
              "Date                                            \n",
              "2013-10-08  108.584831  125.455002  123.654991  \n",
              "2013-10-09  118.674660  108.584831  125.455002  \n",
              "2013-10-10  121.338661  118.674660  108.584831  \n",
              "2013-10-11  120.655327  121.338661  118.674660  \n",
              "2013-10-12  121.794998  120.655327  121.338661  "
            ],
            "text/html": [
              "\n",
              "  <div id=\"df-fb60e958-5fba-450c-a5b3-2e02fbedbd44\">\n",
              "    <div class=\"colab-df-container\">\n",
              "      <div>\n",
              "<style scoped>\n",
              "    .dataframe tbody tr th:only-of-type {\n",
              "        vertical-align: middle;\n",
              "    }\n",
              "\n",
              "    .dataframe tbody tr th {\n",
              "        vertical-align: top;\n",
              "    }\n",
              "\n",
              "    .dataframe thead th {\n",
              "        text-align: right;\n",
              "    }\n",
              "</style>\n",
              "<table border=\"1\" class=\"dataframe\">\n",
              "  <thead>\n",
              "    <tr style=\"text-align: right;\">\n",
              "      <th></th>\n",
              "      <th>block_reward</th>\n",
              "      <th>Price+1</th>\n",
              "      <th>Price+2</th>\n",
              "      <th>Price+3</th>\n",
              "      <th>Price+4</th>\n",
              "      <th>Price+5</th>\n",
              "      <th>Price+6</th>\n",
              "      <th>Price+7</th>\n",
              "    </tr>\n",
              "    <tr>\n",
              "      <th>Date</th>\n",
              "      <th></th>\n",
              "      <th></th>\n",
              "      <th></th>\n",
              "      <th></th>\n",
              "      <th></th>\n",
              "      <th></th>\n",
              "      <th></th>\n",
              "      <th></th>\n",
              "    </tr>\n",
              "  </thead>\n",
              "  <tbody>\n",
              "    <tr>\n",
              "      <th>2013-10-08</th>\n",
              "      <td>25.0</td>\n",
              "      <td>121.794998</td>\n",
              "      <td>120.655327</td>\n",
              "      <td>121.338661</td>\n",
              "      <td>118.674660</td>\n",
              "      <td>108.584831</td>\n",
              "      <td>125.455002</td>\n",
              "      <td>123.654991</td>\n",
              "    </tr>\n",
              "    <tr>\n",
              "      <th>2013-10-09</th>\n",
              "      <td>25.0</td>\n",
              "      <td>123.032997</td>\n",
              "      <td>121.794998</td>\n",
              "      <td>120.655327</td>\n",
              "      <td>121.338661</td>\n",
              "      <td>118.674660</td>\n",
              "      <td>108.584831</td>\n",
              "      <td>125.455002</td>\n",
              "    </tr>\n",
              "    <tr>\n",
              "      <th>2013-10-10</th>\n",
              "      <td>25.0</td>\n",
              "      <td>124.049004</td>\n",
              "      <td>123.032997</td>\n",
              "      <td>121.794998</td>\n",
              "      <td>120.655327</td>\n",
              "      <td>121.338661</td>\n",
              "      <td>118.674660</td>\n",
              "      <td>108.584831</td>\n",
              "    </tr>\n",
              "    <tr>\n",
              "      <th>2013-10-11</th>\n",
              "      <td>25.0</td>\n",
              "      <td>125.961159</td>\n",
              "      <td>124.049004</td>\n",
              "      <td>123.032997</td>\n",
              "      <td>121.794998</td>\n",
              "      <td>120.655327</td>\n",
              "      <td>121.338661</td>\n",
              "      <td>118.674660</td>\n",
              "    </tr>\n",
              "    <tr>\n",
              "      <th>2013-10-12</th>\n",
              "      <td>25.0</td>\n",
              "      <td>125.279663</td>\n",
              "      <td>125.961159</td>\n",
              "      <td>124.049004</td>\n",
              "      <td>123.032997</td>\n",
              "      <td>121.794998</td>\n",
              "      <td>120.655327</td>\n",
              "      <td>121.338661</td>\n",
              "    </tr>\n",
              "  </tbody>\n",
              "</table>\n",
              "</div>\n",
              "      <button class=\"colab-df-convert\" onclick=\"convertToInteractive('df-fb60e958-5fba-450c-a5b3-2e02fbedbd44')\"\n",
              "              title=\"Convert this dataframe to an interactive table.\"\n",
              "              style=\"display:none;\">\n",
              "        \n",
              "  <svg xmlns=\"http://www.w3.org/2000/svg\" height=\"24px\"viewBox=\"0 0 24 24\"\n",
              "       width=\"24px\">\n",
              "    <path d=\"M0 0h24v24H0V0z\" fill=\"none\"/>\n",
              "    <path d=\"M18.56 5.44l.94 2.06.94-2.06 2.06-.94-2.06-.94-.94-2.06-.94 2.06-2.06.94zm-11 1L8.5 8.5l.94-2.06 2.06-.94-2.06-.94L8.5 2.5l-.94 2.06-2.06.94zm10 10l.94 2.06.94-2.06 2.06-.94-2.06-.94-.94-2.06-.94 2.06-2.06.94z\"/><path d=\"M17.41 7.96l-1.37-1.37c-.4-.4-.92-.59-1.43-.59-.52 0-1.04.2-1.43.59L10.3 9.45l-7.72 7.72c-.78.78-.78 2.05 0 2.83L4 21.41c.39.39.9.59 1.41.59.51 0 1.02-.2 1.41-.59l7.78-7.78 2.81-2.81c.8-.78.8-2.07 0-2.86zM5.41 20L4 18.59l7.72-7.72 1.47 1.35L5.41 20z\"/>\n",
              "  </svg>\n",
              "      </button>\n",
              "      \n",
              "  <style>\n",
              "    .colab-df-container {\n",
              "      display:flex;\n",
              "      flex-wrap:wrap;\n",
              "      gap: 12px;\n",
              "    }\n",
              "\n",
              "    .colab-df-convert {\n",
              "      background-color: #E8F0FE;\n",
              "      border: none;\n",
              "      border-radius: 50%;\n",
              "      cursor: pointer;\n",
              "      display: none;\n",
              "      fill: #1967D2;\n",
              "      height: 32px;\n",
              "      padding: 0 0 0 0;\n",
              "      width: 32px;\n",
              "    }\n",
              "\n",
              "    .colab-df-convert:hover {\n",
              "      background-color: #E2EBFA;\n",
              "      box-shadow: 0px 1px 2px rgba(60, 64, 67, 0.3), 0px 1px 3px 1px rgba(60, 64, 67, 0.15);\n",
              "      fill: #174EA6;\n",
              "    }\n",
              "\n",
              "    [theme=dark] .colab-df-convert {\n",
              "      background-color: #3B4455;\n",
              "      fill: #D2E3FC;\n",
              "    }\n",
              "\n",
              "    [theme=dark] .colab-df-convert:hover {\n",
              "      background-color: #434B5C;\n",
              "      box-shadow: 0px 1px 3px 1px rgba(0, 0, 0, 0.15);\n",
              "      filter: drop-shadow(0px 1px 2px rgba(0, 0, 0, 0.3));\n",
              "      fill: #FFFFFF;\n",
              "    }\n",
              "  </style>\n",
              "\n",
              "      <script>\n",
              "        const buttonEl =\n",
              "          document.querySelector('#df-fb60e958-5fba-450c-a5b3-2e02fbedbd44 button.colab-df-convert');\n",
              "        buttonEl.style.display =\n",
              "          google.colab.kernel.accessAllowed ? 'block' : 'none';\n",
              "\n",
              "        async function convertToInteractive(key) {\n",
              "          const element = document.querySelector('#df-fb60e958-5fba-450c-a5b3-2e02fbedbd44');\n",
              "          const dataTable =\n",
              "            await google.colab.kernel.invokeFunction('convertToInteractive',\n",
              "                                                     [key], {});\n",
              "          if (!dataTable) return;\n",
              "\n",
              "          const docLinkHtml = 'Like what you see? Visit the ' +\n",
              "            '<a target=\"_blank\" href=https://colab.research.google.com/notebooks/data_table.ipynb>data table notebook</a>'\n",
              "            + ' to learn more about interactive tables.';\n",
              "          element.innerHTML = '';\n",
              "          dataTable['output_type'] = 'display_data';\n",
              "          await google.colab.output.renderOutput(dataTable, element);\n",
              "          const docLink = document.createElement('div');\n",
              "          docLink.innerHTML = docLinkHtml;\n",
              "          element.appendChild(docLink);\n",
              "        }\n",
              "      </script>\n",
              "    </div>\n",
              "  </div>\n",
              "  "
            ]
          },
          "metadata": {},
          "execution_count": 110
        }
      ]
    },
    {
      "cell_type": "code",
      "source": [
        "y.head()"
      ],
      "metadata": {
        "colab": {
          "base_uri": "https://localhost:8080/"
        },
        "id": "jL4mk6PGwkFi",
        "outputId": "b9ce061b-c1bc-47d3-ad49-be3c64edfcc6"
      },
      "execution_count": 111,
      "outputs": [
        {
          "output_type": "execute_result",
          "data": {
            "text/plain": [
              "Date\n",
              "2013-10-08    123.032997\n",
              "2013-10-09    124.049004\n",
              "2013-10-10    125.961159\n",
              "2013-10-11    125.279663\n",
              "2013-10-12    125.927498\n",
              "Name: Price, dtype: float32"
            ]
          },
          "metadata": {},
          "execution_count": 111
        }
      ]
    },
    {
      "cell_type": "code",
      "source": [
        "# Make train test sets using indexing\n",
        "split_size = int(len(x)*0.8)\n",
        "x_train, y_train = x[:split_size],y[:split_size]\n",
        "x_test, y_test = x[split_size:] , y[split_size:]\n",
        "len(x_train), len(y_train), len(x_test), len(y_test)"
      ],
      "metadata": {
        "colab": {
          "base_uri": "https://localhost:8080/"
        },
        "id": "StFTCyRxwoah",
        "outputId": "ac548061-9158-44e3-83c7-3995c2fac744"
      },
      "execution_count": 112,
      "outputs": [
        {
          "output_type": "execute_result",
          "data": {
            "text/plain": [
              "(2224, 2224, 556, 556)"
            ]
          },
          "metadata": {},
          "execution_count": 112
        }
      ]
    },
    {
      "cell_type": "markdown",
      "source": [
        "## Model 6 : Dense (multivariate)"
      ],
      "metadata": {
        "id": "389auGblxbui"
      }
    },
    {
      "cell_type": "code",
      "source": [
        "import tensorflow as tf \n",
        "from tensorflow.keras import layers\n",
        "\n",
        "# Set random seed for as reproducible results as possible\n",
        "tf.random.set_seed(42)\n",
        "# 1. Construct Model\n",
        "model_6 = tf.keras.Sequential([\n",
        "    layers.Dense(128,activation=\"relu\"),\n",
        "    layers.Dense(HORIZON) # Linear activation is just like having no activation at all\n",
        "],name=\"model_6_dense\")# name our model so we can save it\n",
        "# 2. Compile\n",
        "model_6.compile(loss=\"mae\",\n",
        "                optimizer = tf.keras.optimizers.Adam(),\n",
        "                metrics = [\"mae\",\"mse\"])\n",
        "# 3. Fit the model\n",
        "model_6.fit(x_train,\n",
        "            y_train,\n",
        "            epochs=100,\n",
        "            verbose=1,\n",
        "            batch_size=128,\n",
        "            validation_data=(x_test,y_test),\n",
        "            callbacks=[create_model_checkpoint(model_name=model_6.name)])"
      ],
      "metadata": {
        "colab": {
          "base_uri": "https://localhost:8080/"
        },
        "id": "LOYtEmwtyHVk",
        "outputId": "2b655743-9e45-4587-cf6f-8c75c7344cb2"
      },
      "execution_count": 113,
      "outputs": [
        {
          "output_type": "stream",
          "name": "stdout",
          "text": [
            "Epoch 1/100\n",
            "18/18 [==============================] - 1s 34ms/step - loss: 1234.6804 - mae: 1234.6804 - mse: 5282005.5000 - val_loss: 2061.9077 - val_mae: 2061.9077 - val_mse: 11377605.0000\n",
            "Epoch 2/100\n",
            "18/18 [==============================] - 0s 26ms/step - loss: 351.5053 - mae: 351.5053 - mse: 499358.0312 - val_loss: 1908.6733 - val_mae: 1908.6733 - val_mse: 8719443.0000\n",
            "Epoch 3/100\n",
            "18/18 [==============================] - 0s 26ms/step - loss: 235.4153 - mae: 235.4153 - mse: 276006.8125 - val_loss: 1329.0585 - val_mae: 1329.0585 - val_mse: 4991872.0000\n",
            "Epoch 4/100\n",
            "18/18 [==============================] - 0s 25ms/step - loss: 208.6112 - mae: 208.6112 - mse: 219502.7188 - val_loss: 1102.1342 - val_mae: 1102.1342 - val_mse: 3934655.5000\n",
            "Epoch 5/100\n",
            "18/18 [==============================] - 0s 5ms/step - loss: 196.5770 - mae: 196.5770 - mse: 204309.3750 - val_loss: 1107.8474 - val_mae: 1107.8474 - val_mse: 3822059.0000\n",
            "Epoch 6/100\n",
            "18/18 [==============================] - 0s 26ms/step - loss: 187.2245 - mae: 187.2245 - mse: 185754.2344 - val_loss: 1036.1720 - val_mae: 1036.1720 - val_mse: 3602705.0000\n",
            "Epoch 7/100\n",
            "18/18 [==============================] - 0s 27ms/step - loss: 182.0245 - mae: 182.0245 - mse: 177482.7188 - val_loss: 1019.2928 - val_mae: 1019.2928 - val_mse: 3334209.5000\n",
            "Epoch 8/100\n",
            "18/18 [==============================] - 0s 28ms/step - loss: 175.7059 - mae: 175.7059 - mse: 166085.1875 - val_loss: 977.8488 - val_mae: 977.8488 - val_mse: 3114359.7500\n",
            "Epoch 9/100\n",
            "18/18 [==============================] - 0s 26ms/step - loss: 170.1784 - mae: 170.1784 - mse: 157931.9844 - val_loss: 954.4037 - val_mae: 954.4037 - val_mse: 2930253.0000\n",
            "Epoch 10/100\n",
            "18/18 [==============================] - 0s 26ms/step - loss: 164.4430 - mae: 164.4430 - mse: 149624.9688 - val_loss: 913.5148 - val_mae: 913.5148 - val_mse: 2725004.0000\n",
            "Epoch 11/100\n",
            "18/18 [==============================] - 1s 42ms/step - loss: 158.6892 - mae: 158.6892 - mse: 137497.7188 - val_loss: 874.2507 - val_mae: 874.2507 - val_mse: 2503844.0000\n",
            "Epoch 12/100\n",
            "18/18 [==============================] - 0s 28ms/step - loss: 152.0732 - mae: 152.0732 - mse: 128314.8047 - val_loss: 861.0418 - val_mae: 861.0418 - val_mse: 2380361.5000\n",
            "Epoch 13/100\n",
            "18/18 [==============================] - 0s 5ms/step - loss: 151.1057 - mae: 151.1057 - mse: 126204.8906 - val_loss: 886.1207 - val_mae: 886.1207 - val_mse: 2378220.7500\n",
            "Epoch 14/100\n",
            "18/18 [==============================] - 1s 30ms/step - loss: 147.5482 - mae: 147.5482 - mse: 118020.3594 - val_loss: 837.8616 - val_mae: 837.8616 - val_mse: 2199054.2500\n",
            "Epoch 15/100\n",
            "18/18 [==============================] - 0s 27ms/step - loss: 142.3497 - mae: 142.3497 - mse: 113288.9844 - val_loss: 794.4788 - val_mae: 794.4788 - val_mse: 2039430.5000\n",
            "Epoch 16/100\n",
            "18/18 [==============================] - 0s 26ms/step - loss: 137.5206 - mae: 137.5206 - mse: 106858.8672 - val_loss: 778.4052 - val_mae: 778.4052 - val_mse: 1954907.1250\n",
            "Epoch 17/100\n",
            "18/18 [==============================] - 0s 27ms/step - loss: 135.8190 - mae: 135.8190 - mse: 104154.0156 - val_loss: 772.4532 - val_mae: 772.4532 - val_mse: 1901520.8750\n",
            "Epoch 18/100\n",
            "18/18 [==============================] - 0s 27ms/step - loss: 134.8562 - mae: 134.8562 - mse: 102955.3984 - val_loss: 747.4802 - val_mae: 747.4802 - val_mse: 1804914.0000\n",
            "Epoch 19/100\n",
            "18/18 [==============================] - 0s 4ms/step - loss: 130.3347 - mae: 130.3347 - mse: 96741.8359 - val_loss: 761.0554 - val_mae: 761.0554 - val_mse: 1809536.7500\n",
            "Epoch 20/100\n",
            "18/18 [==============================] - 0s 26ms/step - loss: 128.6775 - mae: 128.6775 - mse: 93855.7109 - val_loss: 701.8977 - val_mae: 701.8977 - val_mse: 1664374.8750\n",
            "Epoch 21/100\n",
            "18/18 [==============================] - 0s 26ms/step - loss: 129.5576 - mae: 129.5576 - mse: 95792.1094 - val_loss: 691.0128 - val_mae: 691.0128 - val_mse: 1604253.0000\n",
            "Epoch 22/100\n",
            "18/18 [==============================] - 0s 29ms/step - loss: 125.8060 - mae: 125.8060 - mse: 90966.0625 - val_loss: 684.4119 - val_mae: 684.4119 - val_mse: 1561598.2500\n",
            "Epoch 23/100\n",
            "18/18 [==============================] - 0s 4ms/step - loss: 125.5263 - mae: 125.5263 - mse: 90267.1250 - val_loss: 692.1298 - val_mae: 692.1298 - val_mse: 1560176.5000\n",
            "Epoch 24/100\n",
            "18/18 [==============================] - 0s 26ms/step - loss: 122.4765 - mae: 122.4765 - mse: 86726.8125 - val_loss: 674.2216 - val_mae: 674.2216 - val_mse: 1504522.2500\n",
            "Epoch 25/100\n",
            "18/18 [==============================] - 0s 27ms/step - loss: 121.1171 - mae: 121.1171 - mse: 84265.1875 - val_loss: 669.6441 - val_mae: 669.6441 - val_mse: 1546640.7500\n",
            "Epoch 26/100\n",
            "18/18 [==============================] - 0s 4ms/step - loss: 127.2623 - mae: 127.2623 - mse: 87325.4219 - val_loss: 690.0403 - val_mae: 690.0403 - val_mse: 1606595.7500\n",
            "Epoch 27/100\n",
            "18/18 [==============================] - 0s 26ms/step - loss: 124.6204 - mae: 124.6204 - mse: 87496.1406 - val_loss: 643.9724 - val_mae: 643.9724 - val_mse: 1437325.8750\n",
            "Epoch 28/100\n",
            "18/18 [==============================] - 0s 5ms/step - loss: 118.2544 - mae: 118.2544 - mse: 81311.5938 - val_loss: 656.2767 - val_mae: 656.2767 - val_mse: 1431099.6250\n",
            "Epoch 29/100\n",
            "18/18 [==============================] - 0s 28ms/step - loss: 119.6374 - mae: 119.6374 - mse: 82266.8438 - val_loss: 633.4547 - val_mae: 633.4547 - val_mse: 1375091.7500\n",
            "Epoch 30/100\n",
            "18/18 [==============================] - 0s 27ms/step - loss: 119.5001 - mae: 119.5001 - mse: 81478.4141 - val_loss: 625.3953 - val_mae: 625.3953 - val_mse: 1360549.6250\n",
            "Epoch 31/100\n",
            "18/18 [==============================] - 0s 5ms/step - loss: 114.5633 - mae: 114.5633 - mse: 78351.5078 - val_loss: 668.5064 - val_mae: 668.5064 - val_mse: 1448343.6250\n",
            "Epoch 32/100\n",
            "18/18 [==============================] - 0s 26ms/step - loss: 116.9750 - mae: 116.9750 - mse: 80914.8359 - val_loss: 617.1061 - val_mae: 617.1061 - val_mse: 1328561.7500\n",
            "Epoch 33/100\n",
            "18/18 [==============================] - 0s 5ms/step - loss: 115.2438 - mae: 115.2438 - mse: 78368.7969 - val_loss: 649.0989 - val_mae: 649.0989 - val_mse: 1390663.2500\n",
            "Epoch 34/100\n",
            "18/18 [==============================] - 0s 4ms/step - loss: 114.5187 - mae: 114.5187 - mse: 78831.3516 - val_loss: 632.1375 - val_mae: 632.1375 - val_mse: 1383321.0000\n",
            "Epoch 35/100\n",
            "18/18 [==============================] - 0s 25ms/step - loss: 113.6357 - mae: 113.6357 - mse: 76610.7734 - val_loss: 607.4173 - val_mae: 607.4173 - val_mse: 1299839.2500\n",
            "Epoch 36/100\n",
            "18/18 [==============================] - 0s 4ms/step - loss: 115.2605 - mae: 115.2605 - mse: 77254.8047 - val_loss: 626.4319 - val_mae: 626.4319 - val_mse: 1328738.0000\n",
            "Epoch 37/100\n",
            "18/18 [==============================] - 0s 26ms/step - loss: 113.7020 - mae: 113.7020 - mse: 76909.3125 - val_loss: 606.2318 - val_mae: 606.2318 - val_mse: 1299941.2500\n",
            "Epoch 38/100\n",
            "18/18 [==============================] - 0s 27ms/step - loss: 111.4061 - mae: 111.4061 - mse: 75382.8672 - val_loss: 603.2919 - val_mae: 603.2919 - val_mse: 1290358.8750\n",
            "Epoch 39/100\n",
            "18/18 [==============================] - 0s 26ms/step - loss: 112.7722 - mae: 112.7722 - mse: 75144.9219 - val_loss: 596.0060 - val_mae: 596.0060 - val_mse: 1267989.0000\n",
            "Epoch 40/100\n",
            "18/18 [==============================] - 1s 42ms/step - loss: 110.5418 - mae: 110.5418 - mse: 73266.8750 - val_loss: 593.2170 - val_mae: 593.2170 - val_mse: 1259325.6250\n",
            "Epoch 41/100\n",
            "18/18 [==============================] - 0s 4ms/step - loss: 110.8671 - mae: 110.8671 - mse: 73493.2266 - val_loss: 609.1062 - val_mae: 609.1062 - val_mse: 1298276.8750\n",
            "Epoch 42/100\n",
            "18/18 [==============================] - 0s 5ms/step - loss: 115.7249 - mae: 115.7249 - mse: 78316.4062 - val_loss: 607.4877 - val_mae: 607.4877 - val_mse: 1271583.1250\n",
            "Epoch 43/100\n",
            "18/18 [==============================] - 0s 5ms/step - loss: 111.3313 - mae: 111.3313 - mse: 72553.7578 - val_loss: 606.2029 - val_mae: 606.2029 - val_mse: 1287464.5000\n",
            "Epoch 44/100\n",
            "18/18 [==============================] - 0s 25ms/step - loss: 109.7027 - mae: 109.7027 - mse: 72483.3438 - val_loss: 586.1215 - val_mae: 586.1215 - val_mse: 1236946.1250\n",
            "Epoch 45/100\n",
            "18/18 [==============================] - 0s 5ms/step - loss: 107.8748 - mae: 107.8748 - mse: 72189.4844 - val_loss: 593.8445 - val_mae: 593.8445 - val_mse: 1256011.2500\n",
            "Epoch 46/100\n",
            "18/18 [==============================] - 0s 5ms/step - loss: 109.8641 - mae: 109.8641 - mse: 72053.2969 - val_loss: 586.4581 - val_mae: 586.4581 - val_mse: 1224364.6250\n",
            "Epoch 47/100\n",
            "18/18 [==============================] - 0s 4ms/step - loss: 112.3587 - mae: 112.3587 - mse: 74881.6719 - val_loss: 655.4489 - val_mae: 655.4489 - val_mse: 1368206.2500\n",
            "Epoch 48/100\n",
            "18/18 [==============================] - 0s 4ms/step - loss: 109.1614 - mae: 109.1614 - mse: 72981.2266 - val_loss: 598.7234 - val_mae: 598.7234 - val_mse: 1244141.6250\n",
            "Epoch 49/100\n",
            "18/18 [==============================] - 0s 5ms/step - loss: 109.3029 - mae: 109.3029 - mse: 72229.5234 - val_loss: 589.2489 - val_mae: 589.2489 - val_mse: 1225537.0000\n",
            "Epoch 50/100\n",
            "18/18 [==============================] - 0s 5ms/step - loss: 111.1971 - mae: 111.1971 - mse: 72569.8750 - val_loss: 649.3788 - val_mae: 649.3788 - val_mse: 1382788.1250\n",
            "Epoch 51/100\n",
            "18/18 [==============================] - 0s 5ms/step - loss: 110.8514 - mae: 110.8514 - mse: 72277.3438 - val_loss: 602.7667 - val_mae: 602.7667 - val_mse: 1247517.2500\n",
            "Epoch 52/100\n",
            "18/18 [==============================] - 0s 5ms/step - loss: 111.8331 - mae: 111.8331 - mse: 74581.8906 - val_loss: 599.2957 - val_mae: 599.2957 - val_mse: 1255800.1250\n",
            "Epoch 53/100\n",
            "18/18 [==============================] - 0s 5ms/step - loss: 110.8895 - mae: 110.8895 - mse: 72969.3906 - val_loss: 652.1644 - val_mae: 652.1644 - val_mse: 1355600.7500\n",
            "Epoch 54/100\n",
            "18/18 [==============================] - 0s 4ms/step - loss: 113.8169 - mae: 113.8169 - mse: 73914.2656 - val_loss: 600.8459 - val_mae: 600.8459 - val_mse: 1241452.5000\n",
            "Epoch 55/100\n",
            "18/18 [==============================] - 0s 26ms/step - loss: 110.4068 - mae: 110.4068 - mse: 73627.0078 - val_loss: 575.7752 - val_mae: 575.7752 - val_mse: 1197731.0000\n",
            "Epoch 56/100\n",
            "18/18 [==============================] - 0s 4ms/step - loss: 108.6609 - mae: 108.6609 - mse: 71261.1172 - val_loss: 785.9749 - val_mae: 785.9749 - val_mse: 1798977.1250\n",
            "Epoch 57/100\n",
            "18/18 [==============================] - 0s 4ms/step - loss: 124.9823 - mae: 124.9823 - mse: 82843.3438 - val_loss: 670.3782 - val_mae: 670.3782 - val_mse: 1435153.7500\n",
            "Epoch 58/100\n",
            "18/18 [==============================] - 0s 4ms/step - loss: 112.8591 - mae: 112.8591 - mse: 71915.3750 - val_loss: 580.2877 - val_mae: 580.2877 - val_mse: 1201588.0000\n",
            "Epoch 59/100\n",
            "18/18 [==============================] - 0s 4ms/step - loss: 107.2513 - mae: 107.2513 - mse: 70587.5000 - val_loss: 597.5082 - val_mae: 597.5082 - val_mse: 1251075.6250\n",
            "Epoch 60/100\n",
            "18/18 [==============================] - 0s 5ms/step - loss: 109.2322 - mae: 109.2322 - mse: 73329.4219 - val_loss: 632.2958 - val_mae: 632.2958 - val_mse: 1301528.0000\n",
            "Epoch 61/100\n",
            "18/18 [==============================] - 0s 5ms/step - loss: 109.3519 - mae: 109.3519 - mse: 72859.1094 - val_loss: 591.5412 - val_mae: 591.5412 - val_mse: 1217412.0000\n",
            "Epoch 62/100\n",
            "18/18 [==============================] - 0s 4ms/step - loss: 108.4084 - mae: 108.4084 - mse: 70926.0625 - val_loss: 617.5801 - val_mae: 617.5801 - val_mse: 1290846.8750\n",
            "Epoch 63/100\n",
            "18/18 [==============================] - 0s 5ms/step - loss: 113.5326 - mae: 113.5326 - mse: 74343.1719 - val_loss: 613.1476 - val_mae: 613.1476 - val_mse: 1262290.2500\n",
            "Epoch 64/100\n",
            "18/18 [==============================] - 0s 4ms/step - loss: 110.6625 - mae: 110.6625 - mse: 71658.9531 - val_loss: 689.1802 - val_mae: 689.1802 - val_mse: 1434197.3750\n",
            "Epoch 65/100\n",
            "18/18 [==============================] - 0s 27ms/step - loss: 112.0475 - mae: 112.0475 - mse: 73420.1875 - val_loss: 575.5540 - val_mae: 575.5540 - val_mse: 1191943.0000\n",
            "Epoch 66/100\n",
            "18/18 [==============================] - 0s 5ms/step - loss: 111.2830 - mae: 111.2830 - mse: 71301.0156 - val_loss: 590.7802 - val_mae: 590.7802 - val_mse: 1225397.0000\n",
            "Epoch 67/100\n",
            "18/18 [==============================] - 0s 4ms/step - loss: 106.7918 - mae: 106.7918 - mse: 69382.4531 - val_loss: 586.8840 - val_mae: 586.8840 - val_mse: 1218027.7500\n",
            "Epoch 68/100\n",
            "18/18 [==============================] - 0s 4ms/step - loss: 112.2987 - mae: 112.2987 - mse: 70631.5625 - val_loss: 696.5287 - val_mae: 696.5287 - val_mse: 1492195.5000\n",
            "Epoch 69/100\n",
            "18/18 [==============================] - 0s 4ms/step - loss: 124.7808 - mae: 124.7808 - mse: 81109.6016 - val_loss: 698.5261 - val_mae: 698.5261 - val_mse: 1498611.2500\n",
            "Epoch 70/100\n",
            "18/18 [==============================] - 0s 5ms/step - loss: 119.3443 - mae: 119.3443 - mse: 78076.1328 - val_loss: 581.2100 - val_mae: 581.2100 - val_mse: 1206247.6250\n",
            "Epoch 71/100\n",
            "18/18 [==============================] - 0s 4ms/step - loss: 109.9960 - mae: 109.9960 - mse: 71315.7578 - val_loss: 607.6742 - val_mae: 607.6742 - val_mse: 1245709.7500\n",
            "Epoch 72/100\n",
            "18/18 [==============================] - 0s 27ms/step - loss: 106.7711 - mae: 106.7711 - mse: 70055.2266 - val_loss: 573.6142 - val_mae: 573.6142 - val_mse: 1185168.7500\n",
            "Epoch 73/100\n",
            "18/18 [==============================] - 0s 5ms/step - loss: 110.2485 - mae: 110.2485 - mse: 71589.1328 - val_loss: 618.8947 - val_mae: 618.8947 - val_mse: 1289601.2500\n",
            "Epoch 74/100\n",
            "18/18 [==============================] - 0s 4ms/step - loss: 105.5330 - mae: 105.5330 - mse: 69883.2891 - val_loss: 574.9452 - val_mae: 574.9452 - val_mse: 1189282.1250\n",
            "Epoch 75/100\n",
            "18/18 [==============================] - 0s 4ms/step - loss: 107.3177 - mae: 107.3177 - mse: 69894.7344 - val_loss: 606.1979 - val_mae: 606.1979 - val_mse: 1240848.5000\n",
            "Epoch 76/100\n",
            "18/18 [==============================] - 0s 5ms/step - loss: 107.8084 - mae: 107.8084 - mse: 70983.0625 - val_loss: 582.2403 - val_mae: 582.2403 - val_mse: 1206271.7500\n",
            "Epoch 77/100\n",
            "18/18 [==============================] - 0s 27ms/step - loss: 107.2528 - mae: 107.2528 - mse: 69628.3203 - val_loss: 571.8563 - val_mae: 571.8563 - val_mse: 1180512.1250\n",
            "Epoch 78/100\n",
            "18/18 [==============================] - 0s 4ms/step - loss: 106.2309 - mae: 106.2309 - mse: 69008.9922 - val_loss: 572.2830 - val_mae: 572.2830 - val_mse: 1174658.7500\n",
            "Epoch 79/100\n",
            "18/18 [==============================] - 0s 4ms/step - loss: 105.8568 - mae: 105.8568 - mse: 70072.8047 - val_loss: 596.5461 - val_mae: 596.5461 - val_mse: 1236695.8750\n",
            "Epoch 80/100\n",
            "18/18 [==============================] - 0s 4ms/step - loss: 107.8418 - mae: 107.8418 - mse: 70822.2656 - val_loss: 577.2400 - val_mae: 577.2400 - val_mse: 1181263.0000\n",
            "Epoch 81/100\n",
            "18/18 [==============================] - 0s 26ms/step - loss: 105.1101 - mae: 105.1101 - mse: 68809.2188 - val_loss: 568.4897 - val_mae: 568.4897 - val_mse: 1169003.5000\n",
            "Epoch 82/100\n",
            "18/18 [==============================] - 0s 5ms/step - loss: 114.1867 - mae: 114.1867 - mse: 75576.8047 - val_loss: 592.5609 - val_mae: 592.5609 - val_mse: 1228614.6250\n",
            "Epoch 83/100\n",
            "18/18 [==============================] - 0s 4ms/step - loss: 107.9631 - mae: 107.9631 - mse: 70494.2969 - val_loss: 651.6213 - val_mae: 651.6213 - val_mse: 1362898.3750\n",
            "Epoch 84/100\n",
            "18/18 [==============================] - 0s 4ms/step - loss: 109.6690 - mae: 109.6690 - mse: 71213.1641 - val_loss: 568.9340 - val_mae: 568.9340 - val_mse: 1170230.7500\n",
            "Epoch 85/100\n",
            "18/18 [==============================] - 0s 4ms/step - loss: 105.8219 - mae: 105.8219 - mse: 69465.5859 - val_loss: 571.5334 - val_mae: 571.5334 - val_mse: 1169862.0000\n",
            "Epoch 86/100\n",
            "18/18 [==============================] - 0s 4ms/step - loss: 104.8628 - mae: 104.8628 - mse: 68310.5625 - val_loss: 579.3859 - val_mae: 579.3859 - val_mse: 1182463.2500\n",
            "Epoch 87/100\n",
            "18/18 [==============================] - 0s 5ms/step - loss: 104.7148 - mae: 104.7148 - mse: 67432.9766 - val_loss: 582.9178 - val_mae: 582.9178 - val_mse: 1203504.6250\n",
            "Epoch 88/100\n",
            "18/18 [==============================] - 0s 4ms/step - loss: 106.8899 - mae: 106.8899 - mse: 69952.0000 - val_loss: 569.0820 - val_mae: 569.0820 - val_mse: 1170116.8750\n",
            "Epoch 89/100\n",
            "18/18 [==============================] - 0s 5ms/step - loss: 105.4376 - mae: 105.4376 - mse: 67957.0703 - val_loss: 569.3439 - val_mae: 569.3439 - val_mse: 1170367.2500\n",
            "Epoch 90/100\n",
            "18/18 [==============================] - 0s 5ms/step - loss: 105.1583 - mae: 105.1583 - mse: 66715.0391 - val_loss: 600.5422 - val_mae: 600.5422 - val_mse: 1223465.5000\n",
            "Epoch 91/100\n",
            "18/18 [==============================] - 0s 4ms/step - loss: 111.8188 - mae: 111.8188 - mse: 72127.2891 - val_loss: 632.4727 - val_mae: 632.4727 - val_mse: 1316192.5000\n",
            "Epoch 92/100\n",
            "18/18 [==============================] - 0s 4ms/step - loss: 106.8183 - mae: 106.8183 - mse: 69972.6719 - val_loss: 601.6358 - val_mae: 601.6358 - val_mse: 1248457.2500\n",
            "Epoch 93/100\n",
            "18/18 [==============================] - 0s 4ms/step - loss: 114.4035 - mae: 114.4035 - mse: 73548.4297 - val_loss: 647.1910 - val_mae: 647.1910 - val_mse: 1346768.6250\n",
            "Epoch 94/100\n",
            "18/18 [==============================] - 0s 4ms/step - loss: 110.5867 - mae: 110.5867 - mse: 72333.4375 - val_loss: 571.2924 - val_mae: 571.2924 - val_mse: 1168205.8750\n",
            "Epoch 95/100\n",
            "18/18 [==============================] - 0s 4ms/step - loss: 105.7926 - mae: 105.7926 - mse: 68822.1016 - val_loss: 584.9744 - val_mae: 584.9744 - val_mse: 1191992.8750\n",
            "Epoch 96/100\n",
            "18/18 [==============================] - 0s 4ms/step - loss: 112.4480 - mae: 112.4480 - mse: 72328.8438 - val_loss: 624.2061 - val_mae: 624.2061 - val_mse: 1296119.6250\n",
            "Epoch 97/100\n",
            "18/18 [==============================] - 0s 4ms/step - loss: 108.2609 - mae: 108.2609 - mse: 70828.8359 - val_loss: 581.7926 - val_mae: 581.7926 - val_mse: 1203547.7500\n",
            "Epoch 98/100\n",
            "18/18 [==============================] - 0s 5ms/step - loss: 108.0625 - mae: 108.0625 - mse: 69591.1797 - val_loss: 573.6556 - val_mae: 573.6556 - val_mse: 1173146.3750\n",
            "Epoch 99/100\n",
            "18/18 [==============================] - 0s 27ms/step - loss: 107.7017 - mae: 107.7017 - mse: 69536.8750 - val_loss: 567.8899 - val_mae: 567.8899 - val_mse: 1164816.6250\n",
            "Epoch 100/100\n",
            "18/18 [==============================] - 0s 5ms/step - loss: 107.9951 - mae: 107.9951 - mse: 68321.1641 - val_loss: 626.7441 - val_mae: 626.7441 - val_mse: 1282530.1250\n"
          ]
        },
        {
          "output_type": "execute_result",
          "data": {
            "text/plain": [
              "<keras.callbacks.History at 0x7f09da099be0>"
            ]
          },
          "metadata": {},
          "execution_count": 113
        }
      ]
    },
    {
      "cell_type": "code",
      "source": [
        "# Evaluate multivariate model\n",
        "model_6.evaluate(x_test,y_test)"
      ],
      "metadata": {
        "colab": {
          "base_uri": "https://localhost:8080/"
        },
        "id": "6m95nHE2zLoe",
        "outputId": "0e70ae51-e9a6-48f5-9846-87313f74e8ad"
      },
      "execution_count": 114,
      "outputs": [
        {
          "output_type": "stream",
          "name": "stdout",
          "text": [
            "18/18 [==============================] - 0s 2ms/step - loss: 626.7440 - mae: 626.7440 - mse: 1282530.1250\n"
          ]
        },
        {
          "output_type": "execute_result",
          "data": {
            "text/plain": [
              "[626.7440185546875, 626.7440185546875, 1282530.125]"
            ]
          },
          "metadata": {},
          "execution_count": 114
        }
      ]
    },
    {
      "cell_type": "code",
      "source": [
        "# Load best model\n",
        "model_6 = tf.keras.models.load_model(\"model_experiments/model_6_dense\")\n",
        "model_6.evaluate(x_test,y_test)"
      ],
      "metadata": {
        "colab": {
          "base_uri": "https://localhost:8080/"
        },
        "id": "gGiefYX_z1Bp",
        "outputId": "1d3e2d94-ceaa-4c0e-c278-6f2cd04b47aa"
      },
      "execution_count": 115,
      "outputs": [
        {
          "output_type": "stream",
          "name": "stdout",
          "text": [
            "18/18 [==============================] - 0s 2ms/step - loss: 567.8899 - mae: 567.8899 - mse: 1164816.5000\n"
          ]
        },
        {
          "output_type": "execute_result",
          "data": {
            "text/plain": [
              "[567.889892578125, 567.889892578125, 1164816.5]"
            ]
          },
          "metadata": {},
          "execution_count": 115
        }
      ]
    },
    {
      "cell_type": "code",
      "source": [
        "# Make predictions on the test data\n",
        "model_6_preds = tf.squeeze(model_6.predict(x_test))\n",
        "model_6_preds[:10]"
      ],
      "metadata": {
        "colab": {
          "base_uri": "https://localhost:8080/"
        },
        "id": "fyA-FN6c0UHJ",
        "outputId": "9f2da81b-f025-4576-c921-064b3f7f6f2e"
      },
      "execution_count": 116,
      "outputs": [
        {
          "output_type": "stream",
          "name": "stdout",
          "text": [
            "18/18 [==============================] - 0s 1ms/step\n"
          ]
        },
        {
          "output_type": "execute_result",
          "data": {
            "text/plain": [
              "<tf.Tensor: shape=(10,), dtype=float32, numpy=\n",
              "array([8844.684, 8769.905, 9045.17 , 8747.686, 8728.429, 8772.757,\n",
              "       8667.292, 8503.437, 8470.313, 8527.244], dtype=float32)>"
            ]
          },
          "metadata": {},
          "execution_count": 116
        }
      ]
    },
    {
      "cell_type": "code",
      "source": [
        "model_6_results = evaluate_preds(y_true = y_test,\n",
        "                                 y_pred = model_6_preds)\n",
        "model_6_results"
      ],
      "metadata": {
        "colab": {
          "base_uri": "https://localhost:8080/"
        },
        "id": "KohsCkKE1A3s",
        "outputId": "7a648744-6a43-4b19-d6b7-445eac0d044e"
      },
      "execution_count": 117,
      "outputs": [
        {
          "output_type": "execute_result",
          "data": {
            "text/plain": [
              "{'mae': 567.8899,\n",
              " 'mse': 1164816.4,\n",
              " 'rmse': 1079.2666,\n",
              " 'mape': 2.5460758,\n",
              " 'mase': 0.99762523}"
            ]
          },
          "metadata": {},
          "execution_count": 117
        }
      ]
    },
    {
      "cell_type": "code",
      "source": [
        "model_1_results"
      ],
      "metadata": {
        "colab": {
          "base_uri": "https://localhost:8080/"
        },
        "id": "kuyyFSDs1RWR",
        "outputId": "d8c03272-2c1d-44ee-eab0-0b6343cfb219"
      },
      "execution_count": 118,
      "outputs": [
        {
          "output_type": "execute_result",
          "data": {
            "text/plain": [
              "{'mae': 568.9511,\n",
              " 'mse': 1171743.8,\n",
              " 'rmse': 1082.4711,\n",
              " 'mape': 2.5448983,\n",
              " 'mase': 0.99948955}"
            ]
          },
          "metadata": {},
          "execution_count": 118
        }
      ]
    },
    {
      "cell_type": "code",
      "source": [
        "naive_results"
      ],
      "metadata": {
        "colab": {
          "base_uri": "https://localhost:8080/"
        },
        "id": "1nh7Kede1VXB",
        "outputId": "23f55f35-2c7e-498f-b319-7a35a506f73f"
      },
      "execution_count": 119,
      "outputs": [
        {
          "output_type": "execute_result",
          "data": {
            "text/plain": [
              "{'mae': 567.9802,\n",
              " 'mse': 1147547.0,\n",
              " 'rmse': 1071.2362,\n",
              " 'mape': 2.516525,\n",
              " 'mase': 0.99957}"
            ]
          },
          "metadata": {},
          "execution_count": 119
        }
      ]
    },
    {
      "cell_type": "markdown",
      "source": [
        "multi input model hmm how can we do that"
      ],
      "metadata": {
        "id": "u-HE_sxw1hUp"
      }
    },
    {
      "cell_type": "markdown",
      "source": [
        "## Model 7 NBEATS ALGORITHM\n",
        "The most biggest time series forcasting algorithm so far\n",
        "https://arxiv.org/pdf/1905.10437.pdf\n",
        "\n",
        "* This will allow us to practice replicating a paper with tensorflow code\n",
        "* We will see how to use Tensorflow layer subclassing (to make our own custom layers\n",
        "*Get experience using the FUnctional API to create a custom architecture\n",
        "* Potentially get state of the art results on our model"
      ],
      "metadata": {
        "id": "C5olB2uI2egK"
      }
    },
    {
      "cell_type": "markdown",
      "source": [
        "## Building and testing the N-BEATS block layer\n",
        "Because the N-BEATS block layer doesnt exist in tensorflow we have got to create it.\n",
        "To create custom layers and models in Tensorflow we can use subclassing:\n",
        "https://www.tensorflow.org/guide/keras/custom_layers_and models"
      ],
      "metadata": {
        "id": "eUendusU04AA"
      }
    },
    {
      "cell_type": "code",
      "source": [
        "# Create NBeatsBlock custom layer \n",
        "class NBeatsBlock(tf.keras.layers.Layer):\n",
        "  def __init__(self, # the constructor takes all the hyperparameters for the layer\n",
        "               input_size: int,\n",
        "               theta_size: int,\n",
        "               horizon: int,\n",
        "               n_neurons: int,\n",
        "               n_layers: int,\n",
        "               **kwargs): # the **kwargs argument takes care of all of the arguments for the parent class (input_shape, trainable, name)\n",
        "    super().__init__(**kwargs)\n",
        "    self.input_size = input_size\n",
        "    self.theta_size = theta_size\n",
        "    self.horizon = horizon\n",
        "    self.n_neurons = n_neurons\n",
        "    self.n_layers = n_layers\n",
        "\n",
        "    # Block contains stack of 4 fully connected layers each has ReLU activation\n",
        "    self.hidden = [tf.keras.layers.Dense(n_neurons, activation=\"relu\") for _ in range(n_layers)]\n",
        "    # Output of block is a theta layer with linear activation\n",
        "    self.theta_layer = tf.keras.layers.Dense(theta_size, activation=\"linear\", name=\"theta\")\n",
        "\n",
        "  def call(self, inputs): # the call method is what runs when the layer is called \n",
        "    x = inputs \n",
        "    for layer in self.hidden: # pass inputs through each hidden layer \n",
        "      x = layer(x)\n",
        "    theta = self.theta_layer(x) \n",
        "    # Output the backcast and forecast from theta\n",
        "    backcast, forecast = theta[:, :self.input_size], theta[:, -self.horizon:]\n",
        "    return backcast, forecast"
      ],
      "metadata": {
        "id": "ovVtVSzKM4V-"
      },
      "execution_count": 124,
      "outputs": []
    },
    {
      "cell_type": "markdown",
      "source": [
        "lets test our nbeats block class"
      ],
      "metadata": {
        "id": "Ce2lr3h1VkVw"
      }
    },
    {
      "cell_type": "code",
      "source": [
        "# Set up a dummy nbeats layer to represent the inputs and out puts\n",
        "dummy_nbeats_block_layer = NBeatsBlock(input_size=WINDOW_SIZE,\n",
        "                                       theta_size = WINDOW_SIZE + HORIZON,\n",
        "                                       horizon = HORIZON,\n",
        "                                       n_neurons = 128,\n",
        "                                       n_layers = 4)"
      ],
      "metadata": {
        "id": "Z-xKjY61VqzI"
      },
      "execution_count": 125,
      "outputs": []
    },
    {
      "cell_type": "code",
      "source": [
        "# Create Dummy inputs (have to be same size as input size)\n",
        "dummy_inputs = tf.expand_dims(tf.range(WINDOW_SIZE)+1,axis=0)# input shape to the model has to reflect dense layer input requiremnets\n",
        "dummy_inputs"
      ],
      "metadata": {
        "colab": {
          "base_uri": "https://localhost:8080/"
        },
        "id": "bQ77z-JVW2P5",
        "outputId": "32ced9ee-1561-4912-ab35-ba00304acc16"
      },
      "execution_count": 126,
      "outputs": [
        {
          "output_type": "execute_result",
          "data": {
            "text/plain": [
              "<tf.Tensor: shape=(1, 7), dtype=int32, numpy=array([[1, 2, 3, 4, 5, 6, 7]], dtype=int32)>"
            ]
          },
          "metadata": {},
          "execution_count": 126
        }
      ]
    },
    {
      "cell_type": "code",
      "source": [
        "# Pass dummy inputs to dummy NBeatsBlock layer\n",
        "backcast, forecast = dummy_nbeats_block_layer(dummy_inputs)\n",
        "# These are the activation outputs of the theta layer (they'll be random due to no training of the model)\n",
        "print(f\"Backcast: {tf.squeeze(backcast.numpy())}\")\n",
        "print(f\"Forecast: {tf.squeeze(forecast.numpy())}\")"
      ],
      "metadata": {
        "colab": {
          "base_uri": "https://localhost:8080/"
        },
        "id": "7yIm5Ja4Xf6I",
        "outputId": "46051c3a-7a3c-4a8b-cfbe-cc97d39ae7a5"
      },
      "execution_count": 128,
      "outputs": [
        {
          "output_type": "stream",
          "name": "stdout",
          "text": [
            "Backcast: [-0.4683625  -0.62728995  0.2366477   0.32464933 -0.23003682 -0.91415673\n",
            "  0.30542657]\n",
            "Forecast: 0.23829059302806854\n"
          ]
        }
      ]
    },
    {
      "cell_type": "markdown",
      "source": [
        "## Preparing data for thw nbeats algorithm using tf data"
      ],
      "metadata": {
        "id": "8akDAWT0YZh5"
      }
    },
    {
      "cell_type": "code",
      "source": [
        "HORIZON =1\n",
        "WINDOW_SIZE = 7"
      ],
      "metadata": {
        "id": "e0vbqcieqjfv"
      },
      "execution_count": 129,
      "outputs": []
    },
    {
      "cell_type": "code",
      "source": [
        "# Create nbeats data input \n",
        "bitcoin_prices.head()"
      ],
      "metadata": {
        "colab": {
          "base_uri": "https://localhost:8080/",
          "height": 237
        },
        "id": "T5bIMGw5q442",
        "outputId": "46ad33ac-08d4-4495-f6e5-7a914de46725"
      },
      "execution_count": 130,
      "outputs": [
        {
          "output_type": "execute_result",
          "data": {
            "text/plain": [
              "                Price\n",
              "Date                 \n",
              "2013-10-01  123.65499\n",
              "2013-10-02  125.45500\n",
              "2013-10-03  108.58483\n",
              "2013-10-04  118.67466\n",
              "2013-10-05  121.33866"
            ],
            "text/html": [
              "\n",
              "  <div id=\"df-ef43f0e8-0723-48f7-b466-1c009a2c8906\">\n",
              "    <div class=\"colab-df-container\">\n",
              "      <div>\n",
              "<style scoped>\n",
              "    .dataframe tbody tr th:only-of-type {\n",
              "        vertical-align: middle;\n",
              "    }\n",
              "\n",
              "    .dataframe tbody tr th {\n",
              "        vertical-align: top;\n",
              "    }\n",
              "\n",
              "    .dataframe thead th {\n",
              "        text-align: right;\n",
              "    }\n",
              "</style>\n",
              "<table border=\"1\" class=\"dataframe\">\n",
              "  <thead>\n",
              "    <tr style=\"text-align: right;\">\n",
              "      <th></th>\n",
              "      <th>Price</th>\n",
              "    </tr>\n",
              "    <tr>\n",
              "      <th>Date</th>\n",
              "      <th></th>\n",
              "    </tr>\n",
              "  </thead>\n",
              "  <tbody>\n",
              "    <tr>\n",
              "      <th>2013-10-01</th>\n",
              "      <td>123.65499</td>\n",
              "    </tr>\n",
              "    <tr>\n",
              "      <th>2013-10-02</th>\n",
              "      <td>125.45500</td>\n",
              "    </tr>\n",
              "    <tr>\n",
              "      <th>2013-10-03</th>\n",
              "      <td>108.58483</td>\n",
              "    </tr>\n",
              "    <tr>\n",
              "      <th>2013-10-04</th>\n",
              "      <td>118.67466</td>\n",
              "    </tr>\n",
              "    <tr>\n",
              "      <th>2013-10-05</th>\n",
              "      <td>121.33866</td>\n",
              "    </tr>\n",
              "  </tbody>\n",
              "</table>\n",
              "</div>\n",
              "      <button class=\"colab-df-convert\" onclick=\"convertToInteractive('df-ef43f0e8-0723-48f7-b466-1c009a2c8906')\"\n",
              "              title=\"Convert this dataframe to an interactive table.\"\n",
              "              style=\"display:none;\">\n",
              "        \n",
              "  <svg xmlns=\"http://www.w3.org/2000/svg\" height=\"24px\"viewBox=\"0 0 24 24\"\n",
              "       width=\"24px\">\n",
              "    <path d=\"M0 0h24v24H0V0z\" fill=\"none\"/>\n",
              "    <path d=\"M18.56 5.44l.94 2.06.94-2.06 2.06-.94-2.06-.94-.94-2.06-.94 2.06-2.06.94zm-11 1L8.5 8.5l.94-2.06 2.06-.94-2.06-.94L8.5 2.5l-.94 2.06-2.06.94zm10 10l.94 2.06.94-2.06 2.06-.94-2.06-.94-.94-2.06-.94 2.06-2.06.94z\"/><path d=\"M17.41 7.96l-1.37-1.37c-.4-.4-.92-.59-1.43-.59-.52 0-1.04.2-1.43.59L10.3 9.45l-7.72 7.72c-.78.78-.78 2.05 0 2.83L4 21.41c.39.39.9.59 1.41.59.51 0 1.02-.2 1.41-.59l7.78-7.78 2.81-2.81c.8-.78.8-2.07 0-2.86zM5.41 20L4 18.59l7.72-7.72 1.47 1.35L5.41 20z\"/>\n",
              "  </svg>\n",
              "      </button>\n",
              "      \n",
              "  <style>\n",
              "    .colab-df-container {\n",
              "      display:flex;\n",
              "      flex-wrap:wrap;\n",
              "      gap: 12px;\n",
              "    }\n",
              "\n",
              "    .colab-df-convert {\n",
              "      background-color: #E8F0FE;\n",
              "      border: none;\n",
              "      border-radius: 50%;\n",
              "      cursor: pointer;\n",
              "      display: none;\n",
              "      fill: #1967D2;\n",
              "      height: 32px;\n",
              "      padding: 0 0 0 0;\n",
              "      width: 32px;\n",
              "    }\n",
              "\n",
              "    .colab-df-convert:hover {\n",
              "      background-color: #E2EBFA;\n",
              "      box-shadow: 0px 1px 2px rgba(60, 64, 67, 0.3), 0px 1px 3px 1px rgba(60, 64, 67, 0.15);\n",
              "      fill: #174EA6;\n",
              "    }\n",
              "\n",
              "    [theme=dark] .colab-df-convert {\n",
              "      background-color: #3B4455;\n",
              "      fill: #D2E3FC;\n",
              "    }\n",
              "\n",
              "    [theme=dark] .colab-df-convert:hover {\n",
              "      background-color: #434B5C;\n",
              "      box-shadow: 0px 1px 3px 1px rgba(0, 0, 0, 0.15);\n",
              "      filter: drop-shadow(0px 1px 2px rgba(0, 0, 0, 0.3));\n",
              "      fill: #FFFFFF;\n",
              "    }\n",
              "  </style>\n",
              "\n",
              "      <script>\n",
              "        const buttonEl =\n",
              "          document.querySelector('#df-ef43f0e8-0723-48f7-b466-1c009a2c8906 button.colab-df-convert');\n",
              "        buttonEl.style.display =\n",
              "          google.colab.kernel.accessAllowed ? 'block' : 'none';\n",
              "\n",
              "        async function convertToInteractive(key) {\n",
              "          const element = document.querySelector('#df-ef43f0e8-0723-48f7-b466-1c009a2c8906');\n",
              "          const dataTable =\n",
              "            await google.colab.kernel.invokeFunction('convertToInteractive',\n",
              "                                                     [key], {});\n",
              "          if (!dataTable) return;\n",
              "\n",
              "          const docLinkHtml = 'Like what you see? Visit the ' +\n",
              "            '<a target=\"_blank\" href=https://colab.research.google.com/notebooks/data_table.ipynb>data table notebook</a>'\n",
              "            + ' to learn more about interactive tables.';\n",
              "          element.innerHTML = '';\n",
              "          dataTable['output_type'] = 'display_data';\n",
              "          await google.colab.output.renderOutput(dataTable, element);\n",
              "          const docLink = document.createElement('div');\n",
              "          docLink.innerHTML = docLinkHtml;\n",
              "          element.appendChild(docLink);\n",
              "        }\n",
              "      </script>\n",
              "    </div>\n",
              "  </div>\n",
              "  "
            ]
          },
          "metadata": {},
          "execution_count": 130
        }
      ]
    },
    {
      "cell_type": "code",
      "source": [
        "# Add Windowed Columns\n",
        "bitcoin_prices_nbeats = bitcoin_prices.copy()\n",
        "for i in range(WINDOW_SIZE):\n",
        "  bitcoin_prices_nbeats[f\"Price+{i+1}]\"] = bitcoin_prices_nbeats[\"Price\"].shift(periods=i+1)\n",
        "bitcoin_prices_nbeats.head()\n"
      ],
      "metadata": {
        "colab": {
          "base_uri": "https://localhost:8080/",
          "height": 237
        },
        "id": "f-bQSBxqq_8g",
        "outputId": "8b0c870e-d2ec-4a59-be3e-4d258f523145"
      },
      "execution_count": 131,
      "outputs": [
        {
          "output_type": "execute_result",
          "data": {
            "text/plain": [
              "                Price   Price+1]   Price+2]   Price+3]   Price+4]  Price+5]  \\\n",
              "Date                                                                          \n",
              "2013-10-01  123.65499        NaN        NaN        NaN        NaN       NaN   \n",
              "2013-10-02  125.45500  123.65499        NaN        NaN        NaN       NaN   \n",
              "2013-10-03  108.58483  125.45500  123.65499        NaN        NaN       NaN   \n",
              "2013-10-04  118.67466  108.58483  125.45500  123.65499        NaN       NaN   \n",
              "2013-10-05  121.33866  118.67466  108.58483  125.45500  123.65499       NaN   \n",
              "\n",
              "            Price+6]  Price+7]  \n",
              "Date                            \n",
              "2013-10-01       NaN       NaN  \n",
              "2013-10-02       NaN       NaN  \n",
              "2013-10-03       NaN       NaN  \n",
              "2013-10-04       NaN       NaN  \n",
              "2013-10-05       NaN       NaN  "
            ],
            "text/html": [
              "\n",
              "  <div id=\"df-abef46fb-156c-469a-b637-1988b3da3f37\">\n",
              "    <div class=\"colab-df-container\">\n",
              "      <div>\n",
              "<style scoped>\n",
              "    .dataframe tbody tr th:only-of-type {\n",
              "        vertical-align: middle;\n",
              "    }\n",
              "\n",
              "    .dataframe tbody tr th {\n",
              "        vertical-align: top;\n",
              "    }\n",
              "\n",
              "    .dataframe thead th {\n",
              "        text-align: right;\n",
              "    }\n",
              "</style>\n",
              "<table border=\"1\" class=\"dataframe\">\n",
              "  <thead>\n",
              "    <tr style=\"text-align: right;\">\n",
              "      <th></th>\n",
              "      <th>Price</th>\n",
              "      <th>Price+1]</th>\n",
              "      <th>Price+2]</th>\n",
              "      <th>Price+3]</th>\n",
              "      <th>Price+4]</th>\n",
              "      <th>Price+5]</th>\n",
              "      <th>Price+6]</th>\n",
              "      <th>Price+7]</th>\n",
              "    </tr>\n",
              "    <tr>\n",
              "      <th>Date</th>\n",
              "      <th></th>\n",
              "      <th></th>\n",
              "      <th></th>\n",
              "      <th></th>\n",
              "      <th></th>\n",
              "      <th></th>\n",
              "      <th></th>\n",
              "      <th></th>\n",
              "    </tr>\n",
              "  </thead>\n",
              "  <tbody>\n",
              "    <tr>\n",
              "      <th>2013-10-01</th>\n",
              "      <td>123.65499</td>\n",
              "      <td>NaN</td>\n",
              "      <td>NaN</td>\n",
              "      <td>NaN</td>\n",
              "      <td>NaN</td>\n",
              "      <td>NaN</td>\n",
              "      <td>NaN</td>\n",
              "      <td>NaN</td>\n",
              "    </tr>\n",
              "    <tr>\n",
              "      <th>2013-10-02</th>\n",
              "      <td>125.45500</td>\n",
              "      <td>123.65499</td>\n",
              "      <td>NaN</td>\n",
              "      <td>NaN</td>\n",
              "      <td>NaN</td>\n",
              "      <td>NaN</td>\n",
              "      <td>NaN</td>\n",
              "      <td>NaN</td>\n",
              "    </tr>\n",
              "    <tr>\n",
              "      <th>2013-10-03</th>\n",
              "      <td>108.58483</td>\n",
              "      <td>125.45500</td>\n",
              "      <td>123.65499</td>\n",
              "      <td>NaN</td>\n",
              "      <td>NaN</td>\n",
              "      <td>NaN</td>\n",
              "      <td>NaN</td>\n",
              "      <td>NaN</td>\n",
              "    </tr>\n",
              "    <tr>\n",
              "      <th>2013-10-04</th>\n",
              "      <td>118.67466</td>\n",
              "      <td>108.58483</td>\n",
              "      <td>125.45500</td>\n",
              "      <td>123.65499</td>\n",
              "      <td>NaN</td>\n",
              "      <td>NaN</td>\n",
              "      <td>NaN</td>\n",
              "      <td>NaN</td>\n",
              "    </tr>\n",
              "    <tr>\n",
              "      <th>2013-10-05</th>\n",
              "      <td>121.33866</td>\n",
              "      <td>118.67466</td>\n",
              "      <td>108.58483</td>\n",
              "      <td>125.45500</td>\n",
              "      <td>123.65499</td>\n",
              "      <td>NaN</td>\n",
              "      <td>NaN</td>\n",
              "      <td>NaN</td>\n",
              "    </tr>\n",
              "  </tbody>\n",
              "</table>\n",
              "</div>\n",
              "      <button class=\"colab-df-convert\" onclick=\"convertToInteractive('df-abef46fb-156c-469a-b637-1988b3da3f37')\"\n",
              "              title=\"Convert this dataframe to an interactive table.\"\n",
              "              style=\"display:none;\">\n",
              "        \n",
              "  <svg xmlns=\"http://www.w3.org/2000/svg\" height=\"24px\"viewBox=\"0 0 24 24\"\n",
              "       width=\"24px\">\n",
              "    <path d=\"M0 0h24v24H0V0z\" fill=\"none\"/>\n",
              "    <path d=\"M18.56 5.44l.94 2.06.94-2.06 2.06-.94-2.06-.94-.94-2.06-.94 2.06-2.06.94zm-11 1L8.5 8.5l.94-2.06 2.06-.94-2.06-.94L8.5 2.5l-.94 2.06-2.06.94zm10 10l.94 2.06.94-2.06 2.06-.94-2.06-.94-.94-2.06-.94 2.06-2.06.94z\"/><path d=\"M17.41 7.96l-1.37-1.37c-.4-.4-.92-.59-1.43-.59-.52 0-1.04.2-1.43.59L10.3 9.45l-7.72 7.72c-.78.78-.78 2.05 0 2.83L4 21.41c.39.39.9.59 1.41.59.51 0 1.02-.2 1.41-.59l7.78-7.78 2.81-2.81c.8-.78.8-2.07 0-2.86zM5.41 20L4 18.59l7.72-7.72 1.47 1.35L5.41 20z\"/>\n",
              "  </svg>\n",
              "      </button>\n",
              "      \n",
              "  <style>\n",
              "    .colab-df-container {\n",
              "      display:flex;\n",
              "      flex-wrap:wrap;\n",
              "      gap: 12px;\n",
              "    }\n",
              "\n",
              "    .colab-df-convert {\n",
              "      background-color: #E8F0FE;\n",
              "      border: none;\n",
              "      border-radius: 50%;\n",
              "      cursor: pointer;\n",
              "      display: none;\n",
              "      fill: #1967D2;\n",
              "      height: 32px;\n",
              "      padding: 0 0 0 0;\n",
              "      width: 32px;\n",
              "    }\n",
              "\n",
              "    .colab-df-convert:hover {\n",
              "      background-color: #E2EBFA;\n",
              "      box-shadow: 0px 1px 2px rgba(60, 64, 67, 0.3), 0px 1px 3px 1px rgba(60, 64, 67, 0.15);\n",
              "      fill: #174EA6;\n",
              "    }\n",
              "\n",
              "    [theme=dark] .colab-df-convert {\n",
              "      background-color: #3B4455;\n",
              "      fill: #D2E3FC;\n",
              "    }\n",
              "\n",
              "    [theme=dark] .colab-df-convert:hover {\n",
              "      background-color: #434B5C;\n",
              "      box-shadow: 0px 1px 3px 1px rgba(0, 0, 0, 0.15);\n",
              "      filter: drop-shadow(0px 1px 2px rgba(0, 0, 0, 0.3));\n",
              "      fill: #FFFFFF;\n",
              "    }\n",
              "  </style>\n",
              "\n",
              "      <script>\n",
              "        const buttonEl =\n",
              "          document.querySelector('#df-abef46fb-156c-469a-b637-1988b3da3f37 button.colab-df-convert');\n",
              "        buttonEl.style.display =\n",
              "          google.colab.kernel.accessAllowed ? 'block' : 'none';\n",
              "\n",
              "        async function convertToInteractive(key) {\n",
              "          const element = document.querySelector('#df-abef46fb-156c-469a-b637-1988b3da3f37');\n",
              "          const dataTable =\n",
              "            await google.colab.kernel.invokeFunction('convertToInteractive',\n",
              "                                                     [key], {});\n",
              "          if (!dataTable) return;\n",
              "\n",
              "          const docLinkHtml = 'Like what you see? Visit the ' +\n",
              "            '<a target=\"_blank\" href=https://colab.research.google.com/notebooks/data_table.ipynb>data table notebook</a>'\n",
              "            + ' to learn more about interactive tables.';\n",
              "          element.innerHTML = '';\n",
              "          dataTable['output_type'] = 'display_data';\n",
              "          await google.colab.output.renderOutput(dataTable, element);\n",
              "          const docLink = document.createElement('div');\n",
              "          docLink.innerHTML = docLinkHtml;\n",
              "          element.appendChild(docLink);\n",
              "        }\n",
              "      </script>\n",
              "    </div>\n",
              "  </div>\n",
              "  "
            ]
          },
          "metadata": {},
          "execution_count": 131
        }
      ]
    },
    {
      "cell_type": "code",
      "source": [
        "# Make features and labels\n",
        "x = bitcoin_prices_nbeats.dropna().drop(\"Price\",axis=1)\n",
        "y = bitcoin_prices_nbeats.dropna()[\"Price\"]\n",
        "\n",
        "# Make train and test sets\n",
        "split_size = int(len(x)*0.8)\n",
        "x_train,y_train = x[:split_size],y[:split_size]\n",
        "x_test,y_test = x[split_size:],y[split_size:]\n",
        "len(x_train),len(y_train),len(x_test),len(y_test)"
      ],
      "metadata": {
        "colab": {
          "base_uri": "https://localhost:8080/"
        },
        "id": "seUM2Or5rte5",
        "outputId": "bb31c88b-ff01-4a45-a12e-aeac1e9695b0"
      },
      "execution_count": 132,
      "outputs": [
        {
          "output_type": "execute_result",
          "data": {
            "text/plain": [
              "(2224, 2224, 556, 556)"
            ]
          },
          "metadata": {},
          "execution_count": 132
        }
      ]
    },
    {
      "cell_type": "code",
      "source": [
        "# Time to make our data set performant using tf.data API\n",
        "train_features_dataset = tf.data.Dataset.from_tensor_slices(x_train)\n",
        "train_labels_dataset = tf.data.Dataset.from_tensor_slices(y_train)\n",
        "\n",
        "test_features_dataset = tf.data.Dataset.from_tensor_slices(x_test)\n",
        "test_labels_dataset = tf.data.Dataset.from_tensor_slices(y_test)\n",
        "\n",
        "# Combine labels and features by zipping them\n",
        "train_dataset = tf.data.Dataset.zip((train_features_dataset,test_labels_dataset))\n",
        "test_dataset = tf.data.Dataset.zip((test_features_dataset,test_labels_dataset))\n",
        "\n",
        "# Batch and prefetch\n",
        "BATCH_SIZE = 1024\n",
        "train_dataset = train_dataset.batch(BATCH_SIZE).prefetch(tf.data.AUTOTUNE)\n",
        "test_dataset = test_dataset.batch(BATCH_SIZE).prefetch(tf.data.AUTOTUNE)\n",
        "train_dataset,test_dataset"
      ],
      "metadata": {
        "colab": {
          "base_uri": "https://localhost:8080/"
        },
        "id": "odBzeWr8smf5",
        "outputId": "4f7cca76-2707-43f1-f82b-267bc5db4b8a"
      },
      "execution_count": 133,
      "outputs": [
        {
          "output_type": "execute_result",
          "data": {
            "text/plain": [
              "(<PrefetchDataset element_spec=(TensorSpec(shape=(None, 7), dtype=tf.float64, name=None), TensorSpec(shape=(None,), dtype=tf.float64, name=None))>,\n",
              " <PrefetchDataset element_spec=(TensorSpec(shape=(None, 7), dtype=tf.float64, name=None), TensorSpec(shape=(None,), dtype=tf.float64, name=None))>)"
            ]
          },
          "metadata": {},
          "execution_count": 133
        }
      ]
    },
    {
      "cell_type": "markdown",
      "source": [
        "### Setting up hyperprameters for N-BEATS algorithm\n",
        "The N-BEATS algorithm has a fair few number of parameters, many of them can be found in tabel 18: https://arxiv.org/pdf.1905.10437.pdf"
      ],
      "metadata": {
        "id": "-v16t8duvX-R"
      }
    },
    {
      "cell_type": "code",
      "source": [
        "# Values from N-BEATS Paper\n",
        "N_EPOCHS = 5000\n",
        "N_NEURONS = 512\n",
        "N_LAYERS = 4\n",
        "N_STACKS = 30\n",
        "INPUT_SIZE = WINDOW_SIZE*HORIZON\n",
        "THETA_SIZE = INPUT_SIZE + HORIZON\n",
        "INPUT_SIZE,THETA_SIZE"
      ],
      "metadata": {
        "colab": {
          "base_uri": "https://localhost:8080/"
        },
        "id": "5j7KfSexvyjz",
        "outputId": "6e91a5e7-bc75-4719-fb1f-57d705ef30d4"
      },
      "execution_count": 134,
      "outputs": [
        {
          "output_type": "execute_result",
          "data": {
            "text/plain": [
              "(7, 8)"
            ]
          },
          "metadata": {},
          "execution_count": 134
        }
      ]
    },
    {
      "cell_type": "code",
      "source": [
        "### Getting ready for residual stacking"
      ],
      "metadata": {
        "id": "G5PWfYWZyCYd"
      },
      "execution_count": null,
      "outputs": []
    }
  ]
}