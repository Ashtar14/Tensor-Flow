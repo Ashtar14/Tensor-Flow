{
  "nbformat": 4,
  "nbformat_minor": 0,
  "metadata": {
    "colab": {
      "provenance": []
    },
    "kernelspec": {
      "name": "python3",
      "display_name": "Python 3"
    },
    "language_info": {
      "name": "python"
    }
  },
  "cells": [
    {
      "cell_type": "markdown",
      "source": [
        "# Introduction to Regression with neural netrowks in Tensor FLow\n",
        "\n",
        "There are many definitions for a regression problem but in our case we are going to keep it simple : Predicting a numerical variable based on other variables even shorter prediting a number.\n"
      ],
      "metadata": {
        "id": "g7YuvLNjS9f1"
      }
    },
    {
      "cell_type": "code",
      "source": [
        "# Import TensorFlow\n",
        "import tensorflow as tf\n",
        "print(tf.__version__)"
      ],
      "metadata": {
        "colab": {
          "base_uri": "https://localhost:8080/"
        },
        "id": "AU2GpAEQT5DU",
        "outputId": "a19bb4e6-8e52-4629-b98e-84efd9f2102d"
      },
      "execution_count": 48,
      "outputs": [
        {
          "output_type": "stream",
          "name": "stdout",
          "text": [
            "2.9.2\n"
          ]
        }
      ]
    },
    {
      "cell_type": "code",
      "source": [
        "## Creating some data to view and fit\n",
        "import numpy as np \n",
        "import matplotlib.pyplot as plt\n",
        "# Creating features\n",
        "x = np.array([-7.0,-4.0,-1.0,2.0,5.0,8.0,11.0,14.0])\n",
        "\n",
        "# Create Labels\n",
        "y = np.array([3.0,6.0,9.0,12.0,15.0,18.0,21.0,24.0])\n",
        "\n",
        "# Visualise it\n",
        "plt.scatter(x,y);"
      ],
      "metadata": {
        "colab": {
          "base_uri": "https://localhost:8080/",
          "height": 269
        },
        "id": "qvzgqKEIUDuY",
        "outputId": "b858c48b-64c6-44b3-bdd5-0b4a40dfc347"
      },
      "execution_count": 49,
      "outputs": [
        {
          "output_type": "display_data",
          "data": {
            "text/plain": [
              "<Figure size 432x288 with 1 Axes>"
            ],
            "image/png": "[encoded data removed]"
          },
          "metadata": {
            "needs_background": "light"
          }
        }
      ]
    },
    {
      "cell_type": "code",
      "source": [
        "y==x+10"
      ],
      "metadata": {
        "colab": {
          "base_uri": "https://localhost:8080/"
        },
        "id": "B9eeMv74U7ye",
        "outputId": "24f54047-3da8-4cda-8e8b-4b600602f8a5"
      },
      "execution_count": 50,
      "outputs": [
        {
          "output_type": "execute_result",
          "data": {
            "text/plain": [
              "array([ True,  True,  True,  True,  True,  True,  True,  True])"
            ]
          },
          "metadata": {},
          "execution_count": 50
        }
      ]
    },
    {
      "cell_type": "code",
      "source": [
        "# This is the relation between our inputs and outputs\n"
      ],
      "metadata": {
        "id": "08JYAFtYVKhd"
      },
      "execution_count": 51,
      "outputs": []
    },
    {
      "cell_type": "markdown",
      "source": [
        "### Lets Check out our input and output shape"
      ],
      "metadata": {
        "id": "uX_tlheMVc91"
      }
    },
    {
      "cell_type": "code",
      "source": [
        "# Create a demo tensor for our housing price prediction problem\n",
        "house_info = tf.constant([\"bedroom\",\"bathroom\",\"garage\"])\n",
        "house_price = tf.constant([939700])\n",
        "house_info,house_price"
      ],
      "metadata": {
        "colab": {
          "base_uri": "https://localhost:8080/"
        },
        "id": "q0Zp-4FfVesk",
        "outputId": "e7ed5ba3-3b7c-4ca3-eb27-2679c20837c7"
      },
      "execution_count": 52,
      "outputs": [
        {
          "output_type": "execute_result",
          "data": {
            "text/plain": [
              "(<tf.Tensor: shape=(3,), dtype=string, numpy=array([b'bedroom', b'bathroom', b'garage'], dtype=object)>,\n",
              " <tf.Tensor: shape=(1,), dtype=int32, numpy=array([939700], dtype=int32)>)"
            ]
          },
          "metadata": {},
          "execution_count": 52
        }
      ]
    },
    {
      "cell_type": "code",
      "source": [
        "input_shape = x.shape\n",
        "output_shape  = y.shape\n",
        "input_shape,output_shape"
      ],
      "metadata": {
        "colab": {
          "base_uri": "https://localhost:8080/"
        },
        "id": "gmeRWUn0WDwL",
        "outputId": "fcf8d044-2bba-4364-a156-5394759c9906"
      },
      "execution_count": 53,
      "outputs": [
        {
          "output_type": "execute_result",
          "data": {
            "text/plain": [
              "((8,), (8,))"
            ]
          },
          "metadata": {},
          "execution_count": 53
        }
      ]
    },
    {
      "cell_type": "code",
      "source": [
        "# Turn our numpy arrays into tensors\n",
        "x = tf.constant(x)\n",
        "y = tf.constant(y)\n",
        "x,y"
      ],
      "metadata": {
        "colab": {
          "base_uri": "https://localhost:8080/"
        },
        "id": "GcqHXd6_WYoC",
        "outputId": "72e19e01-bfee-4d15-e5d3-66c1a05f94ea"
      },
      "execution_count": 54,
      "outputs": [
        {
          "output_type": "execute_result",
          "data": {
            "text/plain": [
              "(<tf.Tensor: shape=(8,), dtype=float64, numpy=array([-7., -4., -1.,  2.,  5.,  8., 11., 14.])>,\n",
              " <tf.Tensor: shape=(8,), dtype=float64, numpy=array([ 3.,  6.,  9., 12., 15., 18., 21., 24.])>)"
            ]
          },
          "metadata": {},
          "execution_count": 54
        }
      ]
    },
    {
      "cell_type": "code",
      "source": [
        "input_shape = x[0].shape\n",
        "output_shape = y[0].shape\n",
        "input_shape,output_shape"
      ],
      "metadata": {
        "colab": {
          "base_uri": "https://localhost:8080/"
        },
        "id": "jgX9n-9mXl9Q",
        "outputId": "35a75786-8781-4f34-e3b3-6ae0bd96be4f"
      },
      "execution_count": 55,
      "outputs": [
        {
          "output_type": "execute_result",
          "data": {
            "text/plain": [
              "(TensorShape([]), TensorShape([]))"
            ]
          },
          "metadata": {},
          "execution_count": 55
        }
      ]
    },
    {
      "cell_type": "markdown",
      "source": [
        "## Step in modeling with tensor flow\n",
        "1. **Creating a model** - define the input and output layers, as well as the hidden layers of a deep learning model.\n",
        "2. **Compiling a model** - define the loss function - the function that tells our function how wrong it is and optimizer that tells our function how to improve itself and evaluation metrics that tells how well is the performance of our model\n",
        "3. **Fitting a model** - letting the model try to find patterns betwqeen x and y"
      ],
      "metadata": {
        "id": "vtv6FTedXuJX"
      }
    },
    {
      "cell_type": "code",
      "source": [
        "# Set Randdom Seed\n",
        "tf.random.set_seed(42)\n",
        "\n",
        "# 1. Create a model using the Sequential API\n",
        "model = tf.keras.Sequential([\n",
        "    tf.keras.layers.Dense(1)\n",
        "])\n",
        "\n",
        "# Compile Model\n",
        "model.compile(loss=tf.keras.losses.mae,# mean absolute error\n",
        "              optimizer = tf.keras.optimizers.SGD(),\n",
        "              metrics = [\"mae\"])\n",
        "# Fit the model\n",
        "model.fit(tf.expand_dims(x,axis=-1),y,epochs=5)"
      ],
      "metadata": {
        "colab": {
          "base_uri": "https://localhost:8080/"
        },
        "id": "PL5UB_s7Y7lM",
        "outputId": "b516f828-2902-447e-8613-d18df5f4c5f4"
      },
      "execution_count": 56,
      "outputs": [
        {
          "output_type": "stream",
          "name": "stdout",
          "text": [
            "Epoch 1/5\n",
            "1/1 [==============================] - 0s 288ms/step - loss: 11.5048 - mae: 11.5048\n",
            "Epoch 2/5\n",
            "1/1 [==============================] - 0s 8ms/step - loss: 11.3723 - mae: 11.3723\n",
            "Epoch 3/5\n",
            "1/1 [==============================] - 0s 13ms/step - loss: 11.2398 - mae: 11.2398\n",
            "Epoch 4/5\n",
            "1/1 [==============================] - 0s 6ms/step - loss: 11.1073 - mae: 11.1073\n",
            "Epoch 5/5\n",
            "1/1 [==============================] - 0s 8ms/step - loss: 10.9748 - mae: 10.9748\n"
          ]
        },
        {
          "output_type": "execute_result",
          "data": {
            "text/plain": [
              "<keras.callbacks.History at 0x7fabf51cad10>"
            ]
          },
          "metadata": {},
          "execution_count": 56
        }
      ]
    },
    {
      "cell_type": "code",
      "source": [
        "# Check out x and y\n",
        "x,y"
      ],
      "metadata": {
        "colab": {
          "base_uri": "https://localhost:8080/"
        },
        "id": "vKH-Bj2wdGYx",
        "outputId": "79d487a0-6f62-486b-d36c-de845853c110"
      },
      "execution_count": 57,
      "outputs": [
        {
          "output_type": "execute_result",
          "data": {
            "text/plain": [
              "(<tf.Tensor: shape=(8,), dtype=float64, numpy=array([-7., -4., -1.,  2.,  5.,  8., 11., 14.])>,\n",
              " <tf.Tensor: shape=(8,), dtype=float64, numpy=array([ 3.,  6.,  9., 12., 15., 18., 21., 24.])>)"
            ]
          },
          "metadata": {},
          "execution_count": 57
        }
      ]
    },
    {
      "cell_type": "code",
      "source": [
        "# Try and make prediction using our model\n",
        "y_pred = model.predict([17.0])\n",
        "y_pred +11"
      ],
      "metadata": {
        "colab": {
          "base_uri": "https://localhost:8080/"
        },
        "id": "qDTbPz0eeKSh",
        "outputId": "67707322-4edf-4d30-d8c3-e4c2b4d7234e"
      },
      "execution_count": 58,
      "outputs": [
        {
          "output_type": "stream",
          "name": "stderr",
          "text": [
            "WARNING:tensorflow:5 out of the last 5 calls to <function Model.make_predict_function.<locals>.predict_function at 0x7fabf77808c0> triggered tf.function retracing. Tracing is expensive and the excessive number of tracings could be due to (1) creating @tf.function repeatedly in a loop, (2) passing tensors with different shapes, (3) passing Python objects instead of tensors. For (1), please define your @tf.function outside of the loop. For (2), @tf.function has reduce_retracing=True option that can avoid unnecessary retracing. For (3), please refer to https://www.tensorflow.org/guide/function#controlling_retracing and https://www.tensorflow.org/api_docs/python/tf/function for  more details.\n"
          ]
        },
        {
          "output_type": "stream",
          "name": "stdout",
          "text": [
            "1/1 [==============================] - 0s 52ms/step\n"
          ]
        },
        {
          "output_type": "execute_result",
          "data": {
            "text/plain": [
              "array([[23.71602]], dtype=float32)"
            ]
          },
          "metadata": {},
          "execution_count": 58
        }
      ]
    },
    {
      "cell_type": "markdown",
      "source": [
        "## Improving Our Model\n",
        "\n",
        "We can improve our model by altering steps to crete the model\n",
        "\n",
        "1. **Creating the model** - we might add more layers, increase the number of hidden units (all called neurons) wihtin each of the hidden layers, change the activation function of each layer.\n",
        "\n",
        "2. **Compiling a model** - here we might change the optimization function or perhaps the ** Learning rate** oof the optimization function.\n",
        "\n",
        "3. **Fitting a model** - here we might fit a model for more **epochs** (leave it training for longer) or on more data (given more eaxamples to learn on)"
      ],
      "metadata": {
        "id": "DnZ0tG1XeTLb"
      }
    },
    {
      "cell_type": "code",
      "source": [
        "# Lets re build our model \n",
        "\n",
        "#1. to Create the model\n",
        "\n",
        "model = tf.keras.Sequential([\n",
        "    tf.keras.layers.Dense(1)\n",
        "])\n",
        "\n",
        "# 2 Compile the mdoel\n",
        "model.compile(\n",
        "    loss=tf.keras.losses.mae,\n",
        "    optimizer=tf.keras.optimizers.SGD(),\n",
        "    metrics=[\"mae\"]\n",
        ")\n",
        "# 3. Fit the model (this time we will train for longer)\n",
        "model.fit(tf.expand_dims(x,axis=1),y,epochs=100)"
      ],
      "metadata": {
        "colab": {
          "base_uri": "https://localhost:8080/"
        },
        "id": "kYm2suUrjLip",
        "outputId": "97770716-e601-4212-cfca-01687b4bb37c"
      },
      "execution_count": 59,
      "outputs": [
        {
          "output_type": "stream",
          "name": "stdout",
          "text": [
            "Epoch 1/100\n",
            "1/1 [==============================] - 0s 283ms/step - loss: 11.2219 - mae: 11.2219\n",
            "Epoch 2/100\n",
            "1/1 [==============================] - 0s 11ms/step - loss: 11.0894 - mae: 11.0894\n",
            "Epoch 3/100\n",
            "1/1 [==============================] - 0s 8ms/step - loss: 10.9569 - mae: 10.9569\n",
            "Epoch 4/100\n",
            "1/1 [==============================] - 0s 11ms/step - loss: 10.8244 - mae: 10.8244\n",
            "Epoch 5/100\n",
            "1/1 [==============================] - 0s 9ms/step - loss: 10.6919 - mae: 10.6919\n",
            "Epoch 6/100\n",
            "1/1 [==============================] - 0s 10ms/step - loss: 10.5594 - mae: 10.5594\n",
            "Epoch 7/100\n",
            "1/1 [==============================] - 0s 8ms/step - loss: 10.4269 - mae: 10.4269\n",
            "Epoch 8/100\n",
            "1/1 [==============================] - 0s 7ms/step - loss: 10.2944 - mae: 10.2944\n",
            "Epoch 9/100\n",
            "1/1 [==============================] - 0s 9ms/step - loss: 10.1619 - mae: 10.1619\n",
            "Epoch 10/100\n",
            "1/1 [==============================] - 0s 11ms/step - loss: 10.0294 - mae: 10.0294\n",
            "Epoch 11/100\n",
            "1/1 [==============================] - 0s 13ms/step - loss: 9.8969 - mae: 9.8969\n",
            "Epoch 12/100\n",
            "1/1 [==============================] - 0s 8ms/step - loss: 9.7644 - mae: 9.7644\n",
            "Epoch 13/100\n",
            "1/1 [==============================] - 0s 10ms/step - loss: 9.6319 - mae: 9.6319\n",
            "Epoch 14/100\n",
            "1/1 [==============================] - 0s 8ms/step - loss: 9.4994 - mae: 9.4994\n",
            "Epoch 15/100\n",
            "1/1 [==============================] - 0s 10ms/step - loss: 9.3669 - mae: 9.3669\n",
            "Epoch 16/100\n",
            "1/1 [==============================] - 0s 15ms/step - loss: 9.2344 - mae: 9.2344\n",
            "Epoch 17/100\n",
            "1/1 [==============================] - 0s 6ms/step - loss: 9.1019 - mae: 9.1019\n",
            "Epoch 18/100\n",
            "1/1 [==============================] - 0s 6ms/step - loss: 8.9694 - mae: 8.9694\n",
            "Epoch 19/100\n",
            "1/1 [==============================] - 0s 5ms/step - loss: 8.8369 - mae: 8.8369\n",
            "Epoch 20/100\n",
            "1/1 [==============================] - 0s 5ms/step - loss: 8.7044 - mae: 8.7044\n",
            "Epoch 21/100\n",
            "1/1 [==============================] - 0s 9ms/step - loss: 8.5719 - mae: 8.5719\n",
            "Epoch 22/100\n",
            "1/1 [==============================] - 0s 5ms/step - loss: 8.4394 - mae: 8.4394\n",
            "Epoch 23/100\n",
            "1/1 [==============================] - 0s 6ms/step - loss: 8.3069 - mae: 8.3069\n",
            "Epoch 24/100\n",
            "1/1 [==============================] - 0s 6ms/step - loss: 8.1744 - mae: 8.1744\n",
            "Epoch 25/100\n",
            "1/1 [==============================] - 0s 5ms/step - loss: 8.0419 - mae: 8.0419\n",
            "Epoch 26/100\n",
            "1/1 [==============================] - 0s 5ms/step - loss: 7.9094 - mae: 7.9094\n",
            "Epoch 27/100\n",
            "1/1 [==============================] - 0s 6ms/step - loss: 7.7769 - mae: 7.7769\n",
            "Epoch 28/100\n",
            "1/1 [==============================] - 0s 7ms/step - loss: 7.6444 - mae: 7.6444\n",
            "Epoch 29/100\n",
            "1/1 [==============================] - 0s 8ms/step - loss: 7.5119 - mae: 7.5119\n",
            "Epoch 30/100\n",
            "1/1 [==============================] - 0s 6ms/step - loss: 7.3794 - mae: 7.3794\n",
            "Epoch 31/100\n",
            "1/1 [==============================] - 0s 6ms/step - loss: 7.2750 - mae: 7.2750\n",
            "Epoch 32/100\n",
            "1/1 [==============================] - 0s 5ms/step - loss: 7.2694 - mae: 7.2694\n",
            "Epoch 33/100\n",
            "1/1 [==============================] - 0s 6ms/step - loss: 7.2638 - mae: 7.2638\n",
            "Epoch 34/100\n",
            "1/1 [==============================] - 0s 6ms/step - loss: 7.2581 - mae: 7.2581\n",
            "Epoch 35/100\n",
            "1/1 [==============================] - 0s 6ms/step - loss: 7.2525 - mae: 7.2525\n",
            "Epoch 36/100\n",
            "1/1 [==============================] - 0s 7ms/step - loss: 7.2469 - mae: 7.2469\n",
            "Epoch 37/100\n",
            "1/1 [==============================] - 0s 7ms/step - loss: 7.2412 - mae: 7.2412\n",
            "Epoch 38/100\n",
            "1/1 [==============================] - 0s 8ms/step - loss: 7.2356 - mae: 7.2356\n",
            "Epoch 39/100\n",
            "1/1 [==============================] - 0s 6ms/step - loss: 7.2300 - mae: 7.2300\n",
            "Epoch 40/100\n",
            "1/1 [==============================] - 0s 6ms/step - loss: 7.2244 - mae: 7.2244\n",
            "Epoch 41/100\n",
            "1/1 [==============================] - 0s 6ms/step - loss: 7.2188 - mae: 7.2188\n",
            "Epoch 42/100\n",
            "1/1 [==============================] - 0s 6ms/step - loss: 7.2131 - mae: 7.2131\n",
            "Epoch 43/100\n",
            "1/1 [==============================] - 0s 6ms/step - loss: 7.2075 - mae: 7.2075\n",
            "Epoch 44/100\n",
            "1/1 [==============================] - 0s 5ms/step - loss: 7.2019 - mae: 7.2019\n",
            "Epoch 45/100\n",
            "1/1 [==============================] - 0s 5ms/step - loss: 7.1962 - mae: 7.1962\n",
            "Epoch 46/100\n",
            "1/1 [==============================] - 0s 6ms/step - loss: 7.1906 - mae: 7.1906\n",
            "Epoch 47/100\n",
            "1/1 [==============================] - 0s 5ms/step - loss: 7.1850 - mae: 7.1850\n",
            "Epoch 48/100\n",
            "1/1 [==============================] - 0s 6ms/step - loss: 7.1794 - mae: 7.1794\n",
            "Epoch 49/100\n",
            "1/1 [==============================] - 0s 6ms/step - loss: 7.1737 - mae: 7.1737\n",
            "Epoch 50/100\n",
            "1/1 [==============================] - 0s 6ms/step - loss: 7.1681 - mae: 7.1681\n",
            "Epoch 51/100\n",
            "1/1 [==============================] - 0s 6ms/step - loss: 7.1625 - mae: 7.1625\n",
            "Epoch 52/100\n",
            "1/1 [==============================] - 0s 6ms/step - loss: 7.1569 - mae: 7.1569\n",
            "Epoch 53/100\n",
            "1/1 [==============================] - 0s 6ms/step - loss: 7.1512 - mae: 7.1512\n",
            "Epoch 54/100\n",
            "1/1 [==============================] - 0s 6ms/step - loss: 7.1456 - mae: 7.1456\n",
            "Epoch 55/100\n",
            "1/1 [==============================] - 0s 6ms/step - loss: 7.1400 - mae: 7.1400\n",
            "Epoch 56/100\n",
            "1/1 [==============================] - 0s 6ms/step - loss: 7.1344 - mae: 7.1344\n",
            "Epoch 57/100\n",
            "1/1 [==============================] - 0s 6ms/step - loss: 7.1287 - mae: 7.1287\n",
            "Epoch 58/100\n",
            "1/1 [==============================] - 0s 5ms/step - loss: 7.1231 - mae: 7.1231\n",
            "Epoch 59/100\n",
            "1/1 [==============================] - 0s 6ms/step - loss: 7.1175 - mae: 7.1175\n",
            "Epoch 60/100\n",
            "1/1 [==============================] - 0s 6ms/step - loss: 7.1119 - mae: 7.1119\n",
            "Epoch 61/100\n",
            "1/1 [==============================] - 0s 5ms/step - loss: 7.1062 - mae: 7.1062\n",
            "Epoch 62/100\n",
            "1/1 [==============================] - 0s 6ms/step - loss: 7.1006 - mae: 7.1006\n",
            "Epoch 63/100\n",
            "1/1 [==============================] - 0s 6ms/step - loss: 7.0950 - mae: 7.0950\n",
            "Epoch 64/100\n",
            "1/1 [==============================] - 0s 6ms/step - loss: 7.0894 - mae: 7.0894\n",
            "Epoch 65/100\n",
            "1/1 [==============================] - 0s 6ms/step - loss: 7.0838 - mae: 7.0838\n",
            "Epoch 66/100\n",
            "1/1 [==============================] - 0s 5ms/step - loss: 7.0781 - mae: 7.0781\n",
            "Epoch 67/100\n",
            "1/1 [==============================] - 0s 6ms/step - loss: 7.0725 - mae: 7.0725\n",
            "Epoch 68/100\n",
            "1/1 [==============================] - 0s 6ms/step - loss: 7.0669 - mae: 7.0669\n",
            "Epoch 69/100\n",
            "1/1 [==============================] - 0s 6ms/step - loss: 7.0613 - mae: 7.0613\n",
            "Epoch 70/100\n",
            "1/1 [==============================] - 0s 6ms/step - loss: 7.0556 - mae: 7.0556\n",
            "Epoch 71/100\n",
            "1/1 [==============================] - 0s 6ms/step - loss: 7.0500 - mae: 7.0500\n",
            "Epoch 72/100\n",
            "1/1 [==============================] - 0s 6ms/step - loss: 7.0444 - mae: 7.0444\n",
            "Epoch 73/100\n",
            "1/1 [==============================] - 0s 6ms/step - loss: 7.0388 - mae: 7.0388\n",
            "Epoch 74/100\n",
            "1/1 [==============================] - 0s 6ms/step - loss: 7.0331 - mae: 7.0331\n",
            "Epoch 75/100\n",
            "1/1 [==============================] - 0s 6ms/step - loss: 7.0275 - mae: 7.0275\n",
            "Epoch 76/100\n",
            "1/1 [==============================] - 0s 10ms/step - loss: 7.0219 - mae: 7.0219\n",
            "Epoch 77/100\n",
            "1/1 [==============================] - 0s 11ms/step - loss: 7.0163 - mae: 7.0163\n",
            "Epoch 78/100\n",
            "1/1 [==============================] - 0s 12ms/step - loss: 7.0106 - mae: 7.0106\n",
            "Epoch 79/100\n",
            "1/1 [==============================] - 0s 10ms/step - loss: 7.0050 - mae: 7.0050\n",
            "Epoch 80/100\n",
            "1/1 [==============================] - 0s 9ms/step - loss: 6.9994 - mae: 6.9994\n",
            "Epoch 81/100\n",
            "1/1 [==============================] - 0s 6ms/step - loss: 6.9938 - mae: 6.9938\n",
            "Epoch 82/100\n",
            "1/1 [==============================] - 0s 28ms/step - loss: 6.9881 - mae: 6.9881\n",
            "Epoch 83/100\n",
            "1/1 [==============================] - 0s 14ms/step - loss: 6.9825 - mae: 6.9825\n",
            "Epoch 84/100\n",
            "1/1 [==============================] - 0s 7ms/step - loss: 6.9769 - mae: 6.9769\n",
            "Epoch 85/100\n",
            "1/1 [==============================] - 0s 9ms/step - loss: 6.9713 - mae: 6.9713\n",
            "Epoch 86/100\n",
            "1/1 [==============================] - 0s 8ms/step - loss: 6.9656 - mae: 6.9656\n",
            "Epoch 87/100\n",
            "1/1 [==============================] - 0s 11ms/step - loss: 6.9600 - mae: 6.9600\n",
            "Epoch 88/100\n",
            "1/1 [==============================] - 0s 11ms/step - loss: 6.9544 - mae: 6.9544\n",
            "Epoch 89/100\n",
            "1/1 [==============================] - 0s 6ms/step - loss: 6.9488 - mae: 6.9488\n",
            "Epoch 90/100\n",
            "1/1 [==============================] - 0s 6ms/step - loss: 6.9431 - mae: 6.9431\n",
            "Epoch 91/100\n",
            "1/1 [==============================] - 0s 8ms/step - loss: 6.9375 - mae: 6.9375\n",
            "Epoch 92/100\n",
            "1/1 [==============================] - 0s 14ms/step - loss: 6.9319 - mae: 6.9319\n",
            "Epoch 93/100\n",
            "1/1 [==============================] - 0s 6ms/step - loss: 6.9263 - mae: 6.9263\n",
            "Epoch 94/100\n",
            "1/1 [==============================] - 0s 8ms/step - loss: 6.9206 - mae: 6.9206\n",
            "Epoch 95/100\n",
            "1/1 [==============================] - 0s 6ms/step - loss: 6.9150 - mae: 6.9150\n",
            "Epoch 96/100\n",
            "1/1 [==============================] - 0s 13ms/step - loss: 6.9094 - mae: 6.9094\n",
            "Epoch 97/100\n",
            "1/1 [==============================] - 0s 8ms/step - loss: 6.9038 - mae: 6.9038\n",
            "Epoch 98/100\n",
            "1/1 [==============================] - 0s 9ms/step - loss: 6.8981 - mae: 6.8981\n",
            "Epoch 99/100\n",
            "1/1 [==============================] - 0s 9ms/step - loss: 6.8925 - mae: 6.8925\n",
            "Epoch 100/100\n",
            "1/1 [==============================] - 0s 14ms/step - loss: 6.8869 - mae: 6.8869\n"
          ]
        },
        {
          "output_type": "execute_result",
          "data": {
            "text/plain": [
              "<keras.callbacks.History at 0x7fabf8692fd0>"
            ]
          },
          "metadata": {},
          "execution_count": 59
        }
      ]
    },
    {
      "cell_type": "code",
      "source": [
        "# Remind our selfs of data \n",
        "x,y"
      ],
      "metadata": {
        "colab": {
          "base_uri": "https://localhost:8080/"
        },
        "id": "_LHkJkUMzQiF",
        "outputId": "89b793bf-fff8-4f10-e888-b980a18ae601"
      },
      "execution_count": 60,
      "outputs": [
        {
          "output_type": "execute_result",
          "data": {
            "text/plain": [
              "(<tf.Tensor: shape=(8,), dtype=float64, numpy=array([-7., -4., -1.,  2.,  5.,  8., 11., 14.])>,\n",
              " <tf.Tensor: shape=(8,), dtype=float64, numpy=array([ 3.,  6.,  9., 12., 15., 18., 21., 24.])>)"
            ]
          },
          "metadata": {},
          "execution_count": 60
        }
      ]
    },
    {
      "cell_type": "code",
      "source": [
        "# Lets see if our models presdiction has improved\n",
        "model.predict([17.0])"
      ],
      "metadata": {
        "colab": {
          "base_uri": "https://localhost:8080/"
        },
        "id": "LvVRUkeF0_pJ",
        "outputId": "bfd230a0-dbaf-426d-982e-28fff6bd1350"
      },
      "execution_count": 61,
      "outputs": [
        {
          "output_type": "stream",
          "name": "stderr",
          "text": [
            "WARNING:tensorflow:6 out of the last 6 calls to <function Model.make_predict_function.<locals>.predict_function at 0x7fabf53064d0> triggered tf.function retracing. Tracing is expensive and the excessive number of tracings could be due to (1) creating @tf.function repeatedly in a loop, (2) passing tensors with different shapes, (3) passing Python objects instead of tensors. For (1), please define your @tf.function outside of the loop. For (2), @tf.function has reduce_retracing=True option that can avoid unnecessary retracing. For (3), please refer to https://www.tensorflow.org/guide/function#controlling_retracing and https://www.tensorflow.org/api_docs/python/tf/function for  more details.\n"
          ]
        },
        {
          "output_type": "stream",
          "name": "stdout",
          "text": [
            "1/1 [==============================] - 0s 156ms/step\n"
          ]
        },
        {
          "output_type": "execute_result",
          "data": {
            "text/plain": [
              "array([[29.739855]], dtype=float32)"
            ]
          },
          "metadata": {},
          "execution_count": 61
        }
      ]
    },
    {
      "cell_type": "code",
      "source": [
        "# Creating the model again with another change\n",
        "model = tf.keras.Sequential(\n",
        "    tf.keras.layers.Dense(1)\n",
        ")\n",
        "\n",
        "# Compiling our model\n",
        "model.compile(\n",
        "    loss = tf.keras.losses.mae,\n",
        "    optimizer = tf.keras.optimizers.Adam(lr=0.1),\n",
        "    metrics=[\"mae\"]\n",
        ")\n",
        "\n",
        "# Now fit the model\n",
        "model.fit(tf.expand_dims(x,axis=1),y,epochs=100)"
      ],
      "metadata": {
        "colab": {
          "base_uri": "https://localhost:8080/"
        },
        "id": "upH-_gT81I1V",
        "outputId": "f5757f35-4bfb-4f7e-8b0e-0f92956ad97d"
      },
      "execution_count": 62,
      "outputs": [
        {
          "output_type": "stream",
          "name": "stdout",
          "text": [
            "Epoch 1/100\n"
          ]
        },
        {
          "output_type": "stream",
          "name": "stderr",
          "text": [
            "/usr/local/lib/python3.7/dist-packages/keras/optimizers/optimizer_v2/adam.py:110: UserWarning: The `lr` argument is deprecated, use `learning_rate` instead.\n",
            "  super(Adam, self).__init__(name, **kwargs)\n"
          ]
        },
        {
          "output_type": "stream",
          "name": "stdout",
          "text": [
            "1/1 [==============================] - 0s 464ms/step - loss: 10.5736 - mae: 10.5736\n",
            "Epoch 2/100\n",
            "1/1 [==============================] - 0s 9ms/step - loss: 10.1236 - mae: 10.1236\n",
            "Epoch 3/100\n",
            "1/1 [==============================] - 0s 8ms/step - loss: 9.6736 - mae: 9.6736\n",
            "Epoch 4/100\n",
            "1/1 [==============================] - 0s 7ms/step - loss: 9.2236 - mae: 9.2236\n",
            "Epoch 5/100\n",
            "1/1 [==============================] - 0s 7ms/step - loss: 8.7736 - mae: 8.7736\n",
            "Epoch 6/100\n",
            "1/1 [==============================] - 0s 7ms/step - loss: 8.3236 - mae: 8.3236\n",
            "Epoch 7/100\n",
            "1/1 [==============================] - 0s 7ms/step - loss: 7.8736 - mae: 7.8736\n",
            "Epoch 8/100\n",
            "1/1 [==============================] - 0s 9ms/step - loss: 7.4236 - mae: 7.4236\n",
            "Epoch 9/100\n",
            "1/1 [==============================] - 0s 7ms/step - loss: 6.9736 - mae: 6.9736\n",
            "Epoch 10/100\n",
            "1/1 [==============================] - 0s 5ms/step - loss: 6.8250 - mae: 6.8250\n",
            "Epoch 11/100\n",
            "1/1 [==============================] - 0s 6ms/step - loss: 6.7706 - mae: 6.7706\n",
            "Epoch 12/100\n",
            "1/1 [==============================] - 0s 6ms/step - loss: 6.9023 - mae: 6.9023\n",
            "Epoch 13/100\n",
            "1/1 [==============================] - 0s 7ms/step - loss: 6.9798 - mae: 6.9798\n",
            "Epoch 14/100\n",
            "1/1 [==============================] - 0s 7ms/step - loss: 7.0115 - mae: 7.0115\n",
            "Epoch 15/100\n",
            "1/1 [==============================] - 0s 7ms/step - loss: 7.0041 - mae: 7.0041\n",
            "Epoch 16/100\n",
            "1/1 [==============================] - 0s 13ms/step - loss: 6.9629 - mae: 6.9629\n",
            "Epoch 17/100\n",
            "1/1 [==============================] - 0s 7ms/step - loss: 6.8925 - mae: 6.8925\n",
            "Epoch 18/100\n",
            "1/1 [==============================] - 0s 7ms/step - loss: 6.7967 - mae: 6.7967\n",
            "Epoch 19/100\n",
            "1/1 [==============================] - 0s 6ms/step - loss: 6.6786 - mae: 6.6786\n",
            "Epoch 20/100\n",
            "1/1 [==============================] - 0s 6ms/step - loss: 6.5410 - mae: 6.5410\n",
            "Epoch 21/100\n",
            "1/1 [==============================] - 0s 6ms/step - loss: 6.3862 - mae: 6.3862\n",
            "Epoch 22/100\n",
            "1/1 [==============================] - 0s 6ms/step - loss: 6.2161 - mae: 6.2161\n",
            "Epoch 23/100\n",
            "1/1 [==============================] - 0s 6ms/step - loss: 6.0324 - mae: 6.0324\n",
            "Epoch 24/100\n",
            "1/1 [==============================] - 0s 7ms/step - loss: 5.9317 - mae: 5.9317\n",
            "Epoch 25/100\n",
            "1/1 [==============================] - 0s 6ms/step - loss: 5.8711 - mae: 5.8711\n",
            "Epoch 26/100\n",
            "1/1 [==============================] - 0s 6ms/step - loss: 5.8089 - mae: 5.8089\n",
            "Epoch 27/100\n",
            "1/1 [==============================] - 0s 6ms/step - loss: 5.7619 - mae: 5.7619\n",
            "Epoch 28/100\n",
            "1/1 [==============================] - 0s 6ms/step - loss: 5.7609 - mae: 5.7609\n",
            "Epoch 29/100\n",
            "1/1 [==============================] - 0s 6ms/step - loss: 5.7017 - mae: 5.7017\n",
            "Epoch 30/100\n",
            "1/1 [==============================] - 0s 22ms/step - loss: 5.5917 - mae: 5.5917\n",
            "Epoch 31/100\n",
            "1/1 [==============================] - 0s 8ms/step - loss: 5.4656 - mae: 5.4656\n",
            "Epoch 32/100\n",
            "1/1 [==============================] - 0s 7ms/step - loss: 5.3926 - mae: 5.3926\n",
            "Epoch 33/100\n",
            "1/1 [==============================] - 0s 8ms/step - loss: 5.3197 - mae: 5.3197\n",
            "Epoch 34/100\n",
            "1/1 [==============================] - 0s 9ms/step - loss: 5.2467 - mae: 5.2467\n",
            "Epoch 35/100\n",
            "1/1 [==============================] - 0s 8ms/step - loss: 5.1738 - mae: 5.1738\n",
            "Epoch 36/100\n",
            "1/1 [==============================] - 0s 7ms/step - loss: 5.1009 - mae: 5.1009\n",
            "Epoch 37/100\n",
            "1/1 [==============================] - 0s 8ms/step - loss: 5.0279 - mae: 5.0279\n",
            "Epoch 38/100\n",
            "1/1 [==============================] - 0s 9ms/step - loss: 4.9770 - mae: 4.9770\n",
            "Epoch 39/100\n",
            "1/1 [==============================] - 0s 17ms/step - loss: 4.9214 - mae: 4.9214\n",
            "Epoch 40/100\n",
            "1/1 [==============================] - 0s 8ms/step - loss: 4.8387 - mae: 4.8387\n",
            "Epoch 41/100\n",
            "1/1 [==============================] - 0s 9ms/step - loss: 4.7472 - mae: 4.7472\n",
            "Epoch 42/100\n",
            "1/1 [==============================] - 0s 12ms/step - loss: 4.6789 - mae: 4.6789\n",
            "Epoch 43/100\n",
            "1/1 [==============================] - 0s 16ms/step - loss: 4.6100 - mae: 4.6100\n",
            "Epoch 44/100\n",
            "1/1 [==============================] - 0s 8ms/step - loss: 4.5405 - mae: 4.5405\n",
            "Epoch 45/100\n",
            "1/1 [==============================] - 0s 8ms/step - loss: 4.4706 - mae: 4.4706\n",
            "Epoch 46/100\n",
            "1/1 [==============================] - 0s 8ms/step - loss: 4.4002 - mae: 4.4002\n",
            "Epoch 47/100\n",
            "1/1 [==============================] - 0s 7ms/step - loss: 4.3295 - mae: 4.3295\n",
            "Epoch 48/100\n",
            "1/1 [==============================] - 0s 7ms/step - loss: 4.2584 - mae: 4.2584\n",
            "Epoch 49/100\n",
            "1/1 [==============================] - 0s 7ms/step - loss: 4.1869 - mae: 4.1869\n",
            "Epoch 50/100\n",
            "1/1 [==============================] - 0s 11ms/step - loss: 4.1152 - mae: 4.1152\n",
            "Epoch 51/100\n",
            "1/1 [==============================] - 0s 7ms/step - loss: 4.0432 - mae: 4.0432\n",
            "Epoch 52/100\n",
            "1/1 [==============================] - 0s 7ms/step - loss: 3.9710 - mae: 3.9710\n",
            "Epoch 53/100\n",
            "1/1 [==============================] - 0s 8ms/step - loss: 3.8986 - mae: 3.8986\n",
            "Epoch 54/100\n",
            "1/1 [==============================] - 0s 11ms/step - loss: 3.8259 - mae: 3.8259\n",
            "Epoch 55/100\n",
            "1/1 [==============================] - 0s 7ms/step - loss: 3.7531 - mae: 3.7531\n",
            "Epoch 56/100\n",
            "1/1 [==============================] - 0s 7ms/step - loss: 3.6802 - mae: 3.6802\n",
            "Epoch 57/100\n",
            "1/1 [==============================] - 0s 7ms/step - loss: 3.6071 - mae: 3.6071\n",
            "Epoch 58/100\n",
            "1/1 [==============================] - 0s 7ms/step - loss: 3.5339 - mae: 3.5339\n",
            "Epoch 59/100\n",
            "1/1 [==============================] - 0s 7ms/step - loss: 3.4605 - mae: 3.4605\n",
            "Epoch 60/100\n",
            "1/1 [==============================] - 0s 7ms/step - loss: 3.3871 - mae: 3.3871\n",
            "Epoch 61/100\n",
            "1/1 [==============================] - 0s 8ms/step - loss: 3.3135 - mae: 3.3135\n",
            "Epoch 62/100\n",
            "1/1 [==============================] - 0s 7ms/step - loss: 3.2399 - mae: 3.2399\n",
            "Epoch 63/100\n",
            "1/1 [==============================] - 0s 5ms/step - loss: 3.1662 - mae: 3.1662\n",
            "Epoch 64/100\n",
            "1/1 [==============================] - 0s 6ms/step - loss: 3.0924 - mae: 3.0924\n",
            "Epoch 65/100\n",
            "1/1 [==============================] - 0s 6ms/step - loss: 3.0220 - mae: 3.0220\n",
            "Epoch 66/100\n",
            "1/1 [==============================] - 0s 6ms/step - loss: 2.9468 - mae: 2.9468\n",
            "Epoch 67/100\n",
            "1/1 [==============================] - 0s 10ms/step - loss: 2.8747 - mae: 2.8747\n",
            "Epoch 68/100\n",
            "1/1 [==============================] - 0s 16ms/step - loss: 2.8024 - mae: 2.8024\n",
            "Epoch 69/100\n",
            "1/1 [==============================] - 0s 7ms/step - loss: 2.7299 - mae: 2.7299\n",
            "Epoch 70/100\n",
            "1/1 [==============================] - 0s 7ms/step - loss: 2.6571 - mae: 2.6571\n",
            "Epoch 71/100\n",
            "1/1 [==============================] - 0s 7ms/step - loss: 2.5841 - mae: 2.5841\n",
            "Epoch 72/100\n",
            "1/1 [==============================] - 0s 7ms/step - loss: 2.5110 - mae: 2.5110\n",
            "Epoch 73/100\n",
            "1/1 [==============================] - 0s 10ms/step - loss: 2.4377 - mae: 2.4377\n",
            "Epoch 74/100\n",
            "1/1 [==============================] - 0s 7ms/step - loss: 2.3642 - mae: 2.3642\n",
            "Epoch 75/100\n",
            "1/1 [==============================] - 0s 7ms/step - loss: 2.2906 - mae: 2.2906\n",
            "Epoch 76/100\n",
            "1/1 [==============================] - 0s 7ms/step - loss: 2.2169 - mae: 2.2169\n",
            "Epoch 77/100\n",
            "1/1 [==============================] - 0s 7ms/step - loss: 2.1431 - mae: 2.1431\n",
            "Epoch 78/100\n",
            "1/1 [==============================] - 0s 8ms/step - loss: 2.0692 - mae: 2.0692\n",
            "Epoch 79/100\n",
            "1/1 [==============================] - 0s 7ms/step - loss: 2.0054 - mae: 2.0054\n",
            "Epoch 80/100\n",
            "1/1 [==============================] - 0s 9ms/step - loss: 1.9234 - mae: 1.9234\n",
            "Epoch 81/100\n",
            "1/1 [==============================] - 0s 7ms/step - loss: 1.8512 - mae: 1.8512\n",
            "Epoch 82/100\n",
            "1/1 [==============================] - 0s 8ms/step - loss: 1.7788 - mae: 1.7788\n",
            "Epoch 83/100\n",
            "1/1 [==============================] - 0s 7ms/step - loss: 1.7061 - mae: 1.7061\n",
            "Epoch 84/100\n",
            "1/1 [==============================] - 0s 8ms/step - loss: 1.6331 - mae: 1.6331\n",
            "Epoch 85/100\n",
            "1/1 [==============================] - 0s 9ms/step - loss: 1.5600 - mae: 1.5600\n",
            "Epoch 86/100\n",
            "1/1 [==============================] - 0s 7ms/step - loss: 1.4867 - mae: 1.4867\n",
            "Epoch 87/100\n",
            "1/1 [==============================] - 0s 10ms/step - loss: 1.4132 - mae: 1.4132\n",
            "Epoch 88/100\n",
            "1/1 [==============================] - 0s 8ms/step - loss: 1.3395 - mae: 1.3395\n",
            "Epoch 89/100\n",
            "1/1 [==============================] - 0s 6ms/step - loss: 1.2657 - mae: 1.2657\n",
            "Epoch 90/100\n",
            "1/1 [==============================] - 0s 7ms/step - loss: 1.1918 - mae: 1.1918\n",
            "Epoch 91/100\n",
            "1/1 [==============================] - 0s 7ms/step - loss: 1.1178 - mae: 1.1178\n",
            "Epoch 92/100\n",
            "1/1 [==============================] - 0s 7ms/step - loss: 1.0437 - mae: 1.0437\n",
            "Epoch 93/100\n",
            "1/1 [==============================] - 0s 8ms/step - loss: 0.9695 - mae: 0.9695\n",
            "Epoch 94/100\n",
            "1/1 [==============================] - 0s 14ms/step - loss: 0.8952 - mae: 0.8952\n",
            "Epoch 95/100\n",
            "1/1 [==============================] - 0s 16ms/step - loss: 0.8208 - mae: 0.8208\n",
            "Epoch 96/100\n",
            "1/1 [==============================] - 0s 6ms/step - loss: 0.7464 - mae: 0.7464\n",
            "Epoch 97/100\n",
            "1/1 [==============================] - 0s 6ms/step - loss: 0.6828 - mae: 0.6828\n",
            "Epoch 98/100\n",
            "1/1 [==============================] - 0s 7ms/step - loss: 0.5997 - mae: 0.5997\n",
            "Epoch 99/100\n",
            "1/1 [==============================] - 0s 6ms/step - loss: 0.5291 - mae: 0.5291\n",
            "Epoch 100/100\n",
            "1/1 [==============================] - 0s 13ms/step - loss: 0.4521 - mae: 0.4521\n"
          ]
        },
        {
          "output_type": "execute_result",
          "data": {
            "text/plain": [
              "<keras.callbacks.History at 0x7fabf85b79d0>"
            ]
          },
          "metadata": {},
          "execution_count": 62
        }
      ]
    },
    {
      "cell_type": "code",
      "source": [
        "# Remindr of what x and y was\n",
        "x,y"
      ],
      "metadata": {
        "colab": {
          "base_uri": "https://localhost:8080/"
        },
        "id": "s971TM0N2dkC",
        "outputId": "da0ff7a7-e732-4442-f1a2-00d14d651eac"
      },
      "execution_count": 63,
      "outputs": [
        {
          "output_type": "execute_result",
          "data": {
            "text/plain": [
              "(<tf.Tensor: shape=(8,), dtype=float64, numpy=array([-7., -4., -1.,  2.,  5.,  8., 11., 14.])>,\n",
              " <tf.Tensor: shape=(8,), dtype=float64, numpy=array([ 3.,  6.,  9., 12., 15., 18., 21., 24.])>)"
            ]
          },
          "metadata": {},
          "execution_count": 63
        }
      ]
    },
    {
      "cell_type": "code",
      "source": [
        "model.predict([17.0])"
      ],
      "metadata": {
        "colab": {
          "base_uri": "https://localhost:8080/"
        },
        "id": "VVXOeebT25kR",
        "outputId": "d4147060-1c90-4685-d733-af02887d9dbc"
      },
      "execution_count": 64,
      "outputs": [
        {
          "output_type": "stream",
          "name": "stdout",
          "text": [
            "1/1 [==============================] - 0s 162ms/step\n"
          ]
        },
        {
          "output_type": "execute_result",
          "data": {
            "text/plain": [
              "array([[27.497076]], dtype=float32)"
            ]
          },
          "metadata": {},
          "execution_count": 64
        }
      ]
    },
    {
      "cell_type": "code",
      "source": [
        "# Creating the model again with another change\n",
        "model = tf.keras.Sequential([\n",
        "    tf.keras.layers.Dense(100,activation=\"relu\"),\n",
        "    tf.keras.layers.Dense(1)\n",
        "])\n",
        "\n",
        "# Compiling our model\n",
        "model.compile(\n",
        "    loss = tf.keras.losses.mae,\n",
        "    optimizer = tf.keras.optimizers.SGD(),\n",
        "    metrics=[\"mae\"]\n",
        ")\n",
        "# Now fit the model\n",
        "model.fit(tf.expand_dims(x,axis=1),y,epochs=100)"
      ],
      "metadata": {
        "colab": {
          "base_uri": "https://localhost:8080/"
        },
        "id": "EEjx-S1F297Y",
        "outputId": "8b1fd199-de92-46f7-b647-d8ec0823e44d"
      },
      "execution_count": 74,
      "outputs": [
        {
          "output_type": "stream",
          "name": "stdout",
          "text": [
            "Epoch 1/100\n",
            "1/1 [==============================] - 1s 666ms/step - loss: 13.5267 - mae: 13.5267\n",
            "Epoch 2/100\n",
            "1/1 [==============================] - 0s 9ms/step - loss: 12.9594 - mae: 12.9594\n",
            "Epoch 3/100\n",
            "1/1 [==============================] - 0s 6ms/step - loss: 12.3983 - mae: 12.3983\n",
            "Epoch 4/100\n",
            "1/1 [==============================] - 0s 6ms/step - loss: 11.8281 - mae: 11.8281\n",
            "Epoch 5/100\n",
            "1/1 [==============================] - 0s 7ms/step - loss: 11.2463 - mae: 11.2463\n",
            "Epoch 6/100\n",
            "1/1 [==============================] - 0s 9ms/step - loss: 10.6465 - mae: 10.6465\n",
            "Epoch 7/100\n",
            "1/1 [==============================] - 0s 11ms/step - loss: 10.0294 - mae: 10.0294\n",
            "Epoch 8/100\n",
            "1/1 [==============================] - 0s 9ms/step - loss: 9.3938 - mae: 9.3938\n",
            "Epoch 9/100\n",
            "1/1 [==============================] - 0s 9ms/step - loss: 8.7211 - mae: 8.7211\n",
            "Epoch 10/100\n",
            "1/1 [==============================] - 0s 8ms/step - loss: 8.0110 - mae: 8.0110\n",
            "Epoch 11/100\n",
            "1/1 [==============================] - 0s 15ms/step - loss: 7.2573 - mae: 7.2573\n",
            "Epoch 12/100\n",
            "1/1 [==============================] - 0s 9ms/step - loss: 6.4531 - mae: 6.4531\n",
            "Epoch 13/100\n",
            "1/1 [==============================] - 0s 7ms/step - loss: 5.5874 - mae: 5.5874\n",
            "Epoch 14/100\n",
            "1/1 [==============================] - 0s 7ms/step - loss: 4.6583 - mae: 4.6583\n",
            "Epoch 15/100\n",
            "1/1 [==============================] - 0s 7ms/step - loss: 4.0382 - mae: 4.0382\n",
            "Epoch 16/100\n",
            "1/1 [==============================] - 0s 9ms/step - loss: 3.9405 - mae: 3.9405\n",
            "Epoch 17/100\n",
            "1/1 [==============================] - 0s 6ms/step - loss: 3.9362 - mae: 3.9362\n",
            "Epoch 18/100\n",
            "1/1 [==============================] - 0s 6ms/step - loss: 3.9147 - mae: 3.9147\n",
            "Epoch 19/100\n",
            "1/1 [==============================] - 0s 6ms/step - loss: 3.9427 - mae: 3.9427\n",
            "Epoch 20/100\n",
            "1/1 [==============================] - 0s 7ms/step - loss: 3.8977 - mae: 3.8977\n",
            "Epoch 21/100\n",
            "1/1 [==============================] - 0s 8ms/step - loss: 3.9583 - mae: 3.9583\n",
            "Epoch 22/100\n",
            "1/1 [==============================] - 0s 8ms/step - loss: 3.8904 - mae: 3.8904\n",
            "Epoch 23/100\n",
            "1/1 [==============================] - 0s 6ms/step - loss: 3.9447 - mae: 3.9447\n",
            "Epoch 24/100\n",
            "1/1 [==============================] - 0s 6ms/step - loss: 3.8969 - mae: 3.8969\n",
            "Epoch 25/100\n",
            "1/1 [==============================] - 0s 8ms/step - loss: 3.9188 - mae: 3.9188\n",
            "Epoch 26/100\n",
            "1/1 [==============================] - 0s 6ms/step - loss: 3.9035 - mae: 3.9035\n",
            "Epoch 27/100\n",
            "1/1 [==============================] - 0s 8ms/step - loss: 3.8928 - mae: 3.8928\n",
            "Epoch 28/100\n",
            "1/1 [==============================] - 0s 6ms/step - loss: 3.9169 - mae: 3.9169\n",
            "Epoch 29/100\n",
            "1/1 [==============================] - 0s 7ms/step - loss: 3.8749 - mae: 3.8749\n",
            "Epoch 30/100\n",
            "1/1 [==============================] - 0s 6ms/step - loss: 3.9260 - mae: 3.9260\n",
            "Epoch 31/100\n",
            "1/1 [==============================] - 0s 9ms/step - loss: 3.8586 - mae: 3.8586\n",
            "Epoch 32/100\n",
            "1/1 [==============================] - 0s 6ms/step - loss: 3.9219 - mae: 3.9219\n",
            "Epoch 33/100\n",
            "1/1 [==============================] - 0s 5ms/step - loss: 3.8653 - mae: 3.8653\n",
            "Epoch 34/100\n",
            "1/1 [==============================] - 0s 6ms/step - loss: 3.8958 - mae: 3.8958\n",
            "Epoch 35/100\n",
            "1/1 [==============================] - 0s 6ms/step - loss: 3.8721 - mae: 3.8721\n",
            "Epoch 36/100\n",
            "1/1 [==============================] - 0s 6ms/step - loss: 3.8744 - mae: 3.8744\n",
            "Epoch 37/100\n",
            "1/1 [==============================] - 0s 6ms/step - loss: 3.8879 - mae: 3.8879\n",
            "Epoch 38/100\n",
            "1/1 [==============================] - 0s 8ms/step - loss: 3.8513 - mae: 3.8513\n",
            "Epoch 39/100\n",
            "1/1 [==============================] - 0s 7ms/step - loss: 3.8949 - mae: 3.8949\n",
            "Epoch 40/100\n",
            "1/1 [==============================] - 0s 9ms/step - loss: 3.8279 - mae: 3.8279\n",
            "Epoch 41/100\n",
            "1/1 [==============================] - 0s 7ms/step - loss: 3.8978 - mae: 3.8978\n",
            "Epoch 42/100\n",
            "1/1 [==============================] - 0s 7ms/step - loss: 3.8348 - mae: 3.8348\n",
            "Epoch 43/100\n",
            "1/1 [==============================] - 0s 6ms/step - loss: 3.8714 - mae: 3.8714\n",
            "Epoch 44/100\n",
            "1/1 [==============================] - 0s 7ms/step - loss: 3.8443 - mae: 3.8443\n",
            "Epoch 45/100\n",
            "1/1 [==============================] - 0s 8ms/step - loss: 3.8531 - mae: 3.8531\n",
            "Epoch 46/100\n",
            "1/1 [==============================] - 0s 7ms/step - loss: 3.8579 - mae: 3.8579\n",
            "Epoch 47/100\n",
            "1/1 [==============================] - 0s 7ms/step - loss: 3.8263 - mae: 3.8263\n",
            "Epoch 48/100\n",
            "1/1 [==============================] - 0s 9ms/step - loss: 3.8651 - mae: 3.8651\n",
            "Epoch 49/100\n",
            "1/1 [==============================] - 0s 7ms/step - loss: 3.7994 - mae: 3.7994\n",
            "Epoch 50/100\n",
            "1/1 [==============================] - 0s 6ms/step - loss: 3.8724 - mae: 3.8724\n",
            "Epoch 51/100\n",
            "1/1 [==============================] - 0s 6ms/step - loss: 3.8054 - mae: 3.8054\n",
            "Epoch 52/100\n",
            "1/1 [==============================] - 0s 7ms/step - loss: 3.8462 - mae: 3.8462\n",
            "Epoch 53/100\n",
            "1/1 [==============================] - 0s 9ms/step - loss: 3.8216 - mae: 3.8216\n",
            "Epoch 54/100\n",
            "1/1 [==============================] - 0s 7ms/step - loss: 3.8271 - mae: 3.8271\n",
            "Epoch 55/100\n",
            "1/1 [==============================] - 0s 7ms/step - loss: 3.8289 - mae: 3.8289\n",
            "Epoch 56/100\n",
            "1/1 [==============================] - 0s 7ms/step - loss: 3.8000 - mae: 3.8000\n",
            "Epoch 57/100\n",
            "1/1 [==============================] - 0s 9ms/step - loss: 3.8363 - mae: 3.8363\n",
            "Epoch 58/100\n",
            "1/1 [==============================] - 0s 9ms/step - loss: 3.7728 - mae: 3.7728\n",
            "Epoch 59/100\n",
            "1/1 [==============================] - 0s 8ms/step - loss: 3.8438 - mae: 3.8438\n",
            "Epoch 60/100\n",
            "1/1 [==============================] - 0s 7ms/step - loss: 3.7772 - mae: 3.7772\n",
            "Epoch 61/100\n",
            "1/1 [==============================] - 0s 7ms/step - loss: 3.8254 - mae: 3.8254\n",
            "Epoch 62/100\n",
            "1/1 [==============================] - 0s 8ms/step - loss: 3.7935 - mae: 3.7935\n",
            "Epoch 63/100\n",
            "1/1 [==============================] - 0s 7ms/step - loss: 3.7998 - mae: 3.7998\n",
            "Epoch 64/100\n",
            "1/1 [==============================] - 0s 9ms/step - loss: 3.8010 - mae: 3.8010\n",
            "Epoch 65/100\n",
            "1/1 [==============================] - 0s 8ms/step - loss: 3.7724 - mae: 3.7724\n",
            "Epoch 66/100\n",
            "1/1 [==============================] - 0s 9ms/step - loss: 3.8086 - mae: 3.8086\n",
            "Epoch 67/100\n",
            "1/1 [==============================] - 0s 8ms/step - loss: 3.7449 - mae: 3.7449\n",
            "Epoch 68/100\n",
            "1/1 [==============================] - 0s 8ms/step - loss: 3.8163 - mae: 3.8163\n",
            "Epoch 69/100\n",
            "1/1 [==============================] - 0s 6ms/step - loss: 3.7538 - mae: 3.7538\n",
            "Epoch 70/100\n",
            "1/1 [==============================] - 0s 7ms/step - loss: 3.7987 - mae: 3.7987\n",
            "Epoch 71/100\n",
            "1/1 [==============================] - 0s 11ms/step - loss: 3.7664 - mae: 3.7664\n",
            "Epoch 72/100\n",
            "1/1 [==============================] - 0s 12ms/step - loss: 3.7711 - mae: 3.7711\n",
            "Epoch 73/100\n",
            "1/1 [==============================] - 0s 11ms/step - loss: 3.7741 - mae: 3.7741\n",
            "Epoch 74/100\n",
            "1/1 [==============================] - 0s 6ms/step - loss: 3.7435 - mae: 3.7435\n",
            "Epoch 75/100\n",
            "1/1 [==============================] - 0s 7ms/step - loss: 3.7819 - mae: 3.7819\n",
            "Epoch 76/100\n",
            "1/1 [==============================] - 0s 6ms/step - loss: 3.7162 - mae: 3.7162\n",
            "Epoch 77/100\n",
            "1/1 [==============================] - 0s 7ms/step - loss: 3.7899 - mae: 3.7899\n",
            "Epoch 78/100\n",
            "1/1 [==============================] - 0s 9ms/step - loss: 3.7327 - mae: 3.7327\n",
            "Epoch 79/100\n",
            "1/1 [==============================] - 0s 8ms/step - loss: 3.7690 - mae: 3.7690\n",
            "Epoch 80/100\n",
            "1/1 [==============================] - 0s 9ms/step - loss: 3.7405 - mae: 3.7405\n",
            "Epoch 81/100\n",
            "1/1 [==============================] - 0s 9ms/step - loss: 3.7411 - mae: 3.7411\n",
            "Epoch 82/100\n",
            "1/1 [==============================] - 0s 9ms/step - loss: 3.7484 - mae: 3.7484\n",
            "Epoch 83/100\n",
            "1/1 [==============================] - 0s 9ms/step - loss: 3.7132 - mae: 3.7132\n",
            "Epoch 84/100\n",
            "1/1 [==============================] - 0s 9ms/step - loss: 3.7564 - mae: 3.7564\n",
            "Epoch 85/100\n",
            "1/1 [==============================] - 0s 10ms/step - loss: 3.6909 - mae: 3.6909\n",
            "Epoch 86/100\n",
            "1/1 [==============================] - 0s 7ms/step - loss: 3.7650 - mae: 3.7650\n",
            "Epoch 87/100\n",
            "1/1 [==============================] - 0s 9ms/step - loss: 3.7077 - mae: 3.7077\n",
            "Epoch 88/100\n",
            "1/1 [==============================] - 0s 9ms/step - loss: 3.7380 - mae: 3.7380\n",
            "Epoch 89/100\n",
            "1/1 [==============================] - 0s 9ms/step - loss: 3.7156 - mae: 3.7156\n",
            "Epoch 90/100\n",
            "1/1 [==============================] - 0s 9ms/step - loss: 3.7098 - mae: 3.7098\n",
            "Epoch 91/100\n",
            "1/1 [==============================] - 0s 8ms/step - loss: 3.7236 - mae: 3.7236\n",
            "Epoch 92/100\n",
            "1/1 [==============================] - 0s 9ms/step - loss: 3.6815 - mae: 3.6815\n",
            "Epoch 93/100\n",
            "1/1 [==============================] - 0s 9ms/step - loss: 3.7318 - mae: 3.7318\n",
            "Epoch 94/100\n",
            "1/1 [==============================] - 0s 8ms/step - loss: 3.6710 - mae: 3.6710\n",
            "Epoch 95/100\n",
            "1/1 [==============================] - 0s 9ms/step - loss: 3.7340 - mae: 3.7340\n",
            "Epoch 96/100\n",
            "1/1 [==============================] - 0s 9ms/step - loss: 3.6835 - mae: 3.6835\n",
            "Epoch 97/100\n",
            "1/1 [==============================] - 0s 9ms/step - loss: 3.7056 - mae: 3.7056\n",
            "Epoch 98/100\n",
            "1/1 [==============================] - 0s 8ms/step - loss: 3.6916 - mae: 3.6916\n",
            "Epoch 99/100\n",
            "1/1 [==============================] - 0s 7ms/step - loss: 3.6771 - mae: 3.6771\n",
            "Epoch 100/100\n",
            "1/1 [==============================] - 0s 7ms/step - loss: 3.6999 - mae: 3.6999\n"
          ]
        },
        {
          "output_type": "execute_result",
          "data": {
            "text/plain": [
              "<keras.callbacks.History at 0x7fabf8327190>"
            ]
          },
          "metadata": {},
          "execution_count": 74
        }
      ]
    },
    {
      "cell_type": "code",
      "source": [
        "x,y"
      ],
      "metadata": {
        "colab": {
          "base_uri": "https://localhost:8080/"
        },
        "id": "3qCUASwR4X9V",
        "outputId": "9fc30df9-4101-4660-b2e6-55c5cc940383"
      },
      "execution_count": 75,
      "outputs": [
        {
          "output_type": "execute_result",
          "data": {
            "text/plain": [
              "(<tf.Tensor: shape=(8,), dtype=float64, numpy=array([-7., -4., -1.,  2.,  5.,  8., 11., 14.])>,\n",
              " <tf.Tensor: shape=(8,), dtype=float64, numpy=array([ 3.,  6.,  9., 12., 15., 18., 21., 24.])>)"
            ]
          },
          "metadata": {},
          "execution_count": 75
        }
      ]
    },
    {
      "cell_type": "code",
      "source": [
        "model.predict([17.0])"
      ],
      "metadata": {
        "colab": {
          "base_uri": "https://localhost:8080/"
        },
        "id": "ScCJclKjAYoL",
        "outputId": "136262ee-fd40-4f26-a750-75f49c31dcbc"
      },
      "execution_count": 76,
      "outputs": [
        {
          "output_type": "stream",
          "name": "stdout",
          "text": [
            "1/1 [==============================] - 0s 59ms/step\n"
          ]
        },
        {
          "output_type": "execute_result",
          "data": {
            "text/plain": [
              "array([[31.824465]], dtype=float32)"
            ]
          },
          "metadata": {},
          "execution_count": 76
        }
      ]
    },
    {
      "cell_type": "code",
      "source": [
        "# Creating the model again with another change\n",
        "model = tf.keras.Sequential(\n",
        "    tf.keras.layers.Dense(1)\n",
        ")\n",
        "\n",
        "# Compiling our model\n",
        "model.compile(\n",
        "    loss = tf.keras.losses.mae,\n",
        "    optimizer = tf.keras.optimizers.Adam(lr=0.1),\n",
        "    metrics=[\"mae\"]\n",
        ")\n",
        "\n",
        "# Now fit the model\n",
        "model.fit(tf.expand_dims(x,axis=1),y,epochs=100)"
      ],
      "metadata": {
        "colab": {
          "base_uri": "https://localhost:8080/"
        },
        "id": "yFeDUfGPAdL1",
        "outputId": "0965d08a-c9a0-40ca-dcbf-a048ac500626"
      },
      "execution_count": 77,
      "outputs": [
        {
          "output_type": "stream",
          "name": "stdout",
          "text": [
            "Epoch 1/100\n"
          ]
        },
        {
          "output_type": "stream",
          "name": "stderr",
          "text": [
            "/usr/local/lib/python3.7/dist-packages/keras/optimizers/optimizer_v2/adam.py:110: UserWarning: The `lr` argument is deprecated, use `learning_rate` instead.\n",
            "  super(Adam, self).__init__(name, **kwargs)\n"
          ]
        },
        {
          "output_type": "stream",
          "name": "stdout",
          "text": [
            "1/1 [==============================] - 0s 425ms/step - loss: 19.2532 - mae: 19.2532\n",
            "Epoch 2/100\n",
            "1/1 [==============================] - 0s 20ms/step - loss: 18.6532 - mae: 18.6532\n",
            "Epoch 3/100\n",
            "1/1 [==============================] - 0s 22ms/step - loss: 18.0532 - mae: 18.0532\n",
            "Epoch 4/100\n",
            "1/1 [==============================] - 0s 12ms/step - loss: 17.4532 - mae: 17.4532\n",
            "Epoch 5/100\n",
            "1/1 [==============================] - 0s 8ms/step - loss: 16.8532 - mae: 16.8532\n",
            "Epoch 6/100\n",
            "1/1 [==============================] - 0s 11ms/step - loss: 16.2532 - mae: 16.2532\n",
            "Epoch 7/100\n",
            "1/1 [==============================] - 0s 46ms/step - loss: 15.6532 - mae: 15.6532\n",
            "Epoch 8/100\n",
            "1/1 [==============================] - 0s 25ms/step - loss: 15.0532 - mae: 15.0532\n",
            "Epoch 9/100\n",
            "1/1 [==============================] - 0s 11ms/step - loss: 14.4532 - mae: 14.4532\n",
            "Epoch 10/100\n",
            "1/1 [==============================] - 0s 11ms/step - loss: 13.8532 - mae: 13.8532\n",
            "Epoch 11/100\n",
            "1/1 [==============================] - 0s 8ms/step - loss: 13.3355 - mae: 13.3355\n",
            "Epoch 12/100\n",
            "1/1 [==============================] - 0s 9ms/step - loss: 12.8924 - mae: 12.8924\n",
            "Epoch 13/100\n",
            "1/1 [==============================] - 0s 7ms/step - loss: 12.4550 - mae: 12.4550\n",
            "Epoch 14/100\n",
            "1/1 [==============================] - 0s 9ms/step - loss: 12.0222 - mae: 12.0222\n",
            "Epoch 15/100\n",
            "1/1 [==============================] - 0s 8ms/step - loss: 11.5933 - mae: 11.5933\n",
            "Epoch 16/100\n",
            "1/1 [==============================] - 0s 8ms/step - loss: 11.1677 - mae: 11.1677\n",
            "Epoch 17/100\n",
            "1/1 [==============================] - 0s 9ms/step - loss: 10.7447 - mae: 10.7447\n",
            "Epoch 18/100\n",
            "1/1 [==============================] - 0s 9ms/step - loss: 10.3240 - mae: 10.3240\n",
            "Epoch 19/100\n",
            "1/1 [==============================] - 0s 9ms/step - loss: 9.9051 - mae: 9.9051\n",
            "Epoch 20/100\n",
            "1/1 [==============================] - 0s 9ms/step - loss: 9.4878 - mae: 9.4878\n",
            "Epoch 21/100\n",
            "1/1 [==============================] - 0s 8ms/step - loss: 9.0716 - mae: 9.0716\n",
            "Epoch 22/100\n",
            "1/1 [==============================] - 0s 8ms/step - loss: 8.6566 - mae: 8.6566\n",
            "Epoch 23/100\n",
            "1/1 [==============================] - 0s 7ms/step - loss: 8.2423 - mae: 8.2423\n",
            "Epoch 24/100\n",
            "1/1 [==============================] - 0s 8ms/step - loss: 7.8286 - mae: 7.8286\n",
            "Epoch 25/100\n",
            "1/1 [==============================] - 0s 11ms/step - loss: 7.4154 - mae: 7.4154\n",
            "Epoch 26/100\n",
            "1/1 [==============================] - 0s 11ms/step - loss: 7.0026 - mae: 7.0026\n",
            "Epoch 27/100\n",
            "1/1 [==============================] - 0s 12ms/step - loss: 6.5900 - mae: 6.5900\n",
            "Epoch 28/100\n",
            "1/1 [==============================] - 0s 19ms/step - loss: 6.1775 - mae: 6.1775\n",
            "Epoch 29/100\n",
            "1/1 [==============================] - 0s 18ms/step - loss: 5.7651 - mae: 5.7651\n",
            "Epoch 30/100\n",
            "1/1 [==============================] - 0s 19ms/step - loss: 5.3526 - mae: 5.3526\n",
            "Epoch 31/100\n",
            "1/1 [==============================] - 0s 12ms/step - loss: 5.1739 - mae: 5.1739\n",
            "Epoch 32/100\n",
            "1/1 [==============================] - 0s 11ms/step - loss: 5.1557 - mae: 5.1557\n",
            "Epoch 33/100\n",
            "1/1 [==============================] - 0s 23ms/step - loss: 5.2849 - mae: 5.2849\n",
            "Epoch 34/100\n",
            "1/1 [==============================] - 0s 8ms/step - loss: 5.3795 - mae: 5.3795\n",
            "Epoch 35/100\n",
            "1/1 [==============================] - 0s 7ms/step - loss: 5.4425 - mae: 5.4425\n",
            "Epoch 36/100\n",
            "1/1 [==============================] - 0s 8ms/step - loss: 5.5233 - mae: 5.5233\n",
            "Epoch 37/100\n",
            "1/1 [==============================] - 0s 7ms/step - loss: 5.5666 - mae: 5.5666\n",
            "Epoch 38/100\n",
            "1/1 [==============================] - 0s 11ms/step - loss: 5.5466 - mae: 5.5466\n",
            "Epoch 39/100\n",
            "1/1 [==============================] - 0s 8ms/step - loss: 5.4707 - mae: 5.4707\n",
            "Epoch 40/100\n",
            "1/1 [==============================] - 0s 13ms/step - loss: 5.3451 - mae: 5.3451\n",
            "Epoch 41/100\n",
            "1/1 [==============================] - 0s 8ms/step - loss: 5.1754 - mae: 5.1754\n",
            "Epoch 42/100\n",
            "1/1 [==============================] - 0s 8ms/step - loss: 4.9956 - mae: 4.9956\n",
            "Epoch 43/100\n",
            "1/1 [==============================] - 0s 8ms/step - loss: 4.8432 - mae: 4.8432\n",
            "Epoch 44/100\n",
            "1/1 [==============================] - 0s 7ms/step - loss: 4.6832 - mae: 4.6832\n",
            "Epoch 45/100\n",
            "1/1 [==============================] - 0s 10ms/step - loss: 4.5162 - mae: 4.5162\n",
            "Epoch 46/100\n",
            "1/1 [==============================] - 0s 8ms/step - loss: 4.3428 - mae: 4.3428\n",
            "Epoch 47/100\n",
            "1/1 [==============================] - 0s 9ms/step - loss: 4.2294 - mae: 4.2294\n",
            "Epoch 48/100\n",
            "1/1 [==============================] - 0s 7ms/step - loss: 4.1777 - mae: 4.1777\n",
            "Epoch 49/100\n",
            "1/1 [==============================] - 0s 16ms/step - loss: 4.1239 - mae: 4.1239\n",
            "Epoch 50/100\n",
            "1/1 [==============================] - 0s 13ms/step - loss: 4.1771 - mae: 4.1771\n",
            "Epoch 51/100\n",
            "1/1 [==============================] - 0s 14ms/step - loss: 4.1920 - mae: 4.1920\n",
            "Epoch 52/100\n",
            "1/1 [==============================] - 0s 12ms/step - loss: 4.1612 - mae: 4.1612\n",
            "Epoch 53/100\n",
            "1/1 [==============================] - 0s 10ms/step - loss: 4.0893 - mae: 4.0893\n",
            "Epoch 54/100\n",
            "1/1 [==============================] - 0s 11ms/step - loss: 3.9802 - mae: 3.9802\n",
            "Epoch 55/100\n",
            "1/1 [==============================] - 0s 11ms/step - loss: 3.8378 - mae: 3.8378\n",
            "Epoch 56/100\n",
            "1/1 [==============================] - 0s 16ms/step - loss: 3.6721 - mae: 3.6721\n",
            "Epoch 57/100\n",
            "1/1 [==============================] - 0s 14ms/step - loss: 3.6005 - mae: 3.6005\n",
            "Epoch 58/100\n",
            "1/1 [==============================] - 0s 14ms/step - loss: 3.5290 - mae: 3.5290\n",
            "Epoch 59/100\n",
            "1/1 [==============================] - 0s 8ms/step - loss: 3.4577 - mae: 3.4577\n",
            "Epoch 60/100\n",
            "1/1 [==============================] - 0s 6ms/step - loss: 3.4152 - mae: 3.4152\n",
            "Epoch 61/100\n",
            "1/1 [==============================] - 0s 6ms/step - loss: 3.3854 - mae: 3.3854\n",
            "Epoch 62/100\n",
            "1/1 [==============================] - 0s 6ms/step - loss: 3.3344 - mae: 3.3344\n",
            "Epoch 63/100\n",
            "1/1 [==============================] - 0s 6ms/step - loss: 3.2643 - mae: 3.2643\n",
            "Epoch 64/100\n",
            "1/1 [==============================] - 0s 6ms/step - loss: 3.1768 - mae: 3.1768\n",
            "Epoch 65/100\n",
            "1/1 [==============================] - 0s 7ms/step - loss: 3.0735 - mae: 3.0735\n",
            "Epoch 66/100\n",
            "1/1 [==============================] - 0s 14ms/step - loss: 2.9966 - mae: 2.9966\n",
            "Epoch 67/100\n",
            "1/1 [==============================] - 0s 9ms/step - loss: 2.9341 - mae: 2.9341\n",
            "Epoch 68/100\n",
            "1/1 [==============================] - 0s 20ms/step - loss: 2.8707 - mae: 2.8707\n",
            "Epoch 69/100\n",
            "1/1 [==============================] - 0s 37ms/step - loss: 2.8064 - mae: 2.8064\n",
            "Epoch 70/100\n",
            "1/1 [==============================] - 0s 23ms/step - loss: 2.7433 - mae: 2.7433\n",
            "Epoch 71/100\n",
            "1/1 [==============================] - 0s 16ms/step - loss: 2.6770 - mae: 2.6770\n",
            "Epoch 72/100\n",
            "1/1 [==============================] - 0s 17ms/step - loss: 2.6032 - mae: 2.6032\n",
            "Epoch 73/100\n",
            "1/1 [==============================] - 0s 12ms/step - loss: 2.5328 - mae: 2.5328\n",
            "Epoch 74/100\n",
            "1/1 [==============================] - 0s 9ms/step - loss: 2.4623 - mae: 2.4623\n",
            "Epoch 75/100\n",
            "1/1 [==============================] - 0s 10ms/step - loss: 2.3916 - mae: 2.3916\n",
            "Epoch 76/100\n",
            "1/1 [==============================] - 0s 11ms/step - loss: 2.3209 - mae: 2.3209\n",
            "Epoch 77/100\n",
            "1/1 [==============================] - 0s 10ms/step - loss: 2.2500 - mae: 2.2500\n",
            "Epoch 78/100\n",
            "1/1 [==============================] - 0s 9ms/step - loss: 2.2065 - mae: 2.2065\n",
            "Epoch 79/100\n",
            "1/1 [==============================] - 0s 11ms/step - loss: 2.1431 - mae: 2.1431\n",
            "Epoch 80/100\n",
            "1/1 [==============================] - 0s 10ms/step - loss: 2.0599 - mae: 2.0599\n",
            "Epoch 81/100\n",
            "1/1 [==============================] - 0s 10ms/step - loss: 1.9776 - mae: 1.9776\n",
            "Epoch 82/100\n",
            "1/1 [==============================] - 0s 10ms/step - loss: 1.9115 - mae: 1.9115\n",
            "Epoch 83/100\n",
            "1/1 [==============================] - 0s 14ms/step - loss: 1.8447 - mae: 1.8447\n",
            "Epoch 84/100\n",
            "1/1 [==============================] - 0s 10ms/step - loss: 1.7774 - mae: 1.7774\n",
            "Epoch 85/100\n",
            "1/1 [==============================] - 0s 9ms/step - loss: 1.7095 - mae: 1.7095\n",
            "Epoch 86/100\n",
            "1/1 [==============================] - 0s 11ms/step - loss: 1.6479 - mae: 1.6479\n",
            "Epoch 87/100\n",
            "1/1 [==============================] - 0s 20ms/step - loss: 1.5702 - mae: 1.5702\n",
            "Epoch 88/100\n",
            "1/1 [==============================] - 0s 10ms/step - loss: 1.4991 - mae: 1.4991\n",
            "Epoch 89/100\n",
            "1/1 [==============================] - 0s 11ms/step - loss: 1.4279 - mae: 1.4279\n",
            "Epoch 90/100\n",
            "1/1 [==============================] - 0s 12ms/step - loss: 1.3566 - mae: 1.3566\n",
            "Epoch 91/100\n",
            "1/1 [==============================] - 0s 12ms/step - loss: 1.2851 - mae: 1.2851\n",
            "Epoch 92/100\n",
            "1/1 [==============================] - 0s 9ms/step - loss: 1.2260 - mae: 1.2260\n",
            "Epoch 93/100\n",
            "1/1 [==============================] - 0s 9ms/step - loss: 1.1545 - mae: 1.1545\n",
            "Epoch 94/100\n",
            "1/1 [==============================] - 0s 14ms/step - loss: 1.0765 - mae: 1.0765\n",
            "Epoch 95/100\n",
            "1/1 [==============================] - 0s 13ms/step - loss: 1.0084 - mae: 1.0084\n",
            "Epoch 96/100\n",
            "1/1 [==============================] - 0s 9ms/step - loss: 0.9397 - mae: 0.9397\n",
            "Epoch 97/100\n",
            "1/1 [==============================] - 0s 9ms/step - loss: 0.8707 - mae: 0.8707\n",
            "Epoch 98/100\n",
            "1/1 [==============================] - 0s 8ms/step - loss: 0.8167 - mae: 0.8167\n",
            "Epoch 99/100\n",
            "1/1 [==============================] - 0s 7ms/step - loss: 0.7292 - mae: 0.7292\n",
            "Epoch 100/100\n",
            "1/1 [==============================] - 0s 7ms/step - loss: 0.6572 - mae: 0.6572\n"
          ]
        },
        {
          "output_type": "execute_result",
          "data": {
            "text/plain": [
              "<keras.callbacks.History at 0x7fabf74ed210>"
            ]
          },
          "metadata": {},
          "execution_count": 77
        }
      ]
    },
    {
      "cell_type": "code",
      "source": [
        "model.predict([17.0])"
      ],
      "metadata": {
        "colab": {
          "base_uri": "https://localhost:8080/"
        },
        "id": "7WpC3HUoB4rr",
        "outputId": "8ffc2e83-6a57-4e4d-9551-54db9fd3f64b"
      },
      "execution_count": 78,
      "outputs": [
        {
          "output_type": "stream",
          "name": "stdout",
          "text": [
            "1/1 [==============================] - 0s 59ms/step\n"
          ]
        },
        {
          "output_type": "execute_result",
          "data": {
            "text/plain": [
              "array([[27.497189]], dtype=float32)"
            ]
          },
          "metadata": {},
          "execution_count": 78
        }
      ]
    },
    {
      "cell_type": "markdown",
      "source": [
        "## Evaluating Model\n",
        "\n",
        "In practice  a typical work flow you go through is\n",
        "\n",
        "Build amodel -> fit it -> evaluate it -> tweal a model -> fit it -> evaluate it"
      ],
      "metadata": {
        "id": "1cAG8YiACAgb"
      }
    },
    {
      "cell_type": "markdown",
      "source": [
        "When it comes to evaluating there are 3 words you should memorize:\n",
        "   \" Visualize,visualize,visualize\"\n",
        "it's good idea to visualize:\n",
        "   * The data - what data we are working with? What does it look like?\n",
        "   * The model itself - what does our model looks like ?\n",
        "   * The Training of a model - how does a model perfoms while it learns\n",
        "   * The prediction of a model - how do the prediction of a model line up against the ground truth (The orignal labels)?"
      ],
      "metadata": {
        "id": "S-YqIxNgCzAH"
      }
    },
    {
      "cell_type": "code",
      "source": [
        "# Make a biger data set\n",
        "x = tf.range(-100,100,4)\n",
        "x"
      ],
      "metadata": {
        "colab": {
          "base_uri": "https://localhost:8080/"
        },
        "id": "7cfQfGLeELNj",
        "outputId": "4095499d-cff6-4fcb-d589-cb11611b2772"
      },
      "execution_count": 79,
      "outputs": [
        {
          "output_type": "execute_result",
          "data": {
            "text/plain": [
              "<tf.Tensor: shape=(50,), dtype=int32, numpy=\n",
              "array([-100,  -96,  -92,  -88,  -84,  -80,  -76,  -72,  -68,  -64,  -60,\n",
              "        -56,  -52,  -48,  -44,  -40,  -36,  -32,  -28,  -24,  -20,  -16,\n",
              "        -12,   -8,   -4,    0,    4,    8,   12,   16,   20,   24,   28,\n",
              "         32,   36,   40,   44,   48,   52,   56,   60,   64,   68,   72,\n",
              "         76,   80,   84,   88,   92,   96], dtype=int32)>"
            ]
          },
          "metadata": {},
          "execution_count": 79
        }
      ]
    },
    {
      "cell_type": "code",
      "source": [
        "y=x+10\n",
        "y"
      ],
      "metadata": {
        "colab": {
          "base_uri": "https://localhost:8080/"
        },
        "id": "5QfbUghxEVUQ",
        "outputId": "ddb0702b-3cb2-41dd-8734-220153b8930c"
      },
      "execution_count": 81,
      "outputs": [
        {
          "output_type": "execute_result",
          "data": {
            "text/plain": [
              "<tf.Tensor: shape=(50,), dtype=int32, numpy=\n",
              "array([-90, -86, -82, -78, -74, -70, -66, -62, -58, -54, -50, -46, -42,\n",
              "       -38, -34, -30, -26, -22, -18, -14, -10,  -6,  -2,   2,   6,  10,\n",
              "        14,  18,  22,  26,  30,  34,  38,  42,  46,  50,  54,  58,  62,\n",
              "        66,  70,  74,  78,  82,  86,  90,  94,  98, 102, 106], dtype=int32)>"
            ]
          },
          "metadata": {},
          "execution_count": 81
        }
      ]
    },
    {
      "cell_type": "code",
      "source": [
        "# Visualize the data \n",
        "plt.scatter(x,y);"
      ],
      "metadata": {
        "colab": {
          "base_uri": "https://localhost:8080/",
          "height": 265
        },
        "id": "C3NEQPjLEa3A",
        "outputId": "1b155209-5e64-4dcd-deed-c312c5286cbe"
      },
      "execution_count": 83,
      "outputs": [
        {
          "output_type": "display_data",
          "data": {
            "text/plain": [
              "<Figure size 432x288 with 1 Axes>"
            ],
            "image/png": "[encoded data removed]"
          },
          "metadata": {
            "needs_background": "light"
          }
        }
      ]
    },
    {
      "cell_type": "markdown",
      "source": [
        "### The 3 sets ....\n",
        "\n",
        "* Training set - the model learns from this data and it is typicaly 70-80 percent of data.\n",
        "* Validation set - the model gets tunned on this data which is typically 10 to 15 % of total data\n",
        "* Test set - The model is evaluated usingf this data"
      ],
      "metadata": {
        "id": "EarLzXIvEn1F"
      }
    },
    {
      "cell_type": "code",
      "source": [
        "# Check the leanght of how many samples we have\n",
        "len(x)"
      ],
      "metadata": {
        "colab": {
          "base_uri": "https://localhost:8080/"
        },
        "id": "co6JE1THFvv0",
        "outputId": "f03f4352-4a27-45b1-8c69-fbc1c016f4f7"
      },
      "execution_count": 85,
      "outputs": [
        {
          "output_type": "execute_result",
          "data": {
            "text/plain": [
              "50"
            ]
          },
          "metadata": {},
          "execution_count": 85
        }
      ]
    },
    {
      "cell_type": "code",
      "source": [
        "# Split the data into train and test sets\n",
        "x_train = x[:40] \n",
        "y_train = y[:40]\n",
        "x_test = x[40:]\n",
        "y_test = y[40:]\n",
        "len(x_train),len(x_test),len(y_train),len(y_test)"
      ],
      "metadata": {
        "colab": {
          "base_uri": "https://localhost:8080/"
        },
        "id": "kKECIR_wF3Tf",
        "outputId": "70e150a9-81a3-48ab-9897-b4c837f309d0"
      },
      "execution_count": 88,
      "outputs": [
        {
          "output_type": "execute_result",
          "data": {
            "text/plain": [
              "(40, 10, 40, 10)"
            ]
          },
          "metadata": {},
          "execution_count": 88
        }
      ]
    },
    {
      "cell_type": "markdown",
      "source": [
        "### Visualizing our data\n",
        "Now lets visualize the sets"
      ],
      "metadata": {
        "id": "SSSGRIieF_NM"
      }
    },
    {
      "cell_type": "code",
      "source": [
        "plt.figure(figsize=(10,7))\n",
        "# Plot training data in blue\n",
        "plt.scatter(x_train,y_train,c=\"b\",label=\"Training Data\")\n",
        "plt.scatter(x_test,y_test,c=\"g\",label=\"Testing Data\")\n",
        "plt.legend()\n",
        "plt.show()"
      ],
      "metadata": {
        "colab": {
          "base_uri": "https://localhost:8080/",
          "height": 428
        },
        "id": "G31eJkLrGuzY",
        "outputId": "3c7e5973-f0c6-4a62-b7dc-5e38722c9faa"
      },
      "execution_count": 94,
      "outputs": [
        {
          "output_type": "display_data",
          "data": {
            "text/plain": [
              "<Figure size 720x504 with 1 Axes>"
            ],
            "image/png": "[encoded data removed]"
          },
          "metadata": {
            "needs_background": "light"
          }
        }
      ]
    },
    {
      "cell_type": "code",
      "source": [
        "# Lets have a look at how to build a neural network for our data\n",
        "\n",
        "# 1. Create a model \n",
        "model = tf.keras.Sequential([\n",
        "    tf.keras.layers.Dense(1)\n",
        "])\n",
        "model.compile(\n",
        "    loss=tf.keras.losses.mae,\n",
        "    optimizer = tf.keras.optimizers.SGD(),\n",
        "    metrics = [\"mae\"]\n",
        ")\n",
        "# 3. Fit the model\n",
        "# model.fit(x_train,y_train,epochs=100)"
      ],
      "metadata": {
        "id": "XM1qBt1tHOF4"
      },
      "execution_count": 95,
      "outputs": []
    },
    {
      "cell_type": "markdown",
      "source": [
        "### Visualizing the model"
      ],
      "metadata": {
        "id": "b55T_tjKJjRo"
      }
    },
    {
      "cell_type": "code",
      "source": [
        "# Lets create a model that builds automatically by defining the input shape\n",
        "tf.random.set_seed(42)\n",
        "\n",
        "model = tf.keras.Sequential([\n",
        "    tf.keras.layers.Dense(1,input_shape=[1])\n",
        "])\n",
        "# 2 compile a model\n",
        "model.compile(loss=tf.keras.losses.mae,\n",
        "              optimizer=tf.keras.optimizers.SGD(),\n",
        "              metrics=[\"mae\"])"
      ],
      "metadata": {
        "id": "awFT2yJnJqBf"
      },
      "execution_count": 97,
      "outputs": []
    },
    {
      "cell_type": "code",
      "source": [
        "model.summary()"
      ],
      "metadata": {
        "colab": {
          "base_uri": "https://localhost:8080/"
        },
        "id": "XPaBPTrKKp7B",
        "outputId": "d0562e7b-bf4c-4743-b64e-a5a9b9976b65"
      },
      "execution_count": 101,
      "outputs": [
        {
          "output_type": "stream",
          "name": "stdout",
          "text": [
            "Model: \"sequential_20\"\n",
            "_________________________________________________________________\n",
            " Layer (type)                Output Shape              Param #   \n",
            "=================================================================\n",
            " dense_46 (Dense)            (None, 1)                 2         \n",
            "                                                                 \n",
            "=================================================================\n",
            "Total params: 2\n",
            "Trainable params: 2\n",
            "Non-trainable params: 0\n",
            "_________________________________________________________________\n"
          ]
        }
      ]
    },
    {
      "cell_type": "markdown",
      "source": [
        "* Total parameters our model is going to learn\n",
        "* Trainable Pramater 2 means all the parameters in the model are trainable\n",
        "* Non-Trainable prams these parameters are not trainable "
      ],
      "metadata": {
        "id": "iu3kij3aKwfX"
      }
    },
    {
      "cell_type": "code",
      "source": [
        "# Lets fit our model to the trianing data\n",
        "model.fit(x,y,epochs=100,verbose=0)"
      ],
      "metadata": {
        "colab": {
          "base_uri": "https://localhost:8080/"
        },
        "id": "6vp_QYYfLIUV",
        "outputId": "0cb77627-db0f-40b6-ef53-411e3dd9c7d6"
      },
      "execution_count": 102,
      "outputs": [
        {
          "output_type": "execute_result",
          "data": {
            "text/plain": [
              "<keras.callbacks.History at 0x7fabf51c66d0>"
            ]
          },
          "metadata": {},
          "execution_count": 102
        }
      ]
    },
    {
      "cell_type": "code",
      "source": [],
      "metadata": {
        "id": "187RzX5gMs-J"
      },
      "execution_count": null,
      "outputs": []
    }
  ]
}