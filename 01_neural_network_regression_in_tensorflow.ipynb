{
  "nbformat": 4,
  "nbformat_minor": 0,
  "metadata": {
    "colab": {
      "provenance": []
    },
    "kernelspec": {
      "name": "python3",
      "display_name": "Python 3"
    },
    "language_info": {
      "name": "python"
    }
  },
  "cells": [
    {
      "cell_type": "markdown",
      "source": [
        "# Introduction to Regression with neural netrowks in Tensor FLow\n",
        "\n",
        "There are many definitions for a regression problem but in our case we are going to keep it simple : Predicting a numerical variable based on other variables even shorter prediting a number.\n"
      ],
      "metadata": {
        "id": "g7YuvLNjS9f1"
      }
    },
    {
      "cell_type": "code",
      "source": [
        "# Import TensorFlow\n",
        "import tensorflow as tf\n",
        "print(tf.__version__)"
      ],
      "metadata": {
        "colab": {
          "base_uri": "https://localhost:8080/"
        },
        "id": "AU2GpAEQT5DU",
        "outputId": "d461d6fb-0ca6-4f7e-9734-54cc5b2553e2"
      },
      "execution_count": 2,
      "outputs": [
        {
          "output_type": "stream",
          "name": "stdout",
          "text": [
            "2.9.2\n"
          ]
        }
      ]
    },
    {
      "cell_type": "code",
      "source": [
        "## Creating some data to view and fit\n",
        "import numpy as np \n",
        "import matplotlib.pyplot as plt\n",
        "# Creating features\n",
        "x = np.array([-7.0,-4.0,-1.0,2.0,5.0,8.0,11.0,14.0])\n",
        "\n",
        "# Create Labels\n",
        "y = np.array([3.0,6.0,9.0,12.0,15.0,18.0,21.0,24.0])\n",
        "\n",
        "# Visualise it\n",
        "plt.scatter(x,y);"
      ],
      "metadata": {
        "colab": {
          "base_uri": "https://localhost:8080/",
          "height": 269
        },
        "id": "qvzgqKEIUDuY",
        "outputId": "0d2eff8d-b7d3-4a73-e4a6-f103dce6aeb5"
      },
      "execution_count": 3,
      "outputs": [
        {
          "output_type": "display_data",
          "data": {
            "text/plain": [
              "<Figure size 432x288 with 1 Axes>"
            ],
            "image/png": "[encoded data removed]"
          },
          "metadata": {
            "needs_background": "light"
          }
        }
      ]
    },
    {
      "cell_type": "code",
      "source": [
        "y==x+10"
      ],
      "metadata": {
        "colab": {
          "base_uri": "https://localhost:8080/"
        },
        "id": "B9eeMv74U7ye",
        "outputId": "8cfa2ab1-98ab-47f0-b578-d36ef1570f28"
      },
      "execution_count": 4,
      "outputs": [
        {
          "output_type": "execute_result",
          "data": {
            "text/plain": [
              "array([ True,  True,  True,  True,  True,  True,  True,  True])"
            ]
          },
          "metadata": {},
          "execution_count": 4
        }
      ]
    },
    {
      "cell_type": "code",
      "source": [
        "# This is the relation between our inputs and outputs\n"
      ],
      "metadata": {
        "id": "08JYAFtYVKhd"
      },
      "execution_count": 5,
      "outputs": []
    },
    {
      "cell_type": "markdown",
      "source": [
        "### Lets Check out our input and output shape"
      ],
      "metadata": {
        "id": "uX_tlheMVc91"
      }
    },
    {
      "cell_type": "code",
      "source": [
        "# Create a demo tensor for our housing price prediction problem\n",
        "house_info = tf.constant([\"bedroom\",\"bathroom\",\"garage\"])\n",
        "house_price = tf.constant([939700])\n",
        "house_info,house_price"
      ],
      "metadata": {
        "colab": {
          "base_uri": "https://localhost:8080/"
        },
        "id": "q0Zp-4FfVesk",
        "outputId": "dd067876-fcff-4a07-b2cd-273735af4585"
      },
      "execution_count": 6,
      "outputs": [
        {
          "output_type": "execute_result",
          "data": {
            "text/plain": [
              "(<tf.Tensor: shape=(3,), dtype=string, numpy=array([b'bedroom', b'bathroom', b'garage'], dtype=object)>,\n",
              " <tf.Tensor: shape=(1,), dtype=int32, numpy=array([939700], dtype=int32)>)"
            ]
          },
          "metadata": {},
          "execution_count": 6
        }
      ]
    },
    {
      "cell_type": "code",
      "source": [
        "input_shape = x.shape\n",
        "output_shape  = y.shape\n",
        "input_shape,output_shape"
      ],
      "metadata": {
        "colab": {
          "base_uri": "https://localhost:8080/"
        },
        "id": "gmeRWUn0WDwL",
        "outputId": "5498c477-ae72-4c35-d0c5-848e55c3652e"
      },
      "execution_count": 7,
      "outputs": [
        {
          "output_type": "execute_result",
          "data": {
            "text/plain": [
              "((8,), (8,))"
            ]
          },
          "metadata": {},
          "execution_count": 7
        }
      ]
    },
    {
      "cell_type": "code",
      "source": [
        "# Turn our numpy arrays into tensors\n",
        "x = tf.constant(x)\n",
        "y = tf.constant(y)\n",
        "x,y"
      ],
      "metadata": {
        "colab": {
          "base_uri": "https://localhost:8080/"
        },
        "id": "GcqHXd6_WYoC",
        "outputId": "0c7d9a13-a7d7-4988-fb89-0f598a08d841"
      },
      "execution_count": 8,
      "outputs": [
        {
          "output_type": "execute_result",
          "data": {
            "text/plain": [
              "(<tf.Tensor: shape=(8,), dtype=float64, numpy=array([-7., -4., -1.,  2.,  5.,  8., 11., 14.])>,\n",
              " <tf.Tensor: shape=(8,), dtype=float64, numpy=array([ 3.,  6.,  9., 12., 15., 18., 21., 24.])>)"
            ]
          },
          "metadata": {},
          "execution_count": 8
        }
      ]
    },
    {
      "cell_type": "code",
      "source": [
        "input_shape = x[0].shape\n",
        "output_shape = y[0].shape\n",
        "input_shape,output_shape"
      ],
      "metadata": {
        "colab": {
          "base_uri": "https://localhost:8080/"
        },
        "id": "jgX9n-9mXl9Q",
        "outputId": "099cc738-7858-4137-d35a-c7c7f01e0e76"
      },
      "execution_count": 9,
      "outputs": [
        {
          "output_type": "execute_result",
          "data": {
            "text/plain": [
              "(TensorShape([]), TensorShape([]))"
            ]
          },
          "metadata": {},
          "execution_count": 9
        }
      ]
    },
    {
      "cell_type": "markdown",
      "source": [
        "## Step in modeling with tensor flow\n",
        "1. **Creating a model** - define the input and output layers, as well as the hidden layers of a deep learning model.\n",
        "2. **Compiling a model** - define the loss function - the function that tells our function how wrong it is and optimizer that tells our function how to improve itself and evaluation metrics that tells how well is the performance of our model\n",
        "3. **Fitting a model** - letting the model try to find patterns betwqeen x and y"
      ],
      "metadata": {
        "id": "vtv6FTedXuJX"
      }
    },
    {
      "cell_type": "code",
      "source": [
        "# Set Randdom Seed\n",
        "tf.random.set_seed(42)\n",
        "\n",
        "# 1. Create a model using the Sequential API\n",
        "model = tf.keras.Sequential([\n",
        "    tf.keras.layers.Dense(1)\n",
        "])\n",
        "\n",
        "# Compile Model\n",
        "model.compile(loss=tf.keras.losses.mae,# mean absolute error\n",
        "              optimizer = tf.keras.optimizers.SGD(),\n",
        "              metrics = [\"mae\"])\n",
        "# Fit the model\n",
        "model.fit(tf.expand_dims(x,axis=-1),y,epochs=5)"
      ],
      "metadata": {
        "colab": {
          "base_uri": "https://localhost:8080/"
        },
        "id": "PL5UB_s7Y7lM",
        "outputId": "49943915-7752-49b1-ab28-a9751d0a03a1"
      },
      "execution_count": 10,
      "outputs": [
        {
          "output_type": "stream",
          "name": "stdout",
          "text": [
            "Epoch 1/5\n",
            "1/1 [==============================] - 1s 551ms/step - loss: 11.5048 - mae: 11.5048\n",
            "Epoch 2/5\n",
            "1/1 [==============================] - 0s 12ms/step - loss: 11.3723 - mae: 11.3723\n",
            "Epoch 3/5\n",
            "1/1 [==============================] - 0s 8ms/step - loss: 11.2398 - mae: 11.2398\n",
            "Epoch 4/5\n",
            "1/1 [==============================] - 0s 10ms/step - loss: 11.1073 - mae: 11.1073\n",
            "Epoch 5/5\n",
            "1/1 [==============================] - 0s 7ms/step - loss: 10.9748 - mae: 10.9748\n"
          ]
        },
        {
          "output_type": "execute_result",
          "data": {
            "text/plain": [
              "<keras.callbacks.History at 0x7f737c19acd0>"
            ]
          },
          "metadata": {},
          "execution_count": 10
        }
      ]
    },
    {
      "cell_type": "code",
      "source": [
        "# Check out x and y\n",
        "x,y"
      ],
      "metadata": {
        "colab": {
          "base_uri": "https://localhost:8080/"
        },
        "id": "vKH-Bj2wdGYx",
        "outputId": "1d0b7e19-a10f-48f9-9f89-be0d04b2e12d"
      },
      "execution_count": 11,
      "outputs": [
        {
          "output_type": "execute_result",
          "data": {
            "text/plain": [
              "(<tf.Tensor: shape=(8,), dtype=float64, numpy=array([-7., -4., -1.,  2.,  5.,  8., 11., 14.])>,\n",
              " <tf.Tensor: shape=(8,), dtype=float64, numpy=array([ 3.,  6.,  9., 12., 15., 18., 21., 24.])>)"
            ]
          },
          "metadata": {},
          "execution_count": 11
        }
      ]
    },
    {
      "cell_type": "code",
      "source": [
        "# Try and make prediction using our model\n",
        "y_pred = model.predict([17.0])\n",
        "y_pred +11"
      ],
      "metadata": {
        "colab": {
          "base_uri": "https://localhost:8080/"
        },
        "id": "qDTbPz0eeKSh",
        "outputId": "4e2db421-be7e-4495-d30d-f3ac218f9402"
      },
      "execution_count": 12,
      "outputs": [
        {
          "output_type": "stream",
          "name": "stdout",
          "text": [
            "1/1 [==============================] - 0s 80ms/step\n"
          ]
        },
        {
          "output_type": "execute_result",
          "data": {
            "text/plain": [
              "array([[23.71602]], dtype=float32)"
            ]
          },
          "metadata": {},
          "execution_count": 12
        }
      ]
    },
    {
      "cell_type": "markdown",
      "source": [
        "## Improving Our Model\n",
        "\n",
        "We can improve our model by altering steps to crete the model\n",
        "\n",
        "1. **Creating the model** - we might add more layers, increase the number of hidden units (all called neurons) wihtin each of the hidden layers, change the activation function of each layer.\n",
        "\n",
        "2. **Compiling a model** - here we might change the optimization function or perhaps the ** Learning rate** oof the optimization function.\n",
        "\n",
        "3. **Fitting a model** - here we might fit a model for more **epochs** (leave it training for longer) or on more data (given more eaxamples to learn on)"
      ],
      "metadata": {
        "id": "DnZ0tG1XeTLb"
      }
    },
    {
      "cell_type": "code",
      "source": [
        "# Lets re build our model \n",
        "\n",
        "#1. to Create the model\n",
        "\n",
        "model = tf.keras.Sequential([\n",
        "    tf.keras.layers.Dense(1)\n",
        "])\n",
        "\n",
        "# 2 Compile the mdoel\n",
        "model.compile(\n",
        "    loss=tf.keras.losses.mae,\n",
        "    optimizer=tf.keras.optimizers.SGD(),\n",
        "    metrics=[\"mae\"]\n",
        ")\n",
        "# 3. Fit the model (this time we will train for longer)\n",
        "model.fit(tf.expand_dims(x,axis=1),y,epochs=100)"
      ],
      "metadata": {
        "colab": {
          "base_uri": "https://localhost:8080/"
        },
        "id": "kYm2suUrjLip",
        "outputId": "70afcc20-d89d-49be-88ff-c57dae259d1a"
      },
      "execution_count": 13,
      "outputs": [
        {
          "output_type": "stream",
          "name": "stdout",
          "text": [
            "Epoch 1/100\n",
            "1/1 [==============================] - 0s 277ms/step - loss: 11.2219 - mae: 11.2219\n",
            "Epoch 2/100\n",
            "1/1 [==============================] - 0s 8ms/step - loss: 11.0894 - mae: 11.0894\n",
            "Epoch 3/100\n",
            "1/1 [==============================] - 0s 7ms/step - loss: 10.9569 - mae: 10.9569\n",
            "Epoch 4/100\n",
            "1/1 [==============================] - 0s 6ms/step - loss: 10.8244 - mae: 10.8244\n",
            "Epoch 5/100\n",
            "1/1 [==============================] - 0s 6ms/step - loss: 10.6919 - mae: 10.6919\n",
            "Epoch 6/100\n",
            "1/1 [==============================] - 0s 6ms/step - loss: 10.5594 - mae: 10.5594\n",
            "Epoch 7/100\n",
            "1/1 [==============================] - 0s 5ms/step - loss: 10.4269 - mae: 10.4269\n",
            "Epoch 8/100\n",
            "1/1 [==============================] - 0s 6ms/step - loss: 10.2944 - mae: 10.2944\n",
            "Epoch 9/100\n",
            "1/1 [==============================] - 0s 6ms/step - loss: 10.1619 - mae: 10.1619\n",
            "Epoch 10/100\n",
            "1/1 [==============================] - 0s 6ms/step - loss: 10.0294 - mae: 10.0294\n",
            "Epoch 11/100\n",
            "1/1 [==============================] - 0s 6ms/step - loss: 9.8969 - mae: 9.8969\n",
            "Epoch 12/100\n",
            "1/1 [==============================] - 0s 7ms/step - loss: 9.7644 - mae: 9.7644\n",
            "Epoch 13/100\n",
            "1/1 [==============================] - 0s 7ms/step - loss: 9.6319 - mae: 9.6319\n",
            "Epoch 14/100\n",
            "1/1 [==============================] - 0s 6ms/step - loss: 9.4994 - mae: 9.4994\n",
            "Epoch 15/100\n",
            "1/1 [==============================] - 0s 6ms/step - loss: 9.3669 - mae: 9.3669\n",
            "Epoch 16/100\n",
            "1/1 [==============================] - 0s 6ms/step - loss: 9.2344 - mae: 9.2344\n",
            "Epoch 17/100\n",
            "1/1 [==============================] - 0s 8ms/step - loss: 9.1019 - mae: 9.1019\n",
            "Epoch 18/100\n",
            "1/1 [==============================] - 0s 7ms/step - loss: 8.9694 - mae: 8.9694\n",
            "Epoch 19/100\n",
            "1/1 [==============================] - 0s 9ms/step - loss: 8.8369 - mae: 8.8369\n",
            "Epoch 20/100\n",
            "1/1 [==============================] - 0s 6ms/step - loss: 8.7044 - mae: 8.7044\n",
            "Epoch 21/100\n",
            "1/1 [==============================] - 0s 8ms/step - loss: 8.5719 - mae: 8.5719\n",
            "Epoch 22/100\n",
            "1/1 [==============================] - 0s 6ms/step - loss: 8.4394 - mae: 8.4394\n",
            "Epoch 23/100\n",
            "1/1 [==============================] - 0s 7ms/step - loss: 8.3069 - mae: 8.3069\n",
            "Epoch 24/100\n",
            "1/1 [==============================] - 0s 8ms/step - loss: 8.1744 - mae: 8.1744\n",
            "Epoch 25/100\n",
            "1/1 [==============================] - 0s 6ms/step - loss: 8.0419 - mae: 8.0419\n",
            "Epoch 26/100\n",
            "1/1 [==============================] - 0s 6ms/step - loss: 7.9094 - mae: 7.9094\n",
            "Epoch 27/100\n",
            "1/1 [==============================] - 0s 7ms/step - loss: 7.7769 - mae: 7.7769\n",
            "Epoch 28/100\n",
            "1/1 [==============================] - 0s 8ms/step - loss: 7.6444 - mae: 7.6444\n",
            "Epoch 29/100\n",
            "1/1 [==============================] - 0s 7ms/step - loss: 7.5119 - mae: 7.5119\n",
            "Epoch 30/100\n",
            "1/1 [==============================] - 0s 6ms/step - loss: 7.3794 - mae: 7.3794\n",
            "Epoch 31/100\n",
            "1/1 [==============================] - 0s 6ms/step - loss: 7.2750 - mae: 7.2750\n",
            "Epoch 32/100\n",
            "1/1 [==============================] - 0s 7ms/step - loss: 7.2694 - mae: 7.2694\n",
            "Epoch 33/100\n",
            "1/1 [==============================] - 0s 7ms/step - loss: 7.2638 - mae: 7.2638\n",
            "Epoch 34/100\n",
            "1/1 [==============================] - 0s 7ms/step - loss: 7.2581 - mae: 7.2581\n",
            "Epoch 35/100\n",
            "1/1 [==============================] - 0s 8ms/step - loss: 7.2525 - mae: 7.2525\n",
            "Epoch 36/100\n",
            "1/1 [==============================] - 0s 7ms/step - loss: 7.2469 - mae: 7.2469\n",
            "Epoch 37/100\n",
            "1/1 [==============================] - 0s 7ms/step - loss: 7.2412 - mae: 7.2412\n",
            "Epoch 38/100\n",
            "1/1 [==============================] - 0s 6ms/step - loss: 7.2356 - mae: 7.2356\n",
            "Epoch 39/100\n",
            "1/1 [==============================] - 0s 8ms/step - loss: 7.2300 - mae: 7.2300\n",
            "Epoch 40/100\n",
            "1/1 [==============================] - 0s 7ms/step - loss: 7.2244 - mae: 7.2244\n",
            "Epoch 41/100\n",
            "1/1 [==============================] - 0s 9ms/step - loss: 7.2188 - mae: 7.2188\n",
            "Epoch 42/100\n",
            "1/1 [==============================] - 0s 6ms/step - loss: 7.2131 - mae: 7.2131\n",
            "Epoch 43/100\n",
            "1/1 [==============================] - 0s 7ms/step - loss: 7.2075 - mae: 7.2075\n",
            "Epoch 44/100\n",
            "1/1 [==============================] - 0s 7ms/step - loss: 7.2019 - mae: 7.2019\n",
            "Epoch 45/100\n",
            "1/1 [==============================] - 0s 9ms/step - loss: 7.1962 - mae: 7.1962\n",
            "Epoch 46/100\n",
            "1/1 [==============================] - 0s 7ms/step - loss: 7.1906 - mae: 7.1906\n",
            "Epoch 47/100\n",
            "1/1 [==============================] - 0s 6ms/step - loss: 7.1850 - mae: 7.1850\n",
            "Epoch 48/100\n",
            "1/1 [==============================] - 0s 6ms/step - loss: 7.1794 - mae: 7.1794\n",
            "Epoch 49/100\n",
            "1/1 [==============================] - 0s 7ms/step - loss: 7.1737 - mae: 7.1737\n",
            "Epoch 50/100\n",
            "1/1 [==============================] - 0s 7ms/step - loss: 7.1681 - mae: 7.1681\n",
            "Epoch 51/100\n",
            "1/1 [==============================] - 0s 14ms/step - loss: 7.1625 - mae: 7.1625\n",
            "Epoch 52/100\n",
            "1/1 [==============================] - 0s 7ms/step - loss: 7.1569 - mae: 7.1569\n",
            "Epoch 53/100\n",
            "1/1 [==============================] - 0s 8ms/step - loss: 7.1512 - mae: 7.1512\n",
            "Epoch 54/100\n",
            "1/1 [==============================] - 0s 8ms/step - loss: 7.1456 - mae: 7.1456\n",
            "Epoch 55/100\n",
            "1/1 [==============================] - 0s 15ms/step - loss: 7.1400 - mae: 7.1400\n",
            "Epoch 56/100\n",
            "1/1 [==============================] - 0s 10ms/step - loss: 7.1344 - mae: 7.1344\n",
            "Epoch 57/100\n",
            "1/1 [==============================] - 0s 8ms/step - loss: 7.1287 - mae: 7.1287\n",
            "Epoch 58/100\n",
            "1/1 [==============================] - 0s 7ms/step - loss: 7.1231 - mae: 7.1231\n",
            "Epoch 59/100\n",
            "1/1 [==============================] - 0s 7ms/step - loss: 7.1175 - mae: 7.1175\n",
            "Epoch 60/100\n",
            "1/1 [==============================] - 0s 7ms/step - loss: 7.1119 - mae: 7.1119\n",
            "Epoch 61/100\n",
            "1/1 [==============================] - 0s 8ms/step - loss: 7.1062 - mae: 7.1062\n",
            "Epoch 62/100\n",
            "1/1 [==============================] - 0s 9ms/step - loss: 7.1006 - mae: 7.1006\n",
            "Epoch 63/100\n",
            "1/1 [==============================] - 0s 7ms/step - loss: 7.0950 - mae: 7.0950\n",
            "Epoch 64/100\n",
            "1/1 [==============================] - 0s 8ms/step - loss: 7.0894 - mae: 7.0894\n",
            "Epoch 65/100\n",
            "1/1 [==============================] - 0s 8ms/step - loss: 7.0838 - mae: 7.0838\n",
            "Epoch 66/100\n",
            "1/1 [==============================] - 0s 7ms/step - loss: 7.0781 - mae: 7.0781\n",
            "Epoch 67/100\n",
            "1/1 [==============================] - 0s 9ms/step - loss: 7.0725 - mae: 7.0725\n",
            "Epoch 68/100\n",
            "1/1 [==============================] - 0s 8ms/step - loss: 7.0669 - mae: 7.0669\n",
            "Epoch 69/100\n",
            "1/1 [==============================] - 0s 12ms/step - loss: 7.0613 - mae: 7.0613\n",
            "Epoch 70/100\n",
            "1/1 [==============================] - 0s 11ms/step - loss: 7.0556 - mae: 7.0556\n",
            "Epoch 71/100\n",
            "1/1 [==============================] - 0s 9ms/step - loss: 7.0500 - mae: 7.0500\n",
            "Epoch 72/100\n",
            "1/1 [==============================] - 0s 7ms/step - loss: 7.0444 - mae: 7.0444\n",
            "Epoch 73/100\n",
            "1/1 [==============================] - 0s 11ms/step - loss: 7.0388 - mae: 7.0388\n",
            "Epoch 74/100\n",
            "1/1 [==============================] - 0s 10ms/step - loss: 7.0331 - mae: 7.0331\n",
            "Epoch 75/100\n",
            "1/1 [==============================] - 0s 10ms/step - loss: 7.0275 - mae: 7.0275\n",
            "Epoch 76/100\n",
            "1/1 [==============================] - 0s 6ms/step - loss: 7.0219 - mae: 7.0219\n",
            "Epoch 77/100\n",
            "1/1 [==============================] - 0s 6ms/step - loss: 7.0163 - mae: 7.0163\n",
            "Epoch 78/100\n",
            "1/1 [==============================] - 0s 7ms/step - loss: 7.0106 - mae: 7.0106\n",
            "Epoch 79/100\n",
            "1/1 [==============================] - 0s 6ms/step - loss: 7.0050 - mae: 7.0050\n",
            "Epoch 80/100\n",
            "1/1 [==============================] - 0s 7ms/step - loss: 6.9994 - mae: 6.9994\n",
            "Epoch 81/100\n",
            "1/1 [==============================] - 0s 7ms/step - loss: 6.9938 - mae: 6.9938\n",
            "Epoch 82/100\n",
            "1/1 [==============================] - 0s 5ms/step - loss: 6.9881 - mae: 6.9881\n",
            "Epoch 83/100\n",
            "1/1 [==============================] - 0s 6ms/step - loss: 6.9825 - mae: 6.9825\n",
            "Epoch 84/100\n",
            "1/1 [==============================] - 0s 7ms/step - loss: 6.9769 - mae: 6.9769\n",
            "Epoch 85/100\n",
            "1/1 [==============================] - 0s 6ms/step - loss: 6.9713 - mae: 6.9713\n",
            "Epoch 86/100\n",
            "1/1 [==============================] - 0s 7ms/step - loss: 6.9656 - mae: 6.9656\n",
            "Epoch 87/100\n",
            "1/1 [==============================] - 0s 8ms/step - loss: 6.9600 - mae: 6.9600\n",
            "Epoch 88/100\n",
            "1/1 [==============================] - 0s 7ms/step - loss: 6.9544 - mae: 6.9544\n",
            "Epoch 89/100\n",
            "1/1 [==============================] - 0s 7ms/step - loss: 6.9488 - mae: 6.9488\n",
            "Epoch 90/100\n",
            "1/1 [==============================] - 0s 8ms/step - loss: 6.9431 - mae: 6.9431\n",
            "Epoch 91/100\n",
            "1/1 [==============================] - 0s 8ms/step - loss: 6.9375 - mae: 6.9375\n",
            "Epoch 92/100\n",
            "1/1 [==============================] - 0s 7ms/step - loss: 6.9319 - mae: 6.9319\n",
            "Epoch 93/100\n",
            "1/1 [==============================] - 0s 7ms/step - loss: 6.9263 - mae: 6.9263\n",
            "Epoch 94/100\n",
            "1/1 [==============================] - 0s 7ms/step - loss: 6.9206 - mae: 6.9206\n",
            "Epoch 95/100\n",
            "1/1 [==============================] - 0s 7ms/step - loss: 6.9150 - mae: 6.9150\n",
            "Epoch 96/100\n",
            "1/1 [==============================] - 0s 19ms/step - loss: 6.9094 - mae: 6.9094\n",
            "Epoch 97/100\n",
            "1/1 [==============================] - 0s 7ms/step - loss: 6.9038 - mae: 6.9038\n",
            "Epoch 98/100\n",
            "1/1 [==============================] - 0s 7ms/step - loss: 6.8981 - mae: 6.8981\n",
            "Epoch 99/100\n",
            "1/1 [==============================] - 0s 7ms/step - loss: 6.8925 - mae: 6.8925\n",
            "Epoch 100/100\n",
            "1/1 [==============================] - 0s 7ms/step - loss: 6.8869 - mae: 6.8869\n"
          ]
        },
        {
          "output_type": "execute_result",
          "data": {
            "text/plain": [
              "<keras.callbacks.History at 0x7f737a8a5090>"
            ]
          },
          "metadata": {},
          "execution_count": 13
        }
      ]
    },
    {
      "cell_type": "code",
      "source": [
        "# Remind our selfs of data \n",
        "x,y"
      ],
      "metadata": {
        "colab": {
          "base_uri": "https://localhost:8080/"
        },
        "id": "_LHkJkUMzQiF",
        "outputId": "cbda91ad-055c-4717-9e64-0a1b42e38624"
      },
      "execution_count": 14,
      "outputs": [
        {
          "output_type": "execute_result",
          "data": {
            "text/plain": [
              "(<tf.Tensor: shape=(8,), dtype=float64, numpy=array([-7., -4., -1.,  2.,  5.,  8., 11., 14.])>,\n",
              " <tf.Tensor: shape=(8,), dtype=float64, numpy=array([ 3.,  6.,  9., 12., 15., 18., 21., 24.])>)"
            ]
          },
          "metadata": {},
          "execution_count": 14
        }
      ]
    },
    {
      "cell_type": "code",
      "source": [
        "# Lets see if our models presdiction has improved\n",
        "model.predict([17.0])"
      ],
      "metadata": {
        "colab": {
          "base_uri": "https://localhost:8080/"
        },
        "id": "LvVRUkeF0_pJ",
        "outputId": "d7ad4638-6fe4-40b6-84d4-28339bc14e21"
      },
      "execution_count": 15,
      "outputs": [
        {
          "output_type": "stream",
          "name": "stdout",
          "text": [
            "1/1 [==============================] - 0s 117ms/step\n"
          ]
        },
        {
          "output_type": "execute_result",
          "data": {
            "text/plain": [
              "array([[29.739855]], dtype=float32)"
            ]
          },
          "metadata": {},
          "execution_count": 15
        }
      ]
    },
    {
      "cell_type": "code",
      "source": [
        "# Creating the model again with another change\n",
        "model = tf.keras.Sequential(\n",
        "    tf.keras.layers.Dense(1)\n",
        ")\n",
        "\n",
        "# Compiling our model\n",
        "model.compile(\n",
        "    loss = tf.keras.losses.mae,\n",
        "    optimizer = tf.keras.optimizers.Adam(lr=0.1),\n",
        "    metrics=[\"mae\"]\n",
        ")\n",
        "\n",
        "# Now fit the model\n",
        "model.fit(tf.expand_dims(x,axis=1),y,epochs=100)"
      ],
      "metadata": {
        "colab": {
          "base_uri": "https://localhost:8080/"
        },
        "id": "upH-_gT81I1V",
        "outputId": "9b4ad16f-4c3c-45bd-a2f2-e6f62c0733c2"
      },
      "execution_count": 16,
      "outputs": [
        {
          "output_type": "stream",
          "name": "stdout",
          "text": [
            "Epoch 1/100\n"
          ]
        },
        {
          "output_type": "stream",
          "name": "stderr",
          "text": [
            "/usr/local/lib/python3.7/dist-packages/keras/optimizers/optimizer_v2/adam.py:110: UserWarning: The `lr` argument is deprecated, use `learning_rate` instead.\n",
            "  super(Adam, self).__init__(name, **kwargs)\n"
          ]
        },
        {
          "output_type": "stream",
          "name": "stdout",
          "text": [
            "1/1 [==============================] - 0s 332ms/step - loss: 10.5736 - mae: 10.5736\n",
            "Epoch 2/100\n",
            "1/1 [==============================] - 0s 10ms/step - loss: 10.1236 - mae: 10.1236\n",
            "Epoch 3/100\n",
            "1/1 [==============================] - 0s 9ms/step - loss: 9.6736 - mae: 9.6736\n",
            "Epoch 4/100\n",
            "1/1 [==============================] - 0s 6ms/step - loss: 9.2236 - mae: 9.2236\n",
            "Epoch 5/100\n",
            "1/1 [==============================] - 0s 10ms/step - loss: 8.7736 - mae: 8.7736\n",
            "Epoch 6/100\n",
            "1/1 [==============================] - 0s 5ms/step - loss: 8.3236 - mae: 8.3236\n",
            "Epoch 7/100\n",
            "1/1 [==============================] - 0s 5ms/step - loss: 7.8736 - mae: 7.8736\n",
            "Epoch 8/100\n",
            "1/1 [==============================] - 0s 5ms/step - loss: 7.4236 - mae: 7.4236\n",
            "Epoch 9/100\n",
            "1/1 [==============================] - 0s 5ms/step - loss: 6.9736 - mae: 6.9736\n",
            "Epoch 10/100\n",
            "1/1 [==============================] - 0s 6ms/step - loss: 6.8250 - mae: 6.8250\n",
            "Epoch 11/100\n",
            "1/1 [==============================] - 0s 6ms/step - loss: 6.7706 - mae: 6.7706\n",
            "Epoch 12/100\n",
            "1/1 [==============================] - 0s 6ms/step - loss: 6.9023 - mae: 6.9023\n",
            "Epoch 13/100\n",
            "1/1 [==============================] - 0s 5ms/step - loss: 6.9798 - mae: 6.9798\n",
            "Epoch 14/100\n",
            "1/1 [==============================] - 0s 6ms/step - loss: 7.0115 - mae: 7.0115\n",
            "Epoch 15/100\n",
            "1/1 [==============================] - 0s 9ms/step - loss: 7.0041 - mae: 7.0041\n",
            "Epoch 16/100\n",
            "1/1 [==============================] - 0s 6ms/step - loss: 6.9629 - mae: 6.9629\n",
            "Epoch 17/100\n",
            "1/1 [==============================] - 0s 5ms/step - loss: 6.8925 - mae: 6.8925\n",
            "Epoch 18/100\n",
            "1/1 [==============================] - 0s 5ms/step - loss: 6.7967 - mae: 6.7967\n",
            "Epoch 19/100\n",
            "1/1 [==============================] - 0s 6ms/step - loss: 6.6786 - mae: 6.6786\n",
            "Epoch 20/100\n",
            "1/1 [==============================] - 0s 7ms/step - loss: 6.5410 - mae: 6.5410\n",
            "Epoch 21/100\n",
            "1/1 [==============================] - 0s 9ms/step - loss: 6.3862 - mae: 6.3862\n",
            "Epoch 22/100\n",
            "1/1 [==============================] - 0s 6ms/step - loss: 6.2161 - mae: 6.2161\n",
            "Epoch 23/100\n",
            "1/1 [==============================] - 0s 9ms/step - loss: 6.0324 - mae: 6.0324\n",
            "Epoch 24/100\n",
            "1/1 [==============================] - 0s 6ms/step - loss: 5.9317 - mae: 5.9317\n",
            "Epoch 25/100\n",
            "1/1 [==============================] - 0s 6ms/step - loss: 5.8711 - mae: 5.8711\n",
            "Epoch 26/100\n",
            "1/1 [==============================] - 0s 6ms/step - loss: 5.8089 - mae: 5.8089\n",
            "Epoch 27/100\n",
            "1/1 [==============================] - 0s 6ms/step - loss: 5.7619 - mae: 5.7619\n",
            "Epoch 28/100\n",
            "1/1 [==============================] - 0s 8ms/step - loss: 5.7609 - mae: 5.7609\n",
            "Epoch 29/100\n",
            "1/1 [==============================] - 0s 6ms/step - loss: 5.7017 - mae: 5.7017\n",
            "Epoch 30/100\n",
            "1/1 [==============================] - 0s 6ms/step - loss: 5.5917 - mae: 5.5917\n",
            "Epoch 31/100\n",
            "1/1 [==============================] - 0s 12ms/step - loss: 5.4656 - mae: 5.4656\n",
            "Epoch 32/100\n",
            "1/1 [==============================] - 0s 6ms/step - loss: 5.3926 - mae: 5.3926\n",
            "Epoch 33/100\n",
            "1/1 [==============================] - 0s 6ms/step - loss: 5.3197 - mae: 5.3197\n",
            "Epoch 34/100\n",
            "1/1 [==============================] - 0s 6ms/step - loss: 5.2467 - mae: 5.2467\n",
            "Epoch 35/100\n",
            "1/1 [==============================] - 0s 6ms/step - loss: 5.1738 - mae: 5.1738\n",
            "Epoch 36/100\n",
            "1/1 [==============================] - 0s 6ms/step - loss: 5.1009 - mae: 5.1009\n",
            "Epoch 37/100\n",
            "1/1 [==============================] - 0s 6ms/step - loss: 5.0279 - mae: 5.0279\n",
            "Epoch 38/100\n",
            "1/1 [==============================] - 0s 6ms/step - loss: 4.9770 - mae: 4.9770\n",
            "Epoch 39/100\n",
            "1/1 [==============================] - 0s 6ms/step - loss: 4.9214 - mae: 4.9214\n",
            "Epoch 40/100\n",
            "1/1 [==============================] - 0s 6ms/step - loss: 4.8387 - mae: 4.8387\n",
            "Epoch 41/100\n",
            "1/1 [==============================] - 0s 9ms/step - loss: 4.7472 - mae: 4.7472\n",
            "Epoch 42/100\n",
            "1/1 [==============================] - 0s 7ms/step - loss: 4.6789 - mae: 4.6789\n",
            "Epoch 43/100\n",
            "1/1 [==============================] - 0s 6ms/step - loss: 4.6100 - mae: 4.6100\n",
            "Epoch 44/100\n",
            "1/1 [==============================] - 0s 6ms/step - loss: 4.5405 - mae: 4.5405\n",
            "Epoch 45/100\n",
            "1/1 [==============================] - 0s 7ms/step - loss: 4.4706 - mae: 4.4706\n",
            "Epoch 46/100\n",
            "1/1 [==============================] - 0s 7ms/step - loss: 4.4002 - mae: 4.4002\n",
            "Epoch 47/100\n",
            "1/1 [==============================] - 0s 8ms/step - loss: 4.3295 - mae: 4.3295\n",
            "Epoch 48/100\n",
            "1/1 [==============================] - 0s 6ms/step - loss: 4.2584 - mae: 4.2584\n",
            "Epoch 49/100\n",
            "1/1 [==============================] - 0s 7ms/step - loss: 4.1869 - mae: 4.1869\n",
            "Epoch 50/100\n",
            "1/1 [==============================] - 0s 7ms/step - loss: 4.1152 - mae: 4.1152\n",
            "Epoch 51/100\n",
            "1/1 [==============================] - 0s 8ms/step - loss: 4.0432 - mae: 4.0432\n",
            "Epoch 52/100\n",
            "1/1 [==============================] - 0s 7ms/step - loss: 3.9710 - mae: 3.9710\n",
            "Epoch 53/100\n",
            "1/1 [==============================] - 0s 7ms/step - loss: 3.8986 - mae: 3.8986\n",
            "Epoch 54/100\n",
            "1/1 [==============================] - 0s 6ms/step - loss: 3.8259 - mae: 3.8259\n",
            "Epoch 55/100\n",
            "1/1 [==============================] - 0s 7ms/step - loss: 3.7531 - mae: 3.7531\n",
            "Epoch 56/100\n",
            "1/1 [==============================] - 0s 6ms/step - loss: 3.6802 - mae: 3.6802\n",
            "Epoch 57/100\n",
            "1/1 [==============================] - 0s 6ms/step - loss: 3.6071 - mae: 3.6071\n",
            "Epoch 58/100\n",
            "1/1 [==============================] - 0s 9ms/step - loss: 3.5339 - mae: 3.5339\n",
            "Epoch 59/100\n",
            "1/1 [==============================] - 0s 7ms/step - loss: 3.4605 - mae: 3.4605\n",
            "Epoch 60/100\n",
            "1/1 [==============================] - 0s 6ms/step - loss: 3.3871 - mae: 3.3871\n",
            "Epoch 61/100\n",
            "1/1 [==============================] - 0s 8ms/step - loss: 3.3135 - mae: 3.3135\n",
            "Epoch 62/100\n",
            "1/1 [==============================] - 0s 7ms/step - loss: 3.2399 - mae: 3.2399\n",
            "Epoch 63/100\n",
            "1/1 [==============================] - 0s 8ms/step - loss: 3.1662 - mae: 3.1662\n",
            "Epoch 64/100\n",
            "1/1 [==============================] - 0s 8ms/step - loss: 3.0924 - mae: 3.0924\n",
            "Epoch 65/100\n",
            "1/1 [==============================] - 0s 8ms/step - loss: 3.0220 - mae: 3.0220\n",
            "Epoch 66/100\n",
            "1/1 [==============================] - 0s 6ms/step - loss: 2.9468 - mae: 2.9468\n",
            "Epoch 67/100\n",
            "1/1 [==============================] - 0s 6ms/step - loss: 2.8747 - mae: 2.8747\n",
            "Epoch 68/100\n",
            "1/1 [==============================] - 0s 9ms/step - loss: 2.8024 - mae: 2.8024\n",
            "Epoch 69/100\n",
            "1/1 [==============================] - 0s 6ms/step - loss: 2.7299 - mae: 2.7299\n",
            "Epoch 70/100\n",
            "1/1 [==============================] - 0s 6ms/step - loss: 2.6571 - mae: 2.6571\n",
            "Epoch 71/100\n",
            "1/1 [==============================] - 0s 6ms/step - loss: 2.5841 - mae: 2.5841\n",
            "Epoch 72/100\n",
            "1/1 [==============================] - 0s 6ms/step - loss: 2.5110 - mae: 2.5110\n",
            "Epoch 73/100\n",
            "1/1 [==============================] - 0s 7ms/step - loss: 2.4377 - mae: 2.4377\n",
            "Epoch 74/100\n",
            "1/1 [==============================] - 0s 7ms/step - loss: 2.3642 - mae: 2.3642\n",
            "Epoch 75/100\n",
            "1/1 [==============================] - 0s 9ms/step - loss: 2.2906 - mae: 2.2906\n",
            "Epoch 76/100\n",
            "1/1 [==============================] - 0s 6ms/step - loss: 2.2169 - mae: 2.2169\n",
            "Epoch 77/100\n",
            "1/1 [==============================] - 0s 7ms/step - loss: 2.1431 - mae: 2.1431\n",
            "Epoch 78/100\n",
            "1/1 [==============================] - 0s 7ms/step - loss: 2.0692 - mae: 2.0692\n",
            "Epoch 79/100\n",
            "1/1 [==============================] - 0s 7ms/step - loss: 2.0054 - mae: 2.0054\n",
            "Epoch 80/100\n",
            "1/1 [==============================] - 0s 6ms/step - loss: 1.9234 - mae: 1.9234\n",
            "Epoch 81/100\n",
            "1/1 [==============================] - 0s 6ms/step - loss: 1.8512 - mae: 1.8512\n",
            "Epoch 82/100\n",
            "1/1 [==============================] - 0s 7ms/step - loss: 1.7788 - mae: 1.7788\n",
            "Epoch 83/100\n",
            "1/1 [==============================] - 0s 6ms/step - loss: 1.7061 - mae: 1.7061\n",
            "Epoch 84/100\n",
            "1/1 [==============================] - 0s 6ms/step - loss: 1.6331 - mae: 1.6331\n",
            "Epoch 85/100\n",
            "1/1 [==============================] - 0s 6ms/step - loss: 1.5600 - mae: 1.5600\n",
            "Epoch 86/100\n",
            "1/1 [==============================] - 0s 6ms/step - loss: 1.4867 - mae: 1.4867\n",
            "Epoch 87/100\n",
            "1/1 [==============================] - 0s 6ms/step - loss: 1.4132 - mae: 1.4132\n",
            "Epoch 88/100\n",
            "1/1 [==============================] - 0s 7ms/step - loss: 1.3395 - mae: 1.3395\n",
            "Epoch 89/100\n",
            "1/1 [==============================] - 0s 6ms/step - loss: 1.2657 - mae: 1.2657\n",
            "Epoch 90/100\n",
            "1/1 [==============================] - 0s 7ms/step - loss: 1.1918 - mae: 1.1918\n",
            "Epoch 91/100\n",
            "1/1 [==============================] - 0s 7ms/step - loss: 1.1178 - mae: 1.1178\n",
            "Epoch 92/100\n",
            "1/1 [==============================] - 0s 7ms/step - loss: 1.0437 - mae: 1.0437\n",
            "Epoch 93/100\n",
            "1/1 [==============================] - 0s 6ms/step - loss: 0.9695 - mae: 0.9695\n",
            "Epoch 94/100\n",
            "1/1 [==============================] - 0s 5ms/step - loss: 0.8952 - mae: 0.8952\n",
            "Epoch 95/100\n",
            "1/1 [==============================] - 0s 6ms/step - loss: 0.8208 - mae: 0.8208\n",
            "Epoch 96/100\n",
            "1/1 [==============================] - 0s 7ms/step - loss: 0.7464 - mae: 0.7464\n",
            "Epoch 97/100\n",
            "1/1 [==============================] - 0s 6ms/step - loss: 0.6828 - mae: 0.6828\n",
            "Epoch 98/100\n",
            "1/1 [==============================] - 0s 8ms/step - loss: 0.5997 - mae: 0.5997\n",
            "Epoch 99/100\n",
            "1/1 [==============================] - 0s 14ms/step - loss: 0.5291 - mae: 0.5291\n",
            "Epoch 100/100\n",
            "1/1 [==============================] - 0s 10ms/step - loss: 0.4521 - mae: 0.4521\n"
          ]
        },
        {
          "output_type": "execute_result",
          "data": {
            "text/plain": [
              "<keras.callbacks.History at 0x7f737bf8b390>"
            ]
          },
          "metadata": {},
          "execution_count": 16
        }
      ]
    },
    {
      "cell_type": "code",
      "source": [
        "# Remindr of what x and y was\n",
        "x,y"
      ],
      "metadata": {
        "colab": {
          "base_uri": "https://localhost:8080/"
        },
        "id": "s971TM0N2dkC",
        "outputId": "c05b697a-fb38-4b06-a30c-982bce43e3e9"
      },
      "execution_count": 17,
      "outputs": [
        {
          "output_type": "execute_result",
          "data": {
            "text/plain": [
              "(<tf.Tensor: shape=(8,), dtype=float64, numpy=array([-7., -4., -1.,  2.,  5.,  8., 11., 14.])>,\n",
              " <tf.Tensor: shape=(8,), dtype=float64, numpy=array([ 3.,  6.,  9., 12., 15., 18., 21., 24.])>)"
            ]
          },
          "metadata": {},
          "execution_count": 17
        }
      ]
    },
    {
      "cell_type": "code",
      "source": [
        "model.predict([17.0])"
      ],
      "metadata": {
        "colab": {
          "base_uri": "https://localhost:8080/"
        },
        "id": "VVXOeebT25kR",
        "outputId": "d0c2ee32-d854-4df3-85c0-c60e1c847234"
      },
      "execution_count": 18,
      "outputs": [
        {
          "output_type": "stream",
          "name": "stdout",
          "text": [
            "1/1 [==============================] - 0s 229ms/step\n"
          ]
        },
        {
          "output_type": "execute_result",
          "data": {
            "text/plain": [
              "array([[27.497076]], dtype=float32)"
            ]
          },
          "metadata": {},
          "execution_count": 18
        }
      ]
    },
    {
      "cell_type": "code",
      "source": [
        "# Creating the model again with another change\n",
        "model = tf.keras.Sequential([\n",
        "    tf.keras.layers.Dense(100,activation=\"relu\"),\n",
        "    tf.keras.layers.Dense(1)\n",
        "])\n",
        "\n",
        "# Compiling our model\n",
        "model.compile(\n",
        "    loss = tf.keras.losses.mae,\n",
        "    optimizer = tf.keras.optimizers.SGD(),\n",
        "    metrics=[\"mae\"]\n",
        ")\n",
        "# Now fit the model\n",
        "model.fit(tf.expand_dims(x,axis=1),y,epochs=100)"
      ],
      "metadata": {
        "colab": {
          "base_uri": "https://localhost:8080/"
        },
        "id": "EEjx-S1F297Y",
        "outputId": "1f38d783-aa00-4f53-feed-943c5c0f243f"
      },
      "execution_count": 19,
      "outputs": [
        {
          "output_type": "stream",
          "name": "stdout",
          "text": [
            "Epoch 1/100\n",
            "1/1 [==============================] - 1s 654ms/step - loss: 14.0407 - mae: 14.0407\n",
            "Epoch 2/100\n",
            "1/1 [==============================] - 0s 8ms/step - loss: 13.4800 - mae: 13.4800\n",
            "Epoch 3/100\n",
            "1/1 [==============================] - 0s 16ms/step - loss: 12.9217 - mae: 12.9217\n",
            "Epoch 4/100\n",
            "1/1 [==============================] - 0s 18ms/step - loss: 12.3612 - mae: 12.3612\n",
            "Epoch 5/100\n",
            "1/1 [==============================] - 0s 11ms/step - loss: 11.7937 - mae: 11.7937\n",
            "Epoch 6/100\n",
            "1/1 [==============================] - 0s 13ms/step - loss: 11.2106 - mae: 11.2106\n",
            "Epoch 7/100\n",
            "1/1 [==============================] - 0s 14ms/step - loss: 10.6209 - mae: 10.6209\n",
            "Epoch 8/100\n",
            "1/1 [==============================] - 0s 21ms/step - loss: 10.0058 - mae: 10.0058\n",
            "Epoch 9/100\n",
            "1/1 [==============================] - 0s 14ms/step - loss: 9.3625 - mae: 9.3625\n",
            "Epoch 10/100\n",
            "1/1 [==============================] - 0s 21ms/step - loss: 8.6887 - mae: 8.6887\n",
            "Epoch 11/100\n",
            "1/1 [==============================] - 0s 15ms/step - loss: 7.9730 - mae: 7.9730\n",
            "Epoch 12/100\n",
            "1/1 [==============================] - 0s 13ms/step - loss: 7.2130 - mae: 7.2130\n",
            "Epoch 13/100\n",
            "1/1 [==============================] - 0s 13ms/step - loss: 6.3984 - mae: 6.3984\n",
            "Epoch 14/100\n",
            "1/1 [==============================] - 0s 13ms/step - loss: 5.5215 - mae: 5.5215\n",
            "Epoch 15/100\n",
            "1/1 [==============================] - 0s 18ms/step - loss: 4.5762 - mae: 4.5762\n",
            "Epoch 16/100\n",
            "1/1 [==============================] - 0s 14ms/step - loss: 4.0920 - mae: 4.0920\n",
            "Epoch 17/100\n",
            "1/1 [==============================] - 0s 18ms/step - loss: 4.0292 - mae: 4.0292\n",
            "Epoch 18/100\n",
            "1/1 [==============================] - 0s 13ms/step - loss: 3.9887 - mae: 3.9887\n",
            "Epoch 19/100\n",
            "1/1 [==============================] - 0s 13ms/step - loss: 3.9591 - mae: 3.9591\n",
            "Epoch 20/100\n",
            "1/1 [==============================] - 0s 14ms/step - loss: 3.8951 - mae: 3.8951\n",
            "Epoch 21/100\n",
            "1/1 [==============================] - 0s 15ms/step - loss: 3.9391 - mae: 3.9391\n",
            "Epoch 22/100\n",
            "1/1 [==============================] - 0s 18ms/step - loss: 3.8718 - mae: 3.8718\n",
            "Epoch 23/100\n",
            "1/1 [==============================] - 0s 10ms/step - loss: 3.9498 - mae: 3.9498\n",
            "Epoch 24/100\n",
            "1/1 [==============================] - 0s 10ms/step - loss: 3.8853 - mae: 3.8853\n",
            "Epoch 25/100\n",
            "1/1 [==============================] - 0s 13ms/step - loss: 3.9245 - mae: 3.9245\n",
            "Epoch 26/100\n",
            "1/1 [==============================] - 0s 14ms/step - loss: 3.8929 - mae: 3.8929\n",
            "Epoch 27/100\n",
            "1/1 [==============================] - 0s 14ms/step - loss: 3.8991 - mae: 3.8991\n",
            "Epoch 28/100\n",
            "1/1 [==============================] - 0s 15ms/step - loss: 3.9005 - mae: 3.9005\n",
            "Epoch 29/100\n",
            "1/1 [==============================] - 0s 15ms/step - loss: 3.8734 - mae: 3.8734\n",
            "Epoch 30/100\n",
            "1/1 [==============================] - 0s 18ms/step - loss: 3.9084 - mae: 3.9084\n",
            "Epoch 31/100\n",
            "1/1 [==============================] - 0s 15ms/step - loss: 3.8507 - mae: 3.8507\n",
            "Epoch 32/100\n",
            "1/1 [==============================] - 0s 14ms/step - loss: 3.9226 - mae: 3.9226\n",
            "Epoch 33/100\n",
            "1/1 [==============================] - 0s 18ms/step - loss: 3.8550 - mae: 3.8550\n",
            "Epoch 34/100\n",
            "1/1 [==============================] - 0s 11ms/step - loss: 3.9021 - mae: 3.9021\n",
            "Epoch 35/100\n",
            "1/1 [==============================] - 0s 11ms/step - loss: 3.8628 - mae: 3.8628\n",
            "Epoch 36/100\n",
            "1/1 [==============================] - 0s 14ms/step - loss: 3.8763 - mae: 3.8763\n",
            "Epoch 37/100\n",
            "1/1 [==============================] - 0s 15ms/step - loss: 3.8707 - mae: 3.8707\n",
            "Epoch 38/100\n",
            "1/1 [==============================] - 0s 15ms/step - loss: 3.8504 - mae: 3.8504\n",
            "Epoch 39/100\n",
            "1/1 [==============================] - 0s 15ms/step - loss: 3.8787 - mae: 3.8787\n",
            "Epoch 40/100\n",
            "1/1 [==============================] - 0s 11ms/step - loss: 3.8298 - mae: 3.8298\n",
            "Epoch 41/100\n",
            "1/1 [==============================] - 0s 14ms/step - loss: 3.8932 - mae: 3.8932\n",
            "Epoch 42/100\n",
            "1/1 [==============================] - 0s 13ms/step - loss: 3.8259 - mae: 3.8259\n",
            "Epoch 43/100\n",
            "1/1 [==============================] - 0s 14ms/step - loss: 3.8783 - mae: 3.8783\n",
            "Epoch 44/100\n",
            "1/1 [==============================] - 0s 14ms/step - loss: 3.8339 - mae: 3.8339\n",
            "Epoch 45/100\n",
            "1/1 [==============================] - 0s 12ms/step - loss: 3.8523 - mae: 3.8523\n",
            "Epoch 46/100\n",
            "1/1 [==============================] - 0s 15ms/step - loss: 3.8420 - mae: 3.8420\n",
            "Epoch 47/100\n",
            "1/1 [==============================] - 0s 10ms/step - loss: 3.8262 - mae: 3.8262\n",
            "Epoch 48/100\n",
            "1/1 [==============================] - 0s 22ms/step - loss: 3.8517 - mae: 3.8517\n",
            "Epoch 49/100\n",
            "1/1 [==============================] - 0s 12ms/step - loss: 3.8055 - mae: 3.8055\n",
            "Epoch 50/100\n",
            "1/1 [==============================] - 0s 17ms/step - loss: 3.8648 - mae: 3.8648\n",
            "Epoch 51/100\n",
            "1/1 [==============================] - 0s 8ms/step - loss: 3.7979 - mae: 3.7979\n",
            "Epoch 52/100\n",
            "1/1 [==============================] - 0s 20ms/step - loss: 3.8533 - mae: 3.8533\n",
            "Epoch 53/100\n",
            "1/1 [==============================] - 0s 14ms/step - loss: 3.8061 - mae: 3.8061\n",
            "Epoch 54/100\n",
            "1/1 [==============================] - 0s 13ms/step - loss: 3.8270 - mae: 3.8270\n",
            "Epoch 55/100\n",
            "1/1 [==============================] - 0s 14ms/step - loss: 3.8144 - mae: 3.8144\n",
            "Epoch 56/100\n",
            "1/1 [==============================] - 0s 15ms/step - loss: 3.8006 - mae: 3.8006\n",
            "Epoch 57/100\n",
            "1/1 [==============================] - 0s 12ms/step - loss: 3.8264 - mae: 3.8264\n",
            "Epoch 58/100\n",
            "1/1 [==============================] - 0s 9ms/step - loss: 3.7796 - mae: 3.7796\n",
            "Epoch 59/100\n",
            "1/1 [==============================] - 0s 12ms/step - loss: 3.8376 - mae: 3.8376\n",
            "Epoch 60/100\n",
            "1/1 [==============================] - 0s 11ms/step - loss: 3.7710 - mae: 3.7710\n",
            "Epoch 61/100\n",
            "1/1 [==============================] - 0s 17ms/step - loss: 3.8270 - mae: 3.8270\n",
            "Epoch 62/100\n",
            "1/1 [==============================] - 0s 12ms/step - loss: 3.7794 - mae: 3.7794\n",
            "Epoch 63/100\n",
            "1/1 [==============================] - 0s 18ms/step - loss: 3.8004 - mae: 3.8004\n",
            "Epoch 64/100\n",
            "1/1 [==============================] - 0s 10ms/step - loss: 3.7879 - mae: 3.7879\n",
            "Epoch 65/100\n",
            "1/1 [==============================] - 0s 12ms/step - loss: 3.7737 - mae: 3.7737\n",
            "Epoch 66/100\n",
            "1/1 [==============================] - 0s 13ms/step - loss: 3.8027 - mae: 3.8027\n",
            "Epoch 67/100\n",
            "1/1 [==============================] - 0s 16ms/step - loss: 3.7524 - mae: 3.7524\n",
            "Epoch 68/100\n",
            "1/1 [==============================] - 0s 10ms/step - loss: 3.8114 - mae: 3.8114\n",
            "Epoch 69/100\n",
            "1/1 [==============================] - 0s 12ms/step - loss: 3.7451 - mae: 3.7451\n",
            "Epoch 70/100\n",
            "1/1 [==============================] - 0s 11ms/step - loss: 3.7994 - mae: 3.7994\n",
            "Epoch 71/100\n",
            "1/1 [==============================] - 0s 13ms/step - loss: 3.7537 - mae: 3.7537\n",
            "Epoch 72/100\n",
            "1/1 [==============================] - 0s 10ms/step - loss: 3.7726 - mae: 3.7726\n",
            "Epoch 73/100\n",
            "1/1 [==============================] - 0s 9ms/step - loss: 3.7624 - mae: 3.7624\n",
            "Epoch 74/100\n",
            "1/1 [==============================] - 0s 8ms/step - loss: 3.7474 - mae: 3.7474\n",
            "Epoch 75/100\n",
            "1/1 [==============================] - 0s 11ms/step - loss: 3.7774 - mae: 3.7774\n",
            "Epoch 76/100\n",
            "1/1 [==============================] - 0s 13ms/step - loss: 3.7238 - mae: 3.7238\n",
            "Epoch 77/100\n",
            "1/1 [==============================] - 0s 11ms/step - loss: 3.7863 - mae: 3.7863\n",
            "Epoch 78/100\n",
            "1/1 [==============================] - 0s 8ms/step - loss: 3.7203 - mae: 3.7203\n",
            "Epoch 79/100\n",
            "1/1 [==============================] - 0s 13ms/step - loss: 3.7705 - mae: 3.7705\n",
            "Epoch 80/100\n",
            "1/1 [==============================] - 0s 10ms/step - loss: 3.7290 - mae: 3.7290\n",
            "Epoch 81/100\n",
            "1/1 [==============================] - 0s 17ms/step - loss: 3.7433 - mae: 3.7433\n",
            "Epoch 82/100\n",
            "1/1 [==============================] - 0s 13ms/step - loss: 3.7379 - mae: 3.7379\n",
            "Epoch 83/100\n",
            "1/1 [==============================] - 0s 12ms/step - loss: 3.7196 - mae: 3.7196\n",
            "Epoch 84/100\n",
            "1/1 [==============================] - 0s 9ms/step - loss: 3.7531 - mae: 3.7531\n",
            "Epoch 85/100\n",
            "1/1 [==============================] - 0s 11ms/step - loss: 3.6939 - mae: 3.6939\n",
            "Epoch 86/100\n",
            "1/1 [==============================] - 0s 11ms/step - loss: 3.7622 - mae: 3.7622\n",
            "Epoch 87/100\n",
            "1/1 [==============================] - 0s 13ms/step - loss: 3.6964 - mae: 3.6964\n",
            "Epoch 88/100\n",
            "1/1 [==============================] - 0s 9ms/step - loss: 3.7403 - mae: 3.7403\n",
            "Epoch 89/100\n",
            "1/1 [==============================] - 0s 12ms/step - loss: 3.7054 - mae: 3.7054\n",
            "Epoch 90/100\n",
            "1/1 [==============================] - 0s 18ms/step - loss: 3.7128 - mae: 3.7128\n",
            "Epoch 91/100\n",
            "1/1 [==============================] - 0s 12ms/step - loss: 3.7145 - mae: 3.7145\n",
            "Epoch 92/100\n",
            "1/1 [==============================] - 0s 27ms/step - loss: 3.6903 - mae: 3.6903\n",
            "Epoch 93/100\n",
            "1/1 [==============================] - 0s 6ms/step - loss: 3.7299 - mae: 3.7299\n",
            "Epoch 94/100\n",
            "1/1 [==============================] - 0s 15ms/step - loss: 3.6645 - mae: 3.6645\n",
            "Epoch 95/100\n",
            "1/1 [==============================] - 0s 14ms/step - loss: 3.7364 - mae: 3.7364\n",
            "Epoch 96/100\n",
            "1/1 [==============================] - 0s 12ms/step - loss: 3.6735 - mae: 3.6735\n",
            "Epoch 97/100\n",
            "1/1 [==============================] - 0s 12ms/step - loss: 3.7087 - mae: 3.7087\n",
            "Epoch 98/100\n",
            "1/1 [==============================] - 0s 11ms/step - loss: 3.6827 - mae: 3.6827\n",
            "Epoch 99/100\n",
            "1/1 [==============================] - 0s 12ms/step - loss: 3.6808 - mae: 3.6808\n",
            "Epoch 100/100\n",
            "1/1 [==============================] - 0s 12ms/step - loss: 3.6927 - mae: 3.6927\n"
          ]
        },
        {
          "output_type": "execute_result",
          "data": {
            "text/plain": [
              "<keras.callbacks.History at 0x7f737b6a32d0>"
            ]
          },
          "metadata": {},
          "execution_count": 19
        }
      ]
    },
    {
      "cell_type": "code",
      "source": [
        "x,y"
      ],
      "metadata": {
        "colab": {
          "base_uri": "https://localhost:8080/"
        },
        "id": "3qCUASwR4X9V",
        "outputId": "314bb5df-c592-4ef1-e35d-35055e624850"
      },
      "execution_count": 20,
      "outputs": [
        {
          "output_type": "execute_result",
          "data": {
            "text/plain": [
              "(<tf.Tensor: shape=(8,), dtype=float64, numpy=array([-7., -4., -1.,  2.,  5.,  8., 11., 14.])>,\n",
              " <tf.Tensor: shape=(8,), dtype=float64, numpy=array([ 3.,  6.,  9., 12., 15., 18., 21., 24.])>)"
            ]
          },
          "metadata": {},
          "execution_count": 20
        }
      ]
    },
    {
      "cell_type": "code",
      "source": [
        "model.predict([17.0])"
      ],
      "metadata": {
        "colab": {
          "base_uri": "https://localhost:8080/"
        },
        "id": "ScCJclKjAYoL",
        "outputId": "db583e09-4a39-482d-e054-6bc0044c860e"
      },
      "execution_count": 21,
      "outputs": [
        {
          "output_type": "stream",
          "name": "stdout",
          "text": [
            "1/1 [==============================] - 0s 202ms/step\n"
          ]
        },
        {
          "output_type": "execute_result",
          "data": {
            "text/plain": [
              "array([[31.727648]], dtype=float32)"
            ]
          },
          "metadata": {},
          "execution_count": 21
        }
      ]
    },
    {
      "cell_type": "code",
      "source": [
        "# Creating the model again with another change\n",
        "model = tf.keras.Sequential(\n",
        "    tf.keras.layers.Dense(1)\n",
        ")\n",
        "\n",
        "# Compiling our model\n",
        "model.compile(\n",
        "    loss = tf.keras.losses.mae,\n",
        "    optimizer = tf.keras.optimizers.Adam(lr=0.1),\n",
        "    metrics=[\"mae\"]\n",
        ")\n",
        "\n",
        "# Now fit the model\n",
        "model.fit(tf.expand_dims(x,axis=1),y,epochs=100)"
      ],
      "metadata": {
        "colab": {
          "base_uri": "https://localhost:8080/"
        },
        "id": "yFeDUfGPAdL1",
        "outputId": "87414a26-105d-4cfa-ba77-b3cd70e5ef9b"
      },
      "execution_count": 22,
      "outputs": [
        {
          "output_type": "stream",
          "name": "stdout",
          "text": [
            "Epoch 1/100\n",
            "1/1 [==============================] - 1s 752ms/step - loss: 7.9432 - mae: 7.9432\n",
            "Epoch 2/100\n",
            "1/1 [==============================] - 0s 18ms/step - loss: 7.4932 - mae: 7.4932\n",
            "Epoch 3/100\n",
            "1/1 [==============================] - 0s 15ms/step - loss: 7.3500 - mae: 7.3500\n",
            "Epoch 4/100\n",
            "1/1 [==============================] - 0s 16ms/step - loss: 7.2763 - mae: 7.2763\n",
            "Epoch 5/100\n",
            "1/1 [==============================] - 0s 15ms/step - loss: 7.3549 - mae: 7.3549\n",
            "Epoch 6/100\n",
            "1/1 [==============================] - 0s 10ms/step - loss: 7.3635 - mae: 7.3635\n",
            "Epoch 7/100\n",
            "1/1 [==============================] - 0s 13ms/step - loss: 7.2977 - mae: 7.2977\n",
            "Epoch 8/100\n",
            "1/1 [==============================] - 0s 11ms/step - loss: 7.1808 - mae: 7.1808\n",
            "Epoch 9/100\n",
            "1/1 [==============================] - 0s 12ms/step - loss: 7.0267 - mae: 7.0267\n",
            "Epoch 10/100\n",
            "1/1 [==============================] - 0s 9ms/step - loss: 6.8616 - mae: 6.8616\n",
            "Epoch 11/100\n",
            "1/1 [==============================] - 0s 6ms/step - loss: 6.7932 - mae: 6.7932\n",
            "Epoch 12/100\n",
            "1/1 [==============================] - 0s 13ms/step - loss: 6.7236 - mae: 6.7236\n",
            "Epoch 13/100\n",
            "1/1 [==============================] - 0s 15ms/step - loss: 6.6530 - mae: 6.6530\n",
            "Epoch 14/100\n",
            "1/1 [==============================] - 0s 6ms/step - loss: 6.5815 - mae: 6.5815\n",
            "Epoch 15/100\n",
            "1/1 [==============================] - 0s 6ms/step - loss: 6.5094 - mae: 6.5094\n",
            "Epoch 16/100\n",
            "1/1 [==============================] - 0s 15ms/step - loss: 6.4367 - mae: 6.4367\n",
            "Epoch 17/100\n",
            "1/1 [==============================] - 0s 12ms/step - loss: 6.4127 - mae: 6.4127\n",
            "Epoch 18/100\n",
            "1/1 [==============================] - 0s 9ms/step - loss: 6.3124 - mae: 6.3124\n",
            "Epoch 19/100\n",
            "1/1 [==============================] - 0s 9ms/step - loss: 6.2124 - mae: 6.2124\n",
            "Epoch 20/100\n",
            "1/1 [==============================] - 0s 6ms/step - loss: 6.1363 - mae: 6.1363\n",
            "Epoch 21/100\n",
            "1/1 [==============================] - 0s 8ms/step - loss: 6.0604 - mae: 6.0604\n",
            "Epoch 22/100\n",
            "1/1 [==============================] - 0s 5ms/step - loss: 5.9847 - mae: 5.9847\n",
            "Epoch 23/100\n",
            "1/1 [==============================] - 0s 27ms/step - loss: 5.9091 - mae: 5.9091\n",
            "Epoch 24/100\n",
            "1/1 [==============================] - 0s 9ms/step - loss: 5.8335 - mae: 5.8335\n",
            "Epoch 25/100\n",
            "1/1 [==============================] - 0s 14ms/step - loss: 5.7581 - mae: 5.7581\n",
            "Epoch 26/100\n",
            "1/1 [==============================] - 0s 15ms/step - loss: 5.7219 - mae: 5.7219\n",
            "Epoch 27/100\n",
            "1/1 [==============================] - 0s 16ms/step - loss: 5.6538 - mae: 5.6538\n",
            "Epoch 28/100\n",
            "1/1 [==============================] - 0s 11ms/step - loss: 5.5479 - mae: 5.5479\n",
            "Epoch 29/100\n",
            "1/1 [==============================] - 0s 12ms/step - loss: 5.4675 - mae: 5.4675\n",
            "Epoch 30/100\n",
            "1/1 [==============================] - 0s 13ms/step - loss: 5.3967 - mae: 5.3967\n",
            "Epoch 31/100\n",
            "1/1 [==============================] - 0s 15ms/step - loss: 5.3253 - mae: 5.3253\n",
            "Epoch 32/100\n",
            "1/1 [==============================] - 0s 15ms/step - loss: 5.2534 - mae: 5.2534\n",
            "Epoch 33/100\n",
            "1/1 [==============================] - 0s 12ms/step - loss: 5.1811 - mae: 5.1811\n",
            "Epoch 34/100\n",
            "1/1 [==============================] - 0s 10ms/step - loss: 5.1083 - mae: 5.1083\n",
            "Epoch 35/100\n",
            "1/1 [==============================] - 0s 12ms/step - loss: 5.0353 - mae: 5.0353\n",
            "Epoch 36/100\n",
            "1/1 [==============================] - 0s 11ms/step - loss: 4.9619 - mae: 4.9619\n",
            "Epoch 37/100\n",
            "1/1 [==============================] - 0s 11ms/step - loss: 4.8980 - mae: 4.8980\n",
            "Epoch 38/100\n",
            "1/1 [==============================] - 0s 10ms/step - loss: 4.8126 - mae: 4.8126\n",
            "Epoch 39/100\n",
            "1/1 [==============================] - 0s 35ms/step - loss: 4.7369 - mae: 4.7369\n",
            "Epoch 40/100\n",
            "1/1 [==============================] - 0s 10ms/step - loss: 4.6613 - mae: 4.6613\n",
            "Epoch 41/100\n",
            "1/1 [==============================] - 0s 18ms/step - loss: 4.5857 - mae: 4.5857\n",
            "Epoch 42/100\n",
            "1/1 [==============================] - 0s 31ms/step - loss: 4.5101 - mae: 4.5101\n",
            "Epoch 43/100\n",
            "1/1 [==============================] - 0s 7ms/step - loss: 4.4346 - mae: 4.4346\n",
            "Epoch 44/100\n",
            "1/1 [==============================] - 0s 8ms/step - loss: 4.3590 - mae: 4.3590\n",
            "Epoch 45/100\n",
            "1/1 [==============================] - 0s 16ms/step - loss: 4.2835 - mae: 4.2835\n",
            "Epoch 46/100\n",
            "1/1 [==============================] - 0s 14ms/step - loss: 4.2080 - mae: 4.2080\n",
            "Epoch 47/100\n",
            "1/1 [==============================] - 0s 20ms/step - loss: 4.1422 - mae: 4.1422\n",
            "Epoch 48/100\n",
            "1/1 [==============================] - 0s 10ms/step - loss: 4.0591 - mae: 4.0591\n",
            "Epoch 49/100\n",
            "1/1 [==============================] - 0s 7ms/step - loss: 3.9855 - mae: 3.9855\n",
            "Epoch 50/100\n",
            "1/1 [==============================] - 0s 15ms/step - loss: 3.9117 - mae: 3.9117\n",
            "Epoch 51/100\n",
            "1/1 [==============================] - 0s 17ms/step - loss: 3.8376 - mae: 3.8376\n",
            "Epoch 52/100\n",
            "1/1 [==============================] - 0s 15ms/step - loss: 3.7635 - mae: 3.7635\n",
            "Epoch 53/100\n",
            "1/1 [==============================] - 0s 9ms/step - loss: 3.6891 - mae: 3.6891\n",
            "Epoch 54/100\n",
            "1/1 [==============================] - 0s 19ms/step - loss: 3.6146 - mae: 3.6146\n",
            "Epoch 55/100\n",
            "1/1 [==============================] - 0s 8ms/step - loss: 3.5401 - mae: 3.5401\n",
            "Epoch 56/100\n",
            "1/1 [==============================] - 0s 11ms/step - loss: 3.4654 - mae: 3.4654\n",
            "Epoch 57/100\n",
            "1/1 [==============================] - 0s 10ms/step - loss: 3.3906 - mae: 3.3906\n",
            "Epoch 58/100\n",
            "1/1 [==============================] - 0s 10ms/step - loss: 3.3157 - mae: 3.3157\n",
            "Epoch 59/100\n",
            "1/1 [==============================] - 0s 10ms/step - loss: 3.2504 - mae: 3.2504\n",
            "Epoch 60/100\n",
            "1/1 [==============================] - 0s 19ms/step - loss: 3.1679 - mae: 3.1679\n",
            "Epoch 61/100\n",
            "1/1 [==============================] - 0s 11ms/step - loss: 3.0948 - mae: 3.0948\n",
            "Epoch 62/100\n",
            "1/1 [==============================] - 0s 14ms/step - loss: 3.0213 - mae: 3.0213\n",
            "Epoch 63/100\n",
            "1/1 [==============================] - 0s 17ms/step - loss: 2.9477 - mae: 2.9477\n",
            "Epoch 64/100\n",
            "1/1 [==============================] - 0s 30ms/step - loss: 2.8738 - mae: 2.8738\n",
            "Epoch 65/100\n",
            "1/1 [==============================] - 0s 11ms/step - loss: 2.7997 - mae: 2.7997\n",
            "Epoch 66/100\n",
            "1/1 [==============================] - 0s 10ms/step - loss: 2.7254 - mae: 2.7254\n",
            "Epoch 67/100\n",
            "1/1 [==============================] - 0s 7ms/step - loss: 2.6510 - mae: 2.6510\n",
            "Epoch 68/100\n",
            "1/1 [==============================] - 0s 6ms/step - loss: 2.5764 - mae: 2.5764\n",
            "Epoch 69/100\n",
            "1/1 [==============================] - 0s 29ms/step - loss: 2.5018 - mae: 2.5018\n",
            "Epoch 70/100\n",
            "1/1 [==============================] - 0s 11ms/step - loss: 2.4270 - mae: 2.4270\n",
            "Epoch 71/100\n",
            "1/1 [==============================] - 0s 6ms/step - loss: 2.3521 - mae: 2.3521\n",
            "Epoch 72/100\n",
            "1/1 [==============================] - 0s 7ms/step - loss: 2.2771 - mae: 2.2771\n",
            "Epoch 73/100\n",
            "1/1 [==============================] - 0s 7ms/step - loss: 2.2020 - mae: 2.2020\n",
            "Epoch 74/100\n",
            "1/1 [==============================] - 0s 8ms/step - loss: 2.1269 - mae: 2.1269\n",
            "Epoch 75/100\n",
            "1/1 [==============================] - 0s 21ms/step - loss: 2.0517 - mae: 2.0517\n",
            "Epoch 76/100\n",
            "1/1 [==============================] - 0s 40ms/step - loss: 1.9764 - mae: 1.9764\n",
            "Epoch 77/100\n",
            "1/1 [==============================] - 0s 11ms/step - loss: 1.9011 - mae: 1.9011\n",
            "Epoch 78/100\n",
            "1/1 [==============================] - 0s 11ms/step - loss: 1.8258 - mae: 1.8258\n",
            "Epoch 79/100\n",
            "1/1 [==============================] - 0s 19ms/step - loss: 1.7504 - mae: 1.7504\n",
            "Epoch 80/100\n",
            "1/1 [==============================] - 0s 13ms/step - loss: 1.6750 - mae: 1.6750\n",
            "Epoch 81/100\n",
            "1/1 [==============================] - 0s 24ms/step - loss: 1.5996 - mae: 1.5996\n",
            "Epoch 82/100\n",
            "1/1 [==============================] - 0s 11ms/step - loss: 1.5241 - mae: 1.5241\n",
            "Epoch 83/100\n",
            "1/1 [==============================] - 0s 32ms/step - loss: 1.4506 - mae: 1.4506\n",
            "Epoch 84/100\n",
            "1/1 [==============================] - 0s 22ms/step - loss: 1.3754 - mae: 1.3754\n",
            "Epoch 85/100\n",
            "1/1 [==============================] - 0s 11ms/step - loss: 1.3019 - mae: 1.3019\n",
            "Epoch 86/100\n",
            "1/1 [==============================] - 0s 19ms/step - loss: 1.2412 - mae: 1.2412\n",
            "Epoch 87/100\n",
            "1/1 [==============================] - 0s 17ms/step - loss: 1.1520 - mae: 1.1520\n",
            "Epoch 88/100\n",
            "1/1 [==============================] - 0s 19ms/step - loss: 1.0794 - mae: 1.0794\n",
            "Epoch 89/100\n",
            "1/1 [==============================] - 0s 12ms/step - loss: 1.0022 - mae: 1.0022\n",
            "Epoch 90/100\n",
            "1/1 [==============================] - 0s 15ms/step - loss: 0.9283 - mae: 0.9283\n",
            "Epoch 91/100\n",
            "1/1 [==============================] - 0s 9ms/step - loss: 0.8541 - mae: 0.8541\n",
            "Epoch 92/100\n",
            "1/1 [==============================] - 0s 11ms/step - loss: 0.7798 - mae: 0.7798\n",
            "Epoch 93/100\n",
            "1/1 [==============================] - 0s 10ms/step - loss: 0.7054 - mae: 0.7054\n",
            "Epoch 94/100\n",
            "1/1 [==============================] - 0s 23ms/step - loss: 0.6308 - mae: 0.6308\n",
            "Epoch 95/100\n",
            "1/1 [==============================] - 0s 17ms/step - loss: 0.5562 - mae: 0.5562\n",
            "Epoch 96/100\n",
            "1/1 [==============================] - 0s 15ms/step - loss: 0.4833 - mae: 0.4833\n",
            "Epoch 97/100\n",
            "1/1 [==============================] - 0s 11ms/step - loss: 0.4301 - mae: 0.4301\n",
            "Epoch 98/100\n",
            "1/1 [==============================] - 0s 10ms/step - loss: 0.3337 - mae: 0.3337\n",
            "Epoch 99/100\n",
            "1/1 [==============================] - 0s 40ms/step - loss: 0.2766 - mae: 0.2766\n",
            "Epoch 100/100\n",
            "1/1 [==============================] - 0s 17ms/step - loss: 0.1856 - mae: 0.1856\n"
          ]
        },
        {
          "output_type": "execute_result",
          "data": {
            "text/plain": [
              "<keras.callbacks.History at 0x7f737b694290>"
            ]
          },
          "metadata": {},
          "execution_count": 22
        }
      ]
    },
    {
      "cell_type": "code",
      "source": [
        "model.predict([17.0])"
      ],
      "metadata": {
        "colab": {
          "base_uri": "https://localhost:8080/"
        },
        "id": "7WpC3HUoB4rr",
        "outputId": "d3932037-3c04-41a3-f5a8-e47d77f8f42b"
      },
      "execution_count": 23,
      "outputs": [
        {
          "output_type": "stream",
          "name": "stderr",
          "text": [
            "WARNING:tensorflow:5 out of the last 5 calls to <function Model.make_predict_function.<locals>.predict_function at 0x7f737b66f9e0> triggered tf.function retracing. Tracing is expensive and the excessive number of tracings could be due to (1) creating @tf.function repeatedly in a loop, (2) passing tensors with different shapes, (3) passing Python objects instead of tensors. For (1), please define your @tf.function outside of the loop. For (2), @tf.function has reduce_retracing=True option that can avoid unnecessary retracing. For (3), please refer to https://www.tensorflow.org/guide/function#controlling_retracing and https://www.tensorflow.org/api_docs/python/tf/function for  more details.\n"
          ]
        },
        {
          "output_type": "stream",
          "name": "stdout",
          "text": [
            "1/1 [==============================] - 0s 187ms/step\n"
          ]
        },
        {
          "output_type": "execute_result",
          "data": {
            "text/plain": [
              "array([[26.921104]], dtype=float32)"
            ]
          },
          "metadata": {},
          "execution_count": 23
        }
      ]
    },
    {
      "cell_type": "markdown",
      "source": [
        "## Evaluating Model\n",
        "\n",
        "In practice  a typical work flow you go through is\n",
        "\n",
        "Build amodel -> fit it -> evaluate it -> tweal a model -> fit it -> evaluate it"
      ],
      "metadata": {
        "id": "1cAG8YiACAgb"
      }
    },
    {
      "cell_type": "markdown",
      "source": [
        "When it comes to evaluating there are 3 words you should memorize:\n",
        "   \" Visualize,visualize,visualize\"\n",
        "it's good idea to visualize:\n",
        "   * The data - what data we are working with? What does it look like?\n",
        "   * The model itself - what does our model looks like ?\n",
        "   * The Training of a model - how does a model perfoms while it learns\n",
        "   * The prediction of a model - how do the prediction of a model line up against the ground truth (The orignal labels)?"
      ],
      "metadata": {
        "id": "S-YqIxNgCzAH"
      }
    },
    {
      "cell_type": "code",
      "source": [
        "# Make a biger data set\n",
        "x = tf.range(-100,100,4)\n",
        "x"
      ],
      "metadata": {
        "colab": {
          "base_uri": "https://localhost:8080/"
        },
        "id": "7cfQfGLeELNj",
        "outputId": "a20210e7-ae8e-4672-d02b-56696fd91701"
      },
      "execution_count": 24,
      "outputs": [
        {
          "output_type": "execute_result",
          "data": {
            "text/plain": [
              "<tf.Tensor: shape=(50,), dtype=int32, numpy=\n",
              "array([-100,  -96,  -92,  -88,  -84,  -80,  -76,  -72,  -68,  -64,  -60,\n",
              "        -56,  -52,  -48,  -44,  -40,  -36,  -32,  -28,  -24,  -20,  -16,\n",
              "        -12,   -8,   -4,    0,    4,    8,   12,   16,   20,   24,   28,\n",
              "         32,   36,   40,   44,   48,   52,   56,   60,   64,   68,   72,\n",
              "         76,   80,   84,   88,   92,   96], dtype=int32)>"
            ]
          },
          "metadata": {},
          "execution_count": 24
        }
      ]
    },
    {
      "cell_type": "code",
      "source": [
        "y=x+10\n",
        "y"
      ],
      "metadata": {
        "colab": {
          "base_uri": "https://localhost:8080/"
        },
        "id": "5QfbUghxEVUQ",
        "outputId": "5e36adee-9fdc-4b94-fcf4-3c57ede7f5d4"
      },
      "execution_count": 25,
      "outputs": [
        {
          "output_type": "execute_result",
          "data": {
            "text/plain": [
              "<tf.Tensor: shape=(50,), dtype=int32, numpy=\n",
              "array([-90, -86, -82, -78, -74, -70, -66, -62, -58, -54, -50, -46, -42,\n",
              "       -38, -34, -30, -26, -22, -18, -14, -10,  -6,  -2,   2,   6,  10,\n",
              "        14,  18,  22,  26,  30,  34,  38,  42,  46,  50,  54,  58,  62,\n",
              "        66,  70,  74,  78,  82,  86,  90,  94,  98, 102, 106], dtype=int32)>"
            ]
          },
          "metadata": {},
          "execution_count": 25
        }
      ]
    },
    {
      "cell_type": "code",
      "source": [
        "# Visualize the data \n",
        "plt.scatter(x,y);"
      ],
      "metadata": {
        "colab": {
          "base_uri": "https://localhost:8080/",
          "height": 265
        },
        "id": "C3NEQPjLEa3A",
        "outputId": "14178dc9-1f04-4b1b-e96d-edec557e00d7"
      },
      "execution_count": 26,
      "outputs": [
        {
          "output_type": "display_data",
          "data": {
            "text/plain": [
              "<Figure size 432x288 with 1 Axes>"
            ],
            "image/png": "[encoded data removed]"
          },
          "metadata": {
            "needs_background": "light"
          }
        }
      ]
    },
    {
      "cell_type": "markdown",
      "source": [
        "### The 3 sets ....\n",
        "\n",
        "* Training set - the model learns from this data and it is typicaly 70-80 percent of data.\n",
        "* Validation set - the model gets tunned on this data which is typically 10 to 15 % of total data\n",
        "* Test set - The model is evaluated usingf this data"
      ],
      "metadata": {
        "id": "EarLzXIvEn1F"
      }
    },
    {
      "cell_type": "code",
      "source": [
        "# Check the leanght of how many samples we have\n",
        "len(x)"
      ],
      "metadata": {
        "colab": {
          "base_uri": "https://localhost:8080/"
        },
        "id": "co6JE1THFvv0",
        "outputId": "c8b93edb-0302-4ad8-ca09-62fe7b8ca23e"
      },
      "execution_count": 27,
      "outputs": [
        {
          "output_type": "execute_result",
          "data": {
            "text/plain": [
              "50"
            ]
          },
          "metadata": {},
          "execution_count": 27
        }
      ]
    },
    {
      "cell_type": "code",
      "source": [
        "# Split the data into train and test sets\n",
        "x_train = x[:40] \n",
        "y_train = y[:40]\n",
        "x_test = x[40:]\n",
        "y_test = y[40:]\n",
        "len(x_train),len(x_test),len(y_train),len(y_test)"
      ],
      "metadata": {
        "colab": {
          "base_uri": "https://localhost:8080/"
        },
        "id": "kKECIR_wF3Tf",
        "outputId": "2819d533-f873-43f2-b538-d4828c7a2949"
      },
      "execution_count": 28,
      "outputs": [
        {
          "output_type": "execute_result",
          "data": {
            "text/plain": [
              "(40, 10, 40, 10)"
            ]
          },
          "metadata": {},
          "execution_count": 28
        }
      ]
    },
    {
      "cell_type": "markdown",
      "source": [
        "### Visualizing our data\n",
        "Now lets visualize the sets"
      ],
      "metadata": {
        "id": "SSSGRIieF_NM"
      }
    },
    {
      "cell_type": "code",
      "source": [
        "plt.figure(figsize=(10,7))\n",
        "# Plot training data in blue\n",
        "plt.scatter(x_train,y_train,c=\"b\",label=\"Training Data\")\n",
        "plt.scatter(x_test,y_test,c=\"g\",label=\"Testing Data\")\n",
        "plt.legend()\n",
        "plt.show()"
      ],
      "metadata": {
        "colab": {
          "base_uri": "https://localhost:8080/",
          "height": 428
        },
        "id": "G31eJkLrGuzY",
        "outputId": "c8e671ef-68dc-41c2-b3d1-af39d1fa3915"
      },
      "execution_count": 29,
      "outputs": [
        {
          "output_type": "display_data",
          "data": {
            "text/plain": [
              "<Figure size 720x504 with 1 Axes>"
            ],
            "image/png": "[encoded data removed]"
          },
          "metadata": {
            "needs_background": "light"
          }
        }
      ]
    },
    {
      "cell_type": "code",
      "source": [
        "# Lets have a look at how to build a neural network for our data\n",
        "\n",
        "# 1. Create a model \n",
        "model = tf.keras.Sequential([\n",
        "    tf.keras.layers.Dense(1)\n",
        "])\n",
        "model.compile(\n",
        "    loss=tf.keras.losses.mae,\n",
        "    optimizer = tf.keras.optimizers.SGD(),\n",
        "    metrics = [\"mae\"]\n",
        ")\n",
        "# 3. Fit the model\n",
        "# model.fit(x_train,y_train,epochs=100)"
      ],
      "metadata": {
        "id": "XM1qBt1tHOF4"
      },
      "execution_count": 30,
      "outputs": []
    },
    {
      "cell_type": "markdown",
      "source": [
        "### Visualizing the model"
      ],
      "metadata": {
        "id": "b55T_tjKJjRo"
      }
    },
    {
      "cell_type": "code",
      "source": [
        "# Lets create a model that builds automatically by defining the input shape\n",
        "tf.random.set_seed(42)\n",
        "\n",
        "model = tf.keras.Sequential([\n",
        "    tf.keras.layers.Dense(10,input_shape=[1],name=\"input_layer\"),\n",
        "    tf.keras.layers.Dense(1,input_shape=[10],name=\"output_layer\")\n",
        "],name=\"One_of_many_models_we_are_going_to_create\")\n",
        "# 2 compile a model\n",
        "model.compile(loss=tf.keras.losses.mae,\n",
        "              optimizer=tf.keras.optimizers.SGD(),\n",
        "              metrics=[\"mae\"])"
      ],
      "metadata": {
        "id": "awFT2yJnJqBf"
      },
      "execution_count": 31,
      "outputs": []
    },
    {
      "cell_type": "code",
      "source": [
        "model.summary()"
      ],
      "metadata": {
        "colab": {
          "base_uri": "https://localhost:8080/"
        },
        "id": "XPaBPTrKKp7B",
        "outputId": "245ad985-ac5b-4aa5-9150-b1c14069ecf6"
      },
      "execution_count": 32,
      "outputs": [
        {
          "output_type": "stream",
          "name": "stdout",
          "text": [
            "Model: \"One_of_many_models_we_are_going_to_create\"\n",
            "_________________________________________________________________\n",
            " Layer (type)                Output Shape              Param #   \n",
            "=================================================================\n",
            " input_layer (Dense)         (None, 10)                20        \n",
            "                                                                 \n",
            " output_layer (Dense)        (None, 1)                 11        \n",
            "                                                                 \n",
            "=================================================================\n",
            "Total params: 31\n",
            "Trainable params: 31\n",
            "Non-trainable params: 0\n",
            "_________________________________________________________________\n"
          ]
        }
      ]
    },
    {
      "cell_type": "markdown",
      "source": [
        "* Total parameters our model is going to learn\n",
        "* Trainable Pramater 2 means all the parameters in the model are trainable\n",
        "* Non-Trainable prams these parameters are not trainable "
      ],
      "metadata": {
        "id": "iu3kij3aKwfX"
      }
    },
    {
      "cell_type": "code",
      "source": [
        "# Lets fit our model to the trianing data\n",
        "model.fit(x_train,y_train,epochs=100,verbose=0)"
      ],
      "metadata": {
        "colab": {
          "base_uri": "https://localhost:8080/"
        },
        "id": "6vp_QYYfLIUV",
        "outputId": "62f91e8a-934b-4600-de3e-d22a650b8b70"
      },
      "execution_count": 33,
      "outputs": [
        {
          "output_type": "execute_result",
          "data": {
            "text/plain": [
              "<keras.callbacks.History at 0x7f737becaf90>"
            ]
          },
          "metadata": {},
          "execution_count": 33
        }
      ]
    },
    {
      "cell_type": "code",
      "source": [
        "model.predict([17.0])"
      ],
      "metadata": {
        "colab": {
          "base_uri": "https://localhost:8080/"
        },
        "id": "20af_B-mFy1_",
        "outputId": "5d61e381-6084-4080-e7bf-e7ed96ff3ca5"
      },
      "execution_count": 34,
      "outputs": [
        {
          "output_type": "stream",
          "name": "stderr",
          "text": [
            "WARNING:tensorflow:6 out of the last 6 calls to <function Model.make_predict_function.<locals>.predict_function at 0x7f737bfe8710> triggered tf.function retracing. Tracing is expensive and the excessive number of tracings could be due to (1) creating @tf.function repeatedly in a loop, (2) passing tensors with different shapes, (3) passing Python objects instead of tensors. For (1), please define your @tf.function outside of the loop. For (2), @tf.function has reduce_retracing=True option that can avoid unnecessary retracing. For (3), please refer to https://www.tensorflow.org/guide/function#controlling_retracing and https://www.tensorflow.org/api_docs/python/tf/function for  more details.\n"
          ]
        },
        {
          "output_type": "stream",
          "name": "stdout",
          "text": [
            "1/1 [==============================] - 0s 88ms/step\n"
          ]
        },
        {
          "output_type": "execute_result",
          "data": {
            "text/plain": [
              "array([[21.23416]], dtype=float32)"
            ]
          },
          "metadata": {},
          "execution_count": 34
        }
      ]
    },
    {
      "cell_type": "code",
      "source": [
        "import numpy as np\n",
        "a=np.array([1,2,2])"
      ],
      "metadata": {
        "id": "187RzX5gMs-J"
      },
      "execution_count": 35,
      "outputs": []
    },
    {
      "cell_type": "code",
      "source": [
        "a.ndim"
      ],
      "metadata": {
        "colab": {
          "base_uri": "https://localhost:8080/"
        },
        "id": "VnTM8F0SeGCf",
        "outputId": "6aca69ed-16ec-495e-ba5e-3ae1ed2ce7e5"
      },
      "execution_count": 36,
      "outputs": [
        {
          "output_type": "execute_result",
          "data": {
            "text/plain": [
              "1"
            ]
          },
          "metadata": {},
          "execution_count": 36
        }
      ]
    },
    {
      "cell_type": "code",
      "source": [
        "# Call a summary of opur model\n",
        "model.summary()"
      ],
      "metadata": {
        "colab": {
          "base_uri": "https://localhost:8080/"
        },
        "id": "1pVxbvIaeIHt",
        "outputId": "3903758e-a7f7-477f-999e-fc9279a94038"
      },
      "execution_count": 37,
      "outputs": [
        {
          "output_type": "stream",
          "name": "stdout",
          "text": [
            "Model: \"One_of_many_models_we_are_going_to_create\"\n",
            "_________________________________________________________________\n",
            " Layer (type)                Output Shape              Param #   \n",
            "=================================================================\n",
            " input_layer (Dense)         (None, 10)                20        \n",
            "                                                                 \n",
            " output_layer (Dense)        (None, 1)                 11        \n",
            "                                                                 \n",
            "=================================================================\n",
            "Total params: 31\n",
            "Trainable params: 31\n",
            "Non-trainable params: 0\n",
            "_________________________________________________________________\n"
          ]
        }
      ]
    },
    {
      "cell_type": "code",
      "source": [
        "from tensorflow.keras.utils import plot_model"
      ],
      "metadata": {
        "id": "alFmK1M-EoC9"
      },
      "execution_count": 38,
      "outputs": []
    },
    {
      "cell_type": "code",
      "source": [
        "plot_model(model=model,show_shapes=True)"
      ],
      "metadata": {
        "colab": {
          "base_uri": "https://localhost:8080/",
          "height": 312
        },
        "id": "8KVWX43eFQ_j",
        "outputId": "3a606c90-749e-4b8d-da4b-2458bdd6959c"
      },
      "execution_count": 39,
      "outputs": [
        {
          "output_type": "execute_result",
          "data": {
            "image/png": "[encoded data removed]",
            "text/plain": [
              "<IPython.core.display.Image object>"
            ]
          },
          "metadata": {},
          "execution_count": 39
        }
      ]
    },
    {
      "cell_type": "markdown",
      "source": [
        "### Visualizing our model predictions\n",
        "To visualze predictions it is good to plot them against ground trith values"
      ],
      "metadata": {
        "id": "BdM6jFvXFWOX"
      }
    },
    {
      "cell_type": "code",
      "source": [
        "# Make some predictions\n",
        "y_preds = model.predict(x_test)\n",
        "y_preds"
      ],
      "metadata": {
        "colab": {
          "base_uri": "https://localhost:8080/"
        },
        "id": "yDrqo5sIIJSs",
        "outputId": "fb25b57f-ea6d-45d0-92c2-40343ffeeaf4"
      },
      "execution_count": 40,
      "outputs": [
        {
          "output_type": "stream",
          "name": "stdout",
          "text": [
            "1/1 [==============================] - 0s 71ms/step\n"
          ]
        },
        {
          "output_type": "execute_result",
          "data": {
            "text/plain": [
              "array([[ 70.552185],\n",
              "       [ 75.13991 ],\n",
              "       [ 79.72764 ],\n",
              "       [ 84.315346],\n",
              "       [ 88.90308 ],\n",
              "       [ 93.49081 ],\n",
              "       [ 98.07852 ],\n",
              "       [102.666245],\n",
              "       [107.253975],\n",
              "       [111.84169 ]], dtype=float32)"
            ]
          },
          "metadata": {},
          "execution_count": 40
        }
      ]
    },
    {
      "cell_type": "code",
      "source": [
        "y_test"
      ],
      "metadata": {
        "colab": {
          "base_uri": "https://localhost:8080/"
        },
        "id": "VURJT1grIraS",
        "outputId": "7b77f441-b2ca-45fa-c28e-816eb3b333b4"
      },
      "execution_count": 41,
      "outputs": [
        {
          "output_type": "execute_result",
          "data": {
            "text/plain": [
              "<tf.Tensor: shape=(10,), dtype=int32, numpy=array([ 70,  74,  78,  82,  86,  90,  94,  98, 102, 106], dtype=int32)>"
            ]
          },
          "metadata": {},
          "execution_count": 41
        }
      ]
    },
    {
      "cell_type": "code",
      "source": [
        "# Lets create a plotting function\n",
        "\n",
        "def plot_predictions(train_data = x_train,\n",
        "                     train_labels=y_train,\n",
        "                     test_data=x_test,\n",
        "                     test_labels=y_test,\n",
        "                     predictions=y_preds):\n",
        "  plt.figure(figsize=(10,7))\n",
        "  # Plot training data in blue \n",
        "  plt.scatter(train_data,train_labels,c=\"b\",label=\"Training Data\")\n",
        "  # plot testing data in green\n",
        "  plt.scatter(test_data,test_labels,c=\"g\",label=\"Testig Data\")\n",
        "  # Plot model pridiction in red\n",
        "  plt.scatter(test_data,predictions,c=\"r\",label=\"Predictions\")\n",
        "  plt.legend()"
      ],
      "metadata": {
        "id": "S84vv-ztIwlz"
      },
      "execution_count": 42,
      "outputs": []
    },
    {
      "cell_type": "code",
      "source": [
        "plot_predictions()"
      ],
      "metadata": {
        "colab": {
          "base_uri": "https://localhost:8080/",
          "height": 428
        },
        "id": "DzGZZVfBKssL",
        "outputId": "edf35d8f-1ab7-4bb5-a4f7-6aae8b1c6e0d"
      },
      "execution_count": 43,
      "outputs": [
        {
          "output_type": "display_data",
          "data": {
            "text/plain": [
              "<Figure size 720x504 with 1 Axes>"
            ],
            "image/png": "[encoded data removed]"
          },
          "metadata": {
            "needs_background": "light"
          }
        }
      ]
    },
    {
      "cell_type": "markdown",
      "source": [
        "### Evaluating our model prediction with regression evaluation metrics\n",
        "\n",
        "Depending on the problem you are working on there will be different evaluation model to evaluate your models however the most common ones are \n",
        "* MAE How wrong our predictions are on average\n",
        "* MSE When larger errors are more significant than   smaller errors\n",
        "* HUBER"
      ],
      "metadata": {
        "id": "pc8cK_C1KyKz"
      }
    },
    {
      "cell_type": "code",
      "source": [
        "# Evaluate the model\n",
        "model.evaluate(x_test,y_test)"
      ],
      "metadata": {
        "colab": {
          "base_uri": "https://localhost:8080/"
        },
        "id": "GYd26T0eLPbS",
        "outputId": "9d497e2b-22d5-4ce9-81b4-20466c5ff028"
      },
      "execution_count": 44,
      "outputs": [
        {
          "output_type": "stream",
          "name": "stdout",
          "text": [
            "1/1 [==============================] - 0s 368ms/step - loss: 3.1969 - mae: 3.1969\n"
          ]
        },
        {
          "output_type": "execute_result",
          "data": {
            "text/plain": [
              "[3.1969382762908936, 3.1969382762908936]"
            ]
          },
          "metadata": {},
          "execution_count": 44
        }
      ]
    },
    {
      "cell_type": "code",
      "source": [
        "# Calculate mean absolute error\n",
        "tf.keras.losses.MAE(y_test,y_preds)"
      ],
      "metadata": {
        "colab": {
          "base_uri": "https://localhost:8080/"
        },
        "id": "hQM_djKbNHAL",
        "outputId": "1a0d6397-dde1-4e2e-f0ac-dc1950c53d59"
      },
      "execution_count": 45,
      "outputs": [
        {
          "output_type": "execute_result",
          "data": {
            "text/plain": [
              "<tf.Tensor: shape=(10,), dtype=float32, numpy=\n",
              "array([17.558252 , 14.1160555, 11.708944 , 10.336931 , 10.       ,\n",
              "       10.698161 , 12.447113 , 15.332995 , 19.253975 , 23.84169  ],\n",
              "      dtype=float32)>"
            ]
          },
          "metadata": {},
          "execution_count": 45
        }
      ]
    },
    {
      "cell_type": "code",
      "source": [
        "y_preds.shape"
      ],
      "metadata": {
        "colab": {
          "base_uri": "https://localhost:8080/"
        },
        "id": "ZxbRDsY2M0r6",
        "outputId": "c75aa79a-1ad2-4007-da47-198f633e3f0b"
      },
      "execution_count": 46,
      "outputs": [
        {
          "output_type": "execute_result",
          "data": {
            "text/plain": [
              "(10, 1)"
            ]
          },
          "metadata": {},
          "execution_count": 46
        }
      ]
    },
    {
      "cell_type": "code",
      "source": [
        "y_test.shape"
      ],
      "metadata": {
        "colab": {
          "base_uri": "https://localhost:8080/"
        },
        "id": "VYKHxgXoNEUJ",
        "outputId": "c021d33d-861b-4fd3-9131-753f7e3c5988"
      },
      "execution_count": 47,
      "outputs": [
        {
          "output_type": "execute_result",
          "data": {
            "text/plain": [
              "TensorShape([10])"
            ]
          },
          "metadata": {},
          "execution_count": 47
        }
      ]
    },
    {
      "cell_type": "code",
      "source": [
        "mae=tf.metrics.mean_absolute_error(y_true=y_test,y_pred=tf.squeeze(y_preds))\n",
        "mae"
      ],
      "metadata": {
        "colab": {
          "base_uri": "https://localhost:8080/"
        },
        "id": "QLXMvEtZNFjK",
        "outputId": "dcf95dcf-4b55-42ca-85b2-a275c7250677"
      },
      "execution_count": 48,
      "outputs": [
        {
          "output_type": "execute_result",
          "data": {
            "text/plain": [
              "<tf.Tensor: shape=(), dtype=float32, numpy=3.19694>"
            ]
          },
          "metadata": {},
          "execution_count": 48
        }
      ]
    },
    {
      "cell_type": "code",
      "source": [
        "# Calculate the mean squared error\n",
        "tf.metrics.mean_squared_error(y_true=y_test,y_pred=tf.squeeze(y_preds))"
      ],
      "metadata": {
        "colab": {
          "base_uri": "https://localhost:8080/"
        },
        "id": "c4voRZb9PsdB",
        "outputId": "0b89b347-fccb-4cf2-a5d5-19921d9cb252"
      },
      "execution_count": 49,
      "outputs": [
        {
          "output_type": "execute_result",
          "data": {
            "text/plain": [
              "<tf.Tensor: shape=(), dtype=float32, numpy=13.070127>"
            ]
          },
          "metadata": {},
          "execution_count": 49
        }
      ]
    },
    {
      "cell_type": "code",
      "source": [
        "from numpy.core.fromnumeric import squeeze\n",
        "# Make some functions to reuse MAE and MSE\n",
        "def mae(y_true,y_preds):\n",
        "  return(tf.metrics.mean_absolute_error(y_test,tf.squeeze(y_preds)))\n",
        "def mse(y_true,y_preds):\n",
        "  return(tf.metrics.mean_squared_error(y_test,tf.squeeze(y_preds)))\n"
      ],
      "metadata": {
        "id": "wtLhMsjKP6-w"
      },
      "execution_count": 50,
      "outputs": []
    },
    {
      "cell_type": "markdown",
      "source": [
        "### Runnig Experiments to improve our model\n",
        "1. Get more data\n",
        "2. Make your model larger (using a more complex models)\n",
        "3. Train for longer give youyr model more time to find patterns in the data\n",
        "\n",
        "Lets do 3 modeling experiments\n",
        "\n",
        "1. model_1 same as the original model\n",
        "2. modle_2 2 layers trained for 100 epochs\n",
        "3. model_3 3 layers trained for 500 epochs"
      ],
      "metadata": {
        "id": "VPuhLkUSSFzX"
      }
    },
    {
      "cell_type": "code",
      "source": [
        "x_train,y_train"
      ],
      "metadata": {
        "colab": {
          "base_uri": "https://localhost:8080/"
        },
        "id": "qe3tRLrHSO8Y",
        "outputId": "8333ae52-22b7-4b21-fccc-be6690e09225"
      },
      "execution_count": 51,
      "outputs": [
        {
          "output_type": "execute_result",
          "data": {
            "text/plain": [
              "(<tf.Tensor: shape=(40,), dtype=int32, numpy=\n",
              " array([-100,  -96,  -92,  -88,  -84,  -80,  -76,  -72,  -68,  -64,  -60,\n",
              "         -56,  -52,  -48,  -44,  -40,  -36,  -32,  -28,  -24,  -20,  -16,\n",
              "         -12,   -8,   -4,    0,    4,    8,   12,   16,   20,   24,   28,\n",
              "          32,   36,   40,   44,   48,   52,   56], dtype=int32)>,\n",
              " <tf.Tensor: shape=(40,), dtype=int32, numpy=\n",
              " array([-90, -86, -82, -78, -74, -70, -66, -62, -58, -54, -50, -46, -42,\n",
              "        -38, -34, -30, -26, -22, -18, -14, -10,  -6,  -2,   2,   6,  10,\n",
              "         14,  18,  22,  26,  30,  34,  38,  42,  46,  50,  54,  58,  62,\n",
              "         66], dtype=int32)>)"
            ]
          },
          "metadata": {},
          "execution_count": 51
        }
      ]
    },
    {
      "cell_type": "markdown",
      "source": [
        "**Build model_1**"
      ],
      "metadata": {
        "id": "A3uwJkrTS0MI"
      }
    },
    {
      "cell_type": "code",
      "source": [
        "x_train,y_train"
      ],
      "metadata": {
        "colab": {
          "base_uri": "https://localhost:8080/"
        },
        "id": "QYNwdL6aUXMG",
        "outputId": "334b443f-fdb8-4fd2-dced-35b4380818b9"
      },
      "execution_count": 52,
      "outputs": [
        {
          "output_type": "execute_result",
          "data": {
            "text/plain": [
              "(<tf.Tensor: shape=(40,), dtype=int32, numpy=\n",
              " array([-100,  -96,  -92,  -88,  -84,  -80,  -76,  -72,  -68,  -64,  -60,\n",
              "         -56,  -52,  -48,  -44,  -40,  -36,  -32,  -28,  -24,  -20,  -16,\n",
              "         -12,   -8,   -4,    0,    4,    8,   12,   16,   20,   24,   28,\n",
              "          32,   36,   40,   44,   48,   52,   56], dtype=int32)>,\n",
              " <tf.Tensor: shape=(40,), dtype=int32, numpy=\n",
              " array([-90, -86, -82, -78, -74, -70, -66, -62, -58, -54, -50, -46, -42,\n",
              "        -38, -34, -30, -26, -22, -18, -14, -10,  -6,  -2,   2,   6,  10,\n",
              "         14,  18,  22,  26,  30,  34,  38,  42,  46,  50,  54,  58,  62,\n",
              "         66], dtype=int32)>)"
            ]
          },
          "metadata": {},
          "execution_count": 52
        }
      ]
    },
    {
      "cell_type": "code",
      "source": [
        "tf.random.set_seed(42)\n",
        "\n",
        "model_1 = tf.keras.Sequential([\n",
        "    tf.keras.layers.Dense(1)\n",
        "])\n",
        "\n",
        "model_1.compile(\n",
        "    loss = tf.keras.losses.mae,\n",
        "    optimizer=tf.keras.optimizers.SGD(),\n",
        "    metrics=[\"mae\"]\n",
        ")\n",
        "\n",
        "model_1.fit(tf.expand_dims(x_train,axis=1),tf.expand_dims(y_train,axis=1),epochs=100)"
      ],
      "metadata": {
        "colab": {
          "base_uri": "https://localhost:8080/"
        },
        "id": "qc08uV5qTUgR",
        "outputId": "49e640ea-903b-4a3d-c816-53ef8a809bd0"
      },
      "execution_count": 53,
      "outputs": [
        {
          "output_type": "stream",
          "name": "stdout",
          "text": [
            "Epoch 1/100\n",
            "2/2 [==============================] - 1s 9ms/step - loss: 15.9024 - mae: 15.9024\n",
            "Epoch 2/100\n",
            "2/2 [==============================] - 0s 4ms/step - loss: 11.2837 - mae: 11.2837\n",
            "Epoch 3/100\n",
            "2/2 [==============================] - 0s 8ms/step - loss: 11.1075 - mae: 11.1075\n",
            "Epoch 4/100\n",
            "2/2 [==============================] - 0s 6ms/step - loss: 9.2990 - mae: 9.2990\n",
            "Epoch 5/100\n",
            "2/2 [==============================] - 0s 7ms/step - loss: 10.1677 - mae: 10.1677\n",
            "Epoch 6/100\n",
            "2/2 [==============================] - 0s 8ms/step - loss: 9.4303 - mae: 9.4303\n",
            "Epoch 7/100\n",
            "2/2 [==============================] - 0s 5ms/step - loss: 8.5704 - mae: 8.5704\n",
            "Epoch 8/100\n",
            "2/2 [==============================] - 0s 5ms/step - loss: 9.0442 - mae: 9.0442\n",
            "Epoch 9/100\n",
            "2/2 [==============================] - 0s 4ms/step - loss: 18.7517 - mae: 18.7517\n",
            "Epoch 10/100\n",
            "2/2 [==============================] - 0s 6ms/step - loss: 10.1142 - mae: 10.1142\n",
            "Epoch 11/100\n",
            "2/2 [==============================] - 0s 5ms/step - loss: 8.3980 - mae: 8.3980\n",
            "Epoch 12/100\n",
            "2/2 [==============================] - 0s 4ms/step - loss: 10.6639 - mae: 10.6639\n",
            "Epoch 13/100\n",
            "2/2 [==============================] - 0s 8ms/step - loss: 9.7977 - mae: 9.7977\n",
            "Epoch 14/100\n",
            "2/2 [==============================] - 0s 13ms/step - loss: 16.0103 - mae: 16.0103\n",
            "Epoch 15/100\n",
            "2/2 [==============================] - 0s 6ms/step - loss: 11.4068 - mae: 11.4068\n",
            "Epoch 16/100\n",
            "2/2 [==============================] - 0s 4ms/step - loss: 8.5393 - mae: 8.5393\n",
            "Epoch 17/100\n",
            "2/2 [==============================] - 0s 5ms/step - loss: 13.6348 - mae: 13.6348\n",
            "Epoch 18/100\n",
            "2/2 [==============================] - 0s 10ms/step - loss: 11.4629 - mae: 11.4629\n",
            "Epoch 19/100\n",
            "2/2 [==============================] - 0s 8ms/step - loss: 17.9148 - mae: 17.9148\n",
            "Epoch 20/100\n",
            "2/2 [==============================] - 0s 6ms/step - loss: 15.0494 - mae: 15.0494\n",
            "Epoch 21/100\n",
            "2/2 [==============================] - 0s 6ms/step - loss: 11.0216 - mae: 11.0216\n",
            "Epoch 22/100\n",
            "2/2 [==============================] - 0s 5ms/step - loss: 8.1558 - mae: 8.1558\n",
            "Epoch 23/100\n",
            "2/2 [==============================] - 0s 6ms/step - loss: 9.5138 - mae: 9.5138\n",
            "Epoch 24/100\n",
            "2/2 [==============================] - 0s 7ms/step - loss: 7.6617 - mae: 7.6617\n",
            "Epoch 25/100\n",
            "2/2 [==============================] - 0s 4ms/step - loss: 13.1859 - mae: 13.1859\n",
            "Epoch 26/100\n",
            "2/2 [==============================] - 0s 7ms/step - loss: 16.4211 - mae: 16.4211\n",
            "Epoch 27/100\n",
            "2/2 [==============================] - 0s 7ms/step - loss: 13.1660 - mae: 13.1660\n",
            "Epoch 28/100\n",
            "2/2 [==============================] - 0s 16ms/step - loss: 14.2559 - mae: 14.2559\n",
            "Epoch 29/100\n",
            "2/2 [==============================] - 0s 12ms/step - loss: 10.0670 - mae: 10.0670\n",
            "Epoch 30/100\n",
            "2/2 [==============================] - 0s 5ms/step - loss: 16.3409 - mae: 16.3409\n",
            "Epoch 31/100\n",
            "2/2 [==============================] - 0s 5ms/step - loss: 23.6444 - mae: 23.6444\n",
            "Epoch 32/100\n",
            "2/2 [==============================] - 0s 8ms/step - loss: 7.6215 - mae: 7.6215\n",
            "Epoch 33/100\n",
            "2/2 [==============================] - 0s 10ms/step - loss: 9.3221 - mae: 9.3221\n",
            "Epoch 34/100\n",
            "2/2 [==============================] - 0s 5ms/step - loss: 13.7313 - mae: 13.7313\n",
            "Epoch 35/100\n",
            "2/2 [==============================] - 0s 5ms/step - loss: 11.1276 - mae: 11.1276\n",
            "Epoch 36/100\n",
            "2/2 [==============================] - 0s 6ms/step - loss: 13.3222 - mae: 13.3222\n",
            "Epoch 37/100\n",
            "2/2 [==============================] - 0s 7ms/step - loss: 9.4763 - mae: 9.4763\n",
            "Epoch 38/100\n",
            "2/2 [==============================] - 0s 5ms/step - loss: 10.1381 - mae: 10.1381\n",
            "Epoch 39/100\n",
            "2/2 [==============================] - 0s 5ms/step - loss: 10.1793 - mae: 10.1793\n",
            "Epoch 40/100\n",
            "2/2 [==============================] - 0s 14ms/step - loss: 10.9137 - mae: 10.9137\n",
            "Epoch 41/100\n",
            "2/2 [==============================] - 0s 6ms/step - loss: 7.9063 - mae: 7.9063\n",
            "Epoch 42/100\n",
            "2/2 [==============================] - 0s 6ms/step - loss: 10.0914 - mae: 10.0914\n",
            "Epoch 43/100\n",
            "2/2 [==============================] - 0s 23ms/step - loss: 8.7006 - mae: 8.7006\n",
            "Epoch 44/100\n",
            "2/2 [==============================] - 0s 15ms/step - loss: 12.2046 - mae: 12.2046\n",
            "Epoch 45/100\n",
            "2/2 [==============================] - 0s 9ms/step - loss: 13.7970 - mae: 13.7970\n",
            "Epoch 46/100\n",
            "2/2 [==============================] - 0s 4ms/step - loss: 8.4687 - mae: 8.4687\n",
            "Epoch 47/100\n",
            "2/2 [==============================] - 0s 5ms/step - loss: 9.1330 - mae: 9.1330\n",
            "Epoch 48/100\n",
            "2/2 [==============================] - 0s 9ms/step - loss: 10.6190 - mae: 10.6190\n",
            "Epoch 49/100\n",
            "2/2 [==============================] - 0s 14ms/step - loss: 7.7503 - mae: 7.7503\n",
            "Epoch 50/100\n",
            "2/2 [==============================] - 0s 5ms/step - loss: 9.5407 - mae: 9.5407\n",
            "Epoch 51/100\n",
            "2/2 [==============================] - 0s 5ms/step - loss: 9.1584 - mae: 9.1584\n",
            "Epoch 52/100\n",
            "2/2 [==============================] - 0s 4ms/step - loss: 16.3630 - mae: 16.3630\n",
            "Epoch 53/100\n",
            "2/2 [==============================] - 0s 8ms/step - loss: 14.1299 - mae: 14.1299\n",
            "Epoch 54/100\n",
            "2/2 [==============================] - 0s 5ms/step - loss: 21.1247 - mae: 21.1247\n",
            "Epoch 55/100\n",
            "2/2 [==============================] - 0s 5ms/step - loss: 16.3961 - mae: 16.3961\n",
            "Epoch 56/100\n",
            "2/2 [==============================] - 0s 5ms/step - loss: 9.9806 - mae: 9.9806\n",
            "Epoch 57/100\n",
            "2/2 [==============================] - 0s 5ms/step - loss: 9.9606 - mae: 9.9606\n",
            "Epoch 58/100\n",
            "2/2 [==============================] - 0s 6ms/step - loss: 9.2209 - mae: 9.2209\n",
            "Epoch 59/100\n",
            "2/2 [==============================] - 0s 10ms/step - loss: 8.4239 - mae: 8.4239\n",
            "Epoch 60/100\n",
            "2/2 [==============================] - 0s 6ms/step - loss: 9.4869 - mae: 9.4869\n",
            "Epoch 61/100\n",
            "2/2 [==============================] - 0s 9ms/step - loss: 11.4354 - mae: 11.4354\n",
            "Epoch 62/100\n",
            "2/2 [==============================] - 0s 4ms/step - loss: 11.6887 - mae: 11.6887\n",
            "Epoch 63/100\n",
            "2/2 [==============================] - 0s 6ms/step - loss: 7.0838 - mae: 7.0838\n",
            "Epoch 64/100\n",
            "2/2 [==============================] - 0s 13ms/step - loss: 16.9675 - mae: 16.9675\n",
            "Epoch 65/100\n",
            "2/2 [==============================] - 0s 5ms/step - loss: 12.4599 - mae: 12.4599\n",
            "Epoch 66/100\n",
            "2/2 [==============================] - 0s 7ms/step - loss: 13.0184 - mae: 13.0184\n",
            "Epoch 67/100\n",
            "2/2 [==============================] - 0s 15ms/step - loss: 8.0600 - mae: 8.0600\n",
            "Epoch 68/100\n",
            "2/2 [==============================] - 0s 8ms/step - loss: 10.1888 - mae: 10.1888\n",
            "Epoch 69/100\n",
            "2/2 [==============================] - 0s 5ms/step - loss: 12.3633 - mae: 12.3633\n",
            "Epoch 70/100\n",
            "2/2 [==============================] - 0s 19ms/step - loss: 9.0516 - mae: 9.0516\n",
            "Epoch 71/100\n",
            "2/2 [==============================] - 0s 6ms/step - loss: 10.0378 - mae: 10.0378\n",
            "Epoch 72/100\n",
            "2/2 [==============================] - 0s 6ms/step - loss: 10.0516 - mae: 10.0516\n",
            "Epoch 73/100\n",
            "2/2 [==============================] - 0s 7ms/step - loss: 12.6151 - mae: 12.6151\n",
            "Epoch 74/100\n",
            "2/2 [==============================] - 0s 7ms/step - loss: 10.3819 - mae: 10.3819\n",
            "Epoch 75/100\n",
            "2/2 [==============================] - 0s 7ms/step - loss: 9.7229 - mae: 9.7229\n",
            "Epoch 76/100\n",
            "2/2 [==============================] - 0s 4ms/step - loss: 11.2252 - mae: 11.2252\n",
            "Epoch 77/100\n",
            "2/2 [==============================] - 0s 7ms/step - loss: 8.3642 - mae: 8.3642\n",
            "Epoch 78/100\n",
            "2/2 [==============================] - 0s 27ms/step - loss: 9.1274 - mae: 9.1274\n",
            "Epoch 79/100\n",
            "2/2 [==============================] - 0s 5ms/step - loss: 19.5039 - mae: 19.5039\n",
            "Epoch 80/100\n",
            "2/2 [==============================] - 0s 16ms/step - loss: 14.8945 - mae: 14.8945\n",
            "Epoch 81/100\n",
            "2/2 [==============================] - 0s 5ms/step - loss: 9.0034 - mae: 9.0034\n",
            "Epoch 82/100\n",
            "2/2 [==============================] - 0s 6ms/step - loss: 13.0206 - mae: 13.0206\n",
            "Epoch 83/100\n",
            "2/2 [==============================] - 0s 6ms/step - loss: 7.9299 - mae: 7.9299\n",
            "Epoch 84/100\n",
            "2/2 [==============================] - 0s 4ms/step - loss: 7.6872 - mae: 7.6872\n",
            "Epoch 85/100\n",
            "2/2 [==============================] - 0s 5ms/step - loss: 10.0328 - mae: 10.0328\n",
            "Epoch 86/100\n",
            "2/2 [==============================] - 0s 12ms/step - loss: 9.2433 - mae: 9.2433\n",
            "Epoch 87/100\n",
            "2/2 [==============================] - 0s 10ms/step - loss: 12.0209 - mae: 12.0209\n",
            "Epoch 88/100\n",
            "2/2 [==============================] - 0s 7ms/step - loss: 10.6389 - mae: 10.6389\n",
            "Epoch 89/100\n",
            "2/2 [==============================] - 0s 9ms/step - loss: 7.2667 - mae: 7.2667\n",
            "Epoch 90/100\n",
            "2/2 [==============================] - 0s 12ms/step - loss: 12.7786 - mae: 12.7786\n",
            "Epoch 91/100\n",
            "2/2 [==============================] - 0s 5ms/step - loss: 7.3481 - mae: 7.3481\n",
            "Epoch 92/100\n",
            "2/2 [==============================] - 0s 9ms/step - loss: 7.7175 - mae: 7.7175\n",
            "Epoch 93/100\n",
            "2/2 [==============================] - 0s 5ms/step - loss: 7.1263 - mae: 7.1263\n",
            "Epoch 94/100\n",
            "2/2 [==============================] - 0s 8ms/step - loss: 12.6190 - mae: 12.6190\n",
            "Epoch 95/100\n",
            "2/2 [==============================] - 0s 4ms/step - loss: 10.0912 - mae: 10.0912\n",
            "Epoch 96/100\n",
            "2/2 [==============================] - 0s 5ms/step - loss: 9.3558 - mae: 9.3558\n",
            "Epoch 97/100\n",
            "2/2 [==============================] - 0s 6ms/step - loss: 12.6834 - mae: 12.6834\n",
            "Epoch 98/100\n",
            "2/2 [==============================] - 0s 5ms/step - loss: 8.6762 - mae: 8.6762\n",
            "Epoch 99/100\n",
            "2/2 [==============================] - 0s 5ms/step - loss: 9.4693 - mae: 9.4693\n",
            "Epoch 100/100\n",
            "2/2 [==============================] - 0s 7ms/step - loss: 8.7067 - mae: 8.7067\n"
          ]
        },
        {
          "output_type": "execute_result",
          "data": {
            "text/plain": [
              "<keras.callbacks.History at 0x7f737960ca10>"
            ]
          },
          "metadata": {},
          "execution_count": 53
        }
      ]
    },
    {
      "cell_type": "code",
      "source": [
        "# Make a plot of predictions for model_1\n",
        "y_preds_1 = model_1.predict(x_test)\n",
        "plot_predictions(predictions=y_preds_1)"
      ],
      "metadata": {
        "colab": {
          "base_uri": "https://localhost:8080/",
          "height": 445
        },
        "id": "cJcYwIKtUFqR",
        "outputId": "9551ca1e-dced-40eb-a086-4c89bed18da6"
      },
      "execution_count": 54,
      "outputs": [
        {
          "output_type": "stream",
          "name": "stdout",
          "text": [
            "1/1 [==============================] - 0s 243ms/step\n"
          ]
        },
        {
          "output_type": "display_data",
          "data": {
            "text/plain": [
              "<Figure size 720x504 with 1 Axes>"
            ],
            "image/png": "[encoded data removed]"
          },
          "metadata": {
            "needs_background": "light"
          }
        }
      ]
    },
    {
      "cell_type": "code",
      "source": [
        "# Calculate model_1 evaluation metrics\n",
        "mae_1 = mae(y_test,y_preds_1)\n",
        "mse_1 = mse(y_test,y_preds_1)\n",
        "mae_1,mse_1"
      ],
      "metadata": {
        "colab": {
          "base_uri": "https://localhost:8080/"
        },
        "id": "3SLwf_AbWPvW",
        "outputId": "e2e99487-d8ce-4515-afe0-76429073fc26"
      },
      "execution_count": 80,
      "outputs": [
        {
          "output_type": "execute_result",
          "data": {
            "text/plain": [
              "(<tf.Tensor: shape=(), dtype=float32, numpy=18.745327>,\n",
              " <tf.Tensor: shape=(), dtype=float32, numpy=353.57336>)"
            ]
          },
          "metadata": {},
          "execution_count": 80
        }
      ]
    },
    {
      "cell_type": "markdown",
      "source": [
        "**Build_model_2**\n",
        "\n",
        "2 dense layers trained for 100 epochs"
      ],
      "metadata": {
        "id": "LtB8OX8xWwNP"
      }
    },
    {
      "cell_type": "code",
      "source": [
        "# Set the random seed\n",
        "tf.random.set_seed(42)\n",
        "\n",
        "# Create the model\n",
        "model_2 = tf.keras.Sequential([\n",
        "    tf.keras.layers.Dense(10),\n",
        "    tf.keras.layers.Dense(1)\n",
        "])\n",
        "\n",
        "# 2 compile the model\n",
        "\n",
        "model_2.compile(\n",
        "    loss=tf.keras.losses.mae,\n",
        "    optimizer=tf.keras.optimizers.SGD(),\n",
        "    metrics=[\"mse\"]\n",
        "\n",
        ")\n",
        "model_2.fit(tf.expand_dims(x_train,axis=1),tf.expand_dims(y_train,axis=1),epochs=100)"
      ],
      "metadata": {
        "colab": {
          "base_uri": "https://localhost:8080/"
        },
        "id": "9stqelxnYMm6",
        "outputId": "bd2cacab-5838-4be9-d422-a2b832ee6293"
      },
      "execution_count": 58,
      "outputs": [
        {
          "output_type": "stream",
          "name": "stdout",
          "text": [
            "Epoch 1/100\n",
            "2/2 [==============================] - 0s 5ms/step - loss: 27.4058 - mse: 1084.1482\n",
            "Epoch 2/100\n",
            "2/2 [==============================] - 0s 5ms/step - loss: 24.6339 - mse: 777.9203\n",
            "Epoch 3/100\n",
            "2/2 [==============================] - 0s 5ms/step - loss: 29.8935 - mse: 1334.8953\n",
            "Epoch 4/100\n",
            "2/2 [==============================] - 0s 9ms/step - loss: 27.4055 - mse: 1106.8035\n",
            "Epoch 5/100\n",
            "2/2 [==============================] - 0s 6ms/step - loss: 14.9463 - mse: 281.1076\n",
            "Epoch 6/100\n",
            "2/2 [==============================] - 0s 5ms/step - loss: 11.8819 - mse: 168.6621\n",
            "Epoch 7/100\n",
            "2/2 [==============================] - 0s 4ms/step - loss: 11.1988 - mse: 151.3508\n",
            "Epoch 8/100\n",
            "2/2 [==============================] - 0s 4ms/step - loss: 11.0910 - mse: 160.3745\n",
            "Epoch 9/100\n",
            "2/2 [==============================] - 0s 4ms/step - loss: 40.4763 - mse: 2586.0085\n",
            "Epoch 10/100\n",
            "2/2 [==============================] - 0s 4ms/step - loss: 27.8687 - mse: 1094.4380\n",
            "Epoch 11/100\n",
            "2/2 [==============================] - 0s 7ms/step - loss: 10.2473 - mse: 147.9359\n",
            "Epoch 12/100\n",
            "2/2 [==============================] - 0s 5ms/step - loss: 25.2803 - mse: 890.3867\n",
            "Epoch 13/100\n",
            "2/2 [==============================] - 0s 5ms/step - loss: 16.9897 - mse: 399.9677\n",
            "Epoch 14/100\n",
            "2/2 [==============================] - 0s 6ms/step - loss: 25.9217 - mse: 1049.5515\n",
            "Epoch 15/100\n",
            "2/2 [==============================] - 0s 5ms/step - loss: 17.9948 - mse: 450.2581\n",
            "Epoch 16/100\n",
            "2/2 [==============================] - 0s 4ms/step - loss: 7.3510 - mse: 80.6206\n",
            "Epoch 17/100\n",
            "2/2 [==============================] - 0s 4ms/step - loss: 10.8636 - mse: 174.7868\n",
            "Epoch 18/100\n",
            "2/2 [==============================] - 0s 4ms/step - loss: 19.5304 - mse: 565.8052\n",
            "Epoch 19/100\n",
            "2/2 [==============================] - 0s 4ms/step - loss: 10.3469 - mse: 167.7749\n",
            "Epoch 20/100\n",
            "2/2 [==============================] - 0s 11ms/step - loss: 17.6985 - mse: 455.7096\n",
            "Epoch 21/100\n",
            "2/2 [==============================] - 0s 9ms/step - loss: 15.8985 - mse: 347.1929\n",
            "Epoch 22/100\n",
            "2/2 [==============================] - 0s 6ms/step - loss: 14.1991 - mse: 285.1767\n",
            "Epoch 23/100\n",
            "2/2 [==============================] - 0s 7ms/step - loss: 8.7720 - mse: 91.7852\n",
            "Epoch 24/100\n",
            "2/2 [==============================] - 0s 7ms/step - loss: 11.0570 - mse: 153.7430\n",
            "Epoch 25/100\n",
            "2/2 [==============================] - 0s 7ms/step - loss: 12.6838 - mse: 233.2950\n",
            "Epoch 26/100\n",
            "2/2 [==============================] - 0s 6ms/step - loss: 26.1877 - mse: 1024.6094\n",
            "Epoch 27/100\n",
            "2/2 [==============================] - 0s 7ms/step - loss: 11.7432 - mse: 194.8453\n",
            "Epoch 28/100\n",
            "2/2 [==============================] - 0s 5ms/step - loss: 22.8730 - mse: 835.6069\n",
            "Epoch 29/100\n",
            "2/2 [==============================] - 0s 10ms/step - loss: 9.2459 - mse: 96.7787\n",
            "Epoch 30/100\n",
            "2/2 [==============================] - 0s 7ms/step - loss: 29.2641 - mse: 1535.1335\n",
            "Epoch 31/100\n",
            "2/2 [==============================] - 0s 3ms/step - loss: 53.0224 - mse: 5030.2954\n",
            "Epoch 32/100\n",
            "2/2 [==============================] - 0s 7ms/step - loss: 11.9951 - mse: 211.7023\n",
            "Epoch 33/100\n",
            "2/2 [==============================] - 0s 7ms/step - loss: 15.6357 - mse: 337.3664\n",
            "Epoch 34/100\n",
            "2/2 [==============================] - 0s 4ms/step - loss: 12.6925 - mse: 214.4822\n",
            "Epoch 35/100\n",
            "2/2 [==============================] - 0s 6ms/step - loss: 9.2398 - mse: 92.9126\n",
            "Epoch 36/100\n",
            "2/2 [==============================] - 0s 5ms/step - loss: 16.6497 - mse: 403.6569\n",
            "Epoch 37/100\n",
            "2/2 [==============================] - 0s 8ms/step - loss: 11.0382 - mse: 192.3919\n",
            "Epoch 38/100\n",
            "2/2 [==============================] - 0s 7ms/step - loss: 18.1634 - mse: 433.6718\n",
            "Epoch 39/100\n",
            "2/2 [==============================] - 0s 5ms/step - loss: 19.1013 - mse: 529.6440\n",
            "Epoch 40/100\n",
            "2/2 [==============================] - 0s 4ms/step - loss: 20.4324 - mse: 610.1325\n",
            "Epoch 41/100\n",
            "2/2 [==============================] - 0s 5ms/step - loss: 14.9102 - mse: 279.6182\n",
            "Epoch 42/100\n",
            "2/2 [==============================] - 0s 5ms/step - loss: 12.2809 - mse: 186.6180\n",
            "Epoch 43/100\n",
            "2/2 [==============================] - 0s 4ms/step - loss: 10.7333 - mse: 167.0952\n",
            "Epoch 44/100\n",
            "2/2 [==============================] - 0s 5ms/step - loss: 23.0260 - mse: 830.4245\n",
            "Epoch 45/100\n",
            "2/2 [==============================] - 0s 5ms/step - loss: 10.3897 - mse: 128.9549\n",
            "Epoch 46/100\n",
            "2/2 [==============================] - 0s 5ms/step - loss: 11.7904 - mse: 181.9211\n",
            "Epoch 47/100\n",
            "2/2 [==============================] - 0s 5ms/step - loss: 9.6438 - mse: 153.8708\n",
            "Epoch 48/100\n",
            "2/2 [==============================] - 0s 4ms/step - loss: 17.2335 - mse: 402.8495\n",
            "Epoch 49/100\n",
            "2/2 [==============================] - 0s 4ms/step - loss: 9.5729 - mse: 99.8336\n",
            "Epoch 50/100\n",
            "2/2 [==============================] - 0s 4ms/step - loss: 13.8185 - mse: 260.3669\n",
            "Epoch 51/100\n",
            "2/2 [==============================] - 0s 5ms/step - loss: 11.5958 - mse: 154.7956\n",
            "Epoch 52/100\n",
            "2/2 [==============================] - 0s 4ms/step - loss: 30.5538 - mse: 1613.0883\n",
            "Epoch 53/100\n",
            "2/2 [==============================] - 0s 5ms/step - loss: 14.3541 - mse: 302.5291\n",
            "Epoch 54/100\n",
            "2/2 [==============================] - 0s 10ms/step - loss: 23.9713 - mse: 859.3983\n",
            "Epoch 55/100\n",
            "2/2 [==============================] - 0s 5ms/step - loss: 23.1938 - mse: 805.5450\n",
            "Epoch 56/100\n",
            "2/2 [==============================] - 0s 4ms/step - loss: 10.8837 - mse: 170.9834\n",
            "Epoch 57/100\n",
            "2/2 [==============================] - 0s 5ms/step - loss: 12.7445 - mse: 198.7015\n",
            "Epoch 58/100\n",
            "2/2 [==============================] - 0s 5ms/step - loss: 9.5995 - mse: 102.5890\n",
            "Epoch 59/100\n",
            "2/2 [==============================] - 0s 4ms/step - loss: 12.5172 - mse: 216.3367\n",
            "Epoch 60/100\n",
            "2/2 [==============================] - 0s 5ms/step - loss: 12.3200 - mse: 208.6370\n",
            "Epoch 61/100\n",
            "2/2 [==============================] - 0s 4ms/step - loss: 17.4604 - mse: 428.6392\n",
            "Epoch 62/100\n",
            "2/2 [==============================] - 0s 5ms/step - loss: 10.6052 - mse: 136.9776\n",
            "Epoch 63/100\n",
            "2/2 [==============================] - 0s 7ms/step - loss: 10.4893 - mse: 152.4554\n",
            "Epoch 64/100\n",
            "2/2 [==============================] - 0s 5ms/step - loss: 24.8450 - mse: 911.7509\n",
            "Epoch 65/100\n",
            "2/2 [==============================] - 0s 4ms/step - loss: 10.6761 - mse: 142.7374\n",
            "Epoch 66/100\n",
            "2/2 [==============================] - 0s 4ms/step - loss: 21.7809 - mse: 704.4487\n",
            "Epoch 67/100\n",
            "2/2 [==============================] - 0s 5ms/step - loss: 10.7136 - mse: 136.0194\n",
            "Epoch 68/100\n",
            "2/2 [==============================] - 0s 5ms/step - loss: 10.6397 - mse: 149.2299\n",
            "Epoch 69/100\n",
            "2/2 [==============================] - 0s 5ms/step - loss: 22.6914 - mse: 742.1758\n",
            "Epoch 70/100\n",
            "2/2 [==============================] - 0s 5ms/step - loss: 9.3316 - mse: 166.1627\n",
            "Epoch 71/100\n",
            "2/2 [==============================] - 0s 5ms/step - loss: 15.4355 - mse: 323.0844\n",
            "Epoch 72/100\n",
            "2/2 [==============================] - 0s 5ms/step - loss: 6.7437 - mse: 67.0210\n",
            "Epoch 73/100\n",
            "2/2 [==============================] - 0s 4ms/step - loss: 11.6891 - mse: 183.7296\n",
            "Epoch 74/100\n",
            "2/2 [==============================] - 0s 5ms/step - loss: 24.0400 - mse: 908.8988\n",
            "Epoch 75/100\n",
            "2/2 [==============================] - 0s 9ms/step - loss: 9.5896 - mse: 149.3948\n",
            "Epoch 76/100\n",
            "2/2 [==============================] - 0s 4ms/step - loss: 12.4371 - mse: 188.3310\n",
            "Epoch 77/100\n",
            "2/2 [==============================] - 0s 4ms/step - loss: 16.6488 - mse: 429.2705\n",
            "Epoch 78/100\n",
            "2/2 [==============================] - 0s 9ms/step - loss: 9.0614 - mse: 95.4869\n",
            "Epoch 79/100\n",
            "2/2 [==============================] - 0s 5ms/step - loss: 23.9675 - mse: 864.0859\n",
            "Epoch 80/100\n",
            "2/2 [==============================] - 0s 5ms/step - loss: 26.7463 - mse: 1104.4030\n",
            "Epoch 81/100\n",
            "2/2 [==============================] - 0s 4ms/step - loss: 11.6714 - mse: 170.7055\n",
            "Epoch 82/100\n",
            "2/2 [==============================] - 0s 4ms/step - loss: 12.0228 - mse: 211.9191\n",
            "Epoch 83/100\n",
            "2/2 [==============================] - 0s 5ms/step - loss: 17.4218 - mse: 395.5590\n",
            "Epoch 84/100\n",
            "2/2 [==============================] - 0s 6ms/step - loss: 7.2629 - mse: 73.0935\n",
            "Epoch 85/100\n",
            "2/2 [==============================] - 0s 5ms/step - loss: 14.9650 - mse: 312.8361\n",
            "Epoch 86/100\n",
            "2/2 [==============================] - 0s 6ms/step - loss: 15.2862 - mse: 315.3606\n",
            "Epoch 87/100\n",
            "2/2 [==============================] - 0s 5ms/step - loss: 19.1086 - mse: 521.2535\n",
            "Epoch 88/100\n",
            "2/2 [==============================] - 0s 5ms/step - loss: 29.8228 - mse: 1287.1902\n",
            "Epoch 89/100\n",
            "2/2 [==============================] - 0s 5ms/step - loss: 10.1742 - mse: 124.1342\n",
            "Epoch 90/100\n",
            "2/2 [==============================] - 0s 9ms/step - loss: 21.5240 - mse: 663.8608\n",
            "Epoch 91/100\n",
            "2/2 [==============================] - 0s 5ms/step - loss: 10.5716 - mse: 161.7467\n",
            "Epoch 92/100\n",
            "2/2 [==============================] - 0s 13ms/step - loss: 18.3977 - mse: 464.1323\n",
            "Epoch 93/100\n",
            "2/2 [==============================] - 0s 5ms/step - loss: 7.4138 - mse: 81.9820\n",
            "Epoch 94/100\n",
            "2/2 [==============================] - 0s 4ms/step - loss: 17.7380 - mse: 445.7377\n",
            "Epoch 95/100\n",
            "2/2 [==============================] - 0s 7ms/step - loss: 11.1144 - mse: 164.0820\n",
            "Epoch 96/100\n",
            "2/2 [==============================] - 0s 5ms/step - loss: 19.4346 - mse: 510.5842\n",
            "Epoch 97/100\n",
            "2/2 [==============================] - 0s 8ms/step - loss: 12.1593 - mse: 209.9755\n",
            "Epoch 98/100\n",
            "2/2 [==============================] - 0s 5ms/step - loss: 11.5653 - mse: 169.4052\n",
            "Epoch 99/100\n",
            "2/2 [==============================] - 0s 5ms/step - loss: 13.8827 - mse: 265.4630\n",
            "Epoch 100/100\n",
            "2/2 [==============================] - 0s 3ms/step - loss: 20.2277 - mse: 608.8219\n"
          ]
        },
        {
          "output_type": "execute_result",
          "data": {
            "text/plain": [
              "<keras.callbacks.History at 0x7f7379206d10>"
            ]
          },
          "metadata": {},
          "execution_count": 58
        }
      ]
    },
    {
      "cell_type": "code",
      "source": [
        "# Make and plot predictions of model 2\n",
        "y_preds_2 = model_2.predict(x_test)"
      ],
      "metadata": {
        "colab": {
          "base_uri": "https://localhost:8080/"
        },
        "id": "jZxyEu3jwCGf",
        "outputId": "3f7d14d5-27cd-416e-b3e7-cbf4d086aa84"
      },
      "execution_count": 59,
      "outputs": [
        {
          "output_type": "stream",
          "name": "stdout",
          "text": [
            "1/1 [==============================] - 0s 94ms/step\n"
          ]
        }
      ]
    },
    {
      "cell_type": "code",
      "source": [
        "plot_predictions(predictions=y_preds_2)"
      ],
      "metadata": {
        "colab": {
          "base_uri": "https://localhost:8080/",
          "height": 428
        },
        "id": "j6Y5s_z9wsE0",
        "outputId": "2f666b2f-11e2-4834-b9de-598bdf08f132"
      },
      "execution_count": 60,
      "outputs": [
        {
          "output_type": "display_data",
          "data": {
            "text/plain": [
              "<Figure size 720x504 with 1 Axes>"
            ],
            "image/png": "[encoded data removed]"
          },
          "metadata": {
            "needs_background": "light"
          }
        }
      ]
    },
    {
      "cell_type": "code",
      "source": [
        "# Calculate model_2 evaluation \n",
        "mae_2 = mae(y_test,y_preds_2)\n",
        "mse_2 = mse(y_test,y_preds_2)"
      ],
      "metadata": {
        "id": "idueVCjywy1E"
      },
      "execution_count": 61,
      "outputs": []
    },
    {
      "cell_type": "code",
      "source": [
        "mae_2,mse_2"
      ],
      "metadata": {
        "colab": {
          "base_uri": "https://localhost:8080/"
        },
        "id": "jEf1wguoxdhb",
        "outputId": "36690998-2aa9-49b0-8b73-0aaa96cdce8e"
      },
      "execution_count": 63,
      "outputs": [
        {
          "output_type": "execute_result",
          "data": {
            "text/plain": [
              "(<tf.Tensor: shape=(), dtype=float32, numpy=3.19694>,\n",
              " <tf.Tensor: shape=(), dtype=float32, numpy=13.070127>)"
            ]
          },
          "metadata": {},
          "execution_count": 63
        }
      ]
    },
    {
      "cell_type": "markdown",
      "source": [
        "**Build_model_3**\n",
        "\n",
        " 2 layers and trained for 500 epochs"
      ],
      "metadata": {
        "id": "PZt9glGJxgNV"
      }
    },
    {
      "cell_type": "code",
      "source": [
        "tf.random.set_seed(42)\n",
        "model_3 = tf.keras.Sequential([\n",
        "tf.keras.layers.Dense(10),\n",
        "tf.keras.layers.Dense(1)    \n",
        "]\n",
        ")\n",
        "model_3.compile(\n",
        "    loss=tf.keras.losses.mae,\n",
        "    optimizer=tf.keras.optimizers.SGD(),\n",
        "    metrics=[\"mae\"]\n",
        ")\n",
        "\n",
        "model_3.fit(tf.expand_dims(x_train,axis=1),tf.expand_dims(y_train,axis=1),epochs=500)\n"
      ],
      "metadata": {
        "colab": {
          "base_uri": "https://localhost:8080/"
        },
        "id": "SNVG5v_Txu9r",
        "outputId": "6e18cdf8-048e-47c2-d4fa-3fa878f62cd7"
      },
      "execution_count": 75,
      "outputs": [
        {
          "output_type": "stream",
          "name": "stdout",
          "text": [
            "Epoch 1/500\n",
            "2/2 [==============================] - 1s 7ms/step - loss: 27.4058 - mae: 27.4058\n",
            "Epoch 2/500\n",
            "2/2 [==============================] - 0s 16ms/step - loss: 24.6339 - mae: 24.6339\n",
            "Epoch 3/500\n",
            "2/2 [==============================] - 0s 6ms/step - loss: 29.8935 - mae: 29.8935\n",
            "Epoch 4/500\n",
            "2/2 [==============================] - 0s 6ms/step - loss: 27.4055 - mae: 27.4055\n",
            "Epoch 5/500\n",
            "2/2 [==============================] - 0s 9ms/step - loss: 14.9463 - mae: 14.9463\n",
            "Epoch 6/500\n",
            "2/2 [==============================] - 0s 6ms/step - loss: 11.8819 - mae: 11.8819\n",
            "Epoch 7/500\n",
            "2/2 [==============================] - 0s 8ms/step - loss: 11.1988 - mae: 11.1988\n",
            "Epoch 8/500\n",
            "2/2 [==============================] - 0s 12ms/step - loss: 11.0910 - mae: 11.0910\n",
            "Epoch 9/500\n",
            "2/2 [==============================] - 0s 5ms/step - loss: 40.4763 - mae: 40.4763\n",
            "Epoch 10/500\n",
            "2/2 [==============================] - 0s 9ms/step - loss: 27.8687 - mae: 27.8687\n",
            "Epoch 11/500\n",
            "2/2 [==============================] - 0s 6ms/step - loss: 10.2473 - mae: 10.2473\n",
            "Epoch 12/500\n",
            "2/2 [==============================] - 0s 6ms/step - loss: 25.2803 - mae: 25.2803\n",
            "Epoch 13/500\n",
            "2/2 [==============================] - 0s 5ms/step - loss: 16.9897 - mae: 16.9897\n",
            "Epoch 14/500\n",
            "2/2 [==============================] - 0s 15ms/step - loss: 25.9217 - mae: 25.9217\n",
            "Epoch 15/500\n",
            "2/2 [==============================] - 0s 7ms/step - loss: 17.9948 - mae: 17.9948\n",
            "Epoch 16/500\n",
            "2/2 [==============================] - 0s 10ms/step - loss: 7.3510 - mae: 7.3510\n",
            "Epoch 17/500\n",
            "2/2 [==============================] - 0s 5ms/step - loss: 10.8636 - mae: 10.8636\n",
            "Epoch 18/500\n",
            "2/2 [==============================] - 0s 5ms/step - loss: 19.5304 - mae: 19.5304\n",
            "Epoch 19/500\n",
            "2/2 [==============================] - 0s 8ms/step - loss: 10.3469 - mae: 10.3469\n",
            "Epoch 20/500\n",
            "2/2 [==============================] - 0s 6ms/step - loss: 17.6985 - mae: 17.6985\n",
            "Epoch 21/500\n",
            "2/2 [==============================] - 0s 7ms/step - loss: 15.8985 - mae: 15.8985\n",
            "Epoch 22/500\n",
            "2/2 [==============================] - 0s 6ms/step - loss: 14.1991 - mae: 14.1991\n",
            "Epoch 23/500\n",
            "2/2 [==============================] - 0s 7ms/step - loss: 8.7720 - mae: 8.7720\n",
            "Epoch 24/500\n",
            "2/2 [==============================] - 0s 7ms/step - loss: 11.0570 - mae: 11.0570\n",
            "Epoch 25/500\n",
            "2/2 [==============================] - 0s 6ms/step - loss: 12.6838 - mae: 12.6838\n",
            "Epoch 26/500\n",
            "2/2 [==============================] - 0s 7ms/step - loss: 26.1877 - mae: 26.1877\n",
            "Epoch 27/500\n",
            "2/2 [==============================] - 0s 6ms/step - loss: 11.7432 - mae: 11.7432\n",
            "Epoch 28/500\n",
            "2/2 [==============================] - 0s 5ms/step - loss: 22.8730 - mae: 22.8730\n",
            "Epoch 29/500\n",
            "2/2 [==============================] - 0s 7ms/step - loss: 9.2459 - mae: 9.2459\n",
            "Epoch 30/500\n",
            "2/2 [==============================] - 0s 9ms/step - loss: 29.2641 - mae: 29.2641\n",
            "Epoch 31/500\n",
            "2/2 [==============================] - 0s 7ms/step - loss: 53.0224 - mae: 53.0224\n",
            "Epoch 32/500\n",
            "2/2 [==============================] - 0s 6ms/step - loss: 11.9951 - mae: 11.9951\n",
            "Epoch 33/500\n",
            "2/2 [==============================] - 0s 5ms/step - loss: 15.6357 - mae: 15.6357\n",
            "Epoch 34/500\n",
            "2/2 [==============================] - 0s 9ms/step - loss: 12.6925 - mae: 12.6925\n",
            "Epoch 35/500\n",
            "2/2 [==============================] - 0s 5ms/step - loss: 9.2398 - mae: 9.2398\n",
            "Epoch 36/500\n",
            "2/2 [==============================] - 0s 10ms/step - loss: 16.6497 - mae: 16.6497\n",
            "Epoch 37/500\n",
            "2/2 [==============================] - 0s 18ms/step - loss: 11.0382 - mae: 11.0382\n",
            "Epoch 38/500\n",
            "2/2 [==============================] - 0s 10ms/step - loss: 18.1634 - mae: 18.1634\n",
            "Epoch 39/500\n",
            "2/2 [==============================] - 0s 8ms/step - loss: 19.1013 - mae: 19.1013\n",
            "Epoch 40/500\n",
            "2/2 [==============================] - 0s 9ms/step - loss: 20.4324 - mae: 20.4324\n",
            "Epoch 41/500\n",
            "2/2 [==============================] - 0s 10ms/step - loss: 14.9102 - mae: 14.9102\n",
            "Epoch 42/500\n",
            "2/2 [==============================] - 0s 12ms/step - loss: 12.2809 - mae: 12.2809\n",
            "Epoch 43/500\n",
            "2/2 [==============================] - 0s 5ms/step - loss: 10.7333 - mae: 10.7333\n",
            "Epoch 44/500\n",
            "2/2 [==============================] - 0s 7ms/step - loss: 23.0260 - mae: 23.0260\n",
            "Epoch 45/500\n",
            "2/2 [==============================] - 0s 5ms/step - loss: 10.3897 - mae: 10.3897\n",
            "Epoch 46/500\n",
            "2/2 [==============================] - 0s 16ms/step - loss: 11.7904 - mae: 11.7904\n",
            "Epoch 47/500\n",
            "2/2 [==============================] - 0s 10ms/step - loss: 9.6438 - mae: 9.6438\n",
            "Epoch 48/500\n",
            "2/2 [==============================] - 0s 10ms/step - loss: 17.2335 - mae: 17.2335\n",
            "Epoch 49/500\n",
            "2/2 [==============================] - 0s 4ms/step - loss: 9.5729 - mae: 9.5729\n",
            "Epoch 50/500\n",
            "2/2 [==============================] - 0s 7ms/step - loss: 13.8185 - mae: 13.8185\n",
            "Epoch 51/500\n",
            "2/2 [==============================] - 0s 5ms/step - loss: 11.5958 - mae: 11.5958\n",
            "Epoch 52/500\n",
            "2/2 [==============================] - 0s 6ms/step - loss: 30.5538 - mae: 30.5538\n",
            "Epoch 53/500\n",
            "2/2 [==============================] - 0s 6ms/step - loss: 14.3541 - mae: 14.3541\n",
            "Epoch 54/500\n",
            "2/2 [==============================] - 0s 5ms/step - loss: 23.9713 - mae: 23.9713\n",
            "Epoch 55/500\n",
            "2/2 [==============================] - 0s 13ms/step - loss: 23.1938 - mae: 23.1938\n",
            "Epoch 56/500\n",
            "2/2 [==============================] - 0s 9ms/step - loss: 10.8837 - mae: 10.8837\n",
            "Epoch 57/500\n",
            "2/2 [==============================] - 0s 5ms/step - loss: 12.7445 - mae: 12.7445\n",
            "Epoch 58/500\n",
            "2/2 [==============================] - 0s 4ms/step - loss: 9.5995 - mae: 9.5995\n",
            "Epoch 59/500\n",
            "2/2 [==============================] - 0s 5ms/step - loss: 12.5172 - mae: 12.5172\n",
            "Epoch 60/500\n",
            "2/2 [==============================] - 0s 5ms/step - loss: 12.3200 - mae: 12.3200\n",
            "Epoch 61/500\n",
            "2/2 [==============================] - 0s 5ms/step - loss: 17.4604 - mae: 17.4604\n",
            "Epoch 62/500\n",
            "2/2 [==============================] - 0s 5ms/step - loss: 10.6052 - mae: 10.6052\n",
            "Epoch 63/500\n",
            "2/2 [==============================] - 0s 5ms/step - loss: 10.4893 - mae: 10.4893\n",
            "Epoch 64/500\n",
            "2/2 [==============================] - 0s 3ms/step - loss: 24.8450 - mae: 24.8450\n",
            "Epoch 65/500\n",
            "2/2 [==============================] - 0s 5ms/step - loss: 10.6761 - mae: 10.6761\n",
            "Epoch 66/500\n",
            "2/2 [==============================] - 0s 6ms/step - loss: 21.7809 - mae: 21.7809\n",
            "Epoch 67/500\n",
            "2/2 [==============================] - 0s 7ms/step - loss: 10.7136 - mae: 10.7136\n",
            "Epoch 68/500\n",
            "2/2 [==============================] - 0s 9ms/step - loss: 10.6397 - mae: 10.6397\n",
            "Epoch 69/500\n",
            "2/2 [==============================] - 0s 3ms/step - loss: 22.6914 - mae: 22.6914\n",
            "Epoch 70/500\n",
            "2/2 [==============================] - 0s 5ms/step - loss: 9.3316 - mae: 9.3316\n",
            "Epoch 71/500\n",
            "2/2 [==============================] - 0s 6ms/step - loss: 15.4355 - mae: 15.4355\n",
            "Epoch 72/500\n",
            "2/2 [==============================] - 0s 5ms/step - loss: 6.7437 - mae: 6.7437\n",
            "Epoch 73/500\n",
            "2/2 [==============================] - 0s 6ms/step - loss: 11.6891 - mae: 11.6891\n",
            "Epoch 74/500\n",
            "2/2 [==============================] - 0s 6ms/step - loss: 24.0400 - mae: 24.0400\n",
            "Epoch 75/500\n",
            "2/2 [==============================] - 0s 6ms/step - loss: 9.5896 - mae: 9.5896\n",
            "Epoch 76/500\n",
            "2/2 [==============================] - 0s 4ms/step - loss: 12.4371 - mae: 12.4371\n",
            "Epoch 77/500\n",
            "2/2 [==============================] - 0s 7ms/step - loss: 16.6488 - mae: 16.6488\n",
            "Epoch 78/500\n",
            "2/2 [==============================] - 0s 8ms/step - loss: 9.0614 - mae: 9.0614\n",
            "Epoch 79/500\n",
            "2/2 [==============================] - 0s 6ms/step - loss: 23.9675 - mae: 23.9675\n",
            "Epoch 80/500\n",
            "2/2 [==============================] - 0s 6ms/step - loss: 26.7463 - mae: 26.7463\n",
            "Epoch 81/500\n",
            "2/2 [==============================] - 0s 4ms/step - loss: 11.6714 - mae: 11.6714\n",
            "Epoch 82/500\n",
            "2/2 [==============================] - 0s 7ms/step - loss: 12.0228 - mae: 12.0228\n",
            "Epoch 83/500\n",
            "2/2 [==============================] - 0s 4ms/step - loss: 17.4218 - mae: 17.4218\n",
            "Epoch 84/500\n",
            "2/2 [==============================] - 0s 5ms/step - loss: 7.2629 - mae: 7.2629\n",
            "Epoch 85/500\n",
            "2/2 [==============================] - 0s 6ms/step - loss: 14.9650 - mae: 14.9650\n",
            "Epoch 86/500\n",
            "2/2 [==============================] - 0s 6ms/step - loss: 15.2862 - mae: 15.2862\n",
            "Epoch 87/500\n",
            "2/2 [==============================] - 0s 5ms/step - loss: 19.1086 - mae: 19.1086\n",
            "Epoch 88/500\n",
            "2/2 [==============================] - 0s 10ms/step - loss: 29.8228 - mae: 29.8228\n",
            "Epoch 89/500\n",
            "2/2 [==============================] - 0s 5ms/step - loss: 10.1742 - mae: 10.1742\n",
            "Epoch 90/500\n",
            "2/2 [==============================] - 0s 7ms/step - loss: 21.5240 - mae: 21.5240\n",
            "Epoch 91/500\n",
            "2/2 [==============================] - 0s 5ms/step - loss: 10.5716 - mae: 10.5716\n",
            "Epoch 92/500\n",
            "2/2 [==============================] - 0s 5ms/step - loss: 18.3977 - mae: 18.3977\n",
            "Epoch 93/500\n",
            "2/2 [==============================] - 0s 5ms/step - loss: 7.4138 - mae: 7.4138\n",
            "Epoch 94/500\n",
            "2/2 [==============================] - 0s 5ms/step - loss: 17.7380 - mae: 17.7380\n",
            "Epoch 95/500\n",
            "2/2 [==============================] - 0s 6ms/step - loss: 11.1144 - mae: 11.1144\n",
            "Epoch 96/500\n",
            "2/2 [==============================] - 0s 5ms/step - loss: 19.4346 - mae: 19.4346\n",
            "Epoch 97/500\n",
            "2/2 [==============================] - 0s 7ms/step - loss: 12.1593 - mae: 12.1593\n",
            "Epoch 98/500\n",
            "2/2 [==============================] - 0s 5ms/step - loss: 11.5653 - mae: 11.5653\n",
            "Epoch 99/500\n",
            "2/2 [==============================] - 0s 5ms/step - loss: 13.8827 - mae: 13.8827\n",
            "Epoch 100/500\n",
            "2/2 [==============================] - 0s 6ms/step - loss: 20.2277 - mae: 20.2277\n",
            "Epoch 101/500\n",
            "2/2 [==============================] - 0s 5ms/step - loss: 11.4479 - mae: 11.4479\n",
            "Epoch 102/500\n",
            "2/2 [==============================] - 0s 4ms/step - loss: 17.4842 - mae: 17.4842\n",
            "Epoch 103/500\n",
            "2/2 [==============================] - 0s 6ms/step - loss: 7.0217 - mae: 7.0217\n",
            "Epoch 104/500\n",
            "2/2 [==============================] - 0s 4ms/step - loss: 23.5789 - mae: 23.5789\n",
            "Epoch 105/500\n",
            "2/2 [==============================] - 0s 4ms/step - loss: 16.8932 - mae: 16.8932\n",
            "Epoch 106/500\n",
            "2/2 [==============================] - 0s 6ms/step - loss: 9.2954 - mae: 9.2954\n",
            "Epoch 107/500\n",
            "2/2 [==============================] - 0s 5ms/step - loss: 25.3749 - mae: 25.3749\n",
            "Epoch 108/500\n",
            "2/2 [==============================] - 0s 5ms/step - loss: 13.4621 - mae: 13.4621\n",
            "Epoch 109/500\n",
            "2/2 [==============================] - 0s 5ms/step - loss: 9.5238 - mae: 9.5238\n",
            "Epoch 110/500\n",
            "2/2 [==============================] - 0s 6ms/step - loss: 9.6722 - mae: 9.6722\n",
            "Epoch 111/500\n",
            "2/2 [==============================] - 0s 5ms/step - loss: 14.5987 - mae: 14.5987\n",
            "Epoch 112/500\n",
            "2/2 [==============================] - 0s 5ms/step - loss: 9.5670 - mae: 9.5670\n",
            "Epoch 113/500\n",
            "2/2 [==============================] - 0s 5ms/step - loss: 17.8092 - mae: 17.8092\n",
            "Epoch 114/500\n",
            "2/2 [==============================] - 0s 4ms/step - loss: 17.1782 - mae: 17.1782\n",
            "Epoch 115/500\n",
            "2/2 [==============================] - 0s 5ms/step - loss: 11.1182 - mae: 11.1182\n",
            "Epoch 116/500\n",
            "2/2 [==============================] - 0s 6ms/step - loss: 23.3071 - mae: 23.3071\n",
            "Epoch 117/500\n",
            "2/2 [==============================] - 0s 4ms/step - loss: 9.6144 - mae: 9.6144\n",
            "Epoch 118/500\n",
            "2/2 [==============================] - 0s 4ms/step - loss: 10.6899 - mae: 10.6899\n",
            "Epoch 119/500\n",
            "2/2 [==============================] - 0s 6ms/step - loss: 8.0355 - mae: 8.0355\n",
            "Epoch 120/500\n",
            "2/2 [==============================] - 0s 4ms/step - loss: 29.6859 - mae: 29.6859\n",
            "Epoch 121/500\n",
            "2/2 [==============================] - 0s 4ms/step - loss: 8.0714 - mae: 8.0714\n",
            "Epoch 122/500\n",
            "2/2 [==============================] - 0s 4ms/step - loss: 28.3086 - mae: 28.3086\n",
            "Epoch 123/500\n",
            "2/2 [==============================] - 0s 4ms/step - loss: 32.9014 - mae: 32.9014\n",
            "Epoch 124/500\n",
            "2/2 [==============================] - 0s 4ms/step - loss: 19.6291 - mae: 19.6291\n",
            "Epoch 125/500\n",
            "2/2 [==============================] - 0s 9ms/step - loss: 7.0095 - mae: 7.0095\n",
            "Epoch 126/500\n",
            "2/2 [==============================] - 0s 9ms/step - loss: 21.8056 - mae: 21.8056\n",
            "Epoch 127/500\n",
            "2/2 [==============================] - 0s 5ms/step - loss: 7.9812 - mae: 7.9812\n",
            "Epoch 128/500\n",
            "2/2 [==============================] - 0s 5ms/step - loss: 21.0585 - mae: 21.0585\n",
            "Epoch 129/500\n",
            "2/2 [==============================] - 0s 5ms/step - loss: 9.0107 - mae: 9.0107\n",
            "Epoch 130/500\n",
            "2/2 [==============================] - 0s 4ms/step - loss: 24.0502 - mae: 24.0502\n",
            "Epoch 131/500\n",
            "2/2 [==============================] - 0s 4ms/step - loss: 9.7537 - mae: 9.7537\n",
            "Epoch 132/500\n",
            "2/2 [==============================] - 0s 5ms/step - loss: 18.3052 - mae: 18.3052\n",
            "Epoch 133/500\n",
            "2/2 [==============================] - 0s 4ms/step - loss: 7.5833 - mae: 7.5833\n",
            "Epoch 134/500\n",
            "2/2 [==============================] - 0s 4ms/step - loss: 18.5755 - mae: 18.5755\n",
            "Epoch 135/500\n",
            "2/2 [==============================] - 0s 4ms/step - loss: 10.5360 - mae: 10.5360\n",
            "Epoch 136/500\n",
            "2/2 [==============================] - 0s 4ms/step - loss: 18.2694 - mae: 18.2694\n",
            "Epoch 137/500\n",
            "2/2 [==============================] - 0s 4ms/step - loss: 23.1658 - mae: 23.1658\n",
            "Epoch 138/500\n",
            "2/2 [==============================] - 0s 4ms/step - loss: 9.1362 - mae: 9.1362\n",
            "Epoch 139/500\n",
            "2/2 [==============================] - 0s 5ms/step - loss: 8.9181 - mae: 8.9181\n",
            "Epoch 140/500\n",
            "2/2 [==============================] - 0s 4ms/step - loss: 16.4732 - mae: 16.4732\n",
            "Epoch 141/500\n",
            "2/2 [==============================] - 0s 8ms/step - loss: 8.4208 - mae: 8.4208\n",
            "Epoch 142/500\n",
            "2/2 [==============================] - 0s 5ms/step - loss: 36.9540 - mae: 36.9540\n",
            "Epoch 143/500\n",
            "2/2 [==============================] - 0s 5ms/step - loss: 25.5820 - mae: 25.5820\n",
            "Epoch 144/500\n",
            "2/2 [==============================] - 0s 5ms/step - loss: 9.5392 - mae: 9.5392\n",
            "Epoch 145/500\n",
            "2/2 [==============================] - 0s 4ms/step - loss: 26.6058 - mae: 26.6058\n",
            "Epoch 146/500\n",
            "2/2 [==============================] - 0s 5ms/step - loss: 8.7248 - mae: 8.7248\n",
            "Epoch 147/500\n",
            "2/2 [==============================] - 0s 4ms/step - loss: 15.6172 - mae: 15.6172\n",
            "Epoch 148/500\n",
            "2/2 [==============================] - 0s 6ms/step - loss: 18.3065 - mae: 18.3065\n",
            "Epoch 149/500\n",
            "2/2 [==============================] - 0s 13ms/step - loss: 8.1994 - mae: 8.1994\n",
            "Epoch 150/500\n",
            "2/2 [==============================] - 0s 6ms/step - loss: 7.4964 - mae: 7.4964\n",
            "Epoch 151/500\n",
            "2/2 [==============================] - 0s 5ms/step - loss: 18.3374 - mae: 18.3374\n",
            "Epoch 152/500\n",
            "2/2 [==============================] - 0s 4ms/step - loss: 10.2895 - mae: 10.2895\n",
            "Epoch 153/500\n",
            "2/2 [==============================] - 0s 5ms/step - loss: 29.6425 - mae: 29.6425\n",
            "Epoch 154/500\n",
            "2/2 [==============================] - 0s 5ms/step - loss: 10.5555 - mae: 10.5555\n",
            "Epoch 155/500\n",
            "2/2 [==============================] - 0s 5ms/step - loss: 15.4537 - mae: 15.4537\n",
            "Epoch 156/500\n",
            "2/2 [==============================] - 0s 4ms/step - loss: 17.0174 - mae: 17.0174\n",
            "Epoch 157/500\n",
            "2/2 [==============================] - 0s 8ms/step - loss: 32.8218 - mae: 32.8218\n",
            "Epoch 158/500\n",
            "2/2 [==============================] - 0s 7ms/step - loss: 10.7038 - mae: 10.7038\n",
            "Epoch 159/500\n",
            "2/2 [==============================] - 0s 6ms/step - loss: 8.9054 - mae: 8.9054\n",
            "Epoch 160/500\n",
            "2/2 [==============================] - 0s 6ms/step - loss: 22.1321 - mae: 22.1321\n",
            "Epoch 161/500\n",
            "2/2 [==============================] - 0s 6ms/step - loss: 11.7113 - mae: 11.7113\n",
            "Epoch 162/500\n",
            "2/2 [==============================] - 0s 5ms/step - loss: 21.5734 - mae: 21.5734\n",
            "Epoch 163/500\n",
            "2/2 [==============================] - 0s 5ms/step - loss: 19.2485 - mae: 19.2485\n",
            "Epoch 164/500\n",
            "2/2 [==============================] - 0s 7ms/step - loss: 11.0156 - mae: 11.0156\n",
            "Epoch 165/500\n",
            "2/2 [==============================] - 0s 4ms/step - loss: 9.6187 - mae: 9.6187\n",
            "Epoch 166/500\n",
            "2/2 [==============================] - 0s 4ms/step - loss: 21.5908 - mae: 21.5908\n",
            "Epoch 167/500\n",
            "2/2 [==============================] - 0s 5ms/step - loss: 26.2851 - mae: 26.2851\n",
            "Epoch 168/500\n",
            "2/2 [==============================] - 0s 4ms/step - loss: 9.8525 - mae: 9.8525\n",
            "Epoch 169/500\n",
            "2/2 [==============================] - 0s 5ms/step - loss: 22.5631 - mae: 22.5631\n",
            "Epoch 170/500\n",
            "2/2 [==============================] - 0s 5ms/step - loss: 10.1499 - mae: 10.1499\n",
            "Epoch 171/500\n",
            "2/2 [==============================] - 0s 5ms/step - loss: 18.0464 - mae: 18.0464\n",
            "Epoch 172/500\n",
            "2/2 [==============================] - 0s 7ms/step - loss: 28.8377 - mae: 28.8377\n",
            "Epoch 173/500\n",
            "2/2 [==============================] - 0s 7ms/step - loss: 16.5279 - mae: 16.5279\n",
            "Epoch 174/500\n",
            "2/2 [==============================] - 0s 10ms/step - loss: 11.2115 - mae: 11.2115\n",
            "Epoch 175/500\n",
            "2/2 [==============================] - 0s 5ms/step - loss: 27.5839 - mae: 27.5839\n",
            "Epoch 176/500\n",
            "2/2 [==============================] - 0s 5ms/step - loss: 8.2680 - mae: 8.2680\n",
            "Epoch 177/500\n",
            "2/2 [==============================] - 0s 4ms/step - loss: 9.2580 - mae: 9.2580\n",
            "Epoch 178/500\n",
            "2/2 [==============================] - 0s 5ms/step - loss: 18.1440 - mae: 18.1440\n",
            "Epoch 179/500\n",
            "2/2 [==============================] - 0s 5ms/step - loss: 10.5995 - mae: 10.5995\n",
            "Epoch 180/500\n",
            "2/2 [==============================] - 0s 5ms/step - loss: 7.8992 - mae: 7.8992\n",
            "Epoch 181/500\n",
            "2/2 [==============================] - 0s 7ms/step - loss: 17.4015 - mae: 17.4015\n",
            "Epoch 182/500\n",
            "2/2 [==============================] - 0s 7ms/step - loss: 11.0089 - mae: 11.0089\n",
            "Epoch 183/500\n",
            "2/2 [==============================] - 0s 8ms/step - loss: 11.7027 - mae: 11.7027\n",
            "Epoch 184/500\n",
            "2/2 [==============================] - 0s 5ms/step - loss: 30.4062 - mae: 30.4062\n",
            "Epoch 185/500\n",
            "2/2 [==============================] - 0s 4ms/step - loss: 7.5557 - mae: 7.5557\n",
            "Epoch 186/500\n",
            "2/2 [==============================] - 0s 5ms/step - loss: 15.9905 - mae: 15.9905\n",
            "Epoch 187/500\n",
            "2/2 [==============================] - 0s 5ms/step - loss: 8.5579 - mae: 8.5579\n",
            "Epoch 188/500\n",
            "2/2 [==============================] - 0s 10ms/step - loss: 28.7339 - mae: 28.7339\n",
            "Epoch 189/500\n",
            "2/2 [==============================] - 0s 11ms/step - loss: 13.1689 - mae: 13.1689\n",
            "Epoch 190/500\n",
            "2/2 [==============================] - 0s 4ms/step - loss: 18.3101 - mae: 18.3101\n",
            "Epoch 191/500\n",
            "2/2 [==============================] - 0s 4ms/step - loss: 13.7376 - mae: 13.7376\n",
            "Epoch 192/500\n",
            "2/2 [==============================] - 0s 7ms/step - loss: 13.7104 - mae: 13.7104\n",
            "Epoch 193/500\n",
            "2/2 [==============================] - 0s 9ms/step - loss: 28.5842 - mae: 28.5842\n",
            "Epoch 194/500\n",
            "2/2 [==============================] - 0s 5ms/step - loss: 7.0707 - mae: 7.0707\n",
            "Epoch 195/500\n",
            "2/2 [==============================] - 0s 4ms/step - loss: 7.0550 - mae: 7.0550\n",
            "Epoch 196/500\n",
            "2/2 [==============================] - 0s 6ms/step - loss: 22.0067 - mae: 22.0067\n",
            "Epoch 197/500\n",
            "2/2 [==============================] - 0s 6ms/step - loss: 20.8443 - mae: 20.8443\n",
            "Epoch 198/500\n",
            "2/2 [==============================] - 0s 7ms/step - loss: 12.4713 - mae: 12.4713\n",
            "Epoch 199/500\n",
            "2/2 [==============================] - 0s 4ms/step - loss: 17.9099 - mae: 17.9099\n",
            "Epoch 200/500\n",
            "2/2 [==============================] - 0s 6ms/step - loss: 13.7493 - mae: 13.7493\n",
            "Epoch 201/500\n",
            "2/2 [==============================] - 0s 4ms/step - loss: 5.4687 - mae: 5.4687\n",
            "Epoch 202/500\n",
            "2/2 [==============================] - 0s 5ms/step - loss: 13.7005 - mae: 13.7005\n",
            "Epoch 203/500\n",
            "2/2 [==============================] - 0s 6ms/step - loss: 9.4142 - mae: 9.4142\n",
            "Epoch 204/500\n",
            "2/2 [==============================] - 0s 4ms/step - loss: 20.9796 - mae: 20.9796\n",
            "Epoch 205/500\n",
            "2/2 [==============================] - 0s 4ms/step - loss: 9.5470 - mae: 9.5470\n",
            "Epoch 206/500\n",
            "2/2 [==============================] - 0s 6ms/step - loss: 11.7256 - mae: 11.7256\n",
            "Epoch 207/500\n",
            "2/2 [==============================] - 0s 9ms/step - loss: 14.3772 - mae: 14.3772\n",
            "Epoch 208/500\n",
            "2/2 [==============================] - 0s 4ms/step - loss: 14.8579 - mae: 14.8579\n",
            "Epoch 209/500\n",
            "2/2 [==============================] - 0s 5ms/step - loss: 14.9706 - mae: 14.9706\n",
            "Epoch 210/500\n",
            "2/2 [==============================] - 0s 9ms/step - loss: 17.8998 - mae: 17.8998\n",
            "Epoch 211/500\n",
            "2/2 [==============================] - 0s 4ms/step - loss: 9.8327 - mae: 9.8327\n",
            "Epoch 212/500\n",
            "2/2 [==============================] - 0s 4ms/step - loss: 18.3352 - mae: 18.3352\n",
            "Epoch 213/500\n",
            "2/2 [==============================] - 0s 4ms/step - loss: 15.0383 - mae: 15.0383\n",
            "Epoch 214/500\n",
            "2/2 [==============================] - 0s 4ms/step - loss: 14.5874 - mae: 14.5874\n",
            "Epoch 215/500\n",
            "2/2 [==============================] - 0s 4ms/step - loss: 23.3015 - mae: 23.3015\n",
            "Epoch 216/500\n",
            "2/2 [==============================] - 0s 9ms/step - loss: 13.3613 - mae: 13.3613\n",
            "Epoch 217/500\n",
            "2/2 [==============================] - 0s 4ms/step - loss: 9.8517 - mae: 9.8517\n",
            "Epoch 218/500\n",
            "2/2 [==============================] - 0s 5ms/step - loss: 12.5451 - mae: 12.5451\n",
            "Epoch 219/500\n",
            "2/2 [==============================] - 0s 4ms/step - loss: 4.9472 - mae: 4.9472\n",
            "Epoch 220/500\n",
            "2/2 [==============================] - 0s 5ms/step - loss: 7.1130 - mae: 7.1130\n",
            "Epoch 221/500\n",
            "2/2 [==============================] - 0s 4ms/step - loss: 35.4567 - mae: 35.4567\n",
            "Epoch 222/500\n",
            "2/2 [==============================] - 0s 5ms/step - loss: 34.8634 - mae: 34.8634\n",
            "Epoch 223/500\n",
            "2/2 [==============================] - 0s 4ms/step - loss: 7.9846 - mae: 7.9846\n",
            "Epoch 224/500\n",
            "2/2 [==============================] - 0s 5ms/step - loss: 14.7004 - mae: 14.7004\n",
            "Epoch 225/500\n",
            "2/2 [==============================] - 0s 5ms/step - loss: 16.7196 - mae: 16.7196\n",
            "Epoch 226/500\n",
            "2/2 [==============================] - 0s 4ms/step - loss: 15.9329 - mae: 15.9329\n",
            "Epoch 227/500\n",
            "2/2 [==============================] - 0s 4ms/step - loss: 16.1644 - mae: 16.1644\n",
            "Epoch 228/500\n",
            "2/2 [==============================] - 0s 4ms/step - loss: 13.9324 - mae: 13.9324\n",
            "Epoch 229/500\n",
            "2/2 [==============================] - 0s 5ms/step - loss: 18.0504 - mae: 18.0504\n",
            "Epoch 230/500\n",
            "2/2 [==============================] - 0s 4ms/step - loss: 15.6120 - mae: 15.6120\n",
            "Epoch 231/500\n",
            "2/2 [==============================] - 0s 9ms/step - loss: 21.2041 - mae: 21.2041\n",
            "Epoch 232/500\n",
            "2/2 [==============================] - 0s 8ms/step - loss: 25.2732 - mae: 25.2732\n",
            "Epoch 233/500\n",
            "2/2 [==============================] - 0s 5ms/step - loss: 16.3176 - mae: 16.3176\n",
            "Epoch 234/500\n",
            "2/2 [==============================] - 0s 4ms/step - loss: 7.2729 - mae: 7.2729\n",
            "Epoch 235/500\n",
            "2/2 [==============================] - 0s 5ms/step - loss: 16.9688 - mae: 16.9688\n",
            "Epoch 236/500\n",
            "2/2 [==============================] - 0s 7ms/step - loss: 7.1225 - mae: 7.1225\n",
            "Epoch 237/500\n",
            "2/2 [==============================] - 0s 4ms/step - loss: 9.2058 - mae: 9.2058\n",
            "Epoch 238/500\n",
            "2/2 [==============================] - 0s 4ms/step - loss: 8.0961 - mae: 8.0961\n",
            "Epoch 239/500\n",
            "2/2 [==============================] - 0s 7ms/step - loss: 17.0538 - mae: 17.0538\n",
            "Epoch 240/500\n",
            "2/2 [==============================] - 0s 6ms/step - loss: 8.8627 - mae: 8.8627\n",
            "Epoch 241/500\n",
            "2/2 [==============================] - 0s 5ms/step - loss: 13.1711 - mae: 13.1711\n",
            "Epoch 242/500\n",
            "2/2 [==============================] - 0s 4ms/step - loss: 8.7886 - mae: 8.7886\n",
            "Epoch 243/500\n",
            "2/2 [==============================] - 0s 5ms/step - loss: 18.8161 - mae: 18.8161\n",
            "Epoch 244/500\n",
            "2/2 [==============================] - 0s 6ms/step - loss: 14.0531 - mae: 14.0531\n",
            "Epoch 245/500\n",
            "2/2 [==============================] - 0s 6ms/step - loss: 14.6831 - mae: 14.6831\n",
            "Epoch 246/500\n",
            "2/2 [==============================] - 0s 7ms/step - loss: 15.8045 - mae: 15.8045\n",
            "Epoch 247/500\n",
            "2/2 [==============================] - 0s 4ms/step - loss: 17.6810 - mae: 17.6810\n",
            "Epoch 248/500\n",
            "2/2 [==============================] - 0s 5ms/step - loss: 13.2367 - mae: 13.2367\n",
            "Epoch 249/500\n",
            "2/2 [==============================] - 0s 9ms/step - loss: 14.5070 - mae: 14.5070\n",
            "Epoch 250/500\n",
            "2/2 [==============================] - 0s 5ms/step - loss: 23.2322 - mae: 23.2322\n",
            "Epoch 251/500\n",
            "2/2 [==============================] - 0s 4ms/step - loss: 9.3009 - mae: 9.3009\n",
            "Epoch 252/500\n",
            "2/2 [==============================] - 0s 5ms/step - loss: 36.6568 - mae: 36.6568\n",
            "Epoch 253/500\n",
            "2/2 [==============================] - 0s 4ms/step - loss: 21.8205 - mae: 21.8205\n",
            "Epoch 254/500\n",
            "2/2 [==============================] - 0s 7ms/step - loss: 7.2792 - mae: 7.2792\n",
            "Epoch 255/500\n",
            "2/2 [==============================] - 0s 6ms/step - loss: 24.7126 - mae: 24.7126\n",
            "Epoch 256/500\n",
            "2/2 [==============================] - 0s 4ms/step - loss: 12.4220 - mae: 12.4220\n",
            "Epoch 257/500\n",
            "2/2 [==============================] - 0s 8ms/step - loss: 10.5823 - mae: 10.5823\n",
            "Epoch 258/500\n",
            "2/2 [==============================] - 0s 7ms/step - loss: 14.4883 - mae: 14.4883\n",
            "Epoch 259/500\n",
            "2/2 [==============================] - 0s 5ms/step - loss: 8.6132 - mae: 8.6132\n",
            "Epoch 260/500\n",
            "2/2 [==============================] - 0s 10ms/step - loss: 43.0580 - mae: 43.0580\n",
            "Epoch 261/500\n",
            "2/2 [==============================] - 0s 5ms/step - loss: 18.4611 - mae: 18.4611\n",
            "Epoch 262/500\n",
            "2/2 [==============================] - 0s 4ms/step - loss: 6.8820 - mae: 6.8820\n",
            "Epoch 263/500\n",
            "2/2 [==============================] - 0s 5ms/step - loss: 13.7211 - mae: 13.7211\n",
            "Epoch 264/500\n",
            "2/2 [==============================] - 0s 6ms/step - loss: 21.0154 - mae: 21.0154\n",
            "Epoch 265/500\n",
            "2/2 [==============================] - 0s 5ms/step - loss: 19.3730 - mae: 19.3730\n",
            "Epoch 266/500\n",
            "2/2 [==============================] - 0s 4ms/step - loss: 11.4735 - mae: 11.4735\n",
            "Epoch 267/500\n",
            "2/2 [==============================] - 0s 5ms/step - loss: 7.5302 - mae: 7.5302\n",
            "Epoch 268/500\n",
            "2/2 [==============================] - 0s 6ms/step - loss: 21.6453 - mae: 21.6453\n",
            "Epoch 269/500\n",
            "2/2 [==============================] - 0s 5ms/step - loss: 33.1784 - mae: 33.1784\n",
            "Epoch 270/500\n",
            "2/2 [==============================] - 0s 11ms/step - loss: 10.0833 - mae: 10.0833\n",
            "Epoch 271/500\n",
            "2/2 [==============================] - 0s 5ms/step - loss: 12.1012 - mae: 12.1012\n",
            "Epoch 272/500\n",
            "2/2 [==============================] - 0s 9ms/step - loss: 26.1372 - mae: 26.1372\n",
            "Epoch 273/500\n",
            "2/2 [==============================] - 0s 4ms/step - loss: 12.1751 - mae: 12.1751\n",
            "Epoch 274/500\n",
            "2/2 [==============================] - 0s 4ms/step - loss: 13.3272 - mae: 13.3272\n",
            "Epoch 275/500\n",
            "2/2 [==============================] - 0s 4ms/step - loss: 29.3775 - mae: 29.3775\n",
            "Epoch 276/500\n",
            "2/2 [==============================] - 0s 9ms/step - loss: 7.3329 - mae: 7.3329\n",
            "Epoch 277/500\n",
            "2/2 [==============================] - 0s 4ms/step - loss: 31.1362 - mae: 31.1362\n",
            "Epoch 278/500\n",
            "2/2 [==============================] - 0s 8ms/step - loss: 12.3016 - mae: 12.3016\n",
            "Epoch 279/500\n",
            "2/2 [==============================] - 0s 4ms/step - loss: 16.4103 - mae: 16.4103\n",
            "Epoch 280/500\n",
            "2/2 [==============================] - 0s 5ms/step - loss: 21.9118 - mae: 21.9118\n",
            "Epoch 281/500\n",
            "2/2 [==============================] - 0s 4ms/step - loss: 22.1500 - mae: 22.1500\n",
            "Epoch 282/500\n",
            "2/2 [==============================] - 0s 5ms/step - loss: 7.7429 - mae: 7.7429\n",
            "Epoch 283/500\n",
            "2/2 [==============================] - 0s 4ms/step - loss: 8.1429 - mae: 8.1429\n",
            "Epoch 284/500\n",
            "2/2 [==============================] - 0s 4ms/step - loss: 24.9434 - mae: 24.9434\n",
            "Epoch 285/500\n",
            "2/2 [==============================] - 0s 6ms/step - loss: 13.6958 - mae: 13.6958\n",
            "Epoch 286/500\n",
            "2/2 [==============================] - 0s 6ms/step - loss: 6.8926 - mae: 6.8926\n",
            "Epoch 287/500\n",
            "2/2 [==============================] - 0s 5ms/step - loss: 24.5352 - mae: 24.5352\n",
            "Epoch 288/500\n",
            "2/2 [==============================] - 0s 5ms/step - loss: 20.1721 - mae: 20.1721\n",
            "Epoch 289/500\n",
            "2/2 [==============================] - 0s 5ms/step - loss: 11.9658 - mae: 11.9658\n",
            "Epoch 290/500\n",
            "2/2 [==============================] - 0s 4ms/step - loss: 16.5391 - mae: 16.5391\n",
            "Epoch 291/500\n",
            "2/2 [==============================] - 0s 7ms/step - loss: 16.8017 - mae: 16.8017\n",
            "Epoch 292/500\n",
            "2/2 [==============================] - 0s 4ms/step - loss: 9.4642 - mae: 9.4642\n",
            "Epoch 293/500\n",
            "2/2 [==============================] - 0s 6ms/step - loss: 15.2711 - mae: 15.2711\n",
            "Epoch 294/500\n",
            "2/2 [==============================] - 0s 9ms/step - loss: 22.7179 - mae: 22.7179\n",
            "Epoch 295/500\n",
            "2/2 [==============================] - 0s 4ms/step - loss: 17.9234 - mae: 17.9234\n",
            "Epoch 296/500\n",
            "2/2 [==============================] - 0s 5ms/step - loss: 6.1742 - mae: 6.1742\n",
            "Epoch 297/500\n",
            "2/2 [==============================] - 0s 5ms/step - loss: 10.9440 - mae: 10.9440\n",
            "Epoch 298/500\n",
            "2/2 [==============================] - 0s 5ms/step - loss: 23.1530 - mae: 23.1530\n",
            "Epoch 299/500\n",
            "2/2 [==============================] - 0s 9ms/step - loss: 17.7331 - mae: 17.7331\n",
            "Epoch 300/500\n",
            "2/2 [==============================] - 0s 5ms/step - loss: 6.9824 - mae: 6.9824\n",
            "Epoch 301/500\n",
            "2/2 [==============================] - 0s 4ms/step - loss: 25.1857 - mae: 25.1857\n",
            "Epoch 302/500\n",
            "2/2 [==============================] - 0s 4ms/step - loss: 8.9025 - mae: 8.9025\n",
            "Epoch 303/500\n",
            "2/2 [==============================] - 0s 5ms/step - loss: 17.7668 - mae: 17.7668\n",
            "Epoch 304/500\n",
            "2/2 [==============================] - 0s 4ms/step - loss: 11.0002 - mae: 11.0002\n",
            "Epoch 305/500\n",
            "2/2 [==============================] - 0s 6ms/step - loss: 12.9191 - mae: 12.9191\n",
            "Epoch 306/500\n",
            "2/2 [==============================] - 0s 4ms/step - loss: 8.4033 - mae: 8.4033\n",
            "Epoch 307/500\n",
            "2/2 [==============================] - 0s 4ms/step - loss: 13.6094 - mae: 13.6094\n",
            "Epoch 308/500\n",
            "2/2 [==============================] - 0s 8ms/step - loss: 7.4404 - mae: 7.4404\n",
            "Epoch 309/500\n",
            "2/2 [==============================] - 0s 5ms/step - loss: 9.4642 - mae: 9.4642\n",
            "Epoch 310/500\n",
            "2/2 [==============================] - 0s 4ms/step - loss: 10.7099 - mae: 10.7099\n",
            "Epoch 311/500\n",
            "2/2 [==============================] - 0s 4ms/step - loss: 13.2814 - mae: 13.2814\n",
            "Epoch 312/500\n",
            "2/2 [==============================] - 0s 5ms/step - loss: 29.9763 - mae: 29.9763\n",
            "Epoch 313/500\n",
            "2/2 [==============================] - 0s 4ms/step - loss: 7.6304 - mae: 7.6304\n",
            "Epoch 314/500\n",
            "2/2 [==============================] - 0s 6ms/step - loss: 9.9106 - mae: 9.9106\n",
            "Epoch 315/500\n",
            "2/2 [==============================] - 0s 5ms/step - loss: 23.7669 - mae: 23.7669\n",
            "Epoch 316/500\n",
            "2/2 [==============================] - 0s 6ms/step - loss: 16.3936 - mae: 16.3936\n",
            "Epoch 317/500\n",
            "2/2 [==============================] - 0s 5ms/step - loss: 21.0758 - mae: 21.0758\n",
            "Epoch 318/500\n",
            "2/2 [==============================] - 0s 5ms/step - loss: 7.9367 - mae: 7.9367\n",
            "Epoch 319/500\n",
            "2/2 [==============================] - 0s 9ms/step - loss: 17.9731 - mae: 17.9731\n",
            "Epoch 320/500\n",
            "2/2 [==============================] - 0s 5ms/step - loss: 10.2375 - mae: 10.2375\n",
            "Epoch 321/500\n",
            "2/2 [==============================] - 0s 10ms/step - loss: 8.3338 - mae: 8.3338\n",
            "Epoch 322/500\n",
            "2/2 [==============================] - 0s 4ms/step - loss: 5.0621 - mae: 5.0621\n",
            "Epoch 323/500\n",
            "2/2 [==============================] - 0s 9ms/step - loss: 23.5109 - mae: 23.5109\n",
            "Epoch 324/500\n",
            "2/2 [==============================] - 0s 5ms/step - loss: 6.8309 - mae: 6.8309\n",
            "Epoch 325/500\n",
            "2/2 [==============================] - 0s 5ms/step - loss: 16.3863 - mae: 16.3863\n",
            "Epoch 326/500\n",
            "2/2 [==============================] - 0s 4ms/step - loss: 7.5019 - mae: 7.5019\n",
            "Epoch 327/500\n",
            "2/2 [==============================] - 0s 4ms/step - loss: 20.0573 - mae: 20.0573\n",
            "Epoch 328/500\n",
            "2/2 [==============================] - 0s 5ms/step - loss: 13.7661 - mae: 13.7661\n",
            "Epoch 329/500\n",
            "2/2 [==============================] - 0s 5ms/step - loss: 16.8282 - mae: 16.8282\n",
            "Epoch 330/500\n",
            "2/2 [==============================] - 0s 4ms/step - loss: 7.0514 - mae: 7.0514\n",
            "Epoch 331/500\n",
            "2/2 [==============================] - 0s 10ms/step - loss: 21.4846 - mae: 21.4846\n",
            "Epoch 332/500\n",
            "2/2 [==============================] - 0s 9ms/step - loss: 12.2880 - mae: 12.2880\n",
            "Epoch 333/500\n",
            "2/2 [==============================] - 0s 5ms/step - loss: 11.8117 - mae: 11.8117\n",
            "Epoch 334/500\n",
            "2/2 [==============================] - 0s 5ms/step - loss: 8.3600 - mae: 8.3600\n",
            "Epoch 335/500\n",
            "2/2 [==============================] - 0s 5ms/step - loss: 12.4833 - mae: 12.4833\n",
            "Epoch 336/500\n",
            "2/2 [==============================] - 0s 5ms/step - loss: 32.2171 - mae: 32.2171\n",
            "Epoch 337/500\n",
            "2/2 [==============================] - 0s 14ms/step - loss: 10.4477 - mae: 10.4477\n",
            "Epoch 338/500\n",
            "2/2 [==============================] - 0s 5ms/step - loss: 19.6832 - mae: 19.6832\n",
            "Epoch 339/500\n",
            "2/2 [==============================] - 0s 6ms/step - loss: 35.0762 - mae: 35.0762\n",
            "Epoch 340/500\n",
            "2/2 [==============================] - 0s 4ms/step - loss: 10.4192 - mae: 10.4192\n",
            "Epoch 341/500\n",
            "2/2 [==============================] - 0s 4ms/step - loss: 9.7625 - mae: 9.7625\n",
            "Epoch 342/500\n",
            "2/2 [==============================] - 0s 7ms/step - loss: 11.9500 - mae: 11.9500\n",
            "Epoch 343/500\n",
            "2/2 [==============================] - 0s 11ms/step - loss: 9.3943 - mae: 9.3943\n",
            "Epoch 344/500\n",
            "2/2 [==============================] - 0s 10ms/step - loss: 5.6071 - mae: 5.6071\n",
            "Epoch 345/500\n",
            "2/2 [==============================] - 0s 5ms/step - loss: 37.4876 - mae: 37.4876\n",
            "Epoch 346/500\n",
            "2/2 [==============================] - 0s 6ms/step - loss: 16.8830 - mae: 16.8830\n",
            "Epoch 347/500\n",
            "2/2 [==============================] - 0s 5ms/step - loss: 12.8748 - mae: 12.8748\n",
            "Epoch 348/500\n",
            "2/2 [==============================] - 0s 7ms/step - loss: 8.1960 - mae: 8.1960\n",
            "Epoch 349/500\n",
            "2/2 [==============================] - 0s 7ms/step - loss: 13.5568 - mae: 13.5568\n",
            "Epoch 350/500\n",
            "2/2 [==============================] - 0s 4ms/step - loss: 15.4354 - mae: 15.4354\n",
            "Epoch 351/500\n",
            "2/2 [==============================] - 0s 5ms/step - loss: 32.9626 - mae: 32.9626\n",
            "Epoch 352/500\n",
            "2/2 [==============================] - 0s 8ms/step - loss: 14.2040 - mae: 14.2040\n",
            "Epoch 353/500\n",
            "2/2 [==============================] - 0s 4ms/step - loss: 15.9196 - mae: 15.9196\n",
            "Epoch 354/500\n",
            "2/2 [==============================] - 0s 4ms/step - loss: 19.0878 - mae: 19.0878\n",
            "Epoch 355/500\n",
            "2/2 [==============================] - 0s 4ms/step - loss: 34.1178 - mae: 34.1178\n",
            "Epoch 356/500\n",
            "2/2 [==============================] - 0s 4ms/step - loss: 7.6798 - mae: 7.6798\n",
            "Epoch 357/500\n",
            "2/2 [==============================] - 0s 6ms/step - loss: 25.2287 - mae: 25.2287\n",
            "Epoch 358/500\n",
            "2/2 [==============================] - 0s 4ms/step - loss: 22.6759 - mae: 22.6759\n",
            "Epoch 359/500\n",
            "2/2 [==============================] - 0s 7ms/step - loss: 8.8765 - mae: 8.8765\n",
            "Epoch 360/500\n",
            "2/2 [==============================] - 0s 4ms/step - loss: 21.4709 - mae: 21.4709\n",
            "Epoch 361/500\n",
            "2/2 [==============================] - 0s 4ms/step - loss: 20.6073 - mae: 20.6073\n",
            "Epoch 362/500\n",
            "2/2 [==============================] - 0s 5ms/step - loss: 7.0611 - mae: 7.0611\n",
            "Epoch 363/500\n",
            "2/2 [==============================] - 0s 4ms/step - loss: 25.8117 - mae: 25.8117\n",
            "Epoch 364/500\n",
            "2/2 [==============================] - 0s 4ms/step - loss: 32.2247 - mae: 32.2247\n",
            "Epoch 365/500\n",
            "2/2 [==============================] - 0s 6ms/step - loss: 10.0205 - mae: 10.0205\n",
            "Epoch 366/500\n",
            "2/2 [==============================] - 0s 7ms/step - loss: 9.6722 - mae: 9.6722\n",
            "Epoch 367/500\n",
            "2/2 [==============================] - 0s 4ms/step - loss: 30.4171 - mae: 30.4171\n",
            "Epoch 368/500\n",
            "2/2 [==============================] - 0s 5ms/step - loss: 10.5020 - mae: 10.5020\n",
            "Epoch 369/500\n",
            "2/2 [==============================] - 0s 4ms/step - loss: 14.9909 - mae: 14.9909\n",
            "Epoch 370/500\n",
            "2/2 [==============================] - 0s 4ms/step - loss: 14.6580 - mae: 14.6580\n",
            "Epoch 371/500\n",
            "2/2 [==============================] - 0s 9ms/step - loss: 23.3672 - mae: 23.3672\n",
            "Epoch 372/500\n",
            "2/2 [==============================] - 0s 4ms/step - loss: 13.1025 - mae: 13.1025\n",
            "Epoch 373/500\n",
            "2/2 [==============================] - 0s 9ms/step - loss: 9.2586 - mae: 9.2586\n",
            "Epoch 374/500\n",
            "2/2 [==============================] - 0s 4ms/step - loss: 9.6648 - mae: 9.6648\n",
            "Epoch 375/500\n",
            "2/2 [==============================] - 0s 10ms/step - loss: 13.0041 - mae: 13.0041\n",
            "Epoch 376/500\n",
            "2/2 [==============================] - 0s 5ms/step - loss: 14.8863 - mae: 14.8863\n",
            "Epoch 377/500\n",
            "2/2 [==============================] - 0s 5ms/step - loss: 14.7932 - mae: 14.7932\n",
            "Epoch 378/500\n",
            "2/2 [==============================] - 0s 7ms/step - loss: 16.2751 - mae: 16.2751\n",
            "Epoch 379/500\n",
            "2/2 [==============================] - 0s 5ms/step - loss: 20.8307 - mae: 20.8307\n",
            "Epoch 380/500\n",
            "2/2 [==============================] - 0s 6ms/step - loss: 33.5318 - mae: 33.5318\n",
            "Epoch 381/500\n",
            "2/2 [==============================] - 0s 4ms/step - loss: 8.2166 - mae: 8.2166\n",
            "Epoch 382/500\n",
            "2/2 [==============================] - 0s 5ms/step - loss: 13.0960 - mae: 13.0960\n",
            "Epoch 383/500\n",
            "2/2 [==============================] - 0s 5ms/step - loss: 8.3999 - mae: 8.3999\n",
            "Epoch 384/500\n",
            "2/2 [==============================] - 0s 9ms/step - loss: 7.1283 - mae: 7.1283\n",
            "Epoch 385/500\n",
            "2/2 [==============================] - 0s 5ms/step - loss: 10.9390 - mae: 10.9390\n",
            "Epoch 386/500\n",
            "2/2 [==============================] - 0s 4ms/step - loss: 19.7654 - mae: 19.7654\n",
            "Epoch 387/500\n",
            "2/2 [==============================] - 0s 5ms/step - loss: 24.8625 - mae: 24.8625\n",
            "Epoch 388/500\n",
            "2/2 [==============================] - 0s 4ms/step - loss: 8.7422 - mae: 8.7422\n",
            "Epoch 389/500\n",
            "2/2 [==============================] - 0s 9ms/step - loss: 5.9488 - mae: 5.9488\n",
            "Epoch 390/500\n",
            "2/2 [==============================] - 0s 4ms/step - loss: 24.4401 - mae: 24.4401\n",
            "Epoch 391/500\n",
            "2/2 [==============================] - 0s 4ms/step - loss: 5.9771 - mae: 5.9771\n",
            "Epoch 392/500\n",
            "2/2 [==============================] - 0s 5ms/step - loss: 16.3250 - mae: 16.3250\n",
            "Epoch 393/500\n",
            "2/2 [==============================] - 0s 8ms/step - loss: 6.0917 - mae: 6.0917\n",
            "Epoch 394/500\n",
            "2/2 [==============================] - 0s 4ms/step - loss: 11.0963 - mae: 11.0963\n",
            "Epoch 395/500\n",
            "2/2 [==============================] - 0s 4ms/step - loss: 14.9601 - mae: 14.9601\n",
            "Epoch 396/500\n",
            "2/2 [==============================] - 0s 4ms/step - loss: 7.6462 - mae: 7.6462\n",
            "Epoch 397/500\n",
            "2/2 [==============================] - 0s 4ms/step - loss: 8.7654 - mae: 8.7654\n",
            "Epoch 398/500\n",
            "2/2 [==============================] - 0s 6ms/step - loss: 14.5992 - mae: 14.5992\n",
            "Epoch 399/500\n",
            "2/2 [==============================] - 0s 4ms/step - loss: 11.3166 - mae: 11.3166\n",
            "Epoch 400/500\n",
            "2/2 [==============================] - 0s 5ms/step - loss: 21.9080 - mae: 21.9080\n",
            "Epoch 401/500\n",
            "2/2 [==============================] - 0s 7ms/step - loss: 14.8654 - mae: 14.8654\n",
            "Epoch 402/500\n",
            "2/2 [==============================] - 0s 11ms/step - loss: 8.4970 - mae: 8.4970\n",
            "Epoch 403/500\n",
            "2/2 [==============================] - 0s 4ms/step - loss: 10.3957 - mae: 10.3957\n",
            "Epoch 404/500\n",
            "2/2 [==============================] - 0s 4ms/step - loss: 10.2556 - mae: 10.2556\n",
            "Epoch 405/500\n",
            "2/2 [==============================] - 0s 6ms/step - loss: 6.3392 - mae: 6.3392\n",
            "Epoch 406/500\n",
            "2/2 [==============================] - 0s 7ms/step - loss: 17.4602 - mae: 17.4602\n",
            "Epoch 407/500\n",
            "2/2 [==============================] - 0s 6ms/step - loss: 11.4627 - mae: 11.4627\n",
            "Epoch 408/500\n",
            "2/2 [==============================] - 0s 5ms/step - loss: 20.7294 - mae: 20.7294\n",
            "Epoch 409/500\n",
            "2/2 [==============================] - 0s 6ms/step - loss: 31.3339 - mae: 31.3339\n",
            "Epoch 410/500\n",
            "2/2 [==============================] - 0s 5ms/step - loss: 9.2542 - mae: 9.2542\n",
            "Epoch 411/500\n",
            "2/2 [==============================] - 0s 4ms/step - loss: 14.8621 - mae: 14.8621\n",
            "Epoch 412/500\n",
            "2/2 [==============================] - 0s 4ms/step - loss: 21.7182 - mae: 21.7182\n",
            "Epoch 413/500\n",
            "2/2 [==============================] - 0s 4ms/step - loss: 12.6615 - mae: 12.6615\n",
            "Epoch 414/500\n",
            "2/2 [==============================] - 0s 5ms/step - loss: 6.0687 - mae: 6.0687\n",
            "Epoch 415/500\n",
            "2/2 [==============================] - 0s 5ms/step - loss: 13.2201 - mae: 13.2201\n",
            "Epoch 416/500\n",
            "2/2 [==============================] - 0s 4ms/step - loss: 27.4244 - mae: 27.4244\n",
            "Epoch 417/500\n",
            "2/2 [==============================] - 0s 4ms/step - loss: 10.6407 - mae: 10.6407\n",
            "Epoch 418/500\n",
            "2/2 [==============================] - 0s 8ms/step - loss: 12.8230 - mae: 12.8230\n",
            "Epoch 419/500\n",
            "2/2 [==============================] - 0s 4ms/step - loss: 15.8836 - mae: 15.8836\n",
            "Epoch 420/500\n",
            "2/2 [==============================] - 0s 8ms/step - loss: 24.7510 - mae: 24.7510\n",
            "Epoch 421/500\n",
            "2/2 [==============================] - 0s 4ms/step - loss: 17.3753 - mae: 17.3753\n",
            "Epoch 422/500\n",
            "2/2 [==============================] - 0s 5ms/step - loss: 7.8241 - mae: 7.8241\n",
            "Epoch 423/500\n",
            "2/2 [==============================] - 0s 14ms/step - loss: 25.3789 - mae: 25.3789\n",
            "Epoch 424/500\n",
            "2/2 [==============================] - 0s 5ms/step - loss: 15.1031 - mae: 15.1031\n",
            "Epoch 425/500\n",
            "2/2 [==============================] - 0s 6ms/step - loss: 7.1643 - mae: 7.1643\n",
            "Epoch 426/500\n",
            "2/2 [==============================] - 0s 5ms/step - loss: 20.3318 - mae: 20.3318\n",
            "Epoch 427/500\n",
            "2/2 [==============================] - 0s 7ms/step - loss: 6.3283 - mae: 6.3283\n",
            "Epoch 428/500\n",
            "2/2 [==============================] - 0s 9ms/step - loss: 12.9962 - mae: 12.9962\n",
            "Epoch 429/500\n",
            "2/2 [==============================] - 0s 4ms/step - loss: 10.7869 - mae: 10.7869\n",
            "Epoch 430/500\n",
            "2/2 [==============================] - 0s 7ms/step - loss: 11.4007 - mae: 11.4007\n",
            "Epoch 431/500\n",
            "2/2 [==============================] - 0s 5ms/step - loss: 10.6153 - mae: 10.6153\n",
            "Epoch 432/500\n",
            "2/2 [==============================] - 0s 5ms/step - loss: 11.4582 - mae: 11.4582\n",
            "Epoch 433/500\n",
            "2/2 [==============================] - 0s 8ms/step - loss: 11.3851 - mae: 11.3851\n",
            "Epoch 434/500\n",
            "2/2 [==============================] - 0s 5ms/step - loss: 30.3986 - mae: 30.3986\n",
            "Epoch 435/500\n",
            "2/2 [==============================] - 0s 5ms/step - loss: 10.5052 - mae: 10.5052\n",
            "Epoch 436/500\n",
            "2/2 [==============================] - 0s 4ms/step - loss: 28.8810 - mae: 28.8810\n",
            "Epoch 437/500\n",
            "2/2 [==============================] - 0s 4ms/step - loss: 8.5916 - mae: 8.5916\n",
            "Epoch 438/500\n",
            "2/2 [==============================] - 0s 4ms/step - loss: 12.7378 - mae: 12.7378\n",
            "Epoch 439/500\n",
            "2/2 [==============================] - 0s 4ms/step - loss: 33.6754 - mae: 33.6754\n",
            "Epoch 440/500\n",
            "2/2 [==============================] - 0s 4ms/step - loss: 15.0962 - mae: 15.0962\n",
            "Epoch 441/500\n",
            "2/2 [==============================] - 0s 5ms/step - loss: 17.4813 - mae: 17.4813\n",
            "Epoch 442/500\n",
            "2/2 [==============================] - 0s 4ms/step - loss: 22.3049 - mae: 22.3049\n",
            "Epoch 443/500\n",
            "2/2 [==============================] - 0s 6ms/step - loss: 23.5841 - mae: 23.5841\n",
            "Epoch 444/500\n",
            "2/2 [==============================] - 0s 4ms/step - loss: 11.0008 - mae: 11.0008\n",
            "Epoch 445/500\n",
            "2/2 [==============================] - 0s 4ms/step - loss: 14.9175 - mae: 14.9175\n",
            "Epoch 446/500\n",
            "2/2 [==============================] - 0s 101ms/step - loss: 17.9979 - mae: 17.9979\n",
            "Epoch 447/500\n",
            "2/2 [==============================] - 0s 5ms/step - loss: 5.4482 - mae: 5.4482\n",
            "Epoch 448/500\n",
            "2/2 [==============================] - 0s 5ms/step - loss: 10.0527 - mae: 10.0527\n",
            "Epoch 449/500\n",
            "2/2 [==============================] - 0s 4ms/step - loss: 14.0052 - mae: 14.0052\n",
            "Epoch 450/500\n",
            "2/2 [==============================] - 0s 9ms/step - loss: 16.7782 - mae: 16.7782\n",
            "Epoch 451/500\n",
            "2/2 [==============================] - 0s 5ms/step - loss: 14.2937 - mae: 14.2937\n",
            "Epoch 452/500\n",
            "2/2 [==============================] - 0s 6ms/step - loss: 30.6192 - mae: 30.6192\n",
            "Epoch 453/500\n",
            "2/2 [==============================] - 0s 4ms/step - loss: 7.6541 - mae: 7.6541\n",
            "Epoch 454/500\n",
            "2/2 [==============================] - 0s 4ms/step - loss: 28.1428 - mae: 28.1428\n",
            "Epoch 455/500\n",
            "2/2 [==============================] - 0s 5ms/step - loss: 8.0017 - mae: 8.0017\n",
            "Epoch 456/500\n",
            "2/2 [==============================] - 0s 8ms/step - loss: 10.3933 - mae: 10.3933\n",
            "Epoch 457/500\n",
            "2/2 [==============================] - 0s 4ms/step - loss: 15.0242 - mae: 15.0242\n",
            "Epoch 458/500\n",
            "2/2 [==============================] - 0s 4ms/step - loss: 16.5653 - mae: 16.5653\n",
            "Epoch 459/500\n",
            "2/2 [==============================] - 0s 4ms/step - loss: 26.8566 - mae: 26.8566\n",
            "Epoch 460/500\n",
            "2/2 [==============================] - 0s 5ms/step - loss: 12.4852 - mae: 12.4852\n",
            "Epoch 461/500\n",
            "2/2 [==============================] - 0s 9ms/step - loss: 12.4784 - mae: 12.4784\n",
            "Epoch 462/500\n",
            "2/2 [==============================] - 0s 7ms/step - loss: 13.3186 - mae: 13.3186\n",
            "Epoch 463/500\n",
            "2/2 [==============================] - 0s 5ms/step - loss: 29.5524 - mae: 29.5524\n",
            "Epoch 464/500\n",
            "2/2 [==============================] - 0s 8ms/step - loss: 3.4664 - mae: 3.4664\n",
            "Epoch 465/500\n",
            "2/2 [==============================] - 0s 8ms/step - loss: 15.2136 - mae: 15.2136\n",
            "Epoch 466/500\n",
            "2/2 [==============================] - 0s 7ms/step - loss: 20.8327 - mae: 20.8327\n",
            "Epoch 467/500\n",
            "2/2 [==============================] - 0s 4ms/step - loss: 30.5108 - mae: 30.5108\n",
            "Epoch 468/500\n",
            "2/2 [==============================] - 0s 5ms/step - loss: 11.0598 - mae: 11.0598\n",
            "Epoch 469/500\n",
            "2/2 [==============================] - 0s 4ms/step - loss: 12.8372 - mae: 12.8372\n",
            "Epoch 470/500\n",
            "2/2 [==============================] - 0s 6ms/step - loss: 3.2398 - mae: 3.2398\n",
            "Epoch 471/500\n",
            "2/2 [==============================] - 0s 4ms/step - loss: 16.6964 - mae: 16.6964\n",
            "Epoch 472/500\n",
            "2/2 [==============================] - 0s 5ms/step - loss: 13.3883 - mae: 13.3883\n",
            "Epoch 473/500\n",
            "2/2 [==============================] - 0s 4ms/step - loss: 15.2771 - mae: 15.2771\n",
            "Epoch 474/500\n",
            "2/2 [==============================] - 0s 8ms/step - loss: 11.7448 - mae: 11.7448\n",
            "Epoch 475/500\n",
            "2/2 [==============================] - 0s 9ms/step - loss: 16.4113 - mae: 16.4113\n",
            "Epoch 476/500\n",
            "2/2 [==============================] - 0s 4ms/step - loss: 13.8785 - mae: 13.8785\n",
            "Epoch 477/500\n",
            "2/2 [==============================] - 0s 6ms/step - loss: 30.6702 - mae: 30.6702\n",
            "Epoch 478/500\n",
            "2/2 [==============================] - 0s 4ms/step - loss: 8.5880 - mae: 8.5880\n",
            "Epoch 479/500\n",
            "2/2 [==============================] - 0s 5ms/step - loss: 10.7384 - mae: 10.7384\n",
            "Epoch 480/500\n",
            "2/2 [==============================] - 0s 4ms/step - loss: 17.9051 - mae: 17.9051\n",
            "Epoch 481/500\n",
            "2/2 [==============================] - 0s 8ms/step - loss: 15.8094 - mae: 15.8094\n",
            "Epoch 482/500\n",
            "2/2 [==============================] - 0s 4ms/step - loss: 21.3054 - mae: 21.3054\n",
            "Epoch 483/500\n",
            "2/2 [==============================] - 0s 4ms/step - loss: 25.3845 - mae: 25.3845\n",
            "Epoch 484/500\n",
            "2/2 [==============================] - 0s 6ms/step - loss: 23.9816 - mae: 23.9816\n",
            "Epoch 485/500\n",
            "2/2 [==============================] - 0s 7ms/step - loss: 5.7734 - mae: 5.7734\n",
            "Epoch 486/500\n",
            "2/2 [==============================] - 0s 7ms/step - loss: 20.0011 - mae: 20.0011\n",
            "Epoch 487/500\n",
            "2/2 [==============================] - 0s 4ms/step - loss: 14.0419 - mae: 14.0419\n",
            "Epoch 488/500\n",
            "2/2 [==============================] - 0s 4ms/step - loss: 30.6088 - mae: 30.6088\n",
            "Epoch 489/500\n",
            "2/2 [==============================] - 0s 4ms/step - loss: 11.9409 - mae: 11.9409\n",
            "Epoch 490/500\n",
            "2/2 [==============================] - 0s 4ms/step - loss: 12.7352 - mae: 12.7352\n",
            "Epoch 491/500\n",
            "2/2 [==============================] - 0s 5ms/step - loss: 23.6139 - mae: 23.6139\n",
            "Epoch 492/500\n",
            "2/2 [==============================] - 0s 5ms/step - loss: 20.5365 - mae: 20.5365\n",
            "Epoch 493/500\n",
            "2/2 [==============================] - 0s 9ms/step - loss: 4.9942 - mae: 4.9942\n",
            "Epoch 494/500\n",
            "2/2 [==============================] - 0s 4ms/step - loss: 12.7987 - mae: 12.7987\n",
            "Epoch 495/500\n",
            "2/2 [==============================] - 0s 5ms/step - loss: 13.3772 - mae: 13.3772\n",
            "Epoch 496/500\n",
            "2/2 [==============================] - 0s 4ms/step - loss: 12.6727 - mae: 12.6727\n",
            "Epoch 497/500\n",
            "2/2 [==============================] - 0s 4ms/step - loss: 17.6192 - mae: 17.6192\n",
            "Epoch 498/500\n",
            "2/2 [==============================] - 0s 5ms/step - loss: 23.5629 - mae: 23.5629\n",
            "Epoch 499/500\n",
            "2/2 [==============================] - 0s 4ms/step - loss: 9.3755 - mae: 9.3755\n",
            "Epoch 500/500\n",
            "2/2 [==============================] - 0s 4ms/step - loss: 14.6316 - mae: 14.6316\n"
          ]
        },
        {
          "output_type": "execute_result",
          "data": {
            "text/plain": [
              "<keras.callbacks.History at 0x7f7378e2ac50>"
            ]
          },
          "metadata": {},
          "execution_count": 75
        }
      ]
    },
    {
      "cell_type": "code",
      "source": [
        "y_preds_3 = model_3.predict(x_test)\n",
        "plot_predictions(predictions=y_preds_3)"
      ],
      "metadata": {
        "colab": {
          "base_uri": "https://localhost:8080/",
          "height": 445
        },
        "id": "2ufkyrveyqSK",
        "outputId": "ec9c3956-b91b-48e1-d3b0-299cf3f42932"
      },
      "execution_count": 76,
      "outputs": [
        {
          "output_type": "stream",
          "name": "stdout",
          "text": [
            "1/1 [==============================] - 0s 46ms/step\n"
          ]
        },
        {
          "output_type": "display_data",
          "data": {
            "text/plain": [
              "<Figure size 720x504 with 1 Axes>"
            ],
            "image/png": "[encoded data removed]"
          },
          "metadata": {
            "needs_background": "light"
          }
        }
      ]
    },
    {
      "cell_type": "code",
      "source": [
        "mae_3 = mae(y_test,y_preds_3)\n",
        "mse_3 = mse(y_test,y_preds_3)"
      ],
      "metadata": {
        "id": "l8BPxBBLzZEb"
      },
      "execution_count": 77,
      "outputs": []
    },
    {
      "cell_type": "code",
      "source": [
        "mae_3,mse_3"
      ],
      "metadata": {
        "colab": {
          "base_uri": "https://localhost:8080/"
        },
        "id": "QRiBia8t0fZN",
        "outputId": "775f8bb0-223c-418c-bbab-c6b197511f6d"
      },
      "execution_count": 78,
      "outputs": [
        {
          "output_type": "execute_result",
          "data": {
            "text/plain": [
              "(<tf.Tensor: shape=(), dtype=float32, numpy=68.713615>,\n",
              " <tf.Tensor: shape=(), dtype=float32, numpy=4808.0273>)"
            ]
          },
          "metadata": {},
          "execution_count": 78
        }
      ]
    },
    {
      "cell_type": "markdown",
      "source": [
        "## Comparing the results of our experiments"
      ],
      "metadata": {
        "id": "yHlbVA2X0heM"
      }
    },
    {
      "cell_type": "code",
      "source": [
        "# Lets create a pandas dataframe\n",
        "import pandas as pd\n",
        "\n",
        "model_results=[\n",
        "    [\"model_1\",mae_1.numpy(),mse_1.numpy()],\n",
        "    [\"model_2\",mae_2.numpy(),mse_2.numpy()],\n",
        "    [\"model_3\",mae_3.numpy(),mse_3.numpy()]\n",
        "]\n",
        "all_results = pd.DataFrame(model_results,columns=[\"model\",\"mae\",\"mse\"])\n",
        "all_results"
      ],
      "metadata": {
        "colab": {
          "base_uri": "https://localhost:8080/",
          "height": 143
        },
        "id": "KF432QIE0ueD",
        "outputId": "d9b8c2ed-e5cf-4ffb-9ad7-99f2223e3119"
      },
      "execution_count": 83,
      "outputs": [
        {
          "output_type": "execute_result",
          "data": {
            "text/plain": [
              "     model        mae          mse\n",
              "0  model_1  18.745327   353.573364\n",
              "1  model_2   3.196940    13.070127\n",
              "2  model_3  68.713615  4808.027344"
            ],
            "text/html": [
              "\n",
              "  <div id=\"df-8033013a-8484-4307-b44e-bff30697f8b9\">\n",
              "    <div class=\"colab-df-container\">\n",
              "      <div>\n",
              "<style scoped>\n",
              "    .dataframe tbody tr th:only-of-type {\n",
              "        vertical-align: middle;\n",
              "    }\n",
              "\n",
              "    .dataframe tbody tr th {\n",
              "        vertical-align: top;\n",
              "    }\n",
              "\n",
              "    .dataframe thead th {\n",
              "        text-align: right;\n",
              "    }\n",
              "</style>\n",
              "<table border=\"1\" class=\"dataframe\">\n",
              "  <thead>\n",
              "    <tr style=\"text-align: right;\">\n",
              "      <th></th>\n",
              "      <th>model</th>\n",
              "      <th>mae</th>\n",
              "      <th>mse</th>\n",
              "    </tr>\n",
              "  </thead>\n",
              "  <tbody>\n",
              "    <tr>\n",
              "      <th>0</th>\n",
              "      <td>model_1</td>\n",
              "      <td>18.745327</td>\n",
              "      <td>353.573364</td>\n",
              "    </tr>\n",
              "    <tr>\n",
              "      <th>1</th>\n",
              "      <td>model_2</td>\n",
              "      <td>3.196940</td>\n",
              "      <td>13.070127</td>\n",
              "    </tr>\n",
              "    <tr>\n",
              "      <th>2</th>\n",
              "      <td>model_3</td>\n",
              "      <td>68.713615</td>\n",
              "      <td>4808.027344</td>\n",
              "    </tr>\n",
              "  </tbody>\n",
              "</table>\n",
              "</div>\n",
              "      <button class=\"colab-df-convert\" onclick=\"convertToInteractive('df-8033013a-8484-4307-b44e-bff30697f8b9')\"\n",
              "              title=\"Convert this dataframe to an interactive table.\"\n",
              "              style=\"display:none;\">\n",
              "        \n",
              "  <svg xmlns=\"http://www.w3.org/2000/svg\" height=\"24px\"viewBox=\"0 0 24 24\"\n",
              "       width=\"24px\">\n",
              "    <path d=\"M0 0h24v24H0V0z\" fill=\"none\"/>\n",
              "    <path d=\"M18.56 5.44l.94 2.06.94-2.06 2.06-.94-2.06-.94-.94-2.06-.94 2.06-2.06.94zm-11 1L8.5 8.5l.94-2.06 2.06-.94-2.06-.94L8.5 2.5l-.94 2.06-2.06.94zm10 10l.94 2.06.94-2.06 2.06-.94-2.06-.94-.94-2.06-.94 2.06-2.06.94z\"/><path d=\"M17.41 7.96l-1.37-1.37c-.4-.4-.92-.59-1.43-.59-.52 0-1.04.2-1.43.59L10.3 9.45l-7.72 7.72c-.78.78-.78 2.05 0 2.83L4 21.41c.39.39.9.59 1.41.59.51 0 1.02-.2 1.41-.59l7.78-7.78 2.81-2.81c.8-.78.8-2.07 0-2.86zM5.41 20L4 18.59l7.72-7.72 1.47 1.35L5.41 20z\"/>\n",
              "  </svg>\n",
              "      </button>\n",
              "      \n",
              "  <style>\n",
              "    .colab-df-container {\n",
              "      display:flex;\n",
              "      flex-wrap:wrap;\n",
              "      gap: 12px;\n",
              "    }\n",
              "\n",
              "    .colab-df-convert {\n",
              "      background-color: #E8F0FE;\n",
              "      border: none;\n",
              "      border-radius: 50%;\n",
              "      cursor: pointer;\n",
              "      display: none;\n",
              "      fill: #1967D2;\n",
              "      height: 32px;\n",
              "      padding: 0 0 0 0;\n",
              "      width: 32px;\n",
              "    }\n",
              "\n",
              "    .colab-df-convert:hover {\n",
              "      background-color: #E2EBFA;\n",
              "      box-shadow: 0px 1px 2px rgba(60, 64, 67, 0.3), 0px 1px 3px 1px rgba(60, 64, 67, 0.15);\n",
              "      fill: #174EA6;\n",
              "    }\n",
              "\n",
              "    [theme=dark] .colab-df-convert {\n",
              "      background-color: #3B4455;\n",
              "      fill: #D2E3FC;\n",
              "    }\n",
              "\n",
              "    [theme=dark] .colab-df-convert:hover {\n",
              "      background-color: #434B5C;\n",
              "      box-shadow: 0px 1px 3px 1px rgba(0, 0, 0, 0.15);\n",
              "      filter: drop-shadow(0px 1px 2px rgba(0, 0, 0, 0.3));\n",
              "      fill: #FFFFFF;\n",
              "    }\n",
              "  </style>\n",
              "\n",
              "      <script>\n",
              "        const buttonEl =\n",
              "          document.querySelector('#df-8033013a-8484-4307-b44e-bff30697f8b9 button.colab-df-convert');\n",
              "        buttonEl.style.display =\n",
              "          google.colab.kernel.accessAllowed ? 'block' : 'none';\n",
              "\n",
              "        async function convertToInteractive(key) {\n",
              "          const element = document.querySelector('#df-8033013a-8484-4307-b44e-bff30697f8b9');\n",
              "          const dataTable =\n",
              "            await google.colab.kernel.invokeFunction('convertToInteractive',\n",
              "                                                     [key], {});\n",
              "          if (!dataTable) return;\n",
              "\n",
              "          const docLinkHtml = 'Like what you see? Visit the ' +\n",
              "            '<a target=\"_blank\" href=https://colab.research.google.com/notebooks/data_table.ipynb>data table notebook</a>'\n",
              "            + ' to learn more about interactive tables.';\n",
              "          element.innerHTML = '';\n",
              "          dataTable['output_type'] = 'display_data';\n",
              "          await google.colab.output.renderOutput(dataTable, element);\n",
              "          const docLink = document.createElement('div');\n",
              "          docLink.innerHTML = docLinkHtml;\n",
              "          element.appendChild(docLink);\n",
              "        }\n",
              "      </script>\n",
              "    </div>\n",
              "  </div>\n",
              "  "
            ]
          },
          "metadata": {},
          "execution_count": 83
        }
      ]
    },
    {
      "cell_type": "code",
      "source": [
        "model_2.summary()"
      ],
      "metadata": {
        "colab": {
          "base_uri": "https://localhost:8080/"
        },
        "id": "hioPTO_m2KLi",
        "outputId": "05fe44aa-4a07-43b9-d1b0-263be0e140be"
      },
      "execution_count": 84,
      "outputs": [
        {
          "output_type": "stream",
          "name": "stdout",
          "text": [
            "Model: \"sequential_9\"\n",
            "_________________________________________________________________\n",
            " Layer (type)                Output Shape              Param #   \n",
            "=================================================================\n",
            " dense_12 (Dense)            (None, 10)                20        \n",
            "                                                                 \n",
            " dense_13 (Dense)            (None, 1)                 11        \n",
            "                                                                 \n",
            "=================================================================\n",
            "Total params: 31\n",
            "Trainable params: 31\n",
            "Non-trainable params: 0\n",
            "_________________________________________________________________\n"
          ]
        }
      ]
    },
    {
      "cell_type": "markdown",
      "source": [
        "## Traking your experiments\n",
        "\n",
        "One good habit is to track the esults of your experiments.\n",
        "\n",
        "And when doing so it can be tedious if you are running lots of experiments\n",
        "\n",
        "luckily there are tools to help\n",
        "\n",
        "* Tensor Board\n",
        "* Weights and Biases"
      ],
      "metadata": {
        "id": "gaOQE88n2rab"
      }
    },
    {
      "cell_type": "markdown",
      "source": [
        "## Saving our models\n",
        " There are two formats in which we can save models\n",
        " 1. The Save Model Format\n",
        " 2. The HDF5 Format"
      ],
      "metadata": {
        "id": "7doIIMcQ38Lx"
      }
    },
    {
      "cell_type": "code",
      "source": [
        "# Save a model using the saved model format\n",
        "\n",
        "model_2.save(\"best_model_saved_model_format\")"
      ],
      "metadata": {
        "id": "0_sH8-PJ3_9Z"
      },
      "execution_count": 85,
      "outputs": []
    },
    {
      "cell_type": "code",
      "source": [
        "# Save model using the HDF5 format\n",
        "model_2.save(\"best_model_HDF5_format.h5\")"
      ],
      "metadata": {
        "id": "moOjXHHa5LiC"
      },
      "execution_count": 86,
      "outputs": []
    },
    {
      "cell_type": "markdown",
      "source": [
        "## Loading our model and evaluating them"
      ],
      "metadata": {
        "id": "CfLiG-V953QA"
      }
    },
    {
      "cell_type": "code",
      "source": [
        "# Load in the saved model format model\n",
        "loaded_saved_model_format = tf.keras.models.load_model(\"best_model_saved_model_format\")\n",
        "loaded_saved_model_format.summary()"
      ],
      "metadata": {
        "colab": {
          "base_uri": "https://localhost:8080/"
        },
        "id": "f67uZvi66RYz",
        "outputId": "6040568c-a0e1-455a-e031-540a80ed4b08"
      },
      "execution_count": 90,
      "outputs": [
        {
          "output_type": "stream",
          "name": "stdout",
          "text": [
            "Model: \"sequential_9\"\n",
            "_________________________________________________________________\n",
            " Layer (type)                Output Shape              Param #   \n",
            "=================================================================\n",
            " dense_12 (Dense)            (None, 10)                20        \n",
            "                                                                 \n",
            " dense_13 (Dense)            (None, 1)                 11        \n",
            "                                                                 \n",
            "=================================================================\n",
            "Total params: 31\n",
            "Trainable params: 31\n",
            "Non-trainable params: 0\n",
            "_________________________________________________________________\n"
          ]
        }
      ]
    },
    {
      "cell_type": "code",
      "source": [
        "# Compare model_2 predictions with SavedModel format model predictions\n",
        "model_2_preds = model_2.predict(x_test)\n",
        "loaded_SavedModel_format_preds = loaded_saved_model_format.predict(x_test)\n",
        "model_2_preds == loaded_SavedModel_format_preds"
      ],
      "metadata": {
        "colab": {
          "base_uri": "https://localhost:8080/"
        },
        "id": "PGAadpk763DA",
        "outputId": "aabba91f-cf7a-4f83-9d38-caff4a935db5"
      },
      "execution_count": 92,
      "outputs": [
        {
          "output_type": "stream",
          "name": "stdout",
          "text": [
            "1/1 [==============================] - 0s 19ms/step\n",
            "1/1 [==============================] - 0s 17ms/step\n"
          ]
        },
        {
          "output_type": "execute_result",
          "data": {
            "text/plain": [
              "array([[ True],\n",
              "       [ True],\n",
              "       [ True],\n",
              "       [ True],\n",
              "       [ True],\n",
              "       [ True],\n",
              "       [ True],\n",
              "       [ True],\n",
              "       [ True],\n",
              "       [ True]])"
            ]
          },
          "metadata": {},
          "execution_count": 92
        }
      ]
    },
    {
      "cell_type": "code",
      "source": [
        "mae(y_true=y_test,y_preds=model_2_preds) == mae(y_true=y_test,y_preds=loaded_SavedModel_format_preds)"
      ],
      "metadata": {
        "colab": {
          "base_uri": "https://localhost:8080/"
        },
        "id": "hAoiYyJe783E",
        "outputId": "1b1010bd-ba26-4cb9-a7e0-d30550b73654"
      },
      "execution_count": 93,
      "outputs": [
        {
          "output_type": "execute_result",
          "data": {
            "text/plain": [
              "<tf.Tensor: shape=(), dtype=bool, numpy=True>"
            ]
          },
          "metadata": {},
          "execution_count": 93
        }
      ]
    },
    {
      "cell_type": "code",
      "source": [
        " # Load in model using the .HDF5 format\n",
        " loaded_h5_model = tf.keras.models.load_model('best_model_HDF5_format.h5')\n",
        " loaded_h5_model.summary()"
      ],
      "metadata": {
        "colab": {
          "base_uri": "https://localhost:8080/"
        },
        "id": "b2jC460W8f_n",
        "outputId": "ff695f6f-30a9-467e-f292-9c82d13cdd21"
      },
      "execution_count": 95,
      "outputs": [
        {
          "output_type": "stream",
          "name": "stdout",
          "text": [
            "Model: \"sequential_9\"\n",
            "_________________________________________________________________\n",
            " Layer (type)                Output Shape              Param #   \n",
            "=================================================================\n",
            " dense_12 (Dense)            (None, 10)                20        \n",
            "                                                                 \n",
            " dense_13 (Dense)            (None, 1)                 11        \n",
            "                                                                 \n",
            "=================================================================\n",
            "Total params: 31\n",
            "Trainable params: 31\n",
            "Non-trainable params: 0\n",
            "_________________________________________________________________\n"
          ]
        }
      ]
    },
    {
      "cell_type": "code",
      "source": [
        "# Compare model_2 predictions with HDF5 model predictions\n",
        "model_2_preds = model_2.predict(x_test)\n",
        "loaded_h5_format_preds = loaded_h5_model.predict(x_test)\n",
        "model_2_preds == loaded_h5_format_preds"
      ],
      "metadata": {
        "colab": {
          "base_uri": "https://localhost:8080/"
        },
        "id": "EbiKKYx69Udq",
        "outputId": "bf74044a-ba10-45c8-d7ee-1e23b3165e19"
      },
      "execution_count": 96,
      "outputs": [
        {
          "output_type": "stream",
          "name": "stdout",
          "text": [
            "1/1 [==============================] - 0s 30ms/step\n",
            "1/1 [==============================] - 0s 66ms/step\n"
          ]
        },
        {
          "output_type": "execute_result",
          "data": {
            "text/plain": [
              "array([[ True],\n",
              "       [ True],\n",
              "       [ True],\n",
              "       [ True],\n",
              "       [ True],\n",
              "       [ True],\n",
              "       [ True],\n",
              "       [ True],\n",
              "       [ True],\n",
              "       [ True]])"
            ]
          },
          "metadata": {},
          "execution_count": 96
        }
      ]
    },
    {
      "cell_type": "code",
      "source": [],
      "metadata": {
        "id": "jN_3W1Sa9uAO"
      },
      "execution_count": null,
      "outputs": []
    }
  ]
}